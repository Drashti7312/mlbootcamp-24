{
 "cells": [
  {
   "cell_type": "code",
   "execution_count": null,
   "id": "27fc866a-2cc6-47bd-a24b-38395e5ad34f",
   "metadata": {
    "tags": []
   },
   "outputs": [],
   "source": [
    "import numpy as np\n",
    "import pandas as pd\n",
    "import matplotlib.pyplot as plt\n",
    "import seaborn as sns\n",
    "\n",
    "%matplotlib inline\n",
    "\n",
    "\n",
    "## Display all the columns of the dataframes\n",
    "pd.pandas.set_option('display.max_columns',None)\n",
    "import warnings\n",
    "warnings.filterwarnings(\"ignore\")"
   ]
  },
  {
   "cell_type": "code",
   "execution_count": null,
   "id": "64b1ec20-804c-448c-89c3-8addd0540cc8",
   "metadata": {
    "tags": []
   },
   "outputs": [],
   "source": [
    "\n",
    "dataset = pd.read_csv(\"train.csv\")"
   ]
  },
  {
   "cell_type": "code",
   "execution_count": null,
   "id": "02fab268-0fa8-4409-a8f6-bacd72b94297",
   "metadata": {
    "tags": []
   },
   "outputs": [],
   "source": [
    "!pip install ydata_profiling"
   ]
  },
  {
   "cell_type": "code",
   "execution_count": null,
   "id": "43fe7985-0d85-4e2b-86e7-1900ccbdceb0",
   "metadata": {
    "tags": []
   },
   "outputs": [],
   "source": [
    "from ydata_profiling import ProfileReport\n",
    "import pandas as pd\n",
    "\n",
    "df = pd.read_csv(\"train.csv\")\n",
    "profile = ProfileReport(df, title=\"Housing Data\")\n",
    "profile.to_notebook_iframe()\n",
    "profile.to_file(\"books_data.html\")"
   ]
  },
  {
   "cell_type": "code",
   "execution_count": null,
   "id": "2470f2bc-8327-4bf3-a70a-b41ad3106d77",
   "metadata": {},
   "outputs": [],
   "source": []
  },
  {
   "cell_type": "code",
   "execution_count": null,
   "id": "b15ca0b5-550b-49f9-9e26-3a792d88526d",
   "metadata": {},
   "outputs": [],
   "source": []
  },
  {
   "cell_type": "code",
   "execution_count": null,
   "id": "4479d397-0d2c-4621-86ce-6b8def9e24b6",
   "metadata": {
    "tags": []
   },
   "outputs": [],
   "source": [
    "dataset.head()"
   ]
  },
  {
   "cell_type": "code",
   "execution_count": null,
   "id": "a99b41b8-67d6-414b-99ba-657dd662801c",
   "metadata": {
    "tags": []
   },
   "outputs": [],
   "source": [
    "dataset.shape"
   ]
  },
  {
   "cell_type": "markdown",
   "id": "0886487d-75ef-4bb1-82c5-de2ffd107ab4",
   "metadata": {
    "tags": []
   },
   "source": [
    "# In Data Analytics, we will analyze the below stuff :-\n",
    "\n",
    "1. Missing Values\n",
    "2. All the numeric variables\n",
    "3. Distributon of  Numeric variables\n",
    "4. Categorical Variables\n",
    "5. Correlation\n",
    "6. Relationship between dependent and independent variables\n",
    "7. Outlier"
   ]
  },
  {
   "cell_type": "code",
   "execution_count": null,
   "id": "ac86580a-6351-41d8-9e60-69cefc7b9d50",
   "metadata": {},
   "outputs": [],
   "source": []
  },
  {
   "cell_type": "code",
   "execution_count": null,
   "id": "75525b2a-9d9a-4bd2-a3a6-385519b9c1dc",
   "metadata": {
    "tags": []
   },
   "outputs": [],
   "source": [
    "# Missing Values\n",
    "\n",
    "dataset.isnull().sum()"
   ]
  },
  {
   "cell_type": "code",
   "execution_count": null,
   "id": "2e75ca19-f75d-4b80-9b62-04504dd90560",
   "metadata": {
    "tags": []
   },
   "outputs": [],
   "source": [
    "features_with_na = [features for features in dataset.columns if dataset[features].isnull().sum() !=0]"
   ]
  },
  {
   "cell_type": "code",
   "execution_count": null,
   "id": "4d96ddbd-9770-486f-8712-32732a6eaf8e",
   "metadata": {
    "tags": []
   },
   "outputs": [],
   "source": [
    "features_with_na"
   ]
  },
  {
   "cell_type": "code",
   "execution_count": null,
   "id": "97152747-ba5c-4a46-8529-864028fb8803",
   "metadata": {
    "tags": []
   },
   "outputs": [],
   "source": [
    "for missing_feature in features_with_na:\n",
    "    print(missing_feature, np.round(dataset[missing_feature].isnull().sum()/ len(dataset[missing_feature])* 100,4), ' % missing values')\n",
    "    \n",
    "# not gonna drop right now, doing EDA only"
   ]
  },
  {
   "cell_type": "code",
   "execution_count": null,
   "id": "e60fd39c-d2ee-4223-964d-31fc2e3a4682",
   "metadata": {},
   "outputs": [],
   "source": []
  },
  {
   "cell_type": "code",
   "execution_count": null,
   "id": "cd3cb952-4e7e-43ca-a2ff-1954060b5607",
   "metadata": {
    "tags": []
   },
   "outputs": [],
   "source": [
    "sns.boxplot(dataset['SalePrice'])"
   ]
  },
  {
   "cell_type": "code",
   "execution_count": null,
   "id": "2e835d72-662f-47ff-9df4-80f2be162448",
   "metadata": {
    "tags": []
   },
   "outputs": [],
   "source": [
    "data[\"SalePrice\"].plot.bar()"
   ]
  },
  {
   "cell_type": "code",
   "execution_count": null,
   "id": "f4bf5ad2-60b9-4589-a4b4-1d9fdcb95ebb",
   "metadata": {
    "tags": []
   },
   "outputs": [],
   "source": [
    "data = dataset.copy()\n",
    "for feature in features_with_na:\n",
    "    # we are gonna change missing value to 1 and non missing to 0\n",
    "    data[feature] = np.where(data[feature].isnull(),1,0)\n",
    "    \n",
    "    # Let calculate the mewdian saleprice where the information is missing or present\n",
    "    data.groupby(feature)['SalePrice'].median().plot.bar()\n",
    "    plt.title(feature)\n",
    "    plt.show()"
   ]
  },
  {
   "cell_type": "markdown",
   "id": "de6d1dc8-d7bb-4027-b471-ccfdb3ce96e7",
   "metadata": {},
   "source": [
    "## Here With the relation between the missing values and the dependent variable is clearly visible.So We need to replace these nan values with something meaningful which we will do in the Feature Engineering section"
   ]
  },
  {
   "cell_type": "code",
   "execution_count": null,
   "id": "fed667ab-1ddd-4d9c-bf35-3d969dd0635b",
   "metadata": {},
   "outputs": [],
   "source": []
  },
  {
   "cell_type": "markdown",
   "id": "4cc8d51b-3f70-4cdf-a207-570cbc149e82",
   "metadata": {
    "tags": []
   },
   "source": [
    "# Numerical Features"
   ]
  },
  {
   "cell_type": "code",
   "execution_count": null,
   "id": "8ba9e225-3a0d-4184-9409-5fddfebb737d",
   "metadata": {
    "tags": []
   },
   "outputs": [],
   "source": [
    "dataset.info()"
   ]
  },
  {
   "cell_type": "code",
   "execution_count": null,
   "id": "16336a29-d06d-49e1-a078-f3e5301069c8",
   "metadata": {
    "tags": []
   },
   "outputs": [],
   "source": [
    "dataset['Fence'].dtypes == 'object'\n",
    "\n",
    "#'O' == 'object'  # for condition checking"
   ]
  },
  {
   "cell_type": "markdown",
   "id": "b0bd2ccd-0ecb-441a-bb47-a2c6bb5494b2",
   "metadata": {
    "tags": []
   },
   "source": [
    "# getting all numerical  data"
   ]
  },
  {
   "cell_type": "code",
   "execution_count": null,
   "id": "b2af1619-253c-4f15-a802-87526364a0b2",
   "metadata": {
    "tags": []
   },
   "outputs": [],
   "source": [
    "numerical_features = [ feature for feature in dataset.columns if dataset[feature].dtypes !='object']"
   ]
  },
  {
   "cell_type": "code",
   "execution_count": null,
   "id": "c1fed07f-45a2-4e03-b1f6-f5fa104a064a",
   "metadata": {
    "tags": []
   },
   "outputs": [],
   "source": [
    "print(len(numerical_features))"
   ]
  },
  {
   "cell_type": "code",
   "execution_count": null,
   "id": "b145682a-0238-4c61-bda8-cec463e8a02a",
   "metadata": {},
   "outputs": [],
   "source": []
  },
  {
   "cell_type": "code",
   "execution_count": null,
   "id": "e8478e81-f1cb-4cc2-888b-3d8b5e350f0d",
   "metadata": {
    "tags": []
   },
   "outputs": [],
   "source": [
    "dataset[numerical_features].head()"
   ]
  },
  {
   "cell_type": "code",
   "execution_count": null,
   "id": "edf90d9d-337a-4b31-8969-10681a57e5f9",
   "metadata": {},
   "outputs": [],
   "source": []
  },
  {
   "cell_type": "code",
   "execution_count": null,
   "id": "e3dd6503-58ad-4d14-a2f6-e2cb2b93c37e",
   "metadata": {},
   "outputs": [],
   "source": []
  },
  {
   "cell_type": "code",
   "execution_count": null,
   "id": "cf66135b-729e-437d-899a-e86998ddcbe2",
   "metadata": {
    "tags": []
   },
   "outputs": [],
   "source": [
    "import datetime\n",
    "datetime.datetime.now()"
   ]
  },
  {
   "cell_type": "markdown",
   "id": "e50b4ae0-d164-4a82-8a2f-2dd7eea644bf",
   "metadata": {
    "tags": []
   },
   "source": [
    "# Temporal Variables"
   ]
  },
  {
   "cell_type": "code",
   "execution_count": null,
   "id": "74fb3e48-5ac5-4fc7-a82b-33812f97c358",
   "metadata": {
    "tags": []
   },
   "outputs": [],
   "source": [
    "# relating to time: "
   ]
  },
  {
   "cell_type": "code",
   "execution_count": null,
   "id": "c05554a4-80ee-40c9-88cf-d6499587d95c",
   "metadata": {
    "tags": []
   },
   "outputs": [],
   "source": [
    "a = 'Yr year'\n",
    "\n",
    "\n",
    "'yr' in a.lower()"
   ]
  },
  {
   "cell_type": "markdown",
   "id": "199446c9-c7c3-49c7-92c2-5ed115abe644",
   "metadata": {
    "tags": []
   },
   "source": []
  },
  {
   "cell_type": "code",
   "execution_count": null,
   "id": "246c6c75-adbd-4675-b3ba-6ea64e07f902",
   "metadata": {
    "tags": []
   },
   "outputs": [],
   "source": [
    "temporal_var = [feature for feature in numerical_features if 'yr' in feature.lower() or 'year' in feature.lower() ]"
   ]
  },
  {
   "cell_type": "code",
   "execution_count": null,
   "id": "68ee0c26-e7b2-4391-a1f0-d540beebbb5f",
   "metadata": {
    "tags": []
   },
   "outputs": [],
   "source": [
    "temporal_var"
   ]
  },
  {
   "cell_type": "code",
   "execution_count": null,
   "id": "3ebbe59c-8c93-4b8d-8687-a39c3f736dc1",
   "metadata": {
    "tags": []
   },
   "outputs": [],
   "source": [
    "for year_feature in temporal_var:\n",
    "    print ( year_feature, dataset[year_feature].unique())"
   ]
  },
  {
   "cell_type": "code",
   "execution_count": null,
   "id": "6b522bbf-a754-4801-9222-08335854e5cd",
   "metadata": {},
   "outputs": [],
   "source": [
    "dataset['Age of house'] = dataset['YrSold'] - data['YearBuilt']"
   ]
  },
  {
   "cell_type": "code",
   "execution_count": null,
   "id": "b59ce125-b2a7-4edd-898f-1b6458adb316",
   "metadata": {
    "tags": []
   },
   "outputs": [],
   "source": [
    "dataset.groupby('YrSold')['SalePrice'].median().plot()\n",
    "plt.xlabel('Year Sold')\n",
    "plt.ylabel('Median House Sales Price')\n",
    "plt.title('House Price vs Year Sold')"
   ]
  },
  {
   "cell_type": "code",
   "execution_count": null,
   "id": "b673476d-7220-4feb-a8b0-befcde14faaf",
   "metadata": {},
   "outputs": [],
   "source": []
  },
  {
   "cell_type": "code",
   "execution_count": null,
   "id": "c8f98c7e-f3f8-482c-8844-4e5df5f91a30",
   "metadata": {},
   "outputs": [],
   "source": []
  },
  {
   "cell_type": "code",
   "execution_count": null,
   "id": "9647e725-d526-4915-b126-ea7229210635",
   "metadata": {
    "tags": []
   },
   "outputs": [],
   "source": [
    "data = dataset.copy()\n",
    "\n",
    "for time_feature in temporal_var:\n",
    "    \n",
    "    if time_feature !='YrSold':\n",
    "        data[time_feature] = data['YrSold'] - data[time_feature]\n",
    " \n",
    "        plt.scatter(data[time_feature],data['SalePrice'])\n",
    "        plt.xlabel(time_feature)\n",
    "        plt.ylabel('Sales Price')\n",
    "        plt.title('House Price vs' +  time_feature)\n",
    "        plt.show()"
   ]
  },
  {
   "cell_type": "code",
   "execution_count": null,
   "id": "5c05e181-aefc-4119-bb04-db7c241355df",
   "metadata": {
    "tags": []
   },
   "outputs": [],
   "source": [
    "\n",
    "\n",
    "# Numerical Varibels\n",
    "\n",
    "# Continous & Discrete"
   ]
  },
  {
   "cell_type": "code",
   "execution_count": null,
   "id": "8c450c41-ce3d-4916-a094-98fb962b3fd6",
   "metadata": {
    "tags": []
   },
   "outputs": [],
   "source": [
    "discrete_features = [ feature for feature in numerical_features if len(dataset[feature].unique()) <=25]"
   ]
  },
  {
   "cell_type": "code",
   "execution_count": null,
   "id": "6eefe59e-4d37-49a3-8421-199120005812",
   "metadata": {
    "tags": []
   },
   "outputs": [],
   "source": [
    "discrete_features"
   ]
  },
  {
   "cell_type": "code",
   "execution_count": null,
   "id": "09e96821-5ecf-485e-b454-913f05456423",
   "metadata": {
    "tags": []
   },
   "outputs": [],
   "source": [
    "dataset[discrete_features].head()"
   ]
  },
  {
   "cell_type": "code",
   "execution_count": null,
   "id": "2d388bbd-6f06-4ca3-8ee1-c3da7d2b08d7",
   "metadata": {
    "tags": []
   },
   "outputs": [],
   "source": [
    "data = dataset.copy()\n",
    "\n",
    "for discrete_feature in discrete_features:\n",
    "\n",
    "    data.groupby(discrete_feature)['SalePrice'].median().plot.bar()\n",
    "    plt.xlabel(discrete_feature)\n",
    "    plt.ylabel('Sales Price')\n",
    "    plt.title('House Price vs' +  time_feature)\n",
    "    plt.show()"
   ]
  },
  {
   "cell_type": "markdown",
   "id": "bada3d69-31ea-46ec-96a2-af9e653515f1",
   "metadata": {
    "tags": []
   },
   "source": [
    "# There is a relationship between discrete variables and Sale Price, \n",
    "\n",
    "# now let us move to continous Features"
   ]
  },
  {
   "cell_type": "code",
   "execution_count": null,
   "id": "8eac83ac-0b79-4fdf-a626-879c49ca4047",
   "metadata": {},
   "outputs": [],
   "source": []
  },
  {
   "cell_type": "code",
   "execution_count": null,
   "id": "e1d2178f-ff0b-44d3-8d30-b41f57f5a8dc",
   "metadata": {
    "tags": []
   },
   "outputs": [],
   "source": [
    "continous_features = [ feature for feature in numerical_features if feature not in discrete_features]"
   ]
  },
  {
   "cell_type": "code",
   "execution_count": null,
   "id": "dfc61fa3-b4eb-4f57-a271-9b3be6d1af55",
   "metadata": {
    "tags": []
   },
   "outputs": [],
   "source": [
    "continous_features"
   ]
  },
  {
   "cell_type": "code",
   "execution_count": null,
   "id": "dad751bb-0818-4e0e-a816-856726a1d621",
   "metadata": {
    "tags": []
   },
   "outputs": [],
   "source": [
    "data = dataset.copy()\n",
    "\n",
    "for continous_feature in continous_features:\n",
    "\n",
    "    data.groupby(continous_feature)['SalePrice'].median().plot.hist()\n",
    "    plt.xlabel(continous_feature)\n",
    "    plt.ylabel('Sales Price')\n",
    "    plt.title('House Price vs ' +  continous_feature)\n",
    "    plt.show()"
   ]
  },
  {
   "cell_type": "code",
   "execution_count": null,
   "id": "0fe6ee65-f41d-453b-bb21-366931981d17",
   "metadata": {
    "tags": []
   },
   "outputs": [],
   "source": [
    "data = dataset.copy()\n",
    "\n",
    "for feature in continous_features:\n",
    "    data[feature].hist(bins=25)\n",
    "    plt.xlabel(feature)\n",
    "    plt.ylabel(\"count\")\n",
    "    plt.title(feature)\n",
    "    plt.show()"
   ]
  },
  {
   "cell_type": "code",
   "execution_count": null,
   "id": "dcbb58ae-976b-4e1a-9db0-690e65009d95",
   "metadata": {},
   "outputs": [],
   "source": []
  },
  {
   "cell_type": "code",
   "execution_count": null,
   "id": "d59a1c80-4a27-4ab5-b550-f8a1ace818e3",
   "metadata": {},
   "outputs": [],
   "source": []
  },
  {
   "cell_type": "code",
   "execution_count": null,
   "id": "90e61018-145d-4e5b-bcea-6eba6b11c18a",
   "metadata": {},
   "outputs": [],
   "source": []
  },
  {
   "cell_type": "code",
   "execution_count": null,
   "id": "49c59b00-3d1e-4c15-8059-d633f8628362",
   "metadata": {},
   "outputs": [],
   "source": []
  },
  {
   "cell_type": "code",
   "execution_count": null,
   "id": "fe16dc8d-9f5c-49e5-84bb-107c5f7bf1d8",
   "metadata": {},
   "outputs": [],
   "source": []
  },
  {
   "cell_type": "markdown",
   "id": "025869a1-1ff0-42df-b788-de58113df0e0",
   "metadata": {},
   "source": [
    "# Outliers"
   ]
  },
  {
   "cell_type": "code",
   "execution_count": null,
   "id": "53b56526-8fdf-428e-b6a0-a453bcb2a040",
   "metadata": {
    "tags": []
   },
   "outputs": [],
   "source": [
    "data = dataset.copy()\n",
    "\n",
    "for feature in continous_features:\n",
    "    \n",
    "    if ( 0 in data[feature].unique()):\n",
    "        pass\n",
    "    else:\n",
    "        data[feature] = np.log(data[feature])\n",
    "        data.boxplot(column=feature)\n",
    "        plt.ylabel(feature)\n",
    "        plt.title(\"Outliers in \" + feature)\n",
    "        plt.show()"
   ]
  },
  {
   "cell_type": "code",
   "execution_count": null,
   "id": "d14f4f95-f60a-4933-ba27-3e6a751afabf",
   "metadata": {
    "tags": []
   },
   "outputs": [],
   "source": [
    "dataset['SalePrice'].hist()"
   ]
  },
  {
   "cell_type": "code",
   "execution_count": null,
   "id": "21cb7ef9-65e1-40dc-a34b-570506ab028a",
   "metadata": {
    "tags": []
   },
   "outputs": [],
   "source": [
    "sns.histplot((dataset['SalePrice']),kde=True)"
   ]
  },
  {
   "cell_type": "code",
   "execution_count": null,
   "id": "0c408504-9f96-4a53-9679-21c3545e5eac",
   "metadata": {
    "tags": []
   },
   "outputs": [],
   "source": [
    "sns.histplot((np.log(dataset['SalePrice'])),kde=True)"
   ]
  },
  {
   "cell_type": "code",
   "execution_count": null,
   "id": "b557727a-1b67-4475-b006-2dec6a2bd472",
   "metadata": {},
   "outputs": [],
   "source": []
  },
  {
   "cell_type": "markdown",
   "id": "fdee7d2e-138a-43be-ba48-590efa8190d7",
   "metadata": {},
   "source": [
    "# Categorical "
   ]
  },
  {
   "cell_type": "code",
   "execution_count": null,
   "id": "4f8f5675-e9a5-44a9-94df-7f386eae7a40",
   "metadata": {
    "tags": []
   },
   "outputs": [],
   "source": [
    "categorical_feature = [feature for feature in dataset.columns if dataset[feature].dtypes == 'O']"
   ]
  },
  {
   "cell_type": "code",
   "execution_count": null,
   "id": "1684cdde-a101-413c-8d78-83d6d8a63ac7",
   "metadata": {
    "tags": []
   },
   "outputs": [],
   "source": [
    "categorical_feature"
   ]
  },
  {
   "cell_type": "code",
   "execution_count": null,
   "id": "4026a6f9-d1bc-4b08-9d1b-2e3b1fa91e1f",
   "metadata": {
    "tags": []
   },
   "outputs": [],
   "source": [
    "len(dataset['MSZoning'].unique())"
   ]
  },
  {
   "cell_type": "code",
   "execution_count": null,
   "id": "481a4635-e680-42ad-aaa8-f7575c3fb4ae",
   "metadata": {
    "tags": []
   },
   "outputs": [],
   "source": [
    "for feature in categorical_feature:\n",
    "    print('The number of categories in {} is equal to  {}'.format(feature ,len(dataset[feature].unique())))"
   ]
  },
  {
   "cell_type": "code",
   "execution_count": null,
   "id": "5bacd4e7-c10a-46b7-908e-8a9693637aac",
   "metadata": {
    "tags": []
   },
   "outputs": [],
   "source": [
    "for feature in categorical_feature:\n",
    "    print(f'The number of categories in {feature} is equal to  {len(dataset[feature].unique())}')"
   ]
  },
  {
   "cell_type": "code",
   "execution_count": null,
   "id": "ae4eba3a-f514-4e18-a1c1-25075dc570ae",
   "metadata": {},
   "outputs": [],
   "source": []
  },
  {
   "cell_type": "code",
   "execution_count": null,
   "id": "37dd9ba0-a0bc-4010-9b05-e5bfbb40610c",
   "metadata": {},
   "outputs": [],
   "source": []
  },
  {
   "cell_type": "code",
   "execution_count": null,
   "id": "249651c5-bb25-412b-9114-0d49f835aaf4",
   "metadata": {
    "tags": []
   },
   "outputs": [],
   "source": [
    "data = dataset.copy()\n",
    "\n",
    "for feature in categorical_feature:\n",
    "    data.groupby(feature)['SalePrice'].median().plot.bar()\n",
    "    plt.xlabel(feature)\n",
    "    plt.ylabel('SalePrice')\n",
    "    plt.title('SalePrice vs ' + feature)\n",
    "    plt.show()"
   ]
  }
 ],
 "metadata": {
  "kernelspec": {
   "display_name": "Python 3 (ipykernel)",
   "language": "python",
   "name": "python3"
  },
  "language_info": {
   "codemirror_mode": {
    "name": "ipython",
    "version": 3
   },
   "file_extension": ".py",
   "mimetype": "text/x-python",
   "name": "python",
   "nbconvert_exporter": "python",
   "pygments_lexer": "ipython3",
   "version": "3.11.5"
  }
 },
 "nbformat": 4,
 "nbformat_minor": 5
}
