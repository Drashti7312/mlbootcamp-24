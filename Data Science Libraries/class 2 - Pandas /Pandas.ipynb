{
 "cells": [
  {
   "cell_type": "code",
   "execution_count": null,
   "id": "7954504b-4493-45cd-ab11-7018f2ccfedb",
   "metadata": {
    "tags": []
   },
   "outputs": [],
   "source": [
    "import pandas as pd\n",
    "import numpy as np\n",
    "\n",
    "pd.set_option('display.max_columns', None)"
   ]
  },
  {
   "cell_type": "code",
   "execution_count": null,
   "id": "7221b428-178f-428c-b5e5-203663dc8fd1",
   "metadata": {
    "tags": []
   },
   "outputs": [],
   "source": [
    "df1 = pd.DataFrame({\"col1\":[\"one\",\"one2\"],\"col2\":[\"two\",\"two2\"]},index=[0,1])"
   ]
  },
  {
   "cell_type": "code",
   "execution_count": null,
   "id": "f211e6c6-8ada-46d5-a68a-27a93464b754",
   "metadata": {
    "tags": []
   },
   "outputs": [],
   "source": [
    "df1"
   ]
  },
  {
   "cell_type": "code",
   "execution_count": null,
   "id": "cc50bc13-509b-47da-8f44-0f6b5fa135ce",
   "metadata": {
    "tags": []
   },
   "outputs": [],
   "source": [
    "df3 = pd.DataFrame({1:{'0':0, '1':1, '2':2},2:{'0':0, '1':1, '2':2}})\n",
    "df3"
   ]
  },
  {
   "cell_type": "code",
   "execution_count": null,
   "id": "95ecfef3-ddcf-4850-a474-a6361b6fd2b1",
   "metadata": {
    "tags": []
   },
   "outputs": [],
   "source": [
    "df2 = pd.DataFrame({1: , 2:"
   ]
  },
  {
   "cell_type": "code",
   "execution_count": null,
   "id": "38408c21-8287-47e9-b8f3-761223b7d43a",
   "metadata": {
    "tags": []
   },
   "outputs": [],
   "source": [
    "df1"
   ]
  },
  {
   "cell_type": "code",
   "execution_count": null,
   "id": "294823b1-f63f-41c4-8fab-43bdb470bdc5",
   "metadata": {},
   "outputs": [],
   "source": []
  },
  {
   "cell_type": "code",
   "execution_count": null,
   "id": "7b399d01-9e8f-4dcd-94d6-a16fb1341833",
   "metadata": {},
   "outputs": [],
   "source": []
  },
  {
   "cell_type": "code",
   "execution_count": null,
   "id": "7c94978d-8be3-4ade-848c-55aed7146e44",
   "metadata": {},
   "outputs": [],
   "source": []
  },
  {
   "cell_type": "code",
   "execution_count": null,
   "id": "81041c37-40a4-42a4-b610-17d6051e28e7",
   "metadata": {},
   "outputs": [],
   "source": []
  },
  {
   "cell_type": "code",
   "execution_count": null,
   "id": "a2941a68-fdd3-4272-88ac-d08576cb83bf",
   "metadata": {},
   "outputs": [],
   "source": [
    "data2 = pd.read_csv"
   ]
  },
  {
   "cell_type": "code",
   "execution_count": null,
   "id": "ca6e3b05-abb8-4f92-a536-b5bece01ec79",
   "metadata": {},
   "outputs": [],
   "source": [
    "pd.read_excel"
   ]
  },
  {
   "cell_type": "code",
   "execution_count": null,
   "id": "92497f97-c66e-4dba-a96a-aff89f19da2d",
   "metadata": {},
   "outputs": [],
   "source": []
  },
  {
   "cell_type": "code",
   "execution_count": null,
   "id": "fcecaa7d-056a-4841-b203-32f78abba83d",
   "metadata": {
    "tags": []
   },
   "outputs": [],
   "source": [
    "import os\n",
    "os.getcwd()\n"
   ]
  },
  {
   "cell_type": "code",
   "execution_count": null,
   "id": "e8a6730a-ee2d-4a2f-b15e-8a8f4e71cd28",
   "metadata": {},
   "outputs": [],
   "source": []
  },
  {
   "cell_type": "code",
   "execution_count": null,
   "id": "6958b531-7768-460a-acaf-06a200f53604",
   "metadata": {
    "tags": []
   },
   "outputs": [],
   "source": [
    "titanic = pd.read_csv(\"https://raw.githubusercontent.com/datasciencedojo/datasets/master/titanic.csv\")"
   ]
  },
  {
   "cell_type": "code",
   "execution_count": null,
   "id": "4c359f4f-8ab3-426f-b911-084b7eb6abe3",
   "metadata": {
    "tags": []
   },
   "outputs": [],
   "source": [
    "data = pd.read_csv(\"train.csv\",header=None)"
   ]
  },
  {
   "cell_type": "code",
   "execution_count": null,
   "id": "db240f37-ffba-4d13-8928-96e04cf535a1",
   "metadata": {
    "tags": []
   },
   "outputs": [],
   "source": [
    "type(data2)"
   ]
  },
  {
   "cell_type": "code",
   "execution_count": null,
   "id": "f735518f-a1af-40d9-bab8-e55c21c36ee7",
   "metadata": {
    "tags": []
   },
   "outputs": [],
   "source": [
    "data.describe()"
   ]
  },
  {
   "cell_type": "code",
   "execution_count": null,
   "id": "898ca14b-e53b-48b3-b7ca-7f7b8154698f",
   "metadata": {},
   "outputs": [],
   "source": [
    "pd.read_sql_query"
   ]
  },
  {
   "cell_type": "code",
   "execution_count": null,
   "id": "8141ceeb-af68-4fd3-a980-b5762a042671",
   "metadata": {
    "tags": []
   },
   "outputs": [],
   "source": [
    "pd.read_json(\"titanicdata.json\")"
   ]
  },
  {
   "cell_type": "code",
   "execution_count": null,
   "id": "66db342b-daa4-4484-8d75-516e6f1cb757",
   "metadata": {},
   "outputs": [],
   "source": []
  },
  {
   "cell_type": "code",
   "execution_count": null,
   "id": "381e249d-9938-4775-9e61-66dfff7c3529",
   "metadata": {},
   "outputs": [],
   "source": []
  },
  {
   "cell_type": "markdown",
   "id": "183bc395-e54e-4b69-9950-1f61fd0aceb6",
   "metadata": {},
   "source": [
    "# Create our Data Frame"
   ]
  },
  {
   "cell_type": "code",
   "execution_count": null,
   "id": "21498b1b-9a3e-47fd-a498-5cb944672f62",
   "metadata": {
    "tags": []
   },
   "outputs": [],
   "source": [
    "l1 = [1,2,3,4]"
   ]
  },
  {
   "cell_type": "code",
   "execution_count": null,
   "id": "d814a4b6-2e1c-47b8-b6f9-12240d131749",
   "metadata": {
    "tags": []
   },
   "outputs": [],
   "source": [
    "pd.DataFrame(l1,columns=['Marks'])"
   ]
  },
  {
   "cell_type": "code",
   "execution_count": null,
   "id": "0c99c2b9-8d28-4988-bda2-031db55f99f4",
   "metadata": {
    "tags": []
   },
   "outputs": [],
   "source": [
    "d1 = {'one':[1,1,1],'two':[2,2,2]}"
   ]
  },
  {
   "cell_type": "code",
   "execution_count": null,
   "id": "0e89ac26-a585-45fd-b2bb-c905419b0b9e",
   "metadata": {
    "tags": []
   },
   "outputs": [],
   "source": [
    "pd.DataFrame(d1)"
   ]
  },
  {
   "cell_type": "code",
   "execution_count": null,
   "id": "87457b75-ef9a-46b2-a68d-2e86dd946016",
   "metadata": {},
   "outputs": [],
   "source": [
    "| - pipe\n",
    ", - comma\n",
    "    \n",
    "~ -> tilde"
   ]
  },
  {
   "cell_type": "code",
   "execution_count": null,
   "id": "71917e6f-4204-4d79-81d7-f3245c04034b",
   "metadata": {},
   "outputs": [],
   "source": []
  },
  {
   "cell_type": "code",
   "execution_count": null,
   "id": "edaac13c-725a-466f-972d-d3e1a990acb3",
   "metadata": {
    "tags": []
   },
   "outputs": [],
   "source": [
    "pd.read_table(\"train.csv\",sep=',')"
   ]
  },
  {
   "cell_type": "code",
   "execution_count": null,
   "id": "76304158-4bcd-4008-bb61-32dee8f53c84",
   "metadata": {},
   "outputs": [],
   "source": []
  },
  {
   "cell_type": "code",
   "execution_count": null,
   "id": "a555488c-c787-47e8-bd41-8266642186db",
   "metadata": {
    "tags": []
   },
   "outputs": [],
   "source": [
    "json[\"name\"]"
   ]
  },
  {
   "cell_type": "code",
   "execution_count": null,
   "id": "77cf5cf0-0e50-4b20-b48c-0692c1ab99ea",
   "metadata": {
    "tags": []
   },
   "outputs": [],
   "source": [
    "json = {\n",
    "    \"page\": 2,\n",
    "    \"per_page\": 6,\n",
    "    \"total\": 12,\n",
    "    \"total_pages\": 2,\n",
    "    \"data\": [\n",
    "        {\n",
    "            \"id\": 7,\n",
    "            \"email\": \"michael.lawson@reqres.in\",\n",
    "            \"first_name\": \"Michael\",\n",
    "            \"last_name\": \"Lawson\",\n",
    "            \"avatar\": \"https://reqres.in/img/faces/7-image.jpg\"\n",
    "        },\n",
    "        {\n",
    "            \"id\": 11,\n",
    "            \"email\": \"george.edwards@reqres.in\",\n",
    "            \"first_name\": \"George\",\n",
    "            \"last_name\": \"Edwards\",\n",
    "            \"avatar\": \"https://reqres.in/img/faces/11-image.jpg\"\n",
    "        },\n",
    "        {\n",
    "            \"id\": 12,\n",
    "            \"email\": \"rachel.howell@reqres.in\",\n",
    "            \"first_name\": \"Rachel\",\n",
    "            \"last_name\": \"Howell\",\n",
    "            \"avatar\": \"https://reqres.in/img/faces/12-image.jpg\"\n",
    "        }\n",
    "    ],\n",
    "    \"support\": {\n",
    "        \"url\": \"https://reqres.in/#support-heading\",\n",
    "        \"text\": \"To keep ReqRes free, contributions towards server costs are appreciated!\"\n",
    "    }\n",
    "}"
   ]
  },
  {
   "cell_type": "code",
   "execution_count": null,
   "id": "115f19fb-3c7e-472e-903c-70ecf4f1368e",
   "metadata": {
    "tags": []
   },
   "outputs": [],
   "source": [
    "a =json['data']"
   ]
  },
  {
   "cell_type": "code",
   "execution_count": null,
   "id": "ec1319a9-d42e-4f50-9a0b-2e50c5266bcf",
   "metadata": {
    "tags": []
   },
   "outputs": [],
   "source": [
    "a"
   ]
  },
  {
   "cell_type": "code",
   "execution_count": null,
   "id": "6b1edaba-8dd0-4ff0-82e1-53a9ac9a65ba",
   "metadata": {},
   "outputs": [],
   "source": []
  },
  {
   "cell_type": "code",
   "execution_count": null,
   "id": "63ebe62b-f318-4e44-8667-5c7741761219",
   "metadata": {},
   "outputs": [],
   "source": []
  },
  {
   "cell_type": "code",
   "execution_count": null,
   "id": "ef7a7402-51e5-4c59-ad5a-9ccc22c56370",
   "metadata": {
    "tags": []
   },
   "outputs": [],
   "source": [
    "pd.DataFrame({'id': 7,\n",
    "  'email': 'michael.lawson@reqres.in'},\n",
    " {'id': 11,\n",
    "  'email': 'george.edwards@reqres.in'},\n",
    " {'id': 12,\n",
    "  'email': 'rachel.howell@reqres.in'})"
   ]
  },
  {
   "cell_type": "code",
   "execution_count": null,
   "id": "aab10913-7ba7-48fe-90cd-0782ccad1d3b",
   "metadata": {},
   "outputs": [],
   "source": []
  },
  {
   "cell_type": "code",
   "execution_count": null,
   "id": "5f2a33c9-f52d-4573-b09f-98201ebd6c67",
   "metadata": {
    "tags": []
   },
   "outputs": [],
   "source": [
    "pd.set_option('display.max_columns', None)"
   ]
  },
  {
   "cell_type": "code",
   "execution_count": null,
   "id": "b255beb3-537e-4472-a6fe-78a1dbd03865",
   "metadata": {
    "tags": []
   },
   "outputs": [],
   "source": [
    "pd.read_json(\"titanicdata.json\")"
   ]
  },
  {
   "cell_type": "code",
   "execution_count": null,
   "id": "16def1e8-d9d6-4f76-82d6-1d8b3278961b",
   "metadata": {
    "tags": []
   },
   "outputs": [],
   "source": [
    "titanic = pd.read_json(\"titanicdata.json\")"
   ]
  },
  {
   "cell_type": "code",
   "execution_count": null,
   "id": "1ca2a493-66f6-4457-8eb8-d0da3f232b85",
   "metadata": {
    "tags": []
   },
   "outputs": [],
   "source": [
    "titanic.tail()"
   ]
  },
  {
   "cell_type": "code",
   "execution_count": null,
   "id": "517d7afe-2a87-4d7f-b5d7-103fef7066e6",
   "metadata": {
    "tags": []
   },
   "outputs": [],
   "source": [
    "titanic[\"Name\"]"
   ]
  },
  {
   "cell_type": "code",
   "execution_count": null,
   "id": "31b1a6b7-390d-4747-94da-5a698873600b",
   "metadata": {
    "tags": []
   },
   "outputs": [],
   "source": [
    "titanicName = pd.DataFrame(titanic.Name)"
   ]
  },
  {
   "cell_type": "code",
   "execution_count": null,
   "id": "f2d35c17-cd68-42da-b6e2-082d72dd30fe",
   "metadata": {
    "tags": []
   },
   "outputs": [],
   "source": [
    "titanicName"
   ]
  },
  {
   "cell_type": "code",
   "execution_count": null,
   "id": "7f985466-8040-43ba-bf53-e36956678317",
   "metadata": {
    "tags": []
   },
   "outputs": [],
   "source": [
    "# adding a column"
   ]
  },
  {
   "cell_type": "code",
   "execution_count": null,
   "id": "7f253b5a-89cf-4da7-a0a5-bd0fd8eba7cf",
   "metadata": {
    "tags": []
   },
   "outputs": [],
   "source": [
    "titanic[\"newColumn\"] = np.random.random(891)"
   ]
  },
  {
   "cell_type": "code",
   "execution_count": null,
   "id": "28b1931b-4158-4d95-9f4f-8e00e03fc977",
   "metadata": {
    "tags": []
   },
   "outputs": [],
   "source": [
    "titanic.head(3)"
   ]
  },
  {
   "cell_type": "code",
   "execution_count": null,
   "id": "83116264-0507-4da4-a822-42e4adf9b6d1",
   "metadata": {
    "tags": []
   },
   "outputs": [],
   "source": [
    "titanic[\"ageGreater25\"] = titanic.Age > 25"
   ]
  },
  {
   "cell_type": "code",
   "execution_count": null,
   "id": "496e01b7-27d0-425d-b1f6-4568584b077c",
   "metadata": {
    "tags": []
   },
   "outputs": [],
   "source": [
    "titanic[\"survivedTrue\"] = titanic.Survived == 1 "
   ]
  },
  {
   "cell_type": "code",
   "execution_count": null,
   "id": "48a23d99-896d-4206-862e-e89c245aa044",
   "metadata": {
    "tags": []
   },
   "outputs": [],
   "source": [
    "titanic.shape"
   ]
  },
  {
   "cell_type": "code",
   "execution_count": null,
   "id": "4462bd5e-8711-4275-9094-182584f93a19",
   "metadata": {
    "tags": []
   },
   "outputs": [],
   "source": [
    "titanic.to_csv(\"titanicModified.csv\")"
   ]
  },
  {
   "cell_type": "code",
   "execution_count": null,
   "id": "7f732ed6-b610-406e-8e01-e14fd33cfd9e",
   "metadata": {
    "tags": []
   },
   "outputs": [],
   "source": [
    "# delete a column "
   ]
  },
  {
   "cell_type": "code",
   "execution_count": null,
   "id": "14be60e7-e0d5-4e0e-a8d0-79e942688048",
   "metadata": {
    "tags": []
   },
   "outputs": [],
   "source": [
    "del (titanic[\"survivedTrue\"])"
   ]
  },
  {
   "cell_type": "code",
   "execution_count": null,
   "id": "4f39c7ea-6744-46da-9cb5-20aab6eec679",
   "metadata": {
    "tags": []
   },
   "outputs": [],
   "source": [
    "titanic\n"
   ]
  },
  {
   "cell_type": "code",
   "execution_count": null,
   "id": "ad6e9002-b57a-4dbc-91b7-767094e85b05",
   "metadata": {
    "tags": []
   },
   "outputs": [],
   "source": [
    "titanic[\"survivedTrue\"]"
   ]
  },
  {
   "cell_type": "code",
   "execution_count": null,
   "id": "419a4c30-44c7-4883-a5b0-edf194a141c9",
   "metadata": {},
   "outputs": [],
   "source": []
  },
  {
   "cell_type": "code",
   "execution_count": null,
   "id": "d278978c-b3b1-4a33-a636-2c01bc9790ab",
   "metadata": {
    "tags": []
   },
   "outputs": [],
   "source": [
    "titanic.pop('Age')"
   ]
  },
  {
   "cell_type": "code",
   "execution_count": null,
   "id": "1a264eba-f6bc-40b2-93e6-2c9240e9cf23",
   "metadata": {
    "tags": []
   },
   "outputs": [],
   "source": [
    "titanic"
   ]
  },
  {
   "cell_type": "code",
   "execution_count": null,
   "id": "bfd83b81-6fbe-413e-b61e-a8da8a560a3f",
   "metadata": {
    "tags": []
   },
   "outputs": [],
   "source": [
    "df3"
   ]
  },
  {
   "cell_type": "code",
   "execution_count": null,
   "id": "64a5c7d4-1942-45d3-b084-8371772f291a",
   "metadata": {
    "tags": []
   },
   "outputs": [],
   "source": [
    "df3 = df3.rename(columns = {1: \"col1\",2: \"col2\"})"
   ]
  },
  {
   "cell_type": "code",
   "execution_count": null,
   "id": "1d83df99-7954-495f-a666-ca7c99bff2e8",
   "metadata": {
    "tags": []
   },
   "outputs": [],
   "source": [
    "df3"
   ]
  },
  {
   "cell_type": "code",
   "execution_count": null,
   "id": "63a97626-77b4-4618-9456-4bd701cafbcf",
   "metadata": {},
   "outputs": [],
   "source": []
  },
  {
   "cell_type": "code",
   "execution_count": null,
   "id": "631b5f5a-40ec-4307-a0e7-7b2711c82247",
   "metadata": {
    "tags": []
   },
   "outputs": [],
   "source": [
    "titanic.rename(columns={\"Name\":\"NameOfPassenger\"},inplace=True)"
   ]
  },
  {
   "cell_type": "code",
   "execution_count": null,
   "id": "f1caa8c3-377c-476b-837b-a61d5fd8c0b2",
   "metadata": {
    "tags": []
   },
   "outputs": [],
   "source": [
    "titanic"
   ]
  },
  {
   "cell_type": "code",
   "execution_count": null,
   "id": "b70983ce-f511-4b5b-8c4d-6a40192d506e",
   "metadata": {
    "tags": []
   },
   "outputs": [],
   "source": [
    "titanic.columns"
   ]
  },
  {
   "cell_type": "code",
   "execution_count": null,
   "id": "0fabc847-7f88-4406-aa0a-21d420208da9",
   "metadata": {
    "tags": []
   },
   "outputs": [],
   "source": [
    "titanic.index"
   ]
  },
  {
   "cell_type": "code",
   "execution_count": null,
   "id": "17597aca-44ea-478a-b386-10f337c0a1d9",
   "metadata": {},
   "outputs": [],
   "source": []
  },
  {
   "cell_type": "markdown",
   "id": "47ddfbf9-cb57-4a3b-b2eb-753e434cef50",
   "metadata": {},
   "source": [
    "# Indexing and Slicing"
   ]
  },
  {
   "cell_type": "code",
   "execution_count": null,
   "id": "0caea120-3fa5-4b91-855f-151c708188f0",
   "metadata": {
    "tags": []
   },
   "outputs": [],
   "source": [
    "l1 = [1,2,3,4,5]"
   ]
  },
  {
   "cell_type": "code",
   "execution_count": null,
   "id": "ea4eacad-dd9f-4a61-b648-6a686e4f4cf4",
   "metadata": {
    "tags": []
   },
   "outputs": [],
   "source": [
    "l1[4],l1[-1]"
   ]
  },
  {
   "cell_type": "code",
   "execution_count": null,
   "id": "3c6ab6c7-87b1-4316-b0ee-5fa2d2a8a978",
   "metadata": {
    "tags": []
   },
   "outputs": [],
   "source": [
    "l1[-2:-3:-1]"
   ]
  },
  {
   "cell_type": "code",
   "execution_count": null,
   "id": "cc0ab603-abcd-46e4-95a7-f2f655cf93ff",
   "metadata": {
    "tags": []
   },
   "outputs": [],
   "source": [
    "titanic.tail()"
   ]
  },
  {
   "cell_type": "code",
   "execution_count": null,
   "id": "edaeb9cc-5129-4a1a-b4d3-9353b3943f56",
   "metadata": {
    "tags": []
   },
   "outputs": [],
   "source": [
    "titanic[-2:-4:-1]"
   ]
  },
  {
   "cell_type": "code",
   "execution_count": null,
   "id": "9fd76d61-3421-4c4e-92f0-64ae6b4d3464",
   "metadata": {
    "tags": []
   },
   "outputs": [],
   "source": [
    "titanic[-1:-2:-1]"
   ]
  },
  {
   "cell_type": "code",
   "execution_count": null,
   "id": "e59a835e-9f82-4d08-b89b-720cf2494019",
   "metadata": {
    "tags": []
   },
   "outputs": [],
   "source": [
    "titanic.head()"
   ]
  },
  {
   "cell_type": "code",
   "execution_count": null,
   "id": "712ee15f-59fa-49d2-a0f8-c96c62576b81",
   "metadata": {
    "tags": []
   },
   "outputs": [],
   "source": [
    "titanic[0:3"
   ]
  },
  {
   "cell_type": "markdown",
   "id": "4cc8fe77-4927-4e9e-9a0f-ec860823eee6",
   "metadata": {},
   "source": [
    "# iloc"
   ]
  },
  {
   "cell_type": "code",
   "execution_count": null,
   "id": "2a2969bb-3a45-4e5f-8671-154bec8fb9e5",
   "metadata": {
    "tags": []
   },
   "outputs": [],
   "source": [
    "titanic.iloc[0:2,0:2]"
   ]
  },
  {
   "cell_type": "code",
   "execution_count": null,
   "id": "def85b74-349c-4535-819b-576224ce1b90",
   "metadata": {
    "tags": []
   },
   "outputs": [],
   "source": [
    "titanic.head"
   ]
  },
  {
   "cell_type": "code",
   "execution_count": null,
   "id": "c3b84263-c951-42c7-b750-6ff6afdf42ee",
   "metadata": {
    "tags": []
   },
   "outputs": [],
   "source": [
    "titanic.iloc[0:5:2,::-1]"
   ]
  },
  {
   "cell_type": "code",
   "execution_count": null,
   "id": "7ce4942d-a57e-464c-8a3c-c0f6d8ed3c83",
   "metadata": {
    "tags": []
   },
   "outputs": [],
   "source": [
    "titanic.iloc[1:4,2:10]"
   ]
  },
  {
   "cell_type": "code",
   "execution_count": null,
   "id": "4d062eba-0b6f-45af-b1e4-c94fb071c0cd",
   "metadata": {
    "tags": []
   },
   "outputs": [],
   "source": [
    "l1[:]"
   ]
  },
  {
   "cell_type": "code",
   "execution_count": null,
   "id": "968bc5d2-855e-46e7-b78c-b882607a8f8a",
   "metadata": {
    "tags": []
   },
   "outputs": [],
   "source": [
    "titanic.iloc[:,-1:-4:-1]"
   ]
  },
  {
   "cell_type": "code",
   "execution_count": null,
   "id": "ff4c127a-c592-4062-8e80-8f56904aa434",
   "metadata": {
    "tags": []
   },
   "outputs": [],
   "source": [
    "titanic"
   ]
  },
  {
   "cell_type": "code",
   "execution_count": null,
   "id": "a8ea40e0-ea59-4363-9359-d7984f770dea",
   "metadata": {},
   "outputs": [],
   "source": [
    "pd.read_csv"
   ]
  },
  {
   "cell_type": "code",
   "execution_count": null,
   "id": "e1a64520-acaa-440c-9ba9-c4ad5075d7db",
   "metadata": {},
   "outputs": [],
   "source": [
    "!pip install ipynb-py-convert"
   ]
  },
  {
   "cell_type": "code",
   "execution_count": null,
   "id": "2db81411-12c6-4e42-b3a5-fec5ac7483f2",
   "metadata": {},
   "outputs": [],
   "source": []
  }
 ],
 "metadata": {
  "kernelspec": {
   "display_name": "Python 3 (ipykernel)",
   "language": "python",
   "name": "python3"
  },
  "language_info": {
   "codemirror_mode": {
    "name": "ipython",
    "version": 3
   },
   "file_extension": ".py",
   "mimetype": "text/x-python",
   "name": "python",
   "nbconvert_exporter": "python",
   "pygments_lexer": "ipython3",
   "version": "3.11.5"
  }
 },
 "nbformat": 4,
 "nbformat_minor": 5
}
