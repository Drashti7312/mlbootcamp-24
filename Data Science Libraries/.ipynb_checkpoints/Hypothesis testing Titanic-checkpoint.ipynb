{
 "cells": [
  {
   "cell_type": "markdown",
   "metadata": {},
   "source": [
    "# Hypothesis Testing with Titanic Dataset\n",
    "\n",
    "In this notebook, we will cover various hypothesis tests including p-test, t-test, F-test, and chi-squared test. We will use the Titanic dataset to illustrate these tests. Hypothesis testing is a fundamental aspect of statistical analysis and is crucial in data science for making inferences about populations based on sample data.\n"
   ]
  },
  {
   "cell_type": "markdown",
   "metadata": {},
   "source": [
    "## 1. Load the Titanic Dataset\n",
    "\n",
    "We start by loading the Titanic dataset, which contains information about the passengers on the Titanic. The dataset includes features such as age, sex, fare, and survival status."
   ]
  },
  {
   "cell_type": "code",
   "execution_count": 1,
   "metadata": {},
   "outputs": [],
   "source": [
    "import pandas as pd\n",
    "import numpy as np\n",
    "import matplotlib.pyplot as plt\n",
    "import seaborn as sns\n",
    "from scipy import stats\n",
    "\n",
    "# Load dataset\n",
    "titanic = sns.load_dataset('titanic')\n",
    "titanic.head()"
   ]
  },
  {
   "cell_type": "markdown",
   "metadata": {},
   "source": [
    "## 2. Exploratory Data Analysis (EDA)\n",
    "\n",
    "Before conducting hypothesis tests, we perform exploratory data analysis to understand the structure and summary of the data. This includes checking for missing values, understanding the distribution of numerical features, and visualizing categorical features."
   ]
  },
  {
   "cell_type": "code",
   "execution_count": 2,
   "metadata": {},
   "outputs": [],
   "source": [
    "# Basic information about the dataset\n",
    "titanic.info()"
   ]
  },
  {
   "cell_type": "code",
   "execution_count": 3,
   "metadata": {},
   "outputs": [],
   "source": [
    "# Summary statistics of numerical features\n",
    "titanic.describe()"
   ]
  },
  {
   "cell_type": "code",
   "execution_count": 4,
   "metadata": {},
   "outputs": [],
   "source": [
    "# Distribution of age\n",
    "plt.figure(figsize=(8, 6))\n",
    "sns.histplot(titanic['age'].dropna(), kde=True)\n",
    "plt.title('Age Distribution')\n",
    "plt.xlabel('Age')\n",
    "plt.ylabel('Frequency')\n",
    "plt.show()"
   ]
  },
  {
   "cell_type": "code",
   "execution_count": 5,
   "metadata": {},
   "outputs": [],
   "source": [
    "# Count plot of categorical features: Survived\n",
    "plt.figure(figsize=(8, 6))\n",
    "sns.countplot(x='survived', data=titanic)\n",
    "plt.title('Survival Count')\n",
    "plt.xlabel('Survived')\n",
    "plt.ylabel('Count')\n",
    "plt.show()"
   ]
  },
  {
   "cell_type": "markdown",
   "metadata": {},
   "source": [
    "## 3. Hypothesis Testing\n",
    "\n",
    "Hypothesis testing is a method of making statistical decisions using experimental data. It is based on the idea of comparing observed data with a hypothesis whose truth we want to assess. We will cover the following tests:\n",
    "\n",
    "- **p-test**: Tests for proportion differences.\n",
    "- **t-test**: Compares the means of two groups.\n",
    "- **F-test**: Compares the variances of two or more groups.\n",
    "- **chi-squared test**: Tests the independence of two categorical variables."
   ]
  },
  {
   "cell_type": "markdown",
   "metadata": {},
   "source": [
    "### 3.1 p-test\n",
    "\n",
    "A p-test (or proportion test) is used to determine if there is a significant difference between the proportions of two groups. For example, we can test if the proportion of survivors is different between males and females.\n",
    "\n",
    "#### Hypotheses:\n",
    "- Null hypothesis (H0): The proportion of survivors is the same for males and females.\n",
    "- Alternative hypothesis (H1): The proportion of survivors is different for males and females."
   ]
  },
  {
   "cell_type": "code",
   "execution_count": 6,
   "metadata": {},
   "outputs": [],
   "source": [
    "# Contingency table for sex and survival\n",
    "contingency_table = pd.crosstab(titanic['sex'], titanic['survived'])\n",
    "contingency_table"
   ]
  },
  {
   "cell_type": "code",
   "execution_count": 7,
   "metadata": {},
   "outputs": [],
   "source": [
    "# Perform chi-squared test\n",
    "chi2, p, dof, expected = stats.chi2_contingency(contingency_table)\n",
    "chi2, p"
   ]
  },
  {
   "cell_type": "markdown",
   "metadata": {},
   "source": [
    "The chi-squared test statistic is compared against a critical value from the chi-squared distribution with the appropriate degrees of freedom. The p-value indicates the probability of observing the data assuming the null hypothesis is true.\n",
    "\n",
    "We can use a chi-squared distribution table to find the critical value for a given significance level (e.g., 0.05) and degrees of freedom. Here, we have 1 degree of freedom (2-1 for sex and 2-1 for survived).\n",
    "\n",
    "You can refer to the chi-squared distribution table [here](https://www.itl.nist.gov/div898/handbook/eda/section3/eda3674.htm)."
   ]
  },
  {
   "cell_type": "markdown",
   "metadata": {},
   "source": [
    "### 3.2 t-test\n",
    "\n",
    "A t-test is used to compare the means of two groups. For example, we can test if the mean age of survivors is different from the mean age of non-survivors.\n",
    "\n",
    "#### Hypotheses:\n",
    "- Null hypothesis (H0): The mean age of survivors is the same as the mean age of non-survivors.\n",
    "- Alternative hypothesis (H1): The mean age of survivors is different from the mean age of non-survivors."
   ]
  },
  {
   "cell_type": "code",
   "execution_count": 8,
   "metadata": {},
   "outputs": [],
   "source": [
    "# Mean ages of survivors and non-survivors\n",
    "mean_age_survived = titanic[titanic['survived'] == 1]['age'].mean()\n",
    "mean_age_not_survived = titanic[titanic['survived'] == 0]['age'].mean()\n",
    "mean_age_survived, mean_age_not_survived"
   ]
  },
  {
   "cell_type": "code",
   "execution_count": 9,
   "metadata": {},
   "outputs": [],
   "source": [
    "# Perform t-test\n",
    "t_stat, p_val = stats.ttest_ind(titanic[titanic['survived'] == 1]['age'].dropna(),\n",
    "                               titanic[titanic['survived'] == 0]['age'].dropna())\n",
    "t_stat, p_val"
   ]
  },
  {
   "cell_type": "markdown",
   "metadata": {},
   "source": [
    "The t-test statistic is compared against a critical value from the t-distribution with the appropriate degrees of freedom. The p-value indicates the probability of observing the data assuming the null hypothesis is true.\n",
    "\n",
    "We can use a t-distribution table to find the critical value for a given significance level (e.g., 0.05) and degrees of freedom. The degrees of freedom for a t-test is calculated as the total number of observations in both groups minus 2.\n",
    "\n",
    "You can refer to the t-distribution table [here](https://www.itl.nist.gov/div898/handbook/eda/section3/eda3672.htm)."
   ]
  },
  {
   "cell_type": "markdown",
   "metadata": {},
   "source": [
    "### 3.3 F-test\n",
    "\n",
    "An F-test is used to compare the variances of two or more groups. For example, we can test if the variance in age is different among the three classes (1st, 2nd, 3rd).\n",
    "\n",
    "#### Hypotheses:\n",
    "- Null hypothesis (H0): The variances in age are the same across the three classes.\n",
    "- Alternative hypothesis (H1): At least one class has a different variance in age."
   ]
  },
  {
   "cell_type": "code",
   "execution_count": 1,
   "metadata": {
    "tags": []
   },
   "outputs": [
    {
     "ename": "NameError",
     "evalue": "name 'stats' is not defined",
     "output_type": "error",
     "traceback": [
      "\u001b[0;31m---------------------------------------------------------------------------\u001b[0m",
      "\u001b[0;31mNameError\u001b[0m                                 Traceback (most recent call last)",
      "Cell \u001b[0;32mIn[1], line 2\u001b[0m\n\u001b[1;32m      1\u001b[0m \u001b[38;5;66;03m# Perform Levene's test for equal variances\u001b[39;00m\n\u001b[0;32m----> 2\u001b[0m w_stat, p_val \u001b[38;5;241m=\u001b[39m stats\u001b[38;5;241m.\u001b[39mlevene(titanic[titanic[\u001b[38;5;124m'\u001b[39m\u001b[38;5;124mclass\u001b[39m\u001b[38;5;124m'\u001b[39m] \u001b[38;5;241m==\u001b[39m \u001b[38;5;124m'\u001b[39m\u001b[38;5;124mFirst\u001b[39m\u001b[38;5;124m'\u001b[39m][\u001b[38;5;124m'\u001b[39m\u001b[38;5;124mage\u001b[39m\u001b[38;5;124m'\u001b[39m]\u001b[38;5;241m.\u001b[39mdropna(),\n\u001b[1;32m      3\u001b[0m                             titanic[titanic[\u001b[38;5;124m'\u001b[39m\u001b[38;5;124mclass\u001b[39m\u001b[38;5;124m'\u001b[39m] \u001b[38;5;241m==\u001b[39m \u001b[38;5;124m'\u001b[39m\u001b[38;5;124mSecond\u001b[39m\u001b[38;5;124m'\u001b[39m][\u001b[38;5;124m'\u001b[39m\u001b[38;5;124mage\u001b[39m\u001b[38;5;124m'\u001b[39m]\u001b[38;5;241m.\u001b[39mdropna(),\n\u001b[1;32m      4\u001b[0m                             titanic[titanic[\u001b[38;5;124m'\u001b[39m\u001b[38;5;124mclass\u001b[39m\u001b[38;5;124m'\u001b[39m] \u001b[38;5;241m==\u001b[39m \u001b[38;5;124m'\u001b[39m\u001b[38;5;124mThird\u001b[39m\u001b[38;5;124m'\u001b[39m][\u001b[38;5;124m'\u001b[39m\u001b[38;5;124mage\u001b[39m\u001b[38;5;124m'\u001b[39m]\u001b[38;5;241m.\u001b[39mdropna())\n\u001b[1;32m      5\u001b[0m w_stat, p_val\n",
      "\u001b[0;31mNameError\u001b[0m: name 'stats' is not defined"
     ]
    }
   ],
   "source": [
    "# Perform Levene's test for equal variances\n",
    "w_stat, p_val = stats.levene(titanic[titanic['class'] == 'First']['age'].dropna(),\n",
    "                            titanic[titanic['class'] == 'Second']['age'].dropna(),\n",
    "                            titanic[titanic['class'] == 'Third']['age'].dropna())\n",
    "w_stat, p_val"
   ]
  },
  {
   "cell_type": "markdown",
   "metadata": {},
   "source": [
    "The F-test statistic is compared against a critical value from the F-distribution with the appropriate degrees of freedom. The p-value indicates the probability of observing the data assuming the null hypothesis is true.\n",
    "\n",
    "We can use an F-distribution table to find the critical value for a given significance level (e.g., 0.05) and degrees of freedom. The degrees of freedom for the numerator is the number of groups minus 1, and for the denominator, it is the total number of observations minus the number of groups.\n",
    "\n",
    "You can refer to the F-distribution table [here](https://www.itl.nist.gov/div898/handbook/eda/section3/eda3673.htm)."
   ]
  },
  {
   "cell_type": "markdown",
   "metadata": {},
   "source": [
    "### 3.4 Chi-squared test\n",
    "\n",
    "A chi-squared test is used to determine if there is a significant association between two categorical variables. For example, we can test if there is an association between survival status and class.\n",
    "\n",
    "#### Hypotheses:\n",
    "- Null hypothesis (H0): There is no association between survival status and class.\n",
    "- Alternative hypothesis (H1): There is an association between survival status and class."
   ]
  },
  {
   "cell_type": "code",
   "execution_count": 11,
   "metadata": {},
   "outputs": [],
   "source": [
    "# Contingency table for class and survival\n",
    "contingency_table = pd.crosstab(titanic['class'], titanic['survived'])\n",
    "contingency_table"
   ]
  },
  {
   "cell_type": "code",
   "execution_count": 12,
   "metadata": {},
   "outputs": [],
   "source": [
    "# Perform chi-squared test\n",
    "chi2, p, dof, expected = stats.chi2_contingency(contingency_table)\n",
    "chi2, p"
   ]
  },
  {
   "cell_type": "markdown",
   "metadata": {},
   "source": [
    "The chi-squared test statistic is compared against a critical value from the chi-squared distribution with the appropriate degrees of freedom. The p-value indicates the probability of observing the data assuming the null hypothesis is true.\n",
    "\n",
    "We can use a chi-squared distribution table to find the critical value for a given significance level (e.g., 0.05) and degrees of freedom. Here, we have 2 degrees of freedom (3-1 for class and 2-1 for survived).\n",
    "\n",
    "You can refer to the chi-squared distribution table [here](https://www.itl.nist.gov/div898/handbook/eda/section3/eda3674.htm)."
   ]
  },
  {
   "cell_type": "markdown",
   "metadata": {},
   "source": [
    "### 4. Conclusion\n",
    "\n",
    "In this notebook, we performed hypothesis testing using the Titanic dataset. We conducted p-test, t-test, F-test, and chi-squared test to make inferences about the population based on sample data. Hypothesis testing is a powerful tool in statistics and is widely used in data science for decision making.\n",
    "\n",
    "Feel free to explore further and apply these tests to other datasets to deepen your understanding."
   ]
  }
 ],
 "metadata": {
  "kernelspec": {
   "display_name": "Python 3 (ipykernel)",
   "language": "python",
   "name": "python3"
  },
  "language_info": {
   "codemirror_mode": {
    "name": "ipython",
    "version": 3
   },
   "file_extension": ".py",
   "mimetype": "text/x-python",
   "name": "python",
   "nbconvert_exporter": "python",
   "pygments_lexer": "ipython3",
   "version": "3.11.5"
  }
 },
 "nbformat": 4,
 "nbformat_minor": 4
}
