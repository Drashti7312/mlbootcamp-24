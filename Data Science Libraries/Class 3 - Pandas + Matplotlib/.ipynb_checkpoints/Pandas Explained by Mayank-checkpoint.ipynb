{
 "cells": [
  {
   "cell_type": "markdown",
   "metadata": {},
   "source": [
    "# Introduction to Pandas\n",
    "Pandas is a powerful library for data manipulation and analysis. It is built on top of NumPy and provides data structures and functions needed to work on structured data seamlessly."
   ]
  },
  {
   "cell_type": "code",
   "execution_count": 1,
   "metadata": {},
   "outputs": [],
   "source": [
    "# Importing Pandas\n",
    "import pandas as pd\n",
    "print(pd.__version__)"
   ]
  },
  {
   "cell_type": "markdown",
   "metadata": {},
   "source": [
    "# Data Structures: Series and DataFrame\n",
    "Pandas has two primary data structures:\n",
    "- **Series**: A one-dimensional labeled array capable of holding any data type.\n",
    "- **DataFrame**: A two-dimensional labeled data structure with columns of potentially different types."
   ]
  },
  {
   "cell_type": "code",
   "execution_count": 2,
   "metadata": {},
   "outputs": [],
   "source": [
    "# Creating a Series\n",
    "s = pd.Series([1, 2, 3, 4, 5])\n",
    "print(s)\n",
    "print(s.index, s.values, s.dtype)"
   ]
  },
  {
   "cell_type": "code",
   "execution_count": 3,
   "metadata": {},
   "outputs": [],
   "source": [
    "# Creating a DataFrame\n",
    "data = {'Name': ['Alice', 'Bob', 'Charlie'], 'Age': [25, 30, 35]}\n",
    "df = pd.DataFrame(data)\n",
    "print(df)\n",
    "print(df.index, df.columns, df.values, df.shape, df.dtypes)"
   ]
  },
  {
   "cell_type": "markdown",
   "metadata": {},
   "source": [
    "# Data Indexing and Selection\n",
    "Pandas provides powerful indexing and selection capabilities. You can select data by label or position, and use boolean indexing to filter data."
   ]
  },
  {
   "cell_type": "code",
   "execution_count": 4,
   "metadata": {},
   "outputs": [],
   "source": [
    "# Indexing and Slicing\n",
    "print(df.loc[0])  # By label\n",
    "print(df.iloc[0])  # By position\n",
    "print(df.loc[:, 'Name'])  # All rows, single column\n",
    "print(df.iloc[:, 0])  # All rows, single column by position\n",
    "print(df.loc[0, 'Name'])  # Single value by label\n",
    "print(df.iloc[0, 0])  # Single value by position"
   ]
  },
  {
   "cell_type": "code",
   "execution_count": 5,
   "metadata": {},
   "outputs": [],
   "source": [
    "# Boolean Indexing\n",
    "print(df[df['Age'] > 30])"
   ]
  },
  {
   "cell_type": "code",
   "execution_count": 6,
   "metadata": {},
   "outputs": [],
   "source": [
    "# Setting and Resetting Index\n",
    "df.set_index('Name', inplace=True)\n",
    "print(df)\n",
    "df.reset_index(inplace=True)\n",
    "print(df)"
   ]
  },
  {
   "cell_type": "markdown",
   "metadata": {},
   "source": [
    "# Data Manipulation\n",
    "Pandas makes it easy to manipulate data. You can add or modify columns, and drop unnecessary columns or rows."
   ]
  },
  {
   "cell_type": "code",
   "execution_count": 7,
   "metadata": {},
   "outputs": [],
   "source": [
    "# Adding and Modifying Columns\n",
    "df['Salary'] = [50000, 60000, 70000]\n",
    "print(df)\n",
    "df['Age'] += 1\n",
    "print(df)"
   ]
  },
  {
   "cell_type": "code",
   "execution_count": 8,
   "metadata": {},
   "outputs": [],
   "source": [
    "# Dropping Columns and Rows\n",
    "df.drop('Salary', axis=1, inplace=True)\n",
    "print(df)\n",
    "df.drop(0, axis=0, inplace=True)\n",
    "print(df)"
   ]
  },
  {
   "cell_type": "code",
   "execution_count": 9,
   "metadata": {},
   "outputs": [],
   "source": [
    "# Renaming Columns and Index\n",
    "df.rename(columns={'Age': 'Years'}, inplace=True)\n",
    "print(df)"
   ]
  },
  {
   "cell_type": "markdown",
   "metadata": {},
   "source": [
    "# Handling Missing Data\n",
    "Handling missing data is crucial in data analysis. Pandas provides functions to detect, fill, and drop missing data."
   ]
  },
  {
   "cell_type": "code",
   "execution_count": 10,
   "metadata": {},
   "outputs": [],
   "source": [
    "# Detecting Missing Data\n",
    "df.loc[2, 'Years'] = None\n",
    "print(df.isnull())\n",
    "print(df.notnull())"
   ]
  },
  {
   "cell_type": "code",
   "execution_count": 11,
   "metadata": {},
   "outputs": [],
   "source": [
    "# Filling Missing Data\n",
    "df.fillna(0, inplace=True)\n",
    "print(df)"
   ]
  },
  {
   "cell_type": "code",
   "execution_count": 12,
   "metadata": {},
   "outputs": [],
   "source": [
    "# Dropping Missing Data\n",
    "df.dropna(inplace=True)\n",
    "print(df)"
   ]
  },
  {
   "cell_type": "markdown",
   "metadata": {},
   "source": [
    "# Data Aggregation and Grouping\n",
    "Pandas provides powerful aggregation functions to summarize data. Grouping and pivot tables are key features for data analysis."
   ]
  },
  {
   "cell_type": "code",
   "execution_count": 13,
   "metadata": {},
   "outputs": [],
   "source": [
    "# Grouping Data\n",
    "grouped = df.groupby('Years')\n",
    "print(grouped.mean())"
   ]
  },
  {
   "cell_type": "code",
   "execution_count": 14,
   "metadata": {},
   "outputs": [],
   "source": [
    "# Aggregation Functions\n",
    "print(grouped.agg(['sum', 'mean']))"
   ]
  },
  {
   "cell_type": "code",
   "execution_count": 15,
   "metadata": {},
   "outputs": [],
   "source": [
    "# Pivot Tables\n",
    "df['Salary'] = [50000, 60000, 70000]\n",
    "print(df.pivot_table(values='Salary', index='Years', columns='Name', aggfunc='mean'))"
   ]
  },
  {
   "cell_type": "markdown",
   "metadata": {},
   "source": [
    "# Merging and Joining DataFrames\n",
    "Combining DataFrames is essential in data analysis. Pandas provides several functions to merge and join DataFrames."
   ]
  },
  {
   "cell_type": "code",
   "execution_count": 16,
   "metadata": {},
   "outputs": [],
   "source": [
    "# Concatenation\n",
    "df1 = pd.DataFrame({'A': ['A0', 'A1'], 'B': ['B0', 'B1']})\n",
    "df2 = pd.DataFrame({'A': ['A2', 'A3'], 'B': ['B2', 'B3']})\n",
    "result = pd.concat([df1, df2])\n",
    "print(result)"
   ]
  },
  {
   "cell_type": "code",
   "execution_count": 17,
   "metadata": {},
   "outputs": [],
   "source": [
    "# Merging\n",
    "left = pd.DataFrame({'key': ['K0', 'K1'], 'A': ['A0', 'A1']})\n",
    "right = pd.DataFrame({'key': ['K0', 'K2'], 'B': ['B0', 'B2']})\n",
    "result = pd.merge(left, right, on='key', how='inner')\n",
    "print(result)"
   ]
  },
  {
   "cell_type": "code",
   "execution_count": 18,
   "metadata": {},
   "outputs": [],
   "source": [
    "# Joining\n",
    "left = pd.DataFrame({'A': ['A0', 'A1']}, index=['K0', 'K1'])\n",
    "right = pd.DataFrame({'B': ['B0', 'B1']}, index=['K0', 'K2'])\n",
    "result = left.join(right, how='inner')\n",
    "print(result)"
   ]
  },
  {
   "cell_type": "markdown",
   "metadata": {},
   "source": [
    "# Time Series Data\n",
    "Pandas has robust support for time series data, including date range generation, indexing, and resampling."
   ]
  },
  {
   "cell_type": "code",
   "execution_count": 19,
   "metadata": {},
   "outputs": [],
   "source": [
    "# Date Range Generation\n",
    "date_range = pd.date_range(start='2020-01-01', end='2020-01-10', freq='D')\n",
    "print(date_range)"
   ]
  },
  {
   "cell_type": "code",
   "execution_count": 20,
   "metadata": {},
   "outputs": [],
   "source": [
    "# Indexing with Time Series\n",
    "df['Date'] = pd.date_range(start='2020-01-01', periods=5, freq='D')\n",
    "df.set_index('Date', inplace=True)\n",
    "print(df)"
   ]
  },
  {
   "cell_type": "code",
   "execution_count": 21,
   "metadata": {},
   "outputs": [],
   "source": [
    "# Resampling Time Series Data\n",
    "df['Value'] = [1, 2, 3, 4, 5]\n",
    "print(df.resample('2D').mean())"
   ]
  },
  {
   "cell_type": "markdown",
   "metadata": {},
   "source": [
    "# Input and Output Operations\n",
    "Pandas can read and write data to various file formats, making it easy to handle data from multiple sources."
   ]
  },
  {
   "cell_type": "code",
   "execution_count": 22,
   "metadata": {},
   "outputs": [],
   "source": [
    "# Reading Data from Various Formats\n",
    "# Uncomment and replace 'file.csv', 'file.xlsx', etc. with actual file paths or data sources\n",
    "# df_csv = pd.read_csv('file.csv')\n",
    "# df_excel = pd.read_excel('file.xlsx')\n",
    "# df_sql = pd.read_sql('SELECT * FROM table', con)\n",
    "# df_json = pd.read_json('file.json')\n",
    "# print(df_csv, df_excel, df_sql, df_json)"
   ]
  },
  {
   "cell_type": "code",
   "execution_count": 23,
   "metadata": {},
   "outputs": [],
   "source": [
    "# Writing Data to Various Formats\n",
    "# Uncomment and replace 'file.csv', 'file.xlsx', etc. with actual file paths or destinations\n",
    "# df.to_csv('file.csv')\n",
    "# df.to_excel('file.xlsx')\n",
    "# df.to_sql('table', con)\n",
    "# df.to_json('file.json')"
   ]
  },
  {
   "cell_type": "markdown",
   "metadata": {},
   "source": [
    "# Visualization with Pandas\n",
    "Pandas integrates with Matplotlib to provide basic plotting capabilities, making it easy to visualize data."
   ]
  },
  {
   "cell_type": "code",
   "execution_count": 24,
   "metadata": {},
   "outputs": [],
   "source": [
    "# Basic Plotting\n",
    "df.plot(kind='line')\n",
    "df.plot(kind='bar')"
   ]
  },
  {
   "cell_type": "code",
   "execution_count": 25,
   "metadata": {},
   "outputs": [],
   "source": [
    "# Advanced Plotting with Matplotlib\n",
    "import matplotlib.pyplot as plt\n",
    "df.plot(kind='line')\n",
    "plt.title('Line Plot')\n",
    "plt.xlabel('X-axis')\n",
    "plt.ylabel('Y-axis')\n",
    "plt.show()"
   ]
  },
  {
   "cell_type": "markdown",
   "metadata": {},
   "source": [
    "# Titanic Dataset Analysis\n",
    "Now, let's apply what we've learned to the Titanic dataset."
   ]
  },
  {
   "cell_type": "code",
   "execution_count": 26,
   "metadata": {},
   "outputs": [],
   "source": [
    "# Load the Titanic dataset\n",
    "titanic = pd.read_csv('https://web.stanford.edu/class/archive/cs/cs109/cs109.1166/stuff/titanic.csv')\n",
    "print(titanic.head())"
   ]
  },
  {
   "cell_type": "markdown",
   "metadata": {},
   "source": [
    "### Data Indexing and Selection"
   ]
  },
  {
   "cell_type": "code",
   "execution_count": 27,
   "metadata": {},
   "outputs": [],
   "source": [
    "# Selecting specific columns\n",
    "print(titanic[['Name', 'Age']].head())"
   ]
  },
  {
   "cell_type": "code",
   "execution_count": 28,
   "metadata": {},
   "outputs": [],
   "source": [
    "# Filtering data\n",
    "print(titanic[titanic['Age'] > 30].head())"
   ]
  },
  {
   "cell_type": "markdown",
   "metadata": {},
   "source": [
    "### Data Manipulation"
   ]
  },
  {
   "cell_type": "code",
   "execution_count": 29,
   "metadata": {},
   "outputs": [],
   "source": [
    "# Adding a new column\n",
    "titanic['Age_in_10_Years'] = titanic['Age'] + 10\n",
    "print(titanic.head())"
   ]
  },
  {
   "cell_type": "code",
   "execution_count": 30,
   "metadata": {},
   "outputs": [],
   "source": [
    "# Dropping columns\n",
    "titanic.drop('Age_in_10_Years', axis=1, inplace=True)\n",
    "print(titanic.head())"
   ]
  },
  {
   "cell_type": "markdown",
   "metadata": {},
   "source": [
    "### Handling Missing Data"
   ]
  },
  {
   "cell_type": "code",
   "execution_count": 31,
   "metadata": {},
   "outputs": [],
   "source": [
    "# Detecting missing data\n",
    "print(titanic.isnull().sum())"
   ]
  },
  {
   "cell_type": "code",
   "execution_count": 32,
   "metadata": {},
   "outputs": [],
   "source": [
    "# Filling missing data\n",
    "titanic['Age'].fillna(titanic['Age'].mean(), inplace=True)\n",
    "print(titanic.isnull().sum())"
   ]
  },
  {
   "cell_type": "markdown",
   "metadata": {},
   "source": [
    "### Data Aggregation and Grouping"
   ]
  },
  {
   "cell_type": "code",
   "execution_count": 33,
   "metadata": {},
   "outputs": [],
   "source": [
    "# Grouping by 'Pclass' and calculating mean age\n",
    "grouped = titanic.groupby('Pclass')['Age'].mean()\n",
    "print(grouped)"
   ]
  },
  {
   "cell_type": "markdown",
   "metadata": {},
   "source": [
    "### Merging and Joining DataFrames"
   ]
  },
  {
   "cell_type": "code",
   "execution_count": 34,
   "metadata": {},
   "outputs": [],
   "source": [
    "# Creating additional DataFrames for merging\n",
    "df1 = pd.DataFrame({'key': ['A', 'B', 'C'], 'value1': [1, 2, 3]})\n",
    "df2 = pd.DataFrame({'key': ['A', 'B', 'D'], 'value2': [4, 5, 6]})\n",
    "merged = pd.merge(df1, df2, on='key', how='inner')\n",
    "print(merged)"
   ]
  },
  {
   "cell_type": "markdown",
   "metadata": {},
   "source": [
    "### Time Series Data"
   ]
  },
  {
   "cell_type": "code",
   "execution_count": 35,
   "metadata": {},
   "outputs": [],
   "source": [
    "# Converting 'Date' column to datetime and setting as index\n",
    "titanic['Date'] = pd.to_datetime(titanic['Name'].apply(lambda x: ' '.join(x.split()[-2:])), errors='coerce')\n",
    "titanic.set_index('Date', inplace=True)\n",
    "print(titanic.head())"
   ]
  },
  {
   "cell_type": "code",
   "execution_count": 36,
   "metadata": {},
   "outputs": [],
   "source": [
    "# Resampling data\n",
    "print(titanic.resample('M').mean())"
   ]
  },
  {
   "cell_type": "markdown",
   "metadata": {},
   "source": [
    "### Input and Output Operations"
   ]
  },
  {
   "cell_type": "code",
   "execution_count": 37,
   "metadata": {},
   "outputs": [],
   "source": [
    "# Saving the DataFrame to a CSV file\n",
    "titanic.to_csv('titanic_cleaned.csv')\n",
    "print('DataFrame saved to titanic_cleaned.csv')"
   ]
  },
  {
   "cell_type": "markdown",
   "metadata": {},
   "source": [
    "### Visualization with Pandas"
   ]
  },
  {
   "cell_type": "code",
   "execution_count": 38,
   "metadata": {},
   "outputs": [],
   "source": [
    "# Basic plotting\n",
    "titanic['Age'].plot(kind='hist', title='Age Distribution')\n",
    "plt.show()"
   ]
  },
  {
   "cell_type": "code",
   "execution_count": 39,
   "metadata": {},
   "outputs": [],
   "source": [
    "# Advanced plotting\n",
    "titanic['Age'].plot(kind='box', title='Age Boxplot')\n",
    "plt.show()"
   ]
  }
 ],
 "metadata": {
  "kernelspec": {
   "display_name": "Python 3",
   "language": "python",
   "name": "python3"
  },
  "language_info": {
   "codemirror_mode": {
    "name": "ipython",
    "version": 3
   },
   "file_extension": ".py",
   "mimetype": "text/x-python",
   "name": "python",
   "nbconvert_exporter": "python",
   "pygments_lexer": "ipython3",
   "version": "3.8.10"
  }
 },
 "nbformat": 4,
 "nbformat_minor": 5
}
