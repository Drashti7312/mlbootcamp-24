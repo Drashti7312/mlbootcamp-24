{
 "cells": [
  {
   "cell_type": "markdown",
   "metadata": {},
   "source": [
    "# Introduction to Matplotlib\n",
    "Matplotlib is a comprehensive library for creating static, animated, and interactive visualizations in Python."
   ]
  },
  {
   "cell_type": "code",
   "execution_count": 1,
   "metadata": {},
   "outputs": [],
   "source": [
    "# Importing Matplotlib\n",
    "import matplotlib.pyplot as plt\n",
    "import pandas as pd\n",
    "\n",
    "# Importing the Titanic dataset\n",
    "titanic = pd.read_csv('https://web.stanford.edu/class/archive/cs/cs109/cs109.1166/stuff/titanic.csv')\n",
    "titanic.head()"
   ]
  },
  {
   "cell_type": "markdown",
   "metadata": {},
   "source": [
    "# Basic Plotting\n",
    "Creating a simple plot with Matplotlib."
   ]
  },
  {
   "cell_type": "code",
   "execution_count": 2,
   "metadata": {},
   "outputs": [],
   "source": [
    "# Plotting the Age distribution\n",
    "plt.plot(titanic['Age'])\n",
    "plt.title('Age Distribution')\n",
    "plt.xlabel('Passenger Index')\n",
    "plt.ylabel('Age')\n",
    "plt.show()"
   ]
  },
  {
   "cell_type": "markdown",
   "metadata": {},
   "source": [
    "# Plotting with Different Styles\n",
    "Customizing line styles, markers, and colors."
   ]
  },
  {
   "cell_type": "code",
   "execution_count": 3,
   "metadata": {},
   "outputs": [],
   "source": [
    "# Customizing the plot\n",
    "plt.plot(titanic['Age'], linestyle='--', marker='o', color='r')\n",
    "plt.title('Customized Age Distribution')\n",
    "plt.xlabel('Passenger Index')\n",
    "plt.ylabel('Age')\n",
    "plt.show()"
   ]
  },
  {
   "cell_type": "markdown",
   "metadata": {},
   "source": [
    "# Customizing Plots\n",
    "Adding grid lines, adjusting plot limits, and adding legends."
   ]
  },
  {
   "cell_type": "code",
   "execution_count": 4,
   "metadata": {},
   "outputs": [],
   "source": [
    "# Adding grid lines and adjusting plot limits\n",
    "plt.plot(titanic['Age'], color='g')\n",
    "plt.title('Age Distribution with Grid')\n",
    "plt.xlabel('Passenger Index')\n",
    "plt.ylabel('Age')\n",
    "plt.grid(True)\n",
    "plt.xlim(0, 100)\n",
    "plt.ylim(0, 80)\n",
    "plt.legend(['Age'])\n",
    "plt.show()"
   ]
  },
  {
   "cell_type": "markdown",
   "metadata": {},
   "source": [
    "# Subplots and Layouts\n",
    "Creating multiple subplots and adjusting their layout."
   ]
  },
  {
   "cell_type": "code",
   "execution_count": 5,
   "metadata": {},
   "outputs": [],
   "source": [
    "# Creating multiple subplots\n",
    "fig, axs = plt.subplots(2, 2)\n",
    "axs[0, 0].plot(titanic['Age'], color='b')\n",
    "axs[0, 0].set_title('Age Distribution')\n",
    "axs[0, 1].plot(titanic['Fare'], color='r')\n",
    "axs[0, 1].set_title('Fare Distribution')\n",
    "axs[1, 0].plot(titanic['SibSp'], color='g')\n",
    "axs[1, 0].set_title('Siblings/Spouses Aboard')\n",
    "axs[1, 1].plot(titanic['Parch'], color='m')\n",
    "axs[1, 1].set_title('Parents/Children Aboard')\n",
    "fig.tight_layout()\n",
    "plt.show()"
   ]
  },
  {
   "cell_type": "markdown",
   "metadata": {},
   "source": [
    "# Annotations and Text\n",
    "Adding annotations and customizing text properties."
   ]
  },
  {
   "cell_type": "code",
   "execution_count": 6,
   "metadata": {},
   "outputs": [],
   "source": [
    "# Adding annotations\n",
    "plt.plot(titanic['Age'], color='b')\n",
    "plt.title('Age Distribution with Annotation')\n",
    "plt.xlabel('Passenger Index')\n",
    "plt.ylabel('Age')\n",
    "plt.annotate('Oldest Passenger', xy=(600, 80), xytext=(400, 60),\n",
    "             arrowprops=dict(facecolor='black', shrink=0.05))\n",
    "plt.show()"
   ]
  },
  {
   "cell_type": "markdown",
   "metadata": {},
   "source": [
    "# Plotting Different Types of Data\n",
    "Creating bar plots, histograms, pie charts, scatter plots, and box plots."
   ]
  },
  {
   "cell_type": "code",
   "execution_count": 7,
   "metadata": {},
   "outputs": [],
   "source": [
    "# Bar plot\n",
    "pclass_counts = titanic['Pclass'].value_counts()\n",
    "plt.bar(pclass_counts.index, pclass_counts.values, color=['r', 'g', 'b'])\n",
    "plt.title('Passenger Class Distribution')\n",
    "plt.xlabel('Class')\n",
    "plt.ylabel('Number of Passengers')\n",
    "plt.show()"
   ]
  },
  {
   "cell_type": "code",
   "execution_count": 8,
   "metadata": {},
   "outputs": [],
   "source": [
    "# Histogram\n",
    "plt.hist(titanic['Age'].dropna(), bins=30, color='c')\n",
    "plt.title('Age Histogram')\n",
    "plt.xlabel('Age')\n",
    "plt.ylabel('Frequency')\n",
    "plt.show()"
   ]
  },
  {
   "cell_type": "code",
   "execution_count": 9,
   "metadata": {},
   "outputs": [],
   "source": [
    "# Pie chart\n",
    "survived_counts = titanic['Survived'].value_counts()\n",
    "plt.pie(survived_counts, labels=['Not Survived', 'Survived'], autopct='%1.1f%%', startangle=90)\n",
    "plt.title('Survival Distribution')\n",
    "plt.show()"
   ]
  },
  {
   "cell_type": "code",
   "execution_count": 10,
   "metadata": {},
   "outputs": [],
   "source": [
    "# Scatter plot\n",
    "plt.scatter(titanic['Age'], titanic['Fare'], alpha=0.5, color='m')\n",
    "plt.title('Age vs Fare')\n",
    "plt.xlabel('Age')\n",
    "plt.ylabel('Fare')\n",
    "plt.show()"
   ]
  },
  {
   "cell_type": "code",
   "execution_count": 11,
   "metadata": {},
   "outputs": [],
   "source": [
    "# Box plot\n",
    "plt.boxplot(titanic['Age'].dropna())\n",
    "plt.title('Age Boxplot')\n",
    "plt.ylabel('Age')\n",
    "plt.show()"
   ]
  },
  {
   "cell_type": "markdown",
   "metadata": {},
   "source": [
    "# Advanced Plotting\n",
    "Creating 3D plots, contour plots, quiver plots, and heatmaps."
   ]
  },
  {
   "cell_type": "code",
   "execution_count": 12,
   "metadata": {},
   "outputs": [],
   "source": [
    "# 3D plot\n",
    "from mpl_toolkits.mplot3d import Axes3D\n",
    "fig = plt.figure()\n",
    "ax = fig.add_subplot(111, projection='3d')\n",
    "ax.scatter(titanic['Age'], titanic['Fare'], titanic['Pclass'], c='r', marker='o')\n",
    "ax.set_title('3D plot of Age, Fare and Class')\n",
    "ax.set_xlabel('Age')\n",
    "ax.set_ylabel('Fare')\n",
    "ax.set_zlabel('Class')\n",
    "plt.show()"
   ]
  },
  {
   "cell_type": "code",
   "execution_count": 13,
   "metadata": {},
   "outputs": [],
   "source": [
    "# Contour plot\n",
    "import numpy as np\n",
    "X, Y = np.meshgrid(np.linspace(-5, 5, 100), np.linspace(-5, 5, 100))\n",
    "Z = np.sin(np.sqrt(X**2 + Y**2))\n",
    "plt.contour(X, Y, Z)\n",
    "plt.title('Contour Plot')\n",
    "plt.xlabel('X-axis')\n",
    "plt.ylabel('Y-axis')\n",
    "plt.show()"
   ]
  },
  {
   "cell_type": "code",
   "execution_count": 14,
   "metadata": {},
   "outputs": [],
   "source": [
    "# Quiver plot\n",
    "Y, X = np.mgrid[-5:5:100j, -5:5:100j]\n",
    "U = -1 - X**2 + Y\n",
    "V = 1 + X - Y**2\n",
    "plt.quiver(X, Y, U, V)\n",
    "plt.title('Quiver Plot')\n",
    "plt.xlabel('X-axis')\n",
    "plt.ylabel('Y-axis')\n",
    "plt.show()"
   ]
  },
  {
   "cell_type": "code",
   "execution_count": 15,
   "metadata": {},
   "outputs": [],
   "source": [
    "# Heatmap\n",
    "matrix = np.random.random((10, 10))\n",
    "plt.imshow(matrix, cmap='hot', interpolation='nearest')\n",
    "plt.title('Heatmap')\n",
    "plt.colorbar()\n",
    "plt.show()"
   ]
  },
  {
   "cell_type": "markdown",
   "metadata": {},
   "source": [
    "# Customizing Plot Appearance\n",
    "Customizing plot aesthetics, using stylesheets, and creating custom styles."
   ]
  },
  {
   "cell_type": "code",
   "execution_count": 16,
   "metadata": {},
   "outputs": [],
   "source": [
    "# Customizing plot aesthetics\n",
    "plt.style.use('ggplot')\n",
    "plt.plot(titanic['Age'], color='b')\n",
    "plt.title('Age Distribution with ggplot Style')\n",
    "plt.xlabel('Passenger Index')\n",
    "plt.ylabel('Age')\n",
    "plt.show()"
   ]
  },
  {
   "cell_type": "code",
   "execution_count": 17,
   "metadata": {},
   "outputs": [],
   "source": [
    "# Creating and using custom styles\n",
    "from matplotlib import rcParams\n",
    "rcParams['axes.facecolor'] = 'lightgrey'\n",
    "plt.plot(titanic['Age'], color='b')\n",
    "plt.title('Age Distribution with Custom Style')\n",
    "plt.xlabel('Passenger Index')\n",
    "plt.ylabel('Age')\n",
    "plt.show()"
   ]
  },
  {
   "cell_type": "markdown",
   "metadata": {},
   "source": [
    "# Working with Dates and Times\n",
    "Plotting time series data and formatting date and time labels."
   ]
  },
  {
   "cell_type": "code",
   "execution_count": 18,
   "metadata": {},
   "outputs": [],
   "source": [
    "# Plotting time series data\n",
    "titanic['Date'] = pd.date_range(start='1/1/2020', periods=len(titanic), freq='D')\n",
    "plt.plot(titanic['Date'], titanic['Age'])\n",
    "plt.title('Age Over Time')\n",
    "plt.xlabel('Date')\n",
    "plt.ylabel('Age')\n",
    "plt.xticks(rotation=45)\n",
    "plt.show()"
   ]
  },
  {
   "cell_type": "markdown",
   "metadata": {},
   "source": [
    "# Interactive Plots\n",
    "Using widgets for interactive plots."
   ]
  },
  {
   "cell_type": "code",
   "execution_count": 19,
   "metadata": {},
   "outputs": [],
   "source": [
    "# Interactive plotting with widgets\n",
    "from ipywidgets import interact\n",
    "\n",
    "def plot_histogram(bin_size):\n",
    "    plt.hist(titanic['Age'].dropna(), bins=bin_size, color='c')\n",
    "    plt.title('Age Histogram with Bin Size: {}'.format(bin_size))\n",
    "    plt.xlabel('Age')\n",
    "    plt.ylabel('Frequency')\n",
    "    plt.show()\n",
    "\n",
    "interact(plot_histogram, bin_size=(5, 50, 5))"
   ]
  },
  {
   "cell_type": "markdown",
   "metadata": {},
   "source": [
    "# Saving and Exporting Plots\n",
    "Saving plots to different formats and customizing saved plots."
   ]
  },
  {
   "cell_type": "code",
   "execution_count": 20,
   "metadata": {},
   "outputs": [],
   "source": [
    "# Saving plots to different formats\n",
    "plt.plot(titanic['Age'], color='b')\n",
    "plt.title('Age Distribution')\n",
    "plt.xlabel('Passenger Index')\n",
    "plt.ylabel('Age')\n",
    "plt.savefig('age_distribution.png')\n",
    "print('Plot saved as age_distribution.png')"
   ]
  },
  {
   "cell_type": "markdown",
   "metadata": {},
   "source": [
    "# Integrating with Pandas\n",
    "Plotting directly from Pandas DataFrames and customizing Pandas plots with Matplotlib."
   ]
  },
  {
   "cell_type": "code",
   "execution_count": 21,
   "metadata": {},
   "outputs": [],
   "source": [
    "# Plotting directly from Pandas DataFrames\n",
    "titanic['Age'].plot(kind='hist', bins=30, title='Age Histogram (Pandas)')\n",
    "plt.xlabel('Age')\n",
    "plt.ylabel('Frequency')\n",
    "plt.show()"
   ]
  },
  {
   "cell_type": "markdown",
   "metadata": {},
   "source": [
    "# Case Study: Visualizing Titanic Dataset\n",
    "Creating various plots to analyze the Titanic dataset and combining multiple plots for comprehensive analysis."
   ]
  },
  {
   "cell_type": "code",
   "execution_count": 22,
   "metadata": {},
   "outputs": [],
   "source": [
    "# Combining multiple plots\n",
    "fig, ax = plt.subplots(3, 2, figsize=(15, 15))\n",
    "\n",
    "# Age distribution\n",
    "ax[0, 0].hist(titanic['Age'].dropna(), bins=30, color='c')\n",
    "ax[0, 0].set_title('Age Distribution')\n",
    "ax[0, 0].set_xlabel('Age')\n",
    "ax[0, 0].set_ylabel('Frequency')\n",
    "\n",
    "# Fare distribution\n",
    "ax[0, 1].hist(titanic['Fare'], bins=30, color='orange')\n",
    "ax[0, 1].set_title('Fare Distribution')\n",
    "ax[0, 1].set_xlabel('Fare')\n",
    "ax[0, 1].set_ylabel('Frequency')\n",
    "\n",
    "# Survival distribution\n",
    "survived_counts = titanic['Survived'].value_counts()\n",
    "ax[1, 0].pie(survived_counts, labels=['Not Survived', 'Survived'], autopct='%1.1f%%', startangle=90, colors=['red', 'green'])\n",
    "ax[1, 0].set_title('Survival Distribution')\n",
    "\n",
    "# Passenger class distribution\n",
    "pclass_counts = titanic['Pclass'].value_counts()\n",
    "ax[1, 1].bar(pclass_counts.index, pclass_counts.values, color=['blue', 'yellow', 'green'])\n",
    "ax[1, 1].set_title('Passenger Class Distribution')\n",
    "ax[1, 1].set_xlabel('Class')\n",
    "ax[1, 1].set_ylabel('Number of Passengers')\n",
    "\n",
    "# Age vs Fare scatter plot\n",
    "ax[2, 0].scatter(titanic['Age'], titanic['Fare'], alpha=0.5, color='purple')\n",
    "ax[2, 0].set_title('Age vs Fare')\n",
    "ax[2, 0].set_xlabel('Age')\n",
    "ax[2, 0].set_ylabel('Fare')\n",
    "\n",
    "# Age box plot\n",
    "ax[2, 1].boxplot(titanic['Age'].dropna())\n",
    "ax[2, 1].set_title('Age Boxplot')\n",
    "ax[2, 1].set_ylabel('Age')\n",
    "\n",
    "plt.tight_layout()\n",
    "plt.show()"
   ]
  }
 ],
 "metadata": {
  "kernelspec": {
   "display_name": "Python 3",
   "language": "python",
   "name": "python3"
  },
  "language_info": {
   "codemirror_mode": {
    "name": "ipython",
    "version": 3
   },
   "file_extension": ".py",
   "mimetype": "text/x-python",
   "name": "python",
   "nbconvert_exporter": "python",
   "pygments_lexer": "ipython3",
   "version": "3.8.5"
  }
 },
 "nbformat": 4,
 "nbformat_minor": 4
}
