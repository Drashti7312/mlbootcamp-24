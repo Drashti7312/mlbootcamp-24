{
 "cells": [
  {
   "cell_type": "markdown",
   "metadata": {},
   "source": [
    "# Difference between np.matmul and np.dot in NumPy\n",
    "\n",
    "NumPy provides two functions for matrix multiplication: `np.dot` and `np.matmul`. Although they seem similar, they have distinct behaviors, especially when dealing with arrays of different dimensions.\n",
    "\n",
    "## Overview of np.dot\n",
    "\n",
    "`np.dot` performs different operations depending on the input dimensions:\n",
    "- For 1-D arrays, it performs the inner product.\n",
    "- For 2-D arrays, it performs the matrix product.\n",
    "- For N-D arrays, it performs a sum product over the last axis of the first array and the second-to-last of the second array.\n",
    "\n",
    "## Overview of np.matmul\n",
    "\n",
    "`np.matmul` (also accessible with the `@` operator) is specifically designed for matrix multiplication:\n",
    "- It requires that the number of columns in the first matrix equals the number of rows in the second matrix.\n",
    "- It does not handle scalars or perform element-wise multiplication.\n",
    "- It works consistently for 2-D and higher-dimensional arrays, following standard broadcasting rules.\n",
    "\n",
    "Let's explore some examples to understand the differences in detail."
   ]
  },
  {
   "cell_type": "markdown",
   "metadata": {},
   "source": [
    "### Example 1: 1-D Arrays (Vectors)\n",
    "\n",
    "For 1-D arrays, `np.dot` performs the inner product, whereas `np.matmul` raises a `ValueError` since it expects at least 2-D arrays."
   ]
  },
  {
   "cell_type": "code",
   "execution_count": 1,
   "metadata": {},
   "outputs": [
    {
     "name": "stdout",
     "output_type": "stream",
     "text": [
      "Vector A: [1 2 3]\n",
      "Vector B: [4 5 6]\n",
      "np.dot(A, B): 32\n",
      "Error with np.matmul: matmul: Input operand 1 has a mismatch in its core dimension 0, with gufunc signature (n?,k),(k,m?)->(n?,m?) (size 3 is different from 6)\n"
     ]
    }
   ],
   "source": [
    "import numpy as np\n",
    "\n",
    "A = np.array([1, 2, 3])\n",
    "B = np.array([4, 5, 6])\n",
    "\n",
    "print(\"Vector A:\", A)\n",
    "print(\"Vector B:\", B)\n",
    "print(\"np.dot(A, B):\", np.dot(A, B))\n",
    "try:\n",
    "    print(\"np.matmul(A, B):\", np.matmul(A, B))\n",
    "except ValueError as e:\n",
    "    print(\"Error with np.matmul:\", e)"
   ]
  },
  {
   "cell_type": "markdown",
   "metadata": {},
   "source": [
    "### Example 2: 2-D Arrays (Matrices)\n",
    "\n",
    "For 2-D arrays, both `np.dot` and `np.matmul` perform the matrix product. The results are the same in this case."
   ]
  },
  {
   "cell_type": "code",
   "execution_count": 2,
   "metadata": {},
   "outputs": [
    {
     "name": "stdout",
     "output_type": "stream",
     "text": [
      "Matrix A:\n",
      " [[1 2]\n",
      " [3 4]\n",
      " [5 6]]\n",
      "Matrix B:\n",
      " [[ 7  8  9]\n",
      " [10 11 12]]\n",
      "np.dot(A, B):\n",
      " [[ 27  30  33]\n",
      " [ 61  68  75]\n",
      " [ 95 106 117]]\n",
      "np.matmul(A, B):\n",
      " [[ 27  30  33]\n",
      " [ 61  68  75]\n",
      " [ 95 106 117]]\n"
     ]
    }
   ],
   "source": [
    "A = np.array([[1, 2], [3, 4], [5, 6]])  # Shape (3, 2)\n",
    "B = np.array([[7, 8, 9], [10, 11, 12]]) # Shape (2, 3)\n",
    "\n",
    "print(\"Matrix A:\\n\", A)\n",
    "print(\"Matrix B:\\n\", B)\n",
    "print(\"np.dot(A, B):\\n\", np.dot(A, B))\n",
    "print(\"np.matmul(A, B):\\n\", np.matmul(A, B))"
   ]
  },
  {
   "cell_type": "markdown",
   "metadata": {},
   "source": [
    "### Example 3: Higher-Dimensional Arrays\n",
    "\n",
    "For higher-dimensional arrays, `np.dot` and `np.matmul` behave differently. `np.dot` performs a sum product over the last axis of the first array and the second-to-last of the second array. `np.matmul`, on the other hand, follows standard matrix multiplication rules and applies broadcasting.\n"
   ]
  },
  {
   "cell_type": "code",
   "execution_count": 3,
   "metadata": {},
   "outputs": [
    {
     "name": "stdout",
     "output_type": "stream",
     "text": [
      "Tensor A:\n",
      " [[[1 2]\n",
      "   [3 4]]\n",
      "\n",
      "  [[5 6]\n",
      "   [7 8]]]\n",
      "Tensor B:\n",
      " [[[ 1  2]\n",
      "   [ 3  4]]\n",
      "\n",
      "  [[ 5  6]\n",
      "   [ 7  8]]]\n",
      "np.dot(A, B):\n",
      " [[[[ 1  2]\n",
      "    [ 3  4]]\n",
      "\n",
      "   [[ 7 10]\n",
      "    [15 22]]]\n",
      "\n",
      "  [[[ 5  6]\n",
      "    [ 7  8]]\n",
      "\n",
      "   [[67 78]\n",
      "    [91 106]]]]\n",
      "np.matmul(A, B):\n",
      " [[[  7  10]\n",
      "   [ 15  22]]\n",
      "\n",
      "  [[ 67  78]\n",
      "   [ 91 106]]]\n"
     ]
    }
   ],
   "source": [
    "A = np.array([[[1, 2], [3, 4]], [[5, 6], [7, 8]]])  # Shape (2, 2, 2)\n",
    "B = np.array([[[1, 2], [3, 4]], [[5, 6], [7, 8]]])  # Shape (2, 2, 2)\n",
    "\n",
    "print(\"Tensor A:\\n\", A)\n",
    "print(\"Tensor B:\\n\", B)\n",
    "print(\"np.dot(A, B):\\n\", np.dot(A, B))\n",
    "print(\"np.matmul(A, B):\\n\", np.matmul(A, B))"
   ]
  },
  {
   "cell_type": "markdown",
   "metadata": {},
   "source": [
    "### Example 4: Broadcasting with np.matmul\n",
    "\n",
    "`np.matmul` supports broadcasting, making it more versatile for certain applications."
   ]
  },
  {
   "cell_type": "code",
   "execution_count": 4,
   "metadata": {},
   "outputs": [
    {
     "name": "stdout",
     "output_type": "stream",
     "text": [
      "Tensor A:\n",
      " [[[1 2]\n",
      "   [3 4]]\n",
      "\n",
      "  [[5 6]\n",
      "   [7 8]]]\n",
      "Matrix B:\n",
      " [[1 2]\n",
      "  [3 4]]\n",
      "np.matmul(A, B):\n",
      " [[[  7  10]\n",
      "   [ 15  22]]\n",
      "\n",
      "  [[ 23  34]\n",
      "   [ 31  46]]]\n"
     ]
    }
   ],
   "source": [
    "A = np.array([[[1, 2], [3, 4]], [[5, 6], [7, 8]]])  # Shape (2, 2, 2)\n",
    "B = np.array([[1, 2], [3, 4]])  # Shape (2, 2)\n",
    "\n",
    "print(\"Tensor A:\\n\", A)\n",
    "print(\"Matrix B:\\n\", B)\n",
    "print(\"np.matmul(A, B):\\n\", np.matmul(A, B))"
   ]
  },
  {
   "cell_type": "markdown",
   "metadata": {},
   "source": [
    "### Summary\n",
    "\n",
    "- Use `np.dot` for inner products of vectors, matrix multiplication for 2-D arrays, and sum products for higher-dimensional arrays.\n",
    "- Use `np.matmul` for matrix multiplication following standard broadcasting rules, making it more versatile for handling higher-dimensional arrays and ensuring consistency in operations.\n",
    "\n",
    "Understanding these differences can help you choose the right function for your specific needs and ensure efficient and correct computations in your numerical operations."
   ]
  }
 ],
 "metadata": {
  "kernelspec": {
   "display_name": "Python 3",
   "language": "python",
   "name": "python3"
  },
  "language_info": {
   "codemirror_mode": {
    "name": "ipython",
    "version": 3
   },
   "file_extension": ".py",
   "mimetype": "text/x-python",
   "name": "python",
   "nbconvert_exporter": "python",
   "pygments_lexer": "ipython3",
   "version": "3.8.10"
  }
 },
 "nbformat": 4,
 "nbformat_minor": 5
}
