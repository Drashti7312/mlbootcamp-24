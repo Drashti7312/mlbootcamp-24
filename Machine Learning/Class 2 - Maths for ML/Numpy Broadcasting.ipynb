{
 "cells": [
  {
   "cell_type": "markdown",
   "id": "202e1c49",
   "metadata": {},
   "source": [
    "# Broadcasting in NumPy\n",
    "\n",
    "Broadcasting is a powerful mechanism that allows NumPy to work with arrays of different shapes when performing arithmetic operations. The term broadcasting describes how NumPy automatically adjusts the shape of arrays with smaller dimensions to match the shape of arrays with larger dimensions in certain operations.\n",
    "\n",
    "## Broadcasting Rules\n",
    "\n",
    "When operating on two arrays, NumPy compares their shapes element-wise. It starts with the trailing (i.e., right-most) dimensions and works its way left. Two dimensions are compatible for broadcasting if:\n",
    "1. They are equal, or\n",
    "2. One of them is 1\n",
    "\n",
    "If these conditions are not met, a `ValueError: operands could not be broadcast together` is thrown.\n",
    "\n",
    "## Examples of Broadcasting\n",
    "\n",
    "Let's explore some examples to understand where broadcasting applies and where it does not."
   ]
  },
  {
   "cell_type": "markdown",
   "id": "a17059f1",
   "metadata": {},
   "source": [
    "### Example 1: Adding a Scalar to an Array\n",
    "\n",
    "In this example, a scalar (single value) is added to an array. The scalar is stretched to match the shape of the array."
   ]
  },
  {
   "cell_type": "code",
   "execution_count": 1,
   "id": "4db60c7f",
   "metadata": {},
   "outputs": [
    {
     "name": "stdout",
     "output_type": "stream",
     "text": [
      "Array: [1 2 3]\n",
      "Scalar: 5\n",
      "Result: [6 7 8]\n"
     ]
    }
   ],
   "source": [
    "import numpy as np\n",
    "\n",
    "arr = np.array([1, 2, 3])\n",
    "scalar = 5\n",
    "result = arr + scalar\n",
    "print(\"Array:\", arr)\n",
    "print(\"Scalar:\", scalar)\n",
    "print(\"Result:\", result)"
   ]
  },
  {
   "cell_type": "markdown",
   "id": "d77d285a",
   "metadata": {},
   "source": [
    "### Example 2: Adding Arrays with Compatible Shapes\n",
    "\n",
    "Here, we add two arrays of different shapes, but compatible for broadcasting. One array has shape (3,) and the other has shape (3, 1)."
   ]
  },
  {
   "cell_type": "code",
   "execution_count": 2,
   "id": "7270fbad",
   "metadata": {},
   "outputs": [
    {
     "name": "stdout",
     "output_type": "stream",
     "text": [
      "Array 1: [1 2 3]\n",
      "Array 2:\n",
      " [[4]\n",
      " [5]\n",
      " [6]]\n",
      "Result:\n",
      " [[ 5  6  7]\n",
      " [ 6  7  8]\n",
      " [ 7  8  9]]\n"
     ]
    }
   ],
   "source": [
    "arr1 = np.array([1, 2, 3])     # Shape (3,)\n",
    "arr2 = np.array([[4], [5], [6]])  # Shape (3, 1)\n",
    "result = arr1 + arr2\n",
    "print(\"Array 1:\", arr1)\n",
    "print(\"Array 2:\\n\", arr2)\n",
    "print(\"Result:\\n\", result)"
   ]
  },
  {
   "cell_type": "markdown",
   "id": "2444d61b",
   "metadata": {},
   "source": [
    "### Example 3: Multiplying Arrays with Compatible Shapes\n",
    "\n",
    "This example multiplies two arrays where one is (2, 3) and the other is (3,)."
   ]
  },
  {
   "cell_type": "code",
   "execution_count": 3,
   "id": "42fefde0",
   "metadata": {},
   "outputs": [
    {
     "name": "stdout",
     "output_type": "stream",
     "text": [
      "Array 1:\n",
      " [[1 2 3]\n",
      " [4 5 6]]\n",
      "Array 2: [10 20 30]\n",
      "Result:\n",
      " [[ 10  40  90]\n",
      " [ 40 100 180]]\n"
     ]
    }
   ],
   "source": [
    "arr1 = np.array([[1, 2, 3], [4, 5, 6]])  # Shape (2, 3)\n",
    "arr2 = np.array([10, 20, 30])            # Shape (3,)\n",
    "result = arr1 * arr2\n",
    "print(\"Array 1:\\n\", arr1)\n",
    "print(\"Array 2:\", arr2)\n",
    "print(\"Result:\\n\", result)"
   ]
  },
  {
   "cell_type": "markdown",
   "id": "21af54d6",
   "metadata": {},
   "source": [
    "### Example 4: Adding Arrays with Incompatible Shapes\n",
    "\n",
    "Here, we attempt to add two arrays with incompatible shapes. This will result in a ValueError."
   ]
  },
  {
   "cell_type": "code",
   "execution_count": 4,
   "id": "0660891e",
   "metadata": {},
   "outputs": [
    {
     "ename": "ValueError",
     "evalue": "operands could not be broadcast together with shapes (3,) (3,2) ",
     "output_type": "error",
     "traceback": [
      "---------------------------------------------------------------------------",
      "ValueError                                Traceback (most recent call last)",
      "Cell In[4], line 5",
      "      3 arr1 = np.array([1, 2, 3])  # Shape (3,)\n",
      "      4 arr2 = np.array([[1, 2], [3, 4], [5, 6]])  # Shape (3, 2)\n",
      "----> 5 result = arr1 + arr2\n",
      "      6 except ValueError as e:\n",
      "      7     print(\"Error:\", e)\n",
      "\n",
      "ValueError: operands could not be broadcast together with shapes (3,) (3,2) "
     ]
    },
    {
     "name": "stdout",
     "output_type": "stream",
     "text": [
      "Error: operands could not be broadcast together with shapes (3,) (3,2) \n"
     ]
    }
   ],
   "source": [
    "arr1 = np.array([1, 2, 3])  # Shape (3,)\n",
    "arr2 = np.array([[1, 2], [3, 4], [5, 6]])  # Shape (3, 2)\n",
    "try:\n",
    "    result = arr1 + arr2\n",
    "except ValueError as e:\n",
    "    print(\"Error:\", e)"
   ]
  },
  {
   "cell_type": "markdown",
   "id": "a1332f20",
   "metadata": {},
   "source": [
    "### Example 5: Broadcasting in Higher Dimensions\n",
    "\n",
    "Broadcasting can also work in higher dimensions. Consider the following example."
   ]
  },
  {
   "cell_type": "code",
   "execution_count": 5,
   "id": "5fbd4559",
   "metadata": {},
   "outputs": [
    {
     "name": "stdout",
     "output_type": "stream",
     "text": [
      "Array 1 shape: (4, 3, 2)\n",
      "Array 2 shape: (2,)\n",
      "Result shape: (4, 3, 2)\n",
      "Result:\n",
      " [[[2. 3.]\n",
      "  [2. 3.]\n",
      "  [2. 3.]]\n",
      "\n",
      " [[2. 3.]\n",
      "  [2. 3.]\n",
      "  [2. 3.]]\n",
      "\n",
      " [[2. 3.]\n",
      "  [2. 3.]\n",
      "  [2. 3.]]\n",
      "\n",
      " [[2. 3.]\n",
      "  [2. 3.]\n",
      "  [2. 3.]]]\n"
     ]
    }
   ],
   "source": [
    "arr1 = np.ones((4, 3, 2))    # Shape (4, 3, 2)\n",
    "arr2 = np.array([2, 3])      # Shape (2,)\n",
    "result = arr1 * arr2\n",
    "print(\"Array 1 shape:\", arr1.shape)\n",
    "print(\"Array 2 shape:\", arr2.shape)\n",
    "print(\"Result shape:\", result.shape)\n",
    "print(\"Result:\\n\", result)"
   ]
  },
  {
   "cell_type": "markdown",
   "id": "0e072066",
   "metadata": {},
   "source": [
    "### Example 6: Practical Example - Normalizing Rows of a Matrix\n",
    "\n",
    "A common use of broadcasting is in normalizing data. Here, we normalize the rows of a 2D array."
   ]
  },
  {
   "cell_type": "code",
   "execution_count": 6,
   "id": "260b4ffc",
   "metadata": {},
   "outputs": [
    {
     "name": "stdout",
     "output_type": "stream",
     "text": [
      "Matrix:\n",
      " [[1 2 3]\n",
      " [4 5 6]\n",
      " [7 8 9]]\n",
      "Row sums:\n",
      " [[ 6]\n",
      " [15]\n",
      " [24]]\n",
      "Normalized matrix:\n",
      " [[0.16666667 0.33333333 0.5       ]\n",
      " [0.26666667 0.33333333 0.4       ]\n",
      " [0.29166667 0.33333333 0.375     ]]\n"
     ]
    }
   ],
   "source": [
    "matrix = np.array([[1, 2, 3], [4, 5, 6], [7, 8, 9]])\n",
    "row_sums = matrix.sum(axis=1).reshape(-1, 1)  # Shape (3, 1)\n",
    "normalized_matrix = matrix / row_sums\n",
    "print(\"Matrix:\\n\", matrix)\n",
    "print(\"Row sums:\\n\", row_sums)\n",
    "print(\"Normalized matrix:\\n\", normalized_matrix)"
   ]
  },
  {
   "cell_type": "markdown",
   "id": "1f1c90b3",
   "metadata": {},
   "source": [
    "### Example 7: Broadcasting with Different Dimensions\n",
    "\n",
    "Consider the case where we need to add a 1D array to a 2D array."
   ]
  },
  {
   "cell_type": "code",
   "execution_count": 7,
   "id": "67794584",
   "metadata": {},
   "outputs": [
    {
     "name": "stdout",
     "output_type": "stream",
     "text": [
      "Array 1:\n",
      " [[1 2 3]\n",
      " [4 5 6]\n",
      " [7 8 9]]\n",
      "Array 2: [1 0 1]\n",
      "Result:\n",
      " [[ 2  2  4]\n",
      " [ 5  5  7]\n",
      " [ 8  8 10]]\n"
     ]
    }
   ],
   "source": [
    "arr1 = np.array([[1, 2, 3], [4, 5, 6], [7, 8, 9]])  # Shape (3, 3)\n",
    "arr2 = np.array([1, 0, 1])                          # Shape (3,)\n",
    "result = arr1 + arr2\n",
    "print(\"Array 1:\\n\", arr1)\n",
    "print(\"Array 2:\", arr2)\n",
    "print(\"Result:\\n\", result)"
   ]
  },
  {
   "cell_type": "markdown",
   "id": "31fb6804",
   "metadata": {},
   "source": [
    "## Conclusion\n",
    "\n",
    "Broadcasting is a powerful feature in NumPy that allows for efficient computation by avoiding unnecessary data replication. By understanding the rules of broadcasting, you can leverage this feature to write more concise and efficient code.\n",
    "\n",
    "### Key Points:\n",
    "- Broadcasting rules: dimensions must be equal or one of them must be 1.\n",
    "- Broadcasting starts from the trailing dimensions and works its way left.\n",
    "- Practical applications include element-wise operations, normalizing data, and more.\n",
    "\n",
    "Experiment with different shapes and operations to gain a deeper understanding of broadcasting in NumPy."
   ]
  }
 ],
 "metadata": {
  "kernelspec": {
   "display_name": "Python 3 (ipykernel)",
   "language": "python",
   "name": "python3"
  },
  "language_info": {
   "codemirror_mode": {
    "name": "ipython",
    "version": 3
   },
   "file_extension": ".py",
   "mimetype": "text/x-python",
   "name": "python",
   "nbconvert_exporter": "python",
   "pygments_lexer": "ipython3",
   "version": "3.11.7"
  }
 },
 "nbformat": 4,
 "nbformat_minor": 5
}
