{
 "cells": [
  {
   "cell_type": "markdown",
   "id": "c5f25b9b",
   "metadata": {},
   "source": [
    "# Logistic Regression with Python\n",
    "\n",
    "In this notebook, we'll implement logistic regression using only two parameters: the slope (m) and the intercept (c). We'll explain each step in detail."
   ]
  },
  {
   "cell_type": "markdown",
   "id": "5ac1583d",
   "metadata": {},
   "source": [
    "## Importing Libraries\n",
    "\n",
    "First, we'll import the necessary libraries."
   ]
  },
  {
   "cell_type": "code",
   "execution_count": 1,
   "id": "af3ba749",
   "metadata": {},
   "outputs": [],
   "source": [
    "# Importing necessary libraries\n",
    "import numpy as np\n",
    "import matplotlib.pyplot as plt\n",
    "from sklearn.datasets import make_classification\n",
    "from sklearn.model_selection import train_test_split\n",
    "from sklearn.metrics import accuracy_score, log_loss"
   ]
  },
  {
   "cell_type": "markdown",
   "id": "c0432d7d",
   "metadata": {},
   "source": [
    "## Generating a Synthetic Dataset\n",
    "\n",
    "We'll create a simple binary classification dataset using `make_classification` from Scikit-learn."
   ]
  },
  {
   "cell_type": "code",
   "execution_count": 2,
   "id": "5ffb7105",
   "metadata": {},
   "outputs": [],
   "source": [
    "# Generating synthetic dataset\n",
    "X, y = make_classification(n_samples=1000, n_features=2, n_informative=2, n_redundant=0, random_state=42)\n",
    "\n",
    "# Splitting the dataset into training and testing sets\n",
    "X_train, X_test, y_train, y_test = train_test_split(X, y, test_size=0.3, random_state=42)"
   ]
  },
  {
   "cell_type": "markdown",
   "id": "4524b85e",
   "metadata": {},
   "source": [
    "## Visualizing the Dataset\n",
    "\n",
    "Let's visualize the dataset to understand its structure."
   ]
  },
  {
   "cell_type": "code",
   "execution_count": 3,
   "id": "746f9fbf",
   "metadata": {},
   "outputs": [],
   "source": [
    "# Visualizing the dataset\n",
    "plt.scatter(X_train[:, 0], X_train[:, 1], c=y_train, cmap='viridis')\n",
    "plt.title('Training Data')\n",
    "plt.xlabel('Feature 1')\n",
    "plt.ylabel('Feature 2')\n",
    "plt.show()"
   ]
  },
  {
   "cell_type": "markdown",
   "id": "737bbb2a",
   "metadata": {},
   "source": [
    "## Sigmoid Function\n",
    "\n",
    "The sigmoid function is used to map predictions to probabilities. It is defined as:\n",
    "\n",
    "\\[ \\sigma(z) = \\frac{1}{1 + e^{-z}} \\]\n",
    "\n",
    "Let's implement the sigmoid function."
   ]
  },
  {
   "cell_type": "code",
   "execution_count": 4,
   "id": "36457f1a",
   "metadata": {},
   "outputs": [],
   "source": [
    "# Defining the sigmoid function\n",
    "def sigmoid(z):\n",
    "    return 1 / (1 + np.exp(-z))"
   ]
  },
  {
   "cell_type": "markdown",
   "id": "d6ba89f5",
   "metadata": {},
   "source": [
    "## Model Parameters\n",
    "\n",
    "We'll initialize our model parameters: the slope (m) and the intercept (c). For simplicity, we'll start with zero values."
   ]
  },
  {
   "cell_type": "code",
   "execution_count": 5,
   "id": "6d9ecf80",
   "metadata": {},
   "outputs": [],
   "source": [
    "# Initializing model parameters\n",
    "m = np.zeros(X_train.shape[1])  # Slope (weights)\n",
    "c = 0  # Intercept (bias)"
   ]
  },
  {
   "cell_type": "markdown",
   "id": "e30b9353",
   "metadata": {},
   "source": [
    "## Logistic Regression Model\n",
    "\n",
    "The logistic regression model is defined as:\n",
    "\n",
    "\\[ \\hat{y} = \\sigma(m \\cdot x + c) \\]\n",
    "\n",
    "Where:\n",
    "- \\( \\hat{y} \\) is the predicted probability\n",
    "- \\( m \\) is the slope (weights)\n",
    "- \\( x \\) is the input feature\n",
    "- \\( c \\) is the intercept (bias)"
   ]
  },
  {
   "cell_type": "code",
   "execution_count": 6,
   "id": "fe627964",
   "metadata": {},
   "outputs": [],
   "source": [
    "# Logistic regression model\n",
    "def predict_proba(X, m, c):\n",
    "    return sigmoid(np.dot(X, m) + c)\n",
    "\n",
    "def predict(X, m, c, threshold=0.5):\n",
    "    return predict_proba(X, m, c) >= threshold"
   ]
  },
  {
   "cell_type": "markdown",
   "id": "493e8d4c",
   "metadata": {},
   "source": [
    "## Cost Function\n",
    "\n",
    "We'll use the binary cross-entropy loss (also known as log loss) as our cost function. It is defined as:\n",
    "\n",
    "\\[ J(m, c) = - \\frac{1}{m} \\sum_{i=1}^{m} [y_i \\log(\\hat{y}_i) + (1 - y_i) \\log(1 - \\hat{y}_i)] \\]"
   ]
  },
  {
   "cell_type": "code",
   "execution_count": 7,
   "id": "cdf92b2d",
   "metadata": {},
   "outputs": [],
   "source": [
    "# Cost function (binary cross-entropy loss)\n",
    "def compute_cost(X, y, m, c):\n",
    "    m = len(y)\n",
    "    h = predict_proba(X, m, c)\n",
    "    cost = (-1 / m) * np.sum(y * np.log(h) + (1 - y) * np.log(1 - h))\n",
    "    return cost"
   ]
  },
  {
   "cell_type": "markdown",
   "id": "014145ea",
   "metadata": {},
   "source": [
    "## Gradient Descent\n",
    "\n",
    "We'll use gradient descent to optimize our model parameters. The gradients of the cost function with respect to the parameters are:\n",
    "\n",
    "\\[ \\frac{\\partial J}{\\partial m} = \\frac{1}{m} \\sum_{i=1}^{m} (\\hat{y}_i - y_i) x_i \\]\n",
    "\n",
    "\\[ \\frac{\\partial J}{\\partial c} = \\frac{1}{m} \\sum_{i=1}^{m} (\\hat{y}_i - y_i) \\]\n",
    "\n",
    "We'll update the parameters using these gradients."
   ]
  },
  {
   "cell_type": "code",
   "execution_count": 8,
   "id": "5bc1d95d",
   "metadata": {},
   "outputs": [],
   "source": [
    "# Gradient descent function\n",
    "def gradient_descent(X, y, m, c, learning_rate, epochs):\n",
    "    m = len(y)\n",
    "    for _ in range(epochs):\n",
    "        h = predict_proba(X, m, c)\n",
    "        m_grad = (1 / m) * np.dot(X.T, (h - y))\n",
    "        c_grad = (1 / m) * np.sum(h - y)\n",
    "        m -= learning_rate * m_grad\n",
    "        c -= learning_rate * c_grad\n",
    "    return m, c"
   ]
  },
  {
   "cell_type": "markdown",
   "id": "06497a53",
   "metadata": {},
   "source": [
    "## Training the Model\n",
    "\n",
    "Let's train our logistic regression model using gradient descent."
   ]
  },
  {
   "cell_type": "code",
   "execution_count": 9,
   "id": "a7045d9d",
   "metadata": {},
   "outputs": [],
   "source": [
    "# Training the model\n",
    "learning_rate = 0.01\n",
    "epochs = 1000\n",
    "\n",
    "# Initial parameters\n",
    "m = np.zeros(X_train.shape[1])\n",
    "c = 0\n",
    "\n",
    "# Gradient descent\n",
    "m, c = gradient_descent(X_train, y_train, m, c, learning_rate, epochs)"
   ]
  },
  {
   "cell_type": "markdown",
   "id": "4a17bc11",
   "metadata": {},
   "source": [
    "## Evaluating the Model\n",
    "\n",
    "We'll evaluate the model using accuracy and log loss on the test set."
   ]
  },
  {
   "cell_type": "code",
   "execution_count": 10,
   "id": "871bbe28",
   "metadata": {},
   "outputs": [],
   "source": [
    "# Evaluating the model\n",
    "y_pred_proba = predict_proba(X_test, m, c)\n",
    "y_pred = predict(X_test, m, c)\n",
    "\n",
    "accuracy = accuracy_score(y_test, y_pred)\n",
    "loss = log_loss(y_test, y_pred_proba)\n",
    "\n",
    "print(f\"Accuracy: {accuracy * 100:.2f}%\")\n",
    "print(f\"Log Loss: {loss:.4f}\")"
   ]
  },
  {
   "cell_type": "markdown",
   "id": "2ffa9958",
   "metadata": {},
   "source": [
    "## Visualizing the Decision Boundary\n",
    "\n",
    "We'll visualize the decision boundary of our logistic regression model."
   ]
  },
  {
   "cell_type": "code",
   "execution_count": 11,
   "id": "ec6e83cd",
   "metadata": {},
   "outputs": [],
   "source": [
    "# Visualizing the decision boundary\n",
    "x_min, x_max = X_train[:, 0].min() - 1, X_train[:, 0].max() + 1\n",
    "y_min, y_max = X_train[:, 1].min() - 1, X_train[:, 1].max() + 1\n",
    "xx, yy = np.meshgrid(np.arange(x_min, x_max, 0.01), np.arange(y_min, y_max, 0.01))\n",
    "\n",
    "Z = predict(np.c_[xx.ravel(), yy.ravel()], m, c)\n",
    "Z = Z.reshape(xx.shape)\n",
    "\n",
    "plt.contourf(xx, yy, Z, alpha=0.8, cmap='viridis')\n",
    "plt.scatter(X_train[:, 0], X_train[:, 1], c=y_train, edgecolors='k', marker='o', cmap='viridis')\n",
    "plt.title('Decision Boundary')\n",
    "plt.xlabel('Feature 1')\n",
    "plt.ylabel('Feature 2')\n",
    "plt.show()"
   ]
  },
  {
   "cell_type": "markdown",
   "id": "710a2246",
   "metadata": {},
   "source": [
    "## Conclusion\n",
    "\n",
    "In this notebook, we've implemented logistic regression using only the slope (m) and intercept (c). We've covered the following steps:\n",
    "\n",
    "1. Generated a synthetic dataset.\n",
    "2. Visualized the dataset.\n",
    "3. Defined the sigmoid function.\n",
    "4. Initialized model parameters.\n",
    "5. Implemented the logistic regression model.\n",
    "6. Defined the cost function.\n",
    "7. Implemented gradient descent.\n",
    "8. Trained the model.\n",
    "9. Evaluated the model.\n",
    "10. Visualized the decision boundary.\n",
    "\n",
    "This should give you a solid understanding of how logistic regression works at a fundamental level."
   ]
  },
  {
   "cell_type": "code",
   "execution_count": null,
   "id": "626a7525-5af1-49e8-9dbb-0694be39bd04",
   "metadata": {},
   "outputs": [],
   "source": []
  },
  {
   "cell_type": "code",
   "execution_count": 3,
   "id": "7790db7c-7acc-47e6-99bd-a4568ecf1878",
   "metadata": {},
   "outputs": [
    {
     "data": {
      "text/plain": [
       "datetime.datetime(2024, 7, 13, 16, 37, 43, 709741)"
      ]
     },
     "execution_count": 3,
     "metadata": {},
     "output_type": "execute_result"
    }
   ],
   "source": [
    "import datetime\n",
    "\n",
    "datetime.datetime.now()\n"
   ]
  },
  {
   "cell_type": "code",
   "execution_count": 7,
   "id": "2f80dc1a-9570-4d30-9bac-ebb24421f184",
   "metadata": {},
   "outputs": [],
   "source": [
    "# Till 4:47 on break"
   ]
  },
  {
   "cell_type": "code",
   "execution_count": 26,
   "id": "1ed96b65-b53e-4fce-82e8-dd2aadc16f3f",
   "metadata": {},
   "outputs": [],
   "source": [
    "import seaborn as sns\n",
    "import pandas as pd\n",
    "\n",
    "titanic = sns.load_dataset('titanic')"
   ]
  },
  {
   "cell_type": "code",
   "execution_count": null,
   "id": "d29a5cfd-3960-4261-8bcb-ec24bfe29b02",
   "metadata": {},
   "outputs": [],
   "source": []
  },
  {
   "cell_type": "code",
   "execution_count": 18,
   "id": "ef98a4ea-4f0b-48cd-a26c-afb7f5a3ca22",
   "metadata": {},
   "outputs": [
    {
     "data": {
      "text/html": [
       "<div>\n",
       "<style scoped>\n",
       "    .dataframe tbody tr th:only-of-type {\n",
       "        vertical-align: middle;\n",
       "    }\n",
       "\n",
       "    .dataframe tbody tr th {\n",
       "        vertical-align: top;\n",
       "    }\n",
       "\n",
       "    .dataframe thead th {\n",
       "        text-align: right;\n",
       "    }\n",
       "</style>\n",
       "<table border=\"1\" class=\"dataframe\">\n",
       "  <thead>\n",
       "    <tr style=\"text-align: right;\">\n",
       "      <th></th>\n",
       "      <th>survived</th>\n",
       "      <th>pclass</th>\n",
       "      <th>sex</th>\n",
       "      <th>age</th>\n",
       "      <th>sibsp</th>\n",
       "      <th>parch</th>\n",
       "      <th>fare</th>\n",
       "      <th>embarked</th>\n",
       "      <th>class</th>\n",
       "      <th>who</th>\n",
       "      <th>adult_male</th>\n",
       "      <th>deck</th>\n",
       "      <th>embark_town</th>\n",
       "      <th>alive</th>\n",
       "      <th>alone</th>\n",
       "    </tr>\n",
       "  </thead>\n",
       "  <tbody>\n",
       "    <tr>\n",
       "      <th>0</th>\n",
       "      <td>0</td>\n",
       "      <td>3</td>\n",
       "      <td>male</td>\n",
       "      <td>22.0</td>\n",
       "      <td>1</td>\n",
       "      <td>0</td>\n",
       "      <td>7.2500</td>\n",
       "      <td>S</td>\n",
       "      <td>Third</td>\n",
       "      <td>man</td>\n",
       "      <td>True</td>\n",
       "      <td>NaN</td>\n",
       "      <td>Southampton</td>\n",
       "      <td>no</td>\n",
       "      <td>False</td>\n",
       "    </tr>\n",
       "    <tr>\n",
       "      <th>1</th>\n",
       "      <td>1</td>\n",
       "      <td>1</td>\n",
       "      <td>female</td>\n",
       "      <td>38.0</td>\n",
       "      <td>1</td>\n",
       "      <td>0</td>\n",
       "      <td>71.2833</td>\n",
       "      <td>C</td>\n",
       "      <td>First</td>\n",
       "      <td>woman</td>\n",
       "      <td>False</td>\n",
       "      <td>C</td>\n",
       "      <td>Cherbourg</td>\n",
       "      <td>yes</td>\n",
       "      <td>False</td>\n",
       "    </tr>\n",
       "    <tr>\n",
       "      <th>2</th>\n",
       "      <td>1</td>\n",
       "      <td>3</td>\n",
       "      <td>female</td>\n",
       "      <td>26.0</td>\n",
       "      <td>0</td>\n",
       "      <td>0</td>\n",
       "      <td>7.9250</td>\n",
       "      <td>S</td>\n",
       "      <td>Third</td>\n",
       "      <td>woman</td>\n",
       "      <td>False</td>\n",
       "      <td>NaN</td>\n",
       "      <td>Southampton</td>\n",
       "      <td>yes</td>\n",
       "      <td>True</td>\n",
       "    </tr>\n",
       "    <tr>\n",
       "      <th>3</th>\n",
       "      <td>1</td>\n",
       "      <td>1</td>\n",
       "      <td>female</td>\n",
       "      <td>35.0</td>\n",
       "      <td>1</td>\n",
       "      <td>0</td>\n",
       "      <td>53.1000</td>\n",
       "      <td>S</td>\n",
       "      <td>First</td>\n",
       "      <td>woman</td>\n",
       "      <td>False</td>\n",
       "      <td>C</td>\n",
       "      <td>Southampton</td>\n",
       "      <td>yes</td>\n",
       "      <td>False</td>\n",
       "    </tr>\n",
       "    <tr>\n",
       "      <th>4</th>\n",
       "      <td>0</td>\n",
       "      <td>3</td>\n",
       "      <td>male</td>\n",
       "      <td>35.0</td>\n",
       "      <td>0</td>\n",
       "      <td>0</td>\n",
       "      <td>8.0500</td>\n",
       "      <td>S</td>\n",
       "      <td>Third</td>\n",
       "      <td>man</td>\n",
       "      <td>True</td>\n",
       "      <td>NaN</td>\n",
       "      <td>Southampton</td>\n",
       "      <td>no</td>\n",
       "      <td>True</td>\n",
       "    </tr>\n",
       "  </tbody>\n",
       "</table>\n",
       "</div>"
      ],
      "text/plain": [
       "   survived  pclass     sex   age  sibsp  parch     fare embarked  class  \\\n",
       "0         0       3    male  22.0      1      0   7.2500        S  Third   \n",
       "1         1       1  female  38.0      1      0  71.2833        C  First   \n",
       "2         1       3  female  26.0      0      0   7.9250        S  Third   \n",
       "3         1       1  female  35.0      1      0  53.1000        S  First   \n",
       "4         0       3    male  35.0      0      0   8.0500        S  Third   \n",
       "\n",
       "     who  adult_male deck  embark_town alive  alone  \n",
       "0    man        True  NaN  Southampton    no  False  \n",
       "1  woman       False    C    Cherbourg   yes  False  \n",
       "2  woman       False  NaN  Southampton   yes   True  \n",
       "3  woman       False    C  Southampton   yes  False  \n",
       "4    man        True  NaN  Southampton    no   True  "
      ]
     },
     "execution_count": 18,
     "metadata": {},
     "output_type": "execute_result"
    }
   ],
   "source": [
    "titanic.head()"
   ]
  },
  {
   "cell_type": "code",
   "execution_count": 34,
   "id": "e7ab8c4a-1ec9-456e-bad4-07b3704f9bbc",
   "metadata": {},
   "outputs": [
    {
     "data": {
      "text/html": [
       "<div>\n",
       "<style scoped>\n",
       "    .dataframe tbody tr th:only-of-type {\n",
       "        vertical-align: middle;\n",
       "    }\n",
       "\n",
       "    .dataframe tbody tr th {\n",
       "        vertical-align: top;\n",
       "    }\n",
       "\n",
       "    .dataframe thead th {\n",
       "        text-align: right;\n",
       "    }\n",
       "</style>\n",
       "<table border=\"1\" class=\"dataframe\">\n",
       "  <thead>\n",
       "    <tr style=\"text-align: right;\">\n",
       "      <th>alive</th>\n",
       "      <th>no</th>\n",
       "      <th>yes</th>\n",
       "    </tr>\n",
       "    <tr>\n",
       "      <th>pclass</th>\n",
       "      <th></th>\n",
       "      <th></th>\n",
       "    </tr>\n",
       "  </thead>\n",
       "  <tbody>\n",
       "    <tr>\n",
       "      <th>1</th>\n",
       "      <td>80</td>\n",
       "      <td>136</td>\n",
       "    </tr>\n",
       "    <tr>\n",
       "      <th>2</th>\n",
       "      <td>97</td>\n",
       "      <td>87</td>\n",
       "    </tr>\n",
       "    <tr>\n",
       "      <th>3</th>\n",
       "      <td>372</td>\n",
       "      <td>119</td>\n",
       "    </tr>\n",
       "  </tbody>\n",
       "</table>\n",
       "</div>"
      ],
      "text/plain": [
       "alive    no  yes\n",
       "pclass          \n",
       "1        80  136\n",
       "2        97   87\n",
       "3       372  119"
      ]
     },
     "execution_count": 34,
     "metadata": {},
     "output_type": "execute_result"
    }
   ],
   "source": [
    "pd.crosstab(titanic['pclass'],titanic['alive'])"
   ]
  },
  {
   "cell_type": "code",
   "execution_count": null,
   "id": "2988ab98-8717-4206-bf82-16fc188e6fb8",
   "metadata": {},
   "outputs": [],
   "source": []
  },
  {
   "cell_type": "code",
   "execution_count": null,
   "id": "17922927-e954-4c62-8ac3-85e8ab89b141",
   "metadata": {},
   "outputs": [],
   "source": []
  }
 ],
 "metadata": {
  "kernelspec": {
   "display_name": "Python 3 (ipykernel)",
   "language": "python",
   "name": "python3"
  },
  "language_info": {
   "codemirror_mode": {
    "name": "ipython",
    "version": 3
   },
   "file_extension": ".py",
   "mimetype": "text/x-python",
   "name": "python",
   "nbconvert_exporter": "python",
   "pygments_lexer": "ipython3",
   "version": "3.11.5"
  }
 },
 "nbformat": 4,
 "nbformat_minor": 5
}
