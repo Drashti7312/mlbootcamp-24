{
 "cells": [
  {
   "cell_type": "code",
   "execution_count": null,
   "id": "43a8dc98-59f2-4214-b22a-0645cc9e5f07",
   "metadata": {},
   "outputs": [],
   "source": []
  },
  {
   "cell_type": "code",
   "execution_count": null,
   "id": "a9cad765-103d-4cfe-abcf-91259e3970a1",
   "metadata": {},
   "outputs": [],
   "source": [
    "Before finding learning rate, we need to know the value of m where it attains minima?"
   ]
  },
  {
   "cell_type": "code",
   "execution_count": null,
   "id": "be54fae2-d901-4353-8cd8-71eb152b6301",
   "metadata": {},
   "outputs": [],
   "source": []
  },
  {
   "cell_type": "code",
   "execution_count": null,
   "id": "8a60becf-536f-4a70-a2f3-e64cb83412ad",
   "metadata": {},
   "outputs": [],
   "source": [
    "class LRGD():\n",
    "    def __init__(self,epochs,learning_rate):\n",
    "        self.m = 100\n",
    "        self.b = 200\n",
    "        self.epochs = epochs\n",
    "        self.learning_rate = learning_rate\n",
    "\n",
    "    def fit(self,X_train,y_train):\n",
    "\n",
    "\n",
    "        for i in range(self.epochs):\n",
    "\n",
    "            slope_b = -2 * np.sum(y_train - self.m * X_train - self.b)\n",
    "            slope_m = -2 * np.sum( (y_train - self.m * X_train - self.b) * (X_train) )\n",
    "            self.b = self.b - self.learning_rate * slope_b\n",
    "            self.m = self.m - self.learning_rate * slope_m\n",
    "\n",
    "        print(self.b,self.m,sep = '/')\n",
    "\n",
    "    \n",
    "    def predict(self,X_test):\n",
    "        return self.m * X_test + self.b"
   ]
  },
  {
   "cell_type": "code",
   "execution_count": null,
   "id": "1e633af4-5b2f-4891-bb53-8561b0951b0a",
   "metadata": {},
   "outputs": [],
   "source": []
  }
 ],
 "metadata": {
  "kernelspec": {
   "display_name": "Python 3 (ipykernel)",
   "language": "python",
   "name": "python3"
  },
  "language_info": {
   "codemirror_mode": {
    "name": "ipython",
    "version": 3
   },
   "file_extension": ".py",
   "mimetype": "text/x-python",
   "name": "python",
   "nbconvert_exporter": "python",
   "pygments_lexer": "ipython3",
   "version": "3.11.5"
  }
 },
 "nbformat": 4,
 "nbformat_minor": 5
}
