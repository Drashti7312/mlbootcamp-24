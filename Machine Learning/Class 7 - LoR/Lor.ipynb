{
 "cells": [
  {
   "cell_type": "code",
   "execution_count": null,
   "id": "a1667403-4ab3-4a58-b178-0dd3611fbc62",
   "metadata": {},
   "outputs": [],
   "source": [
    "m = 2\n",
    "0.0043648054  0.99\n",
    "\n",
    "m = 1\n",
    "0.002961123   0.993\n",
    "\n",
    "m= 0.01 ( Error increase)\n",
    "0.2903406395   0.5124592782 "
   ]
  },
  {
   "cell_type": "code",
   "execution_count": null,
   "id": "a2bfb509-ab58-46bf-8923-9d05bba13e07",
   "metadata": {},
   "outputs": [],
   "source": []
  },
  {
   "cell_type": "code",
   "execution_count": null,
   "id": "d2c062ef-b083-4982-8682-75ca4331ed81",
   "metadata": {},
   "outputs": [],
   "source": []
  },
  {
   "cell_type": "code",
   "execution_count": null,
   "id": "66b366ba-f3b5-479c-a592-b25f9aee3db3",
   "metadata": {},
   "outputs": [],
   "source": []
  },
  {
   "cell_type": "code",
   "execution_count": null,
   "id": "3cb2dbfb-3168-4fec-a490-822c5e5a5e22",
   "metadata": {},
   "outputs": [],
   "source": []
  },
  {
   "cell_type": "code",
   "execution_count": null,
   "id": "3341b7c2-3e23-4484-ba80-f83445fca092",
   "metadata": {},
   "outputs": [],
   "source": []
  }
 ],
 "metadata": {
  "kernelspec": {
   "display_name": "Python 3 (ipykernel)",
   "language": "python",
   "name": "python3"
  },
  "language_info": {
   "codemirror_mode": {
    "name": "ipython",
    "version": 3
   },
   "file_extension": ".py",
   "mimetype": "text/x-python",
   "name": "python",
   "nbconvert_exporter": "python",
   "pygments_lexer": "ipython3",
   "version": "3.11.5"
  }
 },
 "nbformat": 4,
 "nbformat_minor": 5
}
