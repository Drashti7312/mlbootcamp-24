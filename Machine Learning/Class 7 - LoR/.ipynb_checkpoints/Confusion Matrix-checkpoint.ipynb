{
 "cells": [
  {
   "cell_type": "markdown",
   "metadata": {},
   "source": [
    "# Classification Matrix and Classification Report\n",
    "\n",
    "In machine learning, classification is a supervised learning task where the goal is to categorize or predict the class labels of new instances based on past observations. Classification metrics help evaluate the performance of classification models.\n",
    "\n",
    "In this notebook, we'll explore two important concepts related to classification: classification matrix (or confusion matrix) and classification report. We'll use a simple example to illustrate these concepts."
   ]
  },
  {
   "cell_type": "code",
   "metadata": {},
   "source": [
    "# Importing necessary libraries\n",
    "import numpy as np\n",
    "import pandas as pd\n",
    "from sklearn.metrics import confusion_matrix, classification_report"
   ]
  },
  {
   "cell_type": "markdown",
   "metadata": {},
   "source": [
    "### Example Dataset\n",
    "\n",
    "Let's consider a simple example of a binary classification problem where we predict whether an email is spam or not spam (ham) based on two features: length of the email and number of exclamation marks."
   ]
  },
  {
   "cell_type": "code",
   "metadata": {},
   "source": [
    "# Example dataset\n",
    "X = np.array([[10, 2], [20, 1], [15, 3], [8, 0], [25, 2]])  # Features: length, exclamation marks\n",
    "y_true = np.array([1, 0, 1, 0, 1])  # True labels: 1 (spam), 0 (ham)\n",
    "\n",
    "# Sample predictions (you can replace this with actual predictions from your model)\n",
    "y_pred = np.array([1, 0, 1, 0, 1])  # Predicted labels"
   ]
  },
  {
   "cell_type": "markdown",
   "metadata": {},
   "source": [
    "### Classification Matrix\n",
    "\n",
    "A classification matrix, also known as a confusion matrix, is a table that describes the performance of a classification model on a set of test data for which the true values are known. It allows visualization of the performance of an algorithm. Let's calculate the classification matrix for our example."
   ]
  },
  {
   "cell_type": "code",
   "metadata": {},
   "source": [
    "# Calculate classification matrix\n",
    "cm = confusion_matrix(y_true, y_pred)\n",
    "cm_df = pd.DataFrame(cm, columns=['Predicted Ham', 'Predicted Spam'], index=['Actual Ham', 'Actual Spam'])\n",
    "\n",
    "# Display classification matrix\n",
    "cm_df"
   ]
  },
  {
   "cell_type": "markdown",
   "metadata": {},
   "source": [
    "### Classification Report\n",
    "\n",
    "A classification report is used to evaluate the quality of predictions from a classification algorithm. It provides precision, recall, F1-score, and support for each class. Let's calculate the classification report for our example."
   ]
  },
  {
   "cell_type": "code",
   "metadata": {},
   "source": [
    "# Calculate classification report\n",
    "cr = classification_report(y_true, y_pred)\n",
    "\n",
    "# Display classification report\n",
    "print(cr)"
   ]
  },
  {
   "cell_type": "markdown",
   "metadata": {},
   "source": [
    "### Interpretation\n",
    "\n",
    "In our example:\n",
    "- **True Positives (TP)**: Emails correctly classified as spam (actual spam and predicted spam)\n",
    "- **False Positives (FP)**: Emails incorrectly classified as spam (actual ham but predicted spam)\n",
    "- **True Negatives (TN)**: Emails correctly classified as ham (actual ham and predicted ham)\n",
    "- **False Negatives (FN)**: Emails incorrectly classified as ham (actual spam but predicted ham)\n",
    "\n",
    "From the classification matrix and report, we can see how well our classification model is performing. Depending on the application, we may prioritize certain metrics. For example, in spam detection, we may want to minimize false positives (emails incorrectly classified as spam), so precision would be an important metric. On the other hand, in medical diagnosis, we may want to minimize false negatives (missed diagnoses), so recall would be crucial."
   ]
  }
 ],
 "metadata": {
  "kernelspec": {
   "display_name": "Python 3",
   "language": "python",
   "name": "python3"
  },
  "language_info": {
   "codemirror_mode": {
    "name": "ipython",
    "version": 3
   },
   "file_extension": ".py",
   "mimetype": "text/x-python",
   "name": "python",
   "nbconvert_exporter": "python",
   "pygments_lexer": "ipython3",
   "version": "3.8.10"
  }
 },
 "nbformat": 4,
 "nbformat_minor": 5
}
