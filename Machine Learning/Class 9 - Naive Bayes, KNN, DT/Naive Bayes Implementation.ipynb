{
 "cells": [
  {
   "cell_type": "markdown",
   "metadata": {},
   "source": [
    "# Naive Bayes Classification from Scratch\n",
    "\n",
    "In this notebook, we'll implement the Naive Bayes algorithm from scratch. We'll go through each step in detail, explaining the concepts and code to ensure a thorough understanding."
   ]
  },
  {
   "cell_type": "markdown",
   "metadata": {},
   "source": [
    "## Importing Libraries\n",
    "\n",
    "First, we'll import the necessary libraries."
   ]
  },
  {
   "cell_type": "code",
   "execution_count": 36,
   "metadata": {},
   "outputs": [],
   "source": [
    "# Importing necessary libraries\n",
    "import numpy as np\n",
    "import pandas as pd\n",
    "from sklearn.model_selection import train_test_split\n",
    "from collections import defaultdict\n",
    "import matplotlib.pyplot as plt"
   ]
  },
  {
   "cell_type": "code",
   "execution_count": 40,
   "metadata": {},
   "outputs": [
    {
     "ename": "KeyError",
     "evalue": "1",
     "output_type": "error",
     "traceback": [
      "\u001b[0;31m---------------------------------------------------------------------------\u001b[0m",
      "\u001b[0;31mKeyError\u001b[0m                                  Traceback (most recent call last)",
      "Cell \u001b[0;32mIn[40], line 2\u001b[0m\n\u001b[1;32m      1\u001b[0m d1 \u001b[38;5;241m=\u001b[39m {}\n\u001b[0;32m----> 2\u001b[0m d1[\u001b[38;5;241m1\u001b[39m]\n",
      "\u001b[0;31mKeyError\u001b[0m: 1"
     ]
    }
   ],
   "source": [
    "d1 = {}\n",
    "d1[1]"
   ]
  },
  {
   "cell_type": "code",
   "execution_count": 48,
   "metadata": {},
   "outputs": [
    {
     "data": {
      "text/plain": [
       "0"
      ]
     },
     "execution_count": 48,
     "metadata": {},
     "output_type": "execute_result"
    }
   ],
   "source": [
    "def defaultValue():\n",
    "    return 0\n",
    "\n",
    "d2 = defaultdict(defaultValue)\n",
    "d2[3]"
   ]
  },
  {
   "cell_type": "markdown",
   "metadata": {},
   "source": [
    "## Loading the Dataset\n",
    "\n",
    "We'll use the Iris dataset for our Naive Bayes implementation. Let's load and inspect the dataset."
   ]
  },
  {
   "cell_type": "code",
   "execution_count": 50,
   "metadata": {},
   "outputs": [
    {
     "name": "stdout",
     "output_type": "stream",
     "text": [
      "   sepal length (cm)  sepal width (cm)  petal length (cm)  petal width (cm)  \\\n",
      "0                5.1               3.5                1.4               0.2   \n",
      "1                4.9               3.0                1.4               0.2   \n",
      "2                4.7               3.2                1.3               0.2   \n",
      "3                4.6               3.1                1.5               0.2   \n",
      "4                5.0               3.6                1.4               0.2   \n",
      "\n",
      "       species  \n",
      "0  Iris-setosa  \n",
      "1  Iris-setosa  \n",
      "2  Iris-setosa  \n",
      "3  Iris-setosa  \n",
      "4  Iris-setosa  \n"
     ]
    }
   ],
   "source": [
    "# Loading the Iris dataset\n",
    "from sklearn.datasets import load_iris\n",
    "\n",
    "iris = load_iris()\n",
    "data = pd.DataFrame(data= np.c_[iris['data'], iris['target']],\n",
    "                    columns= iris['feature_names'] + ['species'])\n",
    "\n",
    "# Mapping target labels to iris species\n",
    "data['species'] = data['species'].map({0: 'Iris-setosa', 1: 'Iris-versicolor', 2: 'Iris-virginica'})\n",
    "\n",
    "# Displaying the first few rows of the dataset\n",
    "print(data.head())"
   ]
  },
  {
   "cell_type": "markdown",
   "metadata": {},
   "source": [
    "## Splitting the Dataset\n",
    "\n",
    "We'll split the dataset into training and testing sets to evaluate our Naive Bayes model."
   ]
  },
  {
   "cell_type": "code",
   "execution_count": 52,
   "metadata": {},
   "outputs": [],
   "source": [
    "# Splitting the dataset into training and testing sets\n",
    "X = data.iloc[:, :-1].values\n",
    "y = data.iloc[:, -1].values\n",
    "\n",
    "X_train, X_test, y_train, y_test = train_test_split(X, y, test_size=0.3, random_state=42)"
   ]
  },
  {
   "cell_type": "markdown",
   "metadata": {},
   "source": [
    "## Naive Bayes Classifier\n",
    "\n",
    "The Naive Bayes classifier is based on Bayes' theorem with the \"naive\" assumption of conditional independence between every pair of features given the value of the class variable."
   ]
  },
  {
   "cell_type": "markdown",
   "metadata": {},
   "source": [
    "### Bayes' Theorem\n",
    "\n",
    "Bayes' theorem describes the probability of an event, based on prior knowledge of conditions that might be related to the event. The formula is:\n",
    "\n",
    "\\[\n",
    "P(A|B) = \\frac{P(B|A) \\, P(A)}{P(B)}\n",
    "\\]\n",
    "\n",
    "Where:\n",
    "- \\( P(A|B) \\) is the posterior probability of class (target) given predictor (attribute).\n",
    "- \\( P(B|A) \\) is the likelihood which is the probability of predictor given class.\n",
    "- \\( P(A) \\) is the prior probability of class.\n",
    "- \\( P(B) \\) is the prior probability of predictor."
   ]
  },
  {
   "cell_type": "markdown",
   "metadata": {},
   "source": [
    "### Naive Bayes Assumption\n",
    "\n",
    "The \"naive\" assumption is that the presence of a particular feature in a class is unrelated to the presence of any other feature. In other words, the features are conditionally independent."
   ]
  },
  {
   "cell_type": "markdown",
   "metadata": {},
   "source": [
    "### Gaussian Naive Bayes\n",
    "\n",
    "For continuous data, we assume that the features follow a Gaussian (normal) distribution. The probability density function of a normal distribution is given by:\n",
    "\n",
    "$$ P(x|\\mu, \\sigma) = \\frac{1}{\\sqrt{2 \\pi \\sigma^2}} \\exp\\left(-\\frac{(x-\\mu)^2}{2\\sigma^2}\\right) $$\n",
    "\n",
    "Where \\( \\mu \\) is the mean and \\( \\sigma \\) is the standard deviation.\n"
   ]
  },
  {
   "cell_type": "code",
   "execution_count": 60,
   "metadata": {},
   "outputs": [
    {
     "data": {
      "text/plain": [
       "array(['Iris-setosa', 'Iris-versicolor', 'Iris-virginica'], dtype=object)"
      ]
     },
     "execution_count": 60,
     "metadata": {},
     "output_type": "execute_result"
    }
   ],
   "source": [
    "np.unique(y)"
   ]
  },
  {
   "cell_type": "code",
   "execution_count": 12,
   "metadata": {},
   "outputs": [],
   "source": [
    "# Function to calculate the mean and standard deviation for each feature\n",
    "def summarize_by_class(X, y):\n",
    "    summaries = defaultdict(list)\n",
    "    for label in np.unique(y):\n",
    "        features = X[y == label]\n",
    "        summaries[label] = [(np.mean(feature), np.std(feature)) for feature in zip(*features)]\n",
    "    return summaries"
   ]
  },
  {
   "cell_type": "code",
   "execution_count": 68,
   "metadata": {},
   "outputs": [
    {
     "data": {
      "text/plain": [
       "array([[6.1, 2.8, 4.7, 1.2],\n",
       "       [5.7, 3.8, 1.7, 0.3],\n",
       "       [7.7, 2.6, 6.9, 2.3],\n",
       "       [6. , 2.9, 4.5, 1.5],\n",
       "       [6.8, 2.8, 4.8, 1.4],\n",
       "       [5.4, 3.4, 1.5, 0.4],\n",
       "       [5.6, 2.9, 3.6, 1.3],\n",
       "       [6.9, 3.1, 5.1, 2.3],\n",
       "       [6.2, 2.2, 4.5, 1.5],\n",
       "       [5.8, 2.7, 3.9, 1.2],\n",
       "       [6.5, 3.2, 5.1, 2. ],\n",
       "       [4.8, 3. , 1.4, 0.1],\n",
       "       [5.5, 3.5, 1.3, 0.2],\n",
       "       [4.9, 3.1, 1.5, 0.1],\n",
       "       [5.1, 3.8, 1.5, 0.3],\n",
       "       [6.3, 3.3, 4.7, 1.6],\n",
       "       [6.5, 3. , 5.8, 2.2],\n",
       "       [5.6, 2.5, 3.9, 1.1],\n",
       "       [5.7, 2.8, 4.5, 1.3],\n",
       "       [6.4, 2.8, 5.6, 2.2],\n",
       "       [4.7, 3.2, 1.6, 0.2],\n",
       "       [6.1, 3. , 4.9, 1.8],\n",
       "       [5. , 3.4, 1.6, 0.4],\n",
       "       [6.4, 2.8, 5.6, 2.1],\n",
       "       [7.9, 3.8, 6.4, 2. ],\n",
       "       [6.7, 3. , 5.2, 2.3],\n",
       "       [6.7, 2.5, 5.8, 1.8],\n",
       "       [6.8, 3.2, 5.9, 2.3],\n",
       "       [4.8, 3. , 1.4, 0.3],\n",
       "       [4.8, 3.1, 1.6, 0.2],\n",
       "       [4.6, 3.6, 1. , 0.2],\n",
       "       [5.7, 4.4, 1.5, 0.4],\n",
       "       [6.7, 3.1, 4.4, 1.4],\n",
       "       [4.8, 3.4, 1.6, 0.2],\n",
       "       [4.4, 3.2, 1.3, 0.2],\n",
       "       [6.3, 2.5, 5. , 1.9],\n",
       "       [6.4, 3.2, 4.5, 1.5],\n",
       "       [5.2, 3.5, 1.5, 0.2],\n",
       "       [5. , 3.6, 1.4, 0.2],\n",
       "       [5.2, 4.1, 1.5, 0.1],\n",
       "       [5.8, 2.7, 5.1, 1.9],\n",
       "       [6. , 3.4, 4.5, 1.6],\n",
       "       [6.7, 3.1, 4.7, 1.5],\n",
       "       [5.4, 3.9, 1.3, 0.4],\n",
       "       [5.4, 3.7, 1.5, 0.2]])"
      ]
     },
     "execution_count": 68,
     "metadata": {},
     "output_type": "execute_result"
    }
   ],
   "source": [
    "X_test"
   ]
  },
  {
   "cell_type": "markdown",
   "metadata": {},
   "source": [
    "## Calculating Class Probabilities\n",
    "\n",
    "Using the summaries (mean and standard deviation), we can calculate the probability of a data point belonging to each class."
   ]
  },
  {
   "cell_type": "code",
   "execution_count": 14,
   "metadata": {},
   "outputs": [],
   "source": [
    "# Function to calculate the Gaussian probability density function\n",
    "def calculate_probability(x, mean, stdev):\n",
    "    exponent = np.exp(-((x - mean) ** 2 / (2 * stdev ** 2)))\n",
    "    return (1 / (np.sqrt(2 * np.pi) * stdev)) * exponent"
   ]
  },
  {
   "cell_type": "code",
   "execution_count": 15,
   "metadata": {},
   "outputs": [],
   "source": [
    "# Function to calculate the class probabilities for a given input\n",
    "def calculate_class_probabilities(summaries, input_vector):\n",
    "    probabilities = {}\n",
    "    for class_value, class_summaries in summaries.items():\n",
    "        probabilities[class_value] = 1\n",
    "        for i in range(len(class_summaries)):\n",
    "            mean, stdev = class_summaries[i]\n",
    "            x = input_vector[i]\n",
    "            probabilities[class_value] *= calculate_probability(x, mean, stdev)\n",
    "    return probabilities"
   ]
  },
  {
   "cell_type": "code",
   "execution_count": null,
   "metadata": {},
   "outputs": [],
   "source": []
  },
  {
   "cell_type": "code",
   "execution_count": 104,
   "metadata": {},
   "outputs": [
    {
     "data": {
      "text/plain": [
       "dict_items([('Iris-setosa', [(4.964516129032259, 0.3346142575455468), (3.3774193548387097, 0.36957663435023635), (1.4645161290322577, 0.18236508419487185), (0.24838709677419357, 0.10737623856189187)]), ('Iris-versicolor', [(5.8621621621621625, 0.524714260130706), (2.724324324324324, 0.29537461821220007), (4.210810810810811, 0.48922651791278887), (1.3027027027027025, 0.20333235539247596)]), ('Iris-virginica', [(6.559459459459459, 0.6499311645295484), (2.986486486486486, 0.310328650689888), (5.545945945945946, 0.5370563383777094), (2.005405405405405, 0.29311555321809374)])])"
      ]
     },
     "execution_count": 104,
     "metadata": {},
     "output_type": "execute_result"
    }
   ],
   "source": [
    "class_"
   ]
  },
  {
   "cell_type": "markdown",
   "metadata": {},
   "source": [
    "## Making Predictions\n",
    "\n",
    "To make a prediction, we select the class with the highest probability."
   ]
  },
  {
   "cell_type": "code",
   "execution_count": 106,
   "metadata": {},
   "outputs": [],
   "source": [
    "# Function to make a prediction for a given input\n",
    "def predict(summaries, input_vector):\n",
    "    probabilities = calculate_class_probabilities(summaries, input_vector)\n",
    "    best_label, best_prob = None, -1\n",
    "    print(probabilities)\n",
    "    for class_value, probability in probabilities.items():\n",
    "        if best_label is None or probability > best_prob:\n",
    "            best_prob = probability\n",
    "            best_label = class_value\n",
    "    return best_label"
   ]
  },
  {
   "cell_type": "markdown",
   "metadata": {},
   "source": [
    "## Training the Model\n",
    "\n",
    "We'll use the training data to calculate the summaries (mean and standard deviation) for each class."
   ]
  },
  {
   "cell_type": "code",
   "execution_count": 19,
   "metadata": {},
   "outputs": [
    {
     "data": {
      "text/plain": [
       "defaultdict(list,\n",
       "            {'Iris-setosa': [(4.964516129032259, 0.3346142575455468),\n",
       "              (3.3774193548387097, 0.36957663435023635),\n",
       "              (1.4645161290322577, 0.18236508419487185),\n",
       "              (0.24838709677419357, 0.10737623856189187)],\n",
       "             'Iris-versicolor': [(5.8621621621621625, 0.524714260130706),\n",
       "              (2.724324324324324, 0.29537461821220007),\n",
       "              (4.210810810810811, 0.48922651791278887),\n",
       "              (1.3027027027027025, 0.20333235539247596)],\n",
       "             'Iris-virginica': [(6.559459459459459, 0.6499311645295484),\n",
       "              (2.986486486486486, 0.310328650689888),\n",
       "              (5.545945945945946, 0.5370563383777094),\n",
       "              (2.005405405405405, 0.29311555321809374)]})"
      ]
     },
     "execution_count": 19,
     "metadata": {},
     "output_type": "execute_result"
    }
   ],
   "source": [
    "# Training the Naive Bayes model\n",
    "summaries = summarize_by_class(X_train, y_train)\n",
    "summaries"
   ]
  },
  {
   "cell_type": "markdown",
   "metadata": {},
   "source": [
    "## Evaluating the Model\n",
    "\n",
    "We'll use the testing data to evaluate the accuracy of our Naive Bayes model."
   ]
  },
  {
   "cell_type": "code",
   "execution_count": 62,
   "metadata": {},
   "outputs": [
    {
     "data": {
      "text/plain": [
       "array([[6.1, 2.8, 4.7, 1.2],\n",
       "       [5.7, 3.8, 1.7, 0.3],\n",
       "       [7.7, 2.6, 6.9, 2.3],\n",
       "       [6. , 2.9, 4.5, 1.5],\n",
       "       [6.8, 2.8, 4.8, 1.4],\n",
       "       [5.4, 3.4, 1.5, 0.4],\n",
       "       [5.6, 2.9, 3.6, 1.3],\n",
       "       [6.9, 3.1, 5.1, 2.3],\n",
       "       [6.2, 2.2, 4.5, 1.5],\n",
       "       [5.8, 2.7, 3.9, 1.2],\n",
       "       [6.5, 3.2, 5.1, 2. ],\n",
       "       [4.8, 3. , 1.4, 0.1],\n",
       "       [5.5, 3.5, 1.3, 0.2],\n",
       "       [4.9, 3.1, 1.5, 0.1],\n",
       "       [5.1, 3.8, 1.5, 0.3],\n",
       "       [6.3, 3.3, 4.7, 1.6],\n",
       "       [6.5, 3. , 5.8, 2.2],\n",
       "       [5.6, 2.5, 3.9, 1.1],\n",
       "       [5.7, 2.8, 4.5, 1.3],\n",
       "       [6.4, 2.8, 5.6, 2.2],\n",
       "       [4.7, 3.2, 1.6, 0.2],\n",
       "       [6.1, 3. , 4.9, 1.8],\n",
       "       [5. , 3.4, 1.6, 0.4],\n",
       "       [6.4, 2.8, 5.6, 2.1],\n",
       "       [7.9, 3.8, 6.4, 2. ],\n",
       "       [6.7, 3. , 5.2, 2.3],\n",
       "       [6.7, 2.5, 5.8, 1.8],\n",
       "       [6.8, 3.2, 5.9, 2.3],\n",
       "       [4.8, 3. , 1.4, 0.3],\n",
       "       [4.8, 3.1, 1.6, 0.2],\n",
       "       [4.6, 3.6, 1. , 0.2],\n",
       "       [5.7, 4.4, 1.5, 0.4],\n",
       "       [6.7, 3.1, 4.4, 1.4],\n",
       "       [4.8, 3.4, 1.6, 0.2],\n",
       "       [4.4, 3.2, 1.3, 0.2],\n",
       "       [6.3, 2.5, 5. , 1.9],\n",
       "       [6.4, 3.2, 4.5, 1.5],\n",
       "       [5.2, 3.5, 1.5, 0.2],\n",
       "       [5. , 3.6, 1.4, 0.2],\n",
       "       [5.2, 4.1, 1.5, 0.1],\n",
       "       [5.8, 2.7, 5.1, 1.9],\n",
       "       [6. , 3.4, 4.5, 1.6],\n",
       "       [6.7, 3.1, 4.7, 1.5],\n",
       "       [5.4, 3.9, 1.3, 0.4],\n",
       "       [5.4, 3.7, 1.5, 0.2]])"
      ]
     },
     "execution_count": 62,
     "metadata": {},
     "output_type": "execute_result"
    }
   ],
   "source": [
    "X_test"
   ]
  },
  {
   "cell_type": "code",
   "execution_count": 116,
   "metadata": {},
   "outputs": [
    {
     "name": "stdout",
     "output_type": "stream",
     "text": [
      "{'Iris-setosa': 3.819364566872026e-88, 'Iris-versicolor': 0.7660318658826788, 'Iris-virginica': 0.0034412108459275525}\n",
      "Predicted Iris-versicolor True Iris-versicolor\n",
      "{'Iris-setosa': 0.1880670217551684, 'Iris-versicolor': 2.0646523299900197e-14, 'Iris-virginica': 3.494454015975696e-21}\n",
      "Predicted Iris-setosa True Iris-setosa\n",
      "{'Iris-setosa': 2.3233632571942632e-287, 'Iris-versicolor': 5.348993080940257e-15, 'Iris-virginica': 0.001980094348251244}\n",
      "Predicted Iris-virginica True Iris-virginica\n",
      "{'Iris-setosa': 8.152283962643816e-92, 'Iris-versicolor': 0.6974409547337572, 'Iris-virginica': 0.017984777902018273}\n",
      "Predicted Iris-versicolor True Iris-versicolor\n",
      "{'Iris-setosa': 2.1672636827285892e-104, 'Iris-versicolor': 0.13899956541713993, 'Iris-virginica': 0.028085151216358836}\n",
      "Predicted Iris-versicolor True Iris-versicolor\n",
      "{'Iris-setosa': 1.6210218247921802, 'Iris-versicolor': 9.204114449941676e-13, 'Iris-virginica': 9.709314209511034e-21}\n",
      "Predicted Iris-setosa True Iris-setosa\n",
      "{'Iris-setosa': 1.8623581891760287e-51, 'Iris-versicolor': 0.5572875487482046, 'Iris-virginica': 2.010482953368181e-05}\n",
      "Predicted Iris-versicolor True Iris-versicolor\n",
      "{'Iris-setosa': 1.1520311849401038e-172, 'Iris-versicolor': 1.1848681408516475e-07, 'Iris-virginica': 0.27807322392007155}\n",
      "Predicted Iris-virginica True Iris-virginica\n",
      "{'Iris-setosa': 1.544559274832231e-94, 'Iris-versicolor': 0.1448932199850026, 'Iris-virginica': 0.0009365016299906888}\n",
      "Predicted Iris-versicolor True Iris-versicolor\n",
      "{'Iris-setosa': 1.4174002472845926e-57, 'Iris-versicolor': 1.169669646830603, 'Iris-virginica': 5.511185253708078e-05}\n",
      "Predicted Iris-versicolor True Iris-versicolor\n",
      "{'Iris-setosa': 2.066133819743699e-148, 'Iris-versicolor': 0.00011495305517704839, 'Iris-virginica': 0.44410822354473956}\n",
      "Predicted Iris-virginica True Iris-virginica\n",
      "{'Iris-setosa': 1.9893714793049475, 'Iris-versicolor': 2.3518730386481853e-16, 'Iris-virginica': 1.5606484127480095e-24}\n",
      "Predicted Iris-setosa True Iris-setosa\n",
      "{'Iris-setosa': 1.6547387173926469, 'Iris-versicolor': 3.4765601812672015e-16, 'Iris-virginica': 8.30985886235732e-24}\n",
      "Predicted Iris-setosa True Iris-setosa\n",
      "{'Iris-setosa': 2.9254814946505365, 'Iris-versicolor': 7.411629708960454e-16, 'Iris-virginica': 9.06052739813573e-24}\n",
      "Predicted Iris-setosa True Iris-setosa\n",
      "{'Iris-setosa': 4.381778544109921, 'Iris-versicolor': 8.510638754933273e-16, 'Iris-virginica': 4.3634770651179995e-23}\n",
      "Predicted Iris-setosa True Iris-setosa\n",
      "{'Iris-setosa': 6.204315945330142e-106, 'Iris-versicolor': 0.036163580942687346, 'Iris-virginica': 0.049147711069093096}\n",
      "Predicted Iris-virginica True Iris-versicolor\n",
      "{'Iris-setosa': 5.7257061512137145e-199, 'Iris-versicolor': 1.5329203033583675e-07, 'Iris-virginica': 0.5693313529441759}\n",
      "Predicted Iris-virginica True Iris-virginica\n",
      "{'Iris-setosa': 4.2056053153024463e-54, 'Iris-versicolor': 0.5404147033681037, 'Iris-virginica': 6.0749444673943765e-06}\n",
      "Predicted Iris-versicolor True Iris-versicolor\n",
      "{'Iris-setosa': 2.8161667771703076e-82, 'Iris-versicolor': 1.2726852365864891, 'Iris-virginica': 0.002304011801407229}\n",
      "Predicted Iris-versicolor True Iris-versicolor\n",
      "{'Iris-setosa': 1.2371465672748633e-187, 'Iris-versicolor': 9.853175586488462e-07, 'Iris-virginica': 0.5158213969276914}\n",
      "Predicted Iris-virginica True Iris-virginica\n",
      "{'Iris-setosa': 4.675769787832576, 'Iris-versicolor': 1.0389383161977691e-14, 'Iris-virginica': 1.1512699446980844e-22}\n",
      "Predicted Iris-setosa True Iris-setosa\n",
      "{'Iris-setosa': 7.709131352515371e-125, 'Iris-versicolor': 0.01786637771193274, 'Iris-virginica': 0.23561130971228958}\n",
      "Predicted Iris-virginica True Iris-virginica\n",
      "{'Iris-setosa': 2.907462178012035, 'Iris-versicolor': 1.069053923957898e-12, 'Iris-virginica': 1.0709871447037284e-20}\n",
      "Predicted Iris-setosa True Iris-setosa\n",
      "{'Iris-setosa': 1.8002813683563698e-180, 'Iris-versicolor': 7.649117871243367e-06, 'Iris-virginica': 0.610364783217185}\n",
      "Predicted Iris-virginica True Iris-virginica\n",
      "{'Iris-setosa': 1.5491627030832658e-233, 'Iris-versicolor': 1.4409183337539478e-13, 'Iris-virginica': 0.0008642261619000225}\n",
      "Predicted Iris-virginica True Iris-virginica\n",
      "{'Iris-setosa': 3.7023044268572405e-176, 'Iris-versicolor': 2.2973816542896666e-07, 'Iris-virginica': 0.3818399705961759}\n",
      "Predicted Iris-virginica True Iris-virginica\n",
      "{'Iris-setosa': 7.642493090439589e-175, 'Iris-versicolor': 8.84156046261019e-05, 'Iris-virginica': 0.15953892692647112}\n",
      "Predicted Iris-virginica True Iris-virginica\n",
      "{'Iris-setosa': 5.0872033343199974e-214, 'Iris-versicolor': 1.4001628786401172e-09, 'Iris-virginica': 0.28552068204802494}\n",
      "Predicted Iris-virginica True Iris-virginica\n",
      "{'Iris-setosa': 4.605120929355117, 'Iris-versicolor': 4.8759623046686136e-14, 'Iris-virginica': 1.0435389947579138e-22}\n",
      "Predicted Iris-setosa True Iris-setosa\n",
      "{'Iris-setosa': 4.7945575416602475, 'Iris-versicolor': 2.5346266588606634e-14, 'Iris-virginica': 2.0938823426033952e-22}\n",
      "Predicted Iris-setosa True Iris-setosa\n",
      "{'Iris-setosa': 0.1698701293860518, 'Iris-versicolor': 2.0463425629935984e-19, 'Iris-virginica': 1.918737927249939e-27}\n",
      "Predicted Iris-setosa True Iris-setosa\n",
      "{'Iris-setosa': 0.0073602287297074185, 'Iris-versicolor': 1.817259200405651e-18, 'Iris-virginica': 1.5098773557005939e-24}\n",
      "Predicted Iris-setosa True Iris-setosa\n",
      "{'Iris-setosa': 6.5214760648828286e-87, 'Iris-versicolor': 0.1692494688507962, 'Iris-virginica': 0.008865364423636194}\n",
      "Predicted Iris-versicolor True Iris-versicolor\n",
      "{'Iris-setosa': 6.3429618011101905, 'Iris-versicolor': 4.158153740033248e-15, 'Iris-virginica': 9.213996112820242e-23}\n",
      "Predicted Iris-setosa True Iris-setosa\n",
      "{'Iris-setosa': 1.35094941356541, 'Iris-versicolor': 7.812323372108164e-17, 'Iris-virginica': 3.900975847042724e-25}\n",
      "Predicted Iris-setosa True Iris-setosa\n",
      "{'Iris-setosa': 2.221276715291403e-137, 'Iris-versicolor': 0.0031646761148029327, 'Iris-virginica': 0.12054949850244333}\n",
      "Predicted Iris-virginica True Iris-virginica\n",
      "{'Iris-setosa': 2.0264262688809387e-93, 'Iris-versicolor': 0.13931625338405682, 'Iris-virginica': 0.02073993374583563}\n",
      "Predicted Iris-versicolor True Iris-versicolor\n",
      "{'Iris-setosa': 6.851593567134576, 'Iris-versicolor': 2.0837553234657924e-15, 'Iris-virginica': 6.238436215287779e-23}\n",
      "Predicted Iris-setosa True Iris-setosa\n",
      "{'Iris-setosa': 7.363152054913243, 'Iris-versicolor': 1.4670288870283316e-16, 'Iris-virginica': 4.2083608455996626e-24}\n",
      "Predicted Iris-setosa True Iris-setosa\n",
      "{'Iris-setosa': 0.4560404365731993, 'Iris-versicolor': 7.857757038068723e-20, 'Iris-virginica': 4.5291277318629815e-26}\n",
      "Predicted Iris-setosa True Iris-setosa\n",
      "{'Iris-setosa': 1.8364278751864233e-139, 'Iris-versicolor': 0.004168452663335727, 'Iris-virginica': 0.17479409939076865}\n",
      "Predicted Iris-virginica True Iris-virginica\n",
      "{'Iris-setosa': 2.3440649312508955e-96, 'Iris-versicolor': 0.03344036168117521, 'Iris-virginica': 0.013074116667411347}\n",
      "Predicted Iris-versicolor True Iris-versicolor\n",
      "{'Iris-setosa': 1.586385614012936e-103, 'Iris-versicolor': 0.07747463693931136, 'Iris-virginica': 0.047679285103735494}\n",
      "Predicted Iris-versicolor True Iris-versicolor\n",
      "{'Iris-setosa': 0.405450286228648, 'Iris-versicolor': 4.3652038077845304e-16, 'Iris-virginica': 1.7480813146626575e-23}\n",
      "Predicted Iris-setosa True Iris-setosa\n",
      "{'Iris-setosa': 2.7163979834244207, 'Iris-versicolor': 4.2112166820889957e-16, 'Iris-virginica': 3.1674584659407225e-23}\n",
      "Predicted Iris-setosa True Iris-setosa\n",
      "Accuracy: 0.9777777777777777\n"
     ]
    }
   ],
   "source": [
    "# Function to evaluate the accuracy of the model\n",
    "def evaluate_model(summaries, X_test, y_test):\n",
    "    correct = 0\n",
    "    y_pred = []\n",
    "    for i in range(len(X_test)):\n",
    "        input_vector = X_test[i]\n",
    "        true_label = y_test[i]\n",
    "        predicted_label = predict(summaries, input_vector)\n",
    "        print(\"Predicted\", predicted_label , \"True\", true_label)\n",
    "        if predicted_label == true_label:\n",
    "            correct += 1\n",
    "        y_pred.append(predicted_label)\n",
    "    accuracy = correct / len(X_test)\n",
    "    return accuracy,y_pred\n",
    "\n",
    "# Evaluating the model\n",
    "accuracy,y_pred = evaluate_model(summaries, X_test, y_test)\n",
    "print(f'Accuracy: {accuracy}')"
   ]
  },
  {
   "cell_type": "code",
   "execution_count": 118,
   "metadata": {},
   "outputs": [
    {
     "data": {
      "text/html": [
       "<div>\n",
       "<style scoped>\n",
       "    .dataframe tbody tr th:only-of-type {\n",
       "        vertical-align: middle;\n",
       "    }\n",
       "\n",
       "    .dataframe tbody tr th {\n",
       "        vertical-align: top;\n",
       "    }\n",
       "\n",
       "    .dataframe thead th {\n",
       "        text-align: right;\n",
       "    }\n",
       "</style>\n",
       "<table border=\"1\" class=\"dataframe\">\n",
       "  <thead>\n",
       "    <tr style=\"text-align: right;\">\n",
       "      <th>col_0</th>\n",
       "      <th>Iris-setosa</th>\n",
       "      <th>Iris-versicolor</th>\n",
       "      <th>Iris-virginica</th>\n",
       "    </tr>\n",
       "    <tr>\n",
       "      <th>row_0</th>\n",
       "      <th></th>\n",
       "      <th></th>\n",
       "      <th></th>\n",
       "    </tr>\n",
       "  </thead>\n",
       "  <tbody>\n",
       "    <tr>\n",
       "      <th>Iris-setosa</th>\n",
       "      <td>19</td>\n",
       "      <td>0</td>\n",
       "      <td>0</td>\n",
       "    </tr>\n",
       "    <tr>\n",
       "      <th>Iris-versicolor</th>\n",
       "      <td>0</td>\n",
       "      <td>12</td>\n",
       "      <td>1</td>\n",
       "    </tr>\n",
       "    <tr>\n",
       "      <th>Iris-virginica</th>\n",
       "      <td>0</td>\n",
       "      <td>0</td>\n",
       "      <td>13</td>\n",
       "    </tr>\n",
       "  </tbody>\n",
       "</table>\n",
       "</div>"
      ],
      "text/plain": [
       "col_0            Iris-setosa  Iris-versicolor  Iris-virginica\n",
       "row_0                                                        \n",
       "Iris-setosa               19                0               0\n",
       "Iris-versicolor            0               12               1\n",
       "Iris-virginica             0                0              13"
      ]
     },
     "execution_count": 118,
     "metadata": {},
     "output_type": "execute_result"
    }
   ],
   "source": [
    "pd.crosstab(y_test,y_pred)"
   ]
  },
  {
   "cell_type": "markdown",
   "metadata": {},
   "source": [
    "## Conclusion\n",
    "\n",
    "In this notebook, we've implemented the Naive Bayes algorithm from scratch. We've covered the following steps:\n",
    "- Understanding Bayes' theorem and the naive assumption.\n",
    "- Calculating the mean and standard deviation for each feature in the training data.\n",
    "- Calculating class probabilities using the Gaussian probability density function.\n",
    "- Making predictions by selecting the class with the highest probability.\n",
    "- Evaluating the accuracy of our model on the testing data.\n",
    "\n",
    "Naive Bayes is a simple yet powerful algorithm that performs well on a variety of tasks, especially those involving text classification."
   ]
  },
  {
   "cell_type": "code",
   "execution_count": null,
   "metadata": {},
   "outputs": [],
   "source": []
  },
  {
   "cell_type": "code",
   "execution_count": 70,
   "metadata": {},
   "outputs": [],
   "source": [
    "from sklearn.naive_bayes import GaussianNB"
   ]
  },
  {
   "cell_type": "code",
   "execution_count": 76,
   "metadata": {},
   "outputs": [],
   "source": [
    "nb = GaussianNB()\n",
    "\n",
    "nb.fit(X_train,y_train)\n",
    "\n",
    "y_pred = nb.predict(X_test)"
   ]
  },
  {
   "cell_type": "code",
   "execution_count": 84,
   "metadata": {},
   "outputs": [
    {
     "data": {
      "text/html": [
       "<div>\n",
       "<style scoped>\n",
       "    .dataframe tbody tr th:only-of-type {\n",
       "        vertical-align: middle;\n",
       "    }\n",
       "\n",
       "    .dataframe tbody tr th {\n",
       "        vertical-align: top;\n",
       "    }\n",
       "\n",
       "    .dataframe thead th {\n",
       "        text-align: right;\n",
       "    }\n",
       "</style>\n",
       "<table border=\"1\" class=\"dataframe\">\n",
       "  <thead>\n",
       "    <tr style=\"text-align: right;\">\n",
       "      <th>col_0</th>\n",
       "      <th>Iris-setosa</th>\n",
       "      <th>Iris-versicolor</th>\n",
       "      <th>Iris-virginica</th>\n",
       "    </tr>\n",
       "    <tr>\n",
       "      <th>row_0</th>\n",
       "      <th></th>\n",
       "      <th></th>\n",
       "      <th></th>\n",
       "    </tr>\n",
       "  </thead>\n",
       "  <tbody>\n",
       "    <tr>\n",
       "      <th>Iris-setosa</th>\n",
       "      <td>19</td>\n",
       "      <td>0</td>\n",
       "      <td>0</td>\n",
       "    </tr>\n",
       "    <tr>\n",
       "      <th>Iris-versicolor</th>\n",
       "      <td>0</td>\n",
       "      <td>12</td>\n",
       "      <td>1</td>\n",
       "    </tr>\n",
       "    <tr>\n",
       "      <th>Iris-virginica</th>\n",
       "      <td>0</td>\n",
       "      <td>0</td>\n",
       "      <td>13</td>\n",
       "    </tr>\n",
       "  </tbody>\n",
       "</table>\n",
       "</div>"
      ],
      "text/plain": [
       "col_0            Iris-setosa  Iris-versicolor  Iris-virginica\n",
       "row_0                                                        \n",
       "Iris-setosa               19                0               0\n",
       "Iris-versicolor            0               12               1\n",
       "Iris-virginica             0                0              13"
      ]
     },
     "execution_count": 84,
     "metadata": {},
     "output_type": "execute_result"
    }
   ],
   "source": [
    "pd.crosstab(y_test,y_pred)"
   ]
  },
  {
   "cell_type": "code",
   "execution_count": 88,
   "metadata": {},
   "outputs": [
    {
     "data": {
      "text/plain": [
       "array(['Iris-setosa', 'Iris-versicolor', 'Iris-virginica'], dtype='<U15')"
      ]
     },
     "execution_count": 88,
     "metadata": {},
     "output_type": "execute_result"
    }
   ],
   "source": [
    "nb.classes_"
   ]
  },
  {
   "cell_type": "code",
   "execution_count": 92,
   "metadata": {},
   "outputs": [
    {
     "data": {
      "text/plain": [
       "array([0.2952381 , 0.35238095, 0.35238095])"
      ]
     },
     "execution_count": 92,
     "metadata": {},
     "output_type": "execute_result"
    }
   ],
   "source": [
    "nb.class_prior_"
   ]
  },
  {
   "cell_type": "code",
   "execution_count": null,
   "metadata": {},
   "outputs": [],
   "source": []
  },
  {
   "cell_type": "code",
   "execution_count": 120,
   "metadata": {},
   "outputs": [
    {
     "data": {
      "text/plain": [
       "datetime.datetime(2024, 7, 14, 16, 13, 22, 527770)"
      ]
     },
     "execution_count": 120,
     "metadata": {},
     "output_type": "execute_result"
    }
   ],
   "source": [
    "import datetime\n",
    "\n",
    "datetime.datetime.now()"
   ]
  },
  {
   "cell_type": "code",
   "execution_count": null,
   "metadata": {},
   "outputs": [],
   "source": [
    "# on a break till 4:25"
   ]
  }
 ],
 "metadata": {
  "kernelspec": {
   "display_name": "Python 3 (ipykernel)",
   "language": "python",
   "name": "python3"
  },
  "language_info": {
   "codemirror_mode": {
    "name": "ipython",
    "version": 3
   },
   "file_extension": ".py",
   "mimetype": "text/x-python",
   "name": "python",
   "nbconvert_exporter": "python",
   "pygments_lexer": "ipython3",
   "version": "3.11.5"
  }
 },
 "nbformat": 4,
 "nbformat_minor": 4
}
