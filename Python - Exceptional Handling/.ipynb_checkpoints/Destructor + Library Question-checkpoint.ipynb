{
 "cells": [
  {
   "cell_type": "code",
   "execution_count": 2,
   "id": "0bd317cd-b93b-472f-af5c-da719499bac5",
   "metadata": {
    "tags": []
   },
   "outputs": [
    {
     "name": "stdout",
     "output_type": "stream",
     "text": [
      "<__main__.Random object at 0x11862a690>\n"
     ]
    }
   ],
   "source": [
    "class Random:\n",
    "    def __init__(self,a):\n",
    "        print(self)\n",
    "        self.name=a\n",
    "r = Random(5)\n",
    "\n",
    " # Please explain this code."
   ]
  },
  {
   "cell_type": "code",
   "execution_count": 6,
   "id": "a07f1f42-f265-483f-be0d-1eb6a7cd2b9d",
   "metadata": {
    "tags": []
   },
   "outputs": [],
   "source": [
    "r.surname = 'abc'"
   ]
  },
  {
   "cell_type": "code",
   "execution_count": 7,
   "id": "b733fbfc-23cd-480a-b0c5-d896cee7f4d7",
   "metadata": {
    "tags": []
   },
   "outputs": [
    {
     "data": {
      "text/plain": [
       "'abc'"
      ]
     },
     "execution_count": 7,
     "metadata": {},
     "output_type": "execute_result"
    }
   ],
   "source": [
    "r.surname"
   ]
  },
  {
   "cell_type": "code",
   "execution_count": 9,
   "id": "e080db9e-00ae-495c-a8fc-276b2ea46375",
   "metadata": {
    "tags": []
   },
   "outputs": [
    {
     "name": "stdout",
     "output_type": "stream",
     "text": [
      "<__main__.Random object at 0x11862a690>\n"
     ]
    }
   ],
   "source": [
    "print(r)"
   ]
  },
  {
   "cell_type": "code",
   "execution_count": null,
   "id": "fe128438-a8aa-4eed-80bf-0e13774d5c81",
   "metadata": {},
   "outputs": [],
   "source": []
  },
  {
   "cell_type": "code",
   "execution_count": null,
   "id": "e7342234-c2c3-4912-adcc-cf8578c44b42",
   "metadata": {},
   "outputs": [],
   "source": []
  },
  {
   "cell_type": "markdown",
   "id": "78ea2c56-a03e-4082-ad16-2d965156bdaf",
   "metadata": {},
   "source": [
    "# Destructor "
   ]
  },
  {
   "cell_type": "code",
   "execution_count": 23,
   "id": "d60f9e89-d4b4-4216-8040-ff31c0e4d3f0",
   "metadata": {
    "tags": []
   },
   "outputs": [
    {
     "name": "stdout",
     "output_type": "stream",
     "text": [
      "I am here\n",
      " i am deleted\n"
     ]
    }
   ],
   "source": [
    "class Mentor :\n",
    "    def __init__(self):\n",
    "        self.name = \"mayank\"\n",
    "        print (\"I am here\")\n",
    "        \n",
    "    def __del__ (self):  # Destructor\n",
    "        # del self.name\n",
    "        print(\" i am deleted\") \n",
    "\n",
    "m = Mentor()"
   ]
  },
  {
   "cell_type": "code",
   "execution_count": 28,
   "id": "0901783b-52f6-4934-b918-bdf694eb85b9",
   "metadata": {
    "tags": []
   },
   "outputs": [
    {
     "name": "stdout",
     "output_type": "stream",
     "text": [
      " i am deleted\n"
     ]
    }
   ],
   "source": [
    "del m"
   ]
  },
  {
   "cell_type": "code",
   "execution_count": 24,
   "id": "45161732-da1b-4bdd-93cf-b4342a26c406",
   "metadata": {
    "tags": []
   },
   "outputs": [
    {
     "data": {
      "text/plain": [
       "'mayank'"
      ]
     },
     "execution_count": 24,
     "metadata": {},
     "output_type": "execute_result"
    }
   ],
   "source": [
    "m.name"
   ]
  },
  {
   "cell_type": "code",
   "execution_count": 25,
   "id": "32c61a08-e9b0-487e-a6b6-97184f7987be",
   "metadata": {
    "tags": []
   },
   "outputs": [],
   "source": [
    "name = m.name"
   ]
  },
  {
   "cell_type": "code",
   "execution_count": 26,
   "id": "1afe5c67-d152-4e71-92c2-902a4580dbfb",
   "metadata": {
    "tags": []
   },
   "outputs": [
    {
     "data": {
      "text/plain": [
       "4704059824"
      ]
     },
     "execution_count": 26,
     "metadata": {},
     "output_type": "execute_result"
    }
   ],
   "source": [
    "id(name)"
   ]
  },
  {
   "cell_type": "code",
   "execution_count": 27,
   "id": "bdeb2074-b42f-434d-83c8-1aac7985840c",
   "metadata": {
    "tags": []
   },
   "outputs": [
    {
     "data": {
      "text/plain": [
       "4704059824"
      ]
     },
     "execution_count": 27,
     "metadata": {},
     "output_type": "execute_result"
    }
   ],
   "source": [
    "id(m.name)"
   ]
  },
  {
   "cell_type": "code",
   "execution_count": 29,
   "id": "8771c35d-17ef-44af-8803-4372b83dc5e0",
   "metadata": {
    "tags": []
   },
   "outputs": [
    {
     "data": {
      "text/plain": [
       "'mayank'"
      ]
     },
     "execution_count": 29,
     "metadata": {},
     "output_type": "execute_result"
    }
   ],
   "source": [
    "name"
   ]
  },
  {
   "cell_type": "code",
   "execution_count": 30,
   "id": "366b2b36-8451-4024-b007-ec91d62dda36",
   "metadata": {
    "tags": []
   },
   "outputs": [
    {
     "ename": "NameError",
     "evalue": "name 'm' is not defined",
     "output_type": "error",
     "traceback": [
      "\u001b[0;31m---------------------------------------------------------------------------\u001b[0m",
      "\u001b[0;31mNameError\u001b[0m                                 Traceback (most recent call last)",
      "Cell \u001b[0;32mIn[30], line 1\u001b[0m\n\u001b[0;32m----> 1\u001b[0m m\n",
      "\u001b[0;31mNameError\u001b[0m: name 'm' is not defined"
     ]
    }
   ],
   "source": [
    "m"
   ]
  },
  {
   "cell_type": "code",
   "execution_count": 32,
   "id": "4c91a5f6-7fba-4dfb-b0bf-610fd14793d9",
   "metadata": {
    "tags": []
   },
   "outputs": [],
   "source": [
    "del name"
   ]
  },
  {
   "cell_type": "code",
   "execution_count": 33,
   "id": "84371b91-d360-4939-b0cd-895e567d7f50",
   "metadata": {
    "tags": []
   },
   "outputs": [
    {
     "ename": "NameError",
     "evalue": "name 'name' is not defined",
     "output_type": "error",
     "traceback": [
      "\u001b[0;31m---------------------------------------------------------------------------\u001b[0m",
      "\u001b[0;31mNameError\u001b[0m                                 Traceback (most recent call last)",
      "Cell \u001b[0;32mIn[33], line 1\u001b[0m\n\u001b[0;32m----> 1\u001b[0m name\n",
      "\u001b[0;31mNameError\u001b[0m: name 'name' is not defined"
     ]
    }
   ],
   "source": [
    "name"
   ]
  },
  {
   "cell_type": "code",
   "execution_count": null,
   "id": "d9794991-c4cf-413f-899b-1cd469fca2de",
   "metadata": {},
   "outputs": [],
   "source": []
  },
  {
   "cell_type": "code",
   "execution_count": null,
   "id": "d7fd087e-192e-485f-b866-67af74210753",
   "metadata": {},
   "outputs": [],
   "source": []
  },
  {
   "cell_type": "code",
   "execution_count": 34,
   "id": "4d1e5a3f-6da1-44f3-bed1-1e58e140cbc5",
   "metadata": {
    "tags": []
   },
   "outputs": [
    {
     "data": {
      "text/plain": [
       "complex"
      ]
     },
     "execution_count": 34,
     "metadata": {},
     "output_type": "execute_result"
    }
   ],
   "source": [
    "complex "
   ]
  },
  {
   "cell_type": "code",
   "execution_count": 36,
   "id": "c3b1ab8b-e3f7-4f34-a1dc-fd115487373d",
   "metadata": {
    "tags": []
   },
   "outputs": [],
   "source": [
    "a  = 3 + 2j\n",
    "b = 6 + 5j"
   ]
  },
  {
   "cell_type": "code",
   "execution_count": 37,
   "id": "b97bd5f1-f32f-48d7-bca6-8f70f9fa335e",
   "metadata": {
    "tags": []
   },
   "outputs": [
    {
     "data": {
      "text/plain": [
       "(9+7j)"
      ]
     },
     "execution_count": 37,
     "metadata": {},
     "output_type": "execute_result"
    }
   ],
   "source": [
    "a+b"
   ]
  },
  {
   "cell_type": "code",
   "execution_count": 38,
   "id": "83890f0c-3bab-4849-afd7-04e9ca889cfe",
   "metadata": {
    "tags": []
   },
   "outputs": [
    {
     "ename": "TypeError",
     "evalue": "'>' not supported between instances of 'complex' and 'complex'",
     "output_type": "error",
     "traceback": [
      "\u001b[0;31m---------------------------------------------------------------------------\u001b[0m",
      "\u001b[0;31mTypeError\u001b[0m                                 Traceback (most recent call last)",
      "Cell \u001b[0;32mIn[38], line 1\u001b[0m\n\u001b[0;32m----> 1\u001b[0m a\u001b[38;5;241m>\u001b[39mb\n",
      "\u001b[0;31mTypeError\u001b[0m: '>' not supported between instances of 'complex' and 'complex'"
     ]
    }
   ],
   "source": [
    "a>b"
   ]
  },
  {
   "cell_type": "code",
   "execution_count": 39,
   "id": "fa6f7ee0-baa3-4a71-b9c3-ce8e80903884",
   "metadata": {
    "tags": []
   },
   "outputs": [
    {
     "data": {
      "text/plain": [
       "(-3-3j)"
      ]
     },
     "execution_count": 39,
     "metadata": {},
     "output_type": "execute_result"
    }
   ],
   "source": [
    "a-b"
   ]
  },
  {
   "cell_type": "code",
   "execution_count": 40,
   "id": "cccd3ce2-5aa3-4484-b3d0-c0f714f4c19e",
   "metadata": {
    "tags": []
   },
   "outputs": [
    {
     "data": {
      "text/plain": [
       "(8+27j)"
      ]
     },
     "execution_count": 40,
     "metadata": {},
     "output_type": "execute_result"
    }
   ],
   "source": [
    "a*b"
   ]
  },
  {
   "cell_type": "code",
   "execution_count": null,
   "id": "66b45809-3260-46c1-9241-78ca267af0bd",
   "metadata": {},
   "outputs": [],
   "source": []
  },
  {
   "cell_type": "code",
   "execution_count": null,
   "id": "b02ddfae-3edf-44dc-b157-16bedf6ddd14",
   "metadata": {},
   "outputs": [],
   "source": []
  },
  {
   "cell_type": "code",
   "execution_count": 41,
   "id": "042092cc-eedc-41dd-913e-5a448ca1cec8",
   "metadata": {
    "tags": []
   },
   "outputs": [],
   "source": [
    "class Library:\n",
    "    def __init__(self):\n",
    "        self.books = []\n",
    "\n",
    "    def add_book(self, book_title):\n",
    "        self.books.append({\"title\": book_title, \"checked_out\": False})\n",
    "\n",
    "    def remove_book(self, book_title):\n",
    "        for book in self.books:\n",
    "            if book[\"title\"] == book_title:\n",
    "                self.books.remove(book)\n",
    "                print(f\"{book_title} has been removed from the library.\")\n",
    "                return\n",
    "        print(f\"Error: {book_title} not found in the library.\")\n",
    "\n",
    "    def list_books(self):\n",
    "        if not self.books:\n",
    "            print(\"No books in the library.\")\n",
    "        else:\n",
    "            for book in self.books:\n",
    "                status = \"Available\" if not book[\"checked_out\"] else \"Checked Out\"\n",
    "                print(f\"{book['title']} - {status}\")\n",
    "\n",
    "    def checkout_book(self, book_title):\n",
    "        for book in self.books:\n",
    "            if book[\"title\"] == book_title:\n",
    "                if not book[\"checked_out\"]:\n",
    "                    book[\"checked_out\"] = True\n",
    "                    print(f\"{book_title} has been checked out.\")\n",
    "                    return\n",
    "                else:\n",
    "                    print(f\"Error: {book_title} is already checked out.\")\n",
    "                    return\n",
    "        print(f\"Error: {book_title} not found in the library.\")\n",
    "\n",
    "    def return_book(self, book_title):\n",
    "        for book in self.books:\n",
    "            if book[\"title\"] == book_title:\n",
    "                if book[\"checked_out\"]:\n",
    "                    book[\"checked_out\"] = False\n",
    "                    print(f\"{book_title} has been returned.\")\n",
    "                    return\n",
    "                else:\n",
    "                    print(f\"Error: {book_title} was not checked out.\")\n",
    "                    return\n",
    "        print(f\"Error: {book_title} not found in the library.\")\n"
   ]
  }
 ],
 "metadata": {
  "kernelspec": {
   "display_name": "Python 3 (ipykernel)",
   "language": "python",
   "name": "python3"
  },
  "language_info": {
   "codemirror_mode": {
    "name": "ipython",
    "version": 3
   },
   "file_extension": ".py",
   "mimetype": "text/x-python",
   "name": "python",
   "nbconvert_exporter": "python",
   "pygments_lexer": "ipython3",
   "version": "3.11.5"
  }
 },
 "nbformat": 4,
 "nbformat_minor": 5
}
