{
 "cells": [
  {
   "cell_type": "code",
   "execution_count": 1,
   "id": "8d9a6e97-75d5-4078-a391-69a4f8b7a83b",
   "metadata": {
    "tags": []
   },
   "outputs": [],
   "source": [
    "import datetime"
   ]
  },
  {
   "cell_type": "code",
   "execution_count": 2,
   "id": "18ad6f0a-646a-405c-a762-a572e43a15d6",
   "metadata": {
    "tags": []
   },
   "outputs": [
    {
     "data": {
      "text/plain": [
       "datetime.datetime(2024, 5, 5, 16, 42, 26, 91779)"
      ]
     },
     "execution_count": 2,
     "metadata": {},
     "output_type": "execute_result"
    }
   ],
   "source": [
    "datetime.datetime.now()\n",
    "\n",
    "We are on a 10 minutes break."
   ]
  },
  {
   "cell_type": "code",
   "execution_count": null,
   "id": "b0981354-bfe0-40e3-9636-d213261e4d2c",
   "metadata": {},
   "outputs": [],
   "source": []
  },
  {
   "cell_type": "code",
   "execution_count": 17,
   "id": "038f6e8d-6981-456e-b939-52431c220062",
   "metadata": {
    "tags": []
   },
   "outputs": [],
   "source": [
    "def square_numbers(numbers):\n",
    "    return [ i**2 for i in numbers]"
   ]
  },
  {
   "cell_type": "code",
   "execution_count": 18,
   "id": "f9a12ae4-0f1b-4b4e-8123-3a93b32642dd",
   "metadata": {
    "tags": []
   },
   "outputs": [],
   "source": [
    "    # Test Case 1:\n",
    "assert square_numbers([1, 2, 3, 4, 5]) == [1, 4, 9, 16, 25]\n",
    "\n",
    "    # Test Case 2:\n",
    "assert square_numbers([0.5, 1.5, 2.5, 3.5]) == [0.25, 2.25, 6.25, 12.25]\n"
   ]
  }
 ],
 "metadata": {
  "kernelspec": {
   "display_name": "Python 3 (ipykernel)",
   "language": "python",
   "name": "python3"
  },
  "language_info": {
   "codemirror_mode": {
    "name": "ipython",
    "version": 3
   },
   "file_extension": ".py",
   "mimetype": "text/x-python",
   "name": "python",
   "nbconvert_exporter": "python",
   "pygments_lexer": "ipython3",
   "version": "3.11.5"
  }
 },
 "nbformat": 4,
 "nbformat_minor": 5
}
