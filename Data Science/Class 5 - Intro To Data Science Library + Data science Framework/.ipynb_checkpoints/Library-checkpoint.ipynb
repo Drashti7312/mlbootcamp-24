{
 "cells": [
  {
   "cell_type": "code",
   "execution_count": null,
   "id": "f371f51a-6cb5-4ffd-92a5-91bb7c4c5675",
   "metadata": {},
   "outputs": [],
   "source": [
    "def mysqrt1():\n",
    "    return 2.24\n",
    "def mysqrt2():\n",
    "    return \"2.something\"\n",
    "\n",
    "\n",
    "def mysqrt3():\n",
    "    return \"2.234\"\n"
   ]
  },
  {
   "cell_type": "code",
   "execution_count": 1,
   "id": "b468e1b6-8a2a-4542-b5fd-e4f2436dcf1e",
   "metadata": {
    "tags": []
   },
   "outputs": [],
   "source": [
    "from math import sqrt"
   ]
  },
  {
   "cell_type": "code",
   "execution_count": 5,
   "id": "abc379e8-109e-4ab7-b682-7798f9de92b0",
   "metadata": {
    "tags": []
   },
   "outputs": [
    {
     "data": {
      "text/plain": [
       "2.23606797749979"
      ]
     },
     "execution_count": 5,
     "metadata": {},
     "output_type": "execute_result"
    }
   ],
   "source": [
    "sqrt(5)"
   ]
  },
  {
   "cell_type": "code",
   "execution_count": 10,
   "id": "2fbe8eea-3ee6-497b-977d-f4b1c20ec929",
   "metadata": {
    "tags": []
   },
   "outputs": [],
   "source": [
    "import pandas\n"
   ]
  },
  {
   "cell_type": "code",
   "execution_count": 11,
   "id": "65af721d-ea25-423a-bba2-b725441cd3a5",
   "metadata": {
    "tags": []
   },
   "outputs": [
    {
     "ename": "ModuleNotFoundError",
     "evalue": "No module named 'basemap'",
     "output_type": "error",
     "traceback": [
      "\u001b[0;31m---------------------------------------------------------------------------\u001b[0m",
      "\u001b[0;31mModuleNotFoundError\u001b[0m                       Traceback (most recent call last)",
      "Cell \u001b[0;32mIn[11], line 1\u001b[0m\n\u001b[0;32m----> 1\u001b[0m \u001b[38;5;28;01mimport\u001b[39;00m \u001b[38;5;21;01mbasemap\u001b[39;00m\n",
      "\u001b[0;31mModuleNotFoundError\u001b[0m: No module named 'basemap'"
     ]
    }
   ],
   "source": [
    "import basemap"
   ]
  }
 ],
 "metadata": {
  "kernelspec": {
   "display_name": "Python 3 (ipykernel)",
   "language": "python",
   "name": "python3"
  },
  "language_info": {
   "codemirror_mode": {
    "name": "ipython",
    "version": 3
   },
   "file_extension": ".py",
   "mimetype": "text/x-python",
   "name": "python",
   "nbconvert_exporter": "python",
   "pygments_lexer": "ipython3",
   "version": "3.11.5"
  }
 },
 "nbformat": 4,
 "nbformat_minor": 5
}
