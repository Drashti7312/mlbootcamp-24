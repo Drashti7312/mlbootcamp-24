{
 "cells": [
  {
   "cell_type": "markdown",
   "id": "831389e1-5bd5-4908-9f80-05ce2c335c56",
   "metadata": {},
   "source": [
    "# Data Science Libraries"
   ]
  },
  {
   "cell_type": "markdown",
   "id": "d026a2ac-d1f0-4951-ad14-9953f5e75f5c",
   "metadata": {},
   "source": [
    "# Sqrt function "
   ]
  },
  {
   "cell_type": "code",
   "execution_count": 8,
   "id": "c4135600-541f-4884-8a4b-3af6044a2917",
   "metadata": {
    "tags": []
   },
   "outputs": [],
   "source": [
    "def sqrt_my(x):\n",
    "    if(x<0):\n",
    "        return 0\n",
    "    midAns = x /2\n",
    "    while(abs(midAns**2-x) > 1e-2):\n",
    "        midAns = (midAns+x/midAns)/2\n",
    "    return midAns"
   ]
  },
  {
   "cell_type": "code",
   "execution_count": 19,
   "id": "e2135395-91c2-44cb-b257-7a6bb14b9ac1",
   "metadata": {
    "tags": []
   },
   "outputs": [
    {
     "data": {
      "text/plain": [
       "3.000015360039322"
      ]
     },
     "execution_count": 19,
     "metadata": {},
     "output_type": "execute_result"
    }
   ],
   "source": [
    "sqrt_my(9)"
   ]
  },
  {
   "cell_type": "code",
   "execution_count": 9,
   "id": "5cfc0464-6389-4a60-a6d5-4cf2ff0ea5a0",
   "metadata": {
    "tags": []
   },
   "outputs": [
    {
     "data": {
      "text/plain": [
       "2.236111111111111"
      ]
     },
     "execution_count": 9,
     "metadata": {},
     "output_type": "execute_result"
    }
   ],
   "source": [
    "sqrt_my(5)"
   ]
  },
  {
   "cell_type": "code",
   "execution_count": 11,
   "id": "187524a9-9de0-491b-a8a3-35b8d38abc96",
   "metadata": {
    "tags": []
   },
   "outputs": [
    {
     "data": {
      "text/plain": [
       "3.162319422150883"
      ]
     },
     "execution_count": 11,
     "metadata": {},
     "output_type": "execute_result"
    }
   ],
   "source": [
    "sqrt_my(10)"
   ]
  },
  {
   "cell_type": "code",
   "execution_count": 14,
   "id": "2ba20e52-2b2a-4988-a85c-fcc59957e646",
   "metadata": {
    "tags": []
   },
   "outputs": [
    {
     "data": {
      "text/plain": [
       "2.0"
      ]
     },
     "execution_count": 14,
     "metadata": {},
     "output_type": "execute_result"
    }
   ],
   "source": [
    "sqrt_my(4)"
   ]
  },
  {
   "cell_type": "code",
   "execution_count": 5,
   "id": "9dbcf8f9-18f9-45e7-9f9c-a27bd3360aed",
   "metadata": {
    "tags": []
   },
   "outputs": [],
   "source": [
    "from math import sqrt"
   ]
  },
  {
   "cell_type": "code",
   "execution_count": 12,
   "id": "cfd39193-1917-4fe9-bfb2-dd45bb5e70d5",
   "metadata": {
    "tags": []
   },
   "outputs": [
    {
     "data": {
      "text/plain": [
       "2.23606797749979"
      ]
     },
     "execution_count": 12,
     "metadata": {},
     "output_type": "execute_result"
    }
   ],
   "source": [
    "sqrt(5)"
   ]
  },
  {
   "cell_type": "code",
   "execution_count": 13,
   "id": "f4449922-8e0c-476a-94d1-626957a33bdd",
   "metadata": {
    "tags": []
   },
   "outputs": [
    {
     "data": {
      "text/plain": [
       "2.0"
      ]
     },
     "execution_count": 13,
     "metadata": {},
     "output_type": "execute_result"
    }
   ],
   "source": [
    "sqrt(4)"
   ]
  },
  {
   "cell_type": "code",
   "execution_count": 16,
   "id": "347c0947-096e-4f4f-af4d-f0cc82fd48ae",
   "metadata": {
    "tags": []
   },
   "outputs": [
    {
     "data": {
      "text/plain": [
       "3.0"
      ]
     },
     "execution_count": 16,
     "metadata": {},
     "output_type": "execute_result"
    }
   ],
   "source": [
    "sqrt(9)"
   ]
  },
  {
   "cell_type": "code",
   "execution_count": 22,
   "id": "a6098591-6a14-4a7f-87e6-738256ee577e",
   "metadata": {
    "tags": []
   },
   "outputs": [],
   "source": [
    "import statistics as stats"
   ]
  },
  {
   "cell_type": "markdown",
   "id": "2ad1b06b-899e-462d-8226-55ed3964a4c2",
   "metadata": {},
   "source": [
    "# Full Library"
   ]
  },
  {
   "cell_type": "code",
   "execution_count": 23,
   "id": "b604d819-4b1a-49d5-8a70-6d4a8d258868",
   "metadata": {
    "tags": []
   },
   "outputs": [],
   "source": [
    "import math\n"
   ]
  },
  {
   "cell_type": "code",
   "execution_count": 25,
   "id": "20ec92c0-a175-4135-9160-b406a7699c0d",
   "metadata": {
    "tags": []
   },
   "outputs": [],
   "source": [
    "import math as m   # m is alias"
   ]
  },
  {
   "cell_type": "code",
   "execution_count": 30,
   "id": "38778b07-31bb-4503-889b-a27087b69950",
   "metadata": {
    "tags": []
   },
   "outputs": [
    {
     "data": {
      "text/plain": [
       "2.23606797749979"
      ]
     },
     "execution_count": 30,
     "metadata": {},
     "output_type": "execute_result"
    }
   ],
   "source": [
    "m.sqrt(5)"
   ]
  },
  {
   "cell_type": "code",
   "execution_count": 26,
   "id": "77345c62-df9b-4a18-9a9a-d78e1d1565d9",
   "metadata": {
    "tags": []
   },
   "outputs": [],
   "source": [
    "# Import Specific Functions only"
   ]
  },
  {
   "cell_type": "code",
   "execution_count": 28,
   "id": "aa4a6808-319f-46d0-9a07-0bfa0f16f57d",
   "metadata": {
    "tags": []
   },
   "outputs": [],
   "source": [
    "from math import sqrt"
   ]
  },
  {
   "cell_type": "code",
   "execution_count": 29,
   "id": "29851348-f32f-4f82-a803-1e6feb721891",
   "metadata": {
    "tags": []
   },
   "outputs": [
    {
     "data": {
      "text/plain": [
       "2.23606797749979"
      ]
     },
     "execution_count": 29,
     "metadata": {},
     "output_type": "execute_result"
    }
   ],
   "source": [
    "sqrt(5)"
   ]
  },
  {
   "cell_type": "code",
   "execution_count": 33,
   "id": "2630a96a-e535-416b-9406-bacf1f13ffc2",
   "metadata": {
    "tags": []
   },
   "outputs": [],
   "source": [
    "from math import sqrt as s # Alias  is useful"
   ]
  },
  {
   "cell_type": "code",
   "execution_count": 32,
   "id": "91e46948-8f1c-46c4-b833-fc38384f4444",
   "metadata": {
    "tags": []
   },
   "outputs": [
    {
     "data": {
      "text/plain": [
       "2.23606797749979"
      ]
     },
     "execution_count": 32,
     "metadata": {},
     "output_type": "execute_result"
    }
   ],
   "source": [
    "s(5)"
   ]
  },
  {
   "cell_type": "code",
   "execution_count": null,
   "id": "dc4b1992-34d6-4622-a0cb-85ef53decdc8",
   "metadata": {},
   "outputs": [],
   "source": []
  },
  {
   "cell_type": "code",
   "execution_count": 34,
   "id": "bac2b46d-f757-421f-92cd-587348268d26",
   "metadata": {
    "tags": []
   },
   "outputs": [],
   "source": [
    "import pandas as pd\n",
    "import numpy as np"
   ]
  },
  {
   "cell_type": "code",
   "execution_count": null,
   "id": "f0a7401a-87e5-412e-bc73-4ca2e965683c",
   "metadata": {},
   "outputs": [],
   "source": []
  },
  {
   "cell_type": "code",
   "execution_count": 39,
   "id": "0d84b553-9bc1-4fa4-8972-31eceacd1d54",
   "metadata": {
    "tags": []
   },
   "outputs": [],
   "source": [
    "import tensorflow as tf"
   ]
  },
  {
   "cell_type": "code",
   "execution_count": 42,
   "id": "69050103-9469-4444-874e-f57399e0c87c",
   "metadata": {
    "tags": []
   },
   "outputs": [
    {
     "data": {
      "text/plain": [
       "['AbsMaxQuantizer',\n",
       " 'DTypePolicy',\n",
       " 'FloatDTypePolicy',\n",
       " 'Function',\n",
       " 'Initializer',\n",
       " 'Input',\n",
       " 'InputSpec',\n",
       " 'KerasTensor',\n",
       " 'Layer',\n",
       " 'Loss',\n",
       " 'Metric',\n",
       " 'Model',\n",
       " 'Operation',\n",
       " 'Optimizer',\n",
       " 'QuantizedDTypePolicy',\n",
       " 'Quantizer',\n",
       " 'Regularizer',\n",
       " 'Sequential',\n",
       " 'StatelessScope',\n",
       " 'Variable',\n",
       " '__builtins__',\n",
       " '__cached__',\n",
       " '__doc__',\n",
       " '__file__',\n",
       " '__loader__',\n",
       " '__name__',\n",
       " '__package__',\n",
       " '__path__',\n",
       " '__spec__',\n",
       " '__version__',\n",
       " '_tf_keras',\n",
       " 'activations',\n",
       " 'applications',\n",
       " 'backend',\n",
       " 'callbacks',\n",
       " 'config',\n",
       " 'constraints',\n",
       " 'datasets',\n",
       " 'device',\n",
       " 'distribution',\n",
       " 'dtype_policies',\n",
       " 'export',\n",
       " 'initializers',\n",
       " 'layers',\n",
       " 'legacy',\n",
       " 'losses',\n",
       " 'metrics',\n",
       " 'mixed_precision',\n",
       " 'models',\n",
       " 'name_scope',\n",
       " 'ops',\n",
       " 'optimizers',\n",
       " 'preprocessing',\n",
       " 'quantizers',\n",
       " 'random',\n",
       " 'regularizers',\n",
       " 'saving',\n",
       " 'src',\n",
       " 'tree',\n",
       " 'utils',\n",
       " 'version']"
      ]
     },
     "execution_count": 42,
     "metadata": {},
     "output_type": "execute_result"
    }
   ],
   "source": [
    "import keras\n",
    "dir(keras)"
   ]
  },
  {
   "cell_type": "code",
   "execution_count": null,
   "id": "e3a1c29d-4b17-4c5a-aa85-9e5d8dfaef66",
   "metadata": {},
   "outputs": [],
   "source": []
  },
  {
   "cell_type": "code",
   "execution_count": null,
   "id": "2efdb76a-8b0b-443d-90be-fce83d23d96c",
   "metadata": {},
   "outputs": [],
   "source": []
  },
  {
   "cell_type": "code",
   "execution_count": 43,
   "id": "6156c589-1d88-4cf9-9de4-bfaf4dba210a",
   "metadata": {
    "tags": []
   },
   "outputs": [],
   "source": [
    "import math as m # alias"
   ]
  },
  {
   "cell_type": "code",
   "execution_count": 44,
   "id": "e342333a-4274-4d0b-b59e-490df4afa766",
   "metadata": {
    "tags": []
   },
   "outputs": [
    {
     "data": {
      "text/plain": [
       "['__doc__',\n",
       " '__file__',\n",
       " '__loader__',\n",
       " '__name__',\n",
       " '__package__',\n",
       " '__spec__',\n",
       " 'acos',\n",
       " 'acosh',\n",
       " 'asin',\n",
       " 'asinh',\n",
       " 'atan',\n",
       " 'atan2',\n",
       " 'atanh',\n",
       " 'cbrt',\n",
       " 'ceil',\n",
       " 'comb',\n",
       " 'copysign',\n",
       " 'cos',\n",
       " 'cosh',\n",
       " 'degrees',\n",
       " 'dist',\n",
       " 'e',\n",
       " 'erf',\n",
       " 'erfc',\n",
       " 'exp',\n",
       " 'exp2',\n",
       " 'expm1',\n",
       " 'fabs',\n",
       " 'factorial',\n",
       " 'floor',\n",
       " 'fmod',\n",
       " 'frexp',\n",
       " 'fsum',\n",
       " 'gamma',\n",
       " 'gcd',\n",
       " 'hypot',\n",
       " 'inf',\n",
       " 'isclose',\n",
       " 'isfinite',\n",
       " 'isinf',\n",
       " 'isnan',\n",
       " 'isqrt',\n",
       " 'lcm',\n",
       " 'ldexp',\n",
       " 'lgamma',\n",
       " 'log',\n",
       " 'log10',\n",
       " 'log1p',\n",
       " 'log2',\n",
       " 'modf',\n",
       " 'nan',\n",
       " 'nextafter',\n",
       " 'perm',\n",
       " 'pi',\n",
       " 'pow',\n",
       " 'prod',\n",
       " 'radians',\n",
       " 'remainder',\n",
       " 'sin',\n",
       " 'sinh',\n",
       " 'sqrt',\n",
       " 'tan',\n",
       " 'tanh',\n",
       " 'tau',\n",
       " 'trunc',\n",
       " 'ulp']"
      ]
     },
     "execution_count": 44,
     "metadata": {},
     "output_type": "execute_result"
    }
   ],
   "source": [
    "dir(m)"
   ]
  },
  {
   "cell_type": "code",
   "execution_count": null,
   "id": "6642ea26-0d7d-4489-b212-6eddc0d195a6",
   "metadata": {},
   "outputs": [],
   "source": []
  },
  {
   "cell_type": "code",
   "execution_count": null,
   "id": "4093695b-b167-475e-ba67-83959eda0ee9",
   "metadata": {},
   "outputs": [],
   "source": []
  },
  {
   "cell_type": "code",
   "execution_count": 46,
   "id": "e264813c-10a5-4505-9c16-62d83942df84",
   "metadata": {
    "tags": []
   },
   "outputs": [
    {
     "data": {
      "text/plain": [
       "6"
      ]
     },
     "execution_count": 46,
     "metadata": {},
     "output_type": "execute_result"
    }
   ],
   "source": [
    "m.ceil(5.22)"
   ]
  },
  {
   "cell_type": "code",
   "execution_count": 47,
   "id": "35652557-3138-4e95-836a-a4cb9916b995",
   "metadata": {
    "tags": []
   },
   "outputs": [
    {
     "data": {
      "text/plain": [
       "5"
      ]
     },
     "execution_count": 47,
     "metadata": {},
     "output_type": "execute_result"
    }
   ],
   "source": [
    "m.floor(5.22)"
   ]
  },
  {
   "cell_type": "code",
   "execution_count": null,
   "id": "00dd4995-210b-4dbd-948a-6cb20651908c",
   "metadata": {},
   "outputs": [],
   "source": []
  },
  {
   "cell_type": "code",
   "execution_count": 49,
   "id": "8cea6dff-9554-40f2-80f4-8e317acdcb3e",
   "metadata": {
    "tags": []
   },
   "outputs": [],
   "source": [
    "import tensorflow as tf\n",
    "import pandas as pd\n",
    "import numpy as np\n",
    "import matplotlib as mlt\n",
    "import seaborn as sns"
   ]
  },
  {
   "cell_type": "code",
   "execution_count": null,
   "id": "bc8b2bd4-f4c8-4348-9e6b-263751127039",
   "metadata": {},
   "outputs": [],
   "source": []
  },
  {
   "cell_type": "code",
   "execution_count": null,
   "id": "08065382-445f-4923-8dfe-354e25607738",
   "metadata": {},
   "outputs": [],
   "source": [
    "def linear_regression (X,y,learning_rate,n_iteration):\n",
    "    "
   ]
  },
  {
   "cell_type": "code",
   "execution_count": 65,
   "id": "a5421368-5e29-41ff-ab3d-d5c5143f0220",
   "metadata": {
    "tags": []
   },
   "outputs": [],
   "source": [
    "import numpy as np\n",
    "\n",
    "def linear_regression(X, y, learning_rate=0.01, n_iterations=1000):\n",
    "    n_samples, n_features = X.shape\n",
    "    weights = np.zeros(n_features)\n",
    "    bias = 0\n",
    "    for _ in range(n_iterations):\n",
    "        # Predict the values\n",
    "        y_predicted = np.dot(X, weights) + bias\n",
    "\n",
    "        # Compute gradients\n",
    "        dw = (1 / n_samples) * np.dot(X.T, (y_predicted - y))\n",
    "        db = (1 / n_samples) * np.sum(y_predicted - y)\n",
    "\n",
    "        # Update parameters\n",
    "        weights -= learning_rate * dw\n",
    "        bias -= learning_rate * db\n",
    "\n",
    "    return weights, bias"
   ]
  },
  {
   "cell_type": "code",
   "execution_count": 51,
   "id": "36c46d94-c31f-4e9a-8448-3d1c05b780ce",
   "metadata": {
    "tags": []
   },
   "outputs": [
    {
     "name": "stdout",
     "output_type": "stream",
     "text": [
      "Predictions: [6.03025788 6.72661288]\n"
     ]
    }
   ],
   "source": [
    "\n",
    "\n",
    "# Sample dataset\n",
    "X = np.array([[1], [2], [3], [4], [5]])\n",
    "y = np.array([2, 4, 5, 4, 5])\n",
    "\n",
    "# Train the model\n",
    "weights, bias = linear_regression(X, y)\n",
    "\n",
    "# Predict new values\n",
    "X_test = np.array([[6], [7]])\n",
    "predictions = np.dot(X_test, weights) + bias\n",
    "\n",
    "print(\"Predictions:\", predictions)"
   ]
  },
  {
   "cell_type": "code",
   "execution_count": null,
   "id": "daa5c5b2-2d69-45d2-94df-280eba7deed4",
   "metadata": {},
   "outputs": [],
   "source": []
  },
  {
   "cell_type": "code",
   "execution_count": null,
   "id": "b009d300-f678-4970-8c41-6fb1f03b107b",
   "metadata": {},
   "outputs": [],
   "source": []
  },
  {
   "cell_type": "code",
   "execution_count": 52,
   "id": "a73fee67-3f9e-4843-b728-7fdacc9643f2",
   "metadata": {
    "tags": []
   },
   "outputs": [],
   "source": [
    "# Scikit learn  Implementation\n"
   ]
  },
  {
   "cell_type": "code",
   "execution_count": 53,
   "id": "a73f60d3-1f2c-43fe-995d-22821e6e790e",
   "metadata": {
    "tags": []
   },
   "outputs": [],
   "source": [
    "from sklearn.linear_model import LinearRegression"
   ]
  },
  {
   "cell_type": "code",
   "execution_count": null,
   "id": "ab4ab350-69d2-4e0f-9214-289ba8c85414",
   "metadata": {},
   "outputs": [],
   "source": []
  },
  {
   "cell_type": "code",
   "execution_count": 56,
   "id": "e6a7654d-c37c-471c-b5a0-2d2477eb8219",
   "metadata": {
    "tags": []
   },
   "outputs": [],
   "source": []
  },
  {
   "cell_type": "code",
   "execution_count": 62,
   "id": "6166ff18-c1fd-491a-8a28-4ef95216b229",
   "metadata": {
    "tags": []
   },
   "outputs": [],
   "source": [
    "# Sample dataset\n",
    "X = np.array([[1], [2], [3], [4], [5]])\n",
    "y = np.array([2, 4, 5, 4, 5])"
   ]
  },
  {
   "cell_type": "code",
   "execution_count": 63,
   "id": "76c3742f-32bf-453e-b593-64b29d390cdf",
   "metadata": {
    "tags": []
   },
   "outputs": [],
   "source": [
    "lr = LinearRegression()"
   ]
  },
  {
   "cell_type": "code",
   "execution_count": 61,
   "id": "0806d77b-deb9-4784-b968-a11212076b89",
   "metadata": {
    "tags": []
   },
   "outputs": [
    {
     "data": {
      "text/plain": [
       "array([5.8, 6.4])"
      ]
     },
     "execution_count": 61,
     "metadata": {},
     "output_type": "execute_result"
    }
   ],
   "source": [
    "lr.fit(X,y)\n",
    "X_test = np.array([[6], [7]])\n",
    "predictions = lr.predict(X_test)\n",
    "predictions"
   ]
  },
  {
   "cell_type": "code",
   "execution_count": 59,
   "id": "e2b44e22-b076-4328-a973-de9d7ab98241",
   "metadata": {
    "tags": []
   },
   "outputs": [],
   "source": []
  },
  {
   "cell_type": "code",
   "execution_count": null,
   "id": "6ff101c8-4042-468b-bbb5-cfa21afcdcf8",
   "metadata": {
    "tags": []
   },
   "outputs": [],
   "source": []
  }
 ],
 "metadata": {
  "kernelspec": {
   "display_name": "Python 3 (ipykernel)",
   "language": "python",
   "name": "python3"
  },
  "language_info": {
   "codemirror_mode": {
    "name": "ipython",
    "version": 3
   },
   "file_extension": ".py",
   "mimetype": "text/x-python",
   "name": "python",
   "nbconvert_exporter": "python",
   "pygments_lexer": "ipython3",
   "version": "3.11.5"
  }
 },
 "nbformat": 4,
 "nbformat_minor": 5
}
