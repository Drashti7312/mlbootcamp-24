{
 "cells": [
  {
   "cell_type": "code",
   "execution_count": 1,
   "id": "c849b2d5-2aa7-4b82-9dcb-aaf48473fc13",
   "metadata": {
    "tags": []
   },
   "outputs": [
    {
     "name": "stdout",
     "output_type": "stream",
     "text": [
      "enter a number 0\n"
     ]
    }
   ],
   "source": [
    "a = 5\n",
    "b = int(input(\"enter a number\"))\n",
    "\n"
   ]
  },
  {
   "cell_type": "code",
   "execution_count": null,
   "id": "c97cd1b5-90f9-478b-b56c-00dd0a406f43",
   "metadata": {},
   "outputs": [],
   "source": []
  },
  {
   "cell_type": "code",
   "execution_count": null,
   "id": "f5be150f-3abf-44b5-a627-59cdccc3558d",
   "metadata": {},
   "outputs": [],
   "source": []
  },
  {
   "cell_type": "code",
   "execution_count": null,
   "id": "fd3b341d-ed64-46c7-94db-063d563766c1",
   "metadata": {},
   "outputs": [],
   "source": [
    "a/b"
   ]
  },
  {
   "cell_type": "code",
   "execution_count": null,
   "id": "4e458d35-14cc-4a97-9f88-51ca4ba0f05a",
   "metadata": {},
   "outputs": [],
   "source": [
    "print(\" Most important code in company to run\") "
   ]
  },
  {
   "cell_type": "code",
   "execution_count": null,
   "id": "db74b46f-077b-4e33-95a2-2297cf94cef1",
   "metadata": {},
   "outputs": [],
   "source": []
  },
  {
   "cell_type": "code",
   "execution_count": null,
   "id": "c719b90b-98cd-42a8-8ebc-7dd3b119f256",
   "metadata": {},
   "outputs": [],
   "source": []
  },
  {
   "cell_type": "code",
   "execution_count": null,
   "id": "89bf5976-15e2-4580-bbef-1082dececc43",
   "metadata": {},
   "outputs": [],
   "source": []
  },
  {
   "cell_type": "code",
   "execution_count": 6,
   "id": "8b8a9636-a965-4901-8bba-35689492486c",
   "metadata": {
    "tags": []
   },
   "outputs": [
    {
     "ename": "ZeroDivisionError",
     "evalue": "division by zero",
     "output_type": "error",
     "traceback": [
      "\u001b[0;31m---------------------------------------------------------------------------\u001b[0m",
      "\u001b[0;31mZeroDivisionError\u001b[0m                         Traceback (most recent call last)",
      "Cell \u001b[0;32mIn[6], line 4\u001b[0m\n\u001b[1;32m      1\u001b[0m counts_work_hours  \u001b[38;5;241m=\u001b[39m \u001b[38;5;241m0\u001b[39m\n\u001b[1;32m      2\u001b[0m total_salary \u001b[38;5;241m=\u001b[39m \u001b[38;5;241m200\u001b[39m\n\u001b[0;32m----> 4\u001b[0m \u001b[38;5;28mprint\u001b[39m(total_salary\u001b[38;5;241m/\u001b[39mcounts_work_hours)\n",
      "\u001b[0;31mZeroDivisionError\u001b[0m: division by zero"
     ]
    }
   ],
   "source": [
    "counts_work_hours  = 0\n",
    "total_salary = 200\n",
    "\n",
    "print(total_salary/counts_work_hours)"
   ]
  },
  {
   "cell_type": "code",
   "execution_count": 5,
   "id": "48c96d77-2ec3-40d6-8473-a3610243b3a9",
   "metadata": {
    "tags": []
   },
   "outputs": [
    {
     "name": "stdout",
     "output_type": "stream",
     "text": [
      "Salary process200\n"
     ]
    }
   ],
   "source": [
    "print(\"Salary process\" + str(total_salary))"
   ]
  },
  {
   "cell_type": "code",
   "execution_count": null,
   "id": "17aba00c-5df5-4ab2-81b1-0dfc85512294",
   "metadata": {},
   "outputs": [],
   "source": []
  },
  {
   "cell_type": "markdown",
   "id": "322ff880-876b-4f19-9ba1-f2511088663e",
   "metadata": {},
   "source": [
    "# Types of Error "
   ]
  },
  {
   "cell_type": "code",
   "execution_count": null,
   "id": "56121f2c-6819-47da-99a4-daaee5bb5b1a",
   "metadata": {},
   "outputs": [],
   "source": []
  },
  {
   "cell_type": "code",
   "execution_count": 7,
   "id": "4a60fa2d-029a-442a-9e28-6d886ecff95d",
   "metadata": {
    "tags": []
   },
   "outputs": [
    {
     "ename": "SyntaxError",
     "evalue": "invalid syntax (2691886276.py, line 1)",
     "output_type": "error",
     "traceback": [
      "\u001b[0;36m  Cell \u001b[0;32mIn[7], line 1\u001b[0;36m\u001b[0m\n\u001b[0;31m    a +\u001b[0m\n\u001b[0m        ^\u001b[0m\n\u001b[0;31mSyntaxError\u001b[0m\u001b[0;31m:\u001b[0m invalid syntax\n"
     ]
    }
   ],
   "source": [
    "a + "
   ]
  },
  {
   "cell_type": "code",
   "execution_count": 9,
   "id": "eae611b0-52c0-4aa2-9a16-766d41fb896f",
   "metadata": {
    "tags": []
   },
   "outputs": [
    {
     "ename": "SyntaxError",
     "evalue": "unterminated string literal (detected at line 1) (3388511271.py, line 1)",
     "output_type": "error",
     "traceback": [
      "\u001b[0;36m  Cell \u001b[0;32mIn[9], line 1\u001b[0;36m\u001b[0m\n\u001b[0;31m    print(\"hello\u001b[0m\n\u001b[0m          ^\u001b[0m\n\u001b[0;31mSyntaxError\u001b[0m\u001b[0;31m:\u001b[0m unterminated string literal (detected at line 1)\n"
     ]
    }
   ],
   "source": [
    "print(\"hello"
   ]
  },
  {
   "cell_type": "code",
   "execution_count": null,
   "id": "bbc05c31-b11d-4619-9d80-7204174f59b9",
   "metadata": {},
   "outputs": [],
   "source": []
  },
  {
   "cell_type": "code",
   "execution_count": null,
   "id": "8c5944f7-95f9-44c6-868b-b759d47d754a",
   "metadata": {},
   "outputs": [],
   "source": []
  },
  {
   "cell_type": "code",
   "execution_count": null,
   "id": "c912892c-5e62-4c84-8319-7c7f4f1e708f",
   "metadata": {},
   "outputs": [],
   "source": []
  },
  {
   "cell_type": "markdown",
   "id": "c30024c2-38df-4dff-b458-58b6a2424a3f",
   "metadata": {},
   "source": [
    "# Exception Handling"
   ]
  },
  {
   "cell_type": "code",
   "execution_count": null,
   "id": "61bc5144-228e-4f34-8d2c-9c4423746b04",
   "metadata": {},
   "outputs": [],
   "source": []
  },
  {
   "cell_type": "markdown",
   "id": "292db801-b464-4e25-8eae-58f8116812a5",
   "metadata": {},
   "source": [
    "# 4 Major things python gives to handle error"
   ]
  },
  {
   "cell_type": "code",
   "execution_count": null,
   "id": "943de428-81a5-4569-bb78-438999342f50",
   "metadata": {},
   "outputs": [],
   "source": []
  },
  {
   "cell_type": "code",
   "execution_count": null,
   "id": "ea8888d2-d8f6-4eaf-be94-47bf71df8fbf",
   "metadata": {},
   "outputs": [],
   "source": [
    "try\n",
    "except\n",
    "finally\n",
    "raise"
   ]
  },
  {
   "cell_type": "code",
   "execution_count": null,
   "id": "2b28b0e1-46b9-458a-ab74-c4aa2896b79b",
   "metadata": {},
   "outputs": [],
   "source": []
  },
  {
   "cell_type": "markdown",
   "id": "7521ac2e-5b6b-4391-ac83-d89719ccb221",
   "metadata": {},
   "source": [
    "# try - Except"
   ]
  },
  {
   "cell_type": "code",
   "execution_count": null,
   "id": "187bcc52-3e1f-441e-9b35-25031b0590f1",
   "metadata": {},
   "outputs": [],
   "source": []
  },
  {
   "cell_type": "code",
   "execution_count": 2,
   "id": "d024ffac-e81f-4416-b8ed-7bdf57273322",
   "metadata": {
    "tags": []
   },
   "outputs": [
    {
     "name": "stdout",
     "output_type": "stream",
     "text": [
      "We faced some error\n",
      "Salary process 200\n"
     ]
    }
   ],
   "source": [
    "try:\n",
    "    counts_work_hours  = 0\n",
    "    total_salary = 200\n",
    "    print(total_salary/counts_work_hours)\n",
    "except:                               #Error catch korte parle porer line e jabe, naile jabena\n",
    "    print(\"We faced some error\")\n",
    "    \n",
    "print(\"Salary process \" + str(total_salary))"
   ]
  },
  {
   "cell_type": "code",
   "execution_count": 11,
   "id": "440a0e75-ccb0-460e-a348-c0971b31b795",
   "metadata": {
    "tags": []
   },
   "outputs": [
    {
     "name": "stdout",
     "output_type": "stream",
     "text": [
      "enter a number 5\n"
     ]
    },
    {
     "name": "stdout",
     "output_type": "stream",
     "text": [
      "div is 2.0\n",
      "sum is 15\n"
     ]
    }
   ],
   "source": [
    "a = 10\n",
    "b =int(input(\"enter a number\"))\n",
    "c= a/b\n",
    "print(\"div is \" + str(c))\n",
    "d = a+b\n",
    "print(\"sum is \" + str(d))"
   ]
  },
  {
   "cell_type": "code",
   "execution_count": 3,
   "id": "6e984794-f900-4b15-a5a5-c26978634c77",
   "metadata": {
    "tags": []
   },
   "outputs": [
    {
     "ename": "ZeroDivisionError",
     "evalue": "division by zero",
     "output_type": "error",
     "traceback": [
      "\u001b[1;31m---------------------------------------------------------------------------\u001b[0m",
      "\u001b[1;31mZeroDivisionError\u001b[0m                         Traceback (most recent call last)",
      "Cell \u001b[1;32mIn[3], line 3\u001b[0m\n\u001b[0;32m      1\u001b[0m a \u001b[38;5;241m=\u001b[39m \u001b[38;5;241m10\u001b[39m\n\u001b[0;32m      2\u001b[0m b \u001b[38;5;241m=\u001b[39m\u001b[38;5;28mint\u001b[39m(\u001b[38;5;28minput\u001b[39m(\u001b[38;5;124m\"\u001b[39m\u001b[38;5;124menter a number\u001b[39m\u001b[38;5;124m\"\u001b[39m))\n\u001b[1;32m----> 3\u001b[0m c\u001b[38;5;241m=\u001b[39m \u001b[43ma\u001b[49m\u001b[38;5;241;43m/\u001b[39;49m\u001b[43mb\u001b[49m\n\u001b[0;32m      4\u001b[0m \u001b[38;5;28mprint\u001b[39m(\u001b[38;5;124m\"\u001b[39m\u001b[38;5;124mdiv is \u001b[39m\u001b[38;5;124m\"\u001b[39m \u001b[38;5;241m+\u001b[39m \u001b[38;5;28mstr\u001b[39m(c))\n\u001b[0;32m      5\u001b[0m d \u001b[38;5;241m=\u001b[39m a\u001b[38;5;241m+\u001b[39mb\n",
      "\u001b[1;31mZeroDivisionError\u001b[0m: division by zero"
     ]
    }
   ],
   "source": [
    "a = 10\n",
    "b =int(input(\"enter a number\"))\n",
    "c= a/b\n",
    "print(\"div is \" + str(c))\n",
    "d = a+b\n",
    "print(\"sum is \" + str(d))"
   ]
  },
  {
   "cell_type": "code",
   "execution_count": 13,
   "id": "e1608966-a811-485c-ab2c-f1e3656e2a72",
   "metadata": {
    "tags": []
   },
   "outputs": [
    {
     "name": "stdout",
     "output_type": "stream",
     "text": [
      "enter a number abc\n"
     ]
    },
    {
     "ename": "ValueError",
     "evalue": "invalid literal for int() with base 10: 'abc'",
     "output_type": "error",
     "traceback": [
      "\u001b[0;31m---------------------------------------------------------------------------\u001b[0m",
      "\u001b[0;31mValueError\u001b[0m                                Traceback (most recent call last)",
      "Cell \u001b[0;32mIn[13], line 2\u001b[0m\n\u001b[1;32m      1\u001b[0m a \u001b[38;5;241m=\u001b[39m \u001b[38;5;241m10\u001b[39m\n\u001b[0;32m----> 2\u001b[0m b \u001b[38;5;241m=\u001b[39m\u001b[38;5;28mint\u001b[39m(\u001b[38;5;28minput\u001b[39m(\u001b[38;5;124m\"\u001b[39m\u001b[38;5;124menter a number\u001b[39m\u001b[38;5;124m\"\u001b[39m))\n\u001b[1;32m      3\u001b[0m c\u001b[38;5;241m=\u001b[39m a\u001b[38;5;241m/\u001b[39mb\n\u001b[1;32m      4\u001b[0m \u001b[38;5;28mprint\u001b[39m(\u001b[38;5;124m\"\u001b[39m\u001b[38;5;124mdiv is \u001b[39m\u001b[38;5;124m\"\u001b[39m \u001b[38;5;241m+\u001b[39m \u001b[38;5;28mstr\u001b[39m(c))\n",
      "\u001b[0;31mValueError\u001b[0m: invalid literal for int() with base 10: 'abc'"
     ]
    }
   ],
   "source": [
    "a = 10\n",
    "b =int(input(\"enter a number\"))\n",
    "c= a/b\n",
    "print(\"div is \" + str(c))\n",
    "d = a+b\n",
    "print(\"sum is \" + str(d)) #See the error below, invalid literal for int() with base 10: 'abc', etay hocche error message jeta pass hocche python dara by default"
   ]
  },
  {
   "cell_type": "code",
   "execution_count": 14,
   "id": "65231812-74c4-4519-98be-c14ec47ecbd5",
   "metadata": {
    "tags": []
   },
   "outputs": [],
   "source": [
    "import abc"
   ]
  },
  {
   "cell_type": "code",
   "execution_count": null,
   "id": "66d8a4f7-5c01-4cce-911b-d5a0bc5c021d",
   "metadata": {},
   "outputs": [],
   "source": []
  },
  {
   "cell_type": "code",
   "execution_count": 16,
   "id": "82901ba1-dbd6-4db3-b222-f249920f35f4",
   "metadata": {
    "tags": []
   },
   "outputs": [
    {
     "ename": "ModuleNotFoundError",
     "evalue": "No module named 'df'",
     "output_type": "error",
     "traceback": [
      "\u001b[0;31m---------------------------------------------------------------------------\u001b[0m",
      "\u001b[0;31mModuleNotFoundError\u001b[0m                       Traceback (most recent call last)",
      "Cell \u001b[0;32mIn[16], line 1\u001b[0m\n\u001b[0;32m----> 1\u001b[0m \u001b[38;5;28;01mimport\u001b[39;00m \u001b[38;5;21;01mdf\u001b[39;00m\n",
      "\u001b[0;31mModuleNotFoundError\u001b[0m: No module named 'df'"
     ]
    }
   ],
   "source": [
    "import df"
   ]
  },
  {
   "cell_type": "code",
   "execution_count": 17,
   "id": "75630243-7360-4b7a-9081-6dc3636af3db",
   "metadata": {
    "tags": []
   },
   "outputs": [
    {
     "ename": "ImportError",
     "evalue": "cannot import name 'division' from 'math' (/Users/admin/anaconda3/lib/python3.11/lib-dynload/math.cpython-311-darwin.so)",
     "output_type": "error",
     "traceback": [
      "\u001b[0;31m---------------------------------------------------------------------------\u001b[0m",
      "\u001b[0;31mImportError\u001b[0m                               Traceback (most recent call last)",
      "Cell \u001b[0;32mIn[17], line 1\u001b[0m\n\u001b[0;32m----> 1\u001b[0m \u001b[38;5;28;01mfrom\u001b[39;00m \u001b[38;5;21;01mmath\u001b[39;00m \u001b[38;5;28;01mimport\u001b[39;00m division\n",
      "\u001b[0;31mImportError\u001b[0m: cannot import name 'division' from 'math' (/Users/admin/anaconda3/lib/python3.11/lib-dynload/math.cpython-311-darwin.so)"
     ]
    }
   ],
   "source": [
    "from math import division"
   ]
  },
  {
   "cell_type": "code",
   "execution_count": 18,
   "id": "2e64eca7-17cf-48e8-8f92-826c0fc849f4",
   "metadata": {
    "tags": []
   },
   "outputs": [],
   "source": [
    "l = [1,3,2]"
   ]
  },
  {
   "cell_type": "code",
   "execution_count": 19,
   "id": "15e6cd65-402b-4d3d-bcbc-7cab505f8096",
   "metadata": {
    "tags": []
   },
   "outputs": [
    {
     "ename": "IndexError",
     "evalue": "list index out of range",
     "output_type": "error",
     "traceback": [
      "\u001b[0;31m---------------------------------------------------------------------------\u001b[0m",
      "\u001b[0;31mIndexError\u001b[0m                                Traceback (most recent call last)",
      "Cell \u001b[0;32mIn[19], line 1\u001b[0m\n\u001b[0;32m----> 1\u001b[0m l[\u001b[38;5;241m4\u001b[39m]\n",
      "\u001b[0;31mIndexError\u001b[0m: list index out of range"
     ]
    }
   ],
   "source": [
    "l[4]"
   ]
  },
  {
   "cell_type": "code",
   "execution_count": null,
   "id": "43cc18ba-05f4-4324-84b0-6b72aed091ee",
   "metadata": {},
   "outputs": [],
   "source": []
  },
  {
   "cell_type": "code",
   "execution_count": 27,
   "id": "35fa87fa-e3b3-4cea-83c4-87ee603843d1",
   "metadata": {
    "tags": []
   },
   "outputs": [
    {
     "name": "stdout",
     "output_type": "stream",
     "text": [
      "enter a number abc\n"
     ]
    },
    {
     "ename": "ValueError",
     "evalue": "invalid literal for int() with base 10: 'abc'",
     "output_type": "error",
     "traceback": [
      "\u001b[0;31m---------------------------------------------------------------------------\u001b[0m",
      "\u001b[0;31mValueError\u001b[0m                                Traceback (most recent call last)",
      "Cell \u001b[0;32mIn[27], line 3\u001b[0m\n\u001b[1;32m      1\u001b[0m \u001b[38;5;28;01mtry\u001b[39;00m: \n\u001b[1;32m      2\u001b[0m     a \u001b[38;5;241m=\u001b[39m \u001b[38;5;241m10\u001b[39m\n\u001b[0;32m----> 3\u001b[0m     b \u001b[38;5;241m=\u001b[39m\u001b[38;5;28mint\u001b[39m(\u001b[38;5;28minput\u001b[39m(\u001b[38;5;124m\"\u001b[39m\u001b[38;5;124menter a number\u001b[39m\u001b[38;5;124m\"\u001b[39m))\n\u001b[1;32m      4\u001b[0m     c\u001b[38;5;241m=\u001b[39m a\u001b[38;5;241m/\u001b[39mb\n\u001b[1;32m      5\u001b[0m     \u001b[38;5;28mprint\u001b[39m(\u001b[38;5;124m\"\u001b[39m\u001b[38;5;124mdiv is \u001b[39m\u001b[38;5;124m\"\u001b[39m \u001b[38;5;241m+\u001b[39m \u001b[38;5;28mstr\u001b[39m(c))\n",
      "\u001b[0;31mValueError\u001b[0m: invalid literal for int() with base 10: 'abc'"
     ]
    }
   ],
   "source": [
    "try: \n",
    "    a = 10\n",
    "    b =int(input(\"enter a number\")) #python jokhon ei line e error raise korbe tokhon shey error er ekta object create kore error message ta pathay dey, orthat prottekta error er ekekta class create kora ase\n",
    "    c= a/b\n",
    "    print(\"div is \" + str(c))\n",
    "    d = a+b\n",
    "    print(\"sum is \" + str(d))\n",
    "except ZeroDivisionError:\n",
    "    print(\"NOT0\")\n"
   ]
  },
  {
   "cell_type": "code",
   "execution_count": null,
   "id": "65acb179-fd47-4568-9309-3a63c650f23f",
   "metadata": {},
   "outputs": [],
   "source": []
  },
  {
   "cell_type": "code",
   "execution_count": 30,
   "id": "bfdf7376-f4fa-4e40-b916-c70e8dc8f58b",
   "metadata": {
    "tags": []
   },
   "outputs": [
    {
     "name": "stdout",
     "output_type": "stream",
     "text": [
      "enter a number 0\n"
     ]
    },
    {
     "ename": "TypeError",
     "evalue": "unsupported operand type(s) for +: 'int' and 'str'",
     "output_type": "error",
     "traceback": [
      "\u001b[0;31m---------------------------------------------------------------------------\u001b[0m",
      "\u001b[0;31mTypeError\u001b[0m                                 Traceback (most recent call last)",
      "Cell \u001b[0;32mIn[30], line 4\u001b[0m\n\u001b[1;32m      2\u001b[0m a \u001b[38;5;241m=\u001b[39m \u001b[38;5;241m10\u001b[39m\n\u001b[1;32m      3\u001b[0m b \u001b[38;5;241m=\u001b[39m(\u001b[38;5;28minput\u001b[39m(\u001b[38;5;124m\"\u001b[39m\u001b[38;5;124menter a number\u001b[39m\u001b[38;5;124m\"\u001b[39m))\n\u001b[0;32m----> 4\u001b[0m d \u001b[38;5;241m=\u001b[39m a\u001b[38;5;241m+\u001b[39mb\n\u001b[1;32m      5\u001b[0m c\u001b[38;5;241m=\u001b[39m a\u001b[38;5;241m/\u001b[39mb\n\u001b[1;32m      6\u001b[0m \u001b[38;5;28mprint\u001b[39m(\u001b[38;5;124m\"\u001b[39m\u001b[38;5;124mdiv is \u001b[39m\u001b[38;5;124m\"\u001b[39m \u001b[38;5;241m+\u001b[39m \u001b[38;5;28mstr\u001b[39m(c))\n",
      "\u001b[0;31mTypeError\u001b[0m: unsupported operand type(s) for +: 'int' and 'str'"
     ]
    }
   ],
   "source": [
    "try: \n",
    "    a = 10\n",
    "    b =(input(\"enter a number\"))\n",
    "    d = a+b\n",
    "    c= a/b\n",
    "    print(\"div is \" + str(c))\n",
    "    print(\"sum is \" + str(d))\n",
    "except ZeroDivisionError:\n",
    "    print(\"NOT0\")\n"
   ]
  },
  {
   "cell_type": "code",
   "execution_count": 34,
   "id": "d114a914-3e66-44ef-9a20-55a0015c34e9",
   "metadata": {
    "tags": []
   },
   "outputs": [
    {
     "name": "stdout",
     "output_type": "stream",
     "text": [
      "['ArithmeticError', 'AssertionError', 'AttributeError', 'BaseException', 'BaseExceptionGroup', 'BlockingIOError', 'BrokenPipeError', 'BufferError', 'BytesWarning', 'ChildProcessError', 'ConnectionAbortedError', 'ConnectionError', 'ConnectionRefusedError', 'ConnectionResetError', 'DeprecationWarning', 'EOFError', 'Ellipsis', 'EncodingWarning', 'EnvironmentError', 'Exception', 'ExceptionGroup', 'False', 'FileExistsError', 'FileNotFoundError', 'FloatingPointError', 'FutureWarning', 'GeneratorExit', 'IOError', 'ImportError', 'ImportWarning', 'IndentationError', 'IndexError', 'InterruptedError', 'IsADirectoryError', 'KeyError', 'KeyboardInterrupt', 'LookupError', 'MemoryError', 'ModuleNotFoundError', 'NameError', 'None', 'NotADirectoryError', 'NotImplemented', 'NotImplementedError', 'OSError', 'OverflowError', 'PendingDeprecationWarning', 'PermissionError', 'ProcessLookupError', 'RecursionError', 'ReferenceError', 'ResourceWarning', 'RuntimeError', 'RuntimeWarning', 'StopAsyncIteration', 'StopIteration', 'SyntaxError', 'SyntaxWarning', 'SystemError', 'SystemExit', 'TabError', 'TimeoutError', 'True', 'TypeError', 'UnboundLocalError', 'UnicodeDecodeError', 'UnicodeEncodeError', 'UnicodeError', 'UnicodeTranslateError', 'UnicodeWarning', 'UserWarning', 'ValueError', 'Warning', 'ZeroDivisionError', '__IPYTHON__', '__build_class__', '__debug__', '__doc__', '__import__', '__loader__', '__name__', '__package__', '__spec__', 'abs', 'aiter', 'all', 'anext', 'any', 'ascii', 'bin', 'bool', 'breakpoint', 'bytearray', 'bytes', 'callable', 'chr', 'classmethod', 'compile', 'complex', 'copyright', 'credits', 'delattr', 'dict', 'dir', 'display', 'divmod', 'enumerate', 'eval', 'exec', 'execfile', 'filter', 'float', 'format', 'frozenset', 'get_ipython', 'getattr', 'globals', 'hasattr', 'hash', 'help', 'hex', 'id', 'input', 'int', 'isinstance', 'issubclass', 'iter', 'len', 'license', 'list', 'locals', 'map', 'max', 'memoryview', 'min', 'next', 'object', 'oct', 'open', 'ord', 'pow', 'print', 'property', 'range', 'repr', 'reversed', 'round', 'runfile', 'set', 'setattr', 'slice', 'sorted', 'staticmethod', 'str', 'sum', 'super', 'tuple', 'type', 'vars', 'zip']\n"
     ]
    }
   ],
   "source": [
    "# list exception and your Warning\n",
    "\n",
    "print(dir(locals()['__builtins__']))"
   ]
  },
  {
   "cell_type": "code",
   "execution_count": null,
   "id": "7f68f933-83e7-4498-af07-0d340149e716",
   "metadata": {},
   "outputs": [],
   "source": []
  },
  {
   "cell_type": "code",
   "execution_count": 33,
   "id": "5a51819b-5b60-40cc-ac49-00671569835f",
   "metadata": {
    "tags": []
   },
   "outputs": [
    {
     "ename": "KeyError",
     "evalue": "'key1'",
     "output_type": "error",
     "traceback": [
      "\u001b[0;31m---------------------------------------------------------------------------\u001b[0m",
      "\u001b[0;31mKeyError\u001b[0m                                  Traceback (most recent call last)",
      "Cell \u001b[0;32mIn[33], line 2\u001b[0m\n\u001b[1;32m      1\u001b[0m d \u001b[38;5;241m=\u001b[39m{}\n\u001b[0;32m----> 2\u001b[0m d[\u001b[38;5;124m'\u001b[39m\u001b[38;5;124mkey1\u001b[39m\u001b[38;5;124m'\u001b[39m]\n",
      "\u001b[0;31mKeyError\u001b[0m: 'key1'"
     ]
    }
   ],
   "source": [
    "d ={}\n",
    "d['key1']"
   ]
  },
  {
   "cell_type": "code",
   "execution_count": null,
   "id": "8fe92013-55a6-41b5-94ee-2e35a42a1905",
   "metadata": {},
   "outputs": [],
   "source": []
  },
  {
   "cell_type": "code",
   "execution_count": 43,
   "id": "1ad29de1-055c-4d33-9c4c-74748767800b",
   "metadata": {
    "tags": []
   },
   "outputs": [
    {
     "ename": "OverflowError",
     "evalue": "math range error",
     "output_type": "error",
     "traceback": [
      "\u001b[0;31m---------------------------------------------------------------------------\u001b[0m",
      "\u001b[0;31mOverflowError\u001b[0m                             Traceback (most recent call last)",
      "Cell \u001b[0;32mIn[43], line 2\u001b[0m\n\u001b[1;32m      1\u001b[0m \u001b[38;5;28;01mimport\u001b[39;00m \u001b[38;5;21;01mmath\u001b[39;00m\n\u001b[0;32m----> 2\u001b[0m math\u001b[38;5;241m.\u001b[39mexp(\u001b[38;5;241m2000000\u001b[39m)\n",
      "\u001b[0;31mOverflowError\u001b[0m: math range error"
     ]
    }
   ],
   "source": [
    "import math\n",
    "math.exp(2000000)"
   ]
  },
  {
   "cell_type": "code",
   "execution_count": 45,
   "id": "2cc92f39-2b59-41f6-8363-a4f395ef46c4",
   "metadata": {
    "tags": []
   },
   "outputs": [
    {
     "name": "stdout",
     "output_type": "stream",
     "text": [
      "enter a number 0\n"
     ]
    },
    {
     "name": "stdout",
     "output_type": "stream",
     "text": [
      "unsupported operand type(s) for +: 'int' and 'str'\n"
     ]
    }
   ],
   "source": [
    "try: \n",
    "    a = 10\n",
    "    b =(input(\"enter a number\"))\n",
    "    d = a+b\n",
    "    c= a/b\n",
    "    print(\"div is \" + str(c))\n",
    "    print(\"sum is \" + str(d))\n",
    "except Exception as e:\n",
    "    print(e)\n"
   ]
  },
  {
   "cell_type": "code",
   "execution_count": null,
   "id": "20afe511-91d4-466b-a056-9c28c71f8277",
   "metadata": {},
   "outputs": [],
   "source": []
  },
  {
   "cell_type": "code",
   "execution_count": 46,
   "id": "63190608-4682-436f-9ab8-449601b3fa41",
   "metadata": {
    "tags": []
   },
   "outputs": [
    {
     "name": "stdout",
     "output_type": "stream",
     "text": [
      "enter a number 5\n"
     ]
    },
    {
     "name": "stdout",
     "output_type": "stream",
     "text": [
      "NOT-0\n"
     ]
    }
   ],
   "source": [
    "try: \n",
    "    a = 10\n",
    "    b =(input(\"enter a number\"))\n",
    "    d = a+b\n",
    "    c= a/b\n",
    "    print(\"div is \" + str(c))\n",
    "    print(\"sum is \" + str(d))\n",
    "except Exception:\n",
    "    print(\"NOT-0\")\n",
    "except TypeError:\n",
    "    print(\"NOT-TYPE\")"
   ]
  },
  {
   "cell_type": "code",
   "execution_count": 50,
   "id": "e9f82634-c94a-45da-8261-540920debed4",
   "metadata": {
    "tags": []
   },
   "outputs": [
    {
     "name": "stdout",
     "output_type": "stream",
     "text": [
      "enter a number abc\n"
     ]
    },
    {
     "name": "stdout",
     "output_type": "stream",
     "text": [
      "NOT-TYPE\n"
     ]
    }
   ],
   "source": [
    "try: \n",
    "    a = 10\n",
    "    b =int(input(\"enter a number\"))\n",
    "    d = a+b\n",
    "    c= a/b\n",
    "    print(\"div is \" + str(c))\n",
    "    print(\"sum is \" + str(d))\n",
    "except ValueError: #Python ekhane 2 no line e valueerror ke raise korse ebong amra ota catch korsi ekhane\n",
    "    print(\"NOT-TYPE\")\n",
    "except Exception:\n",
    "    print(\"NOT-0\")\n"
   ]
  },
  {
   "cell_type": "code",
   "execution_count": null,
   "id": "8263d25d-9167-474a-91eb-ecc46d0e31d9",
   "metadata": {},
   "outputs": [],
   "source": []
  },
  {
   "cell_type": "code",
   "execution_count": 52,
   "id": "100589b1-983a-492c-889f-a0246e526a6f",
   "metadata": {
    "tags": []
   },
   "outputs": [
    {
     "name": "stdout",
     "output_type": "stream",
     "text": [
      "enter a number abc\n"
     ]
    },
    {
     "ename": "ValueError",
     "evalue": "invalid literal for int() with base 10: 'abc'",
     "output_type": "error",
     "traceback": [
      "\u001b[0;31m---------------------------------------------------------------------------\u001b[0m",
      "\u001b[0;31mValueError\u001b[0m                                Traceback (most recent call last)",
      "Cell \u001b[0;32mIn[52], line 3\u001b[0m\n\u001b[1;32m      1\u001b[0m \u001b[38;5;28;01mtry\u001b[39;00m: \n\u001b[1;32m      2\u001b[0m     a \u001b[38;5;241m=\u001b[39m \u001b[38;5;241m10\u001b[39m\n\u001b[0;32m----> 3\u001b[0m     b \u001b[38;5;241m=\u001b[39m\u001b[38;5;28mint\u001b[39m(\u001b[38;5;28minput\u001b[39m(\u001b[38;5;124m\"\u001b[39m\u001b[38;5;124menter a number\u001b[39m\u001b[38;5;124m\"\u001b[39m))\n\u001b[1;32m      4\u001b[0m     d \u001b[38;5;241m=\u001b[39m a\u001b[38;5;241m+\u001b[39mb\n\u001b[1;32m      5\u001b[0m     c\u001b[38;5;241m=\u001b[39m a\u001b[38;5;241m/\u001b[39mb\n",
      "\u001b[0;31mValueError\u001b[0m: invalid literal for int() with base 10: 'abc'"
     ]
    }
   ],
   "source": [
    "try: \n",
    "    a = 10\n",
    "    b =int(input(\"enter a number\"))\n",
    "    d = a+b\n",
    "    c= a/b\n",
    "    print(\"div is \" + str(c))\n",
    "    print(\"sum is \" + str(d))\n",
    "except ArithmeticError:\n",
    "    print(\"ARTH\")\n",
    "except ZeroDivisionError:\n",
    "    print(\"NOT-0\")\n",
    "    \n",
    "print(\"HERE\") #Ekhane ValueError ke catch korte parinai bole error throw korse, ebong jehetu error throw korar por kono line print hote parena, tai shey print() ei line ta te jaynai"
   ]
  },
  {
   "cell_type": "code",
   "execution_count": null,
   "id": "4b1e39e1-b159-4020-be04-4e9f5252e1b5",
   "metadata": {},
   "outputs": [],
   "source": [
    "\n",
    "if square:\n",
    "    pass\n",
    "elif rectangle:\n",
    "    pass\n",
    "elif quadrilateral:\n",
    "    pass\n",
    "\n",
    "print(\"I am out\")"
   ]
  },
  {
   "cell_type": "code",
   "execution_count": null,
   "id": "be00b38a-5d15-48a0-8b92-d77673dcc919",
   "metadata": {},
   "outputs": [],
   "source": []
  },
  {
   "cell_type": "code",
   "execution_count": null,
   "id": "7eef5fa6-039f-4641-81ee-f3cd698f15e9",
   "metadata": {},
   "outputs": [],
   "source": []
  },
  {
   "cell_type": "markdown",
   "id": "8175bdcd-97f2-48ab-bf96-e2d4d9b4c849",
   "metadata": {},
   "source": [
    "# Else"
   ]
  },
  {
   "cell_type": "code",
   "execution_count": null,
   "id": "adc1b6e7-e43a-41fb-9d06-5369616d1b9a",
   "metadata": {},
   "outputs": [],
   "source": []
  },
  {
   "cell_type": "code",
   "execution_count": 53,
   "id": "9be07c6b-c16a-4526-9928-57bec4ca82ed",
   "metadata": {
    "tags": []
   },
   "outputs": [
    {
     "name": "stdout",
     "output_type": "stream",
     "text": [
      "enter a number 10\n"
     ]
    },
    {
     "name": "stdout",
     "output_type": "stream",
     "text": [
      "div is 1.0\n",
      "sum is 20\n",
      "inside else command\n",
      "HERE\n"
     ]
    }
   ],
   "source": [
    "try: \n",
    "    a = 10\n",
    "    b =int(input(\"enter a number\"))\n",
    "    d = a+b\n",
    "    c= a/b\n",
    "    print(\"div is \" + str(c))\n",
    "    print(\"sum is \" + str(d))\n",
    "except ArithmeticError:\n",
    "    print(\"ARTH\")\n",
    "except ZeroDivisionError:\n",
    "    print(\"NOT-0\")\n",
    "else: #Eta tokhoni print hobe when try succesfully gets executed, ebong kheyal rakhte hobe eta except er pore thakbe\n",
    "    print(\"inside else command\")\n"
   ]
  },
  {
   "cell_type": "code",
   "execution_count": null,
   "id": "b88a250d-dd15-4780-bdfb-2a35d18251a7",
   "metadata": {},
   "outputs": [],
   "source": []
  },
  {
   "cell_type": "markdown",
   "id": "af51a373-5f87-4e94-8eb6-debf5738dda3",
   "metadata": {},
   "source": [
    "# Finally"
   ]
  },
  {
   "cell_type": "code",
   "execution_count": 60,
   "id": "bfb4ac2c-980c-4038-adb1-30a9defebf10",
   "metadata": {
    "tags": []
   },
   "outputs": [
    {
     "name": "stdout",
     "output_type": "stream",
     "text": [
      "enter a number 10\n"
     ]
    },
    {
     "name": "stdout",
     "output_type": "stream",
     "text": [
      "ANS1.0\n",
      "FINAL\n"
     ]
    }
   ],
   "source": [
    "try: \n",
    "    a = 10\n",
    "    b =int(input(\"enter a number\"))\n",
    "    d = a+b\n",
    "    c= a/b\n",
    "    print(\"ANS\" + str(c))\n",
    "except Exception as e:\n",
    "    print (e)\n",
    "finally : # Finally always gets printed, even if any kind of error thrown (Either catched or not catched)\n",
    "    print(\"FINAL\")"
   ]
  },
  {
   "cell_type": "code",
   "execution_count": 63,
   "id": "d5563bd2-737f-480a-9e6d-0592bf2e048e",
   "metadata": {
    "tags": []
   },
   "outputs": [
    {
     "name": "stdout",
     "output_type": "stream",
     "text": [
      "enter a number 5\n"
     ]
    },
    {
     "name": "stdout",
     "output_type": "stream",
     "text": [
      "ANS2.0\n",
      "FINAL\n"
     ]
    }
   ],
   "source": [
    "try: \n",
    "    a = 10\n",
    "    b =int(input(\"enter a number\"))\n",
    "    d = a+b\n",
    "    c= a/b\n",
    "    print(\"ANS\" + str(c))\n",
    "except Exception as e:\n",
    "    print (e)\n",
    "\n",
    "\n",
    "print(\"FINAL\") #Ekhane print porjonto ashte parse karon kono error er ager line e hoyni tai"
   ]
  },
  {
   "cell_type": "markdown",
   "id": "2bca09e2-830b-421d-acef-f71ab9b063df",
   "metadata": {
    "tags": []
   },
   "source": [
    "# Why is then finally required.\n",
    "\n",
    "1. It runs even when error is catched\n",
    "2. It runs even when flow is returned"
   ]
  },
  {
   "cell_type": "code",
   "execution_count": 76,
   "id": "e76cf7c9-a53e-4375-9ba8-a345ac23e21f",
   "metadata": {
    "tags": []
   },
   "outputs": [
    {
     "name": "stdout",
     "output_type": "stream",
     "text": [
      "enter a number abc\n"
     ]
    },
    {
     "ename": "ZeroDivisionError",
     "evalue": "division by zero",
     "output_type": "error",
     "traceback": [
      "\u001b[0;31m---------------------------------------------------------------------------\u001b[0m",
      "\u001b[0;31mValueError\u001b[0m                                Traceback (most recent call last)",
      "Cell \u001b[0;32mIn[76], line 3\u001b[0m\n\u001b[1;32m      2\u001b[0m a \u001b[38;5;241m=\u001b[39m \u001b[38;5;241m10\u001b[39m\n\u001b[0;32m----> 3\u001b[0m b \u001b[38;5;241m=\u001b[39m\u001b[38;5;28mint\u001b[39m(\u001b[38;5;28minput\u001b[39m(\u001b[38;5;124m\"\u001b[39m\u001b[38;5;124menter a number\u001b[39m\u001b[38;5;124m\"\u001b[39m))\n\u001b[1;32m      4\u001b[0m d \u001b[38;5;241m=\u001b[39m a\u001b[38;5;241m+\u001b[39mb\n",
      "\u001b[0;31mValueError\u001b[0m: invalid literal for int() with base 10: 'abc'",
      "\nDuring handling of the above exception, another exception occurred:\n",
      "\u001b[0;31mZeroDivisionError\u001b[0m                         Traceback (most recent call last)",
      "Cell \u001b[0;32mIn[76], line 10\u001b[0m\n\u001b[1;32m      8\u001b[0m     \u001b[38;5;28mprint\u001b[39m (\u001b[38;5;124m\"\u001b[39m\u001b[38;5;124mERROR\u001b[39m\u001b[38;5;124m\"\u001b[39m)\n\u001b[1;32m      9\u001b[0m \u001b[38;5;28;01mfinally\u001b[39;00m:\n\u001b[0;32m---> 10\u001b[0m     \u001b[38;5;28mprint\u001b[39m(\u001b[38;5;241m1\u001b[39m\u001b[38;5;241m/\u001b[39m\u001b[38;5;241m0\u001b[39m)\n\u001b[1;32m     11\u001b[0m     \u001b[38;5;28mprint\u001b[39m(\u001b[38;5;124m\"\u001b[39m\u001b[38;5;124mFINAL\u001b[39m\u001b[38;5;124m\"\u001b[39m)\n\u001b[1;32m     13\u001b[0m \u001b[38;5;28mprint\u001b[39m(\u001b[38;5;124m\"\u001b[39m\u001b[38;5;124mOUTSIDE\u001b[39m\u001b[38;5;124m\"\u001b[39m)\n",
      "\u001b[0;31mZeroDivisionError\u001b[0m: division by zero"
     ]
    }
   ],
   "source": [
    "try: \n",
    "    a = 10\n",
    "    b =int(input(\"enter a number\"))\n",
    "    d = a+b\n",
    "    c= a/b\n",
    "    print(\"ANS\" + str(c))\n",
    "except ZeroDivisionError as e:\n",
    "    print (\"ERROR\")\n",
    "finally:\n",
    "    print(1/0)\n",
    "    print(\"FINAL\")\n",
    "    \n",
    "print(\"OUTSIDE\") #Carefully look at the answer of this example to get a better understanding of the flow of the code, what if there is error within finally block"
   ]
  },
  {
   "cell_type": "code",
   "execution_count": 4,
   "id": "98202c49",
   "metadata": {},
   "outputs": [
    {
     "name": "stdout",
     "output_type": "stream",
     "text": [
      "FINAL\n"
     ]
    },
    {
     "ename": "ZeroDivisionError",
     "evalue": "division by zero",
     "output_type": "error",
     "traceback": [
      "\u001b[1;31m---------------------------------------------------------------------------\u001b[0m",
      "\u001b[1;31mValueError\u001b[0m                                Traceback (most recent call last)",
      "Cell \u001b[1;32mIn[4], line 3\u001b[0m\n\u001b[0;32m      2\u001b[0m a \u001b[38;5;241m=\u001b[39m \u001b[38;5;241m10\u001b[39m\n\u001b[1;32m----> 3\u001b[0m b \u001b[38;5;241m=\u001b[39m\u001b[38;5;28;43mint\u001b[39;49m\u001b[43m(\u001b[49m\u001b[38;5;28;43minput\u001b[39;49m\u001b[43m(\u001b[49m\u001b[38;5;124;43m\"\u001b[39;49m\u001b[38;5;124;43menter a number\u001b[39;49m\u001b[38;5;124;43m\"\u001b[39;49m\u001b[43m)\u001b[49m\u001b[43m)\u001b[49m\n\u001b[0;32m      4\u001b[0m d \u001b[38;5;241m=\u001b[39m a\u001b[38;5;241m+\u001b[39mb\n",
      "\u001b[1;31mValueError\u001b[0m: invalid literal for int() with base 10: 'abc'",
      "\nDuring handling of the above exception, another exception occurred:\n",
      "\u001b[1;31mZeroDivisionError\u001b[0m                         Traceback (most recent call last)",
      "Cell \u001b[1;32mIn[4], line 11\u001b[0m\n\u001b[0;32m      9\u001b[0m \u001b[38;5;28;01mfinally\u001b[39;00m:\n\u001b[0;32m     10\u001b[0m     \u001b[38;5;28mprint\u001b[39m(\u001b[38;5;124m\"\u001b[39m\u001b[38;5;124mFINAL\u001b[39m\u001b[38;5;124m\"\u001b[39m)\n\u001b[1;32m---> 11\u001b[0m     \u001b[38;5;28mprint\u001b[39m(\u001b[38;5;241;43m1\u001b[39;49m\u001b[38;5;241;43m/\u001b[39;49m\u001b[38;5;241;43m0\u001b[39;49m)\n\u001b[0;32m     13\u001b[0m \u001b[38;5;28mprint\u001b[39m(\u001b[38;5;124m\"\u001b[39m\u001b[38;5;124mOUTSIDE\u001b[39m\u001b[38;5;124m\"\u001b[39m)\n",
      "\u001b[1;31mZeroDivisionError\u001b[0m: division by zero"
     ]
    }
   ],
   "source": [
    "try: \n",
    "    a = 10\n",
    "    b =int(input(\"enter a number\"))\n",
    "    d = a+b\n",
    "    c= a/b\n",
    "    print(\"ANS\" + str(c))\n",
    "except ZeroDivisionError as e:\n",
    "    print (\"ERROR\")\n",
    "finally:\n",
    "    print(\"FINAL\")\n",
    "    print(1/0)\n",
    "    \n",
    "print(\"OUTSIDE\") #Ekhane OUTSIDE ke print korte parenai karon ei line porjonto pouchte parenai"
   ]
  },
  {
   "cell_type": "code",
   "execution_count": 5,
   "id": "086b9193-81fb-4b25-b4ab-a8987e98e044",
   "metadata": {
    "tags": []
   },
   "outputs": [
    {
     "ename": "ValueError",
     "evalue": "invalid literal for int() with base 10: 'abc'",
     "output_type": "error",
     "traceback": [
      "\u001b[1;31m---------------------------------------------------------------------------\u001b[0m",
      "\u001b[1;31mValueError\u001b[0m                                Traceback (most recent call last)",
      "Cell \u001b[1;32mIn[5], line 3\u001b[0m\n\u001b[0;32m      1\u001b[0m \u001b[38;5;28;01mtry\u001b[39;00m: \n\u001b[0;32m      2\u001b[0m     a \u001b[38;5;241m=\u001b[39m \u001b[38;5;241m10\u001b[39m\n\u001b[1;32m----> 3\u001b[0m     b \u001b[38;5;241m=\u001b[39m\u001b[38;5;28;43mint\u001b[39;49m\u001b[43m(\u001b[49m\u001b[38;5;28;43minput\u001b[39;49m\u001b[43m(\u001b[49m\u001b[38;5;124;43m\"\u001b[39;49m\u001b[38;5;124;43menter a number\u001b[39;49m\u001b[38;5;124;43m\"\u001b[39;49m\u001b[43m)\u001b[49m\u001b[43m)\u001b[49m\n\u001b[0;32m      4\u001b[0m     d \u001b[38;5;241m=\u001b[39m a\u001b[38;5;241m+\u001b[39mb\n\u001b[0;32m      5\u001b[0m     c\u001b[38;5;241m=\u001b[39m a\u001b[38;5;241m/\u001b[39mb\n",
      "\u001b[1;31mValueError\u001b[0m: invalid literal for int() with base 10: 'abc'"
     ]
    }
   ],
   "source": [
    "try: \n",
    "    a = 10\n",
    "    b =int(input(\"enter a number\"))\n",
    "    d = a+b\n",
    "    c= a/b\n",
    "    print(\"ANS\" + str(c))\n",
    "except ZeroDivisionError as e:\n",
    "    print (\"ERROR\")\n",
    "\n",
    "\n",
    "print(\"FINAL\")"
   ]
  },
  {
   "cell_type": "code",
   "execution_count": 6,
   "id": "6027c70e",
   "metadata": {},
   "outputs": [
    {
     "name": "stdout",
     "output_type": "stream",
     "text": [
      "I am in Final Block\n"
     ]
    },
    {
     "ename": "ValueError",
     "evalue": "invalid literal for int() with base 10: 'abc'",
     "output_type": "error",
     "traceback": [
      "\u001b[1;31m---------------------------------------------------------------------------\u001b[0m",
      "\u001b[1;31mValueError\u001b[0m                                Traceback (most recent call last)",
      "Cell \u001b[1;32mIn[6], line 3\u001b[0m\n\u001b[0;32m      1\u001b[0m \u001b[38;5;28;01mtry\u001b[39;00m: \n\u001b[0;32m      2\u001b[0m     a \u001b[38;5;241m=\u001b[39m \u001b[38;5;241m10\u001b[39m\n\u001b[1;32m----> 3\u001b[0m     b \u001b[38;5;241m=\u001b[39m\u001b[38;5;28;43mint\u001b[39;49m\u001b[43m(\u001b[49m\u001b[38;5;28;43minput\u001b[39;49m\u001b[43m(\u001b[49m\u001b[38;5;124;43m\"\u001b[39;49m\u001b[38;5;124;43menter a number\u001b[39;49m\u001b[38;5;124;43m\"\u001b[39;49m\u001b[43m)\u001b[49m\u001b[43m)\u001b[49m\n\u001b[0;32m      4\u001b[0m     d \u001b[38;5;241m=\u001b[39m a\u001b[38;5;241m+\u001b[39mb\n\u001b[0;32m      5\u001b[0m     c\u001b[38;5;241m=\u001b[39m a\u001b[38;5;241m/\u001b[39mb\n",
      "\u001b[1;31mValueError\u001b[0m: invalid literal for int() with base 10: 'abc'"
     ]
    }
   ],
   "source": [
    "#Example: Error and Outside\n",
    "try: \n",
    "    a = 10\n",
    "    b =int(input(\"enter a number\"))\n",
    "    d = a+b\n",
    "    c= a/b\n",
    "    print(\"ANS\" + str(c))\n",
    "except ZeroDivisionError as e:\n",
    "    print (\"ERROR\")\n",
    "finally:\n",
    "    print(\"I am in Final Block\")\n",
    "\n",
    "print(\"I am at outside\")"
   ]
  },
  {
   "cell_type": "code",
   "execution_count": 8,
   "id": "b6cbd0e1",
   "metadata": {},
   "outputs": [
    {
     "name": "stdout",
     "output_type": "stream",
     "text": [
      "ANS 1.0\n",
      "I am in Final Block\n",
      "I am at outside\n"
     ]
    }
   ],
   "source": [
    "#Example: No error and outside\n",
    "try: \n",
    "    a = 10\n",
    "    b =int(input(\"enter a number\"))\n",
    "    d = a+b\n",
    "    c= a/b\n",
    "    print(\"ANS \" + str(c))\n",
    "except ZeroDivisionError as e:\n",
    "    print (\"ERROR\")\n",
    "finally:\n",
    "    print(\"I am in Final Block\")\n",
    "\n",
    "print(\"I am at outside\")"
   ]
  },
  {
   "cell_type": "code",
   "execution_count": 9,
   "id": "36eb12e5-cd3b-410f-8838-85e670b6e1af",
   "metadata": {
    "tags": []
   },
   "outputs": [],
   "source": [
    "class DB:\n",
    "    def conn(self):\n",
    "        print (\"connected\")\n",
    "    def close(self):\n",
    "        print (\"connection closed\")\n",
    "    def get(self):\n",
    "        print (\"here are your 500 records\")"
   ]
  },
  {
   "cell_type": "code",
   "execution_count": 10,
   "id": "e67f9800-1b08-4b3b-97e9-1cf823177f6b",
   "metadata": {
    "tags": []
   },
   "outputs": [
    {
     "name": "stdout",
     "output_type": "stream",
     "text": [
      "connected\n"
     ]
    },
    {
     "ename": "NameError",
     "evalue": "name 'zeroDivError' is not defined",
     "output_type": "error",
     "traceback": [
      "\u001b[1;31m---------------------------------------------------------------------------\u001b[0m",
      "\u001b[1;31mZeroDivisionError\u001b[0m                         Traceback (most recent call last)",
      "Cell \u001b[1;32mIn[10], line 5\u001b[0m\n\u001b[0;32m      4\u001b[0m     db\u001b[38;5;241m.\u001b[39mconn() \u001b[38;5;66;03m#Method needs an object to get called\u001b[39;00m\n\u001b[1;32m----> 5\u001b[0m     \u001b[38;5;28mprint\u001b[39m(\u001b[38;5;241;43m1\u001b[39;49m\u001b[38;5;241;43m/\u001b[39;49m\u001b[38;5;241;43m0\u001b[39;49m)\n\u001b[0;32m      6\u001b[0m \u001b[38;5;28;01mexcept\u001b[39;00m zeroDivError:\n",
      "\u001b[1;31mZeroDivisionError\u001b[0m: division by zero",
      "\nDuring handling of the above exception, another exception occurred:\n",
      "\u001b[1;31mNameError\u001b[0m                                 Traceback (most recent call last)",
      "Cell \u001b[1;32mIn[10], line 6\u001b[0m\n\u001b[0;32m      4\u001b[0m     db\u001b[38;5;241m.\u001b[39mconn() \u001b[38;5;66;03m#Method needs an object to get called\u001b[39;00m\n\u001b[0;32m      5\u001b[0m     \u001b[38;5;28mprint\u001b[39m(\u001b[38;5;241m1\u001b[39m\u001b[38;5;241m/\u001b[39m\u001b[38;5;241m0\u001b[39m)\n\u001b[1;32m----> 6\u001b[0m \u001b[38;5;28;01mexcept\u001b[39;00m \u001b[43mzeroDivError\u001b[49m:\n\u001b[0;32m      7\u001b[0m     \u001b[38;5;28mprint\u001b[39m(\u001b[38;5;124m\"\u001b[39m\u001b[38;5;124m\"\u001b[39m)\n\u001b[0;32m      9\u001b[0m db\u001b[38;5;241m.\u001b[39mclose()\n",
      "\u001b[1;31mNameError\u001b[0m: name 'zeroDivError' is not defined"
     ]
    }
   ],
   "source": [
    "db = DB()\n",
    "\n",
    "try :\n",
    "    db.conn() #Method needs an object to get called\n",
    "    print(1/0)\n",
    "except zeroDivError:\n",
    "    print(\"\")\n",
    "    \n",
    "db.close() # It is encountering error and it is not catched,hence it is not coming to this line"
   ]
  },
  {
   "cell_type": "code",
   "execution_count": 11,
   "id": "d35cd2fb-601b-4b55-9924-fd3f65754fcd",
   "metadata": {
    "tags": []
   },
   "outputs": [
    {
     "name": "stdout",
     "output_type": "stream",
     "text": [
      "connected\n",
      "connection closed\n"
     ]
    },
    {
     "ename": "ZeroDivisionError",
     "evalue": "division by zero",
     "output_type": "error",
     "traceback": [
      "\u001b[1;31m---------------------------------------------------------------------------\u001b[0m",
      "\u001b[1;31mZeroDivisionError\u001b[0m                         Traceback (most recent call last)",
      "Cell \u001b[1;32mIn[11], line 5\u001b[0m\n\u001b[0;32m      3\u001b[0m \u001b[38;5;28;01mtry\u001b[39;00m :\n\u001b[0;32m      4\u001b[0m     db\u001b[38;5;241m.\u001b[39mconn()\n\u001b[1;32m----> 5\u001b[0m     \u001b[38;5;28mprint\u001b[39m(\u001b[38;5;241;43m1\u001b[39;49m\u001b[38;5;241;43m/\u001b[39;49m\u001b[38;5;241;43m0\u001b[39;49m)\n\u001b[0;32m      6\u001b[0m \u001b[38;5;28;01mexcept\u001b[39;00m \u001b[38;5;167;01mValueError\u001b[39;00m:\n\u001b[0;32m      7\u001b[0m     \u001b[38;5;28mprint\u001b[39m(\u001b[38;5;124m\"\u001b[39m\u001b[38;5;124mERROR\u001b[39m\u001b[38;5;124m\"\u001b[39m)\n",
      "\u001b[1;31mZeroDivisionError\u001b[0m: division by zero"
     ]
    }
   ],
   "source": [
    "db = DB()\n",
    "\n",
    "try :\n",
    "    db.conn()\n",
    "    print(1/0)\n",
    "except ValueError:\n",
    "    print(\"ERROR\")\n",
    "finally:\n",
    "    db.close()"
   ]
  },
  {
   "cell_type": "code",
   "execution_count": null,
   "id": "361f0ee9-484e-4111-b38f-51cca56e0282",
   "metadata": {},
   "outputs": [],
   "source": []
  },
  {
   "cell_type": "code",
   "execution_count": 12,
   "id": "e1a9d17f-e902-456e-986b-dee0a7ada37f",
   "metadata": {
    "tags": []
   },
   "outputs": [],
   "source": [
    "def FinalExplain():\n",
    "    db = DB()\n",
    "    try :\n",
    "        db.conn()\n",
    "        db.get()\n",
    "        return 1\n",
    "    except ValueError :\n",
    "        return 0\n",
    "    db.close()"
   ]
  },
  {
   "cell_type": "code",
   "execution_count": 13,
   "id": "d8625148-c9fe-4792-b48d-b67c7d4a37a1",
   "metadata": {
    "tags": []
   },
   "outputs": [
    {
     "name": "stdout",
     "output_type": "stream",
     "text": [
      "connected\n",
      "here are your 500 records\n"
     ]
    }
   ],
   "source": [
    "a = FinalExplain()"
   ]
  },
  {
   "cell_type": "markdown",
   "id": "d3e1cfb9-3741-4ecd-b293-8cfb04d143aa",
   "metadata": {},
   "source": [
    "##### The db.close() method is never called because it's placed after the return statements in your function. In Python, the return statement ends the execution of a function and sends a result back to the caller. If the execution hits a return statement, it will immediately exit the function, and any code written after the return statement will not be executed.\n",
    "\n",
    "In your FinalExplain function, both the try and except blocks have return statements. If the code in the try block executes successfully, the function will return 1 and exit, never reaching db.close(). Similarly, if a ValueError is raised, the function will return 0 from the except block and exit, again not reaching db.close().\n",
    "\n",
    "To ensure db.close() is always called, you should place it in a finally block. The finally block is a part of exception handling in Python that is always executed regardless of whether an exception occurred or not. Here's how you can do it:\n",
    "\n",
    "def FinalExplain():\n",
    "    db = DB()\n",
    "    try :\n",
    "        db.conn()\n",
    "        db.get()\n",
    "        return 1\n",
    "    except ValueError :\n",
    "        return 0\n",
    "    finally:\n",
    "        db.close()\n",
    "\n",
    "In this revised version of your function, db.close() will always be called, ensuring that the database connection is properly closed whether the operations in the try block succeed or a ValueError is raised."
   ]
  },
  {
   "cell_type": "code",
   "execution_count": 14,
   "id": "e83c2490",
   "metadata": {},
   "outputs": [],
   "source": [
    "def FinalExplain():\n",
    "    db = DB()\n",
    "    try :\n",
    "        db.conn()\n",
    "        db.get()\n",
    "        return 1\n",
    "    except ValueError :\n",
    "        return 0\n",
    "    finally:\n",
    "        db.close()"
   ]
  },
  {
   "cell_type": "code",
   "execution_count": 17,
   "id": "2f288347",
   "metadata": {},
   "outputs": [
    {
     "name": "stdout",
     "output_type": "stream",
     "text": [
      "connected\n",
      "here are your 500 records\n",
      "connection closed\n"
     ]
    }
   ],
   "source": [
    "a = FinalExplain() #Mane hocche function ta return pabe hocche 1 ba 0 but then it will must execute db.close()"
   ]
  },
  {
   "cell_type": "markdown",
   "id": "98061f55-4749-450a-a555-25d4ad5747b6",
   "metadata": {},
   "source": [
    "# Raise"
   ]
  },
  {
   "cell_type": "code",
   "execution_count": 107,
   "id": "b3ab82d1-c3e8-4264-bdf5-6e35b28bb5cf",
   "metadata": {
    "tags": []
   },
   "outputs": [
    {
     "name": "stdout",
     "output_type": "stream",
     "text": [
      "ELSE\n",
      "FINAL\n"
     ]
    }
   ],
   "source": [
    "db = DB()\n",
    "try :\n",
    "    pass #pass is used when we want our function to get executed but there will be nothing\n",
    "except:\n",
    "    pass\n",
    "else: #else gets executed because try gets executed succesfully\n",
    "    print(\"ELSE\")\n",
    "finally:\n",
    "    print(\"FINAL\")"
   ]
  },
  {
   "cell_type": "code",
   "execution_count": null,
   "id": "529d40c2-c496-4003-ad1c-5428b0a2afbe",
   "metadata": {},
   "outputs": [],
   "source": []
  },
  {
   "cell_type": "code",
   "execution_count": null,
   "id": "e2af19f2-7a95-4cf3-a279-636467048216",
   "metadata": {},
   "outputs": [],
   "source": []
  },
  {
   "cell_type": "code",
   "execution_count": null,
   "id": "bf92a4bc-5eab-48b4-b4eb-52ebf1ed57e6",
   "metadata": {},
   "outputs": [],
   "source": []
  },
  {
   "cell_type": "markdown",
   "id": "5e2372d6-71ce-4995-b928-31e7903d34ef",
   "metadata": {},
   "source": [
    "# WAP to ask user for 1 number and if he enters 0 , ask to enter other number and if he enters not int ask to enter integer"
   ]
  },
  {
   "cell_type": "code",
   "execution_count": 2,
   "id": "ee4f45a4-5940-47eb-8719-e487f7a968ea",
   "metadata": {
    "tags": []
   },
   "outputs": [
    {
     "name": "stdout",
     "output_type": "stream",
     "text": [
      "Please enter a number which is not 0\n",
      "FINAL\n",
      "invalid literal for int() with base 10: 'abc'\n",
      "FINAL\n",
      "FINAL\n"
     ]
    }
   ],
   "source": [
    "while True:\n",
    "    try:\n",
    "        a = 10\n",
    "        b = int(input(\"Enter a number\"))\n",
    "        if(b==0):\n",
    "                raise ZeroDivisionError(\"Please enter a number which is not 0\")\n",
    "        break #break help us to get out of while loop, if b==0, it will never reach this line and gets bypassed, karon tokhon error handling hobe\n",
    "    except ZeroDivisionError as z:\n",
    "        print(z) #__str__ of ZeroDivisionError gets called\n",
    "    except Exception as e:\n",
    "        print(e)\n",
    "    finally:\n",
    "        print(\"FINAL\")\n",
    "    #Note: break, continue only loop er property\n",
    "    "
   ]
  },
  {
   "cell_type": "code",
   "execution_count": 1,
   "id": "a6358eaf-498e-4c56-b694-a0f7779a2801",
   "metadata": {},
   "outputs": [],
   "source": [
    "#Without break, it keeps on asking for input\n",
    "while True:\n",
    "    try:\n",
    "        a = 10\n",
    "        b = int(input(\"Enter a number\"))\n",
    "        if(b==0):\n",
    "                raise ZeroDivisionError(\"Please enter a number which is not 0\")\n",
    "        #break help us to get out of while loop, if b==0, it will never reach this line and gets bypassed, karon tokhon error handling hobe\n",
    "    except ZeroDivisionError as z:\n",
    "        print(z) #__str__ of ZeroDivisionError gets called\n",
    "    except Exception as e:\n",
    "        print(e)\n",
    "    finally:\n",
    "        print(\"FINAL\")"
   ]
  },
  {
   "cell_type": "markdown",
   "id": "b99dd8d5-2861-45d9-a8bf-03ffb04b0b26",
   "metadata": {},
   "source": [
    "# Custom Error"
   ]
  },
  {
   "cell_type": "code",
   "execution_count": 4,
   "id": "f67e40ba-5ed2-4ca9-859f-b83c11080049",
   "metadata": {
    "tags": []
   },
   "outputs": [],
   "source": [
    "class Person:\n",
    "    def __init__(self,salary):\n",
    "        if(salary > 1e7):\n",
    "            self.salary = salary\n",
    "    def get_salary(self):\n",
    "        return self.salary"
   ]
  },
  {
   "cell_type": "code",
   "execution_count": 5,
   "id": "4dac3145-762c-410f-9b2c-79bbc9b973af",
   "metadata": {
    "tags": []
   },
   "outputs": [],
   "source": [
    "p1 = Person(10000)\n",
    "p2 = Person(100000000000000000000000000)"
   ]
  },
  {
   "cell_type": "code",
   "execution_count": 7,
   "id": "c04b3c10-94d2-4dc1-8ed2-a595b1c964d6",
   "metadata": {
    "tags": []
   },
   "outputs": [
    {
     "ename": "AttributeError",
     "evalue": "'Person' object has no attribute 'salary'",
     "output_type": "error",
     "traceback": [
      "\u001b[1;31m---------------------------------------------------------------------------\u001b[0m",
      "\u001b[1;31mAttributeError\u001b[0m                            Traceback (most recent call last)",
      "Cell \u001b[1;32mIn[7], line 1\u001b[0m\n\u001b[1;32m----> 1\u001b[0m \u001b[43mp1\u001b[49m\u001b[38;5;241;43m.\u001b[39;49m\u001b[43mget_salary\u001b[49m\u001b[43m(\u001b[49m\u001b[43m)\u001b[49m\n",
      "Cell \u001b[1;32mIn[5], line 6\u001b[0m, in \u001b[0;36mPerson.get_salary\u001b[1;34m(self)\u001b[0m\n\u001b[0;32m      5\u001b[0m \u001b[38;5;28;01mdef\u001b[39;00m \u001b[38;5;21mget_salary\u001b[39m(\u001b[38;5;28mself\u001b[39m):\n\u001b[1;32m----> 6\u001b[0m     \u001b[38;5;28;01mreturn\u001b[39;00m \u001b[38;5;28;43mself\u001b[39;49m\u001b[38;5;241;43m.\u001b[39;49m\u001b[43msalary\u001b[49m\n",
      "\u001b[1;31mAttributeError\u001b[0m: 'Person' object has no attribute 'salary'"
     ]
    }
   ],
   "source": [
    "p1.get_salary()"
   ]
  },
  {
   "cell_type": "code",
   "execution_count": 119,
   "id": "1f0c0b27-1ac0-4cf6-b533-e81ce917cd56",
   "metadata": {
    "tags": []
   },
   "outputs": [
    {
     "data": {
      "text/plain": [
       "100000000000000000000000000"
      ]
     },
     "execution_count": 119,
     "metadata": {},
     "output_type": "execute_result"
    }
   ],
   "source": [
    "p2.get_salary()"
   ]
  },
  {
   "cell_type": "code",
   "execution_count": 8,
   "id": "3a855f86-73d3-494b-90c6-8d7e24ff3ecb",
   "metadata": {
    "tags": []
   },
   "outputs": [],
   "source": [
    "class SalaryIsNotPossible(Exception): #Inheriting from Parent Class\n",
    "    pass"
   ]
  },
  {
   "cell_type": "code",
   "execution_count": 9,
   "id": "6d73cf4c-6316-424e-9b2c-ffed3f237c44",
   "metadata": {
    "tags": []
   },
   "outputs": [
    {
     "name": "stdout",
     "output_type": "stream",
     "text": [
      "\n"
     ]
    }
   ],
   "source": [
    "try :\n",
    "    salary = p2.get_salary()\n",
    "    if(salary > 1e7):\n",
    "        raise SalaryIsNotPossible\n",
    "except SalaryIsNotPossible as s:\n",
    "    print(s)"
   ]
  },
  {
   "cell_type": "code",
   "execution_count": 27,
   "id": "482beb2b-1fac-44e9-b5e7-75859f3f2561",
   "metadata": {
    "tags": []
   },
   "outputs": [],
   "source": [
    "class SalaryIsNotPossible1(Exception):\n",
    "    def __init__(self,msg):\n",
    "        self.msg = msg #ekhane name jekono kichu hote pare, not necessary only msg hobe"
   ]
  },
  {
   "cell_type": "code",
   "execution_count": 28,
   "id": "1a49253b",
   "metadata": {},
   "outputs": [
    {
     "name": "stdout",
     "output_type": "stream",
     "text": [
      "Salary is out of range\n"
     ]
    }
   ],
   "source": [
    "try :\n",
    "    salary = p2.get_salary()\n",
    "    if(salary > 1e7):\n",
    "        raise SalaryIsNotPossible1(\"Salary is out of range\")\n",
    "except SalaryIsNotPossible1 as s:  \n",
    "    print(s)"
   ]
  },
  {
   "cell_type": "code",
   "execution_count": 6,
   "id": "8cdfab0a",
   "metadata": {},
   "outputs": [],
   "source": [
    "class SalaryIsNotPossible2(Exception):\n",
    "    def __init__(self,msg1,msg2): #Je error message ta pathacchi ota ei jaigatei initialize hoye jai, multiple value pathale tuple akare initialize hoy\n",
    "        pass\n",
    "        #self.msg = msg #N.B Ekhane initialize na korar poreo print diye access kora jacche, That means initialize korar proyojon ney. But it's a good practice to initialize. kintu parameter ke catch korte hobe thik e. Multiple value pathale ota tuple akare send hobe\n",
    "        #self.b=b"
   ]
  },
  {
   "cell_type": "code",
   "execution_count": 13,
   "id": "b2ec327e-6506-4fce-bfa9-38551e74e154",
   "metadata": {
    "tags": []
   },
   "outputs": [
    {
     "name": "stdout",
     "output_type": "stream",
     "text": [
      "('Salary is out of range', 'Nuhel')\n"
     ]
    }
   ],
   "source": [
    "try :\n",
    "    salary = p2.get_salary()\n",
    "    if(salary > 1e7):\n",
    "        raise SalaryIsNotPossible2(\"Salary is out of range\",\"Nuhel\")\n",
    "except SalaryIsNotPossible2 as s:  \n",
    "    print(s) #Je value ke parameter hishebe send korchi ogulake class er vitore initialize kora lagena. Ogula auto initialize hoy. Ogulake amar mon moto access korte hole loop chalate hobe"
   ]
  },
  {
   "cell_type": "code",
   "execution_count": 16,
   "id": "5d3a4d69-7b7d-4af2-868f-43ffcd4fe725",
   "metadata": {},
   "outputs": [
    {
     "name": "stdout",
     "output_type": "stream",
     "text": [
      "N\n",
      "u\n",
      "h\n",
      "e\n",
      "l\n",
      "('Salary is out of range', 'Nuhel')\n",
      "('Salary is out of range', 'Nuhel')\n",
      "('Salary is out of range', 'Nuhel')\n",
      "('Salary is out of range', 'Nuhel')\n",
      "('Salary is out of range', 'Nuhel')\n"
     ]
    }
   ],
   "source": [
    "#Experimental Try\n",
    "try :\n",
    "    salary = p2.get_salary()\n",
    "    if(salary > 1e7):\n",
    "        raise SalaryIsNotPossible2(\"Salary is out of range\",\"Nuhel\")\n",
    "except SalaryIsNotPossible2 as s:  \n",
    "    for i in s.args[1]:\n",
    "        print(i)\n",
    "    for i in s.args[1]:\n",
    "        print(s)"
   ]
  },
  {
   "cell_type": "code",
   "execution_count": null,
   "id": "e5dd1c8a-39e1-4c21-9645-70888e9cbb6d",
   "metadata": {},
   "outputs": [],
   "source": []
  },
  {
   "cell_type": "code",
   "execution_count": 24,
   "id": "106cc2da-9ac9-4ed6-8a2a-f4a752fdce23",
   "metadata": {
    "tags": []
   },
   "outputs": [
    {
     "name": "stdout",
     "output_type": "stream",
     "text": [
      "-5 is not a valid age\n",
      "Invalid email format: bobexample.com. Email must be in the format 'username@example.com'.\n",
      "Person creation failed: -7 is not a valid age\n"
     ]
    }
   ],
   "source": [
    "# Define custom exceptions\n",
    "#Error ke catch na korle red mark e error dekhabe\n",
    "#try dile except ba finally must dite hobe\n",
    "class InvalidAgeError(Exception):\n",
    "    \"\"\"Exception raised for invalid age.\"\"\"\n",
    "\n",
    "    def __init__(self, age): #Ebhabeo call kora jay\n",
    "        pass\n",
    "        #self.age = age\n",
    "        #super().__init__(f\"Invalid age: {age}. Age must be a positive integer.\")\n",
    "\n",
    "\n",
    "class InvalidEmailError(Exception):\n",
    "    \"\"\"Exception raised for invalid email format.\"\"\"\n",
    "\n",
    "    def __init__(self, email,nuhel):\n",
    "        self.email = email\n",
    "        super().__init__(f\"Invalid email format: {email}. Email must be in the format 'username@example.com'.\")\n",
    "\n",
    "class InvalidAgeAndEmailError(Exception):\n",
    "    \n",
    "    def __init__(self, email,age):\n",
    "        self.email = email\n",
    "        self.age = age\n",
    "        super().__init__(f\"Invalid email format: {email}. Email must be in the format 'username@example.com'.\" + f\"Invalid age: {age}. Age must be a positive integer.\")\n",
    "\n",
    "# Define the Person class\n",
    "class Person:\n",
    "    def __init__(self, name, age, email):\n",
    "        self.name = name\n",
    "        # Validate age\n",
    "\n",
    "        \n",
    "        if age <= 0:\n",
    "            raise InvalidAgeError(f\"{age} is not a valid age\")\n",
    "        self.age = age\n",
    "        # Validate email format\n",
    "        if \"@\" not in email or \".\" not in email:\n",
    "            raise InvalidEmailError(email,\"nuhelvai\")\n",
    "        self.email = email\n",
    "\n",
    "\n",
    "# Example usage\n",
    "try:\n",
    "    # Trying to create a person with invalid age\n",
    "    person1 = Person(\"Alice\", -5, \"alice@example.com\")\n",
    "except InvalidAgeError as e:\n",
    "    print(e)\n",
    "#finally:\n",
    "    #print(\"Hello\")\n",
    "\n",
    "try:\n",
    "    # Trying to create a person with invalid email format\n",
    "    person2 = Person(\"Bob\", 30, \"bobexample.com\")\n",
    "except InvalidEmailError as e:\n",
    "    print(e)\n",
    "\n",
    "try:\n",
    "    # Trying to create a person with valid attributes\n",
    "    person3 = Person(\"Charlie\", -7, \"charlieexamplecom\")\n",
    "    print(f\"{person3.name} created successfully!\")\n",
    "except (InvalidAgeError, InvalidEmailError) as e: #catching multiple errors\n",
    "    print(\"Person creation failed:\", e) #only first error ta print hobe\n"
   ]
  },
  {
   "cell_type": "code",
   "execution_count": 27,
   "id": "6186a87c",
   "metadata": {},
   "outputs": [
    {
     "name": "stdout",
     "output_type": "stream",
     "text": [
      "I\n",
      "n\n",
      "v\n",
      "a\n",
      "l\n",
      "i\n",
      "d\n",
      " \n",
      "e\n",
      "m\n",
      "a\n",
      "i\n",
      "l\n",
      " \n",
      "f\n",
      "o\n",
      "r\n",
      "m\n",
      "a\n",
      "t\n",
      ":\n",
      " \n",
      "b\n",
      "o\n",
      "b\n",
      "e\n",
      "x\n",
      "a\n",
      "m\n",
      "p\n",
      "l\n",
      "e\n",
      ".\n",
      "c\n",
      "o\n",
      "m\n",
      ".\n",
      " \n",
      "E\n",
      "m\n",
      "a\n",
      "i\n",
      "l\n",
      " \n",
      "m\n",
      "u\n",
      "s\n",
      "t\n",
      " \n",
      "b\n",
      "e\n",
      " \n",
      "i\n",
      "n\n",
      " \n",
      "t\n",
      "h\n",
      "e\n",
      " \n",
      "f\n",
      "o\n",
      "r\n",
      "m\n",
      "a\n",
      "t\n",
      " \n",
      "'\n",
      "u\n",
      "s\n",
      "e\n",
      "r\n",
      "n\n",
      "a\n",
      "m\n",
      "e\n",
      "@\n",
      "e\n",
      "x\n",
      "a\n",
      "m\n",
      "p\n",
      "l\n",
      "e\n",
      ".\n",
      "c\n",
      "o\n",
      "m\n",
      "'\n",
      ".\n"
     ]
    }
   ],
   "source": [
    "try:\n",
    "    # Trying to create a person with invalid email format\n",
    "    person2 = Person(\"Bob\", 30, \"bobexample.com\")\n",
    "except InvalidEmailError as s:  \n",
    "    for i in s.args[0]:\n",
    "        print(i)"
   ]
  },
  {
   "cell_type": "markdown",
   "id": "4a03f24a",
   "metadata": {},
   "source": [
    "#### Toh conclusion eta daralo je, jokhon pass wala Error class make korbo, tokhon __init__ er paramerters gulakei shey args[0],args[1] ebhabe dhorbe. Kintu jokhon ami Mayank er dekhano niyom orthat value accept kore otake initialize kore then super().__init__ er maddhome pathabo, tokhon ota super().__init__ e je arguements gula pathacchi otake args[0], args[1] ebhabe dhorbe. Orthat ei approach tar priority age, ei approach implemented na thakle orthat sudhu pass diye implement kora thakle o je parameter raise er maddhome send korsi otakei args[0], args[1] emne dhorbe. Jemon, uporer example e raise e second parameter \"nuhelvai\" pathanor poreo otake args[1] diye dhorte partesena karon super.__init__ implemented ase vitore tai. O super.__init__ kei kebol args hishebe consider kortese. raise er through te ki pathaysi care kortesena tokhon.\n",
    "\n",
    "Etar pichoner intution holo, python bujhtese ei class ta tar parent class er __init__ function ke use kortese tar initialize er jonno. orthat duijoner e initialization process same e. Tai ami eki jinish duibar na lekhar jonno or __init__ ke jehetu initialize korlam, tai super er __init__ tai actual __init__ ebong or vitorer parameter gulai actual paramter. Tai otar priority age, ota na thakle child er __init__ er priority dewa hobe"
   ]
  },
  {
   "cell_type": "code",
   "execution_count": 18,
   "id": "751feb9b",
   "metadata": {},
   "outputs": [],
   "source": [
    "def MonechaiseTaikortesi(a,b):\n",
    "    pass\n",
    "\n",
    "MonechaiseTaikortesi(\"Nuhel\",\"Hameem\")"
   ]
  },
  {
   "cell_type": "code",
   "execution_count": 145,
   "id": "886a5ebe-2adc-4ca2-a3c6-024f28500525",
   "metadata": {
    "tags": []
   },
   "outputs": [
    {
     "name": "stdout",
     "output_type": "stream",
     "text": [
      "Invalid age: -25. Age must be a positive integer.\n"
     ]
    }
   ],
   "source": [
    "\n",
    "# Example usage\n",
    "try:\n",
    "    # Trying to create a person with invalid age\n",
    "    person1 = Person(\"Alice\", -25, \"aliceexamplecom\")\n",
    "except Exception as e:\n",
    "    print(e)\n"
   ]
  },
  {
   "cell_type": "markdown",
   "id": "d6e5f943-2c9c-4016-8b5b-b70721d75a2c",
   "metadata": {
    "tags": []
   },
   "source": [
    "# Raising Multiple Errors\n",
    "\n",
    "1. Define a new Error Altogether\n",
    "2. Define Exception Group https://www.geeksforgeeks.org/exception-groups-in-python/\n",
    "3. We can actually club errors"
   ]
  },
  {
   "cell_type": "code",
   "execution_count": null,
   "id": "0785d31d-249c-4301-8272-12cf63c6c640",
   "metadata": {},
   "outputs": [],
   "source": []
  },
  {
   "cell_type": "code",
   "execution_count": 24,
   "id": "64f81417-c6b7-49ad-83b2-2b3f9bcdd6f3",
   "metadata": {
    "tags": []
   },
   "outputs": [],
   "source": [
    "class InvalidAgeError(Exception):\n",
    "    \"\"\"Exception raised for invalid age.\"\"\"\n",
    "\n",
    "    def __init__(self, age):\n",
    "        self.age = age\n",
    "        super().__init__(f\"Invalid age: {age}. Age must be a positive integer.\")\n",
    "\n",
    "\n",
    "class InvalidEmailError(Exception):\n",
    "    \"\"\"Exception raised for invalid email format.\"\"\"\n",
    "\n",
    "    def __init__(self, email):\n",
    "        self.email = email\n",
    "        super().__init__(f\"Invalid email format: {email}. Email must be in the format 'username@example.com'.\")\n",
    "\n",
    "\n",
    "        \n",
    "       \n",
    "\n",
    "        "
   ]
  },
  {
   "cell_type": "code",
   "execution_count": 25,
   "id": "6655217b-ae69-4de6-b5d0-d10af57cb6fc",
   "metadata": {
    "tags": []
   },
   "outputs": [],
   "source": [
    "# Define the Person class\n",
    "class Person:\n",
    "    def __init__(self, name, age, email):\n",
    "        self.name = name\n",
    "        # Validate age\n",
    "\n",
    "        errors = [] # Empty List of errors to raise multiple error\n",
    "        \n",
    "        if age <= 0:\n",
    "            errors.append(InvalidAgeError(age)) # InvalidAgeError(age) line ta diye ekta unreferenced object create korsi, ebong amra jani, list.append() method expects an object\n",
    "        \n",
    "        # Validate email format\n",
    "        if \"@\" not in email or \".\" not in email:\n",
    "            errors.append(InvalidEmailError(email))\n",
    "            \n",
    "            \n",
    "        if errors: #Explanation porer cell e ase, empty list mane False, Non empty list True\n",
    "            raise Exception(errors) #Ekhaneo object pathaysi\n",
    "\n",
    "        \n",
    "        self.age = age   \n",
    "        self.email = email"
   ]
  },
  {
   "cell_type": "markdown",
   "id": "95d1199f",
   "metadata": {},
   "source": [
    "##### The if errors: statement is a common Python idiom for checking if a list is not empty. In Python, empty collections (like lists, tuples, dictionaries) are considered False in a boolean context, while non-empty collections are considered True. So, if errors: is essentially checking if there are any errors that have been collected."
   ]
  },
  {
   "cell_type": "markdown",
   "id": "e39639fd",
   "metadata": {},
   "source": [
    "##### The errors.append(InvalidAgeError(age)) line creates a new instance of InvalidAgeError with the invalid age value, and appends it to the errors list. The append method is a built-in Python method for lists that adds an item to the end of the list."
   ]
  },
  {
   "cell_type": "code",
   "execution_count": 27,
   "id": "192e3af6-681e-4444-92ff-668593bdd375",
   "metadata": {
    "tags": []
   },
   "outputs": [
    {
     "name": "stdout",
     "output_type": "stream",
     "text": [
      "The error is Invalid age: -25. Age must be a positive integer.\n",
      "The error is Invalid email format: aliceexamplecom. Email must be in the format 'username@example.com'.\n"
     ]
    }
   ],
   "source": [
    "# Example usage\n",
    "\n",
    "try:\n",
    "    # Trying to create a person with invalid age\n",
    "    person1 = Person(\"Alice\", -25, \"aliceexamplecom\")\n",
    "except Exception as e: #Catching the Exception as before\n",
    "    #print(e) # Output: [InvalidAgeError('Invalid age: -25. Age must be a positive integer.'), InvalidEmailError(\"Invalid email format: aliceexamplecom. Email must be in the format 'username@example.com'.\")]\n",
    "    for error in e.args[0]: #Catching first element which was passed to Exeptions, args[0] mane list ta kei catch korbo ebong list er upor iterate korbo\n",
    "        print(\"The error is \" + str(error)) #Error er moddhe loop over korar jonno etay korte hobe, naile tuple akare dekhabe ager moto"
   ]
  },
  {
   "cell_type": "code",
   "execution_count": 28,
   "id": "810dc6e6-f8f5-4ed8-9d3c-8099cf627085",
   "metadata": {
    "tags": []
   },
   "outputs": [],
   "source": [
    "e = Exception([1,2],\"mayank\")"
   ]
  },
  {
   "cell_type": "code",
   "execution_count": 29,
   "id": "957ac928-9ece-465b-9d82-bdd979c88033",
   "metadata": {
    "tags": []
   },
   "outputs": [
    {
     "name": "stdout",
     "output_type": "stream",
     "text": [
      "m\n",
      "a\n",
      "y\n",
      "a\n",
      "n\n",
      "k\n"
     ]
    }
   ],
   "source": [
    "for err in e.args[1]:\n",
    "    print(err)"
   ]
  },
  {
   "cell_type": "code",
   "execution_count": 1,
   "id": "ae02c7a9",
   "metadata": {},
   "outputs": [
    {
     "name": "stdout",
     "output_type": "stream",
     "text": [
      "-5 is not a valid age\n",
      "Invalid email format: bobexample.com. Email must be in the format 'username@example.com'.\n",
      "Person creation failed: -7 is not a valid age\n"
     ]
    }
   ],
   "source": [
    "# Define custom exceptions\n",
    "#Error ke catch na korle red mark e error dekhabe\n",
    "#try dile except ba finally must dite hobe\n",
    "class InvalidAgeError(Exception):\n",
    "    \"\"\"Exception raised for invalid age.\"\"\"\n",
    "\n",
    "    def __init__(self, age): #Ebhabeo call kora jay\n",
    "        pass\n",
    "        #self.age = age\n",
    "        #super().__init__(f\"Invalid age: {age}. Age must be a positive integer.\")\n",
    "\n",
    "\n",
    "class InvalidEmailError(Exception):\n",
    "    \"\"\"Exception raised for invalid email format.\"\"\"\n",
    "\n",
    "    def __init__(self, email,nuhel):\n",
    "        self.email = email\n",
    "        super().__init__(f\"Invalid email format: {email}. Email must be in the format 'username@example.com'.\")\n",
    "\n",
    "class InvalidAgeAndEmailError(Exception):\n",
    "    \n",
    "    def __init__(self, email,age):\n",
    "        self.email = email\n",
    "        self.age = age\n",
    "        super().__init__(f\"Invalid email format: {email}. Email must be in the format 'username@example.com'.\" + f\"Invalid age: {age}. Age must be a positive integer.\")\n",
    "\n",
    "# Define the Person class\n",
    "class Person:\n",
    "    def __init__(self, name, age, email):\n",
    "        self.name = name\n",
    "        # Validate age\n",
    "\n",
    "        \n",
    "        if age <= 0:\n",
    "            raise InvalidAgeError(f\"{age} is not a valid age\")\n",
    "        self.age = age\n",
    "        # Validate email format\n",
    "        if \"@\" not in email or \".\" not in email:\n",
    "            raise InvalidEmailError(email,\"nuhelvai\")\n",
    "        self.email = email\n",
    "\n",
    "\n",
    "# Example usage\n",
    "try:\n",
    "    # Trying to create a person with invalid age\n",
    "    person1 = Person(\"Alice\", -5, \"alice@example.com\")\n",
    "except InvalidAgeError as e:\n",
    "    print(e)\n",
    "#finally:\n",
    "    #print(\"Hello\")\n",
    "\n",
    "try:\n",
    "    # Trying to create a person with invalid email format\n",
    "    person2 = Person(\"Bob\", 30, \"bobexample.com\")\n",
    "except InvalidEmailError as e:\n",
    "    print(e)\n",
    "\n",
    "try:\n",
    "    # Trying to create a person with valid attributes\n",
    "    person3 = Person(\"Charlie\", -7, \"charlieexamplecom\")\n",
    "    print(f\"{person3.name} created successfully!\")\n",
    "except (InvalidAgeError, InvalidEmailError) as e: #catching multiple errors\n",
    "    print(\"Person creation failed:\", e) #only first error ta print hobe"
   ]
  }
 ],
 "metadata": {
  "kernelspec": {
   "display_name": "Python 3 (ipykernel)",
   "language": "python",
   "name": "python3"
  },
  "language_info": {
   "codemirror_mode": {
    "name": "ipython",
    "version": 3
   },
   "file_extension": ".py",
   "mimetype": "text/x-python",
   "name": "python",
   "nbconvert_exporter": "python",
   "pygments_lexer": "ipython3",
   "version": "3.12.2"
  }
 },
 "nbformat": 4,
 "nbformat_minor": 5
}
