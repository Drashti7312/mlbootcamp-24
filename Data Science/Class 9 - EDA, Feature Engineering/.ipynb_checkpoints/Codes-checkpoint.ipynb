{
 "cells": [
  {
   "cell_type": "code",
   "execution_count": 3,
   "id": "679b25e6-1781-49b6-a0ec-deffbb785070",
   "metadata": {
    "tags": []
   },
   "outputs": [],
   "source": [
    "import numpy as np"
   ]
  },
  {
   "cell_type": "code",
   "execution_count": null,
   "id": "477adaab-e9e3-4507-9383-1ecdc867e600",
   "metadata": {},
   "outputs": [],
   "source": []
  },
  {
   "cell_type": "markdown",
   "id": "804b8f3e-8e11-4d94-aebd-8159be589d9f",
   "metadata": {},
   "source": [
    "# Creating Numpy Array"
   ]
  },
  {
   "cell_type": "code",
   "execution_count": 12,
   "id": "81e2a2d4-35fc-47c2-a6d5-9f6cf63892ac",
   "metadata": {
    "tags": []
   },
   "outputs": [],
   "source": [
    "a1 = np.array((1,2,3))"
   ]
  },
  {
   "cell_type": "code",
   "execution_count": 14,
   "id": "f0ba58d6-297d-4cc8-beb6-a5d6ffab32a4",
   "metadata": {
    "tags": []
   },
   "outputs": [
    {
     "data": {
      "text/plain": [
       "array([1, 2, 3])"
      ]
     },
     "execution_count": 14,
     "metadata": {},
     "output_type": "execute_result"
    }
   ],
   "source": [
    "a1"
   ]
  },
  {
   "cell_type": "code",
   "execution_count": null,
   "id": "b7570552-c652-45ca-9f43-c4634c17ef7b",
   "metadata": {},
   "outputs": [],
   "source": []
  },
  {
   "cell_type": "code",
   "execution_count": 15,
   "id": "ec729f0b-2299-44c8-9fc9-75f6957d5e10",
   "metadata": {
    "tags": []
   },
   "outputs": [
    {
     "data": {
      "text/plain": [
       "numpy.ndarray"
      ]
     },
     "execution_count": 15,
     "metadata": {},
     "output_type": "execute_result"
    }
   ],
   "source": [
    "type(a1)"
   ]
  },
  {
   "cell_type": "code",
   "execution_count": 20,
   "id": "bd8b5cc8-3e41-44d4-b367-4f073348ca2d",
   "metadata": {
    "tags": []
   },
   "outputs": [
    {
     "data": {
      "text/plain": [
       "(3,)"
      ]
     },
     "execution_count": 20,
     "metadata": {},
     "output_type": "execute_result"
    }
   ],
   "source": [
    "a1.shape"
   ]
  },
  {
   "cell_type": "code",
   "execution_count": 16,
   "id": "569fe324-2698-43c0-96a3-4ccf29dbde4a",
   "metadata": {
    "tags": []
   },
   "outputs": [],
   "source": [
    "[[1,2],[3,4]]\n",
    "\n",
    "a2 = np.array([[1,2],[3,4]])"
   ]
  },
  {
   "cell_type": "code",
   "execution_count": 17,
   "id": "ca4a61d9-c30f-491a-9d1f-9cf0565a2718",
   "metadata": {
    "tags": []
   },
   "outputs": [
    {
     "data": {
      "text/plain": [
       "numpy.ndarray"
      ]
     },
     "execution_count": 17,
     "metadata": {},
     "output_type": "execute_result"
    }
   ],
   "source": [
    "type(a2)"
   ]
  },
  {
   "cell_type": "code",
   "execution_count": 19,
   "id": "3e0a33b0-aed2-4290-a51a-b705851941c0",
   "metadata": {
    "tags": []
   },
   "outputs": [
    {
     "data": {
      "text/plain": [
       "(2, 2)"
      ]
     },
     "execution_count": 19,
     "metadata": {},
     "output_type": "execute_result"
    }
   ],
   "source": [
    "a2.shape"
   ]
  },
  {
   "cell_type": "code",
   "execution_count": null,
   "id": "771c971a-4d16-463b-a260-d697cde348db",
   "metadata": {},
   "outputs": [],
   "source": []
  },
  {
   "cell_type": "code",
   "execution_count": 22,
   "id": "80ec95ad-de1a-464e-bd28-37049b0b2b83",
   "metadata": {
    "tags": []
   },
   "outputs": [],
   "source": [
    "a3 = np.array([[[1,2],[3,4]],[ [1,2],[3,4]]])"
   ]
  },
  {
   "cell_type": "code",
   "execution_count": 23,
   "id": "4e7b54a2-c874-4d50-96fe-09491dc91ad3",
   "metadata": {
    "tags": []
   },
   "outputs": [
    {
     "data": {
      "text/plain": [
       "array([[[1, 2],\n",
       "        [3, 4]],\n",
       "\n",
       "       [[1, 2],\n",
       "        [3, 4]]])"
      ]
     },
     "execution_count": 23,
     "metadata": {},
     "output_type": "execute_result"
    }
   ],
   "source": [
    "a3"
   ]
  },
  {
   "cell_type": "code",
   "execution_count": 25,
   "id": "8f433294-73b9-4ed9-9536-622e80b1bb66",
   "metadata": {
    "tags": []
   },
   "outputs": [
    {
     "data": {
      "text/plain": [
       "(2, 2, 2)"
      ]
     },
     "execution_count": 25,
     "metadata": {},
     "output_type": "execute_result"
    }
   ],
   "source": [
    "a3.shape"
   ]
  },
  {
   "cell_type": "code",
   "execution_count": 24,
   "id": "a2bcd0cc-5c8a-44dc-b5ae-6e8fe06e689c",
   "metadata": {
    "tags": []
   },
   "outputs": [],
   "source": [
    "# Type of elements"
   ]
  },
  {
   "cell_type": "code",
   "execution_count": 34,
   "id": "c21d88f2-2e3c-4120-9ac8-ff6508b6feee",
   "metadata": {
    "tags": []
   },
   "outputs": [
    {
     "data": {
      "text/plain": [
       "array([1, 2, 3], dtype=int16)"
      ]
     },
     "execution_count": 34,
     "metadata": {},
     "output_type": "execute_result"
    }
   ],
   "source": [
    "np.array((1,2,3), dtype='int16')\n"
   ]
  },
  {
   "cell_type": "code",
   "execution_count": null,
   "id": "c774e88c-bb4c-4d3e-9c98-894eec2209a9",
   "metadata": {},
   "outputs": [],
   "source": []
  }
 ],
 "metadata": {
  "kernelspec": {
   "display_name": "Python 3 (ipykernel)",
   "language": "python",
   "name": "python3"
  },
  "language_info": {
   "codemirror_mode": {
    "name": "ipython",
    "version": 3
   },
   "file_extension": ".py",
   "mimetype": "text/x-python",
   "name": "python",
   "nbconvert_exporter": "python",
   "pygments_lexer": "ipython3",
   "version": "3.11.5"
  }
 },
 "nbformat": 4,
 "nbformat_minor": 5
}
