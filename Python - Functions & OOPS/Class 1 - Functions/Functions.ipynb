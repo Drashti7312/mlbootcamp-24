{
 "cells": [
  {
   "cell_type": "code",
   "execution_count": 1,
   "id": "9b60bad2-d9a7-47c8-a4b1-5d53dbf9c7f7",
   "metadata": {
    "tags": []
   },
   "outputs": [],
   "source": [
    "s1 = \"mayank\""
   ]
  },
  {
   "cell_type": "code",
   "execution_count": 3,
   "id": "03ae4603-3825-4ef6-bc40-5d16afeef39a",
   "metadata": {
    "tags": []
   },
   "outputs": [
    {
     "name": "stdout",
     "output_type": "stream",
     "text": [
      "6\n"
     ]
    }
   ],
   "source": [
    "length = 0\n",
    "\n",
    "for i in s1:\n",
    "    length+=1\n",
    "\n",
    "print(length)"
   ]
  },
  {
   "cell_type": "code",
   "execution_count": 4,
   "id": "d9cc0ca3-0d41-447d-a268-8862c32a88b1",
   "metadata": {
    "tags": []
   },
   "outputs": [
    {
     "name": "stdout",
     "output_type": "stream",
     "text": [
      "6\n"
     ]
    }
   ],
   "source": [
    "s2 = \"python\"\n",
    "\n",
    "length = 0\n",
    "\n",
    "for i in s2:\n",
    "    length = length + 1\n",
    "\n",
    "print(length)"
   ]
  },
  {
   "cell_type": "code",
   "execution_count": 5,
   "id": "2caadaf3-eed6-40b6-b644-afa54abded9b",
   "metadata": {
    "tags": []
   },
   "outputs": [
    {
     "name": "stdout",
     "output_type": "stream",
     "text": [
      "13\n"
     ]
    }
   ],
   "source": [
    "s3 = \"i love python\"\n",
    "\n",
    "length = 0\n",
    "\n",
    "for i in s3:\n",
    "    length = length + 1\n",
    "\n",
    "print(length)"
   ]
  },
  {
   "cell_type": "code",
   "execution_count": 6,
   "id": "0d718f4f-45ab-440a-8fd6-6e5c9d523fce",
   "metadata": {
    "tags": []
   },
   "outputs": [
    {
     "name": "stdout",
     "output_type": "stream",
     "text": [
      "6\n"
     ]
    }
   ],
   "source": [
    "s4 = \"gjabogaafa\"\n",
    "\n",
    "length = 0\n",
    "\n",
    "for i in s2:\n",
    "    length = length + 1\n",
    "\n",
    "print(length)"
   ]
  },
  {
   "cell_type": "code",
   "execution_count": null,
   "id": "c1776c4d-776a-4878-afe3-866b00e1df89",
   "metadata": {},
   "outputs": [],
   "source": []
  },
  {
   "cell_type": "code",
   "execution_count": 7,
   "id": "4d96fc82-c08e-4467-91b9-1aad91401dae",
   "metadata": {
    "tags": []
   },
   "outputs": [],
   "source": [
    "def myLengthFunction():\n",
    "    print(\"my length is 5\")"
   ]
  },
  {
   "cell_type": "code",
   "execution_count": 8,
   "id": "43eb29b1-007b-4169-9aed-a82d7c13702a",
   "metadata": {
    "tags": []
   },
   "outputs": [
    {
     "name": "stdout",
     "output_type": "stream",
     "text": [
      "my length is 5\n"
     ]
    }
   ],
   "source": [
    "myLengthFunction()"
   ]
  },
  {
   "cell_type": "code",
   "execution_count": 12,
   "id": "75be8f10-b342-4349-9129-7626a06d91d9",
   "metadata": {
    "tags": []
   },
   "outputs": [],
   "source": [
    "def myLengthFunction2(  str1):\n",
    "    length = 0\n",
    "    for i in str1:\n",
    "        length = length + 1\n",
    "    print(length)"
   ]
  },
  {
   "cell_type": "code",
   "execution_count": 21,
   "id": "e2d20bc8-d309-4a2b-bfa5-9287338129df",
   "metadata": {
    "tags": []
   },
   "outputs": [
    {
     "name": "stdout",
     "output_type": "stream",
     "text": [
      "6\n",
      "6\n",
      "8\n",
      "11\n"
     ]
    },
    {
     "ename": "TypeError",
     "evalue": "'int' object is not iterable",
     "output_type": "error",
     "traceback": [
      "\u001b[0;31m---------------------------------------------------------------------------\u001b[0m",
      "\u001b[0;31mTypeError\u001b[0m                                 Traceback (most recent call last)",
      "Cell \u001b[0;32mIn[21], line 6\u001b[0m\n\u001b[1;32m      3\u001b[0m myLengthFunction2(\u001b[38;5;124m\"\u001b[39m\u001b[38;5;124mjgiapgna\u001b[39m\u001b[38;5;124m\"\u001b[39m)\n\u001b[1;32m      4\u001b[0m myLengthFunction2(\u001b[38;5;124m\"\u001b[39m\u001b[38;5;124mfipanigpaon\u001b[39m\u001b[38;5;124m\"\u001b[39m)\n\u001b[0;32m----> 6\u001b[0m myLengthFunction2(\u001b[38;5;241m5\u001b[39m)\n",
      "Cell \u001b[0;32mIn[12], line 5\u001b[0m, in \u001b[0;36mmyLengthFunction2\u001b[0;34m(str1)\u001b[0m\n\u001b[1;32m      1\u001b[0m \u001b[38;5;28;01mdef\u001b[39;00m \u001b[38;5;21mmyLengthFunction2\u001b[39m(str1):\n\u001b[1;32m      3\u001b[0m     length \u001b[38;5;241m=\u001b[39m \u001b[38;5;241m0\u001b[39m\n\u001b[0;32m----> 5\u001b[0m     \u001b[38;5;28;01mfor\u001b[39;00m i \u001b[38;5;129;01min\u001b[39;00m str1:\n\u001b[1;32m      6\u001b[0m         length \u001b[38;5;241m=\u001b[39m length \u001b[38;5;241m+\u001b[39m \u001b[38;5;241m1\u001b[39m\n\u001b[1;32m      8\u001b[0m     \u001b[38;5;28mprint\u001b[39m(length)\n",
      "\u001b[0;31mTypeError\u001b[0m: 'int' object is not iterable"
     ]
    }
   ],
   "source": [
    "myLengthFunction2(\"mayank\")\n",
    "myLengthFunction2(\"python\")\n",
    "myLengthFunction2(\"jgiapgna\")\n",
    "myLengthFunction2(\"fipanigpaon\")\n",
    "\n",
    "myLengthFunction2(5)"
   ]
  },
  {
   "cell_type": "code",
   "execution_count": null,
   "id": "96429e3e-61f5-4f30-b20b-6255ded2f2ae",
   "metadata": {},
   "outputs": [],
   "source": [
    "if myString != \"\":\n",
    "    myLengthFunction2(\"fipanigpaon\")"
   ]
  },
  {
   "cell_type": "code",
   "execution_count": 18,
   "id": "15e27fe6-e634-4dd0-9002-bf6e5ed5973c",
   "metadata": {
    "tags": []
   },
   "outputs": [
    {
     "name": "stdout",
     "output_type": "stream",
     "text": [
      "3\n"
     ]
    }
   ],
   "source": [
    "myLengthFunction3(\"abc\")"
   ]
  },
  {
   "cell_type": "code",
   "execution_count": null,
   "id": "1b426c72-03dc-4046-a8d0-a35eeb19847d",
   "metadata": {},
   "outputs": [],
   "source": []
  },
  {
   "cell_type": "code",
   "execution_count": 19,
   "id": "f8e1650e-14cc-4f14-88bd-311d5af291df",
   "metadata": {
    "tags": []
   },
   "outputs": [],
   "source": [
    "def myLengthFunction3(str1):\n",
    "    length = 0\n",
    "    for i in str1:\n",
    "        length = length + 1\n",
    "    print(length)\n",
    "    \n"
   ]
  },
  {
   "cell_type": "code",
   "execution_count": 20,
   "id": "692bae15-4b5f-49b2-8e72-ba31477ae77a",
   "metadata": {
    "tags": []
   },
   "outputs": [
    {
     "ename": "SyntaxError",
     "evalue": "incomplete input (3534522237.py, line 1)",
     "output_type": "error",
     "traceback": [
      "\u001b[0;36m  Cell \u001b[0;32mIn[20], line 1\u001b[0;36m\u001b[0m\n\u001b[0;31m    def savetoDB():\u001b[0m\n\u001b[0m                   ^\u001b[0m\n\u001b[0;31mSyntaxError\u001b[0m\u001b[0;31m:\u001b[0m incomplete input\n"
     ]
    }
   ],
   "source": [
    "def checkWeather():\n",
    "    mongoDBURL = properties.URL \n",
    "    "
   ]
  },
  {
   "cell_type": "code",
   "execution_count": null,
   "id": "20509f03-7792-41f6-b4e7-3db6659ddc9e",
   "metadata": {},
   "outputs": [],
   "source": []
  },
  {
   "cell_type": "code",
   "execution_count": null,
   "id": "4c4d54ee-3731-4bd4-8f6f-e5a6d2161841",
   "metadata": {},
   "outputs": [],
   "source": []
  },
  {
   "cell_type": "code",
   "execution_count": 41,
   "id": "b6c83881-8321-49da-ba7a-86c017b58756",
   "metadata": {
    "tags": []
   },
   "outputs": [],
   "source": [
    "# A function which doesn't return anything returns None\n",
    "\n",
    "def myLengthFunction2(  str1):\n",
    "    length = 0\n",
    "    for i in str1:\n",
    "        length = length + 1\n",
    "    print(length)"
   ]
  },
  {
   "cell_type": "code",
   "execution_count": 42,
   "id": "8219e493-52a5-4b4d-b2f3-fa1f85e0ad92",
   "metadata": {
    "tags": []
   },
   "outputs": [],
   "source": [
    "def myLengthFunction2Return(  str1):\n",
    "    length = 0\n",
    "    for i in str1:\n",
    "        length = length + 1\n",
    "    return length"
   ]
  },
  {
   "cell_type": "code",
   "execution_count": 43,
   "id": "c0aac65d-0cbb-4121-8c6c-927d4954badd",
   "metadata": {
    "tags": []
   },
   "outputs": [
    {
     "name": "stdout",
     "output_type": "stream",
     "text": [
      "6\n",
      "None\n",
      "6\n"
     ]
    }
   ],
   "source": [
    "print(myLengthFunction2(\"mayank\"))\n",
    "print(myLengthFunction2Return(\"mayank\"))"
   ]
  },
  {
   "cell_type": "code",
   "execution_count": 32,
   "id": "e1ca9f95-daf4-4aef-b61e-06929ce5b5a5",
   "metadata": {
    "tags": []
   },
   "outputs": [],
   "source": [
    "out1 = myLengthFunction2(\"mayank\")"
   ]
  },
  {
   "cell_type": "code",
   "execution_count": 29,
   "id": "a8ea2df8-e8e1-489f-baab-948b10a4001e",
   "metadata": {
    "tags": []
   },
   "outputs": [
    {
     "name": "stdout",
     "output_type": "stream",
     "text": [
      "None\n"
     ]
    }
   ],
   "source": [
    "print(out1)"
   ]
  },
  {
   "cell_type": "code",
   "execution_count": 30,
   "id": "d66dadc0-3d0d-4a4e-b9da-ad1eec934adc",
   "metadata": {
    "tags": []
   },
   "outputs": [],
   "source": [
    "out2 = myLengthFunction2Return(\"mayank\")"
   ]
  },
  {
   "cell_type": "code",
   "execution_count": 44,
   "id": "16278052-ee90-4be3-a608-3536803c0c24",
   "metadata": {
    "tags": []
   },
   "outputs": [
    {
     "name": "stdout",
     "output_type": "stream",
     "text": [
      "6\n"
     ]
    }
   ],
   "source": [
    "print(out2)"
   ]
  },
  {
   "cell_type": "code",
   "execution_count": 33,
   "id": "a81b9714-68a0-4928-b871-d2bec356326c",
   "metadata": {
    "tags": []
   },
   "outputs": [
    {
     "data": {
      "text/plain": [
       "6"
      ]
     },
     "execution_count": 33,
     "metadata": {},
     "output_type": "execute_result"
    }
   ],
   "source": [
    "out2"
   ]
  },
  {
   "cell_type": "code",
   "execution_count": null,
   "id": "b10d17b5-9c3c-40e1-9a27-913f2e080ecf",
   "metadata": {},
   "outputs": [],
   "source": []
  },
  {
   "cell_type": "code",
   "execution_count": 39,
   "id": "08fda5fe-91e8-4be4-b885-7c8736d9e81a",
   "metadata": {
    "tags": []
   },
   "outputs": [],
   "source": [
    "def function1():\n",
    "    a=10\n",
    "    b=20\n",
    "    myfunction2()"
   ]
  },
  {
   "cell_type": "code",
   "execution_count": 40,
   "id": "9c49e8f4-a71c-4d8f-9174-18b117db8ad8",
   "metadata": {
    "tags": []
   },
   "outputs": [],
   "source": [
    "function1()"
   ]
  },
  {
   "cell_type": "code",
   "execution_count": null,
   "id": "41460d46-fab3-4057-990d-e90e719b7342",
   "metadata": {},
   "outputs": [],
   "source": []
  },
  {
   "cell_type": "code",
   "execution_count": null,
   "id": "262556d6-eb77-4f55-9a46-820914c1776b",
   "metadata": {},
   "outputs": [],
   "source": []
  },
  {
   "cell_type": "code",
   "execution_count": null,
   "id": "24b782bd-1c70-4852-a6dc-61c8d3666c61",
   "metadata": {},
   "outputs": [],
   "source": []
  },
  {
   "cell_type": "code",
   "execution_count": null,
   "id": "c3157157-f6f8-4ca5-b15c-8b6ba9e00089",
   "metadata": {},
   "outputs": [],
   "source": []
  },
  {
   "cell_type": "code",
   "execution_count": 47,
   "id": "1b1a2a81-5b87-42d8-a8aa-04933759ac77",
   "metadata": {
    "tags": []
   },
   "outputs": [],
   "source": [
    "def add():\n",
    "    a = int(input())\n",
    "    b = int(input())\n",
    "    print(str(a+b))"
   ]
  },
  {
   "cell_type": "code",
   "execution_count": 48,
   "id": "91a072ae-3318-4d4f-9f67-b781ee6bb787",
   "metadata": {
    "tags": []
   },
   "outputs": [
    {
     "name": "stdin",
     "output_type": "stream",
     "text": [
      " 5\n",
      " 10\n"
     ]
    },
    {
     "name": "stdout",
     "output_type": "stream",
     "text": [
      "15\n"
     ]
    }
   ],
   "source": [
    "add()"
   ]
  },
  {
   "cell_type": "code",
   "execution_count": 49,
   "id": "812a3459-153c-47e4-afae-7cfe788ba749",
   "metadata": {
    "tags": []
   },
   "outputs": [
    {
     "name": "stdin",
     "output_type": "stream",
     "text": [
      " 10\n",
      " 25\n"
     ]
    },
    {
     "name": "stdout",
     "output_type": "stream",
     "text": [
      "35\n"
     ]
    }
   ],
   "source": [
    "add()"
   ]
  },
  {
   "cell_type": "code",
   "execution_count": 50,
   "id": "6928792d-89a4-415b-b3e2-e565e08b0f23",
   "metadata": {
    "tags": []
   },
   "outputs": [],
   "source": [
    "d = len(\"abc\")"
   ]
  },
  {
   "cell_type": "code",
   "execution_count": 51,
   "id": "d2cd1f39-70a3-450b-9173-fb1278bcbd5d",
   "metadata": {
    "tags": []
   },
   "outputs": [
    {
     "data": {
      "text/plain": [
       "3"
      ]
     },
     "execution_count": 51,
     "metadata": {},
     "output_type": "execute_result"
    }
   ],
   "source": [
    "d"
   ]
  },
  {
   "cell_type": "code",
   "execution_count": 53,
   "id": "5abd8c29-2ec7-4695-b031-c7e374cfc48d",
   "metadata": {
    "tags": []
   },
   "outputs": [],
   "source": [
    "def add2(a,b):\n",
    "    c =a-b\n",
    "    print(str(a-b))\n",
    "    return a+b"
   ]
  },
  {
   "cell_type": "code",
   "execution_count": null,
   "id": "de728053-a3f3-47c7-86b9-aeb5baa5c67b",
   "metadata": {},
   "outputs": [],
   "source": []
  },
  {
   "cell_type": "code",
   "execution_count": 60,
   "id": "b545368e-82f4-44a0-95e3-28b76ca16bc2",
   "metadata": {
    "tags": []
   },
   "outputs": [
    {
     "name": "stdin",
     "output_type": "stream",
     "text": [
      " 5\n",
      " 10\n"
     ]
    },
    {
     "name": "stdout",
     "output_type": "stream",
     "text": [
      "-5\n",
      "-------\n"
     ]
    }
   ],
   "source": [
    "g = int(input())\n",
    "h = int(input())\n",
    "add2(g,h)\n",
    "print(\"-------\")"
   ]
  },
  {
   "cell_type": "code",
   "execution_count": 61,
   "id": "18ea8285-9cc9-4b3d-b7a9-0d6f7640a616",
   "metadata": {
    "tags": []
   },
   "outputs": [
    {
     "name": "stdout",
     "output_type": "stream",
     "text": [
      "-5\n"
     ]
    }
   ],
   "source": [
    "ans = add2(g,h)"
   ]
  },
  {
   "cell_type": "code",
   "execution_count": 62,
   "id": "49cac9e8-077a-46fd-904c-f5886db7f770",
   "metadata": {
    "tags": []
   },
   "outputs": [
    {
     "data": {
      "text/plain": [
       "'All is well'"
      ]
     },
     "execution_count": 62,
     "metadata": {},
     "output_type": "execute_result"
    }
   ],
   "source": [
    "ans"
   ]
  },
  {
   "cell_type": "code",
   "execution_count": 63,
   "id": "df3a5b57-ce7b-417b-82f2-f4c745431266",
   "metadata": {
    "tags": []
   },
   "outputs": [],
   "source": [
    "def add3(a,b):\n",
    "    c =a-b\n",
    "    # print(str(a-b))\n",
    "    return a+b"
   ]
  },
  {
   "cell_type": "code",
   "execution_count": 64,
   "id": "8bafd53e-fda7-403c-8510-861fdcf80cba",
   "metadata": {
    "tags": []
   },
   "outputs": [],
   "source": [
    "ans = add3(10,5)"
   ]
  },
  {
   "cell_type": "code",
   "execution_count": 65,
   "id": "20f592ce-6b87-4616-a951-d02791b6f752",
   "metadata": {
    "tags": []
   },
   "outputs": [
    {
     "data": {
      "text/plain": [
       "15"
      ]
     },
     "execution_count": 65,
     "metadata": {},
     "output_type": "execute_result"
    }
   ],
   "source": [
    "ans"
   ]
  },
  {
   "cell_type": "code",
   "execution_count": null,
   "id": "3d0cef18-d635-42ad-9e89-cf75f94a078d",
   "metadata": {},
   "outputs": [],
   "source": []
  },
  {
   "cell_type": "code",
   "execution_count": null,
   "id": "3aa118a4-e112-4bf6-876a-b85c5c0cdf80",
   "metadata": {},
   "outputs": [],
   "source": []
  },
  {
   "cell_type": "code",
   "execution_count": 68,
   "id": "0d19d3a4-875d-4ccd-a22d-14535f990142",
   "metadata": {
    "tags": []
   },
   "outputs": [
    {
     "data": {
      "text/plain": [
       "1"
      ]
     },
     "execution_count": 68,
     "metadata": {},
     "output_type": "execute_result"
    }
   ],
   "source": [
    "# WAP to create your own length function which takes any iterable and give its length\n",
    "\n",
    "len('1')"
   ]
  },
  {
   "cell_type": "code",
   "execution_count": null,
   "id": "7bfd5a2a-4036-43b5-b0f1-476fd247b932",
   "metadata": {},
   "outputs": [],
   "source": []
  },
  {
   "cell_type": "code",
   "execution_count": 69,
   "id": "10acb9eb-ed89-4424-b60a-55f8c4ae7418",
   "metadata": {
    "tags": []
   },
   "outputs": [],
   "source": [
    "def add4(a,b,c):\n",
    "    c =a-b\n",
    "    # print(str(a-b))\n",
    "    return a+b"
   ]
  },
  {
   "cell_type": "code",
   "execution_count": 70,
   "id": "f28b56b1-6df9-4c5f-b5ee-cb7b74665811",
   "metadata": {
    "tags": []
   },
   "outputs": [
    {
     "ename": "TypeError",
     "evalue": "add4() missing 1 required positional argument: 'c'",
     "output_type": "error",
     "traceback": [
      "\u001b[0;31m---------------------------------------------------------------------------\u001b[0m",
      "\u001b[0;31mTypeError\u001b[0m                                 Traceback (most recent call last)",
      "Cell \u001b[0;32mIn[70], line 1\u001b[0m\n\u001b[0;32m----> 1\u001b[0m add4(\u001b[38;5;241m1\u001b[39m,\u001b[38;5;241m2\u001b[39m)\n",
      "\u001b[0;31mTypeError\u001b[0m: add4() missing 1 required positional argument: 'c'"
     ]
    }
   ],
   "source": [
    "add4(1,2)"
   ]
  },
  {
   "cell_type": "code",
   "execution_count": 71,
   "id": "3b4c3007-1a49-47c9-b697-e7c924802d3f",
   "metadata": {
    "tags": []
   },
   "outputs": [
    {
     "ename": "TypeError",
     "evalue": "add4() missing 2 required positional arguments: 'b' and 'c'",
     "output_type": "error",
     "traceback": [
      "\u001b[0;31m---------------------------------------------------------------------------\u001b[0m",
      "\u001b[0;31mTypeError\u001b[0m                                 Traceback (most recent call last)",
      "Cell \u001b[0;32mIn[71], line 1\u001b[0m\n\u001b[0;32m----> 1\u001b[0m add4(\u001b[38;5;241m1\u001b[39m)\n",
      "\u001b[0;31mTypeError\u001b[0m: add4() missing 2 required positional arguments: 'b' and 'c'"
     ]
    }
   ],
   "source": [
    "add4(1)"
   ]
  },
  {
   "cell_type": "code",
   "execution_count": 74,
   "id": "ff0859e1-5701-45bc-b11b-623b7eb9526b",
   "metadata": {
    "tags": []
   },
   "outputs": [
    {
     "name": "stdout",
     "output_type": "stream",
     "text": [
      "--\n"
     ]
    }
   ],
   "source": [
    "add4(1,2,3)\n",
    "print(\"--\")"
   ]
  },
  {
   "cell_type": "markdown",
   "id": "a71e5a1b-a475-4791-b16e-f63ce0aaa478",
   "metadata": {},
   "source": [
    "# Parameters and Arguments`"
   ]
  },
  {
   "cell_type": "markdown",
   "id": "b0ad0b69-5e33-433a-be33-bdd0ecef1cfa",
   "metadata": {},
   "source": [
    "# positional argument"
   ]
  },
  {
   "cell_type": "code",
   "execution_count": 75,
   "id": "47536211-55bd-4f36-8245-204d0202abea",
   "metadata": {
    "tags": []
   },
   "outputs": [],
   "source": [
    "def add4(a,b,c):\n",
    "    c =a-b\n",
    "    # print(str(a-b))\n",
    "    return a+b"
   ]
  },
  {
   "cell_type": "markdown",
   "id": "a95549ec-6543-4100-8ac4-2d109e9f3f39",
   "metadata": {
    "tags": []
   },
   "source": [
    "# a,b,c are your positional argument"
   ]
  },
  {
   "cell_type": "code",
   "execution_count": 77,
   "id": "7ffe2c77-c64f-48db-920e-29f07a4e8824",
   "metadata": {
    "tags": []
   },
   "outputs": [
    {
     "data": {
      "text/plain": [
       "3"
      ]
     },
     "execution_count": 77,
     "metadata": {},
     "output_type": "execute_result"
    }
   ],
   "source": [
    "add4(1,2,3)"
   ]
  },
  {
   "cell_type": "code",
   "execution_count": null,
   "id": "c6be6438-5377-484c-b5a4-3d3eb4d20102",
   "metadata": {},
   "outputs": [],
   "source": [
    "add4(3,2,1)"
   ]
  },
  {
   "cell_type": "markdown",
   "id": "0cb52e32-69fc-4f15-9d39-9a9771cdd3a6",
   "metadata": {},
   "source": [
    "# Keyword Argument"
   ]
  },
  {
   "cell_type": "code",
   "execution_count": null,
   "id": "4e9793c8-6375-47ae-b2b2-d4a3286f734f",
   "metadata": {},
   "outputs": [],
   "source": [
    "add4(c=3,b=1,a=4)"
   ]
  },
  {
   "cell_type": "code",
   "execution_count": 121,
   "id": "d60740eb-b323-432c-addf-8a99c16e39a8",
   "metadata": {
    "tags": []
   },
   "outputs": [
    {
     "ename": "SyntaxError",
     "evalue": "positional argument follows keyword argument (1161483191.py, line 1)",
     "output_type": "error",
     "traceback": [
      "\u001b[0;36m  Cell \u001b[0;32mIn[121], line 1\u001b[0;36m\u001b[0m\n\u001b[0;31m    add4(b=4,1,2)\u001b[0m\n\u001b[0m                ^\u001b[0m\n\u001b[0;31mSyntaxError\u001b[0m\u001b[0;31m:\u001b[0m positional argument follows keyword argument\n"
     ]
    }
   ],
   "source": [
    "add4(b=4,1,2)"
   ]
  },
  {
   "cell_type": "code",
   "execution_count": null,
   "id": "8e46e4cb-5a77-4137-b9cb-12d852dcec8c",
   "metadata": {},
   "outputs": [],
   "source": [
    "add4(5,c=10,b=15)"
   ]
  },
  {
   "cell_type": "code",
   "execution_count": 80,
   "id": "b2053bbf-28c7-43f6-bbec-2a93d27901e5",
   "metadata": {
    "tags": []
   },
   "outputs": [
    {
     "name": "stdout",
     "output_type": "stream",
     "text": [
      "abc def ---   @@@@ \n"
     ]
    }
   ],
   "source": [
    "print(\"abc\",\"def\",\"--- \" ,\" @@@@ \")"
   ]
  },
  {
   "cell_type": "code",
   "execution_count": 81,
   "id": "dbccba7c-e8f1-4f47-bfe1-e042a7dc9444",
   "metadata": {
    "tags": []
   },
   "outputs": [
    {
     "name": "stdout",
     "output_type": "stream",
     "text": [
      "abc--- def @@@@ "
     ]
    }
   ],
   "source": [
    "print(\"abc\",\"def\",sep= \"--- \" ,end = \" @@@@ \")"
   ]
  },
  {
   "cell_type": "code",
   "execution_count": null,
   "id": "b7b008c0-5ab8-42c6-8930-8f3c01079484",
   "metadata": {},
   "outputs": [],
   "source": []
  },
  {
   "cell_type": "code",
   "execution_count": 82,
   "id": "14932c87-b134-46e6-ad42-e502ce9a2ad7",
   "metadata": {
    "tags": []
   },
   "outputs": [],
   "source": [
    "def addMyNumbers(firstNumber,secondNumber):\n",
    "    print(firstNumber,secondNumber)"
   ]
  },
  {
   "cell_type": "code",
   "execution_count": 114,
   "id": "ecf4862e-a8f4-4a3a-ab30-1c6c4250f49c",
   "metadata": {
    "tags": []
   },
   "outputs": [
    {
     "ename": "SyntaxError",
     "evalue": "positional argument follows keyword argument (2917656093.py, line 1)",
     "output_type": "error",
     "traceback": [
      "\u001b[0;36m  Cell \u001b[0;32mIn[114], line 1\u001b[0;36m\u001b[0m\n\u001b[0;31m    addMyNumbers(secondNumber=10,20)\u001b[0m\n\u001b[0m                                   ^\u001b[0m\n\u001b[0;31mSyntaxError\u001b[0m\u001b[0;31m:\u001b[0m positional argument follows keyword argument\n"
     ]
    }
   ],
   "source": [
    "addMyNumbers(secondNumber=10,20)"
   ]
  },
  {
   "cell_type": "code",
   "execution_count": 115,
   "id": "1b8af34f-4ae7-4a32-9229-22fb03136409",
   "metadata": {
    "tags": []
   },
   "outputs": [
    {
     "name": "stdout",
     "output_type": "stream",
     "text": [
      "10 20\n"
     ]
    }
   ],
   "source": [
    "addMyNumbers(10,secondNumber=20)"
   ]
  },
  {
   "cell_type": "code",
   "execution_count": null,
   "id": "f5d45520-2efe-4136-902b-b01c36e45a38",
   "metadata": {},
   "outputs": [],
   "source": []
  },
  {
   "cell_type": "code",
   "execution_count": null,
   "id": "4f296b4e-5a82-44bf-a2c8-bb13ff7fb468",
   "metadata": {},
   "outputs": [],
   "source": []
  },
  {
   "cell_type": "code",
   "execution_count": null,
   "id": "06980551-2086-419a-bbaf-a0f656f48afd",
   "metadata": {},
   "outputs": [],
   "source": []
  },
  {
   "cell_type": "markdown",
   "id": "db4298d0-89e3-4eb7-8ea4-9324ac13dc72",
   "metadata": {
    "tags": []
   },
   "source": [
    "# Default Argument/Parameter"
   ]
  },
  {
   "cell_type": "code",
   "execution_count": 83,
   "id": "d8a17a24-b91a-4a74-ab8b-bb1f312d9b3e",
   "metadata": {
    "tags": []
   },
   "outputs": [
    {
     "name": "stdout",
     "output_type": "stream",
     "text": [
      "5 10\n"
     ]
    }
   ],
   "source": [
    "addMyNumbers(5,10)"
   ]
  },
  {
   "cell_type": "code",
   "execution_count": 86,
   "id": "17b87742-0e25-474b-835b-6108c33ead80",
   "metadata": {
    "tags": []
   },
   "outputs": [
    {
     "name": "stdout",
     "output_type": "stream",
     "text": [
      "10 5\n"
     ]
    }
   ],
   "source": [
    "\n",
    "addMyNumbers(secondNumber = 5,firstNumber = 10)"
   ]
  },
  {
   "cell_type": "code",
   "execution_count": null,
   "id": "72548a67-5231-443b-bc79-1761b22f58bd",
   "metadata": {},
   "outputs": [],
   "source": []
  },
  {
   "cell_type": "code",
   "execution_count": null,
   "id": "697f9f8b-baa9-4711-8e5d-a6bde75aa9b4",
   "metadata": {},
   "outputs": [],
   "source": []
  },
  {
   "cell_type": "code",
   "execution_count": 92,
   "id": "f6668c92-bd82-4752-90c9-a265bdc87014",
   "metadata": {
    "tags": []
   },
   "outputs": [],
   "source": [
    "def completeMyNumber(phoneNumber,countryCode):\n",
    "    phoneNumber= str(phoneNumber)\n",
    "    countryCode= str(countryCode)\n",
    "    \n",
    "    print(countryCode + phoneNumber)"
   ]
  },
  {
   "cell_type": "code",
   "execution_count": null,
   "id": "df77f028-2a51-4502-a9d5-2f182c1aad8e",
   "metadata": {},
   "outputs": [],
   "source": []
  },
  {
   "cell_type": "code",
   "execution_count": 93,
   "id": "4b595e70-c8e9-442e-ae72-9d03bf66a5f6",
   "metadata": {
    "tags": []
   },
   "outputs": [
    {
     "name": "stdout",
     "output_type": "stream",
     "text": [
      "+919857392\n"
     ]
    }
   ],
   "source": [
    "completeMyNumber(9857392,\"+91\")"
   ]
  },
  {
   "cell_type": "code",
   "execution_count": 94,
   "id": "6402ee0f-f76e-483f-8a9b-ac1369a31319",
   "metadata": {
    "tags": []
   },
   "outputs": [
    {
     "name": "stdout",
     "output_type": "stream",
     "text": [
      "+91985392\n"
     ]
    }
   ],
   "source": [
    "completeMyNumber(985392,\"+91\")"
   ]
  },
  {
   "cell_type": "code",
   "execution_count": 95,
   "id": "e3ec1295-79d2-490b-ae18-e0f36d38a1ca",
   "metadata": {
    "tags": []
   },
   "outputs": [
    {
     "ename": "TypeError",
     "evalue": "completeMyNumber() missing 1 required positional argument: 'countryCode'",
     "output_type": "error",
     "traceback": [
      "\u001b[0;31m---------------------------------------------------------------------------\u001b[0m",
      "\u001b[0;31mTypeError\u001b[0m                                 Traceback (most recent call last)",
      "Cell \u001b[0;32mIn[95], line 1\u001b[0m\n\u001b[0;32m----> 1\u001b[0m completeMyNumber(\u001b[38;5;241m98642\u001b[39m)\n",
      "\u001b[0;31mTypeError\u001b[0m: completeMyNumber() missing 1 required positional argument: 'countryCode'"
     ]
    }
   ],
   "source": [
    "completeMyNumber(98642)"
   ]
  },
  {
   "cell_type": "code",
   "execution_count": null,
   "id": "e35d2f26-9e1c-4301-a459-cc85a860d10b",
   "metadata": {},
   "outputs": [],
   "source": []
  },
  {
   "cell_type": "code",
   "execution_count": 110,
   "id": "994e61af-3995-440c-ac94-d81e98880f64",
   "metadata": {
    "tags": []
   },
   "outputs": [],
   "source": [
    "def completeMyNumberBetter(phoneNumber,countryCode=\"+91\"):\n",
    "    phoneNumber= str(phoneNumber)\n",
    "    countryCode= str(countryCode)\n",
    "    \n",
    "    print(countryCode + phoneNumber)"
   ]
  },
  {
   "cell_type": "code",
   "execution_count": 109,
   "id": "fc0725bf-cc47-4fd8-97f8-ff6a21f5f764",
   "metadata": {
    "tags": []
   },
   "outputs": [
    {
     "name": "stdout",
     "output_type": "stream",
     "text": [
      "91952\n"
     ]
    }
   ],
   "source": [
    "completeMyNumberBetter(952,91)"
   ]
  },
  {
   "cell_type": "code",
   "execution_count": 97,
   "id": "27910eaf-46a1-43eb-8e63-9ee29205b088",
   "metadata": {
    "tags": []
   },
   "outputs": [
    {
     "name": "stdout",
     "output_type": "stream",
     "text": [
      "+919532\n"
     ]
    }
   ],
   "source": [
    "completeMyNumberBetter(9532)"
   ]
  },
  {
   "cell_type": "code",
   "execution_count": 98,
   "id": "7705c8bb-0d17-4afd-9b16-58196bfde3d2",
   "metadata": {
    "tags": []
   },
   "outputs": [
    {
     "name": "stdout",
     "output_type": "stream",
     "text": [
      "+01985\n"
     ]
    }
   ],
   "source": [
    "completeMyNumberBetter(985,\"+01\")"
   ]
  },
  {
   "cell_type": "code",
   "execution_count": 100,
   "id": "4e27614b-bf42-48ed-ba65-fc5c0f928a88",
   "metadata": {
    "tags": []
   },
   "outputs": [
    {
     "name": "stdout",
     "output_type": "stream",
     "text": [
      "hello World@@hello world 2\n"
     ]
    }
   ],
   "source": [
    "print(\"hello World\",\"hello world 2\",sep=\"@@\")"
   ]
  },
  {
   "cell_type": "code",
   "execution_count": 101,
   "id": "7e55f752-0f3e-482d-aa68-df641804b9f2",
   "metadata": {
    "tags": []
   },
   "outputs": [
    {
     "name": "stdout",
     "output_type": "stream",
     "text": [
      "+919531\n"
     ]
    }
   ],
   "source": [
    "completeMyNumberBetter(9531)"
   ]
  },
  {
   "cell_type": "code",
   "execution_count": 102,
   "id": "86d37ebb-02a7-4de5-a77b-fffbebe57d19",
   "metadata": {
    "tags": []
   },
   "outputs": [
    {
     "name": "stdout",
     "output_type": "stream",
     "text": [
      "+91955312\n"
     ]
    }
   ],
   "source": [
    "completeMyNumberBetter(955312)"
   ]
  },
  {
   "cell_type": "code",
   "execution_count": 103,
   "id": "4a9876d0-7cbf-4501-a892-2523f7267a15",
   "metadata": {
    "tags": []
   },
   "outputs": [
    {
     "name": "stdout",
     "output_type": "stream",
     "text": [
      "+9195351\n"
     ]
    }
   ],
   "source": [
    "completeMyNumberBetter(95351)"
   ]
  },
  {
   "cell_type": "code",
   "execution_count": 104,
   "id": "5a21eb00-c643-44d0-a47e-0888daecde35",
   "metadata": {
    "tags": []
   },
   "outputs": [
    {
     "name": "stdout",
     "output_type": "stream",
     "text": [
      "+919532\n"
     ]
    }
   ],
   "source": [
    "completeMyNumberBetter(9532)"
   ]
  },
  {
   "cell_type": "code",
   "execution_count": 105,
   "id": "9b61ff9d-ad99-4669-8404-3a0f88dc1e4b",
   "metadata": {
    "tags": []
   },
   "outputs": [
    {
     "name": "stdout",
     "output_type": "stream",
     "text": [
      "919532\n"
     ]
    }
   ],
   "source": [
    "completeMyNumberBetter(9532,91)"
   ]
  },
  {
   "cell_type": "code",
   "execution_count": 112,
   "id": "36237d65-5b67-42e8-8db6-21c4d253e067",
   "metadata": {
    "tags": []
   },
   "outputs": [
    {
     "ename": "SyntaxError",
     "evalue": "non-default argument follows default argument (60680656.py, line 1)",
     "output_type": "error",
     "traceback": [
      "\u001b[0;36m  Cell \u001b[0;32mIn[112], line 1\u001b[0;36m\u001b[0m\n\u001b[0;31m    def completeMyNumberBetter2(phoneNumber,countryCode=\"+91\",country):\u001b[0m\n\u001b[0m                                                              ^\u001b[0m\n\u001b[0;31mSyntaxError\u001b[0m\u001b[0;31m:\u001b[0m non-default argument follows default argument\n"
     ]
    }
   ],
   "source": [
    "def completeMyNumberBetter2(phoneNumber,country,countryCode=\"+91\"):\n",
    "    phoneNumber= str(phoneNumber)\n",
    "    countryCode= str(countryCode)\n",
    "    \n",
    "    print(countryCode + phoneNumber)"
   ]
  },
  {
   "cell_type": "code",
   "execution_count": 113,
   "id": "6d025208-b126-40d6-9f8a-bb2e8ff134a7",
   "metadata": {
    "tags": []
   },
   "outputs": [
    {
     "ename": "SyntaxError",
     "evalue": "positional argument follows keyword argument (3266045151.py, line 1)",
     "output_type": "error",
     "traceback": [
      "\u001b[0;36m  Cell \u001b[0;32mIn[113], line 1\u001b[0;36m\u001b[0m\n\u001b[0;31m    completeMyNumberBetter2(countryCode=\"01\",953,\"India\")\u001b[0m\n\u001b[0m                                                        ^\u001b[0m\n\u001b[0;31mSyntaxError\u001b[0m\u001b[0;31m:\u001b[0m positional argument follows keyword argument\n"
     ]
    }
   ],
   "source": [
    "completeMyNumberBetter2()"
   ]
  },
  {
   "cell_type": "code",
   "execution_count": null,
   "id": "f1aac668-29fa-4ec9-b4b0-ce736e197656",
   "metadata": {},
   "outputs": [],
   "source": []
  },
  {
   "cell_type": "code",
   "execution_count": 116,
   "id": "5d751623-c383-4ad4-88d8-688bb9f345f6",
   "metadata": {
    "tags": []
   },
   "outputs": [
    {
     "ename": "SyntaxError",
     "evalue": "non-default argument follows default argument (3863674478.py, line 1)",
     "output_type": "error",
     "traceback": [
      "\u001b[0;36m  Cell \u001b[0;32mIn[116], line 1\u001b[0;36m\u001b[0m\n\u001b[0;31m    def Address(home, countryCode=\"IND\",street)\u001b[0m\n\u001b[0m                                        ^\u001b[0m\n\u001b[0;31mSyntaxError\u001b[0m\u001b[0;31m:\u001b[0m non-default argument follows default argument\n"
     ]
    }
   ],
   "source": [
    "def Address(home,countryCode=\"IND\", countryNmae = \"INDIA\")"
   ]
  },
  {
   "cell_type": "code",
   "execution_count": null,
   "id": "e2e50d3e-9d08-491d-aa90-7b791ccfded4",
   "metadata": {},
   "outputs": [],
   "source": [
    "Address(\"abc\",\"xyz\")"
   ]
  },
  {
   "cell_type": "code",
   "execution_count": null,
   "id": "6b6d34ec-c9d9-46d8-a51f-b2c7b93ceb67",
   "metadata": {},
   "outputs": [],
   "source": []
  },
  {
   "cell_type": "code",
   "execution_count": 117,
   "id": "8b0bcf0d-bd54-4938-a64a-e1b5337b5c1d",
   "metadata": {
    "tags": []
   },
   "outputs": [],
   "source": [
    "def add10(a,b,c):\n",
    "    return a,b,c"
   ]
  },
  {
   "cell_type": "code",
   "execution_count": 120,
   "id": "c52de5ba-8b39-4c99-982b-51e427b782e4",
   "metadata": {
    "tags": []
   },
   "outputs": [
    {
     "ename": "SyntaxError",
     "evalue": "positional argument follows keyword argument (1445217258.py, line 1)",
     "output_type": "error",
     "traceback": [
      "\u001b[0;36m  Cell \u001b[0;32mIn[120], line 1\u001b[0;36m\u001b[0m\n\u001b[0;31m    add10(b=10,5,15)\u001b[0m\n\u001b[0m                   ^\u001b[0m\n\u001b[0;31mSyntaxError\u001b[0m\u001b[0;31m:\u001b[0m positional argument follows keyword argument\n"
     ]
    }
   ],
   "source": [
    "add10(b=10,5,15)"
   ]
  },
  {
   "cell_type": "code",
   "execution_count": null,
   "id": "77c3237e-3bcd-4afb-8b46-c879beda88a5",
   "metadata": {},
   "outputs": [],
   "source": []
  },
  {
   "cell_type": "code",
   "execution_count": null,
   "id": "fd22e728-05ff-4435-a29c-de0b8df51fb7",
   "metadata": {},
   "outputs": [],
   "source": []
  },
  {
   "cell_type": "code",
   "execution_count": null,
   "id": "28964da2-b13e-4e96-ab2c-afc68287b5ed",
   "metadata": {},
   "outputs": [],
   "source": []
  },
  {
   "cell_type": "code",
   "execution_count": null,
   "id": "41c1da35-f30d-4506-b3f3-951fd9f0570b",
   "metadata": {},
   "outputs": [],
   "source": []
  },
  {
   "cell_type": "markdown",
   "id": "7a8ee9fb-7f27-41af-9d0a-191c4d765103",
   "metadata": {},
   "source": [
    "# "
   ]
  },
  {
   "cell_type": "code",
   "execution_count": 123,
   "id": "9ae02d30-bdb2-495b-a072-1d12d46cfdf5",
   "metadata": {
    "tags": []
   },
   "outputs": [],
   "source": [
    "def sum2(a,b):\n",
    "    return a+b"
   ]
  },
  {
   "cell_type": "code",
   "execution_count": 124,
   "id": "a2303f01-8f4b-497a-b71a-e02bd91165fe",
   "metadata": {
    "tags": []
   },
   "outputs": [
    {
     "data": {
      "text/plain": [
       "15"
      ]
     },
     "execution_count": 124,
     "metadata": {},
     "output_type": "execute_result"
    }
   ],
   "source": [
    "sum2(5,10)"
   ]
  },
  {
   "cell_type": "code",
   "execution_count": 125,
   "id": "8875fc61-2529-433d-8a4c-c72a46dcb307",
   "metadata": {
    "tags": []
   },
   "outputs": [],
   "source": [
    "def sum3(a,b,c):\n",
    "    return a+b+c"
   ]
  },
  {
   "cell_type": "code",
   "execution_count": 126,
   "id": "ed38f075-c43c-4bbb-bc0c-a586f6fda2f0",
   "metadata": {
    "tags": []
   },
   "outputs": [
    {
     "data": {
      "text/plain": [
       "8"
      ]
     },
     "execution_count": 126,
     "metadata": {},
     "output_type": "execute_result"
    }
   ],
   "source": [
    "sum3(5,1,2)"
   ]
  },
  {
   "cell_type": "code",
   "execution_count": 127,
   "id": "83850d0c-3051-4355-9bf6-2e3c63e8c8bb",
   "metadata": {
    "tags": []
   },
   "outputs": [],
   "source": [
    "def sum4(a,b,c,d):\n",
    "    return a+b+c+d"
   ]
  },
  {
   "cell_type": "code",
   "execution_count": 129,
   "id": "184ff090-d550-421e-915d-c12f07114416",
   "metadata": {
    "tags": []
   },
   "outputs": [
    {
     "data": {
      "text/plain": [
       "10"
      ]
     },
     "execution_count": 129,
     "metadata": {},
     "output_type": "execute_result"
    }
   ],
   "source": [
    "sum4(1,2,3,4)"
   ]
  },
  {
   "cell_type": "code",
   "execution_count": 130,
   "id": "1f268a63-4401-4ebb-b3bc-4197692baf91",
   "metadata": {
    "tags": []
   },
   "outputs": [],
   "source": [
    "def sum5(a,b,c,d,e):\n",
    "    return a+b+c+d+e"
   ]
  },
  {
   "cell_type": "code",
   "execution_count": 136,
   "id": "4a9afd61-089c-47be-a125-6f227a2f50e0",
   "metadata": {
    "tags": []
   },
   "outputs": [],
   "source": [
    "def sumWhichRulesThemAll(*numbers):\n",
    "    print(type(numbers))\n",
    "    ans =0 \n",
    "    for i in numbers:\n",
    "        ans+=i\n",
    "    return ans"
   ]
  },
  {
   "cell_type": "code",
   "execution_count": 137,
   "id": "51d4265d-9c42-4da5-88da-343fc64d5234",
   "metadata": {
    "tags": []
   },
   "outputs": [
    {
     "name": "stdout",
     "output_type": "stream",
     "text": [
      "<class 'tuple'>\n"
     ]
    },
    {
     "data": {
      "text/plain": [
       "7"
      ]
     },
     "execution_count": 137,
     "metadata": {},
     "output_type": "execute_result"
    }
   ],
   "source": [
    "sumWhichRulesThemAll(2,5)"
   ]
  },
  {
   "cell_type": "code",
   "execution_count": 133,
   "id": "7fb05dde-af08-43e8-a5b5-ed3efcfafb79",
   "metadata": {
    "tags": []
   },
   "outputs": [
    {
     "data": {
      "text/plain": [
       "24"
      ]
     },
     "execution_count": 133,
     "metadata": {},
     "output_type": "execute_result"
    }
   ],
   "source": [
    "sumWhichRulesThemAll(1,2,3,5,6,7)"
   ]
  },
  {
   "cell_type": "code",
   "execution_count": 138,
   "id": "4386bb1d-53e9-495c-bb2e-0b902111b759",
   "metadata": {
    "tags": []
   },
   "outputs": [
    {
     "name": "stdout",
     "output_type": "stream",
     "text": [
      "hi hello world yo\n"
     ]
    }
   ],
   "source": [
    "print(\"hi\",\"hello\",\"world\",\"yo\")"
   ]
  },
  {
   "cell_type": "code",
   "execution_count": null,
   "id": "74ad8927-233b-4064-b4c4-01e434a82754",
   "metadata": {},
   "outputs": [],
   "source": []
  },
  {
   "cell_type": "code",
   "execution_count": 149,
   "id": "003930e4-8efa-4cf8-a0b7-9b019276c8b7",
   "metadata": {
    "tags": []
   },
   "outputs": [
    {
     "ename": "SyntaxError",
     "evalue": "* argument may appear only once (448965506.py, line 1)",
     "output_type": "error",
     "traceback": [
      "\u001b[0;36m  Cell \u001b[0;32mIn[149], line 1\u001b[0;36m\u001b[0m\n\u001b[0;31m    def sumWhichRulesThemAll2(*numbers,*numberTomultiply):\u001b[0m\n\u001b[0m                                       ^\u001b[0m\n\u001b[0;31mSyntaxError\u001b[0m\u001b[0;31m:\u001b[0m * argument may appear only once\n"
     ]
    }
   ],
   "source": [
    "def sumWhichRulesThemAll2(*numbers,*numberTomultiply):\n",
    "    print(type(numbers))\n",
    "    ans =0 \n",
    "    for i in numbers:\n",
    "        ans+=i\n",
    "    return ans"
   ]
  },
  {
   "cell_type": "code",
   "execution_count": null,
   "id": "a9377668-cb38-4165-b266-22b42352df97",
   "metadata": {},
   "outputs": [],
   "source": [
    "sumWhichRulesThemAll2(4,2,5,5,6,7)"
   ]
  },
  {
   "cell_type": "code",
   "execution_count": 140,
   "id": "0ebd2af8-92b5-44fc-8588-dcb139b40b4c",
   "metadata": {
    "tags": []
   },
   "outputs": [],
   "source": [
    "def tupplekaSum(t1,t2):\n",
    "    print (t1,t2)"
   ]
  },
  {
   "cell_type": "code",
   "execution_count": 141,
   "id": "b64a8dfd-97c6-4d4b-9b3f-e69127574819",
   "metadata": {
    "tags": []
   },
   "outputs": [
    {
     "name": "stdout",
     "output_type": "stream",
     "text": [
      "(1, 2) (3, 4)\n"
     ]
    }
   ],
   "source": [
    "tupplekaSum((1,2),(3,4))"
   ]
  },
  {
   "cell_type": "code",
   "execution_count": null,
   "id": "1056009c-79b6-4c4d-b95d-000e14087f55",
   "metadata": {},
   "outputs": [],
   "source": []
  },
  {
   "cell_type": "code",
   "execution_count": 144,
   "id": "89317234-f330-4bf1-8b6c-5fde86a761ad",
   "metadata": {
    "tags": []
   },
   "outputs": [
    {
     "name": "stdout",
     "output_type": "stream",
     "text": [
      "('hi', 'hello')\n"
     ]
    }
   ],
   "source": [
    "print((\"hi\",\"hello\"))"
   ]
  },
  {
   "cell_type": "code",
   "execution_count": 145,
   "id": "ed3964ea-7744-4c9b-8e7b-0fe4a2abfb38",
   "metadata": {
    "tags": []
   },
   "outputs": [
    {
     "name": "stdout",
     "output_type": "stream",
     "text": [
      "('hi', 'hello') outsideTuple\n"
     ]
    }
   ],
   "source": [
    "print((\"hi\",\"hello\"),\"outsideTuple\")"
   ]
  },
  {
   "cell_type": "code",
   "execution_count": 153,
   "id": "ec57e8ab-3b23-41f6-a61f-ef913602d5c3",
   "metadata": {
    "tags": []
   },
   "outputs": [
    {
     "ename": "SyntaxError",
     "evalue": "var-positional argument cannot have default value (1170452701.py, line 1)",
     "output_type": "error",
     "traceback": [
      "\u001b[0;36m  Cell \u001b[0;32mIn[153], line 1\u001b[0;36m\u001b[0m\n\u001b[0;31m    def sumWhichRulesThemAll3(*numbers=1):\u001b[0m\n\u001b[0m                                      ^\u001b[0m\n\u001b[0;31mSyntaxError\u001b[0m\u001b[0;31m:\u001b[0m var-positional argument cannot have default value\n"
     ]
    }
   ],
   "source": [
    "def sumWhichRulesThemAll3(*numbers=1):\n",
    "    print numbers"
   ]
  },
  {
   "cell_type": "code",
   "execution_count": null,
   "id": "e699ccdc-eca0-452b-8a2a-972e3c956c49",
   "metadata": {},
   "outputs": [],
   "source": [
    "((1,2,3),1,2,3) , (1,2,3) sir isko accept krwana"
   ]
  },
  {
   "cell_type": "code",
   "execution_count": 159,
   "id": "132282e0-0294-4033-b2cc-aa3c74fda9e4",
   "metadata": {
    "tags": []
   },
   "outputs": [
    {
     "name": "stdout",
     "output_type": "stream",
     "text": [
      "((1, 2, 3), 1, 2, 3)@@@(1, 2, 3)\n"
     ]
    }
   ],
   "source": [
    "print(((1,2,3),1,2,3) , (1,2,3),sep=\"@@@\" )"
   ]
  },
  {
   "cell_type": "code",
   "execution_count": null,
   "id": "ddfc5dbd-1dcf-4078-8c44-806a8a6066c1",
   "metadata": {},
   "outputs": [],
   "source": []
  },
  {
   "cell_type": "code",
   "execution_count": null,
   "id": "a8b179b0-9828-4c88-9343-174b5c7a79b8",
   "metadata": {},
   "outputs": [],
   "source": []
  },
  {
   "cell_type": "code",
   "execution_count": 155,
   "id": "a66f9d26-3205-4ac3-adae-92f06472198c",
   "metadata": {
    "tags": []
   },
   "outputs": [],
   "source": [
    "def sumWhichRulesThemAll4(*numbers):\n",
    "    print (numbers,sep=\"@@@\")\n",
    "    "
   ]
  },
  {
   "cell_type": "code",
   "execution_count": 156,
   "id": "9fdb6a8f-a9d6-46e7-a3b8-776941538d59",
   "metadata": {
    "tags": []
   },
   "outputs": [
    {
     "name": "stdout",
     "output_type": "stream",
     "text": [
      "(((1, 2, 3), 1, 2, 3), (1, 2, 3))\n"
     ]
    }
   ],
   "source": [
    "sumWhichRulesThemAll4(((1,2,3),1,2,3) , (1,2,3))"
   ]
  },
  {
   "cell_type": "code",
   "execution_count": null,
   "id": "fd71d830-8a38-4743-855c-27482a454af0",
   "metadata": {},
   "outputs": [],
   "source": []
  },
  {
   "cell_type": "markdown",
   "id": "a4cea856-6e40-4e5e-b36e-8f3caefb850d",
   "metadata": {},
   "source": [
    "# Kewwords Argument"
   ]
  },
  {
   "cell_type": "markdown",
   "id": "35ad6b63-f52d-49e8-99c4-f3cabc9e4ec6",
   "metadata": {
    "tags": []
   },
   "source": [
    "**kwargs"
   ]
  },
  {
   "cell_type": "code",
   "execution_count": null,
   "id": "833f8d82-e2ae-468a-9555-ed313c4fa633",
   "metadata": {},
   "outputs": [],
   "source": []
  },
  {
   "cell_type": "code",
   "execution_count": null,
   "id": "4e28de7e-4e60-4001-8d99-b884d8ae36cd",
   "metadata": {},
   "outputs": [],
   "source": []
  },
  {
   "cell_type": "code",
   "execution_count": 173,
   "id": "cfe191a6-74d1-4b8b-ac43-fa9aa1b00e9e",
   "metadata": {
    "tags": []
   },
   "outputs": [],
   "source": [
    "def multipleWhichRulesAboveAll(**colorToNumberMapping):\n",
    "    print(type(colorToNumberMapping))\n",
    "    print(colorToNumberMapping)"
   ]
  },
  {
   "cell_type": "code",
   "execution_count": 170,
   "id": "1c0d11f1-e008-47ec-9aab-c0c7dfef9f1d",
   "metadata": {
    "tags": []
   },
   "outputs": [
    {
     "ename": "TypeError",
     "evalue": "multipleWhichRulesAboveAll() takes 0 positional arguments but 1 was given",
     "output_type": "error",
     "traceback": [
      "\u001b[0;31m---------------------------------------------------------------------------\u001b[0m",
      "\u001b[0;31mTypeError\u001b[0m                                 Traceback (most recent call last)",
      "Cell \u001b[0;32mIn[170], line 1\u001b[0m\n\u001b[0;32m----> 1\u001b[0m multipleWhichRulesAboveAll(\u001b[38;5;241m1\u001b[39m)\n",
      "\u001b[0;31mTypeError\u001b[0m: multipleWhichRulesAboveAll() takes 0 positional arguments but 1 was given"
     ]
    }
   ],
   "source": [
    "multipleWhichRulesAboveAll(1)"
   ]
  },
  {
   "cell_type": "code",
   "execution_count": 174,
   "id": "815e579d-59c9-44a7-a637-da8128f76b5e",
   "metadata": {
    "tags": []
   },
   "outputs": [
    {
     "name": "stdout",
     "output_type": "stream",
     "text": [
      "<class 'dict'>\n",
      "{'red': 1, 'blue': 2}\n"
     ]
    }
   ],
   "source": [
    "multipleWhichRulesAboveAll(red = 1 , blue =2)"
   ]
  },
  {
   "cell_type": "code",
   "execution_count": 7,
   "id": "5f40cc6f-3121-4fa7-b313-34adfd39b3fb",
   "metadata": {},
   "outputs": [],
   "source": [
    "def GetTitleAndDescription(*jsonData):\n",
    "    title =  jsonData[1]"
   ]
  },
  {
   "cell_type": "code",
   "execution_count": 5,
   "id": "7fb48016-2477-4ff8-b0b4-53da876eac94",
   "metadata": {},
   "outputs": [],
   "source": [
    "def GetTitleAndDescription(**jsonData):\n",
    "    title = jsonData['title']    "
   ]
  },
  {
   "cell_type": "code",
   "execution_count": 8,
   "id": "30e59276-1e49-40e3-8efc-c87c7e622f6e",
   "metadata": {},
   "outputs": [],
   "source": [
    "GetTitleAndDescription('iphone9',1,\"An apple mobile which is nothing like apple\")"
   ]
  },
  {
   "cell_type": "code",
   "execution_count": null,
   "id": "7aeb48fa-087e-4d09-88e7-b6c28232c7c0",
   "metadata": {},
   "outputs": [],
   "source": []
  },
  {
   "cell_type": "code",
   "execution_count": null,
   "id": "7501a319-6a1a-408a-b05c-f49cac7c0ba7",
   "metadata": {},
   "outputs": [],
   "source": []
  },
  {
   "cell_type": "code",
   "execution_count": null,
   "id": "129d6759-b4bc-4d2a-991a-c33cd6cd2169",
   "metadata": {},
   "outputs": [],
   "source": []
  },
  {
   "cell_type": "code",
   "execution_count": null,
   "id": "1606b991-7ed7-4c37-88be-d45a25099908",
   "metadata": {},
   "outputs": [],
   "source": [
    "# POSITIONAL\n",
    "# KEYWORD\n",
    "# DEFAULT\n",
    "# VARIABLE WORDS\n",
    "# kwargs"
   ]
  },
  {
   "cell_type": "code",
   "execution_count": null,
   "id": "ee6746de-703d-4f46-b268-458aca925b1c",
   "metadata": {},
   "outputs": [],
   "source": []
  },
  {
   "cell_type": "code",
   "execution_count": 175,
   "id": "6f5518d6-f06b-4fdf-a952-4852dd88bb24",
   "metadata": {
    "tags": []
   },
   "outputs": [],
   "source": [
    "def information(name,*data):\n",
    "    print(name)\n",
    "    print(data)"
   ]
  },
  {
   "cell_type": "code",
   "execution_count": 177,
   "id": "8739b46c-a5ff-45b5-befc-950727c01adc",
   "metadata": {
    "tags": []
   },
   "outputs": [
    {
     "name": "stdout",
     "output_type": "stream",
     "text": [
      "mayank\n",
      "('123', '954', 'abc')\n"
     ]
    }
   ],
   "source": [
    "information(\"mayank\",\"123\",\"954\",\"abc\")"
   ]
  },
  {
   "cell_type": "code",
   "execution_count": 11,
   "id": "e2d0a518-e8de-48ed-988f-e3fc4f8ab1f8",
   "metadata": {
    "tags": []
   },
   "outputs": [],
   "source": [
    "def information2(name,**data): \n",
    "    print(name)\n",
    "    print(data)"
   ]
  },
  {
   "cell_type": "code",
   "execution_count": 12,
   "id": "c558d69a-6c1a-45ce-89a4-d1f83ad7aab1",
   "metadata": {
    "tags": []
   },
   "outputs": [
    {
     "name": "stdout",
     "output_type": "stream",
     "text": [
      "mayank\n",
      "{'mobile': '123', 'address': '954', 'appName': 'abc'}\n"
     ]
    }
   ],
   "source": [
    "information2(\"mayank\",mobile=\"123\",address=\"954\",appName=\"abc\")"
   ]
  },
  {
   "cell_type": "code",
   "execution_count": null,
   "id": "750cf7c4-2c7f-4c10-be95-8135ea066a59",
   "metadata": {},
   "outputs": [],
   "source": []
  },
  {
   "cell_type": "code",
   "execution_count": null,
   "id": "7a6edc70-28b4-4802-8590-12c5b1d67c0d",
   "metadata": {},
   "outputs": [],
   "source": []
  },
  {
   "cell_type": "markdown",
   "id": "6407fc8d-bff8-4b26-aa1e-97fa5cd7dcaa",
   "metadata": {},
   "source": [
    "# SCOPE OF VARIBLE"
   ]
  },
  {
   "cell_type": "code",
   "execution_count": 186,
   "id": "a3f67547-d4cc-419a-ab6f-ba9be3a8ee3e",
   "metadata": {
    "tags": []
   },
   "outputs": [
    {
     "name": "stdout",
     "output_type": "stream",
     "text": [
      "10\n"
     ]
    },
    {
     "ename": "NameError",
     "evalue": "name 'c' is not defined",
     "output_type": "error",
     "traceback": [
      "\u001b[0;31m---------------------------------------------------------------------------\u001b[0m",
      "\u001b[0;31mNameError\u001b[0m                                 Traceback (most recent call last)",
      "Cell \u001b[0;32mIn[186], line 9\u001b[0m\n\u001b[1;32m      6\u001b[0m     d \u001b[38;5;241m=\u001b[39m\u001b[38;5;241m5\u001b[39m\n\u001b[1;32m      8\u001b[0m \u001b[38;5;28mprint\u001b[39m(a)\n\u001b[0;32m----> 9\u001b[0m \u001b[38;5;28mprint\u001b[39m(c)\n",
      "\u001b[0;31mNameError\u001b[0m: name 'c' is not defined"
     ]
    }
   ],
   "source": [
    "a = 10\n",
    "\n",
    "if (a>10):\n",
    "    c= 5\n",
    "else:\n",
    "    d =5\n",
    "\n",
    "print(a)\n",
    "print(c)"
   ]
  },
  {
   "cell_type": "code",
   "execution_count": 187,
   "id": "7c8474cd-92d4-44e8-9116-cb8ebcdcf149",
   "metadata": {
    "tags": []
   },
   "outputs": [
    {
     "name": "stdout",
     "output_type": "stream",
     "text": [
      "10\n"
     ]
    },
    {
     "ename": "NameError",
     "evalue": "name 'c' is not defined",
     "output_type": "error",
     "traceback": [
      "\u001b[0;31m---------------------------------------------------------------------------\u001b[0m",
      "\u001b[0;31mNameError\u001b[0m                                 Traceback (most recent call last)",
      "Cell \u001b[0;32mIn[187], line 8\u001b[0m\n\u001b[1;32m      5\u001b[0m     \u001b[38;5;28mprint\u001b[39m(c)\n\u001b[1;32m      7\u001b[0m add(\u001b[38;5;241m5\u001b[39m,a1)\n\u001b[0;32m----> 8\u001b[0m \u001b[38;5;28mprint\u001b[39m(c)\n",
      "\u001b[0;31mNameError\u001b[0m: name 'c' is not defined"
     ]
    }
   ],
   "source": [
    "\n",
    "a1 = 5\n",
    "\n",
    "def add(a,b):\n",
    "    c = a+b\n",
    "    print(c)\n",
    "\n",
    "add(5,a1)\n",
    "print(c)"
   ]
  },
  {
   "cell_type": "code",
   "execution_count": 188,
   "id": "1c776ebf-7ba7-47f8-98f7-0be5baf88d05",
   "metadata": {
    "tags": []
   },
   "outputs": [
    {
     "name": "stdout",
     "output_type": "stream",
     "text": [
      "PYTHON\n"
     ]
    }
   ],
   "source": [
    "p = \"PYTHON\"\n",
    "\n",
    "def fun1():\n",
    "    print(p)\n",
    "\n",
    "fun1()"
   ]
  },
  {
   "cell_type": "code",
   "execution_count": null,
   "id": "a744ba73-611d-4ecd-abbc-9451034316ce",
   "metadata": {},
   "outputs": [],
   "source": []
  },
  {
   "cell_type": "code",
   "execution_count": null,
   "id": "b5e4fb2f-96a5-410e-b3cb-54cbca793024",
   "metadata": {},
   "outputs": [],
   "source": [
    "# Restart Kernel"
   ]
  },
  {
   "cell_type": "code",
   "execution_count": null,
   "id": "96530df3-0b97-4737-901c-bfb55a11056e",
   "metadata": {},
   "outputs": [],
   "source": []
  },
  {
   "cell_type": "code",
   "execution_count": 1,
   "id": "dd810afa-8446-42e2-a174-570fc7be8c83",
   "metadata": {
    "tags": []
   },
   "outputs": [
    {
     "name": "stdout",
     "output_type": "stream",
     "text": [
      "PYTHON\n"
     ]
    }
   ],
   "source": [
    "def fun1():\n",
    "    print(p1)\n",
    "    \n",
    "p1 = \"PYTHON\"\n",
    "fun1()"
   ]
  },
  {
   "cell_type": "code",
   "execution_count": 2,
   "id": "5a6cbe0a-a2f4-4364-a42d-59592576fc8b",
   "metadata": {
    "tags": []
   },
   "outputs": [
    {
     "ename": "NameError",
     "evalue": "name 'p2' is not defined",
     "output_type": "error",
     "traceback": [
      "\u001b[0;31m---------------------------------------------------------------------------\u001b[0m",
      "\u001b[0;31mNameError\u001b[0m                                 Traceback (most recent call last)",
      "Cell \u001b[0;32mIn[2], line 5\u001b[0m\n\u001b[1;32m      1\u001b[0m \u001b[38;5;28;01mdef\u001b[39;00m \u001b[38;5;21mfun1\u001b[39m():\n\u001b[1;32m      2\u001b[0m     \u001b[38;5;28mprint\u001b[39m(p2)\n\u001b[0;32m----> 5\u001b[0m fun1()\n\u001b[1;32m      6\u001b[0m p2 \u001b[38;5;241m=\u001b[39m \u001b[38;5;124m\"\u001b[39m\u001b[38;5;124mPYTHON\u001b[39m\u001b[38;5;124m\"\u001b[39m\n",
      "Cell \u001b[0;32mIn[2], line 2\u001b[0m, in \u001b[0;36mfun1\u001b[0;34m()\u001b[0m\n\u001b[1;32m      1\u001b[0m \u001b[38;5;28;01mdef\u001b[39;00m \u001b[38;5;21mfun1\u001b[39m():\n\u001b[0;32m----> 2\u001b[0m     \u001b[38;5;28mprint\u001b[39m(p2)\n",
      "\u001b[0;31mNameError\u001b[0m: name 'p2' is not defined"
     ]
    }
   ],
   "source": [
    "def fun1():\n",
    "    print(p2)\n",
    "    \n",
    "\n",
    "fun1()\n",
    "p2 = \"PYTHON\""
   ]
  },
  {
   "cell_type": "code",
   "execution_count": null,
   "id": "6854d58f-dffc-4d27-bcd6-bf657c82cacd",
   "metadata": {},
   "outputs": [],
   "source": [
    "\n"
   ]
  },
  {
   "cell_type": "code",
   "execution_count": null,
   "id": "6bf3242d-1c94-4807-b463-98cf2c7a9dad",
   "metadata": {},
   "outputs": [],
   "source": []
  },
  {
   "cell_type": "code",
   "execution_count": 9,
   "id": "de5960c9-56c7-4577-8d22-d2e827ac9818",
   "metadata": {
    "tags": []
   },
   "outputs": [],
   "source": [
    " a=5"
   ]
  },
  {
   "cell_type": "code",
   "execution_count": 15,
   "id": "c59fac37-538e-4dd5-9a66-f81fc7720e87",
   "metadata": {
    "tags": []
   },
   "outputs": [
    {
     "name": "stdout",
     "output_type": "stream",
     "text": [
      "10\n",
      "5\n",
      "10\n"
     ]
    }
   ],
   "source": [
    "def g():\n",
    "    c = 10\n",
    "    print(a)\n",
    "    print(c)\n",
    "\n",
    "\n",
    "print(c)\n",
    "g()"
   ]
  },
  {
   "cell_type": "code",
   "execution_count": 13,
   "id": "58bf0347-59e8-42c0-a075-80bb9d485baf",
   "metadata": {
    "tags": []
   },
   "outputs": [
    {
     "name": "stdout",
     "output_type": "stream",
     "text": [
      "5\n",
      "10\n",
      "10\n"
     ]
    }
   ],
   "source": [
    "a = 5\n",
    "def g():\n",
    "    global c \n",
    "    c= 10\n",
    "    print(a)\n",
    "    print(c)\n",
    "\n",
    "g()\n",
    "print(c)"
   ]
  },
  {
   "cell_type": "code",
   "execution_count": 12,
   "id": "d2abd9d8-a75e-4041-8151-1c23d8641b74",
   "metadata": {
    "tags": []
   },
   "outputs": [
    {
     "name": "stdout",
     "output_type": "stream",
     "text": [
      "I Love JS\n",
      "I Love JS\n"
     ]
    }
   ],
   "source": [
    "s1 = \"I Love Python\"\n",
    "\n",
    "def h():\n",
    "    global s1\n",
    "    s1 = \"I Love JS\"\n",
    "    print(s1)\n",
    "\n",
    "h()\n",
    "print(s1)"
   ]
  },
  {
   "cell_type": "code",
   "execution_count": null,
   "id": "f34d8f49-ebdb-4438-9cc7-8476194cca3d",
   "metadata": {},
   "outputs": [],
   "source": []
  },
  {
   "cell_type": "code",
   "execution_count": 16,
   "id": "e1f30995-ae9e-4f51-8e00-b6a4685432d3",
   "metadata": {
    "tags": []
   },
   "outputs": [
    {
     "name": "stdout",
     "output_type": "stream",
     "text": [
      "I Love PythonI Love JS\n",
      "I Love PythonI Love JS\n"
     ]
    }
   ],
   "source": [
    "s1 = \"I Love Python\"\n",
    "\n",
    "def h():\n",
    "    global s1\n",
    "    s1 += \"I Love JS\"\n",
    "    print(s1)\n",
    "\n",
    "h()\n",
    "print(s1)"
   ]
  },
  {
   "cell_type": "code",
   "execution_count": 13,
   "id": "58f3f934-3710-43b9-9d62-26a22ff542b8",
   "metadata": {
    "tags": []
   },
   "outputs": [
    {
     "name": "stdout",
     "output_type": "stream",
     "text": [
      "I Love JS\n",
      "I Love Python\n"
     ]
    }
   ],
   "source": [
    "s1 = \"I Love Python\"\n",
    "\n",
    "def h():\n",
    "    # global s1\n",
    "    s1 = \"I Love JS\"\n",
    "    print(s1)\n",
    "\n",
    "h()\n",
    "print(s1)"
   ]
  },
  {
   "cell_type": "code",
   "execution_count": null,
   "id": "d71c2809-3235-49f5-9d44-b3b3cacaf5f9",
   "metadata": {},
   "outputs": [],
   "source": []
  },
  {
   "cell_type": "code",
   "execution_count": 17,
   "id": "a09acacf-2d14-4e8e-b2f1-af9cb78884e7",
   "metadata": {
    "tags": []
   },
   "outputs": [],
   "source": [
    "def fun2():\n",
    " return 1/0"
   ]
  },
  {
   "cell_type": "code",
   "execution_count": null,
   "id": "b912392b-fc09-4abc-bb6c-2a4bc4d1623a",
   "metadata": {},
   "outputs": [],
   "source": []
  },
  {
   "cell_type": "code",
   "execution_count": 15,
   "id": "ba764413-5c67-4c44-af95-d4f015cc923c",
   "metadata": {
    "tags": []
   },
   "outputs": [
    {
     "ename": "ZeroDivisionError",
     "evalue": "division by zero",
     "output_type": "error",
     "traceback": [
      "\u001b[0;31m---------------------------------------------------------------------------\u001b[0m",
      "\u001b[0;31mZeroDivisionError\u001b[0m                         Traceback (most recent call last)",
      "Cell \u001b[0;32mIn[15], line 1\u001b[0m\n\u001b[0;32m----> 1\u001b[0m fun2()\n",
      "Cell \u001b[0;32mIn[14], line 2\u001b[0m, in \u001b[0;36mfun2\u001b[0;34m()\u001b[0m\n\u001b[1;32m      1\u001b[0m \u001b[38;5;28;01mdef\u001b[39;00m \u001b[38;5;21mfun2\u001b[39m():\n\u001b[0;32m----> 2\u001b[0m     \u001b[38;5;28;01mreturn\u001b[39;00m \u001b[38;5;241m1\u001b[39m\u001b[38;5;241m/\u001b[39m\u001b[38;5;241m0\u001b[39m\n",
      "\u001b[0;31mZeroDivisionError\u001b[0m: division by zero"
     ]
    }
   ],
   "source": [
    "fun2()"
   ]
  },
  {
   "cell_type": "code",
   "execution_count": null,
   "id": "24909d57-c1c9-4d94-8143-38e69c09eaf7",
   "metadata": {},
   "outputs": [],
   "source": []
  },
  {
   "cell_type": "code",
   "execution_count": 27,
   "id": "a8372647-4dfa-4f98-acd3-f0d29eb44651",
   "metadata": {
    "tags": []
   },
   "outputs": [],
   "source": [
    "def f3():\n",
    "    a=4\n",
    "    prin(4)\n",
    "\n"
   ]
  },
  {
   "cell_type": "code",
   "execution_count": 28,
   "id": "0ad65e40-985b-4a97-9117-ec55a9db539e",
   "metadata": {
    "tags": []
   },
   "outputs": [
    {
     "ename": "NameError",
     "evalue": "name 'prin' is not defined",
     "output_type": "error",
     "traceback": [
      "\u001b[0;31m---------------------------------------------------------------------------\u001b[0m",
      "\u001b[0;31mNameError\u001b[0m                                 Traceback (most recent call last)",
      "Cell \u001b[0;32mIn[28], line 1\u001b[0m\n\u001b[0;32m----> 1\u001b[0m f3()\n",
      "Cell \u001b[0;32mIn[27], line 3\u001b[0m, in \u001b[0;36mf3\u001b[0;34m()\u001b[0m\n\u001b[1;32m      1\u001b[0m \u001b[38;5;28;01mdef\u001b[39;00m \u001b[38;5;21mf3\u001b[39m():\n\u001b[1;32m      2\u001b[0m     a\u001b[38;5;241m=\u001b[39m\u001b[38;5;241m4\u001b[39m\n\u001b[0;32m----> 3\u001b[0m     prin(\u001b[38;5;241m4\u001b[39m)\n",
      "\u001b[0;31mNameError\u001b[0m: name 'prin' is not defined"
     ]
    }
   ],
   "source": [
    "f3()"
   ]
  },
  {
   "cell_type": "code",
   "execution_count": null,
   "id": "2878be8d-2fda-4b34-af47-01c6e32c62d3",
   "metadata": {},
   "outputs": [],
   "source": [
    "  print(5)"
   ]
  },
  {
   "cell_type": "code",
   "execution_count": 29,
   "id": "a2e27aa9-b798-4ba4-bcf4-b255b2136d4b",
   "metadata": {
    "tags": []
   },
   "outputs": [
    {
     "ename": "SyntaxError",
     "evalue": "invalid syntax (350570880.py, line 2)",
     "output_type": "error",
     "traceback": [
      "\u001b[0;36m  Cell \u001b[0;32mIn[29], line 2\u001b[0;36m\u001b[0m\n\u001b[0;31m    a++\u001b[0m\n\u001b[0m       ^\u001b[0m\n\u001b[0;31mSyntaxError\u001b[0m\u001b[0;31m:\u001b[0m invalid syntax\n"
     ]
    }
   ],
   "source": [
    "def f4():\n",
    "    a++"
   ]
  }
 ],
 "metadata": {
  "kernelspec": {
   "display_name": "Python 3 (ipykernel)",
   "language": "python",
   "name": "python3"
  },
  "language_info": {
   "codemirror_mode": {
    "name": "ipython",
    "version": 3
   },
   "file_extension": ".py",
   "mimetype": "text/x-python",
   "name": "python",
   "nbconvert_exporter": "python",
   "pygments_lexer": "ipython3",
   "version": "3.11.5"
  }
 },
 "nbformat": 4,
 "nbformat_minor": 5
}
