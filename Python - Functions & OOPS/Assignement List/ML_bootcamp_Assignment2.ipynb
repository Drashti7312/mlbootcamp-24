{
 "cells": [
  {
   "cell_type": "markdown",
   "metadata": {},
   "source": [
    "## ML bootcamp Assignment 2\n",
    "\n",
    "Pooja Ravishankar"
   ]
  },
  {
   "cell_type": "code",
   "execution_count": 1,
   "metadata": {},
   "outputs": [],
   "source": [
    "#Take ist input from the user\n",
    "def list_input_user():\n",
    "    l=[]\n",
    "    n = int(input(\"Enter the number of elements of the list : \"))\n",
    "    for i in range(n):\n",
    "        i = int(input(\"enter the input : \"))\n",
    "        l.append(i)\n",
    "    return l "
   ]
  },
  {
   "cell_type": "code",
   "execution_count": 2,
   "metadata": {},
   "outputs": [
    {
     "name": "stdout",
     "output_type": "stream",
     "text": [
      "Enter the number of elements of the list : 5\n",
      "enter the input : 1\n",
      "enter the input : 2\n",
      "enter the input : 3\n",
      "enter the input : 4\n",
      "enter the input : 5\n",
      "15\n"
     ]
    }
   ],
   "source": [
    "#1. Write a Python program to find the sum of all elements in a list.\n",
    "#Test case: For the list [1, 2, 3, 4, 5], the sum should be 15.\n",
    "\n",
    "l = list_input_user()\n",
    "print(sum(l))"
   ]
  },
  {
   "cell_type": "code",
   "execution_count": 3,
   "metadata": {},
   "outputs": [
    {
     "name": "stdout",
     "output_type": "stream",
     "text": [
      "Enter the number of elements of the list : 5\n",
      "enter the input : 1\n",
      "enter the input : 2\n",
      "enter the input : 3\n",
      "enter the input : 4\n",
      "enter the input : 5\n",
      "Sum = 15\n"
     ]
    }
   ],
   "source": [
    "#Another way without using inbuilt method sum\n",
    "l = list_input_user()\n",
    "sum = 0\n",
    "for i in l :\n",
    "    sum += i\n",
    "print(f\"Sum = {sum}\")"
   ]
  },
  {
   "cell_type": "code",
   "execution_count": 4,
   "metadata": {},
   "outputs": [
    {
     "name": "stdout",
     "output_type": "stream",
     "text": [
      "Enter the number of elements of the list : 5\n",
      "enter the input : 3\n",
      "enter the input : 8\n",
      "enter the input : 2\n",
      "enter the input : 10\n",
      "enter the input : 5\n",
      "10\n"
     ]
    }
   ],
   "source": [
    "#2. Write a Python program to find the largest element in a list.\n",
    "#Test case: For the list [3, 8, 2, 10, 5], the largest element should be 10\n",
    "l = list_input_user()\n",
    "print(max(l))"
   ]
  },
  {
   "cell_type": "code",
   "execution_count": 5,
   "metadata": {},
   "outputs": [
    {
     "name": "stdout",
     "output_type": "stream",
     "text": [
      "Enter the number of elements of the list : 5\n",
      "enter the input : 3\n",
      "enter the input : 8\n",
      "enter the input : 2\n",
      "enter the input : 10\n",
      "enter the input : 5\n",
      "10\n"
     ]
    }
   ],
   "source": [
    "#Another way to find max\n",
    "largest = -999999999\n",
    "l = list_input_user()\n",
    "for i in l :\n",
    "    if(i> largest):\n",
    "        largest = i\n",
    "print(largest)"
   ]
  },
  {
   "cell_type": "code",
   "execution_count": 31,
   "metadata": {},
   "outputs": [
    {
     "name": "stdout",
     "output_type": "stream",
     "text": [
      "Enter the number of elements of the list : 7\n",
      "enter the input : 1\n",
      "enter the input : 2\n",
      "enter the input : 2\n",
      "enter the input : 3\n",
      "enter the input : 4\n",
      "enter the input : 4\n",
      "enter the input : 5\n",
      "List [1, 2, 2, 3, 4, 4, 5] after removing duplicates = [1, 2, 3, 4, 5]\n"
     ]
    }
   ],
   "source": [
    "#3. Write a Python program to remove duplicates from a list.\n",
    "#Test case: For the list [1, 2, 2, 3, 4, 4, 5], the list after removing duplicates should be [1, 2, 3, 4, 5].\n",
    "\n",
    "l = list_input_user()\n",
    "no_dupl = []\n",
    "if(len(set(l))== len(l)):\n",
    "    print(f\"No duplicates in the list {l}\")\n",
    "else:\n",
    "    for i in l:\n",
    "        if(i not in no_dupl):\n",
    "            no_dupl.append(i)\n",
    "    print(f\"List {l} after removing duplicates = {no_dupl}\")"
   ]
  },
  {
   "cell_type": "code",
   "execution_count": 7,
   "metadata": {},
   "outputs": [
    {
     "name": "stdout",
     "output_type": "stream",
     "text": [
      "Enter the number of elements of the list : 0\n",
      "Empty list\n"
     ]
    },
    {
     "data": {
      "text/plain": [
       "True"
      ]
     },
     "execution_count": 7,
     "metadata": {},
     "output_type": "execute_result"
    }
   ],
   "source": [
    "#4. Write a Python program to check if a list is empty or not.\n",
    "#Test case: For an empty list [], the program should return True\n",
    "l = list_input_user()\n",
    "def empty_list(l):\n",
    "    if(len(l) == 0 ) :\n",
    "        print(\"Empty list\")\n",
    "        return True\n",
    "    else:\n",
    "        print(\"non empty list\")\n",
    "        return False\n",
    "\n",
    "empty_list(l)"
   ]
  },
  {
   "cell_type": "code",
   "execution_count": 8,
   "metadata": {},
   "outputs": [
    {
     "name": "stdout",
     "output_type": "stream",
     "text": [
      "Enter the number of elements of the list : 5\n",
      "enter the input : 1\n",
      "enter the input : 2\n",
      "enter the input : 3\n",
      "enter the input : 4\n",
      "enter the input : 5\n",
      "Number of elements in list  = 5\n"
     ]
    }
   ],
   "source": [
    "#5. Write a Python program to count the number of elements in a list.\n",
    "#Test case: For the list [1, 2, 3, 4, 5], the count should be 5.\n",
    "l = list_input_user()\n",
    "count = 0\n",
    "for i in l :\n",
    "    count += 1\n",
    "print(f\"Number of elements in list  = {count}\")"
   ]
  },
  {
   "cell_type": "code",
   "execution_count": 9,
   "metadata": {},
   "outputs": [
    {
     "name": "stdout",
     "output_type": "stream",
     "text": [
      "Enter the number of elements of the list : 5\n",
      "enter the input : 1\n",
      "enter the input : 2\n",
      "enter the input : 3\n",
      "enter the input : 4\n",
      "enter the input : 5\n",
      "Number of elements in list  = 5\n"
     ]
    }
   ],
   "source": [
    "#Alternate way to count the elements in the list is using inbuilt function: len(l)\n",
    "l = list_input_user()\n",
    "n = len(l)\n",
    "print(f\"Number of elements in list  = {n}\")"
   ]
  },
  {
   "cell_type": "code",
   "execution_count": 10,
   "metadata": {},
   "outputs": [
    {
     "name": "stdout",
     "output_type": "stream",
     "text": [
      "Enter the number of elements of the list : 5\n",
      "enter the input : 10\n",
      "enter the input : 20\n",
      "enter the input : 30\n",
      "enter the input : 40\n",
      "enter the input : 50\n",
      "Enter the element in the list : 30\n",
      "Index is 2\n"
     ]
    }
   ],
   "source": [
    "#6. Write a Python program to find the index of an element in a list.\n",
    "#Test case: For the list [10, 20, 30, 40, 50], the index of 30 should be 2.\n",
    "\n",
    "l = list_input_user()\n",
    "n = len(l)\n",
    "index_ = -9999999\n",
    "element = int(input(\"Enter the element in the list : \"))\n",
    "for i in range(n):\n",
    "    if(element == l[i]):\n",
    "        index_ = i   \n",
    "        \n",
    "if(index_ != -9999999):\n",
    "    print(f\"Index is {index_}\")\n",
    "else:\n",
    "    print(\"Element is not present in the list\")"
   ]
  },
  {
   "cell_type": "code",
   "execution_count": 12,
   "metadata": {},
   "outputs": [
    {
     "name": "stdout",
     "output_type": "stream",
     "text": [
      "Enter the number of elements of the list : 5\n",
      "enter the input : 10\n",
      "enter the input : 20\n",
      "enter the input : 30\n",
      "enter the input : 40\n",
      "enter the input : 50\n",
      "Enter the element in the list : 30\n",
      "2\n"
     ]
    }
   ],
   "source": [
    "#Using inbuilt method : index\n",
    "l = list_input_user()\n",
    "element = int(input(\"Enter the element in the list : \"))\n",
    "if(l.count(element)!=0):\n",
    "    print(l.index(element))\n",
    "else:\n",
    "    print(\"Element is not present in the list\")"
   ]
  },
  {
   "cell_type": "code",
   "execution_count": 13,
   "metadata": {},
   "outputs": [
    {
     "name": "stdout",
     "output_type": "stream",
     "text": [
      "Enter the number of elements of the list : 5\n",
      "enter the input : 1\n",
      "enter the input : 2\n",
      "enter the input : 3\n",
      "enter the input : 4\n",
      "enter the input : 4\n",
      "elements in the list [1, 2, 3, 4, 4] are not unique\n"
     ]
    },
    {
     "data": {
      "text/plain": [
       "False"
      ]
     },
     "execution_count": 13,
     "metadata": {},
     "output_type": "execute_result"
    }
   ],
   "source": [
    "#7. Write a Python program to check if all elements in a list are unique.\n",
    "#Test case: For the list [1, 2, 3, 4, 5], the program should return True.\n",
    "l = list_input_user()\n",
    "def unique_elements(l):\n",
    "    if(len(l)==len(set(l))):\n",
    "        print(f\"elements in the list {l} are unique\")\n",
    "        return True\n",
    "    else :\n",
    "        print(f\"elements in the list {l} are not unique\")\n",
    "        return False\n",
    "unique_elements(l)"
   ]
  },
  {
   "cell_type": "code",
   "execution_count": 14,
   "metadata": {},
   "outputs": [
    {
     "name": "stdout",
     "output_type": "stream",
     "text": [
      "Enter the number of elements of the list : 5\n",
      "enter the input : 1\n",
      "enter the input : 2\n",
      "enter the input : 3\n",
      "enter the input : 4\n",
      "enter the input : 5\n",
      "Original list [1, 2, 3, 4, 5]\n",
      "Reversed list [5, 4, 3, 2, 1]\n"
     ]
    }
   ],
   "source": [
    "#8. Write a Python program to reverse a list.\n",
    "#Test case: For the list [1, 2, 3, 4, 5], the reversed list should be [5, 4, 3, 2, 1].\n",
    "l = list_input_user()\n",
    "print(f\"Original list {l}\")\n",
    "print(f\"Reversed list {l[::-1]}\")"
   ]
  },
  {
   "cell_type": "code",
   "execution_count": 15,
   "metadata": {},
   "outputs": [
    {
     "name": "stdout",
     "output_type": "stream",
     "text": [
      "Enter the number of elements of the list : 5\n",
      "enter the input : 1\n",
      "enter the input : 2\n",
      "enter the input : 3\n",
      "enter the input : 4\n",
      "enter the input : 5\n",
      "Original list [1, 2, 3, 4, 5]\n",
      "Reversed list [5, 4, 3, 2, 1]\n"
     ]
    }
   ],
   "source": [
    "# Alternate way using inbuilt method reverse\n",
    "l = list_input_user()\n",
    "print(f\"Original list {l}\")\n",
    "l.reverse()\n",
    "print(f\"Reversed list {l}\")"
   ]
  },
  {
   "cell_type": "code",
   "execution_count": 16,
   "metadata": {},
   "outputs": [
    {
     "name": "stdout",
     "output_type": "stream",
     "text": [
      "Enter the number of elements of the list : 5\n",
      "enter the input : 3\n",
      "enter the input : 8\n",
      "enter the input : 1\n",
      "enter the input : 6\n",
      "enter the input : 4\n",
      "Original list [3, 8, 1, 6, 4]\n",
      "Sorted list in descending order [8, 6, 4, 3, 1]\n"
     ]
    }
   ],
   "source": [
    "#9. Write a Python program to sort a list in descending order.\n",
    "#Test case: For the list [3, 8, 1, 6, 4], the sorted list in descending order should be [8, 6, 4, 3, 1].\n",
    "l = list_input_user()\n",
    "print(f\"Original list {l}\")\n",
    "print(f\"Sorted list in descending order {sorted(l,reverse = True)}\")"
   ]
  },
  {
   "cell_type": "code",
   "execution_count": 17,
   "metadata": {},
   "outputs": [
    {
     "name": "stdout",
     "output_type": "stream",
     "text": [
      "Enter the number of elements of the list : 5\n",
      "enter the input : 10\n",
      "enter the input : 5\n",
      "enter the input : 8\n",
      "enter the input : 20\n",
      "enter the input : 2\n",
      "Second largest = 10\n"
     ]
    }
   ],
   "source": [
    "#10. Write a Python program to find the second largest element in a list.\n",
    "#Test case: For the list [10, 5, 8, 20, 2], the second largest element should be 10.\n",
    "l = list_input_user()\n",
    "largest = max(l)\n",
    "l.remove(largest)\n",
    "second_largest = max(l)\n",
    "print(f\"Second largest = {second_largest}\")"
   ]
  },
  {
   "cell_type": "code",
   "execution_count": 18,
   "metadata": {},
   "outputs": [
    {
     "name": "stdout",
     "output_type": "stream",
     "text": [
      "Enter the number of elements of the list : 5\n",
      "enter the input : 1\n",
      "enter the input : 2\n",
      "enter the input : 3\n",
      "enter the input : 4\n",
      "enter the input : 5\n",
      "There are 2 even numbers and 3 odd numbers in the list [1, 2, 3, 4, 5]\n"
     ]
    }
   ],
   "source": [
    "#11.Write a Python program to count the number of even and odd numbers in a list.\n",
    "#Test case: For the list [1, 2, 3, 4, 5], there are 2 even numbers and 3 odd numbers.\n",
    "\n",
    "# Here number 0 is treated as neither odd nor even \n",
    "l = list_input_user()\n",
    "evencount = oddcount = zerocount = 0\n",
    "for i in l :\n",
    "    if(i == 0):\n",
    "        zerocount += 1\n",
    "    elif(i%2 ==0):\n",
    "        evencount += 1\n",
    "    else:\n",
    "        oddcount += 1\n",
    "print(f\"There are {evencount} even numbers and {oddcount} odd numbers in the list {l}\")"
   ]
  },
  {
   "cell_type": "code",
   "execution_count": 20,
   "metadata": {},
   "outputs": [
    {
     "name": "stdout",
     "output_type": "stream",
     "text": [
      "Enter the number of elements of the list : 3\n",
      "enter the input : 1\n",
      "enter the input : 2\n",
      "enter the input : 3\n",
      "Enter the number of elements of the list : 3\n",
      "enter the input : 4\n",
      "enter the input : 5\n",
      "enter the input : 6\n",
      "List1 = [1, 2, 3]\n",
      "List2 = [4, 5, 6]\n",
      "Concatenated list = [1, 2, 3, 4, 5, 6]\n"
     ]
    }
   ],
   "source": [
    "#12. Write a Python program to concatenate two lists.\n",
    "#Test case: For the lists [1, 2, 3] and [4, 5, 6], the concatenated list should be [1, 2, 3, 4, 5, 6].\n",
    "\n",
    "l1 = list_input_user() #List 1\n",
    "l2 = list_input_user() #List 2\n",
    "print(f\"List1 = {l1}\")\n",
    "print(f\"List2 = {l2}\")\n",
    "print(f\"Concatenated list = {l1+l2}\")"
   ]
  },
  {
   "cell_type": "code",
   "execution_count": 21,
   "metadata": {},
   "outputs": [
    {
     "name": "stdout",
     "output_type": "stream",
     "text": [
      "Enter the number of elements of the list : 4\n",
      "enter the input : 1\n",
      "enter the input : 2\n",
      "enter the input : 3\n",
      "enter the input : 4\n",
      "Enter the number of elements of the list : 4\n",
      "enter the input : 3\n",
      "enter the input : 4\n",
      "enter the input : 5\n",
      "enter the input : 6\n",
      "List1 = [1, 2, 3, 4]\n",
      "List2 = [3, 4, 5, 6]\n",
      "Common elements are [3, 4]\n"
     ]
    }
   ],
   "source": [
    "#13. Write a Python program to find the common elements between two lists.\n",
    "#Test case: For the lists [1, 2, 3, 4] and [3, 4, 5, 6], the common elements should be [3, 4].\n",
    "l1 = list_input_user() #List 1\n",
    "l2 = list_input_user() #List 2\n",
    "print(f\"List1 = {l1}\")\n",
    "print(f\"List2 = {l2}\")\n",
    "common_elem = []\n",
    "for i in l1:\n",
    "    if(i in l2) :\n",
    "        common_elem.append(i)\n",
    "print(f\"Common elements are {common_elem}\")"
   ]
  },
  {
   "cell_type": "code",
   "execution_count": 22,
   "metadata": {},
   "outputs": [
    {
     "name": "stdout",
     "output_type": "stream",
     "text": [
      "Enter the number of elements of the list : 4\n",
      "enter the input : 1\n",
      "enter the input : 2\n",
      "enter the input : 3\n",
      "enter the input : 4\n",
      "Enter the number of elements of the list : 4\n",
      "enter the input : 3\n",
      "enter the input : 4\n",
      "enter the input : 5\n",
      "enter the input : 6\n",
      "List1 = [1, 2, 3, 4]\n",
      "List2 = [3, 4, 5, 6]\n",
      "Difference = [1, 2]\n"
     ]
    }
   ],
   "source": [
    "#14. Write a Python program to find the difference between two lists.\n",
    "#Test case: For the lists [1, 2, 3, 4] and [3, 4, 5, 6], the difference should be [1, 2].\n",
    "\n",
    "l1 = list_input_user() #List 1\n",
    "l2 = list_input_user() #List 2\n",
    "print(f\"List1 = {l1}\")\n",
    "print(f\"List2 = {l2}\")\n",
    "diff_elem = []\n",
    "for i in l1:\n",
    "    if(i not in l2) :\n",
    "        diff_elem.append(i)\n",
    "print(f\"Difference = {diff_elem}\")"
   ]
  },
  {
   "cell_type": "code",
   "execution_count": 23,
   "metadata": {},
   "outputs": [
    {
     "name": "stdout",
     "output_type": "stream",
     "text": [
      "Enter the number of elements of the list : 6\n",
      "enter the input : 0\n",
      "enter the input : 1\n",
      "enter the input : 2\n",
      "enter the input : 3\n",
      "enter the input : 4\n",
      "enter the input : 5\n",
      "Enter the nth index of the list : 2\n",
      "Original List = [0, 1, 2, 3, 4, 5]\n",
      "List after removing the element 2 = [0, 1, 3, 4, 5]\n"
     ]
    }
   ],
   "source": [
    "#15.Write a Python program to remove the nth index element from a list.\n",
    "#Test case: For the list [0, 1, 2, 3, 4, 5], removing the element at index 2 should result in [0, 1, 3, 4, 5].\n",
    "l = list_input_user() #List \n",
    "n = len(l)\n",
    "nth_index = int(input(\"Enter the nth index of the list : \"))\n",
    "if(nth_index >=0 and nth_index < n ) or (nth_index <0 and (-nth_index)<=n):\n",
    "    print(f\"Original List = {l}\")\n",
    "    element = l[nth_index]\n",
    "    l.remove(l[nth_index])\n",
    "    print(f\"List after removing the element {element} = {l}\")\n",
    "else:\n",
    "    print(\"Index is out of the range\")"
   ]
  },
  {
   "cell_type": "code",
   "execution_count": 24,
   "metadata": {},
   "outputs": [
    {
     "name": "stdout",
     "output_type": "stream",
     "text": [
      "Enter the number of elements of the list : 4\n",
      "enter the input : 1\n",
      "enter the input : 2\n",
      "enter the input : 3\n",
      "enter the input : 4\n",
      "Enter the number of elements of the list : 4\n",
      "enter the input : 3\n",
      "enter the input : 4\n",
      "enter the input : 5\n",
      "enter the input : 6\n",
      "List1 = [1, 2, 3, 4]\n",
      "List2 = [3, 4, 5, 6]\n",
      "Union list = [1, 2, 3, 4, 5, 6]\n"
     ]
    }
   ],
   "source": [
    "#16. Write a Python program to find the union of two lists.\n",
    "#Test case: For the lists [1, 2, 3, 4] and [3, 4, 5, 6], the union should be [1, 2, 3, 4, 5, 6].\n",
    "l1 = list_input_user() #List 1\n",
    "l2 = list_input_user() #List 2\n",
    "union_list = []\n",
    "print(f\"List1 = {l1}\")\n",
    "print(f\"List2 = {l2}\")\n",
    "for i in l1:\n",
    "    if(i not in union_list) :\n",
    "        union_list.append(i)\n",
    "for j in l2 :\n",
    "    if(j not in union_list) :\n",
    "         union_list.append(j)\n",
    "print(f\"Union list = {union_list}\")"
   ]
  },
  {
   "cell_type": "code",
   "execution_count": 25,
   "metadata": {},
   "outputs": [
    {
     "name": "stdout",
     "output_type": "stream",
     "text": [
      "Enter the number of elements of the list : 4\n",
      "enter the input : 1\n",
      "enter the input : 2\n",
      "enter the input : 3\n",
      "enter the input : 4\n",
      "Enter the number of elements of the list : 4\n",
      "enter the input : 3\n",
      "enter the input : 4\n",
      "enter the input : 5\n",
      "enter the input : 6\n",
      "List1 = [1, 2, 3, 4]\n",
      "List2 = [3, 4, 5, 6]\n",
      "Intersection = [3, 4]\n"
     ]
    }
   ],
   "source": [
    "#17. Write a Python program to find the intersection of two lists.\n",
    "#Test case: For the lists [1, 2, 3, 4] and [3, 4, 5, 6], the intersection should be [3, 4].\n",
    "l1 = list_input_user() #List 1\n",
    "l2 = list_input_user() #List 2\n",
    "n = len(l1)\n",
    "m = len(l2)\n",
    "intersection_list = []\n",
    "print(f\"List1 = {l1}\")\n",
    "print(f\"List2 = {l2}\")\n",
    "if(n <= m):\n",
    "    for i in l1 :\n",
    "        if(i in l2):\n",
    "            intersection_list.append(i) \n",
    "else :\n",
    "    for j in l2:\n",
    "        if(j in l1):\n",
    "               intersection_list.append(j)\n",
    "print(f\"Intersection = {intersection_list}\")"
   ]
  },
  {
   "cell_type": "code",
   "execution_count": 26,
   "metadata": {},
   "outputs": [],
   "source": [
    "#18. Write a Python program to check if a list is a subset of another list.\n",
    "#Test case: For the lists [1, 2, 3] and [1, 2, 3, 4, 5], the first list is a subset of the second list.\n",
    "def subset(l1,l2):\n",
    "    print(f\"List1 = {l1}\")\n",
    "    print(f\"List2 = {l2}\")\n",
    "    n = len(l1)\n",
    "    m = len(l2)\n",
    "    subset = False\n",
    "    if(n ==0 or m ==0):\n",
    "        print(f\"Empty set is a subset of every set\")\n",
    "        return True\n",
    "    if(n ==m) and (l1 ==l2):\n",
    "        subset = True\n",
    "        print(f\"List {l1} and {l2} are subsets of each other\")\n",
    "        return True\n",
    "    elif(n < m):\n",
    "        for i in l1:\n",
    "            if (i not in l2) and (l1.count(i) != l2.count(i)):\n",
    "                break\n",
    "            else :\n",
    "                subset = True\n",
    "        if(subset):\n",
    "            print(f\"List {l1} is a subset of {l2}\") \n",
    "            return True\n",
    "    else :\n",
    "        for j in l2 :\n",
    "            if(j not in l1) and (l1.count(j) != l2.count(j)):\n",
    "                break\n",
    "            else :\n",
    "                subset = True\n",
    "        if(subset):\n",
    "            print(f\"List {l2} is a subset of {l1}\")\n",
    "            return True\n",
    "\n",
    "    if(not subset):\n",
    "        print(f\"{l1} and {l2} are not subsets\")\n",
    "        return False"
   ]
  },
  {
   "cell_type": "code",
   "execution_count": 27,
   "metadata": {},
   "outputs": [
    {
     "name": "stdout",
     "output_type": "stream",
     "text": [
      "Enter the number of elements of the list : 3\n",
      "enter the input : 1\n",
      "enter the input : 2\n",
      "enter the input : 3\n",
      "Enter the number of elements of the list : 5\n",
      "enter the input : 1\n",
      "enter the input : 2\n",
      "enter the input : 3\n",
      "enter the input : 4\n",
      "enter the input : 5\n",
      "List1 = [1, 2, 3]\n",
      "List2 = [1, 2, 3, 4, 5]\n",
      "List [1, 2, 3] is a subset of [1, 2, 3, 4, 5]\n"
     ]
    },
    {
     "data": {
      "text/plain": [
       "True"
      ]
     },
     "execution_count": 27,
     "metadata": {},
     "output_type": "execute_result"
    }
   ],
   "source": [
    "l1 = list_input_user() #List 1\n",
    "l2 = list_input_user() #List 2\n",
    "subset(l1,l2)"
   ]
  },
  {
   "cell_type": "code",
   "execution_count": 28,
   "metadata": {},
   "outputs": [
    {
     "name": "stdout",
     "output_type": "stream",
     "text": [
      "Enter the number of elements of the list : 10\n",
      "enter the input : 1\n",
      "enter the input : 2\n",
      "enter the input : 2\n",
      "enter the input : 3\n",
      "enter the input : 3\n",
      "enter the input : 3\n",
      "enter the input : 4\n",
      "enter the input : 4\n",
      "enter the input : 4\n",
      "enter the input : 4\n",
      "\n",
      "Frequency of 1 = 1\n",
      "Frequency of 2 = 2\n",
      "Frequency of 3 = 3\n",
      "Frequency of 4 = 4\n"
     ]
    }
   ],
   "source": [
    "#19. Write a Python program to find the frequency of each element in a list.\n",
    "#Test case: For the list [1, 2, 2, 3, 3, 3, 4, 4, 4, 4], the frequency of 2 should be 2 and the frequency of 4 should be 4.\n",
    "l = list_input_user() #List \n",
    "l2 = l.copy()\n",
    "visited = []\n",
    "print()\n",
    "for i in l :\n",
    "    if(l.count(i) >1) :\n",
    "        if(i not in visited):\n",
    "            visited.append(i)\n",
    "            print(f\"Frequency of {i} = {l.count(i)}\")    \n",
    "    else :\n",
    "        print(f\"Frequency of {i} = {l.count(i)}\")\n",
    "del visited"
   ]
  },
  {
   "cell_type": "code",
   "execution_count": 29,
   "metadata": {},
   "outputs": [
    {
     "name": "stdout",
     "output_type": "stream",
     "text": [
      "Enter the number of elements of the list : 5\n",
      "enter the input : 1\n",
      "enter the input : 7\n",
      "enter the input : 3\n",
      "enter the input : 10\n",
      "enter the input : 5\n",
      "Max difference = 7\n"
     ]
    }
   ],
   "source": [
    "#20. Write a Python program to find the maximum difference between two consecutive elements in a list.\n",
    "#Test case: For the list [1, 7, 3, 10, 5], the maximum difference between two consecutive elements should be 7.\n",
    "l = list_input_user() #List \n",
    "n = len(l)\n",
    "max = -999999\n",
    "for i in range(n):\n",
    "    if(i == n-1):\n",
    "        break\n",
    "    diff = l[i+1] - l[i]\n",
    "    if(diff > max):\n",
    "        max = diff\n",
    "print(f\"Max difference = {max}\")"
   ]
  },
  {
   "cell_type": "code",
   "execution_count": null,
   "metadata": {},
   "outputs": [],
   "source": []
  }
 ],
 "metadata": {
  "kernelspec": {
   "display_name": "Python 3 (ipykernel)",
   "language": "python",
   "name": "python3"
  },
  "language_info": {
   "codemirror_mode": {
    "name": "ipython",
    "version": 3
   },
   "file_extension": ".py",
   "mimetype": "text/x-python",
   "name": "python",
   "nbconvert_exporter": "python",
   "pygments_lexer": "ipython3",
   "version": "3.11.5"
  }
 },
 "nbformat": 4,
 "nbformat_minor": 4
}
