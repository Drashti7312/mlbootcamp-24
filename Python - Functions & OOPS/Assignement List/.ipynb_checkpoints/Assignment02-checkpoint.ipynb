{
  "nbformat": 4,
  "nbformat_minor": 0,
  "metadata": {
    "colab": {
      "provenance": []
    },
    "kernelspec": {
      "name": "python3",
      "display_name": "Python 3"
    },
    "language_info": {
      "name": "python"
    }
  },
  "cells": [
    {
      "cell_type": "markdown",
      "source": [
        "# Assignment 02 => Python List By Mayank Aggarwal Sir From iNeuron\n",
        "# Date 24/03/2024\n",
        "# Student : Sivanujan S."
      ],
      "metadata": {
        "id": "Q07Gn6BeTFE0"
      }
    },
    {
      "cell_type": "markdown",
      "source": [
        "### 1.  Write a Python program to find the sum of all elements in a list."
      ],
      "metadata": {
        "id": "ltacErl7eqMS"
      }
    },
    {
      "cell_type": "code",
      "execution_count": 12,
      "metadata": {
        "id": "AVF2EwkNehSk"
      },
      "outputs": [],
      "source": [
        "def find_sum(input_list):\n",
        "\n",
        "  sum = 0\n",
        "  for i in range(len(input_list)):\n",
        "    sum += input_list[i]\n",
        "  return sum"
      ]
    },
    {
      "cell_type": "code",
      "source": [
        "find_sum([3,5,8,9])"
      ],
      "metadata": {
        "colab": {
          "base_uri": "https://localhost:8080/"
        },
        "id": "-NLz1QWWx2Pa",
        "outputId": "4e35b429-549d-4e2f-cf5c-1c1b670aadbf"
      },
      "execution_count": 13,
      "outputs": [
        {
          "output_type": "execute_result",
          "data": {
            "text/plain": [
              "25"
            ]
          },
          "metadata": {},
          "execution_count": 13
        }
      ]
    },
    {
      "cell_type": "markdown",
      "source": [
        "### 2.Write a Python program to find the largest element in a list."
      ],
      "metadata": {
        "id": "vQgTY4wApg72"
      }
    },
    {
      "cell_type": "code",
      "source": [
        "def find_largest_element(input_list):\n",
        "    return max(input_list)"
      ],
      "metadata": {
        "id": "0DcsxzhexH6h"
      },
      "execution_count": 8,
      "outputs": []
    },
    {
      "cell_type": "code",
      "source": [
        "find_largest_element([3,5,6,8,9])"
      ],
      "metadata": {
        "colab": {
          "base_uri": "https://localhost:8080/"
        },
        "id": "ParraqPkpmac",
        "outputId": "df5c55e9-c966-49f6-8f89-8debff79d921"
      },
      "execution_count": 14,
      "outputs": [
        {
          "output_type": "execute_result",
          "data": {
            "text/plain": [
              "9"
            ]
          },
          "metadata": {},
          "execution_count": 14
        }
      ]
    },
    {
      "cell_type": "markdown",
      "source": [
        "### 3.Write a Python program to remove duplicates from a list."
      ],
      "metadata": {
        "id": "CBheTeGqqFbg"
      }
    },
    {
      "cell_type": "code",
      "source": [
        "def remove_duplicates(inpu_lis):\n",
        "    unique_list = []\n",
        "    for item in inpu_lis:\n",
        "        if item not in unique_list:\n",
        "            unique_list.append(item)\n",
        "    return unique_list"
      ],
      "metadata": {
        "id": "yfdEb9CeqBxg"
      },
      "execution_count": 5,
      "outputs": []
    },
    {
      "cell_type": "code",
      "source": [
        "remove_duplicates([3,3,3,3,4,5])"
      ],
      "metadata": {
        "colab": {
          "base_uri": "https://localhost:8080/"
        },
        "id": "-_2_3kWTwj46",
        "outputId": "91ccaa1c-f06b-48c5-e571-1d4c9b12f286"
      },
      "execution_count": 15,
      "outputs": [
        {
          "output_type": "execute_result",
          "data": {
            "text/plain": [
              "[3, 4, 5]"
            ]
          },
          "metadata": {},
          "execution_count": 15
        }
      ]
    },
    {
      "cell_type": "markdown",
      "source": [
        "### 4.Write a Python program to check if a list is empty or not."
      ],
      "metadata": {
        "id": "bS1d4NsmyDXy"
      }
    },
    {
      "cell_type": "code",
      "source": [
        "def check_list(input_list):\n",
        "  if len(input_list) > 0:\n",
        "    print(\"List is not empty\")\n",
        "  else:\n",
        "    print(\"list is empty\")"
      ],
      "metadata": {
        "id": "19ELYNTbwugX"
      },
      "execution_count": 19,
      "outputs": []
    },
    {
      "cell_type": "code",
      "source": [
        "check_list([])"
      ],
      "metadata": {
        "colab": {
          "base_uri": "https://localhost:8080/"
        },
        "id": "MbVO8R0wz4Kq",
        "outputId": "dcc46715-abad-4a5f-9cfc-bb1667aca5d9"
      },
      "execution_count": 20,
      "outputs": [
        {
          "output_type": "stream",
          "name": "stdout",
          "text": [
            "list is empty\n"
          ]
        }
      ]
    },
    {
      "cell_type": "markdown",
      "source": [
        "### 5. Write a Python program to count the number of elements in a list."
      ],
      "metadata": {
        "id": "NIDE4imh0Gq9"
      }
    },
    {
      "cell_type": "code",
      "source": [
        "def count_num_elements(input_list):\n",
        "  return len(input_list)"
      ],
      "metadata": {
        "id": "MuOy_G330bw4"
      },
      "execution_count": 21,
      "outputs": []
    },
    {
      "cell_type": "code",
      "source": [
        "count_num_elements([1, 2, 3, 4, 5])"
      ],
      "metadata": {
        "colab": {
          "base_uri": "https://localhost:8080/"
        },
        "id": "Y0uOWCuc1fol",
        "outputId": "234c79cb-a5e6-4946-b4f9-f1b10d46cdc5"
      },
      "execution_count": 22,
      "outputs": [
        {
          "output_type": "execute_result",
          "data": {
            "text/plain": [
              "5"
            ]
          },
          "metadata": {},
          "execution_count": 22
        }
      ]
    },
    {
      "cell_type": "markdown",
      "source": [
        "### 6.Write a Python program to find the index of an element in a list."
      ],
      "metadata": {
        "id": "GRrZ4UxE2HW4"
      }
    },
    {
      "cell_type": "code",
      "source": [
        "def find_element_index(input_list, x):\n",
        "  return input_list.index(x)"
      ],
      "metadata": {
        "id": "H6zItiZk3j3E"
      },
      "execution_count": 39,
      "outputs": []
    },
    {
      "cell_type": "code",
      "source": [
        "find_element_index([10, 20, 30, 40, 50], 30)"
      ],
      "metadata": {
        "colab": {
          "base_uri": "https://localhost:8080/"
        },
        "id": "_w5lNoykDtgd",
        "outputId": "9ab5eba7-aba2-42f8-a8ad-28d92c7576b4"
      },
      "execution_count": 40,
      "outputs": [
        {
          "output_type": "execute_result",
          "data": {
            "text/plain": [
              "2"
            ]
          },
          "metadata": {},
          "execution_count": 40
        }
      ]
    },
    {
      "cell_type": "markdown",
      "source": [
        "### 7. Write a Python program to check if all elements in a list are unique."
      ],
      "metadata": {
        "id": "jZtC1D_4EKB6"
      }
    },
    {
      "cell_type": "code",
      "source": [
        "def are_elements_unique(input_list):\n",
        "    return len(input_list) == len(set(input_list))"
      ],
      "metadata": {
        "id": "7TFtUuKwdGlO"
      },
      "execution_count": 41,
      "outputs": []
    },
    {
      "cell_type": "code",
      "source": [
        "are_elements_unique([1, 3, 3, 4, 5])"
      ],
      "metadata": {
        "colab": {
          "base_uri": "https://localhost:8080/"
        },
        "id": "-YW-w0JNinJY",
        "outputId": "34000a5f-7b2b-4d29-bd0c-403d29f2d2e0"
      },
      "execution_count": 43,
      "outputs": [
        {
          "output_type": "execute_result",
          "data": {
            "text/plain": [
              "False"
            ]
          },
          "metadata": {},
          "execution_count": 43
        }
      ]
    },
    {
      "cell_type": "markdown",
      "source": [
        "### 8.Write a Python program to reverse a list."
      ],
      "metadata": {
        "id": "i1wiD2fKmWqN"
      }
    },
    {
      "cell_type": "code",
      "source": [
        "def reverse_list(input_list):\n",
        "   input_list.reverse()\n",
        "   return input_list"
      ],
      "metadata": {
        "id": "uyapZzewizAC"
      },
      "execution_count": 61,
      "outputs": []
    },
    {
      "cell_type": "code",
      "source": [
        "reverse_list([1, 2, 3, 4, 5])"
      ],
      "metadata": {
        "colab": {
          "base_uri": "https://localhost:8080/"
        },
        "id": "pg1PUFbMmq9L",
        "outputId": "45b5b60d-7ceb-4462-e485-9134d3cafa54"
      },
      "execution_count": 63,
      "outputs": [
        {
          "output_type": "execute_result",
          "data": {
            "text/plain": [
              "[5, 4, 3, 2, 1]"
            ]
          },
          "metadata": {},
          "execution_count": 63
        }
      ]
    },
    {
      "cell_type": "markdown",
      "source": [
        "### 9.Write a Python program to sort a list in descending order."
      ],
      "metadata": {
        "id": "AM1eWa7pqWYD"
      }
    },
    {
      "cell_type": "code",
      "source": [
        "def sort_list(input_list):\n",
        "  input_list.sort(reverse = True)\n",
        "  return input_list"
      ],
      "metadata": {
        "id": "dp8nJQzhqafB"
      },
      "execution_count": 64,
      "outputs": []
    },
    {
      "cell_type": "code",
      "source": [
        "sort_list([3, 8, 1, 6, 4])"
      ],
      "metadata": {
        "colab": {
          "base_uri": "https://localhost:8080/"
        },
        "id": "ZlAp8jAusIsF",
        "outputId": "9e8a535f-09c9-4458-ffc2-fe36a7d2364a"
      },
      "execution_count": 65,
      "outputs": [
        {
          "output_type": "execute_result",
          "data": {
            "text/plain": [
              "[8, 6, 4, 3, 1]"
            ]
          },
          "metadata": {},
          "execution_count": 65
        }
      ]
    },
    {
      "cell_type": "markdown",
      "source": [
        "### 10.Write a Python program to find the second largest element in a list."
      ],
      "metadata": {
        "id": "zt7H8s6gsR9b"
      }
    },
    {
      "cell_type": "code",
      "source": [
        "def second_largest(input_list):\n",
        "  input_list.sort(reverse = True)\n",
        "  return input_list[1]\n"
      ],
      "metadata": {
        "id": "ZPaq6LI2sWil"
      },
      "execution_count": 66,
      "outputs": []
    },
    {
      "cell_type": "code",
      "source": [
        "second_largest([10, 5, 8, 20, 2])"
      ],
      "metadata": {
        "colab": {
          "base_uri": "https://localhost:8080/"
        },
        "id": "APFy2qu-6UOI",
        "outputId": "ffbdbbaf-8bd9-4457-83d0-ea0b6dafd3aa"
      },
      "execution_count": 67,
      "outputs": [
        {
          "output_type": "execute_result",
          "data": {
            "text/plain": [
              "10"
            ]
          },
          "metadata": {},
          "execution_count": 67
        }
      ]
    },
    {
      "cell_type": "markdown",
      "source": [
        "### 11. Write a Python program to count the number of even and odd numbers in a list."
      ],
      "metadata": {
        "id": "E3rhfUn56ok6"
      }
    },
    {
      "cell_type": "code",
      "source": [
        "def count_odd_even(input_list):\n",
        "  odd_n = []\n",
        "  even_n = []\n",
        "\n",
        "  for i in input_list:\n",
        "    if i % 2 == 0:\n",
        "      even_n.append(i)\n",
        "\n",
        "    else:\n",
        "      odd_n.append(i)\n",
        "\n",
        "  print(\"count even numbers \",len(even_n))\n",
        "  print(\"Count odd numbers\",len(odd_n))"
      ],
      "metadata": {
        "id": "3zTCxdBX6kUf"
      },
      "execution_count": 98,
      "outputs": []
    },
    {
      "cell_type": "code",
      "source": [
        "count_odd_even([1, 2, 3, 4, 5])"
      ],
      "metadata": {
        "colab": {
          "base_uri": "https://localhost:8080/"
        },
        "id": "xgs_kqYzDtha",
        "outputId": "a2cd1613-ba35-4e5f-d121-931dc476ea69"
      },
      "execution_count": 99,
      "outputs": [
        {
          "output_type": "stream",
          "name": "stdout",
          "text": [
            "count even numbers  2\n",
            "Count odd numbers 3\n"
          ]
        }
      ]
    },
    {
      "cell_type": "markdown",
      "source": [
        "### 12.Write a Python program to concatenate two lists."
      ],
      "metadata": {
        "id": "bawd2kD-J5FS"
      }
    },
    {
      "cell_type": "code",
      "source": [
        "def concat_list(list1,list2):\n",
        "  return list1 + list2"
      ],
      "metadata": {
        "id": "yndFsUSgK0DD"
      },
      "execution_count": 100,
      "outputs": []
    },
    {
      "cell_type": "code",
      "source": [
        "concat_list([1,2,3],[4,5,6])"
      ],
      "metadata": {
        "colab": {
          "base_uri": "https://localhost:8080/"
        },
        "id": "9p0Bq6z2O2B1",
        "outputId": "5553a3bb-0e50-4470-cf82-190a015529be"
      },
      "execution_count": 101,
      "outputs": [
        {
          "output_type": "execute_result",
          "data": {
            "text/plain": [
              "[1, 2, 3, 4, 5, 6]"
            ]
          },
          "metadata": {},
          "execution_count": 101
        }
      ]
    },
    {
      "cell_type": "markdown",
      "source": [
        "### 13. Write a Python program to find the common elements between two lists."
      ],
      "metadata": {
        "id": "dcFCu8iXQDlb"
      }
    },
    {
      "cell_type": "code",
      "source": [
        "def list_common_elements(list1, list2):\n",
        "  com_lis = []\n",
        "\n",
        "  for i in list1:\n",
        "    for j in list2:\n",
        "      if i == j:\n",
        "        com_lis.append(i)\n",
        "  return com_lis\n"
      ],
      "metadata": {
        "id": "eTR6yNqMO-El"
      },
      "execution_count": 113,
      "outputs": []
    },
    {
      "cell_type": "code",
      "source": [
        "list_common_elements([1, 2, 3, 4], [3, 4, 5, 6])"
      ],
      "metadata": {
        "colab": {
          "base_uri": "https://localhost:8080/"
        },
        "id": "xTUmHAO6ThnQ",
        "outputId": "2560541f-79ff-4a8a-a154-767d0cbf6470"
      },
      "execution_count": 114,
      "outputs": [
        {
          "output_type": "execute_result",
          "data": {
            "text/plain": [
              "[3, 4]"
            ]
          },
          "metadata": {},
          "execution_count": 114
        }
      ]
    },
    {
      "cell_type": "markdown",
      "source": [
        "### 14. Write a Python program to find the difference between two lists."
      ],
      "metadata": {
        "id": "MpYqyWQnf4dI"
      }
    },
    {
      "cell_type": "code",
      "source": [
        "def diffrence_bet_two_list(list1, list2):\n",
        "  return list(set(list1) - set(list2))"
      ],
      "metadata": {
        "id": "trzOBK7ugJfT"
      },
      "execution_count": 119,
      "outputs": []
    },
    {
      "cell_type": "code",
      "source": [
        "diffrence_bet_two_list([1, 2, 3, 4], [3, 4, 5, 6])"
      ],
      "metadata": {
        "colab": {
          "base_uri": "https://localhost:8080/"
        },
        "id": "LFwdppBijDIS",
        "outputId": "9291ad6a-dc33-4434-ccf2-4d52c9fc116d"
      },
      "execution_count": 120,
      "outputs": [
        {
          "output_type": "execute_result",
          "data": {
            "text/plain": [
              "[1, 2]"
            ]
          },
          "metadata": {},
          "execution_count": 120
        }
      ]
    },
    {
      "cell_type": "markdown",
      "source": [
        "### 15.Write a Python program to remove the nth index element from a list."
      ],
      "metadata": {
        "id": "qwXFpZyBlXHB"
      }
    },
    {
      "cell_type": "code",
      "source": [
        "def remove_index(input_list,n):\n",
        "  input_list.pop(n)\n",
        "  return input_list"
      ],
      "metadata": {
        "id": "AVl7vtB8lWns"
      },
      "execution_count": 123,
      "outputs": []
    },
    {
      "cell_type": "code",
      "source": [
        "remove_index([0, 1, 2, 3, 4, 5],2)"
      ],
      "metadata": {
        "colab": {
          "base_uri": "https://localhost:8080/"
        },
        "id": "d4SHSu10qsMi",
        "outputId": "60104483-5d8a-449f-a1e3-1b079e280178"
      },
      "execution_count": 122,
      "outputs": [
        {
          "output_type": "execute_result",
          "data": {
            "text/plain": [
              "[0, 1, 3, 4, 5]"
            ]
          },
          "metadata": {},
          "execution_count": 122
        }
      ]
    },
    {
      "cell_type": "markdown",
      "source": [
        "### 16.Write a Python program to find the union of two lists."
      ],
      "metadata": {
        "id": "Ty9o7llpxiwJ"
      }
    },
    {
      "cell_type": "code",
      "source": [
        "def find_union(list1, list2):\n",
        "  return list(set(list1) | set(list2))\n"
      ],
      "metadata": {
        "id": "yZ_UynckrAiw"
      },
      "execution_count": 126,
      "outputs": []
    },
    {
      "cell_type": "code",
      "source": [
        "find_union([1, 2, 3, 4], [3, 4, 5, 6])"
      ],
      "metadata": {
        "colab": {
          "base_uri": "https://localhost:8080/"
        },
        "id": "ZE0R7kwr1-qM",
        "outputId": "7465a74e-2aec-453a-e302-b78010c964ea"
      },
      "execution_count": 127,
      "outputs": [
        {
          "output_type": "execute_result",
          "data": {
            "text/plain": [
              "[1, 2, 3, 4, 5, 6]"
            ]
          },
          "metadata": {},
          "execution_count": 127
        }
      ]
    },
    {
      "cell_type": "markdown",
      "source": [
        "### 17. Write a Python program to find the intersection of two lists."
      ],
      "metadata": {
        "id": "IwzfftIa3X-3"
      }
    },
    {
      "cell_type": "code",
      "source": [
        "def find_intersection(list1, list2):\n",
        "  return list(set(list1) & set(list2))\n",
        ""
      ],
      "metadata": {
        "id": "pF6ag92N2cbX"
      },
      "execution_count": 128,
      "outputs": []
    },
    {
      "cell_type": "code",
      "source": [
        "find_intersection([1, 2, 3, 4], [3, 4, 5, 6])"
      ],
      "metadata": {
        "colab": {
          "base_uri": "https://localhost:8080/"
        },
        "id": "mja9Q9YF6CYf",
        "outputId": "682df361-8ef6-40a4-ccf9-22d22925008f"
      },
      "execution_count": 129,
      "outputs": [
        {
          "output_type": "execute_result",
          "data": {
            "text/plain": [
              "[3, 4]"
            ]
          },
          "metadata": {},
          "execution_count": 129
        }
      ]
    },
    {
      "cell_type": "markdown",
      "source": [
        "### 18. Write a Python program to check if a list is a subset of another list."
      ],
      "metadata": {
        "id": "1krPVpfy6Uyj"
      }
    },
    {
      "cell_type": "code",
      "source": [
        "def check_list_subset(list1, list2):\n",
        "  return set(list1).issubset(set(list2))\n"
      ],
      "metadata": {
        "id": "iu3t4Jso73Eb"
      },
      "execution_count": 130,
      "outputs": []
    },
    {
      "cell_type": "code",
      "source": [
        "check_list_subset( [1, 2, 3], [1, 2, 3, 4, 5])"
      ],
      "metadata": {
        "colab": {
          "base_uri": "https://localhost:8080/"
        },
        "id": "DLVQrqXxCfnE",
        "outputId": "51a496f6-b318-431a-f84a-43eeadfa1855"
      },
      "execution_count": 131,
      "outputs": [
        {
          "output_type": "execute_result",
          "data": {
            "text/plain": [
              "True"
            ]
          },
          "metadata": {},
          "execution_count": 131
        }
      ]
    },
    {
      "cell_type": "markdown",
      "source": [
        "### 19. Write a Python program to find the frequency of each element in a list."
      ],
      "metadata": {
        "id": "-UHs9W-2H-lt"
      }
    },
    {
      "cell_type": "code",
      "source": [
        "def find_frequency(input_list,n):\n",
        "  input_list.count(n)\n",
        "  return n\n"
      ],
      "metadata": {
        "id": "-SSDLIwQCvj1"
      },
      "execution_count": 135,
      "outputs": []
    },
    {
      "cell_type": "code",
      "source": [
        "find_frequency([1, 2, 2, 3, 3, 3, 4, 4, 4, 4], 2)"
      ],
      "metadata": {
        "colab": {
          "base_uri": "https://localhost:8080/"
        },
        "id": "IB0NOJv2J6Mb",
        "outputId": "6ffc0772-3d8e-45a8-dea4-c5dc4dd29799"
      },
      "execution_count": 136,
      "outputs": [
        {
          "output_type": "execute_result",
          "data": {
            "text/plain": [
              "2"
            ]
          },
          "metadata": {},
          "execution_count": 136
        }
      ]
    },
    {
      "cell_type": "code",
      "source": [
        "find_frequency([1, 2, 2, 3, 3, 3, 4, 4, 4, 4], 4)"
      ],
      "metadata": {
        "colab": {
          "base_uri": "https://localhost:8080/"
        },
        "id": "eOkgnOEcK7ZS",
        "outputId": "57dc8273-c2cf-4450-896d-27f8ba860244"
      },
      "execution_count": 137,
      "outputs": [
        {
          "output_type": "execute_result",
          "data": {
            "text/plain": [
              "4"
            ]
          },
          "metadata": {},
          "execution_count": 137
        }
      ]
    },
    {
      "cell_type": "markdown",
      "source": [
        "### 20. Write a Python program to find the maximum difference between two consecutive elements in a list."
      ],
      "metadata": {
        "id": "sxVAp37dLAG6"
      }
    },
    {
      "cell_type": "code",
      "source": [
        "def max_differ_two_consec(input_list):\n",
        "  max_differ = []\n",
        "\n",
        "  for i in range(len(input_list)- 1):\n",
        "    differ = input_list[i+1] - input_list[i]\n",
        "    max_differ.append(differ)\n",
        "  return max(max_differ)"
      ],
      "metadata": {
        "id": "60lbcUbDLHlP"
      },
      "execution_count": 28,
      "outputs": []
    },
    {
      "cell_type": "code",
      "source": [
        "max_differ_two_consec([1, 7, 3, 10, 5])"
      ],
      "metadata": {
        "colab": {
          "base_uri": "https://localhost:8080/"
        },
        "id": "rn7GVev3PHCm",
        "outputId": "7b253071-b94e-4d16-eac3-7886708b5ed4"
      },
      "execution_count": 29,
      "outputs": [
        {
          "output_type": "execute_result",
          "data": {
            "text/plain": [
              "7"
            ]
          },
          "metadata": {},
          "execution_count": 29
        }
      ]
    }
  ]
}