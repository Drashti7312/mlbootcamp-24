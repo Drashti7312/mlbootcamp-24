{
 "cells": [
  {
   "cell_type": "markdown",
   "metadata": {},
   "source": [
    "# WAP to accept two numbers from the user and display their sum\n"
   ]
  },
  {
   "cell_type": "code",
   "execution_count": 1,
   "metadata": {},
   "outputs": [
    {
     "name": "stdout",
     "output_type": "stream",
     "text": [
      "Enter first number: 12\n",
      "Enter Second number: 23\n",
      "Sum of the 2 numbers is:  35\n"
     ]
    }
   ],
   "source": [
    "def sum():\n",
    "    a = int(input(\"Enter first number: \"))\n",
    "    b = int(input(\"Enter Second number: \"))\n",
    "    print(\"Sum of the 2 numbers is: \",(a+b))\n",
    "    \n",
    "sum()    \n"
   ]
  },
  {
   "cell_type": "markdown",
   "metadata": {},
   "source": [
    "# WAP to accept radius of a Circle from the user and calculate area and circumference "
   ]
  },
  {
   "cell_type": "code",
   "execution_count": 23,
   "metadata": {},
   "outputs": [
    {
     "name": "stdout",
     "output_type": "stream",
     "text": [
      "Enter the radius of the circle: 12\n",
      " The area and circumference of the circle with the radius 12 is: 452.16 and 75.36\n"
     ]
    }
   ],
   "source": [
    "def propofcircle():\n",
    "    a = int(input(\"Enter the radius of the circle: \"))\n",
    "    Area = (3.14*a**2)\n",
    "    Circumference = (2*3.14*a)  \n",
    "    \n",
    "    print(\" The area and circumference of the circle with the radius {0} is: {1} and {2}\".format(a,Area,Circumference))   \n",
    "    \n",
    "    \n",
    "propofcircle()    \n",
    "    \n",
    "            "
   ]
  },
  {
   "cell_type": "markdown",
   "metadata": {},
   "source": [
    "# WAP to accept roll number , grade and percentage as input from the user and display it back"
   ]
  },
  {
   "cell_type": "code",
   "execution_count": 31,
   "metadata": {},
   "outputs": [
    {
     "name": "stdout",
     "output_type": "stream",
     "text": [
      "Enter your roll number: 12\n",
      "Enter your grade: 12\n",
      "Enter your percentage: 12\n",
      " The Candidate with roll number 12 has grade 12 and Percentage(%) as 12\n"
     ]
    }
   ],
   "source": [
    "def candidateinfo():\n",
    "    RollNumber = int(input(\"Enter your roll number: \"))\n",
    "    Grade = int(input(\"Enter your grade: \"))\n",
    "    Percentage = int(input(\"Enter your percentage: \"))\n",
    "    \n",
    "    print(\" The Candidate with roll number {0} has grade {1} and Percentage(%) as {2}\".format(RollNumber,Grade,Percentage))\n",
    "    \n",
    "candidateinfo()    "
   ]
  },
  {
   "cell_type": "markdown",
   "metadata": {},
   "source": [
    "# Write a program that asks the user to enter his/her name and age. Print out a message , displaying the user’s name along with the year in which they will turn 100 years old."
   ]
  },
  {
   "cell_type": "code",
   "execution_count": 1,
   "metadata": {},
   "outputs": [
    {
     "name": "stdout",
     "output_type": "stream",
     "text": [
      "Enter your name: Ajitesh\n",
      "Enter your age: -5\n",
      "What is the Current year: 2024\n",
      "Incorrect Age\n"
     ]
    }
   ],
   "source": [
    "def century():\n",
    "    Name = input(\"Enter your name: \")\n",
    "    Age = int(input(\"Enter your age: \"))\n",
    "    CurrentYear = int(input(\"What is the Current year: \"))\n",
    "    Cent = CurrentYear + (100 - Age)\n",
    "    if Age <= 0:\n",
    "        print(\"Incorrect Age\")\n",
    "    else:\n",
    "        print(\"Hello {name}, you will turn 100 in year {year}\".format(name = Name,year = Cent))\n",
    "        \n",
    "century()        "
   ]
  },
  {
   "cell_type": "markdown",
   "metadata": {},
   "source": [
    "# Write a program that asks the user to input 2 integers and adds them . Accept both the numbers in a single line only"
   ]
  },
  {
   "cell_type": "code",
   "execution_count": 3,
   "metadata": {},
   "outputs": [
    {
     "name": "stdout",
     "output_type": "stream",
     "text": [
      "Enter two numbers seperated by \",\" 23,45\n",
      "The first no is:  23\n",
      "The second no is:  45\n",
      "Sum of the 2 numbers is:  68\n"
     ]
    }
   ],
   "source": [
    "def sum1():\n",
    "    a,b = input(\"Enter two numbers seperated by \\\",\\\" \").split(\",\",2)\n",
    "    print(\"The first no is: \",a)\n",
    "    print(\"The second no is: \",b)\n",
    "    sum = int(a) + int(b)\n",
    "    print(\"Sum of the 2 numbers is: \",sum)\n",
    "    \n",
    "sum1()    \n"
   ]
  },
  {
   "cell_type": "markdown",
   "metadata": {},
   "source": [
    "# Write a Python program which accepts the user's first and last name and print them in reverse order with a space between them"
   ]
  },
  {
   "cell_type": "code",
   "execution_count": 1,
   "metadata": {},
   "outputs": [
    {
     "name": "stdout",
     "output_type": "stream",
     "text": [
      "Enter your first name: Ajitesh \n",
      "Enter your last name: Singh \n",
      " hgniS    hsetijA\n"
     ]
    }
   ],
   "source": [
    "def name():\n",
    "    Fname= input(\"Enter your first name: \")\n",
    "    Lname= input(\"Enter your last name: \")\n",
    "    FnameRev= Fname[::-1]\n",
    "    LnameRev= Lname[::-1]\n",
    "    print(LnameRev,\" \",FnameRev)\n",
    "    \n",
    "name()    "
   ]
  },
  {
   "cell_type": "markdown",
   "metadata": {},
   "source": [
    "# WAP to accept an integer from the user and check whether it is an even or odd"
   ]
  },
  {
   "cell_type": "code",
   "execution_count": 11,
   "metadata": {},
   "outputs": [
    {
     "name": "stdout",
     "output_type": "stream",
     "text": [
      "Enter a number: 78\n",
      "The number 78 is an even number\n"
     ]
    }
   ],
   "source": [
    "def oddeven():\n",
    "    a = int(input(\"Enter a number: \"))\n",
    "    if a % 2 == 0:\n",
    "        print(\"The number {} is an even number\".format(a)) \n",
    "   \n",
    "    else:\n",
    "         print(\"The number {} is a odd number\".format(a))\n",
    "            \n",
    "       \n",
    "oddeven()"
   ]
  },
  {
   "cell_type": "markdown",
   "metadata": {},
   "source": [
    "# WAP to accept a character from the user and check whether it is a capital letter or small letter. Assume user will input only alphabets"
   ]
  },
  {
   "cell_type": "code",
   "execution_count": 23,
   "metadata": {},
   "outputs": [
    {
     "name": "stdout",
     "output_type": "stream",
     "text": [
      "Enter a character of your choice: A\n",
      "The Entered character A is a uppercase character\n"
     ]
    }
   ],
   "source": [
    "def Cap_small():\n",
    "    a = input(\"Enter a character of your choice: \")\n",
    "    if a.isupper() == True:\n",
    "        print(\"The Entered character {character} is a uppercase character\".format(character=a))\n",
    "    else:\n",
    "        print(\"The Entered character {} is a lowercase character\".format(a))\n",
    "        \n",
    "        \n",
    "Cap_small()        "
   ]
  },
  {
   "cell_type": "markdown",
   "metadata": {},
   "source": [
    "# WAP to accept a character from the user and check whether it is a capital letter or small letter or a digit or some special symbol\n"
   ]
  },
  {
   "cell_type": "code",
   "execution_count": 28,
   "metadata": {},
   "outputs": [
    {
     "name": "stdout",
     "output_type": "stream",
     "text": [
      "Enter a character of your choice: 1\n",
      "<class 'int'>\n",
      "The Entered character 1 is a digit character\n"
     ]
    }
   ],
   "source": [
    "def Character():\n",
    "    import ast\n",
    "    a = ast.literal_eval(input(\"Enter a character of your choice: \"))\n",
    "    print(type(a))\n",
    "    if type(a) == str:\n",
    "        if a.isupper() == True:\n",
    "            print(\"The Entered character {character} is a uppercase character\".format(character=a))\n",
    "        elif a.islower() == True:\n",
    "            print(\"The Entered character {} is a lowercase character\".format(a))\n",
    "            \n",
    "    elif type(a) == int:\n",
    "        print(\"The Entered character {} is a digit character\".format(a))\n",
    "        \n",
    "    else:\n",
    "        print(\"The Entered character {} is a special symbol character\".format(a))\n",
    "        \n",
    "        \n",
    "Character() "
   ]
  },
  {
   "cell_type": "markdown",
   "metadata": {},
   "source": [
    "# WAP to accept a year from the user and check whether it is a leap year or not."
   ]
  },
  {
   "cell_type": "code",
   "execution_count": 34,
   "metadata": {},
   "outputs": [
    {
     "name": "stdout",
     "output_type": "stream",
     "text": [
      "Enter a year to check if it is a Leap year or not 400\n",
      "The Entered year 400 is a leap year\n"
     ]
    }
   ],
   "source": [
    "def leapyear():\n",
    "    a = int(input(\"Enter a year to check if it is a Leap year or not \"))\n",
    "    if ((a % 4 == 0) and (a % 100 != 0)) or (a % 400 == 0):\n",
    "        print(\"The Entered year {year} is a leap year\".format(year = a))\n",
    "    else:\n",
    "        print(\"The Entered year {year} is not a leap year\".format(year = a))\n",
    "        \n",
    "        \n",
    "leapyear()        "
   ]
  },
  {
   "cell_type": "markdown",
   "metadata": {},
   "source": [
    "# You have to develop a number guessing game following the steps"
   ]
  },
  {
   "cell_type": "code",
   "execution_count": 20,
   "metadata": {},
   "outputs": [
    {
     "name": "stdout",
     "output_type": "stream",
     "text": [
      "47\n",
      "Guess a random number between 1 and 50: 21\n",
      "21\n",
      "Number too small\n",
      "Guess a random number between 1 and 50: 22\n",
      "22\n",
      "Number too small\n",
      "Guess a random number between 1 and 50: 50\n",
      "50\n",
      "Number too large\n",
      "Guess a random number between 1 and 50: 41\n",
      "41\n",
      "Number too small\n",
      "Guess a random number between 1 and 50: 47\n",
      "47\n",
      "“Congratulations! You guessed it right\n"
     ]
    }
   ],
   "source": [
    "def Game():\n",
    "    import random\n",
    "    RandomNum = random.randrange(1,51)\n",
    "    print(RandomNum)\n",
    "    \n",
    "    a=1 \n",
    "    \n",
    "    while(a != RandomNum):\n",
    "        a = int(input(\"Guess a random number between 1 and 50: \"))\n",
    "        print(a)\n",
    "        \n",
    "        if a > RandomNum:\n",
    "            print(\"Number too large\")\n",
    "        elif a < RandomNum:\n",
    "            print(\"Number too small\") \n",
    "            \n",
    "        continue    \n",
    "            \n",
    "    else:\n",
    "        print (\"“Congratulations! You guessed it right\")\n",
    "        \n",
    "        \n",
    "\n",
    "    \n",
    "\n",
    "        \n",
    "Game()    "
   ]
  },
  {
   "cell_type": "markdown",
   "metadata": {},
   "source": [
    "# Write a program to print the following pattern"
   ]
  },
  {
   "cell_type": "code",
   "execution_count": 27,
   "metadata": {},
   "outputs": [
    {
     "name": "stdout",
     "output_type": "stream",
     "text": [
      "* * * * * * * \n",
      "* * * * * * * \n",
      "* * * * * * * \n",
      "* * * * * * * \n",
      "* * * * * * * \n"
     ]
    }
   ],
   "source": [
    "def pat1(n,m):\n",
    "    for i in range(n):\n",
    "        for j in range(m):\n",
    "            print(\"*\",end=\" \")\n",
    "        print()   \n",
    "            \n",
    "pat1(5,7)            "
   ]
  },
  {
   "cell_type": "markdown",
   "metadata": {},
   "source": [
    "# Write a program to print the following pattern"
   ]
  },
  {
   "cell_type": "code",
   "execution_count": 17,
   "metadata": {},
   "outputs": [
    {
     "name": "stdout",
     "output_type": "stream",
     "text": [
      "* \n",
      "* * \n",
      "* * * \n",
      "* * * * \n"
     ]
    }
   ],
   "source": [
    "def pat2(n):\n",
    "    for i in range(n):\n",
    "        for j in range(i+1):\n",
    "            print(\"*\",end=\" \")\n",
    "        print()    \n",
    "        \n",
    "        \n",
    "pat2(4)        "
   ]
  },
  {
   "cell_type": "markdown",
   "metadata": {},
   "source": [
    "# Write a program to print the following pattern"
   ]
  },
  {
   "cell_type": "code",
   "execution_count": 21,
   "metadata": {},
   "outputs": [
    {
     "name": "stdout",
     "output_type": "stream",
     "text": [
      "* * * * \n",
      "* * * \n",
      "* * \n",
      "* \n"
     ]
    }
   ],
   "source": [
    "def pat3(n):\n",
    "    for i in range(n):\n",
    "        for j in range(n-i):\n",
    "            print(\"*\",end=\" \")\n",
    "        print()    \n",
    "        \n",
    "        \n",
    "pat3(4)      "
   ]
  },
  {
   "cell_type": "markdown",
   "metadata": {},
   "source": [
    "# Write a program to print the following pattern"
   ]
  },
  {
   "cell_type": "code",
   "execution_count": 28,
   "metadata": {},
   "outputs": [
    {
     "name": "stdout",
     "output_type": "stream",
     "text": [
      "* * * * \n",
      "* * * \n",
      "* * \n",
      "* \n"
     ]
    }
   ],
   "source": [
    "def pat4(n):\n",
    "    for i in range(n):\n",
    "        for j in range(n-i):\n",
    "            print(\"*\",end=\" \")\n",
    "        print()    \n",
    "        \n",
    "        \n",
    "pat3(4) "
   ]
  },
  {
   "cell_type": "markdown",
   "metadata": {},
   "source": [
    "# Write a program to accept an integer from the user and display all the numbers from 1 to that number. Repeat the process until the user enters 0"
   ]
  },
  {
   "cell_type": "code",
   "execution_count": 19,
   "metadata": {},
   "outputs": [
    {
     "name": "stdout",
     "output_type": "stream",
     "text": [
      "Enter a number: 3\n",
      "1\n",
      "2\n",
      "3\n",
      "Enter a number: 0\n"
     ]
    }
   ],
   "source": [
    "def mynum():\n",
    "    a = 1\n",
    "    while a != 0:\n",
    "        a = int(input(\"Enter a number: \"))\n",
    "        for i in range(1,a+1):\n",
    "            print(i)\n",
    "        continue          \n",
    "        \n",
    "mynum()        "
   ]
  },
  {
   "cell_type": "markdown",
   "metadata": {},
   "source": [
    "# 1\n",
    "# 1 2 1\n",
    "# 1 2 3 2 1\n",
    "# 1 2 3 4 3 2 1\n",
    "# 1 2 3 4 5 4 3 2 1"
   ]
  },
  {
   "cell_type": "code",
   "execution_count": 39,
   "metadata": {},
   "outputs": [
    {
     "name": "stdout",
     "output_type": "stream",
     "text": [
      "1 \n",
      "1 2 1 \n",
      "1 2 3 2 1 \n",
      "1 2 3 4 3 2 1 \n",
      "1 2 3 4 5 4 3 2 1 \n"
     ]
    }
   ],
   "source": [
    "def pat5(n):\n",
    "    for i in range(n):\n",
    "        p=0\n",
    "        for j in range(2*i+1):\n",
    "            \n",
    "            if j <= (i):\n",
    "                p+=1\n",
    "            else:\n",
    "                p-=1\n",
    "            \n",
    "            print(p,end = \" \")\n",
    "                \n",
    "        print()    \n",
    "            \n",
    "            \n",
    "pat5(5)            \n",
    "    "
   ]
  },
  {
   "cell_type": "markdown",
   "metadata": {},
   "source": [
    "# Write a program to accept an integer from the user and calculate its factorial"
   ]
  },
  {
   "cell_type": "code",
   "execution_count": 4,
   "metadata": {},
   "outputs": [
    {
     "name": "stdout",
     "output_type": "stream",
     "text": [
      "Enter a positive integer to calculate it's factorial: 23\n",
      "25852016738884976640000\n"
     ]
    }
   ],
   "source": [
    "def factorial():\n",
    "    fact = 1\n",
    "    a = int(input(\"Enter a positive integer to calculate it's factorial: \"))\n",
    "    for i in range(1,a+1):\n",
    "        fact=fact * i\n",
    "    \n",
    "    print(fact)    \n",
    "        \n",
    "             \n",
    "    \n",
    "        \n",
    "factorial()        "
   ]
  },
  {
   "cell_type": "markdown",
   "metadata": {},
   "source": [
    "# Write a program to accept an integer from the user and display the sum of all the numbers from 1 to that number."
   ]
  },
  {
   "cell_type": "code",
   "execution_count": 2,
   "metadata": {},
   "outputs": [
    {
     "name": "stdout",
     "output_type": "stream",
     "text": [
      "Enter an integer: 13\n",
      "91\n"
     ]
    }
   ],
   "source": [
    "def sumint_():\n",
    "    sum =0\n",
    "    a=int(input(\"Enter an integer: \"))\n",
    "    for i in range(1,a+1):\n",
    "        sum = sum + i\n",
    "        \n",
    "    print(sum)\n",
    "    \n",
    "    \n",
    "    \n",
    "sumint_()    "
   ]
  },
  {
   "cell_type": "markdown",
   "metadata": {},
   "source": [
    "# Write a program using a for loop to accept a string from the user and display it vertically but don’t display the vowels in it."
   ]
  },
  {
   "cell_type": "code",
   "execution_count": 5,
   "metadata": {},
   "outputs": [
    {
     "name": "stdout",
     "output_type": "stream",
     "text": [
      "Enter a string valueThis is my show and I will exceed in this part\n",
      "T\n",
      "h\n",
      "s\n",
      " \n",
      "s\n",
      " \n",
      "m\n",
      "y\n",
      " \n",
      "s\n",
      "h\n",
      "w\n",
      " \n",
      "n\n",
      "d\n",
      " \n",
      " \n",
      "w\n",
      "l\n",
      "l\n",
      " \n",
      "x\n",
      "c\n",
      "d\n",
      " \n",
      "n\n",
      " \n",
      "t\n",
      "h\n",
      "s\n",
      " \n",
      "p\n",
      "r\n",
      "t\n"
     ]
    }
   ],
   "source": [
    "def progvow():\n",
    "    a = input(\"Enter a string value\")\n",
    "    for i in a:\n",
    "        if i not in (\"A\",\"a\",\"E\",\"e\",\"I\",\"i\",\"O\",\"o\",\"U\",\"u\"):\n",
    "            print(i)\n",
    "\n",
    "            \n",
    "progvow()            \n",
    "            "
   ]
  }
 ],
 "metadata": {
  "kernelspec": {
   "display_name": "Python 3",
   "language": "python",
   "name": "python3"
  },
  "language_info": {
   "codemirror_mode": {
    "name": "ipython",
    "version": 3
   },
   "file_extension": ".py",
   "mimetype": "text/x-python",
   "name": "python",
   "nbconvert_exporter": "python",
   "pygments_lexer": "ipython3",
   "version": "3.6.5"
  }
 },
 "nbformat": 4,
 "nbformat_minor": 2
}
