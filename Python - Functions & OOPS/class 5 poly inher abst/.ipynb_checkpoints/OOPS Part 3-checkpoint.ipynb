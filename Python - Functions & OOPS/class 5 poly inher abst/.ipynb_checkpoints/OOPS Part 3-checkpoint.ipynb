{
 "cells": [
  {
   "cell_type": "code",
   "execution_count": 1,
   "id": "e2c47aec-a7ad-4c4c-93b1-49e39027ed38",
   "metadata": {},
   "outputs": [],
   "source": [
    "class PriceClass: # custom data type\n",
    "    \n",
    "    def __init__(self,price,curr):\n",
    "        self.price = price\n",
    "        self.currency = curr\n",
    "    \n",
    "    def getPrice(self):\n",
    "        print(self.currency + \" \"+str(self.price)) "
   ]
  },
  {
   "cell_type": "code",
   "execution_count": 2,
   "id": "95f97b16-5012-4791-9b98-2764a4476b8a",
   "metadata": {
    "tags": []
   },
   "outputs": [],
   "source": [
    "class Product:\n",
    "    def __init__(self,name,brand,priceVariable,l1):\n",
    "        self.name = name\n",
    "        self.brand = brand\n",
    "        self.priceVariable = priceVariable\n",
    "        self.l1 = l1\n",
    "        \n",
    "    def getDetails(iPhone):\n",
    "        print(iPhone.name)\n",
    "        print(iPhone.brand)\n",
    "        iPhone.priceVariable.getPrice()\n",
    "        iPhone.l1.append(5)\n",
    "        print(iPhone.l1)"
   ]
  },
  {
   "cell_type": "code",
   "execution_count": 3,
   "id": "efe8a3a7-a1b9-4134-ad55-b4404a6f62b9",
   "metadata": {
    "tags": []
   },
   "outputs": [],
   "source": [
    "productPrice = PriceClass(10000,\"INR\")"
   ]
  },
  {
   "cell_type": "code",
   "execution_count": 4,
   "id": "d34bf9a7-a9de-408d-8ff5-7a16af8c7370",
   "metadata": {
    "tags": []
   },
   "outputs": [
    {
     "name": "stdout",
     "output_type": "stream",
     "text": [
      "10000\n",
      "INR\n"
     ]
    }
   ],
   "source": [
    "print(productPrice.price)\n",
    "print(productPrice.currency)"
   ]
  },
  {
   "cell_type": "code",
   "execution_count": 5,
   "id": "15b6d647-8102-4d56-ac2a-300e3c3f3589",
   "metadata": {
    "tags": []
   },
   "outputs": [],
   "source": [
    "iPhone = Product(\"iphone\",\"apple\",productPrice,[1,2,3])"
   ]
  },
  {
   "cell_type": "code",
   "execution_count": 7,
   "id": "ef3e3f0a-82c1-499c-81db-75a62a800622",
   "metadata": {
    "tags": []
   },
   "outputs": [
    {
     "name": "stdout",
     "output_type": "stream",
     "text": [
      "iphone\n",
      "apple\n",
      "<__main__.PriceClass object at 0x104f335d0>\n"
     ]
    }
   ],
   "source": [
    "print(iPhone.name)\n",
    "print(iPhone.brand)\n",
    "print(iPhone.priceVariable)"
   ]
  },
  {
   "cell_type": "code",
   "execution_count": 9,
   "id": "aec73f91-9662-4a65-9c85-ef98633752f9",
   "metadata": {
    "tags": []
   },
   "outputs": [
    {
     "name": "stdout",
     "output_type": "stream",
     "text": [
      "10000\n",
      "INR\n"
     ]
    }
   ],
   "source": [
    "print(iPhone.priceVariable.price)\n",
    "print(iPhone.priceVariable.currency)"
   ]
  },
  {
   "cell_type": "code",
   "execution_count": 10,
   "id": "d4602024-39c3-4e6f-a06e-6616ff6af4d1",
   "metadata": {
    "tags": []
   },
   "outputs": [
    {
     "name": "stdout",
     "output_type": "stream",
     "text": [
      "[1, 2, 3]\n"
     ]
    }
   ],
   "source": [
    "print(iPhone.l1)"
   ]
  },
  {
   "cell_type": "code",
   "execution_count": 11,
   "id": "777aacb7-4181-42e0-9dfb-dc201b9db9b9",
   "metadata": {
    "tags": []
   },
   "outputs": [
    {
     "name": "stdout",
     "output_type": "stream",
     "text": [
      "iphone\n",
      "apple\n",
      "INR 10000\n",
      "[1, 2, 3, 5]\n"
     ]
    }
   ],
   "source": [
    "iPhone.getDetails()"
   ]
  },
  {
   "cell_type": "code",
   "execution_count": null,
   "id": "c0483b6d-269f-403a-8d64-0cad2ee4776a",
   "metadata": {},
   "outputs": [],
   "source": []
  },
  {
   "cell_type": "code",
   "execution_count": null,
   "id": "727d7571-7ed2-484b-ac63-d0c6a3850192",
   "metadata": {},
   "outputs": [],
   "source": []
  },
  {
   "cell_type": "markdown",
   "id": "07911ad1-fd8d-4c82-966e-e33803a7d173",
   "metadata": {
    "tags": []
   },
   "source": [
    "# Inheritance"
   ]
  },
  {
   "cell_type": "code",
   "execution_count": 40,
   "id": "eb3c2f57-4657-436b-870b-866769d846a4",
   "metadata": {
    "tags": []
   },
   "outputs": [],
   "source": [
    "class iNeuron:\n",
    "        \n",
    "\n",
    "    \n",
    "    \n",
    "    def login(self):\n",
    "        print(\"logged in\")\n",
    "    \n",
    "    def logout(self):\n",
    "        print(\"logged in\")\n",
    "    "
   ]
  },
  {
   "cell_type": "code",
   "execution_count": 41,
   "id": "86b11c38-6b41-48a8-b39b-a7d547e34648",
   "metadata": {
    "tags": []
   },
   "outputs": [],
   "source": [
    "class Mentor(iNeuron):\n",
    "    \n",
    "    pass"
   ]
  },
  {
   "cell_type": "code",
   "execution_count": 42,
   "id": "8d87b301-c80b-4f5d-9f2e-824a6896aa11",
   "metadata": {
    "tags": []
   },
   "outputs": [],
   "source": [
    "class Student(iNeuron):\n",
    "    pass"
   ]
  },
  {
   "cell_type": "code",
   "execution_count": 43,
   "id": "6bf576d1-7f20-4565-98f0-c479576fa74f",
   "metadata": {
    "tags": []
   },
   "outputs": [],
   "source": [
    "m1 = Mentor()"
   ]
  },
  {
   "cell_type": "code",
   "execution_count": 44,
   "id": "628a27c9-d420-4566-bf84-d8504e028766",
   "metadata": {
    "tags": []
   },
   "outputs": [
    {
     "name": "stdout",
     "output_type": "stream",
     "text": [
      "logged in\n"
     ]
    }
   ],
   "source": [
    "m1.login()"
   ]
  },
  {
   "cell_type": "code",
   "execution_count": null,
   "id": "631b8c1d-923e-4f08-867a-323c22408a5f",
   "metadata": {},
   "outputs": [],
   "source": []
  },
  {
   "cell_type": "code",
   "execution_count": null,
   "id": "8999ac1b-a4a9-4ed1-94d6-74c9e45fff62",
   "metadata": {},
   "outputs": [],
   "source": []
  },
  {
   "cell_type": "markdown",
   "id": "c70a7351-0403-4691-a481-e2f56e056d81",
   "metadata": {},
   "source": [
    "# Inheritance with constructor\n"
   ]
  },
  {
   "cell_type": "code",
   "execution_count": 52,
   "id": "35763b21-aefb-493a-9f1f-eb31b80ebfd4",
   "metadata": {
    "tags": []
   },
   "outputs": [],
   "source": [
    "class iNeuron:\n",
    "    \n",
    "    def __init__(self,name):\n",
    "        self.name = name\n",
    "    \n",
    "    def login(self):\n",
    "        print(\"logged in\")\n",
    "    \n",
    "    def logout(self):\n",
    "        print(\"logged in\")\n",
    "    "
   ]
  },
  {
   "cell_type": "code",
   "execution_count": 53,
   "id": "81a4cf44-030a-4c93-8ced-4f05930efc98",
   "metadata": {
    "tags": []
   },
   "outputs": [],
   "source": [
    "class Mentor(iNeuron):\n",
    "    pass"
   ]
  },
  {
   "cell_type": "code",
   "execution_count": 54,
   "id": "103abb42-a274-4174-a58b-eceea48eafda",
   "metadata": {
    "tags": []
   },
   "outputs": [],
   "source": [
    "class Student(iNeuron):\n",
    "    pass"
   ]
  },
  {
   "cell_type": "code",
   "execution_count": 55,
   "id": "1080094e-5fd6-4d3b-8d01-4d94c59f100b",
   "metadata": {
    "tags": []
   },
   "outputs": [],
   "source": [
    "m1 = Mentor(\"mayank\")"
   ]
  },
  {
   "cell_type": "code",
   "execution_count": 56,
   "id": "b7fc9712-ddc7-41e5-9849-f8aa9012fbc6",
   "metadata": {
    "tags": []
   },
   "outputs": [
    {
     "data": {
      "text/plain": [
       "'mayank'"
      ]
     },
     "execution_count": 56,
     "metadata": {},
     "output_type": "execute_result"
    }
   ],
   "source": [
    "m1.name"
   ]
  },
  {
   "cell_type": "code",
   "execution_count": 44,
   "id": "1cc9a501-25e4-4448-9c1f-0e304574d528",
   "metadata": {
    "tags": []
   },
   "outputs": [
    {
     "name": "stdout",
     "output_type": "stream",
     "text": [
      "logged in\n"
     ]
    }
   ],
   "source": [
    "m1.login()"
   ]
  },
  {
   "cell_type": "code",
   "execution_count": null,
   "id": "cf4cc239-a052-4696-925d-3b68b3144999",
   "metadata": {},
   "outputs": [],
   "source": []
  },
  {
   "cell_type": "markdown",
   "id": "3e64fb5d-92a4-4082-a025-9780bbabeaa7",
   "metadata": {
    "tags": []
   },
   "source": [
    "# We could have simply written self.ineuron = iNeuron() in __init__ of both the classes of Mentor and Student. What extra is inheritance providing?"
   ]
  },
  {
   "cell_type": "code",
   "execution_count": null,
   "id": "d7fb84bd-9439-4dbd-a932-8e3c9cf37b74",
   "metadata": {},
   "outputs": [],
   "source": []
  },
  {
   "cell_type": "code",
   "execution_count": null,
   "id": "4def437f-da73-4135-8e06-171136197cdd",
   "metadata": {},
   "outputs": [],
   "source": []
  },
  {
   "cell_type": "code",
   "execution_count": 73,
   "id": "3504ee57-f4dc-40e1-a12a-5e14b2f64b6f",
   "metadata": {
    "tags": []
   },
   "outputs": [],
   "source": [
    "class iNeuron:\n",
    "     \n",
    "    def __init__(self,name):\n",
    "        print(\"i am iNeuron\")\n",
    "        self.name = name\n",
    "        self.__income = \"100\"\n",
    "\n",
    "    def login(self):\n",
    "        print(\"logged in\")\n",
    "    \n",
    "    def logout(self):\n",
    "        print(\"logged in\")\n",
    "    "
   ]
  },
  {
   "cell_type": "code",
   "execution_count": 76,
   "id": "7e297a17-1f66-44ba-bbb0-08d5449ce5ed",
   "metadata": {
    "tags": []
   },
   "outputs": [],
   "source": [
    "class Mentor(iNeuron):\n",
    "        \n",
    "\n",
    "    def getDetail(self):\n",
    "        print(self.name)\n",
    "        print(self.__income)"
   ]
  },
  {
   "cell_type": "code",
   "execution_count": 77,
   "id": "4e6cb74d-1052-4c5c-95e7-3c84c411fd85",
   "metadata": {
    "tags": []
   },
   "outputs": [],
   "source": [
    "class Student(iNeuron):\n",
    "    pass"
   ]
  },
  {
   "cell_type": "code",
   "execution_count": 78,
   "id": "343c6230-4b82-4c23-8ee5-dff658fcca67",
   "metadata": {
    "tags": []
   },
   "outputs": [
    {
     "name": "stdout",
     "output_type": "stream",
     "text": [
      "i am iNeuron\n"
     ]
    }
   ],
   "source": [
    "m1 = Mentor('Mayank')"
   ]
  },
  {
   "cell_type": "code",
   "execution_count": 79,
   "id": "b57234cc-585d-401c-b74a-62c760c99cce",
   "metadata": {
    "tags": []
   },
   "outputs": [
    {
     "name": "stdout",
     "output_type": "stream",
     "text": [
      "Mayank\n"
     ]
    },
    {
     "ename": "AttributeError",
     "evalue": "'Mentor' object has no attribute '_Mentor__income'",
     "output_type": "error",
     "traceback": [
      "\u001b[0;31m---------------------------------------------------------------------------\u001b[0m",
      "\u001b[0;31mAttributeError\u001b[0m                            Traceback (most recent call last)",
      "Cell \u001b[0;32mIn[79], line 1\u001b[0m\n\u001b[0;32m----> 1\u001b[0m m1\u001b[38;5;241m.\u001b[39mgetDetail()\n",
      "Cell \u001b[0;32mIn[76], line 6\u001b[0m, in \u001b[0;36mMentor.getDetail\u001b[0;34m(self)\u001b[0m\n\u001b[1;32m      4\u001b[0m \u001b[38;5;28;01mdef\u001b[39;00m \u001b[38;5;21mgetDetail\u001b[39m(\u001b[38;5;28mself\u001b[39m):\n\u001b[1;32m      5\u001b[0m     \u001b[38;5;28mprint\u001b[39m(\u001b[38;5;28mself\u001b[39m\u001b[38;5;241m.\u001b[39mname)\n\u001b[0;32m----> 6\u001b[0m     \u001b[38;5;28mprint\u001b[39m(\u001b[38;5;28mself\u001b[39m\u001b[38;5;241m.\u001b[39m__income)\n",
      "\u001b[0;31mAttributeError\u001b[0m: 'Mentor' object has no attribute '_Mentor__income'"
     ]
    }
   ],
   "source": [
    "m1.getDetail()"
   ]
  },
  {
   "cell_type": "code",
   "execution_count": 67,
   "id": "2b76241b-a411-4d89-8d15-3443782d7caa",
   "metadata": {
    "tags": []
   },
   "outputs": [
    {
     "ename": "AttributeError",
     "evalue": "'Mentor' object has no attribute 'country'",
     "output_type": "error",
     "traceback": [
      "\u001b[0;31m---------------------------------------------------------------------------\u001b[0m",
      "\u001b[0;31mAttributeError\u001b[0m                            Traceback (most recent call last)",
      "Cell \u001b[0;32mIn[67], line 1\u001b[0m\n\u001b[0;32m----> 1\u001b[0m m1\u001b[38;5;241m.\u001b[39mcountry\n",
      "\u001b[0;31mAttributeError\u001b[0m: 'Mentor' object has no attribute 'country'"
     ]
    }
   ],
   "source": [
    "m1.country"
   ]
  },
  {
   "cell_type": "code",
   "execution_count": null,
   "id": "0ea17554-baf0-49eb-81cb-deb0f863d903",
   "metadata": {},
   "outputs": [],
   "source": []
  },
  {
   "cell_type": "code",
   "execution_count": null,
   "id": "c3a8d199-9184-47d6-9cee-ced690288eb9",
   "metadata": {},
   "outputs": [],
   "source": []
  },
  {
   "cell_type": "code",
   "execution_count": null,
   "id": "bfed0f2a-a275-4283-a3aa-c2f62fce9561",
   "metadata": {},
   "outputs": [],
   "source": []
  },
  {
   "cell_type": "code",
   "execution_count": null,
   "id": "ca400bac-1218-4dc9-b4a6-e952ab04d615",
   "metadata": {},
   "outputs": [],
   "source": []
  },
  {
   "cell_type": "code",
   "execution_count": 87,
   "id": "dfc2de49-3533-440f-bda4-4cfa84f9238a",
   "metadata": {
    "tags": []
   },
   "outputs": [],
   "source": [
    "class iNeuron:\n",
    "     \n",
    "    def __init__(self,name):\n",
    "        print(\"i am iNeuron\")\n",
    "        self.name = name\n",
    "        self.__income = \"100\"\n",
    "\n",
    "    def login(self):\n",
    "        print(\"logged in\")\n",
    "    \n",
    "    def logout(self):\n",
    "        print(\"logged in\")\n",
    "        \n",
    "    def getIncome(self):\n",
    "        print(self.__income)\n",
    "    "
   ]
  },
  {
   "cell_type": "code",
   "execution_count": 88,
   "id": "bc9e15cb-3846-4a71-bdba-12085ba18694",
   "metadata": {
    "tags": []
   },
   "outputs": [],
   "source": [
    "class Mentor(iNeuron):\n",
    "    \n",
    "    def login(self):\n",
    "        print(\"this is mentor login\")\n",
    "\n",
    "    def getDetail(self):\n",
    "        print(self.name)\n",
    "        print(self.__income)"
   ]
  },
  {
   "cell_type": "code",
   "execution_count": 89,
   "id": "13cd7355-df20-4f3a-b0ec-a4f6904f49b1",
   "metadata": {
    "tags": []
   },
   "outputs": [
    {
     "name": "stdout",
     "output_type": "stream",
     "text": [
      "i am iNeuron\n"
     ]
    }
   ],
   "source": [
    "m1 = Mentor('Mayank')"
   ]
  },
  {
   "cell_type": "code",
   "execution_count": 90,
   "id": "334c51d5-9629-4429-96a5-84aea11ff5bd",
   "metadata": {
    "tags": []
   },
   "outputs": [
    {
     "name": "stdout",
     "output_type": "stream",
     "text": [
      "this is mentor login\n"
     ]
    }
   ],
   "source": [
    "m1.login()"
   ]
  },
  {
   "cell_type": "code",
   "execution_count": 91,
   "id": "28b04612-e88b-4874-b585-4f39b671492d",
   "metadata": {
    "tags": []
   },
   "outputs": [
    {
     "name": "stdout",
     "output_type": "stream",
     "text": [
      "100\n"
     ]
    }
   ],
   "source": [
    "m1.getIncome()"
   ]
  },
  {
   "cell_type": "code",
   "execution_count": 92,
   "id": "af9e803e-97bd-483e-9235-8cb9384ee39b",
   "metadata": {
    "tags": []
   },
   "outputs": [
    {
     "name": "stdout",
     "output_type": "stream",
     "text": [
      "Mayank\n"
     ]
    },
    {
     "ename": "AttributeError",
     "evalue": "'Mentor' object has no attribute '_Mentor__income'",
     "output_type": "error",
     "traceback": [
      "\u001b[0;31m---------------------------------------------------------------------------\u001b[0m",
      "\u001b[0;31mAttributeError\u001b[0m                            Traceback (most recent call last)",
      "Cell \u001b[0;32mIn[92], line 1\u001b[0m\n\u001b[0;32m----> 1\u001b[0m m1\u001b[38;5;241m.\u001b[39mgetDetail()\n",
      "Cell \u001b[0;32mIn[88], line 8\u001b[0m, in \u001b[0;36mMentor.getDetail\u001b[0;34m(self)\u001b[0m\n\u001b[1;32m      6\u001b[0m \u001b[38;5;28;01mdef\u001b[39;00m \u001b[38;5;21mgetDetail\u001b[39m(\u001b[38;5;28mself\u001b[39m):\n\u001b[1;32m      7\u001b[0m     \u001b[38;5;28mprint\u001b[39m(\u001b[38;5;28mself\u001b[39m\u001b[38;5;241m.\u001b[39mname)\n\u001b[0;32m----> 8\u001b[0m     \u001b[38;5;28mprint\u001b[39m(\u001b[38;5;28mself\u001b[39m\u001b[38;5;241m.\u001b[39m__income)\n",
      "\u001b[0;31mAttributeError\u001b[0m: 'Mentor' object has no attribute '_Mentor__income'"
     ]
    }
   ],
   "source": [
    "m1.getDetail() "
   ]
  },
  {
   "cell_type": "code",
   "execution_count": null,
   "id": "a5f847bc-7efb-4a77-b032-14aef7c297cc",
   "metadata": {},
   "outputs": [],
   "source": []
  },
  {
   "cell_type": "code",
   "execution_count": null,
   "id": "f601f7f8-e5d3-45e3-a438-f8cdd4c901b5",
   "metadata": {},
   "outputs": [],
   "source": []
  },
  {
   "cell_type": "code",
   "execution_count": null,
   "id": "fe6cd426-6707-4664-8537-af1380a112e1",
   "metadata": {},
   "outputs": [],
   "source": []
  },
  {
   "cell_type": "code",
   "execution_count": null,
   "id": "ba8b72da-302f-4753-ae4d-1a89da6c8314",
   "metadata": {},
   "outputs": [],
   "source": []
  },
  {
   "cell_type": "code",
   "execution_count": 122,
   "id": "f544e2a6-c4d1-4202-b028-cd6f8d20a24e",
   "metadata": {
    "tags": []
   },
   "outputs": [],
   "source": [
    "class iNeuron:\n",
    "     \n",
    "    def __init__(self,name):\n",
    "        print(\"ineuron constructor\")\n",
    "        self.name = name\n",
    "        self.__income = \"100\"\n",
    "\n",
    "    def login(self):\n",
    "        print(\"logged in\")\n",
    "    \n",
    "    def logout(self):\n",
    "        print(\"logged in\")\n",
    "        \n",
    "    def getIncome(self):\n",
    "        print(self.__income)\n",
    "    \n",
    "    def getName(self):\n",
    "        print(self.name)\n",
    "    "
   ]
  },
  {
   "cell_type": "code",
   "execution_count": 123,
   "id": "84a05028-8235-49f0-9dfe-e15990321e51",
   "metadata": {
    "tags": []
   },
   "outputs": [],
   "source": [
    "class Mentor(iNeuron):\n",
    "    \n",
    "    def __init__(self,speciality,name):\n",
    "        print(\"mentor constructor\")\n",
    "        self.speciality = speciality\n",
    "    \n",
    "    def login(self):\n",
    "        print(\"this is mentor login\")\n",
    "\n",
    "    def getDetail(self):\n",
    "        print(self.name)\n",
    "        print(self.__income)"
   ]
  },
  {
   "cell_type": "code",
   "execution_count": 124,
   "id": "dba7c572-bd0f-48a1-9ab1-1dbc5d5c8635",
   "metadata": {
    "tags": []
   },
   "outputs": [
    {
     "name": "stdout",
     "output_type": "stream",
     "text": [
      "mentor constructor\n"
     ]
    }
   ],
   "source": [
    "m1 = Mentor(\"DS\",\"mayank\")"
   ]
  },
  {
   "cell_type": "code",
   "execution_count": 126,
   "id": "db29db5c-4603-4247-a62a-78c510bf7e7c",
   "metadata": {
    "tags": []
   },
   "outputs": [
    {
     "ename": "AttributeError",
     "evalue": "'Mentor' object has no attribute 'name'",
     "output_type": "error",
     "traceback": [
      "\u001b[0;31m---------------------------------------------------------------------------\u001b[0m",
      "\u001b[0;31mAttributeError\u001b[0m                            Traceback (most recent call last)",
      "Cell \u001b[0;32mIn[126], line 1\u001b[0m\n\u001b[0;32m----> 1\u001b[0m m1\u001b[38;5;241m.\u001b[39mname\n",
      "\u001b[0;31mAttributeError\u001b[0m: 'Mentor' object has no attribute 'name'"
     ]
    }
   ],
   "source": [
    "m1.name"
   ]
  },
  {
   "cell_type": "code",
   "execution_count": 104,
   "id": "91a4e2be-aa6c-40a8-98b0-2e54063b9f34",
   "metadata": {
    "tags": []
   },
   "outputs": [
    {
     "ename": "AttributeError",
     "evalue": "'Mentor' object has no attribute 'name'",
     "output_type": "error",
     "traceback": [
      "\u001b[0;31m---------------------------------------------------------------------------\u001b[0m",
      "\u001b[0;31mAttributeError\u001b[0m                            Traceback (most recent call last)",
      "Cell \u001b[0;32mIn[104], line 1\u001b[0m\n\u001b[0;32m----> 1\u001b[0m m1\u001b[38;5;241m.\u001b[39mgetName()\n",
      "Cell \u001b[0;32mIn[99], line 17\u001b[0m, in \u001b[0;36miNeuron.getName\u001b[0;34m(self)\u001b[0m\n\u001b[1;32m     16\u001b[0m \u001b[38;5;28;01mdef\u001b[39;00m \u001b[38;5;21mgetName\u001b[39m(\u001b[38;5;28mself\u001b[39m):\n\u001b[0;32m---> 17\u001b[0m     \u001b[38;5;28mprint\u001b[39m(\u001b[38;5;28mself\u001b[39m\u001b[38;5;241m.\u001b[39mname)\n",
      "\u001b[0;31mAttributeError\u001b[0m: 'Mentor' object has no attribute 'name'"
     ]
    }
   ],
   "source": [
    "m1.getName()"
   ]
  },
  {
   "cell_type": "code",
   "execution_count": null,
   "id": "c6aee5b9-30b6-4671-9a07-5de0448e33a6",
   "metadata": {},
   "outputs": [],
   "source": []
  },
  {
   "cell_type": "code",
   "execution_count": null,
   "id": "bc526c4f-b9f6-42ba-b1ad-064ea2e22aaa",
   "metadata": {},
   "outputs": [],
   "source": []
  },
  {
   "cell_type": "code",
   "execution_count": null,
   "id": "4076329c-8cab-4954-af34-b222e9a8251f",
   "metadata": {},
   "outputs": [],
   "source": []
  },
  {
   "cell_type": "code",
   "execution_count": null,
   "id": "93447e1d-1527-46aa-9d29-fce6c90f73ea",
   "metadata": {},
   "outputs": [],
   "source": []
  },
  {
   "cell_type": "markdown",
   "id": "c5127ee5-99f1-4c37-9987-a6e4020f2255",
   "metadata": {
    "tags": []
   },
   "source": [
    "# super() - It is used to access properties of parent class\n",
    "\n",
    "it just works inside class"
   ]
  },
  {
   "cell_type": "code",
   "execution_count": 158,
   "id": "4abd09c0-9b12-4982-a10a-370fde59a658",
   "metadata": {
    "tags": []
   },
   "outputs": [],
   "source": [
    "class iNeuron:\n",
    "    \n",
    "    company = \"INEURON\"\n",
    "    def __init__(self,name):\n",
    "        print(\"ineuron constructor\")\n",
    "        self.name = \"abc\"\n",
    "        \n",
    "    def login(self):\n",
    "        print(\"logged in\")\n",
    "\n",
    "    def __logout(self):\n",
    "        print(\"logged out\")\n"
   ]
  },
  {
   "cell_type": "code",
   "execution_count": 159,
   "id": "a8ad0de5-9226-43ab-891d-b04611456f80",
   "metadata": {
    "tags": []
   },
   "outputs": [],
   "source": [
    "class Mentor(iNeuron):\n",
    "    \n",
    "    def __init__(self,speciality,name,a1,a2,a3,a4,a5):\n",
    "        print(\"mentor constructor\")\n",
    "        self.speciality = speciality\n",
    "        super().login()\n",
    "    \n",
    "    def login(self):\n",
    "        super().login()\n",
    "        \n",
    "\n",
    "    def logout(self):\n",
    "        super().__logout"
   ]
  },
  {
   "cell_type": "code",
   "execution_count": 160,
   "id": "f7dc0137-5447-41b9-9f6a-7e786dddd6c6",
   "metadata": {
    "tags": []
   },
   "outputs": [
    {
     "name": "stdout",
     "output_type": "stream",
     "text": [
      "mentor constructor\n",
      "logged in\n"
     ]
    }
   ],
   "source": [
    "m1 = Mentor(\"DS\",\"mayank\")"
   ]
  },
  {
   "cell_type": "code",
   "execution_count": 161,
   "id": "12f2b393-7a30-4bb1-b9ee-24101946c528",
   "metadata": {
    "tags": []
   },
   "outputs": [
    {
     "ename": "AttributeError",
     "evalue": "'super' object has no attribute '_Mentor__logout'",
     "output_type": "error",
     "traceback": [
      "\u001b[0;31m---------------------------------------------------------------------------\u001b[0m",
      "\u001b[0;31mAttributeError\u001b[0m                            Traceback (most recent call last)",
      "Cell \u001b[0;32mIn[161], line 1\u001b[0m\n\u001b[0;32m----> 1\u001b[0m m1\u001b[38;5;241m.\u001b[39mlogout()\n",
      "Cell \u001b[0;32mIn[159], line 13\u001b[0m, in \u001b[0;36mMentor.logout\u001b[0;34m(self)\u001b[0m\n\u001b[1;32m     12\u001b[0m \u001b[38;5;28;01mdef\u001b[39;00m \u001b[38;5;21mlogout\u001b[39m(\u001b[38;5;28mself\u001b[39m):\n\u001b[0;32m---> 13\u001b[0m     \u001b[38;5;28msuper\u001b[39m()\u001b[38;5;241m.\u001b[39m__logout\n",
      "\u001b[0;31mAttributeError\u001b[0m: 'super' object has no attribute '_Mentor__logout'"
     ]
    }
   ],
   "source": [
    "m1.logout()"
   ]
  },
  {
   "cell_type": "code",
   "execution_count": 136,
   "id": "8f804e87-a395-498c-902b-793a125b1e6e",
   "metadata": {
    "tags": []
   },
   "outputs": [
    {
     "ename": "AttributeError",
     "evalue": "'Mentor' object has no attribute 'super'",
     "output_type": "error",
     "traceback": [
      "\u001b[0;31m---------------------------------------------------------------------------\u001b[0m",
      "\u001b[0;31mAttributeError\u001b[0m                            Traceback (most recent call last)",
      "Cell \u001b[0;32mIn[136], line 1\u001b[0m\n\u001b[0;32m----> 1\u001b[0m m1\u001b[38;5;241m.\u001b[39msuper()\u001b[38;5;241m.\u001b[39mlogin()\n",
      "\u001b[0;31mAttributeError\u001b[0m: 'Mentor' object has no attribute 'super'"
     ]
    }
   ],
   "source": [
    "m1.super().login()"
   ]
  },
  {
   "cell_type": "code",
   "execution_count": null,
   "id": "42b9ffc8-3798-4dda-9c38-c03f97339b5b",
   "metadata": {},
   "outputs": [],
   "source": []
  },
  {
   "cell_type": "code",
   "execution_count": null,
   "id": "a3cf2262-49a0-4f51-a019-ca54e04e3bca",
   "metadata": {},
   "outputs": [],
   "source": []
  },
  {
   "cell_type": "code",
   "execution_count": 179,
   "id": "9058773e-c627-4edf-8568-e83f7389c550",
   "metadata": {
    "tags": []
   },
   "outputs": [],
   "source": [
    "class iNeuron:\n",
    "     \n",
    "    def __init__(self,name,dP = True):\n",
    "        if(dP != False):\n",
    "            print(\"ineuron constructor\")\n",
    "        self.name = name\n",
    "        self.__income = \"100\"\n",
    "\n",
    "    def login(self):\n",
    "        print(\"logged in\")\n",
    "    \n",
    "    def logout(self):\n",
    "        print(\"logged in\")\n",
    "        \n",
    "    def getIncome(self):\n",
    "        print(self.__income)\n",
    "    \n",
    "    def getName(self):\n",
    "        print(self.name)\n",
    "    "
   ]
  },
  {
   "cell_type": "code",
   "execution_count": 182,
   "id": "bb617816-d587-4828-999a-a75261267adc",
   "metadata": {
    "tags": []
   },
   "outputs": [],
   "source": [
    "class Mentor(iNeuron):\n",
    "    \n",
    "    def __init__(self,speciality,name):\n",
    "        print(\"mentor constructor\")\n",
    "        super().__init__(name)\n",
    "        self.speciality = speciality\n",
    "\n",
    "    \n",
    "    def login(self):\n",
    "        print(\"this is mentor login\")\n",
    "\n",
    "    def getDetail(self):\n",
    "        print(self.name)\n",
    "        print(self.__income)"
   ]
  },
  {
   "cell_type": "code",
   "execution_count": 183,
   "id": "3c83c005-6b4b-4991-8b25-1345ad3cfd7b",
   "metadata": {
    "tags": []
   },
   "outputs": [
    {
     "name": "stdout",
     "output_type": "stream",
     "text": [
      "mentor constructor\n",
      "ineuron constructor\n"
     ]
    }
   ],
   "source": [
    "m1 = Mentor(\"DS\",\"mayank\")"
   ]
  },
  {
   "cell_type": "markdown",
   "id": "a8380f58-0561-4cc5-a2a2-cd342f08038a",
   "metadata": {},
   "source": [
    " # if I want to avoid the print of some statement from the parent constructor but want to reuse other functionalities how can I do that ?"
   ]
  },
  {
   "cell_type": "code",
   "execution_count": null,
   "id": "efdb0faf-e261-46d4-a0f5-622479a64fe2",
   "metadata": {},
   "outputs": [],
   "source": []
  },
  {
   "cell_type": "code",
   "execution_count": null,
   "id": "fd8705f7-9327-48c3-8309-9809dd8759a2",
   "metadata": {},
   "outputs": [],
   "source": []
  },
  {
   "cell_type": "code",
   "execution_count": null,
   "id": "995e7435-1d6d-40ab-86d8-0e159164cd92",
   "metadata": {},
   "outputs": [],
   "source": []
  },
  {
   "cell_type": "code",
   "execution_count": null,
   "id": "c70263de-898e-452d-9b3e-57c1126c6657",
   "metadata": {},
   "outputs": [],
   "source": []
  },
  {
   "cell_type": "code",
   "execution_count": null,
   "id": "4abb8d11-3328-4a31-b58f-e40f408d2659",
   "metadata": {},
   "outputs": [],
   "source": []
  },
  {
   "cell_type": "code",
   "execution_count": 184,
   "id": "ba4339fb-6872-47ea-9d90-408f7881cb7d",
   "metadata": {
    "tags": []
   },
   "outputs": [],
   "source": [
    "class Company:\n",
    "    def __init__(self,companyName):\n",
    "        print(\"company  constructor\")\n",
    "        self.companyName= companyName"
   ]
  },
  {
   "cell_type": "code",
   "execution_count": 199,
   "id": "17c31234-6e2e-4c7c-b346-496495dfab83",
   "metadata": {
    "tags": []
   },
   "outputs": [],
   "source": [
    "class iNeuron(Company):\n",
    "    \n",
    "    company = \"INEURON\"\n",
    "    def __init__(self,name):\n",
    "        print(\"ineuron constructor\")\n",
    "        super().__init__(\"iNeuron Intelligence Pvt Ltd\")\n",
    "        self.name = \"abc\"\n",
    "        \n",
    "    def login(self):\n",
    "        print(\"logged in\")\n",
    "\n",
    "    def __logout(self):\n",
    "        print(\"logged out\")\n"
   ]
  },
  {
   "cell_type": "code",
   "execution_count": 200,
   "id": "87d7035d-9340-4060-9ebd-8886875da75d",
   "metadata": {
    "tags": []
   },
   "outputs": [],
   "source": [
    "class Mentor(iNeuron):\n",
    "    \n",
    "    def __init__(self,speciality,name):\n",
    "        print(\"mentor constructor\")\n",
    "        \n",
    "        self.speciality = speciality\n",
    "\n",
    "    \n",
    "    def login(self):\n",
    "        super().login()\n",
    "        \n",
    "\n",
    "    def logout(self):\n",
    "        super().__logout"
   ]
  },
  {
   "cell_type": "code",
   "execution_count": 201,
   "id": "45eee585-3ab3-404c-937f-7dad0e3c09d8",
   "metadata": {
    "tags": []
   },
   "outputs": [],
   "source": [
    "class Student(iNeuron):\n",
    "    \n",
    "    def __init__(self,speciality,name):\n",
    "        print(\"mentor constructor\")\n",
    "        super().__init__(name)\n",
    "        self.speciality = speciality\n",
    "\n",
    "    \n",
    "    def login(self):\n",
    "        super().login()\n",
    "        \n",
    "\n",
    "    def logout(self):\n",
    "        super().__logout"
   ]
  },
  {
   "cell_type": "code",
   "execution_count": 202,
   "id": "6784d247-7159-4260-aa36-181727b65e22",
   "metadata": {
    "tags": []
   },
   "outputs": [
    {
     "name": "stdout",
     "output_type": "stream",
     "text": [
      "mentor constructor\n"
     ]
    }
   ],
   "source": [
    "m1 = Mentor(\"DS\",\"Mayank\")"
   ]
  },
  {
   "cell_type": "code",
   "execution_count": 190,
   "id": "b078f508-409a-42c7-8ce1-93a3f332eeb4",
   "metadata": {
    "tags": []
   },
   "outputs": [
    {
     "data": {
      "text/plain": [
       "'iNeuron Intelligence Pvt Ltd'"
      ]
     },
     "execution_count": 190,
     "metadata": {},
     "output_type": "execute_result"
    }
   ],
   "source": [
    "m1.companyName"
   ]
  },
  {
   "cell_type": "code",
   "execution_count": null,
   "id": "246e6251-9aff-4528-b42b-9509fcc92d9b",
   "metadata": {},
   "outputs": [],
   "source": []
  },
  {
   "cell_type": "code",
   "execution_count": null,
   "id": "d6940b33-5aee-47b7-a2f5-1130857f9d29",
   "metadata": {},
   "outputs": [],
   "source": []
  },
  {
   "cell_type": "code",
   "execution_count": null,
   "id": "82b98b8a-b664-491d-9aac-b379689b0650",
   "metadata": {},
   "outputs": [],
   "source": []
  },
  {
   "cell_type": "code",
   "execution_count": null,
   "id": "2a317174-d881-49eb-b5ea-ec7f8f85f82e",
   "metadata": {},
   "outputs": [],
   "source": []
  },
  {
   "cell_type": "code",
   "execution_count": 205,
   "id": "43d96ffe-979e-4ff2-8fd2-f7883750dec3",
   "metadata": {
    "tags": []
   },
   "outputs": [],
   "source": [
    "class iNeuron:\n",
    "    \n",
    "    company = \"INEURON\"\n",
    "    def __init__(self,name):\n",
    "        print(\"ineuron constructor\")\n",
    "        self.name = \"abc\"\n"
   ]
  },
  {
   "cell_type": "code",
   "execution_count": 206,
   "id": "d260e295-efc6-4900-81ad-b34d7c3e8215",
   "metadata": {
    "tags": []
   },
   "outputs": [],
   "source": [
    "class Mentor(iNeuron):\n",
    "    \n",
    "    def __init__(self,speciality,name):\n",
    "        print(\"mentor constructor\")\n",
    "        \n",
    "        self.speciality = speciality\n",
    "\n"
   ]
  },
  {
   "cell_type": "code",
   "execution_count": 214,
   "id": "3c860b65-f5a1-4082-9ee3-9fdb1eb178cd",
   "metadata": {
    "tags": []
   },
   "outputs": [],
   "source": [
    "class Student(iNeuron):\n",
    "    \n",
    "    def __init__(self,course,name):\n",
    "        print(\"student constructor\")\n",
    "        super().__init__(name)\n",
    "        self.course = course\n",
    "\n"
   ]
  },
  {
   "cell_type": "code",
   "execution_count": 215,
   "id": "c3a50ae3-01dd-4252-b332-a5802b098900",
   "metadata": {
    "tags": []
   },
   "outputs": [
    {
     "name": "stdout",
     "output_type": "stream",
     "text": [
      "student constructor\n",
      "ineuron constructor\n"
     ]
    }
   ],
   "source": [
    "s1 = Student(\"ML Bootcamp\",\"rahul\")"
   ]
  },
  {
   "cell_type": "code",
   "execution_count": 216,
   "id": "b5af8908-7a1c-4188-9818-6cc488dd2c83",
   "metadata": {
    "tags": []
   },
   "outputs": [
    {
     "data": {
      "text/plain": [
       "'ML Bootcamp'"
      ]
     },
     "execution_count": 216,
     "metadata": {},
     "output_type": "execute_result"
    }
   ],
   "source": [
    "s1.course"
   ]
  },
  {
   "cell_type": "code",
   "execution_count": 217,
   "id": "9695b6bc-8729-498a-87f4-260c5c00afe7",
   "metadata": {
    "tags": []
   },
   "outputs": [
    {
     "ename": "AttributeError",
     "evalue": "'Student' object has no attribute 'speciality'",
     "output_type": "error",
     "traceback": [
      "\u001b[0;31m---------------------------------------------------------------------------\u001b[0m",
      "\u001b[0;31mAttributeError\u001b[0m                            Traceback (most recent call last)",
      "Cell \u001b[0;32mIn[217], line 1\u001b[0m\n\u001b[0;32m----> 1\u001b[0m s1\u001b[38;5;241m.\u001b[39mspeciality\n",
      "\u001b[0;31mAttributeError\u001b[0m: 'Student' object has no attribute 'speciality'"
     ]
    }
   ],
   "source": [
    "s1.speciality"
   ]
  },
  {
   "cell_type": "code",
   "execution_count": 218,
   "id": "db149d63-90d7-4d96-aa99-8a1a28e38b91",
   "metadata": {
    "tags": []
   },
   "outputs": [
    {
     "data": {
      "text/plain": [
       "'abc'"
      ]
     },
     "execution_count": 218,
     "metadata": {},
     "output_type": "execute_result"
    }
   ],
   "source": [
    "s1.name"
   ]
  },
  {
   "cell_type": "code",
   "execution_count": null,
   "id": "c4594911-6c95-43d8-9571-cecfe0fd6066",
   "metadata": {},
   "outputs": [],
   "source": []
  },
  {
   "cell_type": "code",
   "execution_count": null,
   "id": "47f9605f-c532-47b4-9570-786b331a12ad",
   "metadata": {},
   "outputs": [],
   "source": []
  },
  {
   "cell_type": "code",
   "execution_count": null,
   "id": "8ed9e80f-c81b-4117-aa09-1e8482c1d8f1",
   "metadata": {},
   "outputs": [],
   "source": []
  },
  {
   "cell_type": "code",
   "execution_count": null,
   "id": "67090bb2-761d-42a6-9b93-87fefff5652e",
   "metadata": {},
   "outputs": [],
   "source": []
  },
  {
   "cell_type": "markdown",
   "id": "ec0895e0-d776-4939-bd0c-9bfe505dff76",
   "metadata": {},
   "source": [
    "# Multiple Inheritance"
   ]
  },
  {
   "cell_type": "code",
   "execution_count": 247,
   "id": "9a9b1e61-e053-4832-9102-ba4a6f14a7b8",
   "metadata": {
    "tags": []
   },
   "outputs": [],
   "source": [
    "class iNeuron:\n",
    "    \n",
    "    company = \"INEURON\"\n",
    "    def __init__(self,name):\n",
    "        print(\"ineuron constructor\")\n",
    "        self.name = \"abc\"\n",
    "\n",
    "    def login(self):\n",
    "        print(\"ineuron login\")\n",
    "        \n",
    "    def logout(self):\n",
    "        print(\"I am here in ineuron logout\")"
   ]
  },
  {
   "cell_type": "code",
   "execution_count": 248,
   "id": "324bde24-6c20-4a0c-9946-fe1e09e2b3dc",
   "metadata": {
    "tags": []
   },
   "outputs": [],
   "source": [
    "class Mentor():\n",
    "    \n",
    "    def __init__(self,speciality,name):\n",
    "        print(\"mentor constructor\")\n",
    "        \n",
    "        self.speciality = speciality\n",
    "\n",
    "    def login(self):\n",
    "        print(\"mentor login\")\n"
   ]
  },
  {
   "cell_type": "code",
   "execution_count": 249,
   "id": "7be9df44-b3cf-4918-90b5-ef7fd7ca4445",
   "metadata": {
    "tags": []
   },
   "outputs": [],
   "source": [
    "class Student(iNeuron,Mentor):\n",
    "    \n",
    "    def __init__(self,course,name):\n",
    "        print(\"student constructor\")\n",
    "        super().__init__(name)\n",
    "        self.course = course\n",
    "    \n",
    "    def mentor_login(self):\n",
    "        Mentor.login(self)\n"
   ]
  },
  {
   "cell_type": "code",
   "execution_count": 250,
   "id": "bdea8f20-169f-408a-9233-b701acf705b8",
   "metadata": {
    "tags": []
   },
   "outputs": [
    {
     "name": "stdout",
     "output_type": "stream",
     "text": [
      "student constructor\n",
      "ineuron constructor\n"
     ]
    }
   ],
   "source": [
    "s1 = Student(\"Ml Bootcamp\",\"rahul\")"
   ]
  },
  {
   "cell_type": "code",
   "execution_count": 251,
   "id": "639d563e-ca84-42ad-8b98-e767f96e294c",
   "metadata": {
    "tags": []
   },
   "outputs": [
    {
     "name": "stdout",
     "output_type": "stream",
     "text": [
      "mentor login\n"
     ]
    }
   ],
   "source": [
    "s1.mentor_login()"
   ]
  },
  {
   "cell_type": "code",
   "execution_count": null,
   "id": "92bf2107-d0e1-448c-a9ff-7ba7c4e47151",
   "metadata": {},
   "outputs": [],
   "source": []
  },
  {
   "cell_type": "code",
   "execution_count": null,
   "id": "6f2347a7-cefd-4f5b-bf5e-71edab4fca8b",
   "metadata": {},
   "outputs": [],
   "source": []
  },
  {
   "cell_type": "code",
   "execution_count": null,
   "id": "39d9becf-eda7-4d3d-a8db-1b95d1f766b1",
   "metadata": {},
   "outputs": [],
   "source": []
  },
  {
   "cell_type": "code",
   "execution_count": null,
   "id": "8323c3a5-9e30-4023-aaa7-669160713ce8",
   "metadata": {},
   "outputs": [],
   "source": []
  },
  {
   "cell_type": "code",
   "execution_count": null,
   "id": "053ccb29-5585-433b-9830-82766b61e966",
   "metadata": {},
   "outputs": [],
   "source": []
  },
  {
   "cell_type": "markdown",
   "id": "84c0aaef-f5d8-4bcc-8e5c-2412f3c0cab2",
   "metadata": {},
   "source": [
    "# Polymorphism"
   ]
  },
  {
   "cell_type": "code",
   "execution_count": 252,
   "id": "510e963f-eb08-4091-82e1-2eda59dde398",
   "metadata": {
    "tags": []
   },
   "outputs": [
    {
     "data": {
      "text/plain": [
       "3"
      ]
     },
     "execution_count": 252,
     "metadata": {},
     "output_type": "execute_result"
    }
   ],
   "source": [
    "1 + 2"
   ]
  },
  {
   "cell_type": "code",
   "execution_count": 253,
   "id": "89e27d73-4ed1-48a6-b4ad-ba62cc912443",
   "metadata": {
    "tags": []
   },
   "outputs": [
    {
     "data": {
      "text/plain": [
       "'12'"
      ]
     },
     "execution_count": 253,
     "metadata": {},
     "output_type": "execute_result"
    }
   ],
   "source": [
    "\"1\" + \"2\""
   ]
  },
  {
   "cell_type": "code",
   "execution_count": null,
   "id": "7c8bc7e8-5a5e-45db-9f10-25731b14dfe9",
   "metadata": {},
   "outputs": [],
   "source": []
  },
  {
   "cell_type": "code",
   "execution_count": null,
   "id": "abd1641f-9436-4256-847d-02aa3b1baefb",
   "metadata": {},
   "outputs": [],
   "source": []
  },
  {
   "cell_type": "markdown",
   "id": "4233d4e2-74a2-4139-b8cb-1ba2ae29c531",
   "metadata": {},
   "source": [
    "# Method Overriding\n"
   ]
  },
  {
   "cell_type": "code",
   "execution_count": 274,
   "id": "1719a6c6-f079-4021-a7cd-ba033d376a28",
   "metadata": {
    "tags": []
   },
   "outputs": [
    {
     "data": {
      "text/plain": [
       "2"
      ]
     },
     "execution_count": 274,
     "metadata": {},
     "output_type": "execute_result"
    }
   ],
   "source": [
    "max(1,2)"
   ]
  },
  {
   "cell_type": "code",
   "execution_count": 275,
   "id": "5a925f3d-930e-4efc-bb36-5a4aa675d010",
   "metadata": {
    "tags": []
   },
   "outputs": [],
   "source": [
    "def max(a,b):\n",
    "    return a*b"
   ]
  },
  {
   "cell_type": "code",
   "execution_count": 276,
   "id": "532978c8-68c1-4b1a-8cb0-f2c1c1379d6f",
   "metadata": {
    "tags": []
   },
   "outputs": [
    {
     "data": {
      "text/plain": [
       "20"
      ]
     },
     "execution_count": 276,
     "metadata": {},
     "output_type": "execute_result"
    }
   ],
   "source": [
    "max(5,4)"
   ]
  },
  {
   "cell_type": "code",
   "execution_count": 271,
   "id": "c5fb01a7-25af-464e-9d23-eb602a17382a",
   "metadata": {
    "tags": []
   },
   "outputs": [
    {
     "data": {
      "text/plain": [
       "6"
      ]
     },
     "execution_count": 271,
     "metadata": {},
     "output_type": "execute_result"
    }
   ],
   "source": [
    "sum([1,2,3])"
   ]
  },
  {
   "cell_type": "code",
   "execution_count": 272,
   "id": "9882c474-2ab8-4499-902c-6c721f38f1de",
   "metadata": {
    "tags": []
   },
   "outputs": [],
   "source": [
    "def sum(l1):\n",
    "    print(l1)"
   ]
  },
  {
   "cell_type": "code",
   "execution_count": 273,
   "id": "09fb213b-084b-4cd8-a1c7-a03163ef5819",
   "metadata": {
    "tags": []
   },
   "outputs": [
    {
     "name": "stdout",
     "output_type": "stream",
     "text": [
      "[1, 2, 3]\n"
     ]
    }
   ],
   "source": [
    "sum([1,2,3])"
   ]
  },
  {
   "cell_type": "markdown",
   "id": "81d3a1ef-a402-4ab5-8ed6-e4055e31558b",
   "metadata": {},
   "source": [
    "# Method Overloading"
   ]
  },
  {
   "cell_type": "code",
   "execution_count": 267,
   "id": "9e02262b-556f-49c3-825a-a5d942e3ae89",
   "metadata": {
    "tags": []
   },
   "outputs": [],
   "source": [
    "class Shape:\n",
    "    \n",
    "    def area(self,side=5,breadth=0):\n",
    "        if(breadth==0):\n",
    "            return 3.14 * side **2\n",
    "        else:\n",
    "            return side*breadth\n",
    "    \n",
    "    "
   ]
  },
  {
   "cell_type": "code",
   "execution_count": 261,
   "id": "3fdc3683-89e6-4309-ba1f-6e3859208d94",
   "metadata": {
    "tags": []
   },
   "outputs": [],
   "source": [
    "s = Shape()"
   ]
  },
  {
   "cell_type": "code",
   "execution_count": 268,
   "id": "c3b6e072-6d6a-4ef0-9879-fddd654f0512",
   "metadata": {
    "tags": []
   },
   "outputs": [
    {
     "data": {
      "text/plain": [
       "78.5"
      ]
     },
     "execution_count": 268,
     "metadata": {},
     "output_type": "execute_result"
    }
   ],
   "source": [
    "s.area(5) # 5 is the radius"
   ]
  },
  {
   "cell_type": "code",
   "execution_count": 269,
   "id": "be2c333d-382f-40cf-983d-cef82ef12c8b",
   "metadata": {
    "tags": []
   },
   "outputs": [
    {
     "data": {
      "text/plain": [
       "20"
      ]
     },
     "execution_count": 269,
     "metadata": {},
     "output_type": "execute_result"
    }
   ],
   "source": [
    "s.area(5,4)"
   ]
  },
  {
   "cell_type": "code",
   "execution_count": null,
   "id": "ece33fb7-cbf1-4c7e-92a1-0255bbd0e1fe",
   "metadata": {},
   "outputs": [],
   "source": []
  },
  {
   "cell_type": "markdown",
   "id": "a6cd102f-bc66-46f2-8f95-c3fa9679134a",
   "metadata": {},
   "source": [
    "# Operator Overloading"
   ]
  },
  {
   "cell_type": "code",
   "execution_count": null,
   "id": "49c99f60-56c2-48da-b09c-9d6e5a88892d",
   "metadata": {},
   "outputs": [],
   "source": [
    "+ - / * "
   ]
  },
  {
   "cell_type": "code",
   "execution_count": null,
   "id": "ff8ddb9e-968b-4e56-910f-cb64f4fde836",
   "metadata": {},
   "outputs": [],
   "source": []
  },
  {
   "cell_type": "code",
   "execution_count": 278,
   "id": "4705b89b-332e-4786-bfa3-2aa32231ff1a",
   "metadata": {
    "tags": []
   },
   "outputs": [
    {
     "data": {
      "text/plain": [
       "'12'"
      ]
     },
     "execution_count": 278,
     "metadata": {},
     "output_type": "execute_result"
    }
   ],
   "source": [
    "'1' + '2'"
   ]
  },
  {
   "cell_type": "code",
   "execution_count": 279,
   "id": "1ffa192c-ebb7-4d19-9c6d-8d49f9e0c996",
   "metadata": {
    "tags": []
   },
   "outputs": [
    {
     "data": {
      "text/plain": [
       "3"
      ]
     },
     "execution_count": 279,
     "metadata": {},
     "output_type": "execute_result"
    }
   ],
   "source": []
  },
  {
   "cell_type": "code",
   "execution_count": null,
   "id": "20532521-6334-4a88-b3f3-b7e64ef28ab0",
   "metadata": {},
   "outputs": [],
   "source": []
  },
  {
   "cell_type": "code",
   "execution_count": null,
   "id": "887dd08e-2d2c-455b-93a9-56a7f1c3f6cb",
   "metadata": {},
   "outputs": [],
   "source": []
  },
  {
   "cell_type": "code",
   "execution_count": 282,
   "id": "68665225-7b8a-4951-9231-61f2ea759afb",
   "metadata": {
    "tags": []
   },
   "outputs": [
    {
     "name": "stdout",
     "output_type": "stream",
     "text": [
      "50.26548245743669\n",
      "16\n"
     ]
    }
   ],
   "source": [
    "from math import pi\n",
    "\n",
    "\n",
    "class Shape:\n",
    "    def __init__(self, name):\n",
    "        self.name = name\n",
    "\n",
    "    def area(self):\n",
    "        pass\n",
    "\n",
    "    def fact(self):\n",
    "        return \"I am a two-dimensional shape.\"\n",
    "\n",
    "    def __str__(self):\n",
    "        return self.name\n",
    "\n",
    "\n",
    "class Square(Shape):\n",
    "    def __init__(self, length):\n",
    "        super().__init__(\"Square\")\n",
    "        self.length = length\n",
    "\n",
    "    def area(self):\n",
    "        return self.length**2\n",
    "\n",
    "    def fact(self):\n",
    "        return \"Squares have each angle equal to 90 degrees.\"\n",
    "\n",
    "\n",
    "class Circle(Shape):\n",
    "    def __init__(self, radius):\n",
    "        super().__init__(\"Circle\")\n",
    "        self.radius = radius\n",
    "\n",
    "    def area(self):\n",
    "        return pi*self.radius**2\n",
    "\n",
    "\n",
    "a = Square(4)\n",
    "b = Circle(4)\n",
    "\n",
    "print(b.area())\n",
    "print(a.area())\n"
   ]
  },
  {
   "cell_type": "code",
   "execution_count": null,
   "id": "961ea6a5-68da-4676-a21f-c1eecd23fb83",
   "metadata": {},
   "outputs": [],
   "source": []
  },
  {
   "cell_type": "markdown",
   "id": "5bf2b486-2f88-424d-ba87-6b5921ebd4e8",
   "metadata": {},
   "source": [
    "# Abstraction"
   ]
  },
  {
   "cell_type": "code",
   "execution_count": null,
   "id": "f44fe620-ed66-4ab7-8542-53b30f3bbe3b",
   "metadata": {},
   "outputs": [],
   "source": []
  },
  {
   "cell_type": "code",
   "execution_count": 288,
   "id": "67fd8692-9e52-4a72-bbf4-6845f9520976",
   "metadata": {
    "tags": []
   },
   "outputs": [],
   "source": [
    "class iNeuron:\n",
    "    \n",
    "    company = \"INEURON\"\n",
    "    def __init__(self,name):\n",
    "        print(\"ineuron constructor\")\n",
    "        self.name = name\n",
    "        \n",
    "    def login(self):\n",
    "        print(\"logged in\")\n",
    "\n",
    "    def __logout(self):\n",
    "        print(\"logged out\")\n"
   ]
  },
  {
   "cell_type": "code",
   "execution_count": 289,
   "id": "00ef1e9f-67c7-4a74-8763-0dd492d3f127",
   "metadata": {
    "tags": []
   },
   "outputs": [
    {
     "name": "stdout",
     "output_type": "stream",
     "text": [
      "ineuron constructor\n"
     ]
    }
   ],
   "source": [
    "iN = iNeuron(\"mayank\") "
   ]
  },
  {
   "cell_type": "code",
   "execution_count": 290,
   "id": "d741400c-197b-42ae-87d0-f89270a09a6a",
   "metadata": {
    "tags": []
   },
   "outputs": [
    {
     "name": "stdout",
     "output_type": "stream",
     "text": [
      "logged in\n"
     ]
    }
   ],
   "source": [
    "iN.login()"
   ]
  },
  {
   "cell_type": "code",
   "execution_count": null,
   "id": "51549d36-2d9b-4a06-bd73-6a83393d4ff0",
   "metadata": {},
   "outputs": [],
   "source": []
  },
  {
   "cell_type": "code",
   "execution_count": 291,
   "id": "4daf9050-eead-4638-a061-291190f8ebd2",
   "metadata": {
    "tags": []
   },
   "outputs": [],
   "source": [
    "l1 = [1,2,3]"
   ]
  },
  {
   "cell_type": "code",
   "execution_count": 292,
   "id": "cec58813-502b-409e-9304-957b25ea5c03",
   "metadata": {
    "tags": []
   },
   "outputs": [],
   "source": [
    "l1.append(5)"
   ]
  },
  {
   "cell_type": "code",
   "execution_count": 293,
   "id": "49b71db5-17b6-45b6-a716-419892141f4d",
   "metadata": {
    "tags": []
   },
   "outputs": [
    {
     "data": {
      "text/plain": [
       "[1, 2, 3, 5]"
      ]
     },
     "execution_count": 293,
     "metadata": {},
     "output_type": "execute_result"
    }
   ],
   "source": [
    "l1"
   ]
  },
  {
   "cell_type": "code",
   "execution_count": null,
   "id": "4416c6e3-1465-401f-af65-75d47e433f88",
   "metadata": {},
   "outputs": [],
   "source": [
    "from abc import ABC,abstractmethod"
   ]
  },
  {
   "cell_type": "code",
   "execution_count": 346,
   "id": "6d5bb6e4-8921-4327-9ba8-6b2e0247ecab",
   "metadata": {
    "tags": []
   },
   "outputs": [],
   "source": [
    "class TVremote(ABC): \n",
    "    def __init__(self,name):\n",
    "        self.name = name\n",
    "    \n",
    "    @abstractmethod\n",
    "    def on(self):\n",
    "        pass"
   ]
  },
  {
   "cell_type": "code",
   "execution_count": null,
   "id": "0d5def88-3a9a-4927-b27c-c6cfffdbdb46",
   "metadata": {},
   "outputs": [],
   "source": []
  },
  {
   "cell_type": "code",
   "execution_count": 347,
   "id": "f1fe0321-4c00-4c26-b5c4-dfb11503e7b7",
   "metadata": {
    "tags": []
   },
   "outputs": [],
   "source": [
    "class physicalRemote(TVremote):\n",
    "    pass"
   ]
  },
  {
   "cell_type": "code",
   "execution_count": 342,
   "id": "5768a3bf-2c73-4c56-82e9-0ac251424fd0",
   "metadata": {
    "tags": []
   },
   "outputs": [],
   "source": [
    "class miPhoneRemote(TVremote):\n",
    "    pass"
   ]
  },
  {
   "cell_type": "code",
   "execution_count": 344,
   "id": "07601ab0-4c21-426e-b6ec-5d322a4b6d40",
   "metadata": {
    "tags": []
   },
   "outputs": [
    {
     "ename": "TypeError",
     "evalue": "Can't instantiate abstract class miPhoneRemote with abstract method on",
     "output_type": "error",
     "traceback": [
      "\u001b[0;31m---------------------------------------------------------------------------\u001b[0m",
      "\u001b[0;31mTypeError\u001b[0m                                 Traceback (most recent call last)",
      "Cell \u001b[0;32mIn[344], line 1\u001b[0m\n\u001b[0;32m----> 1\u001b[0m mi \u001b[38;5;241m=\u001b[39m miPhoneRemote(\u001b[38;5;124m\"\u001b[39m\u001b[38;5;124mtv\u001b[39m\u001b[38;5;124m\"\u001b[39m)\n",
      "\u001b[0;31mTypeError\u001b[0m: Can't instantiate abstract class miPhoneRemote with abstract method on"
     ]
    }
   ],
   "source": [
    "mi = miPhoneRemote(\"tv\")"
   ]
  },
  {
   "cell_type": "code",
   "execution_count": 309,
   "id": "7d6d9617-34c0-4983-9d97-3557a78ed4b6",
   "metadata": {
    "tags": []
   },
   "outputs": [],
   "source": [
    "from abc import ABC,abstractmethod"
   ]
  },
  {
   "cell_type": "code",
   "execution_count": 322,
   "id": "a1a6938b-78f6-45d0-91a5-3ca9667dc932",
   "metadata": {
    "tags": []
   },
   "outputs": [],
   "source": [
    "from abc import ABC,abstractmethod\n",
    "\n",
    "class iNeuron(ABC):    \n",
    "    def __init__(self,name):\n",
    "        self.name = name\n",
    "        \n",
    "    def login(self):\n",
    "        print(\"logged in\")\n",
    "\n",
    "    def connect_to_DB(self,password):\n",
    "        print(\"connected db\")\n",
    "\n",
    "    def access_recording(self):\n",
    "        print(\"connected db\")\n",
    "    \n",
    "    @abstractmethod\n",
    "    def authorization(self):\n",
    "        pass"
   ]
  },
  {
   "cell_type": "code",
   "execution_count": 323,
   "id": "43b14dba-30a5-4eed-a758-7624ebe9dab6",
   "metadata": {
    "tags": []
   },
   "outputs": [],
   "source": [
    "class Student(iNeuron):\n",
    "    def authorization(self):\n",
    "        print(\"first we will do student authorization\")"
   ]
  },
  {
   "cell_type": "code",
   "execution_count": 324,
   "id": "187df609-a84d-4eac-a932-9804329726e6",
   "metadata": {
    "tags": []
   },
   "outputs": [],
   "source": [
    "class Mentor(iNeuron):\n",
    "    pass"
   ]
  },
  {
   "cell_type": "code",
   "execution_count": 319,
   "id": "95b3c3b4-5a75-48e6-b6d7-c38420671b99",
   "metadata": {
    "tags": []
   },
   "outputs": [],
   "source": [
    "s = Student(\"mayank\")"
   ]
  },
  {
   "cell_type": "code",
   "execution_count": 320,
   "id": "0e301f16-0625-448c-be2b-7bdaaba38b89",
   "metadata": {
    "tags": []
   },
   "outputs": [
    {
     "name": "stdout",
     "output_type": "stream",
     "text": [
      "first we will do student authorization\n"
     ]
    }
   ],
   "source": [
    "s.authorization()"
   ]
  },
  {
   "cell_type": "code",
   "execution_count": null,
   "id": "5fd28aad-cac6-4289-97f9-3fc7c9d70fc3",
   "metadata": {},
   "outputs": [],
   "source": []
  },
  {
   "cell_type": "code",
   "execution_count": null,
   "id": "2d71048a-c082-4aa0-8ec8-1d962a21d1e6",
   "metadata": {},
   "outputs": [],
   "source": []
  },
  {
   "cell_type": "code",
   "execution_count": 325,
   "id": "3c417300-691c-4b60-a203-11a5cc1c82a3",
   "metadata": {
    "tags": []
   },
   "outputs": [],
   "source": [
    "m = Mentor(\"mayank\")"
   ]
  },
  {
   "cell_type": "code",
   "execution_count": null,
   "id": "748babc0-6fd1-4bdc-a5b3-55dab163c8d0",
   "metadata": {},
   "outputs": [],
   "source": []
  },
  {
   "cell_type": "code",
   "execution_count": 327,
   "id": "4a05def3-f45a-402e-aff4-adff3afd194c",
   "metadata": {
    "tags": []
   },
   "outputs": [
    {
     "name": "stdout",
     "output_type": "stream",
     "text": [
      "connected db\n"
     ]
    }
   ],
   "source": [
    "m.connect_to_DB(\"000\")"
   ]
  },
  {
   "cell_type": "code",
   "execution_count": null,
   "id": "3d1aefbd-a529-4bf8-b3dd-d02ef57742f0",
   "metadata": {},
   "outputs": [],
   "source": []
  },
  {
   "cell_type": "code",
   "execution_count": null,
   "id": "be1c610e-faed-47ea-afe3-ccb01376c1e1",
   "metadata": {},
   "outputs": [],
   "source": []
  },
  {
   "cell_type": "code",
   "execution_count": null,
   "id": "8b8578ad-d806-4e15-8d8e-e0bf852a6a87",
   "metadata": {},
   "outputs": [],
   "source": []
  },
  {
   "cell_type": "code",
   "execution_count": null,
   "id": "bb4b1e06-1f29-441a-8064-e07e6a6d0bb6",
   "metadata": {},
   "outputs": [],
   "source": [
    "from abc import ABC, abstractmethod\n",
    "\n",
    "\n",
    "class Polygon(ABC):\n",
    "\n",
    "    @abstractmethod\n",
    "    def noofsides(self):\n",
    "        pass\n",
    "\n",
    "\n",
    "class Triangle(Polygon):\n",
    "\n",
    "    # overriding abstract method\n",
    "    def noofsides(self):\n",
    "        print(\"I have 3 sides\")\n",
    "\n",
    "\n",
    "class Pentagon(Polygon):\n",
    "\n",
    "    # overriding abstract method\n",
    "    def noofsides(self):\n",
    "        print(\"I have 5 sides\")\n",
    "\n",
    "\n",
    "class Hexagon(Polygon):\n",
    "\n",
    "    # overriding abstract method\n",
    "    def noofsides(self):\n",
    "        print(\"I have 6 sides\")\n",
    "\n",
    "\n",
    "class Quadrilateral(Polygon):\n",
    "\n",
    "    # overriding abstract method\n",
    "    def noofsides(self):\n",
    "        print(\"I have 4 sides\")\n"
   ]
  }
 ],
 "metadata": {
  "kernelspec": {
   "display_name": "Python 3 (ipykernel)",
   "language": "python",
   "name": "python3"
  },
  "language_info": {
   "codemirror_mode": {
    "name": "ipython",
    "version": 3
   },
   "file_extension": ".py",
   "mimetype": "text/x-python",
   "name": "python",
   "nbconvert_exporter": "python",
   "pygments_lexer": "ipython3",
   "version": "3.11.5"
  }
 },
 "nbformat": 4,
 "nbformat_minor": 5
}
