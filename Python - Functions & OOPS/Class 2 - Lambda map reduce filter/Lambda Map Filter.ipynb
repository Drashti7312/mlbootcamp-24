{
 "cells": [
  {
   "cell_type": "code",
   "execution_count": 1,
   "id": "1677e24e-b02d-4825-88cd-9bf9ba90f21b",
   "metadata": {
    "tags": []
   },
   "outputs": [
    {
     "name": "stdin",
     "output_type": "stream",
     "text": [
      " 3 4 5 6 7 8\n"
     ]
    }
   ],
   "source": [
    "name, *line = input().split()"
   ]
  },
  {
   "cell_type": "code",
   "execution_count": 2,
   "id": "5ea1181c-82f4-4cce-82e6-ce9c9abd7736",
   "metadata": {
    "tags": []
   },
   "outputs": [
    {
     "data": {
      "text/plain": [
       "'3'"
      ]
     },
     "execution_count": 2,
     "metadata": {},
     "output_type": "execute_result"
    }
   ],
   "source": [
    "name\n"
   ]
  },
  {
   "cell_type": "code",
   "execution_count": 3,
   "id": "d286b423-13da-4639-9ca0-d3271e387b54",
   "metadata": {
    "tags": []
   },
   "outputs": [
    {
     "data": {
      "text/plain": [
       "['4', '5', '6', '7', '8']"
      ]
     },
     "execution_count": 3,
     "metadata": {},
     "output_type": "execute_result"
    }
   ],
   "source": [
    "line"
   ]
  },
  {
   "cell_type": "code",
   "execution_count": 7,
   "id": "b3c66ca3-8eda-4e87-be1c-ac16f0f6b5b7",
   "metadata": {
    "tags": []
   },
   "outputs": [],
   "source": [
    "def fun1(name ,*args):\n",
    "    print(name)\n",
    "    print(args)\n",
    "    pass\n"
   ]
  },
  {
   "cell_type": "code",
   "execution_count": null,
   "id": "31b7f1ee-0a02-449b-be8b-84a8f7d6c22c",
   "metadata": {},
   "outputs": [],
   "source": []
  },
  {
   "cell_type": "code",
   "execution_count": 8,
   "id": "cd332e41-3ca3-403e-956e-2a3bb9eb71a2",
   "metadata": {
    "tags": []
   },
   "outputs": [
    {
     "name": "stdout",
     "output_type": "stream",
     "text": [
      "3\n",
      "(4, 5, 6, 7, 8, 9)\n"
     ]
    }
   ],
   "source": [
    "fun1(3,4,5,6,7,8,9)"
   ]
  },
  {
   "cell_type": "code",
   "execution_count": null,
   "id": "f4e75dd0-2dea-4402-aeaf-91692f15af43",
   "metadata": {},
   "outputs": [],
   "source": []
  },
  {
   "cell_type": "code",
   "execution_count": 9,
   "id": "32d36595-46ca-4147-a56a-f8289a6ca8e8",
   "metadata": {
    "tags": []
   },
   "outputs": [
    {
     "name": "stdout",
     "output_type": "stream",
     "text": [
      "False 3 4 5\n"
     ]
    }
   ],
   "source": [
    "x= 2,3,4,5         \n",
    "print(x==2,3,4,5) #sir can you please explain"
   ]
  },
  {
   "cell_type": "code",
   "execution_count": 12,
   "id": "52a6f444-f863-467b-82d0-8ef216df86e8",
   "metadata": {
    "tags": []
   },
   "outputs": [
    {
     "data": {
      "text/plain": [
       "tuple"
      ]
     },
     "execution_count": 12,
     "metadata": {},
     "output_type": "execute_result"
    }
   ],
   "source": [
    "type(x) "
   ]
  },
  {
   "cell_type": "code",
   "execution_count": 13,
   "id": "ce3f702f-4a07-41e1-adb8-32270558c07f",
   "metadata": {
    "tags": []
   },
   "outputs": [
    {
     "name": "stdout",
     "output_type": "stream",
     "text": [
      "True\n"
     ]
    }
   ],
   "source": [
    "print(x==(2,3,4,5))"
   ]
  },
  {
   "cell_type": "code",
   "execution_count": 11,
   "id": "50d3d0f6-170c-45c7-99a0-b35114ce6f7b",
   "metadata": {
    "tags": []
   },
   "outputs": [
    {
     "name": "stdout",
     "output_type": "stream",
     "text": [
      "3 4 5 False\n"
     ]
    }
   ],
   "source": [
    "print(3,4,5,7==9) "
   ]
  },
  {
   "cell_type": "code",
   "execution_count": null,
   "id": "f7c2477f-02dc-4ea6-bd91-0a460dcfcac0",
   "metadata": {},
   "outputs": [],
   "source": []
  },
  {
   "cell_type": "code",
   "execution_count": null,
   "id": "657018f9-55ef-4cb4-88b3-69bfc56c9b62",
   "metadata": {},
   "outputs": [],
   "source": []
  },
  {
   "cell_type": "code",
   "execution_count": null,
   "id": "940d7f58-d810-4079-a78b-738b3a0dcdb2",
   "metadata": {},
   "outputs": [],
   "source": []
  },
  {
   "cell_type": "markdown",
   "id": "059aed7c-fdd0-4c49-b319-a719c504e0cc",
   "metadata": {},
   "source": [
    "# Lambda Function"
   ]
  },
  {
   "cell_type": "code",
   "execution_count": null,
   "id": "bbc9ab82-fa1d-4a1e-907d-6c191d8c0773",
   "metadata": {},
   "outputs": [],
   "source": []
  },
  {
   "cell_type": "code",
   "execution_count": 14,
   "id": "1e5f80a6-848b-4b69-83f5-ac036b45cbd0",
   "metadata": {
    "tags": []
   },
   "outputs": [],
   "source": [
    "def square(x):\n",
    "    print(x*x)"
   ]
  },
  {
   "cell_type": "code",
   "execution_count": 15,
   "id": "775dd838-7a12-49b0-ad6e-2783002faa1b",
   "metadata": {
    "tags": []
   },
   "outputs": [
    {
     "name": "stdout",
     "output_type": "stream",
     "text": [
      "25\n"
     ]
    }
   ],
   "source": [
    "a = 5\n",
    "square(5)"
   ]
  },
  {
   "cell_type": "code",
   "execution_count": 16,
   "id": "77d4ffa3-9853-4de4-b4c2-7e11bd4dafbe",
   "metadata": {
    "tags": []
   },
   "outputs": [],
   "source": [
    "mySquareFunction = lambda x:x*x"
   ]
  },
  {
   "cell_type": "code",
   "execution_count": null,
   "id": "f6f4e411-e476-436c-bf52-6663f7676ee0",
   "metadata": {},
   "outputs": [],
   "source": []
  },
  {
   "cell_type": "code",
   "execution_count": 17,
   "id": "57a7300a-d8fb-410f-a479-6874a7fb6989",
   "metadata": {
    "tags": []
   },
   "outputs": [
    {
     "data": {
      "text/plain": [
       "25"
      ]
     },
     "execution_count": 17,
     "metadata": {},
     "output_type": "execute_result"
    }
   ],
   "source": [
    "mySquareFunction(5)"
   ]
  },
  {
   "cell_type": "code",
   "execution_count": null,
   "id": "933d116b-dab7-4aaf-a388-cf6a86bb2df4",
   "metadata": {},
   "outputs": [],
   "source": []
  },
  {
   "cell_type": "code",
   "execution_count": 18,
   "id": "e0370b9a-f5b6-4524-a023-97d6f78dac50",
   "metadata": {
    "tags": []
   },
   "outputs": [],
   "source": [
    "def cube(x):\n",
    "    print(x*x*x)"
   ]
  },
  {
   "cell_type": "code",
   "execution_count": 21,
   "id": "5cefaa05-742c-434b-bc6c-cc6789e382c6",
   "metadata": {
    "tags": []
   },
   "outputs": [],
   "source": [
    "cube2 = lambda x:x*x*x"
   ]
  },
  {
   "cell_type": "code",
   "execution_count": 22,
   "id": "9ce982c9-10c1-41bc-8e9a-8c97c66fa045",
   "metadata": {
    "tags": []
   },
   "outputs": [
    {
     "name": "stdout",
     "output_type": "stream",
     "text": [
      "125\n"
     ]
    }
   ],
   "source": [
    "cube2(5)\n",
    "cube(5)"
   ]
  },
  {
   "cell_type": "code",
   "execution_count": 23,
   "id": "0390be1a-58cb-4f24-a12f-c8705a01f012",
   "metadata": {
    "tags": []
   },
   "outputs": [
    {
     "name": "stdout",
     "output_type": "stream",
     "text": [
      "125\n"
     ]
    },
    {
     "data": {
      "text/plain": [
       "125"
      ]
     },
     "execution_count": 23,
     "metadata": {},
     "output_type": "execute_result"
    }
   ],
   "source": [
    "cube(5)\n",
    "cube2(5)"
   ]
  },
  {
   "cell_type": "code",
   "execution_count": 26,
   "id": "cbfad209-02bb-45a9-9e7e-02510a50ef32",
   "metadata": {
    "tags": []
   },
   "outputs": [],
   "source": [
    "myLambdaFunction = lambda x : abs(x)"
   ]
  },
  {
   "cell_type": "code",
   "execution_count": 27,
   "id": "feb5e337-32fc-4092-9370-2c9c7823472c",
   "metadata": {
    "tags": []
   },
   "outputs": [
    {
     "data": {
      "text/plain": [
       "5"
      ]
     },
     "execution_count": 27,
     "metadata": {},
     "output_type": "execute_result"
    }
   ],
   "source": [
    "myLambdaFunction(-5)"
   ]
  },
  {
   "cell_type": "code",
   "execution_count": 28,
   "id": "02e8710e-3553-4c34-a6de-0c9b68db34b5",
   "metadata": {
    "tags": []
   },
   "outputs": [],
   "source": [
    "myLambdaFunction2 = lambda a,b,c : a+b+c"
   ]
  },
  {
   "cell_type": "code",
   "execution_count": 29,
   "id": "74bd8d64-9f26-47bc-9616-6d4cda5bcd0e",
   "metadata": {
    "tags": []
   },
   "outputs": [
    {
     "data": {
      "text/plain": [
       "6"
      ]
     },
     "execution_count": 29,
     "metadata": {},
     "output_type": "execute_result"
    }
   ],
   "source": [
    "myLambdaFunction2(1,2,3)"
   ]
  },
  {
   "cell_type": "code",
   "execution_count": 30,
   "id": "b5bca5f4-9560-44e3-9287-6b237c5abfa3",
   "metadata": {
    "tags": []
   },
   "outputs": [
    {
     "ename": "TypeError",
     "evalue": "<lambda>() takes 3 positional arguments but 4 were given",
     "output_type": "error",
     "traceback": [
      "\u001b[0;31m---------------------------------------------------------------------------\u001b[0m",
      "\u001b[0;31mTypeError\u001b[0m                                 Traceback (most recent call last)",
      "Cell \u001b[0;32mIn[30], line 1\u001b[0m\n\u001b[0;32m----> 1\u001b[0m myLambdaFunction2(\u001b[38;5;241m1\u001b[39m,\u001b[38;5;241m2\u001b[39m,\u001b[38;5;241m3\u001b[39m,\u001b[38;5;241m4\u001b[39m)\n",
      "\u001b[0;31mTypeError\u001b[0m: <lambda>() takes 3 positional arguments but 4 were given"
     ]
    }
   ],
   "source": [
    "myLambdaFunction2(1,2,3,4)"
   ]
  },
  {
   "cell_type": "code",
   "execution_count": 31,
   "id": "af79bbcf-5e71-4057-ac94-52da0f580538",
   "metadata": {
    "tags": []
   },
   "outputs": [
    {
     "name": "stdout",
     "output_type": "stream",
     "text": [
      "<function <lambda> at 0x108a51bc0>\n"
     ]
    }
   ],
   "source": [
    "print(myLambdaFunction2)"
   ]
  },
  {
   "cell_type": "code",
   "execution_count": 32,
   "id": "f93d277b-f306-4b58-8fcd-d50b1f9bd3f0",
   "metadata": {
    "tags": []
   },
   "outputs": [],
   "source": [
    "myLambdaFunction3 = lambda x : print(x)"
   ]
  },
  {
   "cell_type": "code",
   "execution_count": 33,
   "id": "3e61f265-4212-4a7a-851d-080442d669e3",
   "metadata": {
    "tags": []
   },
   "outputs": [
    {
     "name": "stdout",
     "output_type": "stream",
     "text": [
      "4\n"
     ]
    }
   ],
   "source": [
    "value =  myLambdaFunction3(4)"
   ]
  },
  {
   "cell_type": "code",
   "execution_count": 36,
   "id": "de598b82-0d17-44c0-b4a3-67c1d4407c88",
   "metadata": {
    "tags": []
   },
   "outputs": [
    {
     "name": "stdout",
     "output_type": "stream",
     "text": [
      "None\n"
     ]
    }
   ],
   "source": [
    "print(value)"
   ]
  },
  {
   "cell_type": "code",
   "execution_count": 38,
   "id": "1f9ad656-486b-43bb-a2f2-9d415d9622e8",
   "metadata": {
    "tags": []
   },
   "outputs": [],
   "source": [
    "myLambdaFunction4 = lambda x : x"
   ]
  },
  {
   "cell_type": "code",
   "execution_count": null,
   "id": "e57b7d44-baea-4c94-8ea9-46f3d6b1aeb1",
   "metadata": {},
   "outputs": [],
   "source": []
  },
  {
   "cell_type": "code",
   "execution_count": 40,
   "id": "4cb8eb9f-eae0-49d8-9014-40536ff8ce18",
   "metadata": {
    "tags": []
   },
   "outputs": [],
   "source": [
    "myLambdaFunction5 = lambda *x : print(x)"
   ]
  },
  {
   "cell_type": "code",
   "execution_count": 41,
   "id": "a1741c86-a959-43e5-b162-6321f2883aaa",
   "metadata": {
    "tags": []
   },
   "outputs": [
    {
     "name": "stdout",
     "output_type": "stream",
     "text": [
      "(1, 2, 3, 4)\n"
     ]
    }
   ],
   "source": [
    "myLambdaFunction5(1,2,3,4)"
   ]
  },
  {
   "cell_type": "code",
   "execution_count": 39,
   "id": "995a83ab-b926-40f7-bddc-ee5413308334",
   "metadata": {
    "tags": []
   },
   "outputs": [
    {
     "name": "stdout",
     "output_type": "stream",
     "text": [
      "4\n"
     ]
    }
   ],
   "source": [
    "x  = lambda a : print(a*a)\n",
    "x(2)\n"
   ]
  },
  {
   "cell_type": "code",
   "execution_count": 45,
   "id": "225513a3-f87e-4d3b-831f-39b03c062426",
   "metadata": {
    "tags": []
   },
   "outputs": [
    {
     "name": "stdout",
     "output_type": "stream",
     "text": [
      "25\n"
     ]
    }
   ],
   "source": [
    "print((lambda x:x*x)(5))"
   ]
  },
  {
   "cell_type": "code",
   "execution_count": null,
   "id": "2d8af458-6e06-43d5-a15b-9a9fac10063c",
   "metadata": {},
   "outputs": [],
   "source": []
  },
  {
   "cell_type": "code",
   "execution_count": 46,
   "id": "7a94cfda-a759-4264-b4d4-bac047d1be44",
   "metadata": {
    "tags": []
   },
   "outputs": [
    {
     "name": "stdout",
     "output_type": "stream",
     "text": [
      "6\n"
     ]
    }
   ],
   "source": [
    "print((lambda a,b,c: a+b+c)(1,2,3))"
   ]
  },
  {
   "cell_type": "code",
   "execution_count": null,
   "id": "d9fde415-022b-403c-8616-b3c0226a3294",
   "metadata": {},
   "outputs": [],
   "source": []
  },
  {
   "cell_type": "code",
   "execution_count": null,
   "id": "a8bd1b29-31c5-4e79-9e22-095fe0922714",
   "metadata": {},
   "outputs": [],
   "source": [
    "# WAP to take users name and prints the first character using lambda function."
   ]
  },
  {
   "cell_type": "code",
   "execution_count": 47,
   "id": "5eab71cf-56b1-418f-91d4-bd225a8b0efb",
   "metadata": {
    "tags": []
   },
   "outputs": [
    {
     "name": "stdin",
     "output_type": "stream",
     "text": [
      "Enter your name mayank\n"
     ]
    },
    {
     "data": {
      "text/plain": [
       "'m'"
      ]
     },
     "execution_count": 47,
     "metadata": {},
     "output_type": "execute_result"
    }
   ],
   "source": [
    "name = input(\"Enter your name\")\n",
    "func_name = lambda str1:str1[0]\n",
    "func_name(name)"
   ]
  },
  {
   "cell_type": "code",
   "execution_count": 49,
   "id": "409b1208-7061-4aaa-92d0-cc3d9f47f285",
   "metadata": {
    "tags": []
   },
   "outputs": [
    {
     "name": "stdout",
     "output_type": "stream",
     "text": [
      "m\n"
     ]
    }
   ],
   "source": [
    "print((lambda str1:str1[0])(name))"
   ]
  },
  {
   "cell_type": "code",
   "execution_count": 52,
   "id": "157ec7eb-329c-4297-a547-43044f06027a",
   "metadata": {
    "tags": []
   },
   "outputs": [],
   "source": [
    "myLambdaFunction7 = lambda x : input()"
   ]
  },
  {
   "cell_type": "code",
   "execution_count": 55,
   "id": "14e775cf-4415-48ce-b327-2860e5899f30",
   "metadata": {
    "tags": []
   },
   "outputs": [
    {
     "name": "stdin",
     "output_type": "stream",
     "text": [
      " 10\n"
     ]
    },
    {
     "data": {
      "text/plain": [
       "'10'"
      ]
     },
     "execution_count": 55,
     "metadata": {},
     "output_type": "execute_result"
    }
   ],
   "source": [
    "myLambdaFunction7(5)"
   ]
  },
  {
   "cell_type": "code",
   "execution_count": null,
   "id": "2d298f65-6891-4fd2-b809-4d33c9513d3f",
   "metadata": {},
   "outputs": [],
   "source": []
  },
  {
   "cell_type": "code",
   "execution_count": null,
   "id": "9846d05a-d2a4-4ebf-bbe2-55df78e7ebb8",
   "metadata": {},
   "outputs": [],
   "source": []
  },
  {
   "cell_type": "markdown",
   "id": "4594d2d1-f90f-48bf-9004-67efe5279a7a",
   "metadata": {
    "tags": []
   },
   "source": [
    "# WAP to return which return true if number is even else return false"
   ]
  },
  {
   "cell_type": "code",
   "execution_count": null,
   "id": "3617fbfc-4032-4c51-a93e-f9b1ac7b9b4b",
   "metadata": {},
   "outputs": [],
   "source": [
    "def evenOrOdd(x):\n",
    "    if(x%2==0):\n",
    "        return True\n",
    "    else:\n",
    "        return False"
   ]
  },
  {
   "cell_type": "code",
   "execution_count": 58,
   "id": "6c9320f7-6480-49df-a831-35b2a87986d9",
   "metadata": {
    "tags": []
   },
   "outputs": [
    {
     "name": "stdin",
     "output_type": "stream",
     "text": [
      " mayank\n"
     ]
    },
    {
     "name": "stdout",
     "output_type": "stream",
     "text": [
      "m\n"
     ]
    }
   ],
   "source": [
    "a = input() \n",
    "print(( lambda a: a[0] )(a))"
   ]
  },
  {
   "cell_type": "code",
   "execution_count": 60,
   "id": "5ff0e797-8d94-47d9-9030-604668a40779",
   "metadata": {
    "tags": []
   },
   "outputs": [
    {
     "data": {
      "text/plain": [
       "False"
      ]
     },
     "execution_count": 60,
     "metadata": {},
     "output_type": "execute_result"
    }
   ],
   "source": [
    "odd_even =  lambda x: True if x%2==0 else False\n",
    "odd_even(5)"
   ]
  },
  {
   "cell_type": "code",
   "execution_count": null,
   "id": "f7907c1d-0da0-4766-8c3d-9ff4f5a76402",
   "metadata": {},
   "outputs": [],
   "source": [
    "ans = lambda number : True if number%2==0 else False"
   ]
  },
  {
   "cell_type": "code",
   "execution_count": null,
   "id": "5aea8bdb-61f8-4180-abfb-7da74ef1cc19",
   "metadata": {},
   "outputs": [],
   "source": [
    "ans2 = lambda number : number%2==0"
   ]
  },
  {
   "cell_type": "code",
   "execution_count": 63,
   "id": "abb09ecf-6bfa-45e9-b404-c8e1ff2313b8",
   "metadata": {
    "tags": []
   },
   "outputs": [
    {
     "name": "stdin",
     "output_type": "stream",
     "text": [
      "enter value 5\n"
     ]
    },
    {
     "data": {
      "text/plain": [
       "False"
      ]
     },
     "execution_count": 63,
     "metadata": {},
     "output_type": "execute_result"
    }
   ],
   "source": [
    "num = int(input(\"enter value\"))\n",
    "x = lambda num : True if num%2==0 else False\n",
    "x(num)"
   ]
  },
  {
   "cell_type": "code",
   "execution_count": 117,
   "id": "320b8a47-96a8-415c-835b-5f27e4b42c6a",
   "metadata": {
    "tags": []
   },
   "outputs": [],
   "source": [
    "from math import sqrt"
   ]
  },
  {
   "cell_type": "code",
   "execution_count": 118,
   "id": "8c287f02-a9a3-4315-9206-00b8292e5083",
   "metadata": {
    "tags": []
   },
   "outputs": [
    {
     "name": "stdout",
     "output_type": "stream",
     "text": [
      "5.0\n"
     ]
    }
   ],
   "source": [
    "print((lambda x:sqrt(x))(25))"
   ]
  },
  {
   "cell_type": "code",
   "execution_count": null,
   "id": "94703592-978b-4160-8c07-8efa89ec852a",
   "metadata": {},
   "outputs": [],
   "source": []
  },
  {
   "cell_type": "code",
   "execution_count": null,
   "id": "999cf388-0b3a-4a52-8e48-bc16350a3fc2",
   "metadata": {},
   "outputs": [],
   "source": []
  },
  {
   "cell_type": "code",
   "execution_count": null,
   "id": "510c7b3f-7b23-428e-951e-2f3df1d1eef7",
   "metadata": {},
   "outputs": [],
   "source": []
  },
  {
   "cell_type": "code",
   "execution_count": null,
   "id": "46468a98-fae8-4ed2-b4f9-8d60024b5aee",
   "metadata": {},
   "outputs": [],
   "source": []
  },
  {
   "cell_type": "code",
   "execution_count": null,
   "id": "b42f6f5c-0f19-46ec-9f3d-9e507ac88885",
   "metadata": {},
   "outputs": [],
   "source": [
    "# Restarting the kernel"
   ]
  },
  {
   "cell_type": "code",
   "execution_count": 3,
   "id": "09b37537-2265-40c5-b79c-f7d012f85c9c",
   "metadata": {
    "tags": []
   },
   "outputs": [],
   "source": [
    "def myFunction(value,function):\n",
    "    return function(value)"
   ]
  },
  {
   "cell_type": "code",
   "execution_count": 1,
   "id": "506db314-ea90-4771-a6e8-12ec5ba4ec3e",
   "metadata": {
    "tags": []
   },
   "outputs": [],
   "source": [
    "def square(number):\n",
    "    return number*number\n"
   ]
  },
  {
   "cell_type": "code",
   "execution_count": 4,
   "id": "939cd488-18de-4e50-88af-c0e5012e144d",
   "metadata": {
    "tags": []
   },
   "outputs": [
    {
     "data": {
      "text/plain": [
       "25"
      ]
     },
     "execution_count": 4,
     "metadata": {},
     "output_type": "execute_result"
    }
   ],
   "source": [
    "myFunction(5,square)"
   ]
  },
  {
   "cell_type": "code",
   "execution_count": 5,
   "id": "4c4bbd34-dd3b-40de-8012-8ec394c84af4",
   "metadata": {
    "tags": []
   },
   "outputs": [
    {
     "data": {
      "text/plain": [
       "100"
      ]
     },
     "execution_count": 5,
     "metadata": {},
     "output_type": "execute_result"
    }
   ],
   "source": [
    "myFunction(10,lambda x:x*x)"
   ]
  },
  {
   "cell_type": "code",
   "execution_count": 6,
   "id": "453fdd5a-778e-48b3-b267-e4a657d11ede",
   "metadata": {
    "tags": []
   },
   "outputs": [
    {
     "data": {
      "text/plain": [
       "1000"
      ]
     },
     "execution_count": 6,
     "metadata": {},
     "output_type": "execute_result"
    }
   ],
   "source": [
    "myFunction(10, lambda x:x**3)"
   ]
  },
  {
   "cell_type": "code",
   "execution_count": 7,
   "id": "bc088e32-7fd0-4b79-b98e-ce8092b48493",
   "metadata": {
    "tags": []
   },
   "outputs": [
    {
     "data": {
      "text/plain": [
       "10"
      ]
     },
     "execution_count": 7,
     "metadata": {},
     "output_type": "execute_result"
    }
   ],
   "source": [
    "myFunction(10, lambda x:abs(x))"
   ]
  },
  {
   "cell_type": "code",
   "execution_count": 8,
   "id": "3d44e1d2-f0a2-410a-9148-95c4b37bc03d",
   "metadata": {
    "tags": []
   },
   "outputs": [
    {
     "data": {
      "text/plain": [
       "10000"
      ]
     },
     "execution_count": 8,
     "metadata": {},
     "output_type": "execute_result"
    }
   ],
   "source": [
    "myFunction(10, lambda x:x**4)"
   ]
  },
  {
   "cell_type": "markdown",
   "id": "07ca3755-fa07-4a37-9c66-429ac7dace16",
   "metadata": {
    "tags": []
   },
   "source": [
    "# WAP to take input list of numbers from user 5, and square each number and store it back"
   ]
  },
  {
   "cell_type": "code",
   "execution_count": 11,
   "id": "2ab95bd4-1fe6-42ae-8e36-6658c16a10c4",
   "metadata": {
    "tags": []
   },
   "outputs": [
    {
     "name": "stdin",
     "output_type": "stream",
     "text": [
      "please enter number seperated by space 1 2 3 4 5\n"
     ]
    }
   ],
   "source": [
    "l1 = input(\"please enter number seperated by space\")\n"
   ]
  },
  {
   "cell_type": "code",
   "execution_count": 14,
   "id": "83352976-af0d-4ba0-9a78-1fd0e930cd1e",
   "metadata": {
    "tags": []
   },
   "outputs": [],
   "source": [
    "newList = []\n",
    "for number in l1.split():\n",
    "    newList.append(int(number))"
   ]
  },
  {
   "cell_type": "code",
   "execution_count": 15,
   "id": "62bc5ab9-33c8-4bf7-b81b-df5dcd413398",
   "metadata": {
    "tags": []
   },
   "outputs": [
    {
     "data": {
      "text/plain": [
       "[1, 2, 3, 4, 5]"
      ]
     },
     "execution_count": 15,
     "metadata": {},
     "output_type": "execute_result"
    }
   ],
   "source": [
    "newList"
   ]
  },
  {
   "cell_type": "code",
   "execution_count": 16,
   "id": "f47262a0-a899-4657-8951-75dc74b1e0e7",
   "metadata": {
    "tags": []
   },
   "outputs": [],
   "source": [
    "sqauredList =[]\n",
    "\n",
    "for eachNumber in newList:\n",
    "    sqauredList.append(eachNumber**2)"
   ]
  },
  {
   "cell_type": "code",
   "execution_count": 20,
   "id": "ed0c2267-db74-4525-984b-ed02cd1cf5e9",
   "metadata": {
    "tags": []
   },
   "outputs": [],
   "source": [
    "newList = sqauredList.copy()\n"
   ]
  },
  {
   "cell_type": "code",
   "execution_count": 21,
   "id": "3fb2591f-8eaa-4326-8f54-e173225cfd6c",
   "metadata": {
    "tags": []
   },
   "outputs": [
    {
     "data": {
      "text/plain": [
       "[1, 4, 9, 16, 25]"
      ]
     },
     "execution_count": 21,
     "metadata": {},
     "output_type": "execute_result"
    }
   ],
   "source": [
    "newList"
   ]
  },
  {
   "cell_type": "code",
   "execution_count": 22,
   "id": "c1a34606-b459-4a96-bf70-7dd39096f250",
   "metadata": {
    "tags": []
   },
   "outputs": [
    {
     "name": "stdin",
     "output_type": "stream",
     "text": [
      " 1 2 3\n"
     ]
    },
    {
     "data": {
      "text/plain": [
       "[1, 4, 9]"
      ]
     },
     "execution_count": 22,
     "metadata": {},
     "output_type": "execute_result"
    }
   ],
   "source": [
    "l1 = input()\n",
    "square = lambda x:x*x\n",
    "l2 = [square(int(i)) for i in l1.split(\" \")]\n",
    "l2"
   ]
  },
  {
   "cell_type": "code",
   "execution_count": null,
   "id": "e375b7e5-51f9-458a-952b-27f6b68de19e",
   "metadata": {},
   "outputs": [],
   "source": []
  },
  {
   "cell_type": "code",
   "execution_count": 23,
   "id": "4a54a4f6-4a27-4a19-8e17-5f335d99bc44",
   "metadata": {
    "tags": []
   },
   "outputs": [
    {
     "name": "stdin",
     "output_type": "stream",
     "text": [
      " 1 2 3\n"
     ]
    },
    {
     "name": "stdout",
     "output_type": "stream",
     "text": [
      "[1, 4, 9]\n"
     ]
    }
   ],
   "source": [
    "import math\n",
    "l = input()\n",
    "b = [int(math.pow(int(i),2)) for i in l.split()]\n",
    "print(b)"
   ]
  },
  {
   "cell_type": "code",
   "execution_count": null,
   "id": "2f704cbe-0acc-4bd8-a2ad-51fefd16db4c",
   "metadata": {},
   "outputs": [],
   "source": []
  },
  {
   "cell_type": "code",
   "execution_count": null,
   "id": "ce760ab7-35df-4656-88b2-106b05aa141d",
   "metadata": {},
   "outputs": [],
   "source": []
  },
  {
   "cell_type": "code",
   "execution_count": null,
   "id": "f91089a1-11d4-4fb0-89a5-21e1ca5edff3",
   "metadata": {},
   "outputs": [],
   "source": []
  },
  {
   "cell_type": "markdown",
   "id": "8a98b051-9f44-4288-84f6-b83596582ac3",
   "metadata": {},
   "source": [
    "# MAP"
   ]
  },
  {
   "cell_type": "code",
   "execution_count": 28,
   "id": "bf60aabb-8f8d-46f2-bd91-663ecb57ff6b",
   "metadata": {
    "tags": []
   },
   "outputs": [],
   "source": [
    "def cube(number):\n",
    "    return number * number*number"
   ]
  },
  {
   "cell_type": "code",
   "execution_count": 29,
   "id": "9f11eabc-0254-406f-b1a8-230e333613a2",
   "metadata": {
    "tags": []
   },
   "outputs": [],
   "source": [
    "myList = [1,2,3,4,5]"
   ]
  },
  {
   "cell_type": "code",
   "execution_count": 30,
   "id": "0e314325-e5c5-49ba-bdc4-608daca325ae",
   "metadata": {
    "tags": []
   },
   "outputs": [
    {
     "data": {
      "text/plain": [
       "[1, 8, 27, 64, 125]"
      ]
     },
     "execution_count": 30,
     "metadata": {},
     "output_type": "execute_result"
    }
   ],
   "source": [
    "list(map(cube,myList))"
   ]
  },
  {
   "cell_type": "code",
   "execution_count": null,
   "id": "1dc661ad-3431-4985-b85f-a2379579250e",
   "metadata": {},
   "outputs": [],
   "source": []
  },
  {
   "cell_type": "code",
   "execution_count": 31,
   "id": "82dfb32b-9a9e-413d-b79d-393053f08097",
   "metadata": {
    "tags": []
   },
   "outputs": [],
   "source": [
    "def absoluteValue(number):\n",
    "    return abs(number)"
   ]
  },
  {
   "cell_type": "code",
   "execution_count": 40,
   "id": "79f1f351-51c3-4a0d-8786-e013cff91ad5",
   "metadata": {
    "tags": []
   },
   "outputs": [],
   "source": [
    "list1 = [1,-2,-3,-4,5,6,7]"
   ]
  },
  {
   "cell_type": "code",
   "execution_count": 46,
   "id": "73a87cc8-5a57-4a06-adce-11fabad97bc6",
   "metadata": {
    "tags": []
   },
   "outputs": [],
   "source": [
    "mapoutput = list(map(absoluteValue,list1))"
   ]
  },
  {
   "cell_type": "code",
   "execution_count": 47,
   "id": "20263126-2de6-4a77-a44d-c30a28b1025b",
   "metadata": {
    "tags": []
   },
   "outputs": [
    {
     "data": {
      "text/plain": [
       "[1, 2, 3, 4, 5, 6, 7]"
      ]
     },
     "execution_count": 47,
     "metadata": {},
     "output_type": "execute_result"
    }
   ],
   "source": [
    "mapoutput"
   ]
  },
  {
   "cell_type": "code",
   "execution_count": null,
   "id": "7c1c72da-c67e-480b-8933-a20e449d84c5",
   "metadata": {},
   "outputs": [],
   "source": []
  },
  {
   "cell_type": "code",
   "execution_count": 48,
   "id": "4796729d-8ce4-46eb-837e-c6ff8e0d35f4",
   "metadata": {
    "tags": []
   },
   "outputs": [],
   "source": [
    "mapoutput2 = list(map(lambda x: x*x , [1,2,3,4,5]))"
   ]
  },
  {
   "cell_type": "code",
   "execution_count": 49,
   "id": "3ec1670d-0bdb-4d6c-bca4-e1765c30567d",
   "metadata": {
    "tags": []
   },
   "outputs": [
    {
     "data": {
      "text/plain": [
       "[1, 4, 9, 16, 25]"
      ]
     },
     "execution_count": 49,
     "metadata": {},
     "output_type": "execute_result"
    }
   ],
   "source": [
    "mapoutput2"
   ]
  },
  {
   "cell_type": "code",
   "execution_count": null,
   "id": "2c138a11-01f8-4519-ad22-e520bb6b4362",
   "metadata": {},
   "outputs": [],
   "source": []
  },
  {
   "cell_type": "code",
   "execution_count": 50,
   "id": "472ceee7-439c-4821-9297-29daf9d34d56",
   "metadata": {
    "tags": []
   },
   "outputs": [],
   "source": [
    "# WAP to remove vowels from a name\n"
   ]
  },
  {
   "cell_type": "code",
   "execution_count": 51,
   "id": "77f67fc8-9fea-4a46-8474-91bfec173592",
   "metadata": {
    "tags": []
   },
   "outputs": [],
   "source": [
    "name = \"mayank\""
   ]
  },
  {
   "cell_type": "code",
   "execution_count": 55,
   "id": "263d4801-704a-4f4c-a2ed-80181754aab0",
   "metadata": {
    "tags": []
   },
   "outputs": [],
   "source": [
    "def filter_vowel(alphabet):\n",
    "    vowels = \"aeiou\"\n",
    "    if(alphabet in vowels):\n",
    "        return False\n",
    "    else:\n",
    "        return True"
   ]
  },
  {
   "cell_type": "code",
   "execution_count": 58,
   "id": "42a1b7e5-4e77-4c5c-a81d-97528e29301e",
   "metadata": {
    "tags": []
   },
   "outputs": [
    {
     "data": {
      "text/plain": [
       "False"
      ]
     },
     "execution_count": 58,
     "metadata": {},
     "output_type": "execute_result"
    }
   ],
   "source": [
    "filter_vowel('a')"
   ]
  },
  {
   "cell_type": "code",
   "execution_count": 59,
   "id": "78f96b89-1b29-4f84-b062-3e8712159369",
   "metadata": {
    "tags": []
   },
   "outputs": [
    {
     "data": {
      "text/plain": [
       "True"
      ]
     },
     "execution_count": 59,
     "metadata": {},
     "output_type": "execute_result"
    }
   ],
   "source": [
    "filter_vowel('b')"
   ]
  },
  {
   "cell_type": "code",
   "execution_count": 57,
   "id": "2428e8de-fdf2-421a-8ab1-43270d216528",
   "metadata": {
    "tags": []
   },
   "outputs": [
    {
     "data": {
      "text/plain": [
       "[True, False, True, False, True, True]"
      ]
     },
     "execution_count": 57,
     "metadata": {},
     "output_type": "execute_result"
    }
   ],
   "source": [
    "list(map(filter_vowel,name))"
   ]
  },
  {
   "cell_type": "code",
   "execution_count": 60,
   "id": "3376e444-884f-442b-9815-ff13a4742de3",
   "metadata": {
    "tags": []
   },
   "outputs": [
    {
     "data": {
      "text/plain": [
       "('m', 'y', 'n', 'k')"
      ]
     },
     "execution_count": 60,
     "metadata": {},
     "output_type": "execute_result"
    }
   ],
   "source": [
    "tuple(filter(filter_vowel,name))"
   ]
  },
  {
   "cell_type": "code",
   "execution_count": null,
   "id": "b5d83502-4e10-4299-811c-0859ba2903bd",
   "metadata": {},
   "outputs": [],
   "source": []
  },
  {
   "cell_type": "code",
   "execution_count": 65,
   "id": "0669afec-39bb-40bc-a0be-8ec20054c317",
   "metadata": {
    "tags": []
   },
   "outputs": [
    {
     "data": {
      "text/plain": [
       "[0, 1, 4, 9, 16]"
      ]
     },
     "execution_count": 65,
     "metadata": {},
     "output_type": "execute_result"
    }
   ],
   "source": [
    "list(map(lambda x:x*x,[0,1,2,3,4]))"
   ]
  },
  {
   "cell_type": "code",
   "execution_count": null,
   "id": "1f3381bf-bb67-48e1-b125-3fc9bad5703f",
   "metadata": {},
   "outputs": [],
   "source": []
  },
  {
   "cell_type": "code",
   "execution_count": 64,
   "id": "3833262e-fb5e-4fa1-95f1-034ba347c9c3",
   "metadata": {
    "tags": []
   },
   "outputs": [
    {
     "data": {
      "text/plain": [
       "[1, 2, 3, 4]"
      ]
     },
     "execution_count": 64,
     "metadata": {},
     "output_type": "execute_result"
    }
   ],
   "source": [
    "list(filter(lambda x:x*x,[0,1,2,3,4]))"
   ]
  },
  {
   "cell_type": "code",
   "execution_count": 75,
   "id": "f6241e05-3ac8-48ae-b53d-dbb5fb31bb38",
   "metadata": {
    "tags": []
   },
   "outputs": [],
   "source": [
    "def yourFilterFunction(number):\n",
    "    return number + 1"
   ]
  },
  {
   "cell_type": "code",
   "execution_count": null,
   "id": "5f49d914-f3e2-46fb-aedd-ce763be66ded",
   "metadata": {},
   "outputs": [],
   "source": [
    "yourFilterFunction(0)\n",
    "yourFilterFunction(1)\n",
    "yourFilterFunction(2)"
   ]
  },
  {
   "cell_type": "code",
   "execution_count": 76,
   "id": "5f3b185f-c426-4d04-8c72-73daf13f39f3",
   "metadata": {
    "tags": []
   },
   "outputs": [
    {
     "data": {
      "text/plain": [
       "[0, 1, 2, 3]"
      ]
     },
     "execution_count": 76,
     "metadata": {},
     "output_type": "execute_result"
    }
   ],
   "source": [
    "list(filter(yourFilterFunction,[0,1,2,3]))"
   ]
  },
  {
   "cell_type": "markdown",
   "id": "4eea110c-4186-4179-8ca0-34e90d7f0267",
   "metadata": {},
   "source": [
    "so if I somehow can able to make that 0 in list to True by some operation then filter will be true for 0 right? still confused a bit"
   ]
  },
  {
   "cell_type": "code",
   "execution_count": null,
   "id": "f5718d84-f333-4c31-b1d7-44bd352d0ee0",
   "metadata": {},
   "outputs": [],
   "source": []
  },
  {
   "cell_type": "code",
   "execution_count": null,
   "id": "947d7f95-c596-4b4a-93db-392d1f3e1736",
   "metadata": {},
   "outputs": [],
   "source": []
  },
  {
   "cell_type": "markdown",
   "id": "ed90dcd3-9a61-439a-99f6-a491a3e9dc80",
   "metadata": {},
   "source": [
    "# Enumerate Function"
   ]
  },
  {
   "cell_type": "code",
   "execution_count": 77,
   "id": "cce996c1-fc86-40ba-8f11-5a9d1b221868",
   "metadata": {
    "tags": []
   },
   "outputs": [
    {
     "name": "stdout",
     "output_type": "stream",
     "text": [
      " index is 0 and elem is m\n",
      " index is 1 and elem is a\n",
      " index is 2 and elem is y\n",
      " index is 3 and elem is a\n",
      " index is 4 and elem is n\n",
      " index is 5 and elem is k\n"
     ]
    }
   ],
   "source": [
    "index = 0\n",
    "\n",
    "for elem in \"mayank\":\n",
    "    print (f\" index is {index} and elem is {elem}\")\n",
    "    index+=1"
   ]
  },
  {
   "cell_type": "code",
   "execution_count": 81,
   "id": "a80805ff-bef4-4991-84a9-4b30edf6de8e",
   "metadata": {
    "tags": []
   },
   "outputs": [
    {
     "data": {
      "text/plain": [
       "[(0, 'm'), (1, 'a'), (2, 'y'), (3, 'a'), (4, 'n'), (5, 'k')]"
      ]
     },
     "execution_count": 81,
     "metadata": {},
     "output_type": "execute_result"
    }
   ],
   "source": [
    "list(enumerate(\"mayank\")) # itarable of tupples"
   ]
  },
  {
   "cell_type": "code",
   "execution_count": 82,
   "id": "8d5658a2-6fe4-43d5-9ed7-3c414f5c6354",
   "metadata": {
    "tags": []
   },
   "outputs": [],
   "source": [
    "a,b = (1,2)"
   ]
  },
  {
   "cell_type": "code",
   "execution_count": 84,
   "id": "76b76689-81b0-4b30-a537-fbadbc81842d",
   "metadata": {
    "tags": []
   },
   "outputs": [
    {
     "data": {
      "text/plain": [
       "(1, 2)"
      ]
     },
     "execution_count": 84,
     "metadata": {},
     "output_type": "execute_result"
    }
   ],
   "source": [
    "a,b"
   ]
  },
  {
   "cell_type": "code",
   "execution_count": 85,
   "id": "ff8708ab-1493-4cd5-a43c-7574b7bd4204",
   "metadata": {
    "tags": []
   },
   "outputs": [
    {
     "name": "stdout",
     "output_type": "stream",
     "text": [
      " index is 0 and elem is m\n",
      " index is 1 and elem is a\n",
      " index is 2 and elem is y\n",
      " index is 3 and elem is a\n",
      " index is 4 and elem is n\n",
      " index is 5 and elem is k\n"
     ]
    }
   ],
   "source": [
    "for index,element in list(enumerate(\"mayank\")):\n",
    "    print (f\" index is {index} and elem is {element}\")"
   ]
  },
  {
   "cell_type": "code",
   "execution_count": 86,
   "id": "b16efb02-13b0-4dd1-ac51-c55d9c62b63d",
   "metadata": {
    "tags": []
   },
   "outputs": [
    {
     "data": {
      "text/plain": [
       "[(2, 'm'), (3, 'a'), (4, 'y'), (5, 'a'), (6, 'n'), (7, 'k')]"
      ]
     },
     "execution_count": 86,
     "metadata": {},
     "output_type": "execute_result"
    }
   ],
   "source": [
    "list(enumerate(\"mayank\"),)\n",
    "\n",
    "list(enumerate(\"mayank\",2))"
   ]
  },
  {
   "cell_type": "code",
   "execution_count": 87,
   "id": "11ed2805-c29f-4793-bad9-ab7668220647",
   "metadata": {
    "tags": []
   },
   "outputs": [
    {
     "name": "stdout",
     "output_type": "stream",
     "text": [
      " index is 1 and elem is m\n",
      " index is 2 and elem is a\n",
      " index is 3 and elem is y\n",
      " index is 4 and elem is a\n",
      " index is 5 and elem is n\n",
      " index is 6 and elem is k\n"
     ]
    }
   ],
   "source": [
    "enumerate\n",
    "\n",
    "for index,element in list(enumerate(\"mayank\",1)):\n",
    "    print (f\" index is {index} and elem is {element}\")"
   ]
  },
  {
   "cell_type": "code",
   "execution_count": 88,
   "id": "2cc8eeae-94e5-417a-8ca1-7ad3732344eb",
   "metadata": {
    "tags": []
   },
   "outputs": [
    {
     "name": "stdout",
     "output_type": "stream",
     "text": [
      " index is 1 and elem is m\n",
      " index is 2 and elem is a\n",
      " index is 3 and elem is y\n",
      " index is 4 and elem is a\n",
      " index is 5 and elem is n\n",
      " index is 6 and elem is k\n"
     ]
    }
   ],
   "source": [
    "for index,element in (enumerate(\"mayank\",1)):\n",
    "    print (f\" index is {index} and elem is {element}\")"
   ]
  },
  {
   "cell_type": "code",
   "execution_count": 89,
   "id": "9cb686cf-f92b-415c-ad02-0adcbaab44dc",
   "metadata": {
    "tags": []
   },
   "outputs": [
    {
     "data": {
      "text/plain": [
       "enumerate"
      ]
     },
     "execution_count": 89,
     "metadata": {},
     "output_type": "execute_result"
    }
   ],
   "source": [
    "type(enumerate(\"mayank\",1))"
   ]
  },
  {
   "cell_type": "code",
   "execution_count": null,
   "id": "31629707-c9ee-4f47-80b2-c77f1cb55248",
   "metadata": {},
   "outputs": [],
   "source": []
  },
  {
   "cell_type": "code",
   "execution_count": null,
   "id": "74a71760-51b1-444e-a276-467189241afd",
   "metadata": {},
   "outputs": [],
   "source": [
    "[ 1, 2,3,4,5]\n",
    "\n"
   ]
  },
  {
   "cell_type": "code",
   "execution_count": 90,
   "id": "a8c2c00b-9b57-43db-a326-9077bdbb233e",
   "metadata": {
    "tags": []
   },
   "outputs": [],
   "source": [
    "from functools import reduce"
   ]
  },
  {
   "cell_type": "code",
   "execution_count": 91,
   "id": "10cba3a1-90f5-4885-ac3d-e284a0a49826",
   "metadata": {
    "tags": []
   },
   "outputs": [],
   "source": [
    "def mySum(a,b):\n",
    "    return a+b"
   ]
  },
  {
   "cell_type": "code",
   "execution_count": 92,
   "id": "538608a3-3ee5-48e5-9442-3c7028d290d4",
   "metadata": {
    "tags": []
   },
   "outputs": [
    {
     "data": {
      "text/plain": [
       "15"
      ]
     },
     "execution_count": 92,
     "metadata": {},
     "output_type": "execute_result"
    }
   ],
   "source": [
    "reduce(mySum,[1,2,3,4,5])"
   ]
  },
  {
   "cell_type": "code",
   "execution_count": 93,
   "id": "ea8ad1c7-beb3-4433-8198-816be70c8ca9",
   "metadata": {
    "tags": []
   },
   "outputs": [
    {
     "data": {
      "text/plain": [
       "15"
      ]
     },
     "execution_count": 93,
     "metadata": {},
     "output_type": "execute_result"
    }
   ],
   "source": [
    "reduce(lambda a,b : a+b,[1,2,3,4,5])"
   ]
  },
  {
   "cell_type": "code",
   "execution_count": 95,
   "id": "05188f56-4e61-4ced-b2d6-10fa97a0fd5e",
   "metadata": {
    "tags": []
   },
   "outputs": [
    {
     "data": {
      "text/plain": [
       "200"
      ]
     },
     "execution_count": 95,
     "metadata": {},
     "output_type": "execute_result"
    }
   ],
   "source": [
    "reduce(lambda a,b : max(a,b),[1,2,200,4,5])"
   ]
  },
  {
   "cell_type": "code",
   "execution_count": 97,
   "id": "c033bffe-a461-46d6-a81b-abc0a2a68e09",
   "metadata": {
    "tags": []
   },
   "outputs": [
    {
     "data": {
      "text/plain": [
       "[1, 2, 31]"
      ]
     },
     "execution_count": 97,
     "metadata": {},
     "output_type": "execute_result"
    }
   ],
   "source": [
    "list(set([1,2,31,1,2]))"
   ]
  },
  {
   "cell_type": "code",
   "execution_count": null,
   "id": "adf834c0-0cc6-4b32-8ae5-7c71d4a388fc",
   "metadata": {},
   "outputs": [],
   "source": []
  },
  {
   "cell_type": "markdown",
   "id": "d187e459-2c78-4555-84ea-78b0699c2c0f",
   "metadata": {},
   "source": [
    "Write a Python program to check if a list is a subset of another list.\n",
    "\n",
    "Test case: For the lists [1, 2, 3] and [1, 2, 3, 4, 5], the first list is a subset of the second list."
   ]
  },
  {
   "cell_type": "code",
   "execution_count": 105,
   "id": "b9fff95c-1bed-4cde-a63d-c7836fe0808d",
   "metadata": {
    "tags": []
   },
   "outputs": [],
   "source": [
    "list1 = [1,1,1,1,1,1,1,1] \n",
    "list2= [1,2,3,4,5]"
   ]
  },
  {
   "cell_type": "code",
   "execution_count": 106,
   "id": "b359e08c-5111-4992-8113-da2a03d9c993",
   "metadata": {
    "tags": []
   },
   "outputs": [
    {
     "name": "stdout",
     "output_type": "stream",
     "text": [
      "list is subset\n"
     ]
    }
   ],
   "source": [
    "ans = True\n",
    "for item in list1:\n",
    "    if item in list2:\n",
    "        continue\n",
    "    else:\n",
    "        ans = False\n",
    "        break\n",
    "        \n",
    "\n",
    "if(ans):\n",
    "    print(\"list is subset\")\n",
    "else:\n",
    "    print (\"not a subset\") \n",
    "        "
   ]
  },
  {
   "cell_type": "code",
   "execution_count": null,
   "id": "8f2d5be7-e8b4-4c8a-9c1d-898992358a27",
   "metadata": {},
   "outputs": [],
   "source": []
  },
  {
   "cell_type": "code",
   "execution_count": null,
   "id": "7398b49a-2e40-498a-8a62-08303b2a8ed1",
   "metadata": {},
   "outputs": [],
   "source": []
  },
  {
   "cell_type": "code",
   "execution_count": 104,
   "id": "bedb3b10-3422-4dc5-a843-857631169824",
   "metadata": {
    "tags": []
   },
   "outputs": [
    {
     "data": {
      "text/plain": [
       "False"
      ]
     },
     "execution_count": 104,
     "metadata": {},
     "output_type": "execute_result"
    }
   ],
   "source": [
    "list1 in list2"
   ]
  },
  {
   "cell_type": "code",
   "execution_count": null,
   "id": "68988d84-a4df-41d2-b9ec-db2689d38c33",
   "metadata": {},
   "outputs": [],
   "source": []
  },
  {
   "cell_type": "code",
   "execution_count": null,
   "id": "e0da596e-487a-4936-b1ef-53bcc4340c6a",
   "metadata": {},
   "outputs": [],
   "source": []
  },
  {
   "cell_type": "code",
   "execution_count": null,
   "id": "78de4ccf-0089-4376-a962-76b0b14a8106",
   "metadata": {},
   "outputs": [],
   "source": []
  },
  {
   "cell_type": "markdown",
   "id": "152b8891-f182-4efa-a2c6-d43986334ed5",
   "metadata": {
    "tags": []
   },
   "source": [
    "Write a Python program to find the maximum difference between two consecutive elements in a list.\n",
    "\n",
    "Test case: For the list [1, 7, 3, 10, 5], the maximum difference between two consecutive elements should be 7."
   ]
  },
  {
   "cell_type": "code",
   "execution_count": 109,
   "id": "d2e89fd6-d938-4bc7-b793-bb693a475e1b",
   "metadata": {
    "tags": []
   },
   "outputs": [
    {
     "name": "stdout",
     "output_type": "stream",
     "text": [
      "7\n"
     ]
    }
   ],
   "source": [
    "l1 =  [1, 7, 3, 10, 5]\n",
    "\n",
    "ans = l1[1]-l1[0]\n",
    "\n",
    "for a in list(range(1,len(l1))):\n",
    "    smallAns = l1[a] - l1[a-1]\n",
    "    ans = max(ans,smallAns)\n",
    "\n",
    "print(ans)"
   ]
  },
  {
   "cell_type": "code",
   "execution_count": null,
   "id": "b1f385d8-f431-41a7-81ce-aa04431f3438",
   "metadata": {},
   "outputs": [],
   "source": []
  },
  {
   "cell_type": "code",
   "execution_count": null,
   "id": "b93cd3e4-5357-4c8c-9138-ff0c676a9233",
   "metadata": {},
   "outputs": [],
   "source": []
  },
  {
   "cell_type": "code",
   "execution_count": null,
   "id": "aa5ccb2f-cf53-490d-b3f3-03a8129bd807",
   "metadata": {},
   "outputs": [],
   "source": []
  },
  {
   "cell_type": "code",
   "execution_count": 122,
   "id": "4b933785-bafc-480f-a662-520f95718695",
   "metadata": {
    "tags": []
   },
   "outputs": [
    {
     "name": "stdout",
     "output_type": "stream",
     "text": [
      "5.0\n",
      "5.0\n"
     ]
    }
   ],
   "source": [
    "import math\n",
    "print((lambda x: math.sqrt(x))(25))\n",
    "     \n",
    "print((lambda x:sqrt(x))(25))"
   ]
  },
  {
   "cell_type": "code",
   "execution_count": 123,
   "id": "06080a50-f159-4728-adc4-91ffd81a4a55",
   "metadata": {
    "tags": []
   },
   "outputs": [
    {
     "name": "stdout",
     "output_type": "stream",
     "text": [
      "the answer is 5.0\n"
     ]
    }
   ],
   "source": [
    "import math\n",
    "print(\"the answer is\" , (lambda x: math.sqrt(x))(25))\n"
   ]
  },
  {
   "cell_type": "code",
   "execution_count": null,
   "id": "8104000f-e82f-4760-8dcb-1b41f0fe2e68",
   "metadata": {},
   "outputs": [],
   "source": []
  },
  {
   "cell_type": "code",
   "execution_count": null,
   "id": "03d0a90b-bbcb-4b61-b816-1a75af619390",
   "metadata": {},
   "outputs": [],
   "source": []
  },
  {
   "cell_type": "code",
   "execution_count": null,
   "id": "9891033e-1222-43b7-aab6-b45de6b27810",
   "metadata": {},
   "outputs": [],
   "source": []
  },
  {
   "cell_type": "code",
   "execution_count": null,
   "id": "21fa5ff1-1a01-4e2c-a25b-b9b9a7584523",
   "metadata": {},
   "outputs": [],
   "source": [
    "a=[1,4,7,10,34]\n",
    "dif=a[1]-a[0]\n",
    "for ele in range(1,len(a)-4):\n",
    "    if a[ele+4]-a[ele] > dif:\n",
    "        "
   ]
  },
  {
   "cell_type": "code",
   "execution_count": null,
   "id": "0ca15b2f-5db3-4963-9b1a-68b578a31ebc",
   "metadata": {},
   "outputs": [],
   "source": []
  }
 ],
 "metadata": {
  "kernelspec": {
   "display_name": "Python 3 (ipykernel)",
   "language": "python",
   "name": "python3"
  },
  "language_info": {
   "codemirror_mode": {
    "name": "ipython",
    "version": 3
   },
   "file_extension": ".py",
   "mimetype": "text/x-python",
   "name": "python",
   "nbconvert_exporter": "python",
   "pygments_lexer": "ipython3",
   "version": "3.11.5"
  }
 },
 "nbformat": 4,
 "nbformat_minor": 5
}
