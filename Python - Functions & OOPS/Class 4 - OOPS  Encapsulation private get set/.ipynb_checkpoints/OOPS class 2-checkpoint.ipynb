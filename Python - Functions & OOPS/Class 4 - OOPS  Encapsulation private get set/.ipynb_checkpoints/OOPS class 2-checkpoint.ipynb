{
 "cells": [
  {
   "cell_type": "markdown",
   "id": "50a1ee52-f4d9-4207-a728-69edd396ab34",
   "metadata": {},
   "source": [
    "# We cannot define multiple constructors in python, the latest one overrides the old one."
   ]
  },
  {
   "cell_type": "code",
   "execution_count": 109,
   "id": "45d9e414-1db2-4e0b-8adc-ab1b132edcd7",
   "metadata": {
    "tags": []
   },
   "outputs": [],
   "source": [
    "class student:\n",
    "\n",
    "    def __init__(self):\n",
    "        self.__math = 0\n",
    "        self.science = 0\n",
    "        \n",
    "        \n",
    "    def __init__(self, math, science):\n",
    "        self.math = math\n",
    "        self.science = science"
   ]
  },
  {
   "cell_type": "code",
   "execution_count": 3,
   "id": "7b3010e7-5802-40f3-9ccf-8ceb12e370ad",
   "metadata": {
    "tags": []
   },
   "outputs": [
    {
     "ename": "TypeError",
     "evalue": "student.__init__() missing 2 required positional arguments: 'math' and 'science'",
     "output_type": "error",
     "traceback": [
      "\u001b[0;31m---------------------------------------------------------------------------\u001b[0m",
      "\u001b[0;31mTypeError\u001b[0m                                 Traceback (most recent call last)",
      "Cell \u001b[0;32mIn[3], line 2\u001b[0m\n\u001b[1;32m      1\u001b[0m s2 \u001b[38;5;241m=\u001b[39m student(\u001b[38;5;241m100\u001b[39m,\u001b[38;5;241m95\u001b[39m)\n\u001b[0;32m----> 2\u001b[0m s1 \u001b[38;5;241m=\u001b[39m student()\n",
      "\u001b[0;31mTypeError\u001b[0m: student.__init__() missing 2 required positional arguments: 'math' and 'science'"
     ]
    }
   ],
   "source": [
    "\n",
    "s2 = student(100,95)\n",
    "s1 = student()"
   ]
  },
  {
   "cell_type": "code",
   "execution_count": null,
   "id": "99a8337c-e0a7-46ee-af45-506573281066",
   "metadata": {},
   "outputs": [],
   "source": []
  },
  {
   "cell_type": "code",
   "execution_count": 4,
   "id": "022ebaa8-0534-431f-8d10-99931aa15e72",
   "metadata": {
    "tags": []
   },
   "outputs": [],
   "source": [
    "def sum(a,b):\n",
    "    return a+b"
   ]
  },
  {
   "cell_type": "code",
   "execution_count": 5,
   "id": "50f2e2c6-9b6c-4254-a685-a78ff25ffea6",
   "metadata": {
    "tags": []
   },
   "outputs": [
    {
     "data": {
      "text/plain": [
       "5"
      ]
     },
     "execution_count": 5,
     "metadata": {},
     "output_type": "execute_result"
    }
   ],
   "source": [
    "sum(2,3)"
   ]
  },
  {
   "cell_type": "code",
   "execution_count": 6,
   "id": "6d43ffa4-8304-4bd5-8c50-a5d73ace64cf",
   "metadata": {
    "tags": []
   },
   "outputs": [],
   "source": [
    "def sum(a,b,c):\n",
    "    return a+b+c"
   ]
  },
  {
   "cell_type": "code",
   "execution_count": 7,
   "id": "1e214dd5-9743-412d-bf53-551970670099",
   "metadata": {
    "tags": []
   },
   "outputs": [
    {
     "ename": "TypeError",
     "evalue": "sum() missing 1 required positional argument: 'c'",
     "output_type": "error",
     "traceback": [
      "\u001b[0;31m---------------------------------------------------------------------------\u001b[0m",
      "\u001b[0;31mTypeError\u001b[0m                                 Traceback (most recent call last)",
      "Cell \u001b[0;32mIn[7], line 1\u001b[0m\n\u001b[0;32m----> 1\u001b[0m \u001b[38;5;28msum\u001b[39m(\u001b[38;5;241m2\u001b[39m,\u001b[38;5;241m3\u001b[39m)\n",
      "\u001b[0;31mTypeError\u001b[0m: sum() missing 1 required positional argument: 'c'"
     ]
    }
   ],
   "source": [
    "sum(2,3)"
   ]
  },
  {
   "cell_type": "code",
   "execution_count": null,
   "id": "67c81de4-4143-41b5-b7a3-adce7111db44",
   "metadata": {},
   "outputs": [],
   "source": []
  },
  {
   "cell_type": "markdown",
   "id": "6a2a3135-e284-487b-ba6b-c68306de58a6",
   "metadata": {
    "tags": []
   },
   "source": [
    "# Part 2 of OOPS"
   ]
  },
  {
   "cell_type": "markdown",
   "id": "6bd37fc1-3fdb-4995-ad10-d03931f432fb",
   "metadata": {
    "tags": []
   },
   "source": [
    "# We have to define a class Fraction which supports all the operation of Fraction and give user the chance to define fraction "
   ]
  },
  {
   "cell_type": "code",
   "execution_count": 10,
   "id": "073055c4-d7a4-40a4-81e8-1cddc4ee84f6",
   "metadata": {
    "tags": []
   },
   "outputs": [],
   "source": [
    "# Fraction Class"
   ]
  },
  {
   "cell_type": "code",
   "execution_count": 13,
   "id": "46554144-23b3-410c-a4f9-7b52bf5e9335",
   "metadata": {
    "tags": []
   },
   "outputs": [],
   "source": [
    "a = 5/8"
   ]
  },
  {
   "cell_type": "code",
   "execution_count": 80,
   "id": "4b7d2f0d-6053-4f74-8770-af5dfbe8f633",
   "metadata": {
    "tags": []
   },
   "outputs": [],
   "source": [
    "def sum(a,b):\n",
    "    return a+b"
   ]
  },
  {
   "cell_type": "code",
   "execution_count": null,
   "id": "956a2ad2-745c-4fbd-beb2-8f7b58dd8f7e",
   "metadata": {},
   "outputs": [],
   "source": []
  },
  {
   "cell_type": "code",
   "execution_count": null,
   "id": "55743a96-35cc-4a1f-8a09-d2df8c107d23",
   "metadata": {},
   "outputs": [],
   "source": []
  },
  {
   "cell_type": "code",
   "execution_count": null,
   "id": "ff6ab496-1485-4572-89d1-9c0605b4136c",
   "metadata": {},
   "outputs": [],
   "source": []
  },
  {
   "cell_type": "code",
   "execution_count": 24,
   "id": "7f5cd5c5-7671-4967-83f0-0617a32c7491",
   "metadata": {
    "tags": []
   },
   "outputs": [],
   "source": [
    "class Fraction:\n",
    "    def __init__(self,num=1,den=1): # constructor\n",
    "        \n",
    "        self.num = num\n",
    "        self.den = den\n",
    "        \n",
    "        if(den==0):\n",
    "            print (\"Denominator cannot be equal to 0\")\n",
    "            self.den=1\n",
    "    \n",
    "    def __str__(self):   ## called when print is called\n",
    "        return \"{}/{}\".format(self.num,self.den)\n",
    "\n",
    "    def __add__(self,arg2):\n",
    "        if (type(arg2) ==int):\n",
    "            f2 = Fraction(arg2,1)\n",
    "            arg2=f2\n",
    "    \n",
    "        self.num = self.num * arg2.den + arg2.num * self.den\n",
    "        self.den = self.den * arg2.den\n",
    "        return \"{}/{}\".format(self.num,self.den)\n",
    "\n",
    "    def __sub__(self,arg2):\n",
    "        self.num = self.num * arg2.den - arg2.num * self.den\n",
    "        self.den = self.den * arg2.den\n",
    "        return \"{}/{}\".format(self.num,self.den)\n",
    "    \n",
    "    def __mul__(self,arg2):\n",
    "        self.num = self.num * arg2.num \n",
    "        self.den = self.den * arg2.den\n",
    "        return \"{}/{}\".format(self.num,self.den)\n",
    "    \n",
    "    def __truediv__(self,arg2):\n",
    "        self.num = self.num * arg2.den \n",
    "        self.den = self.den * arg2.num\n",
    "        self.__simplify()\n",
    "        return \"{}/{}\".format(self.num,self.den)\n",
    "    \n",
    "    def __simplify(self):\n",
    "        pass\n",
    "        ## get the GCD of numerator and denominator and return the ans after dividing by it.\n",
    "        # make sure that all operation above then return the ans after simplifying\n",
    "        \n",
    "    def __pow__(firstOperand, secondOperand):\n",
    "         return \"{}/{}\".format(self.num,self.den)\n",
    "\n",
    "        \n",
    "    def myAddFunction(self,arg2):\n",
    "        self.num = self.num * arg2.den + arg2.num * self.den\n",
    "        self.den = self.den * arg2.den\n",
    "        return \"{}/{}\".format(self.num,self.den)\n",
    "    \n",
    "    def addIntegerToFraction(self,arg2):\n",
    "        return f1+ f2\n"
   ]
  },
  {
   "cell_type": "code",
   "execution_count": 21,
   "id": "d8cd17a2-af8d-4cc9-806c-60f62371fb58",
   "metadata": {
    "tags": []
   },
   "outputs": [],
   "source": [
    "f1 = Fraction(3,5)\n",
    "f2 = Fraction(4,5)"
   ]
  },
  {
   "cell_type": "code",
   "execution_count": 19,
   "id": "b4d611b0-a01d-4e6c-89dc-c8ad4d662b6a",
   "metadata": {
    "tags": []
   },
   "outputs": [
    {
     "data": {
      "text/plain": [
       "'35/25'"
      ]
     },
     "execution_count": 19,
     "metadata": {},
     "output_type": "execute_result"
    }
   ],
   "source": [
    "f1.addIntegerToFraction(5)"
   ]
  },
  {
   "cell_type": "code",
   "execution_count": 22,
   "id": "7e301b12-8dd3-46e8-87d2-4a39a90e4f73",
   "metadata": {
    "tags": []
   },
   "outputs": [
    {
     "data": {
      "text/plain": [
       "'28/5'"
      ]
     },
     "execution_count": 22,
     "metadata": {},
     "output_type": "execute_result"
    }
   ],
   "source": [
    "f1 + 5"
   ]
  },
  {
   "cell_type": "code",
   "execution_count": null,
   "id": "8d9fbeed-6df2-458c-adc4-22b50f993b54",
   "metadata": {
    "tags": []
   },
   "outputs": [],
   "source": []
  },
  {
   "cell_type": "code",
   "execution_count": 12,
   "id": "541c718e-4742-4f0b-82da-73f348f94d53",
   "metadata": {
    "tags": []
   },
   "outputs": [],
   "source": [
    "f3 = Fraction(2,10)"
   ]
  },
  {
   "cell_type": "code",
   "execution_count": 13,
   "id": "f4f218f4-9f67-4a35-b076-23d2c9fe3313",
   "metadata": {
    "tags": []
   },
   "outputs": [
    {
     "data": {
      "text/plain": [
       "'52/10'"
      ]
     },
     "execution_count": 13,
     "metadata": {},
     "output_type": "execute_result"
    }
   ],
   "source": [
    "f3 + 5"
   ]
  },
  {
   "cell_type": "code",
   "execution_count": 83,
   "id": "baf9b18f-7295-4572-b28f-30df58c8f924",
   "metadata": {
    "tags": []
   },
   "outputs": [
    {
     "ename": "TypeError",
     "evalue": "'>' not supported between instances of 'Fraction' and 'Fraction'",
     "output_type": "error",
     "traceback": [
      "\u001b[0;31m---------------------------------------------------------------------------\u001b[0m",
      "\u001b[0;31mTypeError\u001b[0m                                 Traceback (most recent call last)",
      "Cell \u001b[0;32mIn[83], line 1\u001b[0m\n\u001b[0;32m----> 1\u001b[0m f1 \u001b[38;5;241m>\u001b[39m f2\n",
      "\u001b[0;31mTypeError\u001b[0m: '>' not supported between instances of 'Fraction' and 'Fraction'"
     ]
    }
   ],
   "source": [
    "f1 > f2"
   ]
  },
  {
   "cell_type": "code",
   "execution_count": 130,
   "id": "ce21b70f-0e74-4807-bc42-0eaff318679b",
   "metadata": {
    "tags": []
   },
   "outputs": [
    {
     "data": {
      "text/plain": [
       "3"
      ]
     },
     "execution_count": 130,
     "metadata": {},
     "output_type": "execute_result"
    }
   ],
   "source": [
    "f1.num "
   ]
  },
  {
   "cell_type": "code",
   "execution_count": 131,
   "id": "1d48cde3-e144-427a-9355-a11863ab8e22",
   "metadata": {
    "tags": []
   },
   "outputs": [
    {
     "data": {
      "text/plain": [
       "4"
      ]
     },
     "execution_count": 131,
     "metadata": {},
     "output_type": "execute_result"
    }
   ],
   "source": [
    "f2.num\n"
   ]
  },
  {
   "cell_type": "code",
   "execution_count": null,
   "id": "977526f7-baad-490a-b077-54dd28ffab20",
   "metadata": {},
   "outputs": [],
   "source": []
  },
  {
   "cell_type": "code",
   "execution_count": null,
   "id": "29348216-efb7-44d3-8860-e4da9a34c174",
   "metadata": {},
   "outputs": [],
   "source": []
  },
  {
   "cell_type": "code",
   "execution_count": 67,
   "id": "16a4cc8e-7b43-4d5c-9da1-97d26a62ab77",
   "metadata": {
    "tags": []
   },
   "outputs": [],
   "source": [
    "f1 = Fraction(3,5)\n",
    "f2 = Fraction(4,5)"
   ]
  },
  {
   "cell_type": "code",
   "execution_count": 50,
   "id": "293d5686-da2b-41da-a359-9bb6ad420c5e",
   "metadata": {
    "tags": []
   },
   "outputs": [
    {
     "name": "stdout",
     "output_type": "stream",
     "text": [
      "3/5\n"
     ]
    }
   ],
   "source": [
    "print(f1)"
   ]
  },
  {
   "cell_type": "code",
   "execution_count": 51,
   "id": "33d38d95-96ce-4060-a434-714cdb46b25f",
   "metadata": {
    "tags": []
   },
   "outputs": [
    {
     "name": "stdout",
     "output_type": "stream",
     "text": [
      "4/5\n"
     ]
    }
   ],
   "source": [
    "print(f2)"
   ]
  },
  {
   "cell_type": "code",
   "execution_count": 34,
   "id": "d53d1d7c-63ef-4790-a3c1-8e4e76fbe4fc",
   "metadata": {
    "tags": []
   },
   "outputs": [
    {
     "data": {
      "text/plain": [
       "'mayank'"
      ]
     },
     "execution_count": 34,
     "metadata": {},
     "output_type": "execute_result"
    }
   ],
   "source": [
    "\"may\"+\"ank\""
   ]
  },
  {
   "cell_type": "code",
   "execution_count": 35,
   "id": "2dab47c8-2a09-4c30-b350-2128b8430635",
   "metadata": {
    "tags": []
   },
   "outputs": [
    {
     "data": {
      "text/plain": [
       "10"
      ]
     },
     "execution_count": 35,
     "metadata": {},
     "output_type": "execute_result"
    }
   ],
   "source": [
    "5+5"
   ]
  },
  {
   "cell_type": "code",
   "execution_count": 36,
   "id": "f06e0284-8a0c-4d93-b2f1-952c854dbe4d",
   "metadata": {
    "tags": []
   },
   "outputs": [
    {
     "data": {
      "text/plain": [
       "[1, 2, 3, 4]"
      ]
     },
     "execution_count": 36,
     "metadata": {},
     "output_type": "execute_result"
    }
   ],
   "source": [
    "[1,2]+[3,4]"
   ]
  },
  {
   "cell_type": "code",
   "execution_count": 37,
   "id": "b1540a8c-0111-4078-88bf-0009b6c6c815",
   "metadata": {
    "tags": []
   },
   "outputs": [
    {
     "ename": "TypeError",
     "evalue": "unsupported operand type(s) for +: 'set' and 'set'",
     "output_type": "error",
     "traceback": [
      "\u001b[0;31m---------------------------------------------------------------------------\u001b[0m",
      "\u001b[0;31mTypeError\u001b[0m                                 Traceback (most recent call last)",
      "Cell \u001b[0;32mIn[37], line 1\u001b[0m\n\u001b[0;32m----> 1\u001b[0m {\u001b[38;5;241m1\u001b[39m,\u001b[38;5;241m2\u001b[39m} \u001b[38;5;241m+\u001b[39m {\u001b[38;5;241m2\u001b[39m,\u001b[38;5;241m3\u001b[39m}\n",
      "\u001b[0;31mTypeError\u001b[0m: unsupported operand type(s) for +: 'set' and 'set'"
     ]
    }
   ],
   "source": [
    "{1,2} + {2,3}"
   ]
  },
  {
   "cell_type": "code",
   "execution_count": 72,
   "id": "11e17c1c-6b54-4e0f-89c4-bf1a5c2bc1ee",
   "metadata": {
    "tags": []
   },
   "outputs": [
    {
     "name": "stdout",
     "output_type": "stream",
     "text": [
      "35/25\n"
     ]
    }
   ],
   "source": [
    "print(f1)"
   ]
  },
  {
   "cell_type": "code",
   "execution_count": 58,
   "id": "923dcc46-5bf8-4e7e-ab55-5ccb0b73dd3a",
   "metadata": {
    "tags": []
   },
   "outputs": [
    {
     "name": "stdout",
     "output_type": "stream",
     "text": [
      "3\n"
     ]
    }
   ],
   "source": [
    "print(f1.num)"
   ]
  },
  {
   "cell_type": "code",
   "execution_count": 73,
   "id": "97f2d54b-32b9-426b-bb6c-339863301063",
   "metadata": {
    "tags": []
   },
   "outputs": [
    {
     "name": "stdout",
     "output_type": "stream",
     "text": [
      "4/5\n"
     ]
    }
   ],
   "source": [
    "print(f2)"
   ]
  },
  {
   "cell_type": "code",
   "execution_count": 60,
   "id": "39f482d6-60b3-4d1d-add7-9cfc8c121fe7",
   "metadata": {
    "tags": []
   },
   "outputs": [
    {
     "name": "stdout",
     "output_type": "stream",
     "text": [
      "5\n"
     ]
    }
   ],
   "source": [
    "print(f2.den)"
   ]
  },
  {
   "cell_type": "code",
   "execution_count": 70,
   "id": "bf8d3363-5f77-45e5-bb64-9ac4ec9c5510",
   "metadata": {
    "tags": []
   },
   "outputs": [],
   "source": [
    "f3 = f1 + f2"
   ]
  },
  {
   "cell_type": "code",
   "execution_count": 71,
   "id": "58cf4481-1da7-4c38-b11a-c2be91b440ec",
   "metadata": {
    "tags": []
   },
   "outputs": [
    {
     "name": "stdout",
     "output_type": "stream",
     "text": [
      "35/25\n"
     ]
    }
   ],
   "source": [
    "print(f3)"
   ]
  },
  {
   "cell_type": "code",
   "execution_count": null,
   "id": "ab75488f-a4d3-440a-b416-ac1f937c47ab",
   "metadata": {},
   "outputs": [],
   "source": [
    "# why not fraction.f1 + fraction.f2 ?"
   ]
  },
  {
   "cell_type": "code",
   "execution_count": 75,
   "id": "f0aa0e83-a645-4fd8-b3d6-b38064c8f325",
   "metadata": {
    "tags": []
   },
   "outputs": [
    {
     "name": "stdout",
     "output_type": "stream",
     "text": [
      "35/25\n"
     ]
    }
   ],
   "source": [
    "print(f1)"
   ]
  },
  {
   "cell_type": "code",
   "execution_count": 82,
   "id": "634c7851-b808-42ae-88c3-4ab9c4823cd7",
   "metadata": {
    "tags": []
   },
   "outputs": [],
   "source": [
    "f1 = Fraction(3,5)\n",
    "f2 = Fraction(4,5)"
   ]
  },
  {
   "cell_type": "code",
   "execution_count": 83,
   "id": "1111e6fc-d407-45e6-8ce3-3aad2a189c2d",
   "metadata": {
    "tags": []
   },
   "outputs": [
    {
     "data": {
      "text/plain": [
       "'-5/25'"
      ]
     },
     "execution_count": 83,
     "metadata": {},
     "output_type": "execute_result"
    }
   ],
   "source": [
    "f1-f2"
   ]
  },
  {
   "cell_type": "code",
   "execution_count": 85,
   "id": "8852d55e-4474-487d-9d4f-b009c7fb10d2",
   "metadata": {
    "tags": []
   },
   "outputs": [],
   "source": [
    "f1 = Fraction(3,5)  # changes of our operation we are storing  in self or f1\n",
    "f2 = Fraction(4,5)"
   ]
  },
  {
   "cell_type": "code",
   "execution_count": 86,
   "id": "4c1a3a7f-4cbd-4e5d-b8b8-20677e14fb3a",
   "metadata": {
    "tags": []
   },
   "outputs": [
    {
     "data": {
      "text/plain": [
       "'12/25'"
      ]
     },
     "execution_count": 86,
     "metadata": {},
     "output_type": "execute_result"
    }
   ],
   "source": [
    "f1*f2"
   ]
  },
  {
   "cell_type": "code",
   "execution_count": 95,
   "id": "4a450258-140f-4847-b511-5dc26117cc76",
   "metadata": {
    "tags": []
   },
   "outputs": [],
   "source": [
    "f1 = Fraction(3,5)  # changes of our operation we are storing  in self or f1\n",
    "f2 = Fraction(4,5)"
   ]
  },
  {
   "cell_type": "code",
   "execution_count": 96,
   "id": "bf48b759-6f8e-4e42-a91b-ac63424b056d",
   "metadata": {
    "tags": []
   },
   "outputs": [
    {
     "data": {
      "text/plain": [
       "'15/20'"
      ]
     },
     "execution_count": 96,
     "metadata": {},
     "output_type": "execute_result"
    }
   ],
   "source": [
    "f1/f2"
   ]
  },
  {
   "cell_type": "code",
   "execution_count": null,
   "id": "4cc1ca23-c13d-4a7c-a580-880bc403347c",
   "metadata": {},
   "outputs": [],
   "source": [
    "f1 > f2\n",
    "f1 ** f2"
   ]
  },
  {
   "cell_type": "code",
   "execution_count": null,
   "id": "8abbf156-0660-43b4-921a-1063bee3d7c9",
   "metadata": {},
   "outputs": [],
   "source": []
  },
  {
   "cell_type": "code",
   "execution_count": 97,
   "id": "a9348a23-89b7-4f30-8314-083c58f8c988",
   "metadata": {
    "tags": []
   },
   "outputs": [
    {
     "data": {
      "text/plain": [
       "8"
      ]
     },
     "execution_count": 97,
     "metadata": {},
     "output_type": "execute_result"
    }
   ],
   "source": [
    "5*3"
   ]
  },
  {
   "cell_type": "code",
   "execution_count": 99,
   "id": "38a5878b-42c6-46ba-85da-5ef28f16ba4c",
   "metadata": {
    "tags": []
   },
   "outputs": [],
   "source": [
    "f3 = Fraction(2,10)"
   ]
  },
  {
   "cell_type": "code",
   "execution_count": 100,
   "id": "748ba4e0-6f3b-4007-b154-3df4822acbd6",
   "metadata": {
    "tags": []
   },
   "outputs": [
    {
     "name": "stdout",
     "output_type": "stream",
     "text": [
      "2/10\n"
     ]
    }
   ],
   "source": [
    "print(f3)"
   ]
  },
  {
   "cell_type": "code",
   "execution_count": 101,
   "id": "1f6df6ea-0daf-42fc-aa0b-9f59af45e04d",
   "metadata": {
    "tags": []
   },
   "outputs": [
    {
     "ename": "TypeError",
     "evalue": "Fraction.__pow__() takes 1 positional argument but 2 were given",
     "output_type": "error",
     "traceback": [
      "\u001b[0;31m---------------------------------------------------------------------------\u001b[0m",
      "\u001b[0;31mTypeError\u001b[0m                                 Traceback (most recent call last)",
      "Cell \u001b[0;32mIn[101], line 1\u001b[0m\n\u001b[0;32m----> 1\u001b[0m f3 \u001b[38;5;241m*\u001b[39m\u001b[38;5;241m*\u001b[39m \u001b[38;5;241m2\u001b[39m\n",
      "\u001b[0;31mTypeError\u001b[0m: Fraction.__pow__() takes 1 positional argument but 2 were given"
     ]
    }
   ],
   "source": [
    "f3 ** 2"
   ]
  },
  {
   "cell_type": "code",
   "execution_count": null,
   "id": "44b4b7af-db6d-42fc-b511-b004ff7f42a1",
   "metadata": {},
   "outputs": [],
   "source": []
  },
  {
   "cell_type": "code",
   "execution_count": 102,
   "id": "cba58801-8022-48a2-a2f0-84ccc16710d8",
   "metadata": {
    "tags": []
   },
   "outputs": [
    {
     "ename": "TypeError",
     "evalue": "can only concatenate str (not \"int\") to str",
     "output_type": "error",
     "traceback": [
      "\u001b[0;31m---------------------------------------------------------------------------\u001b[0m",
      "\u001b[0;31mTypeError\u001b[0m                                 Traceback (most recent call last)",
      "Cell \u001b[0;32mIn[102], line 1\u001b[0m\n\u001b[0;32m----> 1\u001b[0m \u001b[38;5;124m\"\u001b[39m\u001b[38;5;124mmay\u001b[39m\u001b[38;5;124m\"\u001b[39m \u001b[38;5;241m+\u001b[39m \u001b[38;5;241m5\u001b[39m\n",
      "\u001b[0;31mTypeError\u001b[0m: can only concatenate str (not \"int\") to str"
     ]
    }
   ],
   "source": [
    "\"may\" + 5"
   ]
  },
  {
   "cell_type": "code",
   "execution_count": 103,
   "id": "d57b3e45-2986-4c97-87e2-d1d9a36c1133",
   "metadata": {
    "tags": []
   },
   "outputs": [
    {
     "data": {
      "text/plain": [
       "'may5'"
      ]
     },
     "execution_count": 103,
     "metadata": {},
     "output_type": "execute_result"
    }
   ],
   "source": [
    "\"may\" + str(5)"
   ]
  },
  {
   "cell_type": "code",
   "execution_count": 105,
   "id": "45614771-5e9e-42ff-9ef9-33bf883599db",
   "metadata": {
    "tags": []
   },
   "outputs": [
    {
     "data": {
      "text/plain": [
       "'52/10'"
      ]
     },
     "execution_count": 105,
     "metadata": {},
     "output_type": "execute_result"
    }
   ],
   "source": []
  },
  {
   "cell_type": "code",
   "execution_count": null,
   "id": "d9977525-74b2-4e07-92aa-9f9059d6f946",
   "metadata": {},
   "outputs": [],
   "source": []
  },
  {
   "cell_type": "code",
   "execution_count": null,
   "id": "d5da2fb9-6f4c-4a31-9448-205d5386ac15",
   "metadata": {},
   "outputs": [],
   "source": [
    "first."
   ]
  },
  {
   "cell_type": "code",
   "execution_count": 107,
   "id": "9c422d43-dd0f-475b-9ee4-a8627f4f129d",
   "metadata": {
    "tags": []
   },
   "outputs": [],
   "source": [
    "f1 = Fraction(3,5)  # changes of our operation we are storing  in self or f1\n",
    "f2 = Fraction(4,5)"
   ]
  },
  {
   "cell_type": "code",
   "execution_count": 108,
   "id": "9f425de2-98ad-4742-9c12-840ce375b2ea",
   "metadata": {
    "tags": []
   },
   "outputs": [
    {
     "data": {
      "text/plain": [
       "'35/25'"
      ]
     },
     "execution_count": 108,
     "metadata": {},
     "output_type": "execute_result"
    }
   ],
   "source": [
    "f1.myAddFunction(f2)"
   ]
  },
  {
   "cell_type": "code",
   "execution_count": null,
   "id": "8b84364d-ce08-4a5a-9f61-e018c63a5399",
   "metadata": {},
   "outputs": [],
   "source": [
    "f1+f2"
   ]
  },
  {
   "cell_type": "code",
   "execution_count": 111,
   "id": "42461714-e308-4a39-9336-f9d96bbe39f3",
   "metadata": {
    "tags": []
   },
   "outputs": [],
   "source": [
    "f2 = Fraction(3,5)"
   ]
  },
  {
   "cell_type": "code",
   "execution_count": 113,
   "id": "0a92102f-a9e2-406d-8c66-69db6534db3e",
   "metadata": {
    "tags": []
   },
   "outputs": [],
   "source": [
    "f2 = student(100,95)"
   ]
  },
  {
   "cell_type": "code",
   "execution_count": 115,
   "id": "dfcdf492-31a7-414f-8f9f-844bc8f14550",
   "metadata": {
    "tags": []
   },
   "outputs": [
    {
     "name": "stdout",
     "output_type": "stream",
     "text": [
      "<__main__.student object at 0x1074b4a10>\n"
     ]
    }
   ],
   "source": [
    "print(f2)"
   ]
  },
  {
   "cell_type": "code",
   "execution_count": null,
   "id": "0a6782df-0f3e-4da6-88e0-8a437f9742d5",
   "metadata": {},
   "outputs": [],
   "source": []
  },
  {
   "cell_type": "code",
   "execution_count": null,
   "id": "3cc2c6c5-50af-4838-afad-5f40754103ba",
   "metadata": {},
   "outputs": [],
   "source": []
  },
  {
   "cell_type": "code",
   "execution_count": null,
   "id": "0b7ed6e0-23bc-4964-b675-0abcc656052b",
   "metadata": {},
   "outputs": [],
   "source": []
  },
  {
   "cell_type": "code",
   "execution_count": null,
   "id": "5f489aa6-e0d1-4db8-ae7a-f222e530fd73",
   "metadata": {},
   "outputs": [],
   "source": []
  },
  {
   "cell_type": "code",
   "execution_count": 116,
   "id": "ff72366c-5166-414d-a651-1d7bcaf392be",
   "metadata": {
    "tags": []
   },
   "outputs": [],
   "source": [
    "# Aadhar Card"
   ]
  },
  {
   "cell_type": "code",
   "execution_count": 132,
   "id": "3ec98117-7938-4ef0-9c65-37245cda6917",
   "metadata": {
    "tags": []
   },
   "outputs": [],
   "source": [
    "class Person:\n",
    "    def __init__(self,adharNo,name,mobile):\n",
    "        self.aadhar = adharNo\n",
    "        self.name = name\n",
    "        self.mobile = mobile\n",
    "        \n",
    "    def getAadharforUN(self):\n",
    "        return \"IND\" + self.aadhar"
   ]
  },
  {
   "cell_type": "code",
   "execution_count": 133,
   "id": "1fd13ee9-41c7-405e-aeb9-511919622d58",
   "metadata": {
    "tags": []
   },
   "outputs": [],
   "source": [
    "person1 = Person(\"1234\",\"mayank\",956)\n",
    "person2 = Person(\"12\",\"python\",999)"
   ]
  },
  {
   "cell_type": "code",
   "execution_count": 135,
   "id": "59afc3fd-f0c3-41a9-b9c3-d9f0947c206e",
   "metadata": {
    "tags": []
   },
   "outputs": [
    {
     "data": {
      "text/plain": [
       "'1234'"
      ]
     },
     "execution_count": 135,
     "metadata": {},
     "output_type": "execute_result"
    }
   ],
   "source": [
    "person1.aadhar"
   ]
  },
  {
   "cell_type": "code",
   "execution_count": 136,
   "id": "00dc21f1-ac7f-43ee-9582-df813dc4b2f9",
   "metadata": {
    "tags": []
   },
   "outputs": [
    {
     "data": {
      "text/plain": [
       "'12'"
      ]
     },
     "execution_count": 136,
     "metadata": {},
     "output_type": "execute_result"
    }
   ],
   "source": [
    "person2.aadhar"
   ]
  },
  {
   "cell_type": "code",
   "execution_count": 121,
   "id": "2c6edbc8-13f4-4c4f-afc0-d0126fc0d1ff",
   "metadata": {
    "tags": []
   },
   "outputs": [],
   "source": [
    "cust1 = ATM()"
   ]
  },
  {
   "cell_type": "code",
   "execution_count": 122,
   "id": "ccd8d234-b230-40d7-b738-5a9c29d4dea1",
   "metadata": {
    "tags": []
   },
   "outputs": [],
   "source": [
    "cust1.pin = 4321"
   ]
  },
  {
   "cell_type": "code",
   "execution_count": 124,
   "id": "a37cc226-b23e-4664-9692-abb4ee33d156",
   "metadata": {
    "tags": []
   },
   "outputs": [
    {
     "data": {
      "text/plain": [
       "4321"
      ]
     },
     "execution_count": 124,
     "metadata": {},
     "output_type": "execute_result"
    }
   ],
   "source": [
    "cust1.pin"
   ]
  },
  {
   "cell_type": "code",
   "execution_count": 125,
   "id": "1d6aa67b-db44-426f-ad77-b45bddbe8db5",
   "metadata": {
    "tags": []
   },
   "outputs": [
    {
     "data": {
      "text/plain": [
       "'1234'"
      ]
     },
     "execution_count": 125,
     "metadata": {},
     "output_type": "execute_result"
    }
   ],
   "source": [
    "mayank.aadhar"
   ]
  },
  {
   "cell_type": "code",
   "execution_count": 126,
   "id": "ae64e971-924d-487f-a0a9-30de1b9f6e1a",
   "metadata": {
    "tags": []
   },
   "outputs": [],
   "source": [
    "mayank.aadhar = 321"
   ]
  },
  {
   "cell_type": "code",
   "execution_count": 137,
   "id": "2605cbd5-5c0a-49f7-bbf6-3fe2ecd5daf7",
   "metadata": {
    "tags": []
   },
   "outputs": [
    {
     "data": {
      "text/plain": [
       "'12'"
      ]
     },
     "execution_count": 137,
     "metadata": {},
     "output_type": "execute_result"
    }
   ],
   "source": [
    "person2.aadhar"
   ]
  },
  {
   "cell_type": "code",
   "execution_count": 138,
   "id": "fe1e29e2-6eb0-4212-b679-f63c32049d64",
   "metadata": {
    "tags": []
   },
   "outputs": [
    {
     "data": {
      "text/plain": [
       "'IND12'"
      ]
     },
     "execution_count": 138,
     "metadata": {},
     "output_type": "execute_result"
    }
   ],
   "source": [
    "\"IND\" + person2.aadhar"
   ]
  },
  {
   "cell_type": "code",
   "execution_count": null,
   "id": "9380ed5c-2d1c-4ab3-80b2-886eb8fa09a8",
   "metadata": {},
   "outputs": [],
   "source": []
  },
  {
   "cell_type": "code",
   "execution_count": 139,
   "id": "02b73c20-5c50-4882-9c14-b42a5018e31c",
   "metadata": {
    "tags": []
   },
   "outputs": [],
   "source": [
    "person2.aadhar=123\n",
    "\n"
   ]
  },
  {
   "cell_type": "code",
   "execution_count": 140,
   "id": "20f9193e-8171-400d-858d-edad676c20ef",
   "metadata": {
    "tags": []
   },
   "outputs": [
    {
     "ename": "TypeError",
     "evalue": "can only concatenate str (not \"int\") to str",
     "output_type": "error",
     "traceback": [
      "\u001b[0;31m---------------------------------------------------------------------------\u001b[0m",
      "\u001b[0;31mTypeError\u001b[0m                                 Traceback (most recent call last)",
      "Cell \u001b[0;32mIn[140], line 1\u001b[0m\n\u001b[0;32m----> 1\u001b[0m \u001b[38;5;124m\"\u001b[39m\u001b[38;5;124mIND\u001b[39m\u001b[38;5;124m\"\u001b[39m \u001b[38;5;241m+\u001b[39m person2\u001b[38;5;241m.\u001b[39maadhar\n",
      "\u001b[0;31mTypeError\u001b[0m: can only concatenate str (not \"int\") to str"
     ]
    }
   ],
   "source": []
  },
  {
   "cell_type": "code",
   "execution_count": null,
   "id": "d093e2d9-8db1-40a4-851c-fbee57aadc12",
   "metadata": {},
   "outputs": [],
   "source": []
  },
  {
   "cell_type": "code",
   "execution_count": 150,
   "id": "bd298b27-9ffe-4141-a781-c071e7d5567f",
   "metadata": {
    "tags": []
   },
   "outputs": [],
   "source": [
    "class Person:\n",
    "    def __init__(self,adharNo,name,mobile):\n",
    "        self.__aadhar = adharNo\n",
    "        self.name = name\n",
    "        self.mobile = mobile\n",
    "        \n",
    "    def getAadharforUN(self):\n",
    "        return \"IND\" + self.__aadhar"
   ]
  },
  {
   "cell_type": "code",
   "execution_count": 151,
   "id": "89700d23-68ca-4e2c-8dc0-474be5946a37",
   "metadata": {
    "tags": []
   },
   "outputs": [],
   "source": [
    "person1 = Person(\"1234\",\"mayank\",\"965\")"
   ]
  },
  {
   "cell_type": "code",
   "execution_count": null,
   "id": "5a448ee9-9cab-4fab-8719-1d0780f5f52c",
   "metadata": {},
   "outputs": [],
   "source": []
  },
  {
   "cell_type": "code",
   "execution_count": 152,
   "id": "b93b123c-1050-4cd6-82f6-97e124efc1d9",
   "metadata": {
    "tags": []
   },
   "outputs": [
    {
     "data": {
      "text/plain": [
       "'IND1234'"
      ]
     },
     "execution_count": 152,
     "metadata": {},
     "output_type": "execute_result"
    }
   ],
   "source": [
    "person1.getAadharforUN()"
   ]
  },
  {
   "cell_type": "code",
   "execution_count": 149,
   "id": "96ff3fee-5c72-441c-89ab-970a263d1580",
   "metadata": {
    "tags": []
   },
   "outputs": [],
   "source": [
    "person1.  # we are not seeing aadhar now."
   ]
  },
  {
   "cell_type": "code",
   "execution_count": 153,
   "id": "7d3993e0-21c2-4333-8b9c-1ab49a8b1347",
   "metadata": {
    "tags": []
   },
   "outputs": [],
   "source": [
    "person1.__aadhar = 1234"
   ]
  },
  {
   "cell_type": "code",
   "execution_count": 154,
   "id": "e8b293a2-185a-43a2-ba1e-99a63024755f",
   "metadata": {
    "tags": []
   },
   "outputs": [
    {
     "data": {
      "text/plain": [
       "'IND1234'"
      ]
     },
     "execution_count": 154,
     "metadata": {},
     "output_type": "execute_result"
    }
   ],
   "source": [
    "person1.getAadharforUN()"
   ]
  },
  {
   "cell_type": "code",
   "execution_count": null,
   "id": "46c37df0-81ac-44ff-aeb6-6ecc385d39b0",
   "metadata": {},
   "outputs": [],
   "source": []
  },
  {
   "cell_type": "code",
   "execution_count": null,
   "id": "0f8be16d-1e38-4bf7-9634-27d72f7fcc74",
   "metadata": {},
   "outputs": [],
   "source": []
  },
  {
   "cell_type": "code",
   "execution_count": 164,
   "id": "49f1e1a2-04da-4cb3-b71f-814a2eb89d34",
   "metadata": {
    "tags": []
   },
   "outputs": [],
   "source": [
    "class Mentor():\n",
    "    \n",
    "    def __init__(self,name,number):\n",
    "        self.name= name\n",
    "        # self.number = number\n",
    "        self.__number = number # this make it private \n",
    "        \n",
    "    def __str__(self):\n",
    "        print(self.name)\n",
    "        print(self.__number)\n",
    "        return \"\""
   ]
  },
  {
   "cell_type": "code",
   "execution_count": 165,
   "id": "dc06ab28-09fd-49ef-bb4b-1fca77789b26",
   "metadata": {
    "tags": []
   },
   "outputs": [],
   "source": [
    "mentor1 = Mentor(\"mayank\",\"9534\")"
   ]
  },
  {
   "cell_type": "code",
   "execution_count": 168,
   "id": "e9c5c140-c1c2-487f-a83e-dfbb66e62064",
   "metadata": {
    "tags": []
   },
   "outputs": [
    {
     "name": "stdout",
     "output_type": "stream",
     "text": [
      "mayank\n",
      "9534\n",
      "\n"
     ]
    }
   ],
   "source": [
    "print(mentor1)"
   ]
  },
  {
   "cell_type": "code",
   "execution_count": 181,
   "id": "14c7a20c-6d0d-45b2-b1ea-209c7e55dfae",
   "metadata": {
    "tags": []
   },
   "outputs": [],
   "source": [
    "mentor1.__number = 9999"
   ]
  },
  {
   "cell_type": "code",
   "execution_count": 171,
   "id": "0928fc70-185a-4e88-9f37-e51e4bd21dd8",
   "metadata": {
    "tags": []
   },
   "outputs": [
    {
     "name": "stdout",
     "output_type": "stream",
     "text": [
      "mayank\n",
      "9534\n",
      "\n"
     ]
    }
   ],
   "source": [
    "print(mentor1)"
   ]
  },
  {
   "cell_type": "code",
   "execution_count": 172,
   "id": "3386696d-f1f6-4845-bc29-2ee32bdd94fd",
   "metadata": {
    "tags": []
   },
   "outputs": [],
   "source": [
    "mentor1.add = \"Delhi\""
   ]
  },
  {
   "cell_type": "code",
   "execution_count": 179,
   "id": "269fcb07-7b7e-4ea3-b145-ece82833fbb4",
   "metadata": {
    "tags": []
   },
   "outputs": [],
   "source": [
    "mentor2 = Mentor(\"abc\",\"1111\")"
   ]
  },
  {
   "cell_type": "code",
   "execution_count": null,
   "id": "ecdf8f31-7932-4b38-b859-04995cdbebaa",
   "metadata": {},
   "outputs": [],
   "source": [
    "mentor2."
   ]
  },
  {
   "cell_type": "code",
   "execution_count": 183,
   "id": "548bd298-7902-4699-8211-743120506eae",
   "metadata": {
    "tags": []
   },
   "outputs": [
    {
     "data": {
      "text/plain": [
       "9999"
      ]
     },
     "execution_count": 183,
     "metadata": {},
     "output_type": "execute_result"
    }
   ],
   "source": [
    "mentor1.__number"
   ]
  },
  {
   "cell_type": "code",
   "execution_count": 184,
   "id": "885e676e-8849-4423-957e-1341cc80d52f",
   "metadata": {
    "tags": []
   },
   "outputs": [
    {
     "name": "stdout",
     "output_type": "stream",
     "text": [
      "mayank\n",
      "9534\n",
      "\n"
     ]
    }
   ],
   "source": [
    "print(mentor1)"
   ]
  },
  {
   "cell_type": "code",
   "execution_count": 255,
   "id": "0cc7b3a2-ded2-47b2-8648-894edc3f2390",
   "metadata": {
    "tags": []
   },
   "outputs": [],
   "source": [
    "class Mentor:\n",
    "    \n",
    "    def __init__(self,name,number,adhar):\n",
    "        self.name= name\n",
    "        # self.number = number\n",
    "        self.__number = number # this make it private \n",
    "        self.__adhar = adhar\n",
    "         \n",
    "    def __str__(self):\n",
    "        print(self.name)\n",
    "        print(self.__number)\n",
    "        return \"\"\n",
    "    \n",
    "    def get_mobile(self):   #getter\n",
    "        print(self.__number)\n",
    "        return self.__number\n",
    "\n",
    "    def get_adhar(self):   #getter\n",
    "        print(\"**********\" + self.__adhar[-1])\n",
    "    \n",
    "    def set_mobile(self,newNumber,password):   #setter\n",
    "        if(password == \"0123\"):\n",
    "            self.__number = newNumber  \n",
    "    \n",
    "    def set_adhar(self,newAdhar):   #setter\n",
    "        if(type(newAdhar) == str):\n",
    "            self.__adhar = newAdhar  \n",
    "        else:\n",
    "            print (\" please provide a string adhar\")\n",
    "            \n",
    "    def getAadharforUN(self):\n",
    "        return \"IND\" + self.__adhar"
   ]
  },
  {
   "cell_type": "code",
   "execution_count": 234,
   "id": "4a981dc1-5803-41d0-aba0-c9e28543f271",
   "metadata": {
    "tags": []
   },
   "outputs": [],
   "source": [
    "mayank = Mentor(\"mayank\",\"9999\",\"8538\")"
   ]
  },
  {
   "cell_type": "code",
   "execution_count": 213,
   "id": "eb0c624e-dd75-48f2-a6cb-27685b8adfe3",
   "metadata": {
    "tags": []
   },
   "outputs": [
    {
     "name": "stdout",
     "output_type": "stream",
     "text": [
      "**********8\n"
     ]
    }
   ],
   "source": [
    "mayank.get_adhar()"
   ]
  },
  {
   "cell_type": "code",
   "execution_count": 232,
   "id": "30a4777e-f4d1-400d-8e0e-ca3aff1708b9",
   "metadata": {
    "tags": []
   },
   "outputs": [
    {
     "ename": "AttributeError",
     "evalue": "'Mentor' object has no attribute 'number'",
     "output_type": "error",
     "traceback": [
      "\u001b[0;31m---------------------------------------------------------------------------\u001b[0m",
      "\u001b[0;31mAttributeError\u001b[0m                            Traceback (most recent call last)",
      "Cell \u001b[0;32mIn[232], line 1\u001b[0m\n\u001b[0;32m----> 1\u001b[0m mayank\u001b[38;5;241m.\u001b[39mget_mobile()\n",
      "Cell \u001b[0;32mIn[230], line 15\u001b[0m, in \u001b[0;36mMentor.get_mobile\u001b[0;34m(self)\u001b[0m\n\u001b[1;32m     14\u001b[0m \u001b[38;5;28;01mdef\u001b[39;00m \u001b[38;5;21mget_mobile\u001b[39m(\u001b[38;5;28mself\u001b[39m):   \u001b[38;5;66;03m#getter\u001b[39;00m\n\u001b[0;32m---> 15\u001b[0m     \u001b[38;5;28mprint\u001b[39m(\u001b[38;5;28mself\u001b[39m\u001b[38;5;241m.\u001b[39mnumber)\n\u001b[1;32m     16\u001b[0m     \u001b[38;5;28;01mreturn\u001b[39;00m \u001b[38;5;28mself\u001b[39m\u001b[38;5;241m.\u001b[39m__number\n",
      "\u001b[0;31mAttributeError\u001b[0m: 'Mentor' object has no attribute 'number'"
     ]
    }
   ],
   "source": [
    "mayank.get_mobile()"
   ]
  },
  {
   "cell_type": "code",
   "execution_count": 210,
   "id": "b76dc989-37bd-45fb-acc5-fba403ef1446",
   "metadata": {
    "tags": []
   },
   "outputs": [],
   "source": [
    "mayank.set_mobile(9876)"
   ]
  },
  {
   "cell_type": "code",
   "execution_count": 209,
   "id": "072f5b60-ec85-453e-bbbe-8292726e42e4",
   "metadata": {
    "tags": []
   },
   "outputs": [
    {
     "name": "stdout",
     "output_type": "stream",
     "text": [
      "9876\n"
     ]
    },
    {
     "data": {
      "text/plain": [
       "9876"
      ]
     },
     "execution_count": 209,
     "metadata": {},
     "output_type": "execute_result"
    }
   ],
   "source": [
    "mayank.get_mobile()"
   ]
  },
  {
   "cell_type": "code",
   "execution_count": 225,
   "id": "f630874a-8470-484e-b414-5be9d1ae6c79",
   "metadata": {
    "tags": []
   },
   "outputs": [
    {
     "data": {
      "text/plain": [
       "'IND8538'"
      ]
     },
     "execution_count": 225,
     "metadata": {},
     "output_type": "execute_result"
    }
   ],
   "source": [
    "mayank.getAadharforUN()"
   ]
  },
  {
   "cell_type": "code",
   "execution_count": null,
   "id": "7d6b6cf4-6c13-4bd2-aae1-1d8be00b1125",
   "metadata": {},
   "outputs": [],
   "source": []
  },
  {
   "cell_type": "code",
   "execution_count": 226,
   "id": "644001ea-4306-4a70-85af-25b028d74b22",
   "metadata": {
    "tags": []
   },
   "outputs": [
    {
     "name": "stdout",
     "output_type": "stream",
     "text": [
      " please provide a string adhar\n"
     ]
    }
   ],
   "source": [
    "mayank.set_adhar(975)"
   ]
  },
  {
   "cell_type": "code",
   "execution_count": 227,
   "id": "e1a0b6ec-ee62-4d2f-82de-7771e2a44063",
   "metadata": {
    "tags": []
   },
   "outputs": [
    {
     "data": {
      "text/plain": [
       "'IND8538'"
      ]
     },
     "execution_count": 227,
     "metadata": {},
     "output_type": "execute_result"
    }
   ],
   "source": [
    "mayank.getAadharforUN()"
   ]
  },
  {
   "cell_type": "code",
   "execution_count": 228,
   "id": "090eedcc-056a-468d-ae55-243cc0c15248",
   "metadata": {
    "tags": []
   },
   "outputs": [],
   "source": [
    "mayank.set_adhar(\"841241\")"
   ]
  },
  {
   "cell_type": "code",
   "execution_count": 229,
   "id": "41f4b80a-2232-4d91-bef1-3e5f0ea70209",
   "metadata": {
    "tags": []
   },
   "outputs": [
    {
     "data": {
      "text/plain": [
       "'IND841241'"
      ]
     },
     "execution_count": 229,
     "metadata": {},
     "output_type": "execute_result"
    }
   ],
   "source": [
    "mayank.getAadharforUN()"
   ]
  },
  {
   "cell_type": "code",
   "execution_count": null,
   "id": "3b64c73f-1089-4535-bb5a-4042c7586b4e",
   "metadata": {},
   "outputs": [],
   "source": []
  },
  {
   "cell_type": "code",
   "execution_count": 235,
   "id": "327c2f99-196e-4cf9-a628-59ecd51e5c2d",
   "metadata": {
    "tags": []
   },
   "outputs": [],
   "source": [
    "# Encapsulation :- Capsule"
   ]
  },
  {
   "cell_type": "code",
   "execution_count": 254,
   "id": "a44b61f8-60d2-4e5f-84d5-8af0e56dd9e4",
   "metadata": {
    "tags": []
   },
   "outputs": [],
   "source": [
    "class Mentor:\n",
    "    \n",
    "    def __init__(self,name,number,adhar):\n",
    "        self.name= name\n",
    "        # self.number = number\n",
    "        self.__number = number # this make it private \n",
    "        self.__adhar = adhar\n",
    "        \n",
    "        \n",
    "         \n",
    "    def __str__(self):\n",
    "        print(self.name)\n",
    "        print(self.__number)\n",
    "        return \"\"\n",
    "    \n",
    "    def get_mobile(self):   #getter\n",
    "        print(self.__number)\n",
    "        return self.__number\n",
    "\n",
    "    def get_adhar(self):   #getter\n",
    "        print(\"**********\" + self.__adhar[-1])\n",
    "    \n",
    "    def set_mobile(self,newNumber,password):   #setter\n",
    "        if(password == \"0123\"):\n",
    "            self.__number = newNumber  \n",
    "    \n",
    "    def set_adhar(self,newAdhar):   #setter\n",
    "        if(type(newAdhar) == str):\n",
    "            self.__adhar = newAdhar  \n",
    "        else:\n",
    "            print (\" please provide a string adhar\")\n",
    "            \n",
    "            \n",
    "    def __getAadharforUN(self):\n",
    "        return \"IND\" + self.__adhar\n",
    "\n",
    "    def __processSalary(self):\n",
    "        self.__processSalaryToAccount\n",
    "        \n"
   ]
  },
  {
   "cell_type": "code",
   "execution_count": 237,
   "id": "2457e72d-c3a0-4c0a-a894-01c93b67ad5d",
   "metadata": {
    "tags": []
   },
   "outputs": [],
   "source": [
    "mayank = Mentor(\"mayank\",\"9999\",\"8538\")"
   ]
  },
  {
   "cell_type": "code",
   "execution_count": null,
   "id": "97d3b96e-be62-42a0-aee2-e2560d5eda61",
   "metadata": {},
   "outputs": [],
   "source": []
  },
  {
   "cell_type": "markdown",
   "id": "f5b48838-42d0-4a7e-8583-b8fbb44692a3",
   "metadata": {},
   "source": [
    "I have a doubt : Through setter methods, external user can still change the value of the private variable right ?"
   ]
  },
  {
   "cell_type": "code",
   "execution_count": null,
   "id": "f6e4d67c-94bd-4619-9faf-e47622a65f8b",
   "metadata": {},
   "outputs": [],
   "source": []
  },
  {
   "cell_type": "code",
   "execution_count": null,
   "id": "a9dbcc39-27ab-4d2c-8d69-7d8e35a461c5",
   "metadata": {},
   "outputs": [],
   "source": []
  },
  {
   "cell_type": "code",
   "execution_count": null,
   "id": "8968568d-2cee-4fa9-8b02-274aa5278a09",
   "metadata": {},
   "outputs": [],
   "source": []
  },
  {
   "cell_type": "code",
   "execution_count": null,
   "id": "ea7e8116-3962-40d8-9cf1-9a1a9524bde9",
   "metadata": {},
   "outputs": [],
   "source": []
  },
  {
   "cell_type": "code",
   "execution_count": 238,
   "id": "870adf1f-fd95-4ce1-a404-86658d814054",
   "metadata": {
    "tags": []
   },
   "outputs": [
    {
     "name": "stdout",
     "output_type": "stream",
     "text": [
      "mayank\n",
      "mayank\n",
      "mayank\n",
      "mayank\n"
     ]
    }
   ],
   "source": [
    "# Collection of objects\n",
    "\n",
    "m1 = Mentor(\"mayank\",\"9999\",\"8538\")\n",
    "m2 =  Mentor(\"mayank\",\"9999\",\"8538\")\n",
    "m3 = Mentor(\"mayank\",\"9999\",\"8538\")\n",
    "m4 =  Mentor(\"mayank\",\"9999\",\"8538\")\n",
    "\n",
    "l = [m1,m2,m3,m4]\n",
    "\n",
    "\n",
    "for mentor in l:\n",
    "    print(mentor.name)"
   ]
  },
  {
   "cell_type": "code",
   "execution_count": null,
   "id": "52c395ce-f776-4e57-8f37-eacaadbb8c10",
   "metadata": {},
   "outputs": [],
   "source": [
    "# Restrating Kernel"
   ]
  },
  {
   "cell_type": "code",
   "execution_count": 33,
   "id": "12f2bfe5-2af8-4c0d-bc05-1b5a7b4291ba",
   "metadata": {
    "tags": []
   },
   "outputs": [],
   "source": [
    "class Mentor_New:\n",
    "    \n",
    "    # Static / Class Properties\n",
    "    __number_of_mentor = 0\n",
    "    __company = \"INEURON\"\n",
    "    ss = \"I am a static property\"\n",
    "    \n",
    "    def __init__(self,name,number,adhar):\n",
    "        self.name= name\n",
    "        # self.number = number\n",
    "        self.__number = number # this make it private \n",
    "        self.__adhar = adhar\n",
    "        \n",
    "        \n",
    "        Mentor_New.__number_of_mentor = Mentor_New.__number_of_mentor + 1\n",
    "         \n",
    "    def __str__(self):\n",
    "        print(self.name)\n",
    "        print(self.__number)\n",
    "        return \"\"\n",
    "    \n",
    "    def get_mobile(self):   #getter\n",
    "        print(self.__number)\n",
    "        return self.__number\n",
    "\n",
    "    def get_adhar(self):   #getter\n",
    "        print(\"**********\" + self.__adhar[-1])\n",
    "    \n",
    "    def set_mobile(self,newNumber,password):   #setter\n",
    "        if(password == \"0123\"):\n",
    "            self.__number = newNumber  \n",
    "    \n",
    "    def set_adhar(self,newAdhar):   #setter\n",
    "        if(type(newAdhar) == str):\n",
    "            self.__adhar = newAdhar  \n",
    "        else:\n",
    "            print (\" please provide a string adhar\")\n",
    "            \n",
    "            \n",
    "    def __getAadharforUN(self):\n",
    "        return \"IND\" + self.__adhar\n",
    "\n",
    "    def __processSalary(self):\n",
    "        self.__processSalaryToAccount\n",
    "        \n",
    "    \n",
    "    @staticmethod\n",
    "    def get_Number_of_Mentor():\n",
    "        print(Mentor_New.__number_of_mentor)\n",
    "        return Mentor_New.__number_of_mentor"
   ]
  },
  {
   "cell_type": "code",
   "execution_count": 240,
   "id": "94c1f5ff-8a3e-4ff2-86c8-453d4693be6e",
   "metadata": {
    "tags": []
   },
   "outputs": [],
   "source": [
    "# How many mentors are there in Inueron?"
   ]
  },
  {
   "cell_type": "code",
   "execution_count": null,
   "id": "9ee5d364-2fbd-43f0-98e3-34fc7133cbe9",
   "metadata": {},
   "outputs": [],
   "source": [
    "# which company is a mentor part of ? - Ineuron"
   ]
  },
  {
   "cell_type": "code",
   "execution_count": 34,
   "id": "841387dc-c554-40e4-8671-6ae30cfa0911",
   "metadata": {
    "tags": []
   },
   "outputs": [],
   "source": [
    "m1 = Mentor_New(\"mayank\",\"9999\",\"8538\")\n",
    "m2 = Mentor_New(\"mayank2\",\"989\",\"r53q\")"
   ]
  },
  {
   "cell_type": "code",
   "execution_count": 25,
   "id": "0f4a0762-8cf5-492d-9313-63be36dcff52",
   "metadata": {
    "tags": []
   },
   "outputs": [
    {
     "data": {
      "text/plain": [
       "'I am a static property'"
      ]
     },
     "execution_count": 25,
     "metadata": {},
     "output_type": "execute_result"
    }
   ],
   "source": [
    "m1.ss"
   ]
  },
  {
   "cell_type": "code",
   "execution_count": 29,
   "id": "a8c6a197-5e7d-49d6-8653-3569823a0d48",
   "metadata": {
    "tags": []
   },
   "outputs": [
    {
     "name": "stdout",
     "output_type": "stream",
     "text": [
      "2\n"
     ]
    },
    {
     "data": {
      "text/plain": [
       "2"
      ]
     },
     "execution_count": 29,
     "metadata": {},
     "output_type": "execute_result"
    }
   ],
   "source": [
    "Mentor_New.get_Number_of_Mentor()"
   ]
  },
  {
   "cell_type": "code",
   "execution_count": 35,
   "id": "78822ce8-e013-44f4-9615-2385125aef6b",
   "metadata": {
    "tags": []
   },
   "outputs": [
    {
     "name": "stdout",
     "output_type": "stream",
     "text": [
      "2\n"
     ]
    },
    {
     "data": {
      "text/plain": [
       "2"
      ]
     },
     "execution_count": 35,
     "metadata": {},
     "output_type": "execute_result"
    }
   ],
   "source": [
    "m1.get_Number_of_Mentor()"
   ]
  },
  {
   "cell_type": "code",
   "execution_count": 10,
   "id": "99519727-bc9f-40ad-bf96-cf595f7ffada",
   "metadata": {
    "tags": []
   },
   "outputs": [
    {
     "ename": "AttributeError",
     "evalue": "type object 'Mentor_New' has no attribute 'number_of_mentor'",
     "output_type": "error",
     "traceback": [
      "\u001b[0;31m---------------------------------------------------------------------------\u001b[0m",
      "\u001b[0;31mAttributeError\u001b[0m                            Traceback (most recent call last)",
      "Cell \u001b[0;32mIn[10], line 1\u001b[0m\n\u001b[0;32m----> 1\u001b[0m Mentor_New\u001b[38;5;241m.\u001b[39mnumber_of_mentor\n",
      "\u001b[0;31mAttributeError\u001b[0m: type object 'Mentor_New' has no attribute 'number_of_mentor'"
     ]
    }
   ],
   "source": [
    "Mentor_New."
   ]
  },
  {
   "cell_type": "code",
   "execution_count": 266,
   "id": "7922f174-97c2-4b19-9fa8-030e3c324027",
   "metadata": {
    "tags": []
   },
   "outputs": [],
   "source": [
    "m3 = Mentor_New(\"mayank\",\"9999\",\"8538\")\n",
    "m4 = Mentor_New(\"mayank2\",\"989\",\"r53q\")"
   ]
  },
  {
   "cell_type": "code",
   "execution_count": 261,
   "id": "fb1aa301-d04b-4f54-acda-fce612b65472",
   "metadata": {
    "tags": []
   },
   "outputs": [
    {
     "data": {
      "text/plain": [
       "4"
      ]
     },
     "execution_count": 261,
     "metadata": {},
     "output_type": "execute_result"
    }
   ],
   "source": [
    "Mentor_New.number_of_mentor"
   ]
  },
  {
   "cell_type": "code",
   "execution_count": 267,
   "id": "a4a36f85-481b-4c36-8596-f4b92bafb586",
   "metadata": {
    "tags": []
   },
   "outputs": [
    {
     "data": {
      "text/plain": [
       "'INEURON'"
      ]
     },
     "execution_count": 267,
     "metadata": {},
     "output_type": "execute_result"
    }
   ],
   "source": [
    "Mentor_New.company"
   ]
  },
  {
   "cell_type": "code",
   "execution_count": 263,
   "id": "da715791-7d4a-443b-a3b8-b4bd541f0ed7",
   "metadata": {
    "tags": []
   },
   "outputs": [
    {
     "data": {
      "text/plain": [
       "5"
      ]
     },
     "execution_count": 263,
     "metadata": {},
     "output_type": "execute_result"
    }
   ],
   "source": [
    "Mentor_New.number_of_mentor"
   ]
  },
  {
   "cell_type": "code",
   "execution_count": 4,
   "id": "70a48060-ba93-47c1-bb71-40a986b25976",
   "metadata": {
    "tags": []
   },
   "outputs": [],
   "source": [
    "Mentor_New.number_of_mentor = \"0\""
   ]
  },
  {
   "cell_type": "code",
   "execution_count": 5,
   "id": "9b1f0b47-773a-4c06-a6ea-e9342a64b8fe",
   "metadata": {
    "tags": []
   },
   "outputs": [
    {
     "ename": "TypeError",
     "evalue": "can only concatenate str (not \"int\") to str",
     "output_type": "error",
     "traceback": [
      "\u001b[0;31m---------------------------------------------------------------------------\u001b[0m",
      "\u001b[0;31mTypeError\u001b[0m                                 Traceback (most recent call last)",
      "Cell \u001b[0;32mIn[5], line 1\u001b[0m\n\u001b[0;32m----> 1\u001b[0m m5 \u001b[38;5;241m=\u001b[39m Mentor_New(\u001b[38;5;124m\"\u001b[39m\u001b[38;5;124mmayank2\u001b[39m\u001b[38;5;124m\"\u001b[39m,\u001b[38;5;124m\"\u001b[39m\u001b[38;5;124m989\u001b[39m\u001b[38;5;124m\"\u001b[39m,\u001b[38;5;124m\"\u001b[39m\u001b[38;5;124mr53q\u001b[39m\u001b[38;5;124m\"\u001b[39m)\n",
      "Cell \u001b[0;32mIn[1], line 13\u001b[0m, in \u001b[0;36mMentor_New.__init__\u001b[0;34m(self, name, number, adhar)\u001b[0m\n\u001b[1;32m     10\u001b[0m \u001b[38;5;28mself\u001b[39m\u001b[38;5;241m.\u001b[39m__number \u001b[38;5;241m=\u001b[39m number \u001b[38;5;66;03m# this make it private \u001b[39;00m\n\u001b[1;32m     11\u001b[0m \u001b[38;5;28mself\u001b[39m\u001b[38;5;241m.\u001b[39m__adhar \u001b[38;5;241m=\u001b[39m adhar\n\u001b[0;32m---> 13\u001b[0m Mentor_New\u001b[38;5;241m.\u001b[39mnumber_of_mentor \u001b[38;5;241m=\u001b[39m Mentor_New\u001b[38;5;241m.\u001b[39mnumber_of_mentor \u001b[38;5;241m+\u001b[39m \u001b[38;5;241m1\u001b[39m\n",
      "\u001b[0;31mTypeError\u001b[0m: can only concatenate str (not \"int\") to str"
     ]
    }
   ],
   "source": [
    "m5 = Mentor_New(\"mayank2\",\"989\",\"r53q\")"
   ]
  },
  {
   "cell_type": "code",
   "execution_count": 20,
   "id": "bc19bb4f-aab5-44fb-aea0-ea081880f56a",
   "metadata": {
    "tags": []
   },
   "outputs": [
    {
     "name": "stdout",
     "output_type": "stream",
     "text": [
      "2\n"
     ]
    },
    {
     "data": {
      "text/plain": [
       "2"
      ]
     },
     "execution_count": 20,
     "metadata": {},
     "output_type": "execute_result"
    }
   ],
   "source": [
    "Mentor_New.get_Number_of_Mentor()"
   ]
  },
  {
   "cell_type": "code",
   "execution_count": null,
   "id": "e83b9c6c-29dc-4892-9152-51aa0778e249",
   "metadata": {},
   "outputs": [],
   "source": []
  },
  {
   "cell_type": "code",
   "execution_count": null,
   "id": "2954f080-9111-4b5b-babe-ca8fb836adf1",
   "metadata": {},
   "outputs": [],
   "source": []
  },
  {
   "cell_type": "code",
   "execution_count": 79,
   "id": "9c66cece-7c71-4c40-bbdb-e51f0ca88549",
   "metadata": {
    "tags": []
   },
   "outputs": [],
   "source": [
    "class Employee:\n",
    "    \n",
    "    # Static / Class Properties\n",
    "    __nemp = 0\n",
    "    \n",
    "    def __init__(self,name):\n",
    "        self.name= name\n",
    "        Employee.__nemp = Employee.__nemp + 1\n",
    "    \n",
    "    @staticmethod\n",
    "    def get_nemp():\n",
    "        return Employee.__nemp"
   ]
  },
  {
   "cell_type": "code",
   "execution_count": 74,
   "id": "ac9bc23c-bdd5-4a00-8069-ce7c1d5a2869",
   "metadata": {
    "tags": []
   },
   "outputs": [],
   "source": [
    "e1 = Employee(\"mayank\")"
   ]
  },
  {
   "cell_type": "code",
   "execution_count": 75,
   "id": "5122c254-b6c0-4875-b217-2f11c60bfc92",
   "metadata": {
    "tags": []
   },
   "outputs": [
    {
     "ename": "AttributeError",
     "evalue": "'Employee' object has no attribute 'nemp'",
     "output_type": "error",
     "traceback": [
      "\u001b[0;31m---------------------------------------------------------------------------\u001b[0m",
      "\u001b[0;31mAttributeError\u001b[0m                            Traceback (most recent call last)",
      "Cell \u001b[0;32mIn[75], line 1\u001b[0m\n\u001b[0;32m----> 1\u001b[0m e1\u001b[38;5;241m.\u001b[39mnemp\n",
      "\u001b[0;31mAttributeError\u001b[0m: 'Employee' object has no attribute 'nemp'"
     ]
    }
   ],
   "source": [
    "e1.nemp"
   ]
  },
  {
   "cell_type": "code",
   "execution_count": 76,
   "id": "b1b70b4a-6b00-4614-93b0-59e7a96a6e25",
   "metadata": {
    "tags": []
   },
   "outputs": [
    {
     "ename": "AttributeError",
     "evalue": "type object 'Employee' has no attribute 'nemp'",
     "output_type": "error",
     "traceback": [
      "\u001b[0;31m---------------------------------------------------------------------------\u001b[0m",
      "\u001b[0;31mAttributeError\u001b[0m                            Traceback (most recent call last)",
      "Cell \u001b[0;32mIn[76], line 1\u001b[0m\n\u001b[0;32m----> 1\u001b[0m Employee\u001b[38;5;241m.\u001b[39mnemp\n",
      "\u001b[0;31mAttributeError\u001b[0m: type object 'Employee' has no attribute 'nemp'"
     ]
    }
   ],
   "source": [
    "Employee.nemp"
   ]
  },
  {
   "cell_type": "code",
   "execution_count": 77,
   "id": "f1f862c8-d935-432a-bbff-985d50227a72",
   "metadata": {
    "tags": []
   },
   "outputs": [
    {
     "data": {
      "text/plain": [
       "1"
      ]
     },
     "execution_count": 77,
     "metadata": {},
     "output_type": "execute_result"
    }
   ],
   "source": [
    "Employee.get_nemp()"
   ]
  },
  {
   "cell_type": "code",
   "execution_count": 78,
   "id": "a396f6db-8ef8-4905-9137-95177cc1491b",
   "metadata": {
    "tags": []
   },
   "outputs": [
    {
     "data": {
      "text/plain": [
       "1"
      ]
     },
     "execution_count": 78,
     "metadata": {},
     "output_type": "execute_result"
    }
   ],
   "source": [
    "e1.get_nemp()"
   ]
  },
  {
   "cell_type": "code",
   "execution_count": 59,
   "id": "e884fe68-8e63-4b90-a6bd-6b91655b6b90",
   "metadata": {
    "tags": []
   },
   "outputs": [
    {
     "data": {
      "text/plain": [
       "'nfjadlbfa'"
      ]
     },
     "execution_count": 59,
     "metadata": {},
     "output_type": "execute_result"
    }
   ],
   "source": [
    "Employee.nemp"
   ]
  },
  {
   "cell_type": "code",
   "execution_count": 58,
   "id": "3f77ba2b-3cfe-47b1-b825-5b66938dd4b6",
   "metadata": {
    "tags": []
   },
   "outputs": [
    {
     "ename": "TypeError",
     "evalue": "can only concatenate str (not \"int\") to str",
     "output_type": "error",
     "traceback": [
      "\u001b[0;31m---------------------------------------------------------------------------\u001b[0m",
      "\u001b[0;31mTypeError\u001b[0m                                 Traceback (most recent call last)",
      "Cell \u001b[0;32mIn[58], line 1\u001b[0m\n\u001b[0;32m----> 1\u001b[0m e2 \u001b[38;5;241m=\u001b[39m Employee(\u001b[38;5;124m\"\u001b[39m\u001b[38;5;124mpython\u001b[39m\u001b[38;5;124m\"\u001b[39m)\n",
      "Cell \u001b[0;32mIn[53], line 8\u001b[0m, in \u001b[0;36mEmployee.__init__\u001b[0;34m(self, name)\u001b[0m\n\u001b[1;32m      6\u001b[0m \u001b[38;5;28;01mdef\u001b[39;00m \u001b[38;5;21m__init__\u001b[39m(\u001b[38;5;28mself\u001b[39m,name):\n\u001b[1;32m      7\u001b[0m     \u001b[38;5;28mself\u001b[39m\u001b[38;5;241m.\u001b[39mname\u001b[38;5;241m=\u001b[39m name\n\u001b[0;32m----> 8\u001b[0m     Employee\u001b[38;5;241m.\u001b[39mnemp \u001b[38;5;241m=\u001b[39m Employee\u001b[38;5;241m.\u001b[39mnemp \u001b[38;5;241m+\u001b[39m \u001b[38;5;241m1\u001b[39m\n",
      "\u001b[0;31mTypeError\u001b[0m: can only concatenate str (not \"int\") to str"
     ]
    }
   ],
   "source": [
    "e2 = Employee(\"python\")"
   ]
  }
 ],
 "metadata": {
  "kernelspec": {
   "display_name": "Python 3 (ipykernel)",
   "language": "python",
   "name": "python3"
  },
  "language_info": {
   "codemirror_mode": {
    "name": "ipython",
    "version": 3
   },
   "file_extension": ".py",
   "mimetype": "text/x-python",
   "name": "python",
   "nbconvert_exporter": "python",
   "pygments_lexer": "ipython3",
   "version": "3.11.5"
  }
 },
 "nbformat": 4,
 "nbformat_minor": 5
}
