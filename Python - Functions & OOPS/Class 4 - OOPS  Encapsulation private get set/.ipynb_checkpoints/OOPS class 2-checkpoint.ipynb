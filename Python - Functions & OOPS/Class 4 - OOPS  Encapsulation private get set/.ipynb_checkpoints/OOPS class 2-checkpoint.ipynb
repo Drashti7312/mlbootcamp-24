{
 "cells": [
  {
   "cell_type": "markdown",
   "id": "83745b96-15cb-4397-92fa-9c47d095854c",
   "metadata": {},
   "source": [
    "# We cannot define multiple constructors in python, the latest one overrides the old one."
   ]
  }
 ],
 "metadata": {
  "kernelspec": {
   "display_name": "Python 3 (ipykernel)",
   "language": "python",
   "name": "python3"
  },
  "language_info": {
   "codemirror_mode": {
    "name": "ipython",
    "version": 3
   },
   "file_extension": ".py",
   "mimetype": "text/x-python",
   "name": "python",
   "nbconvert_exporter": "python",
   "pygments_lexer": "ipython3",
   "version": "3.11.5"
  }
 },
 "nbformat": 4,
 "nbformat_minor": 5
}
