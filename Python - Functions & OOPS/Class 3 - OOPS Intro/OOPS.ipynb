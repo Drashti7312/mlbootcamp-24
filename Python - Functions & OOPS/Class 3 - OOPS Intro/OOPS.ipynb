{
 "cells": [
  {
   "cell_type": "code",
   "execution_count": 1,
   "id": "dcc8ccc0-b09d-4722-bd8e-659f4f9dc297",
   "metadata": {
    "tags": []
   },
   "outputs": [],
   "source": [
    "# WAP to store details like name, balance, age of 5 shopkeepers"
   ]
  },
  {
   "cell_type": "code",
   "execution_count": null,
   "id": "609b7afb-9c30-4ac3-93d2-0c69b511f396",
   "metadata": {},
   "outputs": [],
   "source": [
    "name =[]\n",
    "balance = []\n",
    "age = []\n",
    "\n",
    "details = {}\n",
    "details.add(\"name\",list())"
   ]
  },
  {
   "cell_type": "code",
   "execution_count": null,
   "id": "50b3ce58-15b1-44e0-872c-0301f95e2f0a",
   "metadata": {},
   "outputs": [],
   "source": [
    "shopekeeper s1\n"
   ]
  },
  {
   "cell_type": "code",
   "execution_count": null,
   "id": "eeabd1dc-5a9d-4bbd-b9f0-eeb67b5d3a8e",
   "metadata": {},
   "outputs": [],
   "source": [
    "College Form\n",
    "# banking form"
   ]
  },
  {
   "cell_type": "code",
   "execution_count": 9,
   "id": "152dc981-5b4d-42a9-983e-7d2ec23c89d2",
   "metadata": {
    "tags": []
   },
   "outputs": [],
   "source": [
    "int\n",
    "\n",
    "a = 5"
   ]
  },
  {
   "cell_type": "code",
   "execution_count": 2,
   "id": "e0edb77f-9dc4-4c9e-ba15-66424c87dde6",
   "metadata": {
    "tags": []
   },
   "outputs": [],
   "source": [
    "a = 5\n",
    "b=5\n",
    "c=10"
   ]
  },
  {
   "cell_type": "code",
   "execution_count": 3,
   "id": "9fba6df0-dff7-44a3-b53f-7056466d8e4a",
   "metadata": {
    "tags": []
   },
   "outputs": [
    {
     "name": "stdout",
     "output_type": "stream",
     "text": [
      "<class 'int'>\n"
     ]
    }
   ],
   "source": [
    "print(type(a))"
   ]
  },
  {
   "cell_type": "code",
   "execution_count": null,
   "id": "125ebeee-d8c7-4146-8df8-b06ab6a7241b",
   "metadata": {},
   "outputs": [],
   "source": [
    "a.append()"
   ]
  },
  {
   "cell_type": "code",
   "execution_count": 6,
   "id": "73ccfbcb-7fa4-43d3-ab58-7ab691108aa7",
   "metadata": {
    "tags": []
   },
   "outputs": [],
   "source": [
    "l1 = []\n",
    "l2 = []"
   ]
  },
  {
   "cell_type": "code",
   "execution_count": null,
   "id": "3b8478e4-a097-47b9-a47f-347254611334",
   "metadata": {},
   "outputs": [],
   "source": []
  },
  {
   "cell_type": "code",
   "execution_count": 5,
   "id": "c80d7edc-1f9d-410b-a5de-7aa38962e325",
   "metadata": {
    "tags": []
   },
   "outputs": [
    {
     "name": "stdout",
     "output_type": "stream",
     "text": [
      "<class 'list'>\n"
     ]
    }
   ],
   "source": [
    "print(type(l1))"
   ]
  },
  {
   "cell_type": "code",
   "execution_count": 11,
   "id": "d5fe0585-e0bb-41db-93cd-b41a843101c4",
   "metadata": {
    "tags": []
   },
   "outputs": [],
   "source": [
    "l1.clear()\n",
    "l2.clear()"
   ]
  },
  {
   "cell_type": "code",
   "execution_count": null,
   "id": "2a58bfe4-c23a-42e3-b27f-1616d4c809b7",
   "metadata": {},
   "outputs": [],
   "source": []
  },
  {
   "cell_type": "code",
   "execution_count": null,
   "id": "a17493fa-2fca-4c8d-88fa-7e9325841fcd",
   "metadata": {},
   "outputs": [],
   "source": []
  },
  {
   "cell_type": "code",
   "execution_count": null,
   "id": "7b450219-893f-42cc-b2f4-518a00e77517",
   "metadata": {},
   "outputs": [],
   "source": []
  },
  {
   "cell_type": "code",
   "execution_count": 14,
   "id": "9176507b-f568-4f24-a470-654a6c2070f3",
   "metadata": {
    "tags": []
   },
   "outputs": [],
   "source": [
    "class Car:\n",
    "    def start():\n",
    "        print(\"car started\")\n",
    "    def stop():\n",
    "        print(\"car started\")"
   ]
  },
  {
   "cell_type": "code",
   "execution_count": 20,
   "id": "adc22aa7-1507-4b33-84eb-c55919f4a714",
   "metadata": {
    "tags": []
   },
   "outputs": [],
   "source": [
    "wagonR = Car()"
   ]
  },
  {
   "cell_type": "code",
   "execution_count": 21,
   "id": "b1370190-c1e3-4305-9e03-5b99a742eb3d",
   "metadata": {
    "tags": []
   },
   "outputs": [
    {
     "name": "stdout",
     "output_type": "stream",
     "text": [
      "<class '__main__.Car'>\n"
     ]
    }
   ],
   "source": [
    "print(type(wagonR))"
   ]
  },
  {
   "cell_type": "code",
   "execution_count": 18,
   "id": "741eeabf-3bc6-42ed-a2b6-8c068722fba9",
   "metadata": {
    "tags": []
   },
   "outputs": [
    {
     "name": "stdout",
     "output_type": "stream",
     "text": [
      "<class 'int'>\n"
     ]
    }
   ],
   "source": [
    "print(type(a))"
   ]
  },
  {
   "cell_type": "code",
   "execution_count": 23,
   "id": "ff1dc0ca-3fed-49bd-8558-70d39fcd86f7",
   "metadata": {
    "tags": []
   },
   "outputs": [
    {
     "name": "stdout",
     "output_type": "stream",
     "text": [
      "<class 'int'>\n"
     ]
    }
   ],
   "source": [
    "a = 10\n",
    "print(type(a))"
   ]
  },
  {
   "cell_type": "code",
   "execution_count": 30,
   "id": "40580af3-2eff-46ec-9059-b47c9ebfe499",
   "metadata": {
    "tags": []
   },
   "outputs": [],
   "source": [
    "santro = Car()"
   ]
  },
  {
   "cell_type": "code",
   "execution_count": 31,
   "id": "2d962e39-bb2c-4270-92c4-5565c9a8c4f1",
   "metadata": {
    "tags": []
   },
   "outputs": [],
   "source": [
    "l1 = []"
   ]
  },
  {
   "cell_type": "code",
   "execution_count": 32,
   "id": "de8ff5d2-e1e9-4f6a-93ba-eb87ed5e7799",
   "metadata": {
    "tags": []
   },
   "outputs": [],
   "source": [
    "l2 =list()"
   ]
  },
  {
   "cell_type": "code",
   "execution_count": 34,
   "id": "ad992370-bb92-46a3-9285-452c0980a6b9",
   "metadata": {
    "tags": []
   },
   "outputs": [
    {
     "name": "stdout",
     "output_type": "stream",
     "text": [
      "<class 'list'>\n",
      "<class 'list'>\n"
     ]
    }
   ],
   "source": [
    "print(type(l1))\n",
    "print(type(l2))"
   ]
  },
  {
   "cell_type": "code",
   "execution_count": null,
   "id": "32a0dadd-77f3-402f-82a2-8c7fc7792dd9",
   "metadata": {},
   "outputs": [],
   "source": [
    "[] == list()"
   ]
  },
  {
   "cell_type": "code",
   "execution_count": 35,
   "id": "03cff7ce-bc9d-4d0e-a1f0-db3a4d6e3f67",
   "metadata": {
    "tags": []
   },
   "outputs": [
    {
     "ename": "AttributeError",
     "evalue": "'list' object has no attribute 'start'",
     "output_type": "error",
     "traceback": [
      "\u001b[0;31m---------------------------------------------------------------------------\u001b[0m",
      "\u001b[0;31mAttributeError\u001b[0m                            Traceback (most recent call last)",
      "Cell \u001b[0;32mIn[35], line 1\u001b[0m\n\u001b[0;32m----> 1\u001b[0m l1\u001b[38;5;241m.\u001b[39mstart()\n",
      "\u001b[0;31mAttributeError\u001b[0m: 'list' object has no attribute 'start'"
     ]
    }
   ],
   "source": [
    "l1.start()"
   ]
  },
  {
   "cell_type": "code",
   "execution_count": 37,
   "id": "81e219f7-2d9d-4f02-9f6b-7994708376c4",
   "metadata": {
    "tags": []
   },
   "outputs": [],
   "source": [
    "l1.clear()"
   ]
  },
  {
   "cell_type": "code",
   "execution_count": 25,
   "id": "e823345e-1517-4bd4-bc14-14d14dad4803",
   "metadata": {
    "tags": []
   },
   "outputs": [],
   "source": [
    "l1 = []\n",
    "l2 = list()"
   ]
  },
  {
   "cell_type": "code",
   "execution_count": 33,
   "id": "795ae834-9439-4309-8ce9-86c1fd310707",
   "metadata": {
    "tags": []
   },
   "outputs": [
    {
     "name": "stdout",
     "output_type": "stream",
     "text": [
      "<class 'list'>\n",
      "<class 'list'>\n"
     ]
    }
   ],
   "source": [
    "print(type(l1))\n",
    "print(type(l2))"
   ]
  },
  {
   "cell_type": "code",
   "execution_count": null,
   "id": "bcf4d07e-8a48-4c3b-80e6-fa0775cbdf52",
   "metadata": {},
   "outputs": [],
   "source": []
  },
  {
   "cell_type": "code",
   "execution_count": null,
   "id": "a8977d47-de77-4506-b237-806612fd45e2",
   "metadata": {},
   "outputs": [],
   "source": []
  },
  {
   "cell_type": "code",
   "execution_count": null,
   "id": "79b53f53-060d-46cd-86f8-b7d4b0e85586",
   "metadata": {},
   "outputs": [],
   "source": []
  },
  {
   "cell_type": "code",
   "execution_count": null,
   "id": "3506f224-8c58-4317-abd9-3d73d22d660a",
   "metadata": {},
   "outputs": [],
   "source": []
  },
  {
   "cell_type": "code",
   "execution_count": null,
   "id": "e232975a-7366-46cf-8f30-ee5d23e7a3c4",
   "metadata": {},
   "outputs": [],
   "source": []
  },
  {
   "cell_type": "code",
   "execution_count": null,
   "id": "a65ff47c-54ec-407c-8563-1986fc9ea7b0",
   "metadata": {},
   "outputs": [],
   "source": []
  },
  {
   "cell_type": "code",
   "execution_count": null,
   "id": "5beafe41-6c1a-4da6-9019-cbf24735023f",
   "metadata": {},
   "outputs": [],
   "source": []
  },
  {
   "cell_type": "code",
   "execution_count": null,
   "id": "80dbdc14-abe0-48ac-a636-d6c4fe6d2aa0",
   "metadata": {},
   "outputs": [],
   "source": []
  },
  {
   "cell_type": "code",
   "execution_count": 24,
   "id": "d33acbcd-feb7-4c69-97df-7f633270e887",
   "metadata": {
    "tags": []
   },
   "outputs": [],
   "source": [
    "name1 = \"mayank\"\n",
    "name2 = str()"
   ]
  },
  {
   "cell_type": "code",
   "execution_count": 26,
   "id": "67ec0706-5bed-4341-a610-8b01da7ce66f",
   "metadata": {
    "tags": []
   },
   "outputs": [
    {
     "name": "stdout",
     "output_type": "stream",
     "text": [
      "<class 'str'>\n",
      "<class 'str'>\n"
     ]
    }
   ],
   "source": [
    "print(type(name1))\n",
    "print(type(name2))"
   ]
  },
  {
   "cell_type": "code",
   "execution_count": null,
   "id": "b541790c-1c68-4707-9250-9c8907294439",
   "metadata": {},
   "outputs": [],
   "source": [
    "print(type(l1))\n",
    "print(type(l2))"
   ]
  },
  {
   "cell_type": "code",
   "execution_count": 28,
   "id": "4dceb700-9c02-41b8-bbf7-00fa50d1fade",
   "metadata": {
    "tags": []
   },
   "outputs": [
    {
     "data": {
      "text/plain": [
       "int"
      ]
     },
     "execution_count": 28,
     "metadata": {},
     "output_type": "execute_result"
    }
   ],
   "source": [
    "a = int()\n",
    "\n",
    "type(a)"
   ]
  },
  {
   "cell_type": "code",
   "execution_count": 29,
   "id": "8a627f8e-1513-4ed6-ae52-ac371d5f8c17",
   "metadata": {
    "tags": []
   },
   "outputs": [
    {
     "data": {
      "text/plain": [
       "0"
      ]
     },
     "execution_count": 29,
     "metadata": {},
     "output_type": "execute_result"
    }
   ],
   "source": []
  },
  {
   "cell_type": "code",
   "execution_count": 45,
   "id": "7e33fa74-56af-46d8-b786-54714b6ab7b0",
   "metadata": {
    "tags": []
   },
   "outputs": [],
   "source": [
    "l1 = list((3,))"
   ]
  },
  {
   "cell_type": "code",
   "execution_count": 46,
   "id": "69eba91e-8b43-42a3-944b-1653bea1bf8d",
   "metadata": {
    "tags": []
   },
   "outputs": [],
   "source": [
    "l2 = list((3,4,5))"
   ]
  },
  {
   "cell_type": "code",
   "execution_count": 47,
   "id": "9835bef6-2db1-460f-bde7-abd1c50a1ada",
   "metadata": {
    "tags": []
   },
   "outputs": [
    {
     "data": {
      "text/plain": [
       "[3]"
      ]
     },
     "execution_count": 47,
     "metadata": {},
     "output_type": "execute_result"
    }
   ],
   "source": [
    "l1"
   ]
  },
  {
   "cell_type": "code",
   "execution_count": 48,
   "id": "c40fcb0d-7fa8-4184-869f-3d5f3fef7546",
   "metadata": {
    "tags": []
   },
   "outputs": [
    {
     "data": {
      "text/plain": [
       "[3, 4, 5]"
      ]
     },
     "execution_count": 48,
     "metadata": {},
     "output_type": "execute_result"
    }
   ],
   "source": [
    "l2"
   ]
  },
  {
   "cell_type": "code",
   "execution_count": 70,
   "id": "cc5291ea-cbc4-459e-b2bb-5af9235b888d",
   "metadata": {
    "tags": []
   },
   "outputs": [
    {
     "data": {
      "text/plain": [
       "['__add__',\n",
       " '__class__',\n",
       " '__class_getitem__',\n",
       " '__contains__',\n",
       " '__delattr__',\n",
       " '__dir__',\n",
       " '__doc__',\n",
       " '__eq__',\n",
       " '__format__',\n",
       " '__ge__',\n",
       " '__getattribute__',\n",
       " '__getitem__',\n",
       " '__getnewargs__',\n",
       " '__getstate__',\n",
       " '__gt__',\n",
       " '__hash__',\n",
       " '__init__',\n",
       " '__init_subclass__',\n",
       " '__iter__',\n",
       " '__le__',\n",
       " '__len__',\n",
       " '__lt__',\n",
       " '__mul__',\n",
       " '__ne__',\n",
       " '__new__',\n",
       " '__reduce__',\n",
       " '__reduce_ex__',\n",
       " '__repr__',\n",
       " '__rmul__',\n",
       " '__setattr__',\n",
       " '__sizeof__',\n",
       " '__str__',\n",
       " '__subclasshook__',\n",
       " 'count',\n",
       " 'index']"
      ]
     },
     "execution_count": 70,
     "metadata": {},
     "output_type": "execute_result"
    }
   ],
   "source": []
  },
  {
   "cell_type": "code",
   "execution_count": null,
   "id": "e9fe5327-3d44-4925-887a-509eb8e9617c",
   "metadata": {},
   "outputs": [],
   "source": [
    "l1."
   ]
  },
  {
   "cell_type": "code",
   "execution_count": 61,
   "id": "6027991a-b625-4488-b905-8483aee2133e",
   "metadata": {
    "tags": []
   },
   "outputs": [],
   "source": [
    "class ATM:\n",
    "    \n",
    "    \n",
    "    def __init__(self):\n",
    "        print(\"I am a magic method, you didn't call me but I still got call.\")\n",
    "        print(\"creating an object of class ATM for you\")\n",
    "    def check_balance():\n",
    "        print(\"balance is 0\")\n",
    "    def change_pin():\n",
    "        print(\"balance is 0\")"
   ]
  },
  {
   "cell_type": "code",
   "execution_count": 62,
   "id": "94b03db7-0b0e-4b98-9a31-5a6f26732614",
   "metadata": {
    "tags": []
   },
   "outputs": [
    {
     "name": "stdout",
     "output_type": "stream",
     "text": [
      "I am a magic method, you didn't call me but I still got call.\n",
      "creating an object of class ATM for you\n"
     ]
    }
   ],
   "source": [
    "sbi = ATM()"
   ]
  },
  {
   "cell_type": "code",
   "execution_count": null,
   "id": "1a8801bb-31b2-475b-b972-80e03d7d56f7",
   "metadata": {},
   "outputs": [],
   "source": [
    "sbi"
   ]
  },
  {
   "cell_type": "code",
   "execution_count": 63,
   "id": "160bc473-53b0-4aea-9391-08d82dc08fba",
   "metadata": {
    "tags": []
   },
   "outputs": [
    {
     "name": "stdout",
     "output_type": "stream",
     "text": [
      "I am a magic method, you didn't call me but I still got call.\n",
      "creating an object of class ATM for you\n"
     ]
    }
   ],
   "source": [
    "hdfc = ATM()"
   ]
  },
  {
   "cell_type": "code",
   "execution_count": 64,
   "id": "d90bf672-6522-4312-9429-7abd2c7a272b",
   "metadata": {
    "tags": []
   },
   "outputs": [
    {
     "name": "stdout",
     "output_type": "stream",
     "text": [
      "I am a magic method, you didn't call me but I still got call.\n",
      "creating an object of class ATM for you\n"
     ]
    }
   ],
   "source": [
    "icici = ATM()"
   ]
  },
  {
   "cell_type": "markdown",
   "id": "3f411bfa-285a-441e-a8d4-fec3c8939468",
   "metadata": {},
   "source": [
    "means only __init__ wala magic method called itself only? but other magic method I have to call myself?\n",
    "\n",
    "- NO, __INIT__ is a magic method which gets called when we create a object of my class and it is also known as constructor. But that doesn't mean others will not be called, they are called on some other use cases which we might or might not see."
   ]
  },
  {
   "cell_type": "code",
   "execution_count": null,
   "id": "7da03fa6-c7eb-4a43-8f14-b4431f05caac",
   "metadata": {},
   "outputs": [],
   "source": []
  },
  {
   "cell_type": "code",
   "execution_count": null,
   "id": "bd5e5f93-fa83-4fc4-9acb-1e47d5d359a4",
   "metadata": {},
   "outputs": [],
   "source": []
  },
  {
   "cell_type": "code",
   "execution_count": null,
   "id": "85e545eb-449b-4287-8949-d182650c0835",
   "metadata": {},
   "outputs": [],
   "source": []
  },
  {
   "cell_type": "code",
   "execution_count": null,
   "id": "de66cdd5-16c1-4da4-aee0-c6f5ab6cc1e2",
   "metadata": {},
   "outputs": [],
   "source": []
  },
  {
   "cell_type": "code",
   "execution_count": null,
   "id": "abdbeada-4dff-4438-8608-9da5a5d93937",
   "metadata": {},
   "outputs": [],
   "source": []
  },
  {
   "cell_type": "markdown",
   "id": "780ead09-e40a-4104-835a-7f823c3552f2",
   "metadata": {},
   "source": [
    "# SELF"
   ]
  },
  {
   "cell_type": "code",
   "execution_count": null,
   "id": "10883c1e-2004-4e39-85e4-5ada7b21429e",
   "metadata": {},
   "outputs": [],
   "source": []
  },
  {
   "cell_type": "code",
   "execution_count": 98,
   "id": "b7db1b3c-628b-4b76-8cfc-19323efce126",
   "metadata": {
    "tags": []
   },
   "outputs": [],
   "source": [
    "def add(a,b):\n",
    "    print(a+b)"
   ]
  },
  {
   "cell_type": "code",
   "execution_count": 99,
   "id": "03db0a40-3581-4a66-ab5f-b434b185598b",
   "metadata": {
    "tags": []
   },
   "outputs": [
    {
     "name": "stdout",
     "output_type": "stream",
     "text": [
      "15\n"
     ]
    }
   ],
   "source": [
    "add(5,10)"
   ]
  },
  {
   "cell_type": "code",
   "execution_count": null,
   "id": "e93aae9b-d793-47bb-94ab-8a0eb51695c5",
   "metadata": {},
   "outputs": [],
   "source": []
  },
  {
   "cell_type": "code",
   "execution_count": 106,
   "id": "6e2ce52b-da7d-4f3d-a855-6f60e02b7047",
   "metadata": {
    "tags": []
   },
   "outputs": [],
   "source": [
    "def myFun(myArgument):\n",
    "    # print(myArgument)\n",
    "    print(\" i am a function which takes 0 arg\")"
   ]
  },
  {
   "cell_type": "raw",
   "id": "68144038-06cb-4784-a660-ce491330a9e4",
   "metadata": {},
   "source": []
  },
  {
   "cell_type": "code",
   "execution_count": 107,
   "id": "66e094cc-c999-4301-980d-d9234b8fc1e0",
   "metadata": {
    "tags": []
   },
   "outputs": [
    {
     "name": "stdout",
     "output_type": "stream",
     "text": [
      "123\n",
      " i am a function which takes 0 arg\n"
     ]
    }
   ],
   "source": [
    "myFun(123)"
   ]
  },
  {
   "cell_type": "code",
   "execution_count": null,
   "id": "c9fd0aff-119a-4a30-88a2-ec273225720e",
   "metadata": {},
   "outputs": [],
   "source": []
  },
  {
   "cell_type": "code",
   "execution_count": null,
   "id": "30247ffe-c9e9-4895-9d70-f1f6aff8ae9d",
   "metadata": {},
   "outputs": [],
   "source": []
  },
  {
   "cell_type": "code",
   "execution_count": 73,
   "id": "7b2dd2b3-e40b-4186-80ad-0442e2a801fe",
   "metadata": {
    "tags": []
   },
   "outputs": [],
   "source": [
    "a = 5"
   ]
  },
  {
   "cell_type": "code",
   "execution_count": 74,
   "id": "6f11f460-facd-4874-9343-11da8ec214cd",
   "metadata": {
    "tags": []
   },
   "outputs": [
    {
     "data": {
      "text/plain": [
       "5"
      ]
     },
     "execution_count": 74,
     "metadata": {},
     "output_type": "execute_result"
    }
   ],
   "source": [
    "a # object of class integer"
   ]
  },
  {
   "cell_type": "code",
   "execution_count": 75,
   "id": "b8ad560f-25da-4058-b3c0-2825e35dcf2e",
   "metadata": {
    "tags": []
   },
   "outputs": [
    {
     "data": {
      "text/plain": [
       "4347766104"
      ]
     },
     "execution_count": 75,
     "metadata": {},
     "output_type": "execute_result"
    }
   ],
   "source": [
    "id(a)"
   ]
  },
  {
   "cell_type": "code",
   "execution_count": 89,
   "id": "06a88950-804d-48d2-9be9-8d937638fc5d",
   "metadata": {
    "tags": []
   },
   "outputs": [],
   "source": [
    "b=50"
   ]
  },
  {
   "cell_type": "code",
   "execution_count": 90,
   "id": "2475c72e-fd7f-44e8-b347-4b165b5dad88",
   "metadata": {
    "tags": []
   },
   "outputs": [
    {
     "data": {
      "text/plain": [
       "4347767544"
      ]
     },
     "execution_count": 90,
     "metadata": {},
     "output_type": "execute_result"
    }
   ],
   "source": [
    "id(b)"
   ]
  },
  {
   "cell_type": "code",
   "execution_count": null,
   "id": "55211610-7e40-4bb2-acca-50b32f0fcb48",
   "metadata": {},
   "outputs": [],
   "source": []
  },
  {
   "cell_type": "code",
   "execution_count": 79,
   "id": "1dcd71b4-6dd2-4fd1-8ecc-9050be065764",
   "metadata": {
    "tags": []
   },
   "outputs": [],
   "source": [
    "def absolute(firstNumber):\n",
    "    print(id(firstNumber))\n",
    "    return abs(firstNumber)"
   ]
  },
  {
   "cell_type": "code",
   "execution_count": 80,
   "id": "d3225f32-71cb-477e-a799-21fdf9849175",
   "metadata": {
    "tags": []
   },
   "outputs": [
    {
     "name": "stdout",
     "output_type": "stream",
     "text": [
      "4347765784\n"
     ]
    },
    {
     "data": {
      "text/plain": [
       "5"
      ]
     },
     "execution_count": 80,
     "metadata": {},
     "output_type": "execute_result"
    }
   ],
   "source": [
    "absolute(-5)"
   ]
  },
  {
   "cell_type": "code",
   "execution_count": null,
   "id": "ddaffd31-30fc-4303-8c6f-a356c993b909",
   "metadata": {},
   "outputs": [],
   "source": []
  },
  {
   "cell_type": "code",
   "execution_count": 119,
   "id": "f455339a-681d-4310-85e5-2c0e1f764d5d",
   "metadata": {
    "tags": []
   },
   "outputs": [],
   "source": [
    "class Student:\n",
    "    \n",
    "    def __init__(self):\n",
    "        print(\"I am a student object\")\n",
    "        print('The address of self is ' + str(id(self)))\n",
    "    def study(myArgumentwhichIdidntPass):\n",
    "        print(id(myArgumentwhichIdidntPass))\n",
    "        print(\"okay I will study\")\n",
    "    def party(self):\n",
    "        print(id(self))\n",
    "        print(self)\n",
    "        print(\"will study tomorrow, let us party\")"
   ]
  },
  {
   "cell_type": "code",
   "execution_count": null,
   "id": "3f2784c0-e23d-497b-891a-7587ca92d1d8",
   "metadata": {},
   "outputs": [],
   "source": []
  },
  {
   "cell_type": "code",
   "execution_count": 112,
   "id": "d44ca951-4dda-4c07-9c76-09e02cb64ac6",
   "metadata": {
    "tags": []
   },
   "outputs": [
    {
     "name": "stdout",
     "output_type": "stream",
     "text": [
      "I am a student object\n",
      "The address of self is 4428158160\n"
     ]
    }
   ],
   "source": [
    "s1 = Student()"
   ]
  },
  {
   "cell_type": "code",
   "execution_count": 84,
   "id": "56980b9d-9db6-40c9-990c-5f0c2b14e8c8",
   "metadata": {
    "tags": []
   },
   "outputs": [
    {
     "name": "stdout",
     "output_type": "stream",
     "text": [
      "The address of s1 is 4428012432\n"
     ]
    }
   ],
   "source": [
    "print('The address of s1 is ' + str(id(s1)))"
   ]
  },
  {
   "cell_type": "code",
   "execution_count": 113,
   "id": "9db9859a-fe81-4879-8337-b30a3ec85f15",
   "metadata": {
    "tags": []
   },
   "outputs": [
    {
     "name": "stdout",
     "output_type": "stream",
     "text": [
      "I am a student object\n",
      "The address of self is 4428123856\n"
     ]
    }
   ],
   "source": [
    "s2 = Student()"
   ]
  },
  {
   "cell_type": "code",
   "execution_count": 86,
   "id": "c49d6e0b-f9e2-48da-90d2-cc148999a7d1",
   "metadata": {
    "tags": []
   },
   "outputs": [
    {
     "name": "stdout",
     "output_type": "stream",
     "text": [
      "The address of s2 is 4427879632\n"
     ]
    }
   ],
   "source": [
    "print('The address of s2 is ' + str(id(s2)))"
   ]
  },
  {
   "cell_type": "code",
   "execution_count": 114,
   "id": "dfb85e6b-2b36-41d2-9666-ba75d849219a",
   "metadata": {
    "tags": []
   },
   "outputs": [
    {
     "name": "stdout",
     "output_type": "stream",
     "text": [
      "<__main__.Student object at 0x107efced0>\n"
     ]
    }
   ],
   "source": [
    "print(s2)"
   ]
  },
  {
   "cell_type": "markdown",
   "id": "850fdb79-8e2d-4bf6-9438-6f3e96461c8a",
   "metadata": {},
   "source": [
    "# If you make any changes to your class, you have to define it and your object again"
   ]
  },
  {
   "cell_type": "code",
   "execution_count": 142,
   "id": "732b1f63-3a1a-4f69-a68b-de35ec799ece",
   "metadata": {
    "tags": []
   },
   "outputs": [
    {
     "name": "stdout",
     "output_type": "stream",
     "text": [
      "5\n"
     ]
    }
   ],
   "source": [
    "a = 5\n",
    "print(a)"
   ]
  },
  {
   "cell_type": "code",
   "execution_count": 138,
   "id": "b76e7d42-83dd-4c73-b45c-0dc0c49274cf",
   "metadata": {
    "tags": []
   },
   "outputs": [],
   "source": [
    "def myFun():\n",
    "    #print(self)\n",
    "    print(\" i am a function which takes 0 arg\")"
   ]
  },
  {
   "cell_type": "code",
   "execution_count": 139,
   "id": "c23978d7-e69c-484a-ba95-4a15b54283bb",
   "metadata": {
    "tags": []
   },
   "outputs": [
    {
     "ename": "TypeError",
     "evalue": "myFun() takes 0 positional arguments but 1 was given",
     "output_type": "error",
     "traceback": [
      "\u001b[0;31m---------------------------------------------------------------------------\u001b[0m",
      "\u001b[0;31mTypeError\u001b[0m                                 Traceback (most recent call last)",
      "Cell \u001b[0;32mIn[139], line 1\u001b[0m\n\u001b[0;32m----> 1\u001b[0m myFun(\u001b[38;5;241m123\u001b[39m)\n",
      "\u001b[0;31mTypeError\u001b[0m: myFun() takes 0 positional arguments but 1 was given"
     ]
    }
   ],
   "source": [
    "myFun(123)"
   ]
  },
  {
   "cell_type": "code",
   "execution_count": 120,
   "id": "0aae6e53-1e99-45ab-9b54-8e2fd412710d",
   "metadata": {
    "tags": []
   },
   "outputs": [
    {
     "name": "stdout",
     "output_type": "stream",
     "text": [
      "4428158160\n",
      "<__main__.Student object at 0x107f054d0>\n",
      "will study tomorrow, let us party\n"
     ]
    }
   ],
   "source": [
    "s1.party()"
   ]
  },
  {
   "cell_type": "code",
   "execution_count": 121,
   "id": "1da030ee-69df-4a1a-b3d7-a6039a23df94",
   "metadata": {
    "tags": []
   },
   "outputs": [
    {
     "name": "stdout",
     "output_type": "stream",
     "text": [
      "4428158160\n"
     ]
    }
   ],
   "source": [
    "print(id(s1))"
   ]
  },
  {
   "cell_type": "code",
   "execution_count": 122,
   "id": "1484fee6-b1e6-429a-a6ab-828559289c71",
   "metadata": {
    "tags": []
   },
   "outputs": [
    {
     "name": "stdout",
     "output_type": "stream",
     "text": [
      "<__main__.Student object at 0x107f054d0>\n"
     ]
    }
   ],
   "source": [
    "print(s1)"
   ]
  },
  {
   "cell_type": "code",
   "execution_count": null,
   "id": "cae92094-fac2-4f92-858f-959fa929e2ae",
   "metadata": {},
   "outputs": [],
   "source": []
  },
  {
   "cell_type": "code",
   "execution_count": 141,
   "id": "75892f1e-3255-46d3-85f3-870fd0d137d8",
   "metadata": {
    "tags": []
   },
   "outputs": [],
   "source": [
    "class Student:\n",
    "    def __init__(self):\n",
    "        print(\"I am a student object\")\n",
    "        print('The address of self is ' + str(id(self)))\n",
    "    def study(self):\n",
    "        print(id(self))\n",
    "        print(\"okay I will study\")\n",
    "    def party(self):\n",
    "        print(id(self))\n",
    "        print(self)\n",
    "        print(\"will study tomorrow, let us party\")\n",
    "    def myfun1(self,firstargument):\n",
    "        print(firstargument)"
   ]
  },
  {
   "cell_type": "code",
   "execution_count": 131,
   "id": "fa9d806f-4154-400a-b505-c7e20afaaa4a",
   "metadata": {
    "tags": []
   },
   "outputs": [
    {
     "name": "stdout",
     "output_type": "stream",
     "text": [
      "I am a student object\n",
      "The address of self is 4427500816\n"
     ]
    }
   ],
   "source": [
    "s3 = Student()"
   ]
  },
  {
   "cell_type": "code",
   "execution_count": 132,
   "id": "c7b0689c-314c-4e3d-b40d-55db363c04f5",
   "metadata": {
    "tags": []
   },
   "outputs": [
    {
     "name": "stdout",
     "output_type": "stream",
     "text": [
      "4427500816\n",
      "<__main__.Student object at 0x107e64d10>\n",
      "will study tomorrow, let us party\n"
     ]
    }
   ],
   "source": [
    "s3.party()"
   ]
  },
  {
   "cell_type": "code",
   "execution_count": 133,
   "id": "2915ca68-b625-4b29-beb1-5c6d441e02c0",
   "metadata": {
    "tags": []
   },
   "outputs": [
    {
     "name": "stdout",
     "output_type": "stream",
     "text": [
      "<__main__.Student object at 0x107e64d10>\n",
      "4427500816\n"
     ]
    }
   ],
   "source": [
    "print(s3)\n",
    "print(id(s3))\n",
    "id(s3)"
   ]
  },
  {
   "cell_type": "code",
   "execution_count": 135,
   "id": "e18a0952-828b-4426-b66f-1adf7da94549",
   "metadata": {
    "tags": []
   },
   "outputs": [
    {
     "name": "stdout",
     "output_type": "stream",
     "text": [
      "123\n"
     ]
    }
   ],
   "source": [
    "s3.myfun1(123)"
   ]
  },
  {
   "cell_type": "code",
   "execution_count": 140,
   "id": "8c91819d-1930-49fd-973c-1db58b87706c",
   "metadata": {
    "tags": []
   },
   "outputs": [
    {
     "name": "stdout",
     "output_type": "stream",
     "text": [
      "4427500816\n",
      "<__main__.Student object at 0x107e64d10>\n",
      "will study tomorrow, let us party\n"
     ]
    }
   ],
   "source": [
    "s3.party()"
   ]
  },
  {
   "cell_type": "code",
   "execution_count": 165,
   "id": "5fce7664-5c9d-48ba-9fa1-c58de3de6143",
   "metadata": {
    "tags": []
   },
   "outputs": [
    {
     "name": "stdout",
     "output_type": "stream",
     "text": [
      "3\n"
     ]
    }
   ],
   "source": [
    "a =3\n",
    "print(a)"
   ]
  },
  {
   "cell_type": "code",
   "execution_count": 171,
   "id": "a22b4eac-de6e-4731-972b-90535f849b4c",
   "metadata": {
    "tags": []
   },
   "outputs": [
    {
     "name": "stdout",
     "output_type": "stream",
     "text": [
      "[3]\n"
     ]
    }
   ],
   "source": [
    "a=[3]\n",
    "print(a)"
   ]
  },
  {
   "cell_type": "code",
   "execution_count": null,
   "id": "333865b6-d0a8-4718-ba83-8a363f0c53e6",
   "metadata": {},
   "outputs": [],
   "source": []
  },
  {
   "cell_type": "code",
   "execution_count": null,
   "id": "db6bf646-0a43-45eb-bc59-274eb6f0d318",
   "metadata": {},
   "outputs": [],
   "source": []
  },
  {
   "cell_type": "markdown",
   "id": "91de29a2-5228-49b3-8fc3-9e88b858e6a0",
   "metadata": {
    "tags": []
   },
   "source": [
    "# Create a Student Class which takes marks of 2 subject and has a function which can calcualte there average"
   ]
  },
  {
   "cell_type": "code",
   "execution_count": null,
   "id": "7d884f94-c5d6-4fb7-ad36-9811c0862b79",
   "metadata": {},
   "outputs": [],
   "source": []
  },
  {
   "cell_type": "code",
   "execution_count": null,
   "id": "f6feac7c-da77-44b5-9b3b-0327ec9f1740",
   "metadata": {},
   "outputs": [],
   "source": []
  },
  {
   "cell_type": "code",
   "execution_count": 181,
   "id": "a38ea19f-7fb5-47f3-b229-77206f621c27",
   "metadata": {
    "tags": []
   },
   "outputs": [],
   "source": [
    "class SchoolStudent:\n",
    "    \n",
    "    def __init__(self):\n",
    "        print(\"creating a school student\")\n",
    "        self.math = 95\n",
    "        self.science = 92\n",
    "\n",
    "    def __str__(self):\n",
    "        print(\"the score of math is\" + str(self.math))\n",
    "        print(\"the score of science is\" + str(self.science))\n",
    "        return \"\"\n",
    "\n",
    "    def find_average(self):\n",
    "        avg = (self.math + self.science)/2\n",
    "        print(\"average is \" + str(avg))"
   ]
  },
  {
   "cell_type": "code",
   "execution_count": 182,
   "id": "e5a34428-328f-45d5-a2ea-4dd7956f6d78",
   "metadata": {
    "tags": []
   },
   "outputs": [
    {
     "name": "stdout",
     "output_type": "stream",
     "text": [
      "creating a school student\n"
     ]
    }
   ],
   "source": [
    "s1 =SchoolStudent()"
   ]
  },
  {
   "cell_type": "code",
   "execution_count": null,
   "id": "996898b7-4317-4858-a4b0-7813caad2e9d",
   "metadata": {},
   "outputs": [],
   "source": []
  },
  {
   "cell_type": "code",
   "execution_count": 175,
   "id": "4ec45a25-f829-4b08-9383-884e7e954e01",
   "metadata": {
    "tags": []
   },
   "outputs": [
    {
     "data": {
      "text/plain": [
       "92"
      ]
     },
     "execution_count": 175,
     "metadata": {},
     "output_type": "execute_result"
    }
   ],
   "source": [
    "s1.science "
   ]
  },
  {
   "cell_type": "code",
   "execution_count": 176,
   "id": "604931d0-4fb7-4422-a39d-b31bf7a606aa",
   "metadata": {
    "tags": []
   },
   "outputs": [
    {
     "name": "stdout",
     "output_type": "stream",
     "text": [
      "average is 93.5\n"
     ]
    }
   ],
   "source": [
    "s1.find_average()"
   ]
  },
  {
   "cell_type": "code",
   "execution_count": 183,
   "id": "e1e5aeb8-4095-40a0-aa42-8409c87dd222",
   "metadata": {
    "tags": []
   },
   "outputs": [
    {
     "name": "stdout",
     "output_type": "stream",
     "text": [
      "the score of math is95\n",
      "the score of science is92\n",
      "\n"
     ]
    }
   ],
   "source": [
    "print(s1)"
   ]
  },
  {
   "cell_type": "code",
   "execution_count": 184,
   "id": "787c8eba-0bf4-4092-bed7-3bae6891c755",
   "metadata": {
    "tags": []
   },
   "outputs": [
    {
     "name": "stdout",
     "output_type": "stream",
     "text": [
      "creating a school student\n"
     ]
    }
   ],
   "source": [
    "s2 = SchoolStudent()"
   ]
  },
  {
   "cell_type": "code",
   "execution_count": 190,
   "id": "23caeacc-331e-4713-aaea-7a079900a1ca",
   "metadata": {
    "tags": []
   },
   "outputs": [
    {
     "name": "stdout",
     "output_type": "stream",
     "text": [
      "average is 93.5\n"
     ]
    }
   ],
   "source": [
    "s2.find_average()"
   ]
  },
  {
   "cell_type": "code",
   "execution_count": 186,
   "id": "211cd1be-6cb4-4b2a-bea0-2b6041c669da",
   "metadata": {
    "tags": []
   },
   "outputs": [
    {
     "name": "stdout",
     "output_type": "stream",
     "text": [
      "creating a school student\n"
     ]
    }
   ],
   "source": [
    "s3 = SchoolStudent()"
   ]
  },
  {
   "cell_type": "code",
   "execution_count": 189,
   "id": "6e58ecdc-1969-406c-a045-3f9ab446ca83",
   "metadata": {
    "tags": []
   },
   "outputs": [
    {
     "name": "stdout",
     "output_type": "stream",
     "text": [
      "average is 93.5\n"
     ]
    }
   ],
   "source": [
    "s3.find_average()"
   ]
  },
  {
   "cell_type": "code",
   "execution_count": 235,
   "id": "939845cb-fb66-4131-8889-497a446899f3",
   "metadata": {
    "tags": []
   },
   "outputs": [],
   "source": [
    "class SchoolStudent2:\n",
    "    \n",
    "    def __init__(self,math=60,science=50):\n",
    "        print(\"creating a school student\")\n",
    "        self.math = math\n",
    "        self.science = science\n",
    "        \n",
    "    def __str__(self):\n",
    "        print(\"the score of math is\" + str(self.math))\n",
    "        print(\"the score of science is\" + str(self.science))\n",
    "        return \"\"\n",
    "\n",
    "    def find_average(self):\n",
    "        avg = (self.math + self.science)/2\n",
    "        print(\"average is \" + str(avg))"
   ]
  },
  {
   "cell_type": "code",
   "execution_count": 236,
   "id": "3db6a684-d1aa-4021-9899-7f56a2eb0951",
   "metadata": {
    "tags": []
   },
   "outputs": [
    {
     "name": "stdout",
     "output_type": "stream",
     "text": [
      "creating a school student\n"
     ]
    }
   ],
   "source": [
    "ss4 = SchoolStudent2()"
   ]
  },
  {
   "cell_type": "code",
   "execution_count": 237,
   "id": "baefdc23-e247-4c26-af5e-b90d856c1828",
   "metadata": {
    "tags": []
   },
   "outputs": [
    {
     "name": "stdout",
     "output_type": "stream",
     "text": [
      "the score of math is60\n",
      "the score of science is50\n",
      "\n"
     ]
    }
   ],
   "source": [
    "print(ss4)"
   ]
  },
  {
   "cell_type": "code",
   "execution_count": 238,
   "id": "c9f6c169-dda8-49cd-8ba3-0ed0f916fbd5",
   "metadata": {
    "tags": []
   },
   "outputs": [
    {
     "name": "stdout",
     "output_type": "stream",
     "text": [
      "creating a school student\n"
     ]
    }
   ],
   "source": [
    "ss5 = SchoolStudent2(96,92)"
   ]
  },
  {
   "cell_type": "code",
   "execution_count": 239,
   "id": "c290e574-d6f1-450a-b03d-d6f2a9de669d",
   "metadata": {
    "tags": []
   },
   "outputs": [
    {
     "name": "stdout",
     "output_type": "stream",
     "text": [
      "the score of math is96\n",
      "the score of science is92\n",
      "\n"
     ]
    }
   ],
   "source": [
    "print(ss5)"
   ]
  },
  {
   "cell_type": "code",
   "execution_count": null,
   "id": "ddb0fe20-31f8-4628-9807-0264041cb3e8",
   "metadata": {},
   "outputs": [],
   "source": []
  },
  {
   "cell_type": "code",
   "execution_count": 193,
   "id": "e024f08d-bbca-456b-bfb0-7fad0a8f7a22",
   "metadata": {
    "tags": []
   },
   "outputs": [
    {
     "name": "stdout",
     "output_type": "stream",
     "text": [
      "creating a school student\n"
     ]
    }
   ],
   "source": [
    "ss1 = SchoolStudent2(95,92)"
   ]
  },
  {
   "cell_type": "code",
   "execution_count": 223,
   "id": "79be4d1c-005a-4afd-a74e-6c299e3774b6",
   "metadata": {
    "tags": []
   },
   "outputs": [
    {
     "name": "stdin",
     "output_type": "stream",
     "text": [
      "tell me your maths marks 50\n",
      "tell me your science marks 60\n"
     ]
    }
   ],
   "source": [
    "a1 = int(input(\"tell me your maths marks\"))\n",
    "a2 = int(input(\"tell me your science marks\"))"
   ]
  },
  {
   "cell_type": "code",
   "execution_count": 226,
   "id": "70d508d0-a2b9-4f75-b336-b12096406ebb",
   "metadata": {
    "tags": []
   },
   "outputs": [
    {
     "name": "stdout",
     "output_type": "stream",
     "text": [
      "creating a school student\n"
     ]
    }
   ],
   "source": [
    "ss2 = SchoolStudent2(a1,a2)"
   ]
  },
  {
   "cell_type": "code",
   "execution_count": 196,
   "id": "dbcc2848-3cce-4487-a579-513f77904db8",
   "metadata": {
    "tags": []
   },
   "outputs": [
    {
     "name": "stdout",
     "output_type": "stream",
     "text": [
      "average is 93.5\n"
     ]
    }
   ],
   "source": [
    "ss1.find_average()"
   ]
  },
  {
   "cell_type": "code",
   "execution_count": 197,
   "id": "cf86298c-8107-4108-8dcc-8215785ae599",
   "metadata": {
    "tags": []
   },
   "outputs": [
    {
     "name": "stdout",
     "output_type": "stream",
     "text": [
      "average is 60.0\n"
     ]
    }
   ],
   "source": [
    "ss2.find_average()"
   ]
  },
  {
   "cell_type": "code",
   "execution_count": null,
   "id": "d8bde8cf-c690-4843-adca-2ebf8ab79aae",
   "metadata": {},
   "outputs": [],
   "source": [
    "# "
   ]
  },
  {
   "cell_type": "markdown",
   "id": "075cb702-c196-4f2b-a5bc-d95b4b9b939b",
   "metadata": {},
   "source": [
    "# we cannot define multiple constructors provided there arguments are of different length"
   ]
  },
  {
   "cell_type": "code",
   "execution_count": null,
   "id": "99c88b7a-b55f-4fc9-b5ec-33023f313975",
   "metadata": {},
   "outputs": [],
   "source": []
  },
  {
   "cell_type": "code",
   "execution_count": null,
   "id": "6046697e-6b35-4a4c-9bf7-e27af00e20eb",
   "metadata": {},
   "outputs": [],
   "source": []
  },
  {
   "cell_type": "code",
   "execution_count": null,
   "id": "e26cb7ab-05f0-4e3e-87ce-52ac68868812",
   "metadata": {},
   "outputs": [],
   "source": []
  },
  {
   "cell_type": "code",
   "execution_count": 206,
   "id": "1e185f51-fb06-438a-abb1-98b3b46c37a2",
   "metadata": {
    "tags": []
   },
   "outputs": [],
   "source": [
    "class MyNewClass:\n",
    "    def run(self):\n",
    "        self.math = 95\n",
    "        print(\"I am running\")\n"
   ]
  },
  {
   "cell_type": "code",
   "execution_count": 207,
   "id": "56d2eb17-7c5b-48ee-a5b3-9e0d61019556",
   "metadata": {
    "tags": []
   },
   "outputs": [],
   "source": [
    "obj1 = MyNewClass()"
   ]
  },
  {
   "cell_type": "code",
   "execution_count": 208,
   "id": "ded2ae67-47a1-4640-b949-a4d78d55e1f2",
   "metadata": {
    "tags": []
   },
   "outputs": [
    {
     "name": "stdout",
     "output_type": "stream",
     "text": [
      "I am running\n"
     ]
    }
   ],
   "source": [
    "obj1.run()"
   ]
  },
  {
   "cell_type": "code",
   "execution_count": 209,
   "id": "980583a2-f91d-4d4c-8791-25102ed166a4",
   "metadata": {
    "tags": []
   },
   "outputs": [
    {
     "data": {
      "text/plain": [
       "95"
      ]
     },
     "execution_count": 209,
     "metadata": {},
     "output_type": "execute_result"
    }
   ],
   "source": [
    "obj1.math"
   ]
  },
  {
   "cell_type": "code",
   "execution_count": 210,
   "id": "3cb6bd2b-a231-4c75-b591-e3e72d6693e1",
   "metadata": {
    "tags": []
   },
   "outputs": [],
   "source": [
    "obj2 = MyNewClass()"
   ]
  },
  {
   "cell_type": "code",
   "execution_count": 212,
   "id": "548a9eca-7ec3-4498-ba09-4e6958e27ef1",
   "metadata": {
    "tags": []
   },
   "outputs": [
    {
     "data": {
      "text/plain": [
       "['__class__',\n",
       " '__delattr__',\n",
       " '__dict__',\n",
       " '__dir__',\n",
       " '__doc__',\n",
       " '__eq__',\n",
       " '__format__',\n",
       " '__ge__',\n",
       " '__getattribute__',\n",
       " '__getstate__',\n",
       " '__gt__',\n",
       " '__hash__',\n",
       " '__init__',\n",
       " '__init_subclass__',\n",
       " '__le__',\n",
       " '__lt__',\n",
       " '__module__',\n",
       " '__ne__',\n",
       " '__new__',\n",
       " '__reduce__',\n",
       " '__reduce_ex__',\n",
       " '__repr__',\n",
       " '__setattr__',\n",
       " '__sizeof__',\n",
       " '__str__',\n",
       " '__subclasshook__',\n",
       " '__weakref__',\n",
       " 'run']"
      ]
     },
     "execution_count": 212,
     "metadata": {},
     "output_type": "execute_result"
    }
   ],
   "source": [
    "dir(obj2)"
   ]
  },
  {
   "cell_type": "markdown",
   "id": "3d2ac3b6-f78b-4e3d-a040-c2f3466d996c",
   "metadata": {},
   "source": [
    "# Python doesn't support multiple constructor but it only takes the one which gets defined first"
   ]
  },
  {
   "cell_type": "code",
   "execution_count": null,
   "id": "0dcbfb10-afff-4b7d-8d9f-ee3b3586ab07",
   "metadata": {},
   "outputs": [],
   "source": []
  },
  {
   "cell_type": "code",
   "execution_count": null,
   "id": "b0e22afc-503c-4650-b365-0c3c8c0ca601",
   "metadata": {},
   "outputs": [],
   "source": []
  },
  {
   "cell_type": "code",
   "execution_count": 243,
   "id": "6d0b15b0-7aac-46c6-aa3c-bae97b7c474d",
   "metadata": {
    "tags": []
   },
   "outputs": [],
   "source": [
    "class student:\n",
    "\n",
    "    def __init__(self):\n",
    "        self.__math = 0\n",
    "        self.science = 0\n",
    "    def __init__(self, math, science):\n",
    "        self.math = math\n",
    "        self.science = science\n",
    "    def find_average(self):\n",
    "        return (self.math+self.science)/2\n"
   ]
  },
  {
   "cell_type": "code",
   "execution_count": 246,
   "id": "a4b030a7-d03a-4ac8-92fb-c3dcd7f3c0c6",
   "metadata": {
    "tags": []
   },
   "outputs": [
    {
     "ename": "TypeError",
     "evalue": "student.__init__() missing 2 required positional arguments: 'math' and 'science'",
     "output_type": "error",
     "traceback": [
      "\u001b[0;31m---------------------------------------------------------------------------\u001b[0m",
      "\u001b[0;31mTypeError\u001b[0m                                 Traceback (most recent call last)",
      "Cell \u001b[0;32mIn[246], line 1\u001b[0m\n\u001b[0;32m----> 1\u001b[0m s1 \u001b[38;5;241m=\u001b[39m student()\n",
      "\u001b[0;31mTypeError\u001b[0m: student.__init__() missing 2 required positional arguments: 'math' and 'science'"
     ]
    }
   ],
   "source": [
    "\n",
    "s1 = student()\n",
    "\n"
   ]
  },
  {
   "cell_type": "code",
   "execution_count": null,
   "id": "7df92004-6057-454e-96a2-c3833b09222b",
   "metadata": {},
   "outputs": [],
   "source": []
  },
  {
   "cell_type": "code",
   "execution_count": null,
   "id": "59266bf9-c924-4d4a-ba5d-f1b6e94f804b",
   "metadata": {},
   "outputs": [],
   "source": []
  },
  {
   "cell_type": "code",
   "execution_count": null,
   "id": "b78c4f86-b60c-4bdf-b88f-16dde18e50d7",
   "metadata": {},
   "outputs": [],
   "source": []
  },
  {
   "cell_type": "code",
   "execution_count": null,
   "id": "6ce76dd6-3ea6-42e7-b587-2e5dce80e567",
   "metadata": {},
   "outputs": [],
   "source": []
  },
  {
   "cell_type": "code",
   "execution_count": 251,
   "id": "4e736846-5391-4eeb-a340-39885cdf5c1a",
   "metadata": {
    "tags": []
   },
   "outputs": [],
   "source": [
    "class student:\n",
    "    def __init__(self):\n",
    "        self.__math = 0\n",
    "        self.__science = 0\n",
    "    def find_average(self):\n",
    "        self.avg = (self.math+self.science)/2\n",
    "        return (self.math+self.science)/2\n"
   ]
  },
  {
   "cell_type": "code",
   "execution_count": 250,
   "id": "ec552fb1-425a-4b9c-b43f-bf1b3c230f23",
   "metadata": {
    "tags": []
   },
   "outputs": [],
   "source": [
    "sss1 = student()"
   ]
  },
  {
   "cell_type": "code",
   "execution_count": 242,
   "id": "f3f5da77-dc3d-4dba-b0c1-41f1fd8f647a",
   "metadata": {
    "tags": []
   },
   "outputs": [
    {
     "data": {
      "text/plain": [
       "0.0"
      ]
     },
     "execution_count": 242,
     "metadata": {},
     "output_type": "execute_result"
    }
   ],
   "source": [
    "sss1."
   ]
  },
  {
   "cell_type": "code",
   "execution_count": null,
   "id": "75cd89d5-94e8-4cec-a7b4-99e38cc21da6",
   "metadata": {},
   "outputs": [],
   "source": []
  }
 ],
 "metadata": {
  "kernelspec": {
   "display_name": "Python 3 (ipykernel)",
   "language": "python",
   "name": "python3"
  },
  "language_info": {
   "codemirror_mode": {
    "name": "ipython",
    "version": 3
   },
   "file_extension": ".py",
   "mimetype": "text/x-python",
   "name": "python",
   "nbconvert_exporter": "python",
   "pygments_lexer": "ipython3",
   "version": "3.11.5"
  }
 },
 "nbformat": 4,
 "nbformat_minor": 5
}
