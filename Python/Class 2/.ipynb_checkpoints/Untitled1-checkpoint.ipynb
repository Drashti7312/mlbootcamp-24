{
 "cells": [
  {
   "cell_type": "code",
   "execution_count": 1,
   "id": "682b465f-5a25-4f12-98b6-f0fcd800d918",
   "metadata": {
    "tags": []
   },
   "outputs": [],
   "source": [
    "_ = 20"
   ]
  },
  {
   "cell_type": "code",
   "execution_count": 5,
   "id": "5a290580-0bc7-4594-b3e2-2c1b694e3c4d",
   "metadata": {
    "tags": []
   },
   "outputs": [],
   "source": [
    "del _"
   ]
  },
  {
   "cell_type": "code",
   "execution_count": 6,
   "id": "cb6ce87c-af00-4d5e-a218-f227d0ab430c",
   "metadata": {
    "tags": []
   },
   "outputs": [
    {
     "ename": "NameError",
     "evalue": "name '_' is not defined",
     "output_type": "error",
     "traceback": [
      "\u001b[0;31m---------------------------------------------------------------------------\u001b[0m",
      "\u001b[0;31mNameError\u001b[0m                                 Traceback (most recent call last)",
      "Cell \u001b[0;32mIn[6], line 1\u001b[0m\n\u001b[0;32m----> 1\u001b[0m \u001b[38;5;28mprint\u001b[39m(_)\n",
      "\u001b[0;31mNameError\u001b[0m: name '_' is not defined"
     ]
    }
   ],
   "source": [
    "print(_)"
   ]
  },
  {
   "cell_type": "code",
   "execution_count": null,
   "id": "48ce6a84-611f-468f-86dc-1701e2c6683e",
   "metadata": {},
   "outputs": [],
   "source": []
  },
  {
   "cell_type": "code",
   "execution_count": null,
   "id": "79b7721b-39a4-4c3a-b56c-24819fb7971a",
   "metadata": {},
   "outputs": [],
   "source": []
  },
  {
   "cell_type": "code",
   "execution_count": null,
   "id": "f549a8b6-98e5-4736-95c5-bb9471d91356",
   "metadata": {},
   "outputs": [],
   "source": []
  },
  {
   "cell_type": "code",
   "execution_count": null,
   "id": "ca650a10-810e-4558-a64e-a268513493b5",
   "metadata": {},
   "outputs": [],
   "source": []
  },
  {
   "cell_type": "code",
   "execution_count": 3,
   "id": "65ad97ed-201a-4c9d-b792-d04a13573a16",
   "metadata": {
    "tags": []
   },
   "outputs": [
    {
     "ename": "SyntaxError",
     "evalue": "invalid syntax (743397545.py, line 1)",
     "output_type": "error",
     "traceback": [
      "\u001b[0;36m  Cell \u001b[0;32mIn[3], line 1\u001b[0;36m\u001b[0m\n\u001b[0;31m    def raise():\u001b[0m\n\u001b[0m        ^\u001b[0m\n\u001b[0;31mSyntaxError\u001b[0m\u001b[0;31m:\u001b[0m invalid syntax\n"
     ]
    }
   ],
   "source": [
    "def raise():\n",
    "    print(\"hi\")"
   ]
  },
  {
   "cell_type": "code",
   "execution_count": null,
   "id": "c8500d14-5f0d-44a1-a6d0-03fd027a87b3",
   "metadata": {},
   "outputs": [],
   "source": []
  },
  {
   "cell_type": "code",
   "execution_count": null,
   "id": "7836bf95-57a5-4544-bd7d-1db9d5208b9a",
   "metadata": {},
   "outputs": [],
   "source": []
  },
  {
   "cell_type": "code",
   "execution_count": null,
   "id": "ab701a24-a69b-431a-93b4-fba8efd41cdc",
   "metadata": {},
   "outputs": [],
   "source": []
  },
  {
   "cell_type": "code",
   "execution_count": 15,
   "id": "4363ff1b-af65-4e8c-90ad-c7be68c70e12",
   "metadata": {
    "tags": []
   },
   "outputs": [],
   "source": [
    "def sum_with_return(a,b):\n",
    "    c =a+b\n",
    "    return \n"
   ]
  },
  {
   "cell_type": "code",
   "execution_count": 16,
   "id": "1ea339f3-b8d3-43b1-9333-f19100bfd06b",
   "metadata": {
    "tags": []
   },
   "outputs": [],
   "source": [
    "c = sum_with_return(5,10)"
   ]
  },
  {
   "cell_type": "code",
   "execution_count": 17,
   "id": "909d8c0d-6c80-42a0-93e5-6f5709b9ab83",
   "metadata": {
    "tags": []
   },
   "outputs": [
    {
     "data": {
      "text/plain": [
       "15"
      ]
     },
     "execution_count": 17,
     "metadata": {},
     "output_type": "execute_result"
    }
   ],
   "source": [
    "c"
   ]
  },
  {
   "cell_type": "code",
   "execution_count": 25,
   "id": "0f1c09b2-3e8f-4445-91e5-a207dc959552",
   "metadata": {
    "tags": []
   },
   "outputs": [],
   "source": [
    "def sum_without_return(a,b):\n",
    "    c = a/b"
   ]
  },
  {
   "cell_type": "code",
   "execution_count": 21,
   "id": "cf4077b7-bf52-4766-86f5-97c41d85ea06",
   "metadata": {
    "tags": []
   },
   "outputs": [
    {
     "name": "stdout",
     "output_type": "stream",
     "text": [
      "Hello\n"
     ]
    }
   ],
   "source": [
    "sum_without_return(10,5)\n",
    "print(\"Hello\")"
   ]
  },
  {
   "cell_type": "code",
   "execution_count": 27,
   "id": "601df74a-a3d5-4529-b64d-26e70d2eadd1",
   "metadata": {
    "tags": []
   },
   "outputs": [],
   "source": [
    "sum_without_return(10,2)"
   ]
  },
  {
   "cell_type": "code",
   "execution_count": 24,
   "id": "ec104e42-de10-4180-80f5-eaeeb2489287",
   "metadata": {
    "tags": []
   },
   "outputs": [
    {
     "data": {
      "text/plain": [
       "15"
      ]
     },
     "execution_count": 24,
     "metadata": {},
     "output_type": "execute_result"
    }
   ],
   "source": [
    "sum_with_return(10,)"
   ]
  },
  {
   "cell_type": "code",
   "execution_count": null,
   "id": "9a182992-ee03-4b05-a187-5c59dc72e386",
   "metadata": {},
   "outputs": [],
   "source": []
  },
  {
   "cell_type": "code",
   "execution_count": null,
   "id": "8ff07355-c238-47d7-addd-ea34ab7a015f",
   "metadata": {},
   "outputs": [],
   "source": []
  },
  {
   "cell_type": "code",
   "execution_count": 28,
   "id": "b3cc1426-daef-422b-ad8c-320d148c3162",
   "metadata": {
    "tags": []
   },
   "outputs": [],
   "source": [
    "c = sum_with_return(19,1)\n"
   ]
  },
  {
   "cell_type": "code",
   "execution_count": 29,
   "id": "c2c5ef99-a9ca-4118-a203-e6d900d9e916",
   "metadata": {
    "tags": []
   },
   "outputs": [],
   "source": [
    "if(c >25):\n",
    "    print(\"yes\")"
   ]
  },
  {
   "cell_type": "code",
   "execution_count": null,
   "id": "e71bd339-6726-4181-883d-5ec18ff84623",
   "metadata": {},
   "outputs": [],
   "source": []
  },
  {
   "cell_type": "code",
   "execution_count": null,
   "id": "e250b038-7909-4895-aba9-e9fd86f65e4a",
   "metadata": {},
   "outputs": [],
   "source": []
  },
  {
   "cell_type": "code",
   "execution_count": null,
   "id": "280aa9a3-8594-449e-a08b-2db9ae60cab2",
   "metadata": {},
   "outputs": [],
   "source": []
  },
  {
   "cell_type": "code",
   "execution_count": null,
   "id": "ad9c46f4-be3d-49f2-ab6e-449846606147",
   "metadata": {},
   "outputs": [],
   "source": []
  },
  {
   "cell_type": "code",
   "execution_count": null,
   "id": "67f9ec48-316b-45ef-abbe-5329c5e24cc0",
   "metadata": {},
   "outputs": [],
   "source": []
  },
  {
   "cell_type": "code",
   "execution_count": null,
   "id": "3f254e28-acfd-407b-897d-e9c1694d2260",
   "metadata": {},
   "outputs": [],
   "source": []
  },
  {
   "cell_type": "code",
   "execution_count": null,
   "id": "066039a9-ea59-42ab-aab4-953548639ed8",
   "metadata": {},
   "outputs": [],
   "source": []
  },
  {
   "cell_type": "code",
   "execution_count": 37,
   "id": "2d3034fa-a1b5-4dc6-af1a-136bf5ce9a8d",
   "metadata": {
    "tags": []
   },
   "outputs": [
    {
     "name": "stdout",
     "output_type": "stream",
     "text": [
      "hello5$world5$how5$are5$you\n"
     ]
    }
   ],
   "source": [
    "print(\"hello\",\"world\",\"how\",\"are\",\"you\",sep=\"5$\")"
   ]
  },
  {
   "cell_type": "code",
   "execution_count": null,
   "id": "5fabac48-e48c-44c0-b2ff-b4b98c77634f",
   "metadata": {},
   "outputs": [],
   "source": []
  }
 ],
 "metadata": {
  "kernelspec": {
   "display_name": "Python 3 (ipykernel)",
   "language": "python",
   "name": "python3"
  },
  "language_info": {
   "codemirror_mode": {
    "name": "ipython",
    "version": 3
   },
   "file_extension": ".py",
   "mimetype": "text/x-python",
   "name": "python",
   "nbconvert_exporter": "python",
   "pygments_lexer": "ipython3",
   "version": "3.11.5"
  }
 },
 "nbformat": 4,
 "nbformat_minor": 5
}
