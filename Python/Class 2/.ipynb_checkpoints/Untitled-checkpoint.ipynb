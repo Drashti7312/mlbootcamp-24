{
 "cells": [
  {
   "cell_type": "markdown",
   "id": "0c53a44f-2ad5-4431-b7c1-5eb45f802b79",
   "metadata": {},
   "source": [
    "# Installation of Anaconda to Run Python.\n",
    "\n",
    "If anyone is facing issues in installing Anaconda on their machine, please follow the below steps.\n",
    "\n",
    "  \n",
    "\n",
    "[How to Install Anaconda to Run Python for Data Science | by Mayank Aggarwal | Feb, 2024 | Medium](https://medium.com/@thecodingcookie/how-to-install-anaconda-to-run-python-for-data-science-7a6a0b0928d8)\n",
    "\n",
    "  \n",
    "\n",
    "**Note : Neuro Lab is currently under enhancement so we will be using either Anaconda or Google Colab.**"
   ]
  },
  {
   "cell_type": "code",
   "execution_count": null,
   "id": "8d533fac-9376-48c2-9cbf-06fe627f0555",
   "metadata": {},
   "outputs": [],
   "source": []
  }
 ],
 "metadata": {
  "kernelspec": {
   "display_name": "Python 3 (ipykernel)",
   "language": "python",
   "name": "python3"
  },
  "language_info": {
   "codemirror_mode": {
    "name": "ipython",
    "version": 3
   },
   "file_extension": ".py",
   "mimetype": "text/x-python",
   "name": "python",
   "nbconvert_exporter": "python",
   "pygments_lexer": "ipython3",
   "version": "3.11.5"
  }
 },
 "nbformat": 4,
 "nbformat_minor": 5
}
