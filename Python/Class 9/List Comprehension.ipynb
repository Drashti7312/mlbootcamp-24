{
 "cells": [
  {
   "cell_type": "code",
   "execution_count": null,
   "id": "972fea82-a4a9-4988-9943-a562b16de1b9",
   "metadata": {},
   "outputs": [],
   "source": [
    "# List Comprehension\n",
    "\n"
   ]
  },
  {
   "cell_type": "code",
   "execution_count": 1,
   "id": "f875a292-f2b7-4d93-b4b2-1309126dc85e",
   "metadata": {
    "tags": []
   },
   "outputs": [
    {
     "data": {
      "text/plain": [
       "2"
      ]
     },
     "execution_count": 1,
     "metadata": {},
     "output_type": "execute_result"
    }
   ],
   "source": [
    "li1 = [1,2,\"mayank\"]\n",
    "\n",
    "li1[1]"
   ]
  },
  {
   "cell_type": "code",
   "execution_count": null,
   "id": "f5ed87f5-4f1d-4a54-9e08-d8923444ee0a",
   "metadata": {},
   "outputs": [],
   "source": [
    "# WAP to create a list of first 10 natural numbers\n"
   ]
  },
  {
   "cell_type": "code",
   "execution_count": 3,
   "id": "381e5eef-0f0c-44eb-aab8-2d2f6b9bbe2b",
   "metadata": {
    "tags": []
   },
   "outputs": [],
   "source": [
    "li2 = []\n",
    "\n",
    "for i in range(1,11):\n",
    "    li2.append(i)"
   ]
  },
  {
   "cell_type": "code",
   "execution_count": 6,
   "id": "fb7bb446-bc83-4bd3-8f1b-c367f8474bfb",
   "metadata": {
    "tags": []
   },
   "outputs": [
    {
     "ename": "SyntaxError",
     "evalue": "invalid syntax (104169705.py, line 1)",
     "output_type": "error",
     "traceback": [
      "\u001b[0;36m  Cell \u001b[0;32mIn[6], line 1\u001b[0;36m\u001b[0m\n\u001b[0;31m    i for i in range(1,11)\u001b[0m\n\u001b[0m      ^\u001b[0m\n\u001b[0;31mSyntaxError\u001b[0m\u001b[0;31m:\u001b[0m invalid syntax\n"
     ]
    }
   ],
   "source": [
    "i for i in range(1,11)"
   ]
  },
  {
   "cell_type": "code",
   "execution_count": 5,
   "id": "c26496ae-a0ce-4cb2-9e0b-4ef574081647",
   "metadata": {
    "tags": []
   },
   "outputs": [
    {
     "data": {
      "text/plain": [
       "[1, 2, 3, 4, 5, 6, 7, 8, 9, 10]"
      ]
     },
     "execution_count": 5,
     "metadata": {},
     "output_type": "execute_result"
    }
   ],
   "source": [
    "[ i for i in range(1,11)]"
   ]
  },
  {
   "cell_type": "markdown",
   "id": "d354c3f0-b585-4be5-83ab-8c6618464395",
   "metadata": {},
   "source": [
    "### WAP to store first 10 even numbers in a list\n",
    "\n"
   ]
  },
  {
   "cell_type": "code",
   "execution_count": 9,
   "id": "87adb1d4-2452-4d8c-88d4-66a4eb1a8c87",
   "metadata": {
    "tags": []
   },
   "outputs": [
    {
     "data": {
      "text/plain": [
       "[2, 4, 6, 8, 10, 12, 14, 16, 18, 20]"
      ]
     },
     "execution_count": 9,
     "metadata": {},
     "output_type": "execute_result"
    }
   ],
   "source": [
    "li3 = []\n",
    "for i in range(2,21,2):\n",
    "    li3.append(i)\n",
    "li3"
   ]
  },
  {
   "cell_type": "code",
   "execution_count": 10,
   "id": "cd8c3b2a-339c-4491-9db4-80be3f76c1f0",
   "metadata": {
    "tags": []
   },
   "outputs": [],
   "source": [
    "li4 = [ num for num in range(2,21,2)]"
   ]
  },
  {
   "cell_type": "code",
   "execution_count": 11,
   "id": "3e3491d0-c505-445e-a3a2-32649451745d",
   "metadata": {
    "tags": []
   },
   "outputs": [
    {
     "data": {
      "text/plain": [
       "[2, 4, 6, 8, 10, 12, 14, 16, 18, 20]"
      ]
     },
     "execution_count": 11,
     "metadata": {},
     "output_type": "execute_result"
    }
   ],
   "source": [
    "li4"
   ]
  },
  {
   "cell_type": "code",
   "execution_count": 12,
   "id": "a029c25d-91ec-4153-b40d-4928f42595ac",
   "metadata": {
    "tags": []
   },
   "outputs": [
    {
     "data": {
      "text/plain": [
       "[1, 2, 3, 4, 5, 6, 7, 8, 9, 10, 11, 12, 13, 14, 15, 16, 17, 18, 19, 20]"
      ]
     },
     "execution_count": 12,
     "metadata": {},
     "output_type": "execute_result"
    }
   ],
   "source": [
    "li5 = [ num for num in range(1,21)]\n",
    "li5"
   ]
  },
  {
   "cell_type": "code",
   "execution_count": 14,
   "id": "86cec61e-df95-4391-a026-c76c7ea99434",
   "metadata": {
    "tags": []
   },
   "outputs": [
    {
     "data": {
      "text/plain": [
       "[2, 4, 6, 8, 10, 12, 14, 16, 18, 20]"
      ]
     },
     "execution_count": 14,
     "metadata": {},
     "output_type": "execute_result"
    }
   ],
   "source": [
    "li6 = [ num for num in range(1,21) if num%2==0]\n",
    "li6"
   ]
  },
  {
   "cell_type": "code",
   "execution_count": 15,
   "id": "28f34955-16c6-43cc-bb0f-ec9aeb4f5290",
   "metadata": {
    "tags": []
   },
   "outputs": [
    {
     "data": {
      "text/plain": [
       "[2, 4, 6, 8, 10, 12, 14, 16, 18, 20]"
      ]
     },
     "execution_count": 15,
     "metadata": {},
     "output_type": "execute_result"
    }
   ],
   "source": [
    "li7 = []\n",
    "for number in range(1,21):\n",
    "    if(number%2==0):\n",
    "        li7.append(number)\n",
    "\n",
    "li7"
   ]
  },
  {
   "cell_type": "code",
   "execution_count": 19,
   "id": "859d65dc-a053-4b72-a74e-f83ca60dccf6",
   "metadata": {
    "tags": []
   },
   "outputs": [
    {
     "data": {
      "text/plain": [
       "[1, 4, 9, 16, 25, 36, 49, 64, 81, 100]"
      ]
     },
     "execution_count": 19,
     "metadata": {},
     "output_type": "execute_result"
    }
   ],
   "source": [
    "squarelist = [ i*i for i in range(1,11) ]\n",
    "squarelist"
   ]
  },
  {
   "cell_type": "code",
   "execution_count": 21,
   "id": "f4ea7007-c8c5-4f30-b19e-f95b5eeb48b6",
   "metadata": {
    "tags": []
   },
   "outputs": [
    {
     "data": {
      "text/plain": [
       "[4, 16, 36, 64, 100]"
      ]
     },
     "execution_count": 21,
     "metadata": {},
     "output_type": "execute_result"
    }
   ],
   "source": [
    "squarelist = [ i*i for i in range(1,11) if i %2 == 0 ] # condition is optional\n",
    "\n",
    "squarelist "
   ]
  },
  {
   "cell_type": "code",
   "execution_count": 26,
   "id": "301bfe90-ac2a-4ba9-85c0-e8a448c1535f",
   "metadata": {
    "tags": []
   },
   "outputs": [],
   "source": [
    "def power(num):\n",
    "    return num*num"
   ]
  },
  {
   "cell_type": "code",
   "execution_count": 23,
   "id": "0c67f0d7-ec5f-4ca9-945e-15ecf69610f0",
   "metadata": {
    "tags": []
   },
   "outputs": [
    {
     "data": {
      "text/plain": [
       "[1, 4, 9, 16, 25, 36, 49, 64, 81, 100]"
      ]
     },
     "execution_count": 23,
     "metadata": {},
     "output_type": "execute_result"
    }
   ],
   "source": [
    "squarelist2 = [ power(i) for i in range(1,11) ]\n",
    "squarelist2"
   ]
  },
  {
   "cell_type": "code",
   "execution_count": 24,
   "id": "2f175987-fa11-4d33-8c35-d1c6eb4bc330",
   "metadata": {
    "tags": []
   },
   "outputs": [
    {
     "name": "stdout",
     "output_type": "stream",
     "text": [
      "1\n",
      "4\n",
      "9\n",
      "16\n",
      "25\n",
      "36\n",
      "49\n",
      "64\n",
      "81\n",
      "100\n"
     ]
    }
   ],
   "source": [
    "for i in range(1,11):\n",
    "    print(power(i))"
   ]
  },
  {
   "cell_type": "code",
   "execution_count": 25,
   "id": "1f2ea96e-95ff-492c-85f2-3527b42e58bc",
   "metadata": {
    "tags": []
   },
   "outputs": [
    {
     "data": {
      "text/plain": [
       "[[1, 2], [1, 2], [1, 2]]"
      ]
     },
     "execution_count": 25,
     "metadata": {},
     "output_type": "execute_result"
    }
   ],
   "source": [
    "[[1,2],[1,2],[1,2]]"
   ]
  },
  {
   "cell_type": "code",
   "execution_count": 27,
   "id": "f3df111b-3e7a-4571-8fc0-514f01fb3101",
   "metadata": {
    "tags": []
   },
   "outputs": [
    {
     "ename": "SyntaxError",
     "evalue": "invalid decimal literal (1121514765.py, line 1)",
     "output_type": "error",
     "traceback": [
      "\u001b[0;36m  Cell \u001b[0;32mIn[27], line 1\u001b[0;36m\u001b[0m\n\u001b[0;31m    2dList = [i for i in range(0,2)]\u001b[0m\n\u001b[0m    ^\u001b[0m\n\u001b[0;31mSyntaxError\u001b[0m\u001b[0;31m:\u001b[0m invalid decimal literal\n"
     ]
    }
   ],
   "source": [
    "2dList = [i for i in range(0,2)]"
   ]
  },
  {
   "cell_type": "code",
   "execution_count": 30,
   "id": "a9c359ee-06dd-4cd2-9152-ed0682aca864",
   "metadata": {
    "tags": []
   },
   "outputs": [],
   "source": [
    "twoDlist = [ [j for j in range(2)] for i in range(2)]"
   ]
  },
  {
   "cell_type": "code",
   "execution_count": 31,
   "id": "96f6d04c-373e-429e-8415-aa32807bd18d",
   "metadata": {
    "tags": []
   },
   "outputs": [
    {
     "data": {
      "text/plain": [
       "[[0, 1], [0, 1]]"
      ]
     },
     "execution_count": 31,
     "metadata": {},
     "output_type": "execute_result"
    }
   ],
   "source": [
    "twoDlist"
   ]
  },
  {
   "cell_type": "code",
   "execution_count": 32,
   "id": "63018b42-8c00-46a6-92a2-adc669722bab",
   "metadata": {
    "tags": []
   },
   "outputs": [
    {
     "data": {
      "text/plain": [
       "[[0, 1], [0, 1]]"
      ]
     },
     "execution_count": 32,
     "metadata": {},
     "output_type": "execute_result"
    }
   ],
   "source": [
    "looped2Dlist =[]\n",
    "\n",
    "for i in range(2):\n",
    "    li = []\n",
    "    for j in range(2):\n",
    "        li.append(j)\n",
    "    looped2Dlist.append(li)\n",
    "    \n",
    "looped2Dlist\n"
   ]
  },
  {
   "cell_type": "code",
   "execution_count": 44,
   "id": "287d2678-f023-4b78-a910-b67b6168f078",
   "metadata": {
    "tags": []
   },
   "outputs": [
    {
     "data": {
      "text/plain": [
       "[0, 1]"
      ]
     },
     "execution_count": 44,
     "metadata": {},
     "output_type": "execute_result"
    }
   ],
   "source": [
    "twoDlist = [ i for i in range(2)]\n",
    "twoDlist"
   ]
  },
  {
   "cell_type": "code",
   "execution_count": 42,
   "id": "ddac68fd-963f-423f-b799-5c60a5047b27",
   "metadata": {
    "tags": []
   },
   "outputs": [
    {
     "data": {
      "text/plain": [
       "['hello', 'hello']"
      ]
     },
     "execution_count": 42,
     "metadata": {},
     "output_type": "execute_result"
    }
   ],
   "source": [
    "twoDlist = [ \"hello\" for i in range(2)]\n",
    "twoDlist"
   ]
  },
  {
   "cell_type": "code",
   "execution_count": 43,
   "id": "b058f227-99e6-411c-bccb-5afeff25a3e2",
   "metadata": {
    "tags": []
   },
   "outputs": [
    {
     "data": {
      "text/plain": [
       "[5, 5]"
      ]
     },
     "execution_count": 43,
     "metadata": {},
     "output_type": "execute_result"
    }
   ],
   "source": [
    "twoDlist = [ 5 for i in range(2)]\n",
    "twoDlist"
   ]
  },
  {
   "cell_type": "code",
   "execution_count": 45,
   "id": "e2e51077-4f22-4060-b2d5-4d66fc0187df",
   "metadata": {
    "tags": []
   },
   "outputs": [
    {
     "data": {
      "text/plain": [
       "['48180yrha', '48180yrha']"
      ]
     },
     "execution_count": 45,
     "metadata": {},
     "output_type": "execute_result"
    }
   ],
   "source": [
    "twoDlist = [ \"48180yrha\"  for i in range(2)]\n",
    "twoDlist"
   ]
  },
  {
   "cell_type": "code",
   "execution_count": 40,
   "id": "be9f1087-8073-4072-ad67-fe6bab4302ef",
   "metadata": {
    "tags": []
   },
   "outputs": [
    {
     "data": {
      "text/plain": [
       "[[1, 2], [1, 2]]"
      ]
     },
     "execution_count": 40,
     "metadata": {},
     "output_type": "execute_result"
    }
   ],
   "source": [
    "twoDlist = [ [1,2] for i in range(2)]\n",
    "twoDlist"
   ]
  },
  {
   "cell_type": "code",
   "execution_count": 48,
   "id": "452d5a80-7aef-49d2-82d5-ca85e506433d",
   "metadata": {
    "tags": []
   },
   "outputs": [
    {
     "data": {
      "text/plain": [
       "[[0, 1], [0, 1], [0, 1], [0, 1], [0, 1], [0, 1]]"
      ]
     },
     "execution_count": 48,
     "metadata": {},
     "output_type": "execute_result"
    }
   ],
   "source": [
    "twoDlist = [ [j for j in range(2)] for i in range(6)]\n",
    "twoDlist"
   ]
  },
  {
   "cell_type": "code",
   "execution_count": 49,
   "id": "72bf5a5d-77eb-4a4d-9f9f-5d5c1ec7085f",
   "metadata": {
    "tags": []
   },
   "outputs": [
    {
     "ename": "KeyboardInterrupt",
     "evalue": "",
     "output_type": "error",
     "traceback": [
      "\u001b[0;31m---------------------------------------------------------------------------\u001b[0m",
      "\u001b[0;31mKeyboardInterrupt\u001b[0m                         Traceback (most recent call last)",
      "Cell \u001b[0;32mIn[49], line 5\u001b[0m\n\u001b[1;32m      2\u001b[0m ki \u001b[38;5;241m=\u001b[39m [\u001b[38;5;241m1\u001b[39m,\u001b[38;5;241m2\u001b[39m]\n\u001b[1;32m      4\u001b[0m \u001b[38;5;28;01mfor\u001b[39;00m m \u001b[38;5;129;01min\u001b[39;00m ki:\n\u001b[0;32m----> 5\u001b[0m     ki\u001b[38;5;241m.\u001b[39mappend(m\u001b[38;5;241m*\u001b[39mm)\n\u001b[1;32m      6\u001b[0m ki\n",
      "\u001b[0;31mKeyboardInterrupt\u001b[0m: "
     ]
    }
   ],
   "source": [
    "# square of number in the list\n",
    "ki = [1,2]\n",
    "\n",
    "for m in ki:\n",
    "    ki.append(m*m)\n",
    "ki"
   ]
  },
  {
   "cell_type": "code",
   "execution_count": null,
   "id": "faf1dc07-c342-41cd-bdba-17814d70c51e",
   "metadata": {},
   "outputs": [],
   "source": []
  },
  {
   "cell_type": "code",
   "execution_count": 51,
   "id": "4044c402-204f-4b20-89e2-6778229a6ef4",
   "metadata": {
    "tags": []
   },
   "outputs": [],
   "source": [
    "allEmail = ['abc@gmail.com' , 'def@yahoo.com']"
   ]
  },
  {
   "cell_type": "code",
   "execution_count": 52,
   "id": "6688cb1c-cb6b-4cb3-8455-8d944e9c12bc",
   "metadata": {
    "tags": []
   },
   "outputs": [],
   "source": [
    "gmail = [ i for i in allEmail if 'gmail' in i]"
   ]
  },
  {
   "cell_type": "code",
   "execution_count": 53,
   "id": "513de045-f633-4137-bbb9-5233154a85c7",
   "metadata": {
    "tags": []
   },
   "outputs": [
    {
     "data": {
      "text/plain": [
       "['abc@gmail.com']"
      ]
     },
     "execution_count": 53,
     "metadata": {},
     "output_type": "execute_result"
    }
   ],
   "source": [
    "gmail"
   ]
  },
  {
   "cell_type": "code",
   "execution_count": null,
   "id": "1f22db29-bbc4-4d25-a440-0e6241192ae0",
   "metadata": {},
   "outputs": [],
   "source": []
  },
  {
   "cell_type": "code",
   "execution_count": null,
   "id": "7856179b-f546-4efe-8e88-002c24e9eb82",
   "metadata": {},
   "outputs": [],
   "source": []
  }
 ],
 "metadata": {
  "kernelspec": {
   "display_name": "Python 3 (ipykernel)",
   "language": "python",
   "name": "python3"
  },
  "language_info": {
   "codemirror_mode": {
    "name": "ipython",
    "version": 3
   },
   "file_extension": ".py",
   "mimetype": "text/x-python",
   "name": "python",
   "nbconvert_exporter": "python",
   "pygments_lexer": "ipython3",
   "version": "3.11.5"
  }
 },
 "nbformat": 4,
 "nbformat_minor": 5
}
