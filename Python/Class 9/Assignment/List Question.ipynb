{
 "cells": [
  {
   "cell_type": "markdown",
   "id": "27519b82-294d-4e46-bf75-8966b196e26e",
   "metadata": {},
   "source": [
    "\n",
    "\n",
    "1. Write a Python program to find the sum of all elements in a list.\n",
    "   - Test case: For the list `[1, 2, 3, 4, 5]`, the sum should be `15`.\n",
    "\n",
    "2. Write a Python program to find the largest element in a list.\n",
    "   - Test case: For the list `[3, 8, 2, 10, 5]`, the largest element should be `10`.\n",
    "\n",
    "3. Write a Python program to remove duplicates from a list.\n",
    "   - Test case: For the list `[1, 2, 2, 3, 4, 4, 5]`, the list after removing duplicates should be `[1, 2, 3, 4, 5]`.\n",
    "\n",
    "4. Write a Python program to check if a list is empty or not.\n",
    "   - Test case: For an empty list `[]`, the program should return `True`.\n",
    "\n",
    "5. Write a Python program to count the number of elements in a list.\n",
    "   - Test case: For the list `[1, 2, 3, 4, 5]`, the count should be `5`.\n",
    "\n",
    "6. Write a Python program to find the index of an element in a list.\n",
    "   - Test case: For the list `[10, 20, 30, 40, 50]`, the index of `30` should be `2`.\n",
    "\n",
    "7. Write a Python program to check if all elements in a list are unique.\n",
    "   - Test case: For the list `[1, 2, 3, 4, 5]`, the program should return `True`.\n",
    "\n",
    "8. Write a Python program to reverse a list.\n",
    "   - Test case: For the list `[1, 2, 3, 4, 5]`, the reversed list should be `[5, 4, 3, 2, 1]`.\n",
    "\n",
    "9. Write a Python program to sort a list in descending order.\n",
    "   - Test case: For the list `[3, 8, 1, 6, 4]`, the sorted list in descending order should be `[8, 6, 4, 3, 1]`.\n",
    "\n",
    "10. Write a Python program to find the second largest element in a list.\n",
    "    - Test case: For the list `[10, 5, 8, 20, 2]`, the second largest element should be `10`.\n",
    "\n",
    "11. Write a Python program to count the number of even and odd numbers in a list.\n",
    "    - Test case: For the list `[1, 2, 3, 4, 5]`, there are `2` even numbers and `3` odd numbers.\n",
    "\n",
    "12. Write a Python program to concatenate two lists.\n",
    "    - Test case: For the lists `[1, 2, 3]` and `[4, 5, 6]`, the concatenated list should be `[1, 2, 3, 4, 5, 6]`.\n",
    "\n",
    "13. Write a Python program to find the common elements between two lists.\n",
    "    - Test case: For the lists `[1, 2, 3, 4]` and `[3, 4, 5, 6]`, the common elements should be `[3, 4]`.\n",
    "\n",
    "14. Write a Python program to find the difference between two lists.\n",
    "    - Test case: For the lists `[1, 2, 3, 4]` and `[3, 4, 5, 6]`, the difference should be `[1, 2]`.\n",
    "\n",
    "15. Write a Python program to remove the nth index element from a list.\n",
    "    - Test case: For the list `[0, 1, 2, 3, 4, 5]`, removing the element at index `2` should result in `[0, 1, 3, 4, 5]`.\n"
   ]
  },
  {
   "cell_type": "markdown",
   "id": "11dae7d7-6abf-4896-9a4d-a6c41733d51a",
   "metadata": {},
   "source": [
    "\n",
    "# Few More Difficult Question\n",
    "\n",
    "16. Write a Python program to find the union of two lists.\n",
    "    - Test case: For the lists `[1, 2, 3, 4]` and `[3, 4, 5, 6]`, the union should be `[1, 2, 3, 4, 5, 6]`.\n",
    "\n",
    "17. Write a Python program to find the intersection of two lists.\n",
    "    - Test case: For the lists `[1, 2, 3, 4]` and `[3, 4, 5, 6]`, the intersection should be `[3, 4]`.\n",
    "\n",
    "18. Write a Python program to check if a list is a subset of another list.\n",
    "    - Test case: For the lists `[1, 2, 3]` and `[1, 2, 3, 4, 5]`, the first list is a subset of the second list.\n",
    "\n",
    "19. Write a Python program to find the frequency of each element in a list.\n",
    "    - Test case: For the list `[1, 2, 2, 3, 3, 3, 4, 4, 4, 4]`, the frequency of `2` should be `2` and the frequency of `4` should be `4`.\n",
    "\n",
    "20. Write a Python program to find the maximum difference between two consecutive elements in a list.\n",
    "    - Test case: For the list `[1, 7, 3, 10, 5]`, the maximum difference between two consecutive elements should be `7`.\n"
   ]
  },
  {
   "cell_type": "code",
   "execution_count": null,
   "id": "ac842f33-cb29-4313-ab15-b631ed340660",
   "metadata": {},
   "outputs": [],
   "source": []
  }
 ],
 "metadata": {
  "kernelspec": {
   "display_name": "Python 3 (ipykernel)",
   "language": "python",
   "name": "python3"
  },
  "language_info": {
   "codemirror_mode": {
    "name": "ipython",
    "version": 3
   },
   "file_extension": ".py",
   "mimetype": "text/x-python",
   "name": "python",
   "nbconvert_exporter": "python",
   "pygments_lexer": "ipython3",
   "version": "3.11.5"
  }
 },
 "nbformat": 4,
 "nbformat_minor": 5
}
