{
 "cells": [
  {
   "cell_type": "markdown",
   "id": "5e1e2a33-799d-4081-9eaf-527ce38c9c38",
   "metadata": {},
   "source": [
    "# Tuple"
   ]
  },
  {
   "cell_type": "code",
   "execution_count": 2,
   "id": "978bd78d-2485-4673-a67c-0ede26ecd8dc",
   "metadata": {
    "tags": []
   },
   "outputs": [],
   "source": [
    "t1 = (1,2,3,4)"
   ]
  },
  {
   "cell_type": "code",
   "execution_count": 3,
   "id": "5b175f20-05cc-45b5-a24b-c2da699b3598",
   "metadata": {
    "tags": []
   },
   "outputs": [
    {
     "data": {
      "text/plain": [
       "tuple"
      ]
     },
     "execution_count": 3,
     "metadata": {},
     "output_type": "execute_result"
    }
   ],
   "source": [
    "type(t1)"
   ]
  },
  {
   "cell_type": "code",
   "execution_count": 4,
   "id": "af69612e-39de-4c18-8b5c-258cc549cca1",
   "metadata": {
    "tags": []
   },
   "outputs": [
    {
     "data": {
      "text/plain": [
       "0"
      ]
     },
     "execution_count": 4,
     "metadata": {},
     "output_type": "execute_result"
    }
   ],
   "source": [
    "5 + -5"
   ]
  },
  {
   "cell_type": "code",
   "execution_count": 5,
   "id": "7934767d-ca95-4850-8853-4e74b7701dcd",
   "metadata": {
    "tags": []
   },
   "outputs": [
    {
     "data": {
      "text/plain": [
       "10"
      ]
     },
     "execution_count": 5,
     "metadata": {},
     "output_type": "execute_result"
    }
   ],
   "source": [
    "5 + --5"
   ]
  },
  {
   "cell_type": "code",
   "execution_count": 6,
   "id": "597c4640-6055-4466-b638-93d70080b742",
   "metadata": {
    "tags": []
   },
   "outputs": [
    {
     "data": {
      "text/plain": [
       "20"
      ]
     },
     "execution_count": 6,
     "metadata": {},
     "output_type": "execute_result"
    }
   ],
   "source": [
    "5 + (15)"
   ]
  },
  {
   "cell_type": "code",
   "execution_count": null,
   "id": "839c459d-0c9c-4995-b824-1ea5905de70f",
   "metadata": {},
   "outputs": [],
   "source": []
  },
  {
   "cell_type": "code",
   "execution_count": 10,
   "id": "9b1c5bb5-15d6-435e-b04f-9e3e692bbc5a",
   "metadata": {
    "tags": []
   },
   "outputs": [],
   "source": [
    "t2 = 5"
   ]
  },
  {
   "cell_type": "code",
   "execution_count": 11,
   "id": "9cb9044d-3207-466e-a162-8ae6d5c36851",
   "metadata": {
    "tags": []
   },
   "outputs": [
    {
     "data": {
      "text/plain": [
       "int"
      ]
     },
     "execution_count": 11,
     "metadata": {},
     "output_type": "execute_result"
    }
   ],
   "source": [
    "type(t2)"
   ]
  },
  {
   "cell_type": "code",
   "execution_count": 13,
   "id": "abfc4ff7-eca7-404d-b985-6188c34e42e8",
   "metadata": {
    "tags": []
   },
   "outputs": [],
   "source": [
    "t2 = (5)"
   ]
  },
  {
   "cell_type": "code",
   "execution_count": 14,
   "id": "86597586-e7ce-4b07-9a43-653c35739720",
   "metadata": {
    "tags": []
   },
   "outputs": [
    {
     "data": {
      "text/plain": [
       "int"
      ]
     },
     "execution_count": 14,
     "metadata": {},
     "output_type": "execute_result"
    }
   ],
   "source": [
    "type(t2)"
   ]
  },
  {
   "cell_type": "code",
   "execution_count": 15,
   "id": "e326d9d7-dbb9-45aa-8c9d-65d5bfa9cff4",
   "metadata": {
    "tags": []
   },
   "outputs": [],
   "source": [
    "t3 = (5,)\n"
   ]
  },
  {
   "cell_type": "code",
   "execution_count": 16,
   "id": "cfff75dc-7af0-481c-9023-f5588998019f",
   "metadata": {
    "tags": []
   },
   "outputs": [
    {
     "data": {
      "text/plain": [
       "tuple"
      ]
     },
     "execution_count": 16,
     "metadata": {},
     "output_type": "execute_result"
    }
   ],
   "source": [
    "type(t3)"
   ]
  },
  {
   "cell_type": "code",
   "execution_count": 18,
   "id": "fa4f6266-b009-4558-a4aa-ebe6c77f2c13",
   "metadata": {
    "tags": []
   },
   "outputs": [
    {
     "data": {
      "text/plain": [
       "(5,)"
      ]
     },
     "execution_count": 18,
     "metadata": {},
     "output_type": "execute_result"
    }
   ],
   "source": [
    "t3"
   ]
  },
  {
   "cell_type": "code",
   "execution_count": 17,
   "id": "1fc7d0ea-1465-459b-b780-511641b18ef2",
   "metadata": {
    "tags": []
   },
   "outputs": [
    {
     "ename": "TypeError",
     "evalue": "'int' object is not iterable",
     "output_type": "error",
     "traceback": [
      "\u001b[0;31m---------------------------------------------------------------------------\u001b[0m",
      "\u001b[0;31mTypeError\u001b[0m                                 Traceback (most recent call last)",
      "Cell \u001b[0;32mIn[17], line 1\u001b[0m\n\u001b[0;32m----> 1\u001b[0m t4 \u001b[38;5;241m=\u001b[39m \u001b[38;5;28mtuple\u001b[39m(\u001b[38;5;241m5\u001b[39m)\n",
      "\u001b[0;31mTypeError\u001b[0m: 'int' object is not iterable"
     ]
    }
   ],
   "source": [
    "t4 = tuple(5)"
   ]
  },
  {
   "cell_type": "code",
   "execution_count": null,
   "id": "ae3ae12c-a726-4697-9c7c-4c3782cecdca",
   "metadata": {},
   "outputs": [],
   "source": []
  },
  {
   "cell_type": "code",
   "execution_count": 21,
   "id": "1e3faba6-ec83-4a23-af1e-4adac27bfd3a",
   "metadata": {
    "tags": []
   },
   "outputs": [
    {
     "name": "stdout",
     "output_type": "stream",
     "text": [
      "(5,)\n",
      "<class 'tuple'>\n"
     ]
    }
   ],
   "source": [
    "print(t3)\n",
    "print(type(t3))"
   ]
  },
  {
   "cell_type": "code",
   "execution_count": 22,
   "id": "7ddab75b-a556-4cea-8fd4-e46602b58e6b",
   "metadata": {
    "tags": []
   },
   "outputs": [
    {
     "name": "stdout",
     "output_type": "stream",
     "text": [
      "5\n",
      "<class 'int'>\n"
     ]
    }
   ],
   "source": [
    "print(t2)\n",
    "print(type(t2))"
   ]
  },
  {
   "cell_type": "code",
   "execution_count": 23,
   "id": "2d7ae4c4-2551-46c8-a680-2b722019bad3",
   "metadata": {
    "tags": []
   },
   "outputs": [
    {
     "ename": "TypeError",
     "evalue": "unsupported operand type(s) for +: 'int' and 'tuple'",
     "output_type": "error",
     "traceback": [
      "\u001b[0;31m---------------------------------------------------------------------------\u001b[0m",
      "\u001b[0;31mTypeError\u001b[0m                                 Traceback (most recent call last)",
      "Cell \u001b[0;32mIn[23], line 1\u001b[0m\n\u001b[0;32m----> 1\u001b[0m t2 \u001b[38;5;241m+\u001b[39m t3\n",
      "\u001b[0;31mTypeError\u001b[0m: unsupported operand type(s) for +: 'int' and 'tuple'"
     ]
    }
   ],
   "source": [
    "t2 + t3"
   ]
  },
  {
   "cell_type": "code",
   "execution_count": 26,
   "id": "eb638120-69cb-4cd6-bb88-b2fab2104cf7",
   "metadata": {
    "tags": []
   },
   "outputs": [
    {
     "data": {
      "text/plain": [
       "10"
      ]
     },
     "execution_count": 26,
     "metadata": {},
     "output_type": "execute_result"
    }
   ],
   "source": [
    "5 + (5)"
   ]
  },
  {
   "cell_type": "code",
   "execution_count": 25,
   "id": "34f32b4d-57c6-4a8e-bc90-56498c6f482b",
   "metadata": {
    "tags": []
   },
   "outputs": [
    {
     "ename": "TypeError",
     "evalue": "unsupported operand type(s) for +: 'int' and 'tuple'",
     "output_type": "error",
     "traceback": [
      "\u001b[0;31m---------------------------------------------------------------------------\u001b[0m",
      "\u001b[0;31mTypeError\u001b[0m                                 Traceback (most recent call last)",
      "Cell \u001b[0;32mIn[25], line 1\u001b[0m\n\u001b[0;32m----> 1\u001b[0m \u001b[38;5;241m5\u001b[39m \u001b[38;5;241m+\u001b[39m (\u001b[38;5;241m5\u001b[39m,)\n",
      "\u001b[0;31mTypeError\u001b[0m: unsupported operand type(s) for +: 'int' and 'tuple'"
     ]
    }
   ],
   "source": [
    "5 + (5,)"
   ]
  },
  {
   "cell_type": "code",
   "execution_count": 27,
   "id": "9dec9be7-a32e-4c73-a807-a7096a2e7cfa",
   "metadata": {
    "tags": []
   },
   "outputs": [
    {
     "name": "stdout",
     "output_type": "stream",
     "text": [
      "5\n"
     ]
    }
   ],
   "source": [
    "li = [5]\n",
    "\n",
    "for i in li:\n",
    "    print(i)"
   ]
  },
  {
   "cell_type": "code",
   "execution_count": 28,
   "id": "3789f3d1-c0a1-4388-b242-3dba880e4e89",
   "metadata": {
    "tags": []
   },
   "outputs": [],
   "source": [
    "t10 = tuple(li)"
   ]
  },
  {
   "cell_type": "code",
   "execution_count": 29,
   "id": "0509808b-1a45-4bae-981b-f0407a27e72f",
   "metadata": {
    "tags": []
   },
   "outputs": [
    {
     "data": {
      "text/plain": [
       "(5,)"
      ]
     },
     "execution_count": 29,
     "metadata": {},
     "output_type": "execute_result"
    }
   ],
   "source": [
    "t10"
   ]
  },
  {
   "cell_type": "code",
   "execution_count": null,
   "id": "53862a7c-9dc8-4f2a-84b1-2dec7f4aaad1",
   "metadata": {},
   "outputs": [],
   "source": []
  },
  {
   "cell_type": "code",
   "execution_count": 30,
   "id": "7911d46d-619b-438e-893d-23363a260ac3",
   "metadata": {
    "tags": []
   },
   "outputs": [],
   "source": [
    "t11 = (1,2,3,4)\n",
    "t12 = (1,\"mayank\",5,10,[1,2])"
   ]
  },
  {
   "cell_type": "code",
   "execution_count": 31,
   "id": "6c52bb9e-464f-438a-bdd5-1c1b9a3b6249",
   "metadata": {
    "tags": []
   },
   "outputs": [
    {
     "name": "stdout",
     "output_type": "stream",
     "text": [
      "(1, 2, 3, 4)\n",
      "(1, 'mayank', 5, 10, [1, 2])\n",
      "<class 'tuple'>\n",
      "<class 'tuple'>\n"
     ]
    }
   ],
   "source": [
    "print(t11)\n",
    "print(t12)\n",
    "print(type(t11))\n",
    "print(type(t12))"
   ]
  },
  {
   "cell_type": "code",
   "execution_count": 32,
   "id": "6617b33d-b731-422a-a8b5-6c7a56adaa43",
   "metadata": {
    "tags": []
   },
   "outputs": [
    {
     "data": {
      "text/plain": [
       "2"
      ]
     },
     "execution_count": 32,
     "metadata": {},
     "output_type": "execute_result"
    }
   ],
   "source": [
    "t11[1]"
   ]
  },
  {
   "cell_type": "code",
   "execution_count": 33,
   "id": "d49feb66-df1d-49ff-a049-03ee994793d4",
   "metadata": {
    "tags": []
   },
   "outputs": [
    {
     "data": {
      "text/plain": [
       "1"
      ]
     },
     "execution_count": 33,
     "metadata": {},
     "output_type": "execute_result"
    }
   ],
   "source": [
    "t12[4][0]"
   ]
  },
  {
   "cell_type": "code",
   "execution_count": 34,
   "id": "bbe1bfad-e2a5-4cad-b799-7ebf87900f50",
   "metadata": {
    "tags": []
   },
   "outputs": [],
   "source": [
    "t13  = [1,1]"
   ]
  },
  {
   "cell_type": "code",
   "execution_count": 35,
   "id": "b5e84967-adc8-4ebd-be4a-163cdf022b4a",
   "metadata": {
    "tags": []
   },
   "outputs": [
    {
     "data": {
      "text/plain": [
       "[1, 1]"
      ]
     },
     "execution_count": 35,
     "metadata": {},
     "output_type": "execute_result"
    }
   ],
   "source": [
    "t13"
   ]
  },
  {
   "cell_type": "code",
   "execution_count": 38,
   "id": "5e77929a-5a1d-4b20-bbd8-2894b337e9f2",
   "metadata": {
    "tags": []
   },
   "outputs": [
    {
     "data": {
      "text/plain": [
       "4"
      ]
     },
     "execution_count": 38,
     "metadata": {},
     "output_type": "execute_result"
    }
   ],
   "source": [
    "t11[-1]"
   ]
  },
  {
   "cell_type": "code",
   "execution_count": 37,
   "id": "84b857e9-28db-4d5b-b801-6c83e9c1f03b",
   "metadata": {
    "tags": []
   },
   "outputs": [
    {
     "name": "stdout",
     "output_type": "stream",
     "text": [
      "(1, 2, 3, 4)\n",
      "(1, 'mayank', 5, 10, [1, 2])\n"
     ]
    }
   ],
   "source": [
    "print(t11)\n",
    "print(t12)"
   ]
  },
  {
   "cell_type": "code",
   "execution_count": 40,
   "id": "abac6176-6e35-47b6-8042-7af3d0ef8303",
   "metadata": {
    "tags": []
   },
   "outputs": [
    {
     "ename": "TypeError",
     "evalue": "'tuple' object does not support item assignment",
     "output_type": "error",
     "traceback": [
      "\u001b[0;31m---------------------------------------------------------------------------\u001b[0m",
      "\u001b[0;31mTypeError\u001b[0m                                 Traceback (most recent call last)",
      "Cell \u001b[0;32mIn[40], line 1\u001b[0m\n\u001b[0;32m----> 1\u001b[0m t11[\u001b[38;5;241m2\u001b[39m] \u001b[38;5;241m=\u001b[39m \u001b[38;5;241m5\u001b[39m\n",
      "\u001b[0;31mTypeError\u001b[0m: 'tuple' object does not support item assignment"
     ]
    }
   ],
   "source": [
    "t11[2] = 5"
   ]
  },
  {
   "cell_type": "code",
   "execution_count": 41,
   "id": "555c45c2-a188-45f8-9390-e6e18605e9a9",
   "metadata": {
    "tags": []
   },
   "outputs": [
    {
     "ename": "TypeError",
     "evalue": "'tuple' object does not support item assignment",
     "output_type": "error",
     "traceback": [
      "\u001b[0;31m---------------------------------------------------------------------------\u001b[0m",
      "\u001b[0;31mTypeError\u001b[0m                                 Traceback (most recent call last)",
      "Cell \u001b[0;32mIn[41], line 1\u001b[0m\n\u001b[0;32m----> 1\u001b[0m t12[\u001b[38;5;241m4\u001b[39m] \u001b[38;5;241m=\u001b[39m [\u001b[38;5;241m1\u001b[39m,\u001b[38;5;241m2\u001b[39m,\u001b[38;5;241m3\u001b[39m]\n",
      "\u001b[0;31mTypeError\u001b[0m: 'tuple' object does not support item assignment"
     ]
    }
   ],
   "source": [
    "t12[4] = [1,2,3] "
   ]
  },
  {
   "cell_type": "code",
   "execution_count": 42,
   "id": "95659307-d901-479d-beeb-a0fc2255caf5",
   "metadata": {
    "tags": []
   },
   "outputs": [],
   "source": [
    "t14 = (1,2,3,[[1,2],3])"
   ]
  },
  {
   "cell_type": "code",
   "execution_count": 44,
   "id": "7e584f78-77be-4c63-aa95-cc3e4ddf9e46",
   "metadata": {
    "tags": []
   },
   "outputs": [],
   "source": [
    "t14[3][0][1] = 1"
   ]
  },
  {
   "cell_type": "code",
   "execution_count": 46,
   "id": "6a7cbf6f-d5b8-479a-b504-4566a8955d64",
   "metadata": {
    "tags": []
   },
   "outputs": [],
   "source": [
    "t14 = (1,2,3)"
   ]
  },
  {
   "cell_type": "code",
   "execution_count": 47,
   "id": "5850fa9a-10f8-4035-80ab-b7dca06b4696",
   "metadata": {
    "tags": []
   },
   "outputs": [],
   "source": [
    "t14 = t12[0:2]"
   ]
  },
  {
   "cell_type": "code",
   "execution_count": 48,
   "id": "057f3ccf-054f-45a1-a9ea-e4c2963531c1",
   "metadata": {
    "tags": []
   },
   "outputs": [
    {
     "data": {
      "text/plain": [
       "(1, 'mayank')"
      ]
     },
     "execution_count": 48,
     "metadata": {},
     "output_type": "execute_result"
    }
   ],
   "source": [
    "t14\n"
   ]
  },
  {
   "cell_type": "code",
   "execution_count": 49,
   "id": "690235e6-8279-41e6-8b52-73fbbb719e3b",
   "metadata": {
    "tags": []
   },
   "outputs": [],
   "source": [
    "t5 = ((1,2),3,4)"
   ]
  },
  {
   "cell_type": "code",
   "execution_count": null,
   "id": "ec960cfb-7aec-419f-8354-8e54fd67b83e",
   "metadata": {},
   "outputs": [],
   "source": []
  },
  {
   "cell_type": "markdown",
   "id": "8c07c289-95fb-46a6-987f-97cb5be63388",
   "metadata": {
    "tags": []
   },
   "source": [
    "### how things stored in tupple"
   ]
  },
  {
   "cell_type": "code",
   "execution_count": 60,
   "id": "722cd3db-4863-4067-9e7f-6ba12c78a9d3",
   "metadata": {
    "tags": []
   },
   "outputs": [],
   "source": [
    "t15 = (1,2,3,[[5,6],9], [9,10])"
   ]
  },
  {
   "cell_type": "code",
   "execution_count": 52,
   "id": "a6b0bb80-3148-4c40-9e7c-91fc185bb906",
   "metadata": {
    "tags": []
   },
   "outputs": [
    {
     "data": {
      "text/plain": [
       "(1, 2, 3, [[5, 6], 9])"
      ]
     },
     "execution_count": 52,
     "metadata": {},
     "output_type": "execute_result"
    }
   ],
   "source": [
    "t15"
   ]
  },
  {
   "cell_type": "code",
   "execution_count": 54,
   "id": "f0034bcd-f1ce-427a-adb0-c1ed9d6fca19",
   "metadata": {
    "tags": []
   },
   "outputs": [
    {
     "data": {
      "text/plain": [
       "4339983576"
      ]
     },
     "execution_count": 54,
     "metadata": {},
     "output_type": "execute_result"
    }
   ],
   "source": [
    "id(1)"
   ]
  },
  {
   "cell_type": "code",
   "execution_count": 55,
   "id": "6897a192-ed58-4768-8027-b7d2e9511a84",
   "metadata": {
    "tags": []
   },
   "outputs": [
    {
     "name": "stdout",
     "output_type": "stream",
     "text": [
      "4339983576\n",
      "4339983608\n",
      "4339983640\n",
      "4408993088\n"
     ]
    }
   ],
   "source": [
    "for i in t15:\n",
    "    print(id(i))"
   ]
  },
  {
   "cell_type": "code",
   "execution_count": 56,
   "id": "d6375d07-3443-42a6-b053-321e04819983",
   "metadata": {
    "tags": []
   },
   "outputs": [],
   "source": [
    "t15[3][0][1] = 15"
   ]
  },
  {
   "cell_type": "code",
   "execution_count": 57,
   "id": "99105163-c1e5-48dd-8397-79e4e7357393",
   "metadata": {
    "tags": []
   },
   "outputs": [
    {
     "data": {
      "text/plain": [
       "(1, 2, 3, [[5, 15], 9])"
      ]
     },
     "execution_count": 57,
     "metadata": {},
     "output_type": "execute_result"
    }
   ],
   "source": [
    "t15"
   ]
  },
  {
   "cell_type": "code",
   "execution_count": 58,
   "id": "e711dc6a-38b7-4d27-8df4-19e84f668d0e",
   "metadata": {
    "tags": []
   },
   "outputs": [
    {
     "name": "stdout",
     "output_type": "stream",
     "text": [
      "4339983576\n",
      "4339983608\n",
      "4339983640\n",
      "4408993088\n"
     ]
    }
   ],
   "source": [
    "for i in t15:\n",
    "    print(id(i))"
   ]
  },
  {
   "cell_type": "code",
   "execution_count": 59,
   "id": "1c7c732f-2762-4f4f-9b58-1eb103169c43",
   "metadata": {
    "tags": []
   },
   "outputs": [
    {
     "ename": "TypeError",
     "evalue": "'tuple' object does not support item assignment",
     "output_type": "error",
     "traceback": [
      "\u001b[0;31m---------------------------------------------------------------------------\u001b[0m",
      "\u001b[0;31mTypeError\u001b[0m                                 Traceback (most recent call last)",
      "Cell \u001b[0;32mIn[59], line 1\u001b[0m\n\u001b[0;32m----> 1\u001b[0m t15[\u001b[38;5;241m1\u001b[39m] \u001b[38;5;241m=\u001b[39m \u001b[38;5;241m15\u001b[39m\n",
      "\u001b[0;31mTypeError\u001b[0m: 'tuple' object does not support item assignment"
     ]
    }
   ],
   "source": [
    "t15[1] = 15"
   ]
  },
  {
   "cell_type": "code",
   "execution_count": 62,
   "id": "d4f13a7f-7797-4e50-92ac-f298e46550aa",
   "metadata": {
    "tags": []
   },
   "outputs": [
    {
     "ename": "TypeError",
     "evalue": "'tuple' object does not support item assignment",
     "output_type": "error",
     "traceback": [
      "\u001b[0;31m---------------------------------------------------------------------------\u001b[0m",
      "\u001b[0;31mTypeError\u001b[0m                                 Traceback (most recent call last)",
      "Cell \u001b[0;32mIn[62], line 1\u001b[0m\n\u001b[0;32m----> 1\u001b[0m t15[\u001b[38;5;241m4\u001b[39m]  \u001b[38;5;241m=\u001b[39m [\u001b[38;5;241m11\u001b[39m,\u001b[38;5;241m20\u001b[39m]\n",
      "\u001b[0;31mTypeError\u001b[0m: 'tuple' object does not support item assignment"
     ]
    }
   ],
   "source": [
    "t15[4]  = [11,20]"
   ]
  },
  {
   "cell_type": "code",
   "execution_count": null,
   "id": "828a5eb4-1bdd-4efc-8ba7-023ccdcbfc16",
   "metadata": {},
   "outputs": [],
   "source": []
  },
  {
   "cell_type": "code",
   "execution_count": 72,
   "id": "8df98f4f-7cbb-4001-984b-b7938d0e8377",
   "metadata": {
    "tags": []
   },
   "outputs": [],
   "source": [
    "li = [1,2,3,t15]"
   ]
  },
  {
   "cell_type": "code",
   "execution_count": 73,
   "id": "71d28908-119d-4b95-893b-c6b9aae5d139",
   "metadata": {
    "tags": []
   },
   "outputs": [
    {
     "data": {
      "text/plain": [
       "[1, 2, 3, (1, 2, 3, [[5, 6], 9], [9, 10])]"
      ]
     },
     "execution_count": 73,
     "metadata": {},
     "output_type": "execute_result"
    }
   ],
   "source": [
    "li"
   ]
  },
  {
   "cell_type": "code",
   "execution_count": 74,
   "id": "9cb5f044-0fd2-4374-8438-559d10532686",
   "metadata": {
    "tags": []
   },
   "outputs": [
    {
     "data": {
      "text/plain": [
       "(1, 2, 3, [[5, 6], 9], [9, 10])"
      ]
     },
     "execution_count": 74,
     "metadata": {},
     "output_type": "execute_result"
    }
   ],
   "source": [
    "li[3]"
   ]
  },
  {
   "cell_type": "code",
   "execution_count": null,
   "id": "0d78f8a9-192a-4b90-b432-688de39b4c2c",
   "metadata": {},
   "outputs": [],
   "source": []
  },
  {
   "cell_type": "code",
   "execution_count": null,
   "id": "cb173860-3d8c-4709-84f7-9c4255058bd7",
   "metadata": {},
   "outputs": [],
   "source": []
  },
  {
   "cell_type": "markdown",
   "id": "bd4300eb-6030-4442-8132-a065cf99fb0f",
   "metadata": {},
   "source": [
    "# packing and unpacking"
   ]
  },
  {
   "cell_type": "code",
   "execution_count": 75,
   "id": "40269f94-7b77-491d-90ae-fb4c770d0484",
   "metadata": {
    "tags": []
   },
   "outputs": [],
   "source": [
    "a = 1,2,3,4"
   ]
  },
  {
   "cell_type": "code",
   "execution_count": 76,
   "id": "cf7be077-0847-4e3d-9f07-69cdc7955357",
   "metadata": {
    "tags": []
   },
   "outputs": [
    {
     "data": {
      "text/plain": [
       "(1, 2, 3, 4)"
      ]
     },
     "execution_count": 76,
     "metadata": {},
     "output_type": "execute_result"
    }
   ],
   "source": [
    "a"
   ]
  },
  {
   "cell_type": "code",
   "execution_count": 78,
   "id": "7d185cee-d468-449b-91bd-eb05787f5e05",
   "metadata": {
    "tags": []
   },
   "outputs": [],
   "source": [
    "w,x,y,z = a"
   ]
  },
  {
   "cell_type": "code",
   "execution_count": 79,
   "id": "2bea4d5a-e5d5-4771-802a-dc47b8b8cc98",
   "metadata": {
    "tags": []
   },
   "outputs": [
    {
     "name": "stdout",
     "output_type": "stream",
     "text": [
      "1 2 3 4\n"
     ]
    }
   ],
   "source": [
    "print(w,x,y,z)"
   ]
  },
  {
   "cell_type": "code",
   "execution_count": null,
   "id": "730bc96f-fcac-4fe7-80ba-79087971fc98",
   "metadata": {},
   "outputs": [],
   "source": []
  },
  {
   "cell_type": "code",
   "execution_count": null,
   "id": "db0e0b09-7741-40ef-9027-7cf9fbc3d168",
   "metadata": {},
   "outputs": [],
   "source": []
  },
  {
   "cell_type": "markdown",
   "id": "4fe5bc7d-be85-4607-9ff6-ff734b1df78d",
   "metadata": {},
   "source": [
    "# Function for tupple"
   ]
  },
  {
   "cell_type": "markdown",
   "id": "b6d2e902-4647-49f4-97e7-13b88b026cc0",
   "metadata": {
    "tags": []
   },
   "source": [
    "1. len()\n",
    "2. max()\n",
    "3. min()\n",
    "4. sum()\n",
    "5. sorted()\n",
    "6. any()\n",
    "7. all()\n",
    "8. tuple()"
   ]
  },
  {
   "cell_type": "code",
   "execution_count": 81,
   "id": "2dca73ed-5c57-4a36-97fa-05ce2cd67de6",
   "metadata": {
    "tags": []
   },
   "outputs": [],
   "source": [
    "# restart kernel"
   ]
  },
  {
   "cell_type": "code",
   "execution_count": 11,
   "id": "156615cb-697d-48a8-ba12-08bc858bfc63",
   "metadata": {
    "tags": []
   },
   "outputs": [],
   "source": [
    "t1 = (1,2,3,4)\n",
    "t2 = (1,\"python\",5.0,True)\n",
    "t3 = ('a','b','c')"
   ]
  },
  {
   "cell_type": "code",
   "execution_count": 10,
   "id": "1fd32b32-f55d-4238-9640-6f652338185b",
   "metadata": {
    "tags": []
   },
   "outputs": [
    {
     "data": {
      "text/plain": [
       "True"
      ]
     },
     "execution_count": 10,
     "metadata": {},
     "output_type": "execute_result"
    }
   ],
   "source": [
    "1 in t1"
   ]
  },
  {
   "cell_type": "markdown",
   "id": "ac5b60af-c3ec-4b19-88b2-387778c45569",
   "metadata": {},
   "source": [
    "# len"
   ]
  },
  {
   "cell_type": "code",
   "execution_count": 2,
   "id": "c5fbf371-9dcf-4e43-9e05-0740d60f4c8f",
   "metadata": {
    "tags": []
   },
   "outputs": [
    {
     "data": {
      "text/plain": [
       "4"
      ]
     },
     "execution_count": 2,
     "metadata": {},
     "output_type": "execute_result"
    }
   ],
   "source": [
    "len(t1)"
   ]
  },
  {
   "cell_type": "markdown",
   "id": "8208a4bd-2132-4667-b774-6ede07c6c2b7",
   "metadata": {},
   "source": [
    "# SUM"
   ]
  },
  {
   "cell_type": "code",
   "execution_count": 3,
   "id": "4a6c9b8e-4dd7-4995-927e-cee733fa399e",
   "metadata": {
    "tags": []
   },
   "outputs": [
    {
     "data": {
      "text/plain": [
       "10"
      ]
     },
     "execution_count": 3,
     "metadata": {},
     "output_type": "execute_result"
    }
   ],
   "source": [
    "sum(t1)"
   ]
  },
  {
   "cell_type": "code",
   "execution_count": 4,
   "id": "0724a135-8dbd-4dfa-afdc-ed58526c5a39",
   "metadata": {
    "tags": []
   },
   "outputs": [
    {
     "ename": "TypeError",
     "evalue": "unsupported operand type(s) for +: 'int' and 'str'",
     "output_type": "error",
     "traceback": [
      "\u001b[0;31m---------------------------------------------------------------------------\u001b[0m",
      "\u001b[0;31mTypeError\u001b[0m                                 Traceback (most recent call last)",
      "Cell \u001b[0;32mIn[4], line 1\u001b[0m\n\u001b[0;32m----> 1\u001b[0m \u001b[38;5;28msum\u001b[39m(t2)\n",
      "\u001b[0;31mTypeError\u001b[0m: unsupported operand type(s) for +: 'int' and 'str'"
     ]
    }
   ],
   "source": [
    "sum(t2)"
   ]
  },
  {
   "cell_type": "markdown",
   "id": "6c520ce2-71a4-4a1b-89f9-2d3bfbb1efc0",
   "metadata": {},
   "source": [
    "# min"
   ]
  },
  {
   "cell_type": "code",
   "execution_count": 6,
   "id": "e4b666b4-2114-48fa-ac43-345dea3f6f20",
   "metadata": {
    "tags": []
   },
   "outputs": [
    {
     "data": {
      "text/plain": [
       "1"
      ]
     },
     "execution_count": 6,
     "metadata": {},
     "output_type": "execute_result"
    }
   ],
   "source": [
    "min (t1)"
   ]
  },
  {
   "cell_type": "code",
   "execution_count": 7,
   "id": "fea81375-552c-4a8e-b4eb-6ca84bf3d3ab",
   "metadata": {
    "tags": []
   },
   "outputs": [
    {
     "ename": "TypeError",
     "evalue": "'<' not supported between instances of 'str' and 'int'",
     "output_type": "error",
     "traceback": [
      "\u001b[0;31m---------------------------------------------------------------------------\u001b[0m",
      "\u001b[0;31mTypeError\u001b[0m                                 Traceback (most recent call last)",
      "Cell \u001b[0;32mIn[7], line 1\u001b[0m\n\u001b[0;32m----> 1\u001b[0m \u001b[38;5;28mmin\u001b[39m (t2)\n",
      "\u001b[0;31mTypeError\u001b[0m: '<' not supported between instances of 'str' and 'int'"
     ]
    }
   ],
   "source": [
    "min (t2)"
   ]
  },
  {
   "cell_type": "markdown",
   "id": "a641af01-d4ca-40d3-892f-097b76b7f91b",
   "metadata": {},
   "source": [
    "# max"
   ]
  },
  {
   "cell_type": "code",
   "execution_count": 8,
   "id": "88f57c21-c18e-4ce0-abc4-edd35084f7c5",
   "metadata": {
    "tags": []
   },
   "outputs": [
    {
     "data": {
      "text/plain": [
       "4"
      ]
     },
     "execution_count": 8,
     "metadata": {},
     "output_type": "execute_result"
    }
   ],
   "source": [
    "max(t1)"
   ]
  },
  {
   "cell_type": "code",
   "execution_count": 9,
   "id": "9ac6e84c-09b0-42a5-9a57-e0a8f78999ee",
   "metadata": {
    "tags": []
   },
   "outputs": [
    {
     "ename": "TypeError",
     "evalue": "'>' not supported between instances of 'str' and 'int'",
     "output_type": "error",
     "traceback": [
      "\u001b[0;31m---------------------------------------------------------------------------\u001b[0m",
      "\u001b[0;31mTypeError\u001b[0m                                 Traceback (most recent call last)",
      "Cell \u001b[0;32mIn[9], line 1\u001b[0m\n\u001b[0;32m----> 1\u001b[0m \u001b[38;5;28mmax\u001b[39m(t2)\n",
      "\u001b[0;31mTypeError\u001b[0m: '>' not supported between instances of 'str' and 'int'"
     ]
    }
   ],
   "source": [
    "max(t2)"
   ]
  },
  {
   "cell_type": "code",
   "execution_count": 12,
   "id": "9d1a1c8c-4898-4695-9731-50eb3d8ae9d7",
   "metadata": {
    "tags": []
   },
   "outputs": [
    {
     "data": {
      "text/plain": [
       "'c'"
      ]
     },
     "execution_count": 12,
     "metadata": {},
     "output_type": "execute_result"
    }
   ],
   "source": [
    "max(t3)"
   ]
  },
  {
   "cell_type": "markdown",
   "id": "dbc88639-6015-40fb-93e1-df6b9816f4aa",
   "metadata": {},
   "source": [
    "# sum"
   ]
  },
  {
   "cell_type": "code",
   "execution_count": 13,
   "id": "8b2e17ea-769b-48b8-b4db-7602d9c97145",
   "metadata": {
    "tags": []
   },
   "outputs": [
    {
     "data": {
      "text/plain": [
       "10"
      ]
     },
     "execution_count": 13,
     "metadata": {},
     "output_type": "execute_result"
    }
   ],
   "source": [
    "sum(t1)"
   ]
  },
  {
   "cell_type": "code",
   "execution_count": 14,
   "id": "bfe56e06-a235-4c92-83e4-0a5bdb0dd035",
   "metadata": {
    "tags": []
   },
   "outputs": [
    {
     "ename": "TypeError",
     "evalue": "unsupported operand type(s) for +: 'int' and 'str'",
     "output_type": "error",
     "traceback": [
      "\u001b[0;31m---------------------------------------------------------------------------\u001b[0m",
      "\u001b[0;31mTypeError\u001b[0m                                 Traceback (most recent call last)",
      "Cell \u001b[0;32mIn[14], line 1\u001b[0m\n\u001b[0;32m----> 1\u001b[0m \u001b[38;5;28msum\u001b[39m(t2)\n",
      "\u001b[0;31mTypeError\u001b[0m: unsupported operand type(s) for +: 'int' and 'str'"
     ]
    }
   ],
   "source": [
    "sum(t2)"
   ]
  },
  {
   "cell_type": "code",
   "execution_count": 22,
   "id": "1b9785c3-1f27-4c28-84f7-c924ac0cce97",
   "metadata": {
    "tags": []
   },
   "outputs": [
    {
     "data": {
      "text/plain": [
       "('a', 'b', 'c')"
      ]
     },
     "execution_count": 22,
     "metadata": {},
     "output_type": "execute_result"
    }
   ],
   "source": [
    "t3"
   ]
  },
  {
   "cell_type": "code",
   "execution_count": 15,
   "id": "af637b25-5a00-4cfa-874d-307720dcfc76",
   "metadata": {
    "tags": []
   },
   "outputs": [
    {
     "ename": "TypeError",
     "evalue": "unsupported operand type(s) for +: 'int' and 'str'",
     "output_type": "error",
     "traceback": [
      "\u001b[0;31m---------------------------------------------------------------------------\u001b[0m",
      "\u001b[0;31mTypeError\u001b[0m                                 Traceback (most recent call last)",
      "Cell \u001b[0;32mIn[15], line 1\u001b[0m\n\u001b[0;32m----> 1\u001b[0m \u001b[38;5;28msum\u001b[39m(t3)\n",
      "\u001b[0;31mTypeError\u001b[0m: unsupported operand type(s) for +: 'int' and 'str'"
     ]
    }
   ],
   "source": [
    "sum(t3)"
   ]
  },
  {
   "cell_type": "code",
   "execution_count": 19,
   "id": "a6a57cc2-5d19-46d1-b56c-aea5f7886360",
   "metadata": {
    "tags": []
   },
   "outputs": [],
   "source": [
    "t4 = [0j,1 ,'mayank']"
   ]
  },
  {
   "cell_type": "code",
   "execution_count": 18,
   "id": "aed5d90a-b9b4-4d6b-b1df-b3e5ea2e753c",
   "metadata": {
    "tags": []
   },
   "outputs": [
    {
     "data": {
      "text/plain": [
       "True"
      ]
     },
     "execution_count": 18,
     "metadata": {},
     "output_type": "execute_result"
    }
   ],
   "source": [
    "any(t3)"
   ]
  },
  {
   "cell_type": "code",
   "execution_count": 20,
   "id": "84b651e7-f5f0-4b25-955b-2fb1c9ca7a16",
   "metadata": {
    "tags": []
   },
   "outputs": [
    {
     "data": {
      "text/plain": [
       "True"
      ]
     },
     "execution_count": 20,
     "metadata": {},
     "output_type": "execute_result"
    }
   ],
   "source": [
    "any(t4)\n"
   ]
  },
  {
   "cell_type": "code",
   "execution_count": 21,
   "id": "a78208d6-e2b2-4ead-9cad-9464208b111f",
   "metadata": {
    "tags": []
   },
   "outputs": [
    {
     "data": {
      "text/plain": [
       "False"
      ]
     },
     "execution_count": 21,
     "metadata": {},
     "output_type": "execute_result"
    }
   ],
   "source": [
    "all(t4)"
   ]
  },
  {
   "cell_type": "markdown",
   "id": "73ebbf9f-bf5d-4648-a512-b80be5b8c73d",
   "metadata": {},
   "source": [
    "# Concatenation in Tupple"
   ]
  },
  {
   "cell_type": "code",
   "execution_count": 29,
   "id": "c4ad76b8-db9d-48c1-8a77-8fd2f28bf746",
   "metadata": {
    "tags": []
   },
   "outputs": [
    {
     "data": {
      "text/plain": [
       "(1, 2, 3, 4, 1, 'python', 5.0, True)"
      ]
     },
     "execution_count": 29,
     "metadata": {},
     "output_type": "execute_result"
    }
   ],
   "source": [
    "t1"
   ]
  },
  {
   "cell_type": "code",
   "execution_count": 30,
   "id": "39934c86-494b-4aa8-935f-38f35ffab6a8",
   "metadata": {
    "tags": []
   },
   "outputs": [
    {
     "data": {
      "text/plain": [
       "(1, 'python', 5.0, True)"
      ]
     },
     "execution_count": 30,
     "metadata": {},
     "output_type": "execute_result"
    }
   ],
   "source": [
    "t2"
   ]
  },
  {
   "cell_type": "code",
   "execution_count": 31,
   "id": "136a2391-4791-4883-8fe2-03f9f5e56713",
   "metadata": {
    "tags": []
   },
   "outputs": [],
   "source": [
    "t5 = t1+t2"
   ]
  },
  {
   "cell_type": "code",
   "execution_count": 32,
   "id": "a93c015d-8547-4182-8531-de200634f20c",
   "metadata": {
    "tags": []
   },
   "outputs": [
    {
     "data": {
      "text/plain": [
       "(1, 2, 3, 4, 1, 'python', 5.0, True, 1, 'python', 5.0, True)"
      ]
     },
     "execution_count": 32,
     "metadata": {},
     "output_type": "execute_result"
    }
   ],
   "source": [
    "t5"
   ]
  },
  {
   "cell_type": "code",
   "execution_count": 33,
   "id": "d7218521-ab58-4662-82b4-b135b8fa8824",
   "metadata": {
    "tags": []
   },
   "outputs": [
    {
     "data": {
      "text/plain": [
       "4587461312"
      ]
     },
     "execution_count": 33,
     "metadata": {},
     "output_type": "execute_result"
    }
   ],
   "source": [
    "id(t1)"
   ]
  },
  {
   "cell_type": "code",
   "execution_count": 34,
   "id": "e34654c5-091f-45ab-ad07-a2e4a4c48828",
   "metadata": {
    "tags": []
   },
   "outputs": [],
   "source": [
    "t1 = t1+ t2"
   ]
  },
  {
   "cell_type": "code",
   "execution_count": 35,
   "id": "00088962-4c25-471a-9d66-bb4220f646ba",
   "metadata": {
    "tags": []
   },
   "outputs": [
    {
     "data": {
      "text/plain": [
       "4593077760"
      ]
     },
     "execution_count": 35,
     "metadata": {},
     "output_type": "execute_result"
    }
   ],
   "source": [
    "id(t2)"
   ]
  },
  {
   "cell_type": "code",
   "execution_count": 28,
   "id": "6de9e3aa-e818-4e26-a460-29396295e0c9",
   "metadata": {
    "tags": []
   },
   "outputs": [
    {
     "data": {
      "text/plain": [
       "(1, 2, 3, 4, 1, 'python', 5.0, True)"
      ]
     },
     "execution_count": 28,
     "metadata": {},
     "output_type": "execute_result"
    }
   ],
   "source": [
    "t1"
   ]
  },
  {
   "cell_type": "code",
   "execution_count": 39,
   "id": "4a9d4f2c-22b3-4480-bc2b-86365cb7f75f",
   "metadata": {
    "tags": []
   },
   "outputs": [
    {
     "data": {
      "text/plain": [
       "4601165808"
      ]
     },
     "execution_count": 39,
     "metadata": {},
     "output_type": "execute_result"
    }
   ],
   "source": [
    "id(t1)"
   ]
  },
  {
   "cell_type": "code",
   "execution_count": 37,
   "id": "142b5e6b-1aa4-4d61-a661-1026ac56fb2d",
   "metadata": {
    "tags": []
   },
   "outputs": [
    {
     "data": {
      "text/plain": [
       "(1, 'python', 5.0, True, 1, 'python', 5.0, True, 1, 'python', 5.0, True)"
      ]
     },
     "execution_count": 37,
     "metadata": {},
     "output_type": "execute_result"
    }
   ],
   "source": [
    "t2* 3"
   ]
  },
  {
   "cell_type": "code",
   "execution_count": 42,
   "id": "a8cb2a8e-0fab-4476-aaaf-e82694a5c307",
   "metadata": {
    "tags": []
   },
   "outputs": [],
   "source": [
    "a = (1,2,3,7)\n",
    "b = (4,5,6)"
   ]
  },
  {
   "cell_type": "code",
   "execution_count": 43,
   "id": "577ba32c-d57f-43a8-bcdb-167779ea3ead",
   "metadata": {
    "tags": []
   },
   "outputs": [
    {
     "data": {
      "text/plain": [
       "False"
      ]
     },
     "execution_count": 43,
     "metadata": {},
     "output_type": "execute_result"
    }
   ],
   "source": [
    "a>b"
   ]
  },
  {
   "cell_type": "code",
   "execution_count": 44,
   "id": "4174c7d4-91b2-461c-ae99-bcd3f47d1834",
   "metadata": {
    "tags": []
   },
   "outputs": [],
   "source": [
    "a = ('a','b','c')\n",
    "b = ('x',)"
   ]
  },
  {
   "cell_type": "code",
   "execution_count": 45,
   "id": "41c25e08-f883-4f0e-8ea5-507b4a0674f8",
   "metadata": {
    "tags": []
   },
   "outputs": [
    {
     "data": {
      "text/plain": [
       "False"
      ]
     },
     "execution_count": 45,
     "metadata": {},
     "output_type": "execute_result"
    }
   ],
   "source": [
    "a > b"
   ]
  },
  {
   "cell_type": "code",
   "execution_count": 46,
   "id": "5bd03fdf-6475-4b69-8f84-6bbb50a97f39",
   "metadata": {
    "tags": []
   },
   "outputs": [
    {
     "data": {
      "text/plain": [
       "120"
      ]
     },
     "execution_count": 46,
     "metadata": {},
     "output_type": "execute_result"
    }
   ],
   "source": [
    "ord('x')"
   ]
  },
  {
   "cell_type": "code",
   "execution_count": 47,
   "id": "b8d0d2cd-ea33-46e8-9ed7-a965a113a34c",
   "metadata": {
    "tags": []
   },
   "outputs": [
    {
     "data": {
      "text/plain": [
       "97"
      ]
     },
     "execution_count": 47,
     "metadata": {},
     "output_type": "execute_result"
    }
   ],
   "source": [
    "ord('a')"
   ]
  },
  {
   "cell_type": "markdown",
   "id": "91560d51-07fb-42e1-a6fa-bed9f53e301a",
   "metadata": {},
   "source": [
    "I had a doubt. If I define a=('b', 'c') and I add sum(a), why it is not adding the lexographical values wheres it can compare a>b lexographically?"
   ]
  },
  {
   "cell_type": "code",
   "execution_count": 52,
   "id": "a28276fb-3542-48c6-966f-46123fd953a2",
   "metadata": {
    "tags": []
   },
   "outputs": [],
   "source": [
    "a = ('b','c')"
   ]
  },
  {
   "cell_type": "code",
   "execution_count": 49,
   "id": "9abc9f3c-718b-45bc-9aa8-01ca2d1645ab",
   "metadata": {
    "tags": []
   },
   "outputs": [
    {
     "ename": "TypeError",
     "evalue": "unsupported operand type(s) for +: 'int' and 'str'",
     "output_type": "error",
     "traceback": [
      "\u001b[0;31m---------------------------------------------------------------------------\u001b[0m",
      "\u001b[0;31mTypeError\u001b[0m                                 Traceback (most recent call last)",
      "Cell \u001b[0;32mIn[49], line 1\u001b[0m\n\u001b[0;32m----> 1\u001b[0m \u001b[38;5;28msum\u001b[39m(a)\n",
      "\u001b[0;31mTypeError\u001b[0m: unsupported operand type(s) for +: 'int' and 'str'"
     ]
    }
   ],
   "source": [
    "sum(a)"
   ]
  },
  {
   "cell_type": "code",
   "execution_count": 51,
   "id": "d663c108-5eb0-4402-903b-c75757a8a632",
   "metadata": {
    "tags": []
   },
   "outputs": [
    {
     "data": {
      "text/plain": [
       "'bdc'"
      ]
     },
     "execution_count": 51,
     "metadata": {},
     "output_type": "execute_result"
    }
   ],
   "source": [
    "'b' +'d'+ 'c'"
   ]
  },
  {
   "cell_type": "markdown",
   "id": "2b4e122d-8196-46c4-875f-3dfbfee74a3c",
   "metadata": {},
   "source": [
    "# sorted"
   ]
  },
  {
   "cell_type": "code",
   "execution_count": 53,
   "id": "f4724ce7-cb6a-45f3-aefc-8965d0a46b50",
   "metadata": {
    "tags": []
   },
   "outputs": [
    {
     "ename": "TypeError",
     "evalue": "'<' not supported between instances of 'str' and 'int'",
     "output_type": "error",
     "traceback": [
      "\u001b[0;31m---------------------------------------------------------------------------\u001b[0m",
      "\u001b[0;31mTypeError\u001b[0m                                 Traceback (most recent call last)",
      "Cell \u001b[0;32mIn[53], line 1\u001b[0m\n\u001b[0;32m----> 1\u001b[0m \u001b[38;5;28msorted\u001b[39m(t1)\n",
      "\u001b[0;31mTypeError\u001b[0m: '<' not supported between instances of 'str' and 'int'"
     ]
    }
   ],
   "source": [
    "sorted(t1)"
   ]
  },
  {
   "cell_type": "code",
   "execution_count": 55,
   "id": "9dbab9f5-4887-42a1-99d7-40f48a085ef1",
   "metadata": {
    "tags": []
   },
   "outputs": [],
   "source": [
    "t1 = (1,2,3,4)\n",
    "t2 = (1,\"python\",5.0,True)\n",
    "t3 = ('a','b','c')"
   ]
  },
  {
   "cell_type": "code",
   "execution_count": 58,
   "id": "72f81ae9-ddbf-4c1c-b92b-83e53cac9f8d",
   "metadata": {
    "tags": []
   },
   "outputs": [
    {
     "data": {
      "text/plain": [
       "(1, 2, 3, 4)"
      ]
     },
     "execution_count": 58,
     "metadata": {},
     "output_type": "execute_result"
    }
   ],
   "source": [
    "tuple(sorted(t1))"
   ]
  },
  {
   "cell_type": "code",
   "execution_count": 60,
   "id": "7c8e14ad-1e96-4fd8-8806-9b90cdc2a792",
   "metadata": {
    "tags": []
   },
   "outputs": [
    {
     "data": {
      "text/plain": [
       "['c', 'b', 'a']"
      ]
     },
     "execution_count": 60,
     "metadata": {},
     "output_type": "execute_result"
    }
   ],
   "source": [
    "sorted(t3,reverse=True)"
   ]
  },
  {
   "cell_type": "markdown",
   "id": "3a6f842a-2ae6-452b-b1f2-f7ae6bbf59d0",
   "metadata": {},
   "source": [
    "# methods in Tupple"
   ]
  },
  {
   "cell_type": "code",
   "execution_count": null,
   "id": "b739f61e-82cb-4d96-b811-2755b60b7877",
   "metadata": {},
   "outputs": [],
   "source": [
    "1. Append() # not possible\n",
    "2. extend() #not possible\n",
    "3. Insert() # not possible\n",
    "4. index()  \n",
    "5. count()\n",
    "6. Remove() # not possible\n",
    "7. pop()   # not possible\n",
    "8. clear()  \n",
    "9. reverse() \n",
    "10. sort()\n",
    "11. Copy()"
   ]
  },
  {
   "cell_type": "code",
   "execution_count": 61,
   "id": "11a14ec0-78ca-4c85-8fb8-6648b6eee395",
   "metadata": {
    "tags": []
   },
   "outputs": [],
   "source": [
    "t1 = (1,2,3,4)\n",
    "t2 = (1,\"python\",5.0,True)\n",
    "t3 = ('a','b','c')"
   ]
  },
  {
   "cell_type": "code",
   "execution_count": 62,
   "id": "c8ec05b6-53e9-464c-b284-4c9f527d77fb",
   "metadata": {
    "tags": []
   },
   "outputs": [
    {
     "ename": "AttributeError",
     "evalue": "'tuple' object has no attribute 'extend'",
     "output_type": "error",
     "traceback": [
      "\u001b[0;31m---------------------------------------------------------------------------\u001b[0m",
      "\u001b[0;31mAttributeError\u001b[0m                            Traceback (most recent call last)",
      "Cell \u001b[0;32mIn[62], line 1\u001b[0m\n\u001b[0;32m----> 1\u001b[0m t1\u001b[38;5;241m.\u001b[39mextend(t2)\n",
      "\u001b[0;31mAttributeError\u001b[0m: 'tuple' object has no attribute 'extend'"
     ]
    }
   ],
   "source": [
    "t1.extend(t2)"
   ]
  },
  {
   "cell_type": "code",
   "execution_count": 63,
   "id": "18810482-f5a4-4aac-805a-09f625b82c56",
   "metadata": {
    "tags": []
   },
   "outputs": [
    {
     "ename": "AttributeError",
     "evalue": "'tuple' object has no attribute 'clear'",
     "output_type": "error",
     "traceback": [
      "\u001b[0;31m---------------------------------------------------------------------------\u001b[0m",
      "\u001b[0;31mAttributeError\u001b[0m                            Traceback (most recent call last)",
      "Cell \u001b[0;32mIn[63], line 1\u001b[0m\n\u001b[0;32m----> 1\u001b[0m t1\u001b[38;5;241m.\u001b[39mclear()\n",
      "\u001b[0;31mAttributeError\u001b[0m: 'tuple' object has no attribute 'clear'"
     ]
    }
   ],
   "source": [
    "t1.clear()"
   ]
  },
  {
   "cell_type": "code",
   "execution_count": 64,
   "id": "d054506e-6152-47df-b92e-d95f0164b202",
   "metadata": {
    "tags": []
   },
   "outputs": [],
   "source": [
    "del(t1)"
   ]
  },
  {
   "cell_type": "code",
   "execution_count": 65,
   "id": "eee37f4c-158b-4f49-bfa3-e10a2765d3a6",
   "metadata": {
    "tags": []
   },
   "outputs": [
    {
     "ename": "NameError",
     "evalue": "name 't1' is not defined",
     "output_type": "error",
     "traceback": [
      "\u001b[0;31m---------------------------------------------------------------------------\u001b[0m",
      "\u001b[0;31mNameError\u001b[0m                                 Traceback (most recent call last)",
      "Cell \u001b[0;32mIn[65], line 1\u001b[0m\n\u001b[0;32m----> 1\u001b[0m t1\n",
      "\u001b[0;31mNameError\u001b[0m: name 't1' is not defined"
     ]
    }
   ],
   "source": [
    "t1"
   ]
  },
  {
   "cell_type": "code",
   "execution_count": 67,
   "id": "775dabf4-1263-4009-8de2-c1aac8d896a9",
   "metadata": {
    "tags": []
   },
   "outputs": [
    {
     "data": {
      "text/plain": [
       "(1, 'python', 5.0, True)"
      ]
     },
     "execution_count": 67,
     "metadata": {},
     "output_type": "execute_result"
    }
   ],
   "source": [
    "t2"
   ]
  },
  {
   "cell_type": "code",
   "execution_count": 68,
   "id": "46d014f1-3fc2-481f-9f78-a924f75be513",
   "metadata": {
    "tags": []
   },
   "outputs": [
    {
     "data": {
      "text/plain": [
       "2"
      ]
     },
     "execution_count": 68,
     "metadata": {},
     "output_type": "execute_result"
    }
   ],
   "source": [
    "t2.count(1)"
   ]
  },
  {
   "cell_type": "code",
   "execution_count": null,
   "id": "5815278c-85c2-4eb3-a4d8-41c9d6b3beb3",
   "metadata": {},
   "outputs": [],
   "source": []
  },
  {
   "cell_type": "code",
   "execution_count": 69,
   "id": "94480192-df29-473b-b651-675d298dbb76",
   "metadata": {
    "tags": []
   },
   "outputs": [
    {
     "data": {
      "text/plain": [
       "2"
      ]
     },
     "execution_count": 69,
     "metadata": {},
     "output_type": "execute_result"
    }
   ],
   "source": [
    "t2.count(True)"
   ]
  },
  {
   "cell_type": "code",
   "execution_count": null,
   "id": "98f9ab3f-6550-49c4-a3fe-d30d0b4ba98a",
   "metadata": {},
   "outputs": [],
   "source": []
  },
  {
   "cell_type": "code",
   "execution_count": 72,
   "id": "c4c1f42e-90ed-462e-852a-f9d38b3518f2",
   "metadata": {
    "tags": []
   },
   "outputs": [
    {
     "data": {
      "text/plain": [
       "1"
      ]
     },
     "execution_count": 72,
     "metadata": {},
     "output_type": "execute_result"
    }
   ],
   "source": [
    "t2.index('python')"
   ]
  },
  {
   "cell_type": "code",
   "execution_count": 73,
   "id": "cb321704-4814-493f-ba91-b860400c48a6",
   "metadata": {
    "tags": []
   },
   "outputs": [
    {
     "ename": "ValueError",
     "evalue": "tuple.index(x): x not in tuple",
     "output_type": "error",
     "traceback": [
      "\u001b[0;31m---------------------------------------------------------------------------\u001b[0m",
      "\u001b[0;31mValueError\u001b[0m                                Traceback (most recent call last)",
      "Cell \u001b[0;32mIn[73], line 1\u001b[0m\n\u001b[0;32m----> 1\u001b[0m t2\u001b[38;5;241m.\u001b[39mindex(\u001b[38;5;241m0\u001b[39m)\n",
      "\u001b[0;31mValueError\u001b[0m: tuple.index(x): x not in tuple"
     ]
    }
   ],
   "source": [
    "t2.index(0)"
   ]
  },
  {
   "cell_type": "code",
   "execution_count": 79,
   "id": "a289c318-961b-4075-9609-429d2fe3ef87",
   "metadata": {
    "tags": []
   },
   "outputs": [],
   "source": [
    "t2 = (5,1,2,3,5,6,5)"
   ]
  },
  {
   "cell_type": "code",
   "execution_count": 84,
   "id": "68145680-8536-4329-9a76-cc4c1743d881",
   "metadata": {
    "tags": []
   },
   "outputs": [
    {
     "data": {
      "text/plain": [
       "-7"
      ]
     },
     "execution_count": 84,
     "metadata": {},
     "output_type": "execute_result"
    }
   ],
   "source": [
    "t2.index(5) - len(t2)"
   ]
  },
  {
   "cell_type": "code",
   "execution_count": 85,
   "id": "3c98beff-8400-4d42-8276-33c245957edb",
   "metadata": {
    "tags": []
   },
   "outputs": [
    {
     "data": {
      "text/plain": [
       "5"
      ]
     },
     "execution_count": 85,
     "metadata": {},
     "output_type": "execute_result"
    }
   ],
   "source": [
    "t2[-7]"
   ]
  },
  {
   "cell_type": "code",
   "execution_count": 83,
   "id": "3d2408dd-ff31-4592-a895-5628f8ee5b61",
   "metadata": {
    "tags": []
   },
   "outputs": [
    {
     "data": {
      "text/plain": [
       "-1"
      ]
     },
     "execution_count": 83,
     "metadata": {},
     "output_type": "execute_result"
    }
   ],
   "source": [
    "t2.index(5,5) - len(t2)"
   ]
  }
 ],
 "metadata": {
  "kernelspec": {
   "display_name": "Python 3 (ipykernel)",
   "language": "python",
   "name": "python3"
  },
  "language_info": {
   "codemirror_mode": {
    "name": "ipython",
    "version": 3
   },
   "file_extension": ".py",
   "mimetype": "text/x-python",
   "name": "python",
   "nbconvert_exporter": "python",
   "pygments_lexer": "ipython3",
   "version": "3.11.5"
  }
 },
 "nbformat": 4,
 "nbformat_minor": 5
}
