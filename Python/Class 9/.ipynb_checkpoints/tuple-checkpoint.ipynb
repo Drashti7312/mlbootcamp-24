{
 "cells": [
  {
   "cell_type": "markdown",
   "id": "5e1e2a33-799d-4081-9eaf-527ce38c9c38",
   "metadata": {},
   "source": [
    "# Tupple"
   ]
  },
  {
   "cell_type": "code",
   "execution_count": null,
   "id": "978bd78d-2485-4673-a67c-0ede26ecd8dc",
   "metadata": {},
   "outputs": [],
   "source": []
  },
  {
   "cell_type": "code",
   "execution_count": null,
   "id": "5b175f20-05cc-45b5-a24b-c2da699b3598",
   "metadata": {},
   "outputs": [],
   "source": []
  },
  {
   "cell_type": "code",
   "execution_count": null,
   "id": "af69612e-39de-4c18-8b5c-258cc549cca1",
   "metadata": {},
   "outputs": [],
   "source": []
  },
  {
   "cell_type": "code",
   "execution_count": null,
   "id": "597c4640-6055-4466-b638-93d70080b742",
   "metadata": {},
   "outputs": [],
   "source": []
  }
 ],
 "metadata": {
  "kernelspec": {
   "display_name": "Python 3 (ipykernel)",
   "language": "python",
   "name": "python3"
  },
  "language_info": {
   "codemirror_mode": {
    "name": "ipython",
    "version": 3
   },
   "file_extension": ".py",
   "mimetype": "text/x-python",
   "name": "python",
   "nbconvert_exporter": "python",
   "pygments_lexer": "ipython3",
   "version": "3.11.5"
  }
 },
 "nbformat": 4,
 "nbformat_minor": 5
}
