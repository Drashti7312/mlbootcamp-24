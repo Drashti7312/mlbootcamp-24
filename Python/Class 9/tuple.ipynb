{
 "cells": [
  {
   "cell_type": "markdown",
   "id": "5e1e2a33-799d-4081-9eaf-527ce38c9c38",
   "metadata": {},
   "source": [
    "# Tuple"
   ]
  },
  {
   "cell_type": "code",
   "execution_count": 2,
   "id": "978bd78d-2485-4673-a67c-0ede26ecd8dc",
   "metadata": {
    "tags": []
   },
   "outputs": [],
   "source": [
    "t1 = (1,2,3,4)"
   ]
  },
  {
   "cell_type": "code",
   "execution_count": 3,
   "id": "5b175f20-05cc-45b5-a24b-c2da699b3598",
   "metadata": {
    "tags": []
   },
   "outputs": [
    {
     "data": {
      "text/plain": [
       "tuple"
      ]
     },
     "execution_count": 3,
     "metadata": {},
     "output_type": "execute_result"
    }
   ],
   "source": [
    "type(t1)"
   ]
  },
  {
   "cell_type": "code",
   "execution_count": 4,
   "id": "af69612e-39de-4c18-8b5c-258cc549cca1",
   "metadata": {
    "tags": []
   },
   "outputs": [
    {
     "data": {
      "text/plain": [
       "0"
      ]
     },
     "execution_count": 4,
     "metadata": {},
     "output_type": "execute_result"
    }
   ],
   "source": [
    "5 + -5"
   ]
  },
  {
   "cell_type": "code",
   "execution_count": 5,
   "id": "7934767d-ca95-4850-8853-4e74b7701dcd",
   "metadata": {
    "tags": []
   },
   "outputs": [
    {
     "data": {
      "text/plain": [
       "10"
      ]
     },
     "execution_count": 5,
     "metadata": {},
     "output_type": "execute_result"
    }
   ],
   "source": [
    "5 + --5"
   ]
  },
  {
   "cell_type": "code",
   "execution_count": 6,
   "id": "597c4640-6055-4466-b638-93d70080b742",
   "metadata": {
    "tags": []
   },
   "outputs": [
    {
     "data": {
      "text/plain": [
       "20"
      ]
     },
     "execution_count": 6,
     "metadata": {},
     "output_type": "execute_result"
    }
   ],
   "source": [
    "5 + (15)"
   ]
  },
  {
   "cell_type": "code",
   "execution_count": null,
   "id": "839c459d-0c9c-4995-b824-1ea5905de70f",
   "metadata": {},
   "outputs": [],
   "source": []
  },
  {
   "cell_type": "code",
   "execution_count": 10,
   "id": "9b1c5bb5-15d6-435e-b04f-9e3e692bbc5a",
   "metadata": {
    "tags": []
   },
   "outputs": [],
   "source": [
    "t2 = 5"
   ]
  },
  {
   "cell_type": "code",
   "execution_count": 11,
   "id": "9cb9044d-3207-466e-a162-8ae6d5c36851",
   "metadata": {
    "tags": []
   },
   "outputs": [
    {
     "data": {
      "text/plain": [
       "int"
      ]
     },
     "execution_count": 11,
     "metadata": {},
     "output_type": "execute_result"
    }
   ],
   "source": [
    "type(t2)"
   ]
  },
  {
   "cell_type": "code",
   "execution_count": 13,
   "id": "abfc4ff7-eca7-404d-b985-6188c34e42e8",
   "metadata": {
    "tags": []
   },
   "outputs": [],
   "source": [
    "t2 = (5)"
   ]
  },
  {
   "cell_type": "code",
   "execution_count": 14,
   "id": "86597586-e7ce-4b07-9a43-653c35739720",
   "metadata": {
    "tags": []
   },
   "outputs": [
    {
     "data": {
      "text/plain": [
       "int"
      ]
     },
     "execution_count": 14,
     "metadata": {},
     "output_type": "execute_result"
    }
   ],
   "source": [
    "type(t2)"
   ]
  },
  {
   "cell_type": "code",
   "execution_count": 15,
   "id": "e326d9d7-dbb9-45aa-8c9d-65d5bfa9cff4",
   "metadata": {
    "tags": []
   },
   "outputs": [],
   "source": [
    "t3 = (5,)\n"
   ]
  },
  {
   "cell_type": "code",
   "execution_count": 16,
   "id": "cfff75dc-7af0-481c-9023-f5588998019f",
   "metadata": {
    "tags": []
   },
   "outputs": [
    {
     "data": {
      "text/plain": [
       "tuple"
      ]
     },
     "execution_count": 16,
     "metadata": {},
     "output_type": "execute_result"
    }
   ],
   "source": [
    "type(t3)"
   ]
  },
  {
   "cell_type": "code",
   "execution_count": 18,
   "id": "fa4f6266-b009-4558-a4aa-ebe6c77f2c13",
   "metadata": {
    "tags": []
   },
   "outputs": [
    {
     "data": {
      "text/plain": [
       "(5,)"
      ]
     },
     "execution_count": 18,
     "metadata": {},
     "output_type": "execute_result"
    }
   ],
   "source": [
    "t3"
   ]
  },
  {
   "cell_type": "code",
   "execution_count": 17,
   "id": "1fc7d0ea-1465-459b-b780-511641b18ef2",
   "metadata": {
    "tags": []
   },
   "outputs": [
    {
     "ename": "TypeError",
     "evalue": "'int' object is not iterable",
     "output_type": "error",
     "traceback": [
      "\u001b[0;31m---------------------------------------------------------------------------\u001b[0m",
      "\u001b[0;31mTypeError\u001b[0m                                 Traceback (most recent call last)",
      "Cell \u001b[0;32mIn[17], line 1\u001b[0m\n\u001b[0;32m----> 1\u001b[0m t4 \u001b[38;5;241m=\u001b[39m \u001b[38;5;28mtuple\u001b[39m(\u001b[38;5;241m5\u001b[39m)\n",
      "\u001b[0;31mTypeError\u001b[0m: 'int' object is not iterable"
     ]
    }
   ],
   "source": [
    "t4 = tuple(5)"
   ]
  },
  {
   "cell_type": "code",
   "execution_count": null,
   "id": "ae3ae12c-a726-4697-9c7c-4c3782cecdca",
   "metadata": {},
   "outputs": [],
   "source": []
  },
  {
   "cell_type": "code",
   "execution_count": 21,
   "id": "1e3faba6-ec83-4a23-af1e-4adac27bfd3a",
   "metadata": {
    "tags": []
   },
   "outputs": [
    {
     "name": "stdout",
     "output_type": "stream",
     "text": [
      "(5,)\n",
      "<class 'tuple'>\n"
     ]
    }
   ],
   "source": [
    "print(t3)\n",
    "print(type(t3))"
   ]
  },
  {
   "cell_type": "code",
   "execution_count": 22,
   "id": "7ddab75b-a556-4cea-8fd4-e46602b58e6b",
   "metadata": {
    "tags": []
   },
   "outputs": [
    {
     "name": "stdout",
     "output_type": "stream",
     "text": [
      "5\n",
      "<class 'int'>\n"
     ]
    }
   ],
   "source": [
    "print(t2)\n",
    "print(type(t2))"
   ]
  },
  {
   "cell_type": "code",
   "execution_count": 23,
   "id": "2d7ae4c4-2551-46c8-a680-2b722019bad3",
   "metadata": {
    "tags": []
   },
   "outputs": [
    {
     "ename": "TypeError",
     "evalue": "unsupported operand type(s) for +: 'int' and 'tuple'",
     "output_type": "error",
     "traceback": [
      "\u001b[0;31m---------------------------------------------------------------------------\u001b[0m",
      "\u001b[0;31mTypeError\u001b[0m                                 Traceback (most recent call last)",
      "Cell \u001b[0;32mIn[23], line 1\u001b[0m\n\u001b[0;32m----> 1\u001b[0m t2 \u001b[38;5;241m+\u001b[39m t3\n",
      "\u001b[0;31mTypeError\u001b[0m: unsupported operand type(s) for +: 'int' and 'tuple'"
     ]
    }
   ],
   "source": [
    "t2 + t3"
   ]
  },
  {
   "cell_type": "code",
   "execution_count": 26,
   "id": "eb638120-69cb-4cd6-bb88-b2fab2104cf7",
   "metadata": {
    "tags": []
   },
   "outputs": [
    {
     "data": {
      "text/plain": [
       "10"
      ]
     },
     "execution_count": 26,
     "metadata": {},
     "output_type": "execute_result"
    }
   ],
   "source": [
    "5 + (5)"
   ]
  },
  {
   "cell_type": "code",
   "execution_count": 25,
   "id": "34f32b4d-57c6-4a8e-bc90-56498c6f482b",
   "metadata": {
    "tags": []
   },
   "outputs": [
    {
     "ename": "TypeError",
     "evalue": "unsupported operand type(s) for +: 'int' and 'tuple'",
     "output_type": "error",
     "traceback": [
      "\u001b[0;31m---------------------------------------------------------------------------\u001b[0m",
      "\u001b[0;31mTypeError\u001b[0m                                 Traceback (most recent call last)",
      "Cell \u001b[0;32mIn[25], line 1\u001b[0m\n\u001b[0;32m----> 1\u001b[0m \u001b[38;5;241m5\u001b[39m \u001b[38;5;241m+\u001b[39m (\u001b[38;5;241m5\u001b[39m,)\n",
      "\u001b[0;31mTypeError\u001b[0m: unsupported operand type(s) for +: 'int' and 'tuple'"
     ]
    }
   ],
   "source": [
    "5 + (5,)"
   ]
  },
  {
   "cell_type": "code",
   "execution_count": 27,
   "id": "9dec9be7-a32e-4c73-a807-a7096a2e7cfa",
   "metadata": {
    "tags": []
   },
   "outputs": [
    {
     "name": "stdout",
     "output_type": "stream",
     "text": [
      "5\n"
     ]
    }
   ],
   "source": [
    "li = [5]\n",
    "\n",
    "for i in li:\n",
    "    print(i)"
   ]
  },
  {
   "cell_type": "code",
   "execution_count": 28,
   "id": "3789f3d1-c0a1-4388-b242-3dba880e4e89",
   "metadata": {
    "tags": []
   },
   "outputs": [],
   "source": [
    "t10 = tuple(li)"
   ]
  },
  {
   "cell_type": "code",
   "execution_count": 29,
   "id": "0509808b-1a45-4bae-981b-f0407a27e72f",
   "metadata": {
    "tags": []
   },
   "outputs": [
    {
     "data": {
      "text/plain": [
       "(5,)"
      ]
     },
     "execution_count": 29,
     "metadata": {},
     "output_type": "execute_result"
    }
   ],
   "source": [
    "t10"
   ]
  },
  {
   "cell_type": "code",
   "execution_count": null,
   "id": "53862a7c-9dc8-4f2a-84b1-2dec7f4aaad1",
   "metadata": {},
   "outputs": [],
   "source": []
  },
  {
   "cell_type": "code",
   "execution_count": 30,
   "id": "7911d46d-619b-438e-893d-23363a260ac3",
   "metadata": {
    "tags": []
   },
   "outputs": [],
   "source": [
    "t11 = (1,2,3,4)\n",
    "t12 = (1,\"mayank\",5,10,[1,2])"
   ]
  },
  {
   "cell_type": "code",
   "execution_count": 31,
   "id": "6c52bb9e-464f-438a-bdd5-1c1b9a3b6249",
   "metadata": {
    "tags": []
   },
   "outputs": [
    {
     "name": "stdout",
     "output_type": "stream",
     "text": [
      "(1, 2, 3, 4)\n",
      "(1, 'mayank', 5, 10, [1, 2])\n",
      "<class 'tuple'>\n",
      "<class 'tuple'>\n"
     ]
    }
   ],
   "source": [
    "print(t11)\n",
    "print(t12)\n",
    "print(type(t11))\n",
    "print(type(t12))"
   ]
  },
  {
   "cell_type": "code",
   "execution_count": 32,
   "id": "6617b33d-b731-422a-a8b5-6c7a56adaa43",
   "metadata": {
    "tags": []
   },
   "outputs": [
    {
     "data": {
      "text/plain": [
       "2"
      ]
     },
     "execution_count": 32,
     "metadata": {},
     "output_type": "execute_result"
    }
   ],
   "source": [
    "t11[1]"
   ]
  },
  {
   "cell_type": "code",
   "execution_count": 33,
   "id": "d49feb66-df1d-49ff-a049-03ee994793d4",
   "metadata": {
    "tags": []
   },
   "outputs": [
    {
     "data": {
      "text/plain": [
       "1"
      ]
     },
     "execution_count": 33,
     "metadata": {},
     "output_type": "execute_result"
    }
   ],
   "source": [
    "t12[4][0]"
   ]
  },
  {
   "cell_type": "code",
   "execution_count": 34,
   "id": "bbe1bfad-e2a5-4cad-b799-7ebf87900f50",
   "metadata": {
    "tags": []
   },
   "outputs": [],
   "source": [
    "t13  = [1,1]"
   ]
  },
  {
   "cell_type": "code",
   "execution_count": 35,
   "id": "b5e84967-adc8-4ebd-be4a-163cdf022b4a",
   "metadata": {
    "tags": []
   },
   "outputs": [
    {
     "data": {
      "text/plain": [
       "[1, 1]"
      ]
     },
     "execution_count": 35,
     "metadata": {},
     "output_type": "execute_result"
    }
   ],
   "source": [
    "t13"
   ]
  },
  {
   "cell_type": "code",
   "execution_count": 38,
   "id": "5e77929a-5a1d-4b20-bbd8-2894b337e9f2",
   "metadata": {
    "tags": []
   },
   "outputs": [
    {
     "data": {
      "text/plain": [
       "4"
      ]
     },
     "execution_count": 38,
     "metadata": {},
     "output_type": "execute_result"
    }
   ],
   "source": [
    "t11[-1]"
   ]
  },
  {
   "cell_type": "code",
   "execution_count": 37,
   "id": "84b857e9-28db-4d5b-b801-6c83e9c1f03b",
   "metadata": {
    "tags": []
   },
   "outputs": [
    {
     "name": "stdout",
     "output_type": "stream",
     "text": [
      "(1, 2, 3, 4)\n",
      "(1, 'mayank', 5, 10, [1, 2])\n"
     ]
    }
   ],
   "source": [
    "print(t11)\n",
    "print(t12)"
   ]
  },
  {
   "cell_type": "code",
   "execution_count": 40,
   "id": "abac6176-6e35-47b6-8042-7af3d0ef8303",
   "metadata": {
    "tags": []
   },
   "outputs": [
    {
     "ename": "TypeError",
     "evalue": "'tuple' object does not support item assignment",
     "output_type": "error",
     "traceback": [
      "\u001b[0;31m---------------------------------------------------------------------------\u001b[0m",
      "\u001b[0;31mTypeError\u001b[0m                                 Traceback (most recent call last)",
      "Cell \u001b[0;32mIn[40], line 1\u001b[0m\n\u001b[0;32m----> 1\u001b[0m t11[\u001b[38;5;241m2\u001b[39m] \u001b[38;5;241m=\u001b[39m \u001b[38;5;241m5\u001b[39m\n",
      "\u001b[0;31mTypeError\u001b[0m: 'tuple' object does not support item assignment"
     ]
    }
   ],
   "source": [
    "t11[2] = 5"
   ]
  },
  {
   "cell_type": "code",
   "execution_count": 41,
   "id": "555c45c2-a188-45f8-9390-e6e18605e9a9",
   "metadata": {
    "tags": []
   },
   "outputs": [
    {
     "ename": "TypeError",
     "evalue": "'tuple' object does not support item assignment",
     "output_type": "error",
     "traceback": [
      "\u001b[0;31m---------------------------------------------------------------------------\u001b[0m",
      "\u001b[0;31mTypeError\u001b[0m                                 Traceback (most recent call last)",
      "Cell \u001b[0;32mIn[41], line 1\u001b[0m\n\u001b[0;32m----> 1\u001b[0m t12[\u001b[38;5;241m4\u001b[39m] \u001b[38;5;241m=\u001b[39m [\u001b[38;5;241m1\u001b[39m,\u001b[38;5;241m2\u001b[39m,\u001b[38;5;241m3\u001b[39m]\n",
      "\u001b[0;31mTypeError\u001b[0m: 'tuple' object does not support item assignment"
     ]
    }
   ],
   "source": [
    "t12[4] = [1,2,3] "
   ]
  },
  {
   "cell_type": "code",
   "execution_count": 42,
   "id": "95659307-d901-479d-beeb-a0fc2255caf5",
   "metadata": {
    "tags": []
   },
   "outputs": [],
   "source": [
    "t14 = (1,2,3,[[1,2],3])"
   ]
  },
  {
   "cell_type": "code",
   "execution_count": 44,
   "id": "7e584f78-77be-4c63-aa95-cc3e4ddf9e46",
   "metadata": {
    "tags": []
   },
   "outputs": [],
   "source": [
    "t14[3][0][1] = 1"
   ]
  },
  {
   "cell_type": "code",
   "execution_count": 46,
   "id": "6a7cbf6f-d5b8-479a-b504-4566a8955d64",
   "metadata": {
    "tags": []
   },
   "outputs": [],
   "source": [
    "t14 = (1,2,3)"
   ]
  },
  {
   "cell_type": "code",
   "execution_count": 47,
   "id": "5850fa9a-10f8-4035-80ab-b7dca06b4696",
   "metadata": {
    "tags": []
   },
   "outputs": [],
   "source": [
    "t14 = t12[0:2]"
   ]
  },
  {
   "cell_type": "code",
   "execution_count": 48,
   "id": "057f3ccf-054f-45a1-a9ea-e4c2963531c1",
   "metadata": {
    "tags": []
   },
   "outputs": [
    {
     "data": {
      "text/plain": [
       "(1, 'mayank')"
      ]
     },
     "execution_count": 48,
     "metadata": {},
     "output_type": "execute_result"
    }
   ],
   "source": [
    "t14\n"
   ]
  },
  {
   "cell_type": "code",
   "execution_count": 49,
   "id": "690235e6-8279-41e6-8b52-73fbbb719e3b",
   "metadata": {
    "tags": []
   },
   "outputs": [],
   "source": [
    "t5 = ((1,2),3,4)"
   ]
  },
  {
   "cell_type": "code",
   "execution_count": null,
   "id": "ec960cfb-7aec-419f-8354-8e54fd67b83e",
   "metadata": {},
   "outputs": [],
   "source": []
  },
  {
   "cell_type": "markdown",
   "id": "8c07c289-95fb-46a6-987f-97cb5be63388",
   "metadata": {
    "tags": []
   },
   "source": [
    "### how things stored in tupple"
   ]
  },
  {
   "cell_type": "code",
   "execution_count": 60,
   "id": "722cd3db-4863-4067-9e7f-6ba12c78a9d3",
   "metadata": {
    "tags": []
   },
   "outputs": [],
   "source": [
    "t15 = (1,2,3,[[5,6],9], [9,10])"
   ]
  },
  {
   "cell_type": "code",
   "execution_count": 52,
   "id": "a6b0bb80-3148-4c40-9e7c-91fc185bb906",
   "metadata": {
    "tags": []
   },
   "outputs": [
    {
     "data": {
      "text/plain": [
       "(1, 2, 3, [[5, 6], 9])"
      ]
     },
     "execution_count": 52,
     "metadata": {},
     "output_type": "execute_result"
    }
   ],
   "source": [
    "t15"
   ]
  },
  {
   "cell_type": "code",
   "execution_count": 54,
   "id": "f0034bcd-f1ce-427a-adb0-c1ed9d6fca19",
   "metadata": {
    "tags": []
   },
   "outputs": [
    {
     "data": {
      "text/plain": [
       "4339983576"
      ]
     },
     "execution_count": 54,
     "metadata": {},
     "output_type": "execute_result"
    }
   ],
   "source": [
    "id(1)"
   ]
  },
  {
   "cell_type": "code",
   "execution_count": 55,
   "id": "6897a192-ed58-4768-8027-b7d2e9511a84",
   "metadata": {
    "tags": []
   },
   "outputs": [
    {
     "name": "stdout",
     "output_type": "stream",
     "text": [
      "4339983576\n",
      "4339983608\n",
      "4339983640\n",
      "4408993088\n"
     ]
    }
   ],
   "source": [
    "for i in t15:\n",
    "    print(id(i))"
   ]
  },
  {
   "cell_type": "code",
   "execution_count": 56,
   "id": "d6375d07-3443-42a6-b053-321e04819983",
   "metadata": {
    "tags": []
   },
   "outputs": [],
   "source": [
    "t15[3][0][1] = 15"
   ]
  },
  {
   "cell_type": "code",
   "execution_count": 57,
   "id": "99105163-c1e5-48dd-8397-79e4e7357393",
   "metadata": {
    "tags": []
   },
   "outputs": [
    {
     "data": {
      "text/plain": [
       "(1, 2, 3, [[5, 15], 9])"
      ]
     },
     "execution_count": 57,
     "metadata": {},
     "output_type": "execute_result"
    }
   ],
   "source": [
    "t15"
   ]
  },
  {
   "cell_type": "code",
   "execution_count": 58,
   "id": "e711dc6a-38b7-4d27-8df4-19e84f668d0e",
   "metadata": {
    "tags": []
   },
   "outputs": [
    {
     "name": "stdout",
     "output_type": "stream",
     "text": [
      "4339983576\n",
      "4339983608\n",
      "4339983640\n",
      "4408993088\n"
     ]
    }
   ],
   "source": [
    "for i in t15:\n",
    "    print(id(i))"
   ]
  },
  {
   "cell_type": "code",
   "execution_count": 59,
   "id": "1c7c732f-2762-4f4f-9b58-1eb103169c43",
   "metadata": {
    "tags": []
   },
   "outputs": [
    {
     "ename": "TypeError",
     "evalue": "'tuple' object does not support item assignment",
     "output_type": "error",
     "traceback": [
      "\u001b[0;31m---------------------------------------------------------------------------\u001b[0m",
      "\u001b[0;31mTypeError\u001b[0m                                 Traceback (most recent call last)",
      "Cell \u001b[0;32mIn[59], line 1\u001b[0m\n\u001b[0;32m----> 1\u001b[0m t15[\u001b[38;5;241m1\u001b[39m] \u001b[38;5;241m=\u001b[39m \u001b[38;5;241m15\u001b[39m\n",
      "\u001b[0;31mTypeError\u001b[0m: 'tuple' object does not support item assignment"
     ]
    }
   ],
   "source": [
    "t15[1] = 15"
   ]
  },
  {
   "cell_type": "code",
   "execution_count": 62,
   "id": "d4f13a7f-7797-4e50-92ac-f298e46550aa",
   "metadata": {
    "tags": []
   },
   "outputs": [
    {
     "ename": "TypeError",
     "evalue": "'tuple' object does not support item assignment",
     "output_type": "error",
     "traceback": [
      "\u001b[0;31m---------------------------------------------------------------------------\u001b[0m",
      "\u001b[0;31mTypeError\u001b[0m                                 Traceback (most recent call last)",
      "Cell \u001b[0;32mIn[62], line 1\u001b[0m\n\u001b[0;32m----> 1\u001b[0m t15[\u001b[38;5;241m4\u001b[39m]  \u001b[38;5;241m=\u001b[39m [\u001b[38;5;241m11\u001b[39m,\u001b[38;5;241m20\u001b[39m]\n",
      "\u001b[0;31mTypeError\u001b[0m: 'tuple' object does not support item assignment"
     ]
    }
   ],
   "source": [
    "t15[4]  = [11,20]"
   ]
  },
  {
   "cell_type": "code",
   "execution_count": null,
   "id": "828a5eb4-1bdd-4efc-8ba7-023ccdcbfc16",
   "metadata": {},
   "outputs": [],
   "source": []
  },
  {
   "cell_type": "code",
   "execution_count": 72,
   "id": "8df98f4f-7cbb-4001-984b-b7938d0e8377",
   "metadata": {
    "tags": []
   },
   "outputs": [],
   "source": [
    "li = [1,2,3,t15]"
   ]
  },
  {
   "cell_type": "code",
   "execution_count": 73,
   "id": "71d28908-119d-4b95-893b-c6b9aae5d139",
   "metadata": {
    "tags": []
   },
   "outputs": [
    {
     "data": {
      "text/plain": [
       "[1, 2, 3, (1, 2, 3, [[5, 6], 9], [9, 10])]"
      ]
     },
     "execution_count": 73,
     "metadata": {},
     "output_type": "execute_result"
    }
   ],
   "source": [
    "li"
   ]
  },
  {
   "cell_type": "code",
   "execution_count": 74,
   "id": "9cb5f044-0fd2-4374-8438-559d10532686",
   "metadata": {
    "tags": []
   },
   "outputs": [
    {
     "data": {
      "text/plain": [
       "(1, 2, 3, [[5, 6], 9], [9, 10])"
      ]
     },
     "execution_count": 74,
     "metadata": {},
     "output_type": "execute_result"
    }
   ],
   "source": [
    "li[3]"
   ]
  },
  {
   "cell_type": "code",
   "execution_count": null,
   "id": "0d78f8a9-192a-4b90-b432-688de39b4c2c",
   "metadata": {},
   "outputs": [],
   "source": []
  },
  {
   "cell_type": "code",
   "execution_count": null,
   "id": "cb173860-3d8c-4709-84f7-9c4255058bd7",
   "metadata": {},
   "outputs": [],
   "source": []
  },
  {
   "cell_type": "markdown",
   "id": "bd4300eb-6030-4442-8132-a065cf99fb0f",
   "metadata": {},
   "source": [
    "# packing and unpacking"
   ]
  },
  {
   "cell_type": "code",
   "execution_count": 75,
   "id": "40269f94-7b77-491d-90ae-fb4c770d0484",
   "metadata": {
    "tags": []
   },
   "outputs": [],
   "source": [
    "a = 1,2,3,4"
   ]
  },
  {
   "cell_type": "code",
   "execution_count": 76,
   "id": "cf7be077-0847-4e3d-9f07-69cdc7955357",
   "metadata": {
    "tags": []
   },
   "outputs": [
    {
     "data": {
      "text/plain": [
       "(1, 2, 3, 4)"
      ]
     },
     "execution_count": 76,
     "metadata": {},
     "output_type": "execute_result"
    }
   ],
   "source": [
    "a"
   ]
  },
  {
   "cell_type": "code",
   "execution_count": 78,
   "id": "7d185cee-d468-449b-91bd-eb05787f5e05",
   "metadata": {
    "tags": []
   },
   "outputs": [],
   "source": [
    "w,x,y,z = a"
   ]
  },
  {
   "cell_type": "code",
   "execution_count": 79,
   "id": "2bea4d5a-e5d5-4771-802a-dc47b8b8cc98",
   "metadata": {
    "tags": []
   },
   "outputs": [
    {
     "name": "stdout",
     "output_type": "stream",
     "text": [
      "1 2 3 4\n"
     ]
    }
   ],
   "source": [
    "print(w,x,y,z)"
   ]
  },
  {
   "cell_type": "code",
   "execution_count": null,
   "id": "730bc96f-fcac-4fe7-80ba-79087971fc98",
   "metadata": {},
   "outputs": [],
   "source": []
  },
  {
   "cell_type": "code",
   "execution_count": null,
   "id": "db0e0b09-7741-40ef-9027-7cf9fbc3d168",
   "metadata": {},
   "outputs": [],
   "source": []
  },
  {
   "cell_type": "code",
   "execution_count": null,
   "id": "d859d097-11b1-45ef-958e-ddd997c674d2",
   "metadata": {},
   "outputs": [],
   "source": []
  },
  {
   "cell_type": "code",
   "execution_count": null,
   "id": "ae1e1d03-2221-4cda-8c89-0623f4a8b9e9",
   "metadata": {},
   "outputs": [],
   "source": []
  }
 ],
 "metadata": {
  "kernelspec": {
   "display_name": "Python 3 (ipykernel)",
   "language": "python",
   "name": "python3"
  },
  "language_info": {
   "codemirror_mode": {
    "name": "ipython",
    "version": 3
   },
   "file_extension": ".py",
   "mimetype": "text/x-python",
   "name": "python",
   "nbconvert_exporter": "python",
   "pygments_lexer": "ipython3",
   "version": "3.11.5"
  }
 },
 "nbformat": 4,
 "nbformat_minor": 5
}
