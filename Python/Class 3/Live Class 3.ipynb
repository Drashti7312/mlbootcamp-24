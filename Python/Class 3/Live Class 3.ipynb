{
 "cells": [
  {
   "cell_type": "code",
   "execution_count": 1,
   "id": "62fd4281-5a66-48df-8f35-55c95a6158db",
   "metadata": {
    "tags": []
   },
   "outputs": [],
   "source": [
    "x = 3\n",
    "y =10.5"
   ]
  },
  {
   "cell_type": "code",
   "execution_count": 2,
   "id": "eb1a7d92-d909-4e6b-9afd-24cb38640ec2",
   "metadata": {
    "tags": []
   },
   "outputs": [],
   "source": [
    "h = \"hello\""
   ]
  },
  {
   "cell_type": "code",
   "execution_count": 4,
   "id": "cdb7f24c-8172-4fde-8837-f972319bc236",
   "metadata": {
    "tags": []
   },
   "outputs": [
    {
     "data": {
      "text/plain": [
       "int"
      ]
     },
     "execution_count": 4,
     "metadata": {},
     "output_type": "execute_result"
    }
   ],
   "source": [
    "type(x)"
   ]
  },
  {
   "cell_type": "code",
   "execution_count": 5,
   "id": "0cacd7fa-78d5-4874-9fcb-ca0fe04210c3",
   "metadata": {
    "tags": []
   },
   "outputs": [
    {
     "data": {
      "text/plain": [
       "float"
      ]
     },
     "execution_count": 5,
     "metadata": {},
     "output_type": "execute_result"
    }
   ],
   "source": [
    "type(y)"
   ]
  },
  {
   "cell_type": "code",
   "execution_count": 6,
   "id": "dfa3b54d-60ed-4e01-8358-d522a71ad962",
   "metadata": {
    "tags": []
   },
   "outputs": [
    {
     "data": {
      "text/plain": [
       "str"
      ]
     },
     "execution_count": 6,
     "metadata": {},
     "output_type": "execute_result"
    }
   ],
   "source": [
    "type(h)"
   ]
  },
  {
   "cell_type": "code",
   "execution_count": 7,
   "id": "2c5d6386-ad65-44eb-91e3-dcc1f7b0b4ab",
   "metadata": {
    "tags": []
   },
   "outputs": [],
   "source": [
    "c = 'c'"
   ]
  },
  {
   "cell_type": "code",
   "execution_count": 8,
   "id": "94506a7c-d515-4308-a2bd-33e74a55bddb",
   "metadata": {
    "tags": []
   },
   "outputs": [
    {
     "data": {
      "text/plain": [
       "str"
      ]
     },
     "execution_count": 8,
     "metadata": {},
     "output_type": "execute_result"
    }
   ],
   "source": [
    "type(c)"
   ]
  },
  {
   "cell_type": "code",
   "execution_count": 9,
   "id": "47cb47d5-97d5-4e69-a122-4e9f4c1dee29",
   "metadata": {
    "tags": []
   },
   "outputs": [],
   "source": [
    "veryLargeNumber = 3214125012552151251"
   ]
  },
  {
   "cell_type": "code",
   "execution_count": 10,
   "id": "88bac6be-a66a-433e-b1e9-103e85793b79",
   "metadata": {
    "tags": []
   },
   "outputs": [
    {
     "data": {
      "text/plain": [
       "int"
      ]
     },
     "execution_count": 10,
     "metadata": {},
     "output_type": "execute_result"
    }
   ],
   "source": [
    "type(veryLargeNumber)"
   ]
  },
  {
   "cell_type": "code",
   "execution_count": null,
   "id": "2a6d083e-7685-4dfb-8c5a-306c7a92521e",
   "metadata": {},
   "outputs": [],
   "source": []
  },
  {
   "cell_type": "code",
   "execution_count": 11,
   "id": "9cc2f1da-7b0b-4bfb-a867-70ac5cbe3880",
   "metadata": {
    "tags": []
   },
   "outputs": [],
   "source": [
    "m = 567"
   ]
  },
  {
   "cell_type": "code",
   "execution_count": 12,
   "id": "5f004188-74f4-409b-984b-16c1b21aea3f",
   "metadata": {
    "tags": []
   },
   "outputs": [
    {
     "data": {
      "text/plain": [
       "int"
      ]
     },
     "execution_count": 12,
     "metadata": {},
     "output_type": "execute_result"
    }
   ],
   "source": [
    "type(m)"
   ]
  },
  {
   "cell_type": "code",
   "execution_count": 13,
   "id": "d0e822d8-0fdc-4001-9206-c1ff51a0a6f6",
   "metadata": {
    "tags": []
   },
   "outputs": [
    {
     "data": {
      "text/plain": [
       "str"
      ]
     },
     "execution_count": 13,
     "metadata": {},
     "output_type": "execute_result"
    }
   ],
   "source": [
    "m = \"mayank\"\n",
    "type(m)"
   ]
  },
  {
   "cell_type": "code",
   "execution_count": 14,
   "id": "5e8eb6a6-8855-4b1f-925c-765ebcff0a7b",
   "metadata": {
    "tags": []
   },
   "outputs": [
    {
     "data": {
      "text/plain": [
       "float"
      ]
     },
     "execution_count": 14,
     "metadata": {},
     "output_type": "execute_result"
    }
   ],
   "source": [
    "m = 3.54\n",
    "type(m)"
   ]
  },
  {
   "cell_type": "code",
   "execution_count": 24,
   "id": "c5cfa495-1b06-4ff5-b909-48c76aa6d1e4",
   "metadata": {
    "tags": []
   },
   "outputs": [
    {
     "data": {
      "text/plain": [
       "int"
      ]
     },
     "execution_count": 24,
     "metadata": {},
     "output_type": "execute_result"
    }
   ],
   "source": [
    "m = 32\n",
    "type(m)"
   ]
  },
  {
   "cell_type": "code",
   "execution_count": null,
   "id": "bb916124-c8ed-4d6e-8ab2-4a6f8916d158",
   "metadata": {},
   "outputs": [],
   "source": []
  },
  {
   "cell_type": "code",
   "execution_count": 16,
   "id": "ed487554-b91e-4aae-8642-b86eb2019f5f",
   "metadata": {
    "tags": []
   },
   "outputs": [],
   "source": [
    "import sys"
   ]
  },
  {
   "cell_type": "code",
   "execution_count": 17,
   "id": "524bf7d6-fcf8-4a03-8cde-cbeefe564fb5",
   "metadata": {
    "tags": []
   },
   "outputs": [
    {
     "data": {
      "text/plain": [
       "28"
      ]
     },
     "execution_count": 17,
     "metadata": {},
     "output_type": "execute_result"
    }
   ],
   "source": [
    "sys.getsizeof(m)"
   ]
  },
  {
   "cell_type": "code",
   "execution_count": 21,
   "id": "ac17e17c-5134-4aa9-a353-fa163661138b",
   "metadata": {
    "tags": []
   },
   "outputs": [],
   "source": [
    "m = 938520-85-3258-31865319865942684926892862938694286924"
   ]
  },
  {
   "cell_type": "code",
   "execution_count": 22,
   "id": "cb00957c-298c-488d-af3c-1c5c60cd6e05",
   "metadata": {
    "tags": []
   },
   "outputs": [
    {
     "data": {
      "text/plain": [
       "int"
      ]
     },
     "execution_count": 22,
     "metadata": {},
     "output_type": "execute_result"
    }
   ],
   "source": [
    "type(m)"
   ]
  },
  {
   "cell_type": "code",
   "execution_count": 19,
   "id": "1a5e7547-a2d2-4103-8d2d-e11f7e53bb95",
   "metadata": {
    "tags": []
   },
   "outputs": [
    {
     "data": {
      "text/plain": [
       "44"
      ]
     },
     "execution_count": 19,
     "metadata": {},
     "output_type": "execute_result"
    }
   ],
   "source": [
    "sys.getsizeof(m)"
   ]
  },
  {
   "cell_type": "code",
   "execution_count": 20,
   "id": "cbeb2987-1771-4e51-8c25-eb14b4746eee",
   "metadata": {
    "tags": []
   },
   "outputs": [
    {
     "data": {
      "text/plain": [
       "28"
      ]
     },
     "execution_count": 20,
     "metadata": {},
     "output_type": "execute_result"
    }
   ],
   "source": [
    "m =2 \n",
    "sys.getsizeof(m)"
   ]
  },
  {
   "cell_type": "code",
   "execution_count": null,
   "id": "e63c3f16-3b23-47fe-b46f-7cba20c40557",
   "metadata": {},
   "outputs": [],
   "source": []
  },
  {
   "cell_type": "code",
   "execution_count": 23,
   "id": "456d8e81-8482-4fe3-a163-e0452526cfa2",
   "metadata": {
    "tags": []
   },
   "outputs": [
    {
     "data": {
      "text/plain": [
       "28"
      ]
     },
     "execution_count": 23,
     "metadata": {},
     "output_type": "execute_result"
    }
   ],
   "source": [
    "isRight = True\n",
    "sys.getsizeof(isRight)"
   ]
  },
  {
   "cell_type": "code",
   "execution_count": 33,
   "id": "1f7c0a4f-fcff-4392-b2a8-8757f341ce3c",
   "metadata": {
    "tags": []
   },
   "outputs": [
    {
     "data": {
      "text/plain": [
       "int"
      ]
     },
     "execution_count": 33,
     "metadata": {},
     "output_type": "execute_result"
    }
   ],
   "source": [
    "intvar = 2\n",
    "type(intvar)"
   ]
  },
  {
   "cell_type": "code",
   "execution_count": 34,
   "id": "1a93980a-23bf-4fc3-8db5-87b9242937b0",
   "metadata": {
    "tags": []
   },
   "outputs": [
    {
     "data": {
      "text/plain": [
       "float"
      ]
     },
     "execution_count": 34,
     "metadata": {},
     "output_type": "execute_result"
    }
   ],
   "source": [
    "floatvar=3.14\n",
    "type(floatvar)"
   ]
  },
  {
   "cell_type": "code",
   "execution_count": null,
   "id": "bfd98f7a-4f06-4c87-a00f-15eb9fd4d3a8",
   "metadata": {},
   "outputs": [],
   "source": []
  },
  {
   "cell_type": "code",
   "execution_count": 28,
   "id": "7cf0c43e-41c2-422a-b0e6-f24d1aedfef5",
   "metadata": {
    "tags": []
   },
   "outputs": [],
   "source": [
    "floatvare= 1e5"
   ]
  },
  {
   "cell_type": "code",
   "execution_count": 29,
   "id": "5fc14506-532a-4189-a8fe-0b8585c64f4b",
   "metadata": {
    "tags": []
   },
   "outputs": [
    {
     "data": {
      "text/plain": [
       "100000.0"
      ]
     },
     "execution_count": 29,
     "metadata": {},
     "output_type": "execute_result"
    }
   ],
   "source": [
    "floatvare"
   ]
  },
  {
   "cell_type": "code",
   "execution_count": 30,
   "id": "24456f2e-be4e-4ed3-ac88-a8500f924802",
   "metadata": {
    "tags": []
   },
   "outputs": [],
   "source": [
    "floatvare = 5e-5"
   ]
  },
  {
   "cell_type": "code",
   "execution_count": null,
   "id": "fd7b962a-0d1c-4040-b04b-f9cb71b9087b",
   "metadata": {},
   "outputs": [],
   "source": []
  },
  {
   "cell_type": "code",
   "execution_count": 32,
   "id": "54390295-6052-4a2e-a6a5-7e352ca53435",
   "metadata": {
    "tags": []
   },
   "outputs": [
    {
     "data": {
      "text/plain": [
       "'0.0000500000'"
      ]
     },
     "execution_count": 32,
     "metadata": {},
     "output_type": "execute_result"
    }
   ],
   "source": [
    "'{0:.10f}'.format(floatvare)"
   ]
  },
  {
   "cell_type": "code",
   "execution_count": null,
   "id": "83e505e1-f58d-41e2-b53e-ce95827aa3e3",
   "metadata": {},
   "outputs": [],
   "source": []
  },
  {
   "cell_type": "code",
   "execution_count": null,
   "id": "76a475df-2aee-496d-810d-15a2ded50e6e",
   "metadata": {},
   "outputs": [],
   "source": []
  },
  {
   "cell_type": "code",
   "execution_count": 35,
   "id": "d44b840c-8bfc-47a8-8353-5fe5a280d32e",
   "metadata": {
    "tags": []
   },
   "outputs": [],
   "source": [
    "complexvar = 3 + 2j"
   ]
  },
  {
   "cell_type": "code",
   "execution_count": 36,
   "id": "be6cb1ee-bb75-4617-8280-77d6f8278495",
   "metadata": {
    "tags": []
   },
   "outputs": [
    {
     "data": {
      "text/plain": [
       "complex"
      ]
     },
     "execution_count": 36,
     "metadata": {},
     "output_type": "execute_result"
    }
   ],
   "source": [
    "type(complexvar)"
   ]
  },
  {
   "cell_type": "code",
   "execution_count": 37,
   "id": "e6c236b6-40a8-4162-9b16-b74ea7def0bf",
   "metadata": {
    "tags": []
   },
   "outputs": [],
   "source": [
    "complexFloatVar = 2.3 + 3.6j"
   ]
  },
  {
   "cell_type": "code",
   "execution_count": 38,
   "id": "6393f525-a304-4459-85c0-33d0bd9b9042",
   "metadata": {
    "tags": []
   },
   "outputs": [
    {
     "data": {
      "text/plain": [
       "complex"
      ]
     },
     "execution_count": 38,
     "metadata": {},
     "output_type": "execute_result"
    }
   ],
   "source": [
    "type(complexFloatVar)"
   ]
  },
  {
   "cell_type": "code",
   "execution_count": 39,
   "id": "956d8d04-2192-4a00-a000-178c5fa61b32",
   "metadata": {
    "tags": []
   },
   "outputs": [
    {
     "ename": "NameError",
     "evalue": "name 'true' is not defined",
     "output_type": "error",
     "traceback": [
      "\u001b[0;31m---------------------------------------------------------------------------\u001b[0m",
      "\u001b[0;31mNameError\u001b[0m                                 Traceback (most recent call last)",
      "Cell \u001b[0;32mIn[39], line 1\u001b[0m\n\u001b[0;32m----> 1\u001b[0m boolVar \u001b[38;5;241m=\u001b[39m true\n",
      "\u001b[0;31mNameError\u001b[0m: name 'true' is not defined"
     ]
    }
   ],
   "source": [
    "boolVar = true"
   ]
  },
  {
   "cell_type": "code",
   "execution_count": 43,
   "id": "26e92bf2-acb9-4a16-95c8-79b34e3c53ac",
   "metadata": {
    "tags": []
   },
   "outputs": [],
   "source": [
    "boolVar1 = True"
   ]
  },
  {
   "cell_type": "code",
   "execution_count": 42,
   "id": "c9a2700b-8846-43ad-9469-1070b23ac6af",
   "metadata": {
    "tags": []
   },
   "outputs": [],
   "source": [
    "boolVar0 = False "
   ]
  },
  {
   "cell_type": "code",
   "execution_count": 45,
   "id": "1d43fc22-9ca8-4cff-adc5-4e04f6981276",
   "metadata": {
    "tags": []
   },
   "outputs": [],
   "source": [
    "a = True\n",
    "b = True"
   ]
  },
  {
   "cell_type": "code",
   "execution_count": 46,
   "id": "be9fdd4a-35ce-4dda-a7d8-2cec4303a57d",
   "metadata": {
    "tags": []
   },
   "outputs": [
    {
     "data": {
      "text/plain": [
       "2"
      ]
     },
     "execution_count": 46,
     "metadata": {},
     "output_type": "execute_result"
    }
   ],
   "source": [
    "a+b"
   ]
  },
  {
   "cell_type": "code",
   "execution_count": 47,
   "id": "d906a3ca-8f80-4001-a7aa-006dbe436279",
   "metadata": {
    "tags": []
   },
   "outputs": [],
   "source": [
    "stringVarSingle = 'Mayank'"
   ]
  },
  {
   "cell_type": "code",
   "execution_count": 48,
   "id": "8736fc14-3962-4252-8ae6-a48568de28ff",
   "metadata": {
    "tags": []
   },
   "outputs": [],
   "source": [
    "stringVarDouble = \"Aggarwal\""
   ]
  },
  {
   "cell_type": "code",
   "execution_count": 49,
   "id": "2b70c22a-33e3-4887-bf69-a54a6d02530b",
   "metadata": {
    "tags": []
   },
   "outputs": [
    {
     "name": "stdout",
     "output_type": "stream",
     "text": [
      "Mayank\n",
      "Aggarwal\n"
     ]
    }
   ],
   "source": [
    "print(stringVarSingle)\n",
    "print(stringVarDouble)"
   ]
  },
  {
   "cell_type": "code",
   "execution_count": 50,
   "id": "e39191f0-411c-4dcf-a848-1c31860736ed",
   "metadata": {
    "tags": []
   },
   "outputs": [],
   "source": [
    "# Question to be solved\n",
    "\n",
    "# Give code to store below strings in a variable. 3 variables are to be defined\n",
    "\n",
    "\n",
    "\n",
    "## 1. Mayank's Code\n",
    "## 2. Let us \"Code\"\n",
    "## 3. Let's \"Code\""
   ]
  },
  {
   "cell_type": "code",
   "execution_count": 52,
   "id": "b31a3f1c-0d52-45ff-9ee3-46c553c3f546",
   "metadata": {
    "tags": []
   },
   "outputs": [],
   "source": [
    "string1 = \"Mayank's Code\""
   ]
  },
  {
   "cell_type": "code",
   "execution_count": 53,
   "id": "f630e2b9-0bc0-4aa4-a7b5-b9494fcd7c5d",
   "metadata": {
    "tags": []
   },
   "outputs": [
    {
     "data": {
      "text/plain": [
       "\"Mayank's Code\""
      ]
     },
     "execution_count": 53,
     "metadata": {},
     "output_type": "execute_result"
    }
   ],
   "source": [
    "string1"
   ]
  },
  {
   "cell_type": "code",
   "execution_count": 54,
   "id": "1dff090b-d987-466c-a282-3da37d036103",
   "metadata": {
    "tags": []
   },
   "outputs": [],
   "source": [
    "string2 = 'Let us \"Code\"'"
   ]
  },
  {
   "cell_type": "code",
   "execution_count": 55,
   "id": "0c30bf3d-6b59-4a10-9245-99e17e8dc304",
   "metadata": {
    "tags": []
   },
   "outputs": [
    {
     "data": {
      "text/plain": [
       "'Let us \"Code\"'"
      ]
     },
     "execution_count": 55,
     "metadata": {},
     "output_type": "execute_result"
    }
   ],
   "source": [
    "string2"
   ]
  },
  {
   "cell_type": "code",
   "execution_count": 60,
   "id": "3056b6d0-4a61-4ddf-a7e9-00dbff73f2b6",
   "metadata": {
    "tags": []
   },
   "outputs": [],
   "source": [
    "string3 = \"\"\"\"Let's Code\"\"\""
   ]
  },
  {
   "cell_type": "code",
   "execution_count": 58,
   "id": "c22123d7-d64e-445e-8827-4d876c0c0b4c",
   "metadata": {
    "tags": []
   },
   "outputs": [
    {
     "data": {
      "text/plain": [
       "'\" Let\\'s \"Code\" '"
      ]
     },
     "execution_count": 58,
     "metadata": {},
     "output_type": "execute_result"
    }
   ],
   "source": [
    "string3 "
   ]
  },
  {
   "cell_type": "code",
   "execution_count": null,
   "id": "96a80dab-3882-4740-8ef2-bf06a192f558",
   "metadata": {},
   "outputs": [],
   "source": []
  },
  {
   "cell_type": "code",
   "execution_count": 65,
   "id": "3617af44-ecd5-45f8-9722-d8cf83eaa18b",
   "metadata": {
    "tags": []
   },
   "outputs": [
    {
     "ename": "SyntaxError",
     "evalue": "unterminated string literal (detected at line 1) (1302034691.py, line 1)",
     "output_type": "error",
     "traceback": [
      "\u001b[0;36m  Cell \u001b[0;32mIn[65], line 1\u001b[0;36m\u001b[0m\n\u001b[0;31m    stringMultiLine = \" Hi\u001b[0m\n\u001b[0m                      ^\u001b[0m\n\u001b[0;31mSyntaxError\u001b[0m\u001b[0;31m:\u001b[0m unterminated string literal (detected at line 1)\n"
     ]
    }
   ],
   "source": [
    "stringMultiLine = \" Hi\n",
    "Hello \n",
    "How are you \n",
    "Lets learn Python\""
   ]
  },
  {
   "cell_type": "code",
   "execution_count": null,
   "id": "d77de9b1-9e37-4cc6-9fc8-e83e18bfe837",
   "metadata": {},
   "outputs": [],
   "source": []
  },
  {
   "cell_type": "code",
   "execution_count": null,
   "id": "23acd2f8-b26b-4dc1-bf54-a1a6a55dba47",
   "metadata": {},
   "outputs": [],
   "source": []
  },
  {
   "cell_type": "code",
   "execution_count": null,
   "id": "fd9ffffe-3e20-4a6a-b7b3-2132714874bd",
   "metadata": {},
   "outputs": [],
   "source": []
  },
  {
   "cell_type": "code",
   "execution_count": 63,
   "id": "7a5a79aa-4e8d-4984-a4c6-c3fb33d7abc6",
   "metadata": {
    "tags": []
   },
   "outputs": [
    {
     "data": {
      "text/plain": [
       "' Hi\\nHello \\nHow are you \\nLets learn Python'"
      ]
     },
     "execution_count": 63,
     "metadata": {},
     "output_type": "execute_result"
    }
   ],
   "source": [
    "stringMultiLine\n"
   ]
  },
  {
   "cell_type": "code",
   "execution_count": null,
   "id": "167df331-c7fa-43a3-91fd-0a24d5a26d70",
   "metadata": {},
   "outputs": [],
   "source": []
  },
  {
   "cell_type": "code",
   "execution_count": null,
   "id": "fbf64c8f-7976-4ed0-ab81-24b36eee3a33",
   "metadata": {},
   "outputs": [],
   "source": []
  },
  {
   "cell_type": "code",
   "execution_count": 66,
   "id": "c99c29dd-f281-44e6-acad-f83bcd3a6864",
   "metadata": {
    "tags": []
   },
   "outputs": [],
   "source": [
    "stringWithSingleQuote = ' Mayank\\'s'"
   ]
  },
  {
   "cell_type": "code",
   "execution_count": 69,
   "id": "479ff030-a1aa-4e16-9e14-370530644f13",
   "metadata": {
    "tags": []
   },
   "outputs": [
    {
     "name": "stdout",
     "output_type": "stream",
     "text": [
      " Mayank's\n"
     ]
    }
   ],
   "source": [
    "print( stringWithSingleQuote)"
   ]
  },
  {
   "cell_type": "code",
   "execution_count": null,
   "id": "b58fe193-85eb-496c-91b6-3a6554c2e3a5",
   "metadata": {},
   "outputs": [],
   "source": []
  },
  {
   "cell_type": "code",
   "execution_count": 67,
   "id": "a814a42b-df8c-452d-90bf-15edb2853a0a",
   "metadata": {
    "tags": []
   },
   "outputs": [
    {
     "name": "stdout",
     "output_type": "stream",
     "text": [
      " Hi\n",
      "Hello \n",
      "How are you \n",
      "Lets learn Python\n"
     ]
    }
   ],
   "source": [
    "print(stringMultiLine)"
   ]
  },
  {
   "cell_type": "code",
   "execution_count": 68,
   "id": "36ee83b5-5629-4a6b-8552-5a082646de8c",
   "metadata": {
    "tags": []
   },
   "outputs": [
    {
     "data": {
      "text/plain": [
       "' Hi\\nHello \\nHow are you \\nLets learn Python'"
      ]
     },
     "execution_count": 68,
     "metadata": {},
     "output_type": "execute_result"
    }
   ],
   "source": [
    "stringMultiLine"
   ]
  },
  {
   "cell_type": "code",
   "execution_count": null,
   "id": "1026d186-d6d3-4617-be22-b390943e36f2",
   "metadata": {},
   "outputs": [],
   "source": []
  },
  {
   "cell_type": "code",
   "execution_count": null,
   "id": "cba818e0-b2d5-4c40-8cc3-43b365f0e806",
   "metadata": {},
   "outputs": [],
   "source": []
  },
  {
   "cell_type": "code",
   "execution_count": 70,
   "id": "55e60450-26d8-47a5-a28b-ea16e02b323e",
   "metadata": {
    "tags": []
   },
   "outputs": [],
   "source": [
    "str2 = 'Let\\'s \"code\"' "
   ]
  },
  {
   "cell_type": "code",
   "execution_count": 71,
   "id": "67c5f043-7b61-4c2d-88ae-2f87a9301d01",
   "metadata": {
    "tags": []
   },
   "outputs": [
    {
     "name": "stdout",
     "output_type": "stream",
     "text": [
      "Let's \"code\"\n"
     ]
    }
   ],
   "source": [
    "print(str2)"
   ]
  },
  {
   "cell_type": "code",
   "execution_count": 78,
   "id": "dc56b8f9-5a4e-455d-adca-80a590d5fc37",
   "metadata": {
    "tags": []
   },
   "outputs": [],
   "source": [
    "str2 = 'Let\\'s \\\"code\\\" ' "
   ]
  },
  {
   "cell_type": "code",
   "execution_count": 79,
   "id": "4388fde5-0c2c-4fa5-9e06-f459752f6920",
   "metadata": {
    "tags": []
   },
   "outputs": [
    {
     "name": "stdout",
     "output_type": "stream",
     "text": [
      "Let's \"code\" \n"
     ]
    }
   ],
   "source": [
    "print(str2)"
   ]
  },
  {
   "cell_type": "code",
   "execution_count": null,
   "id": "5ce7578b-e43a-4ad9-890a-9a8ef4e3d2a5",
   "metadata": {},
   "outputs": [],
   "source": []
  },
  {
   "cell_type": "code",
   "execution_count": null,
   "id": "48791f3d-32a5-4f33-b229-a0f1953b976f",
   "metadata": {},
   "outputs": [],
   "source": []
  },
  {
   "cell_type": "code",
   "execution_count": null,
   "id": "f7ded6ed-20a2-4516-842b-437662dd275c",
   "metadata": {},
   "outputs": [],
   "source": []
  },
  {
   "cell_type": "markdown",
   "id": "a1f84cb4-a8cc-4249-9022-cc25c783377f",
   "metadata": {},
   "source": [
    "# Indexing\n",
    "\n"
   ]
  },
  {
   "cell_type": "code",
   "execution_count": null,
   "id": "49183186-e7f4-4d28-bcd3-4b996cc8141e",
   "metadata": {},
   "outputs": [],
   "source": []
  },
  {
   "cell_type": "code",
   "execution_count": null,
   "id": "e4bed277-7a3f-4a37-8526-5f86fa365d48",
   "metadata": {},
   "outputs": [],
   "source": []
  },
  {
   "cell_type": "code",
   "execution_count": 80,
   "id": "d9c87cec-9c73-42ee-8b6d-8ce5a35e7d39",
   "metadata": {
    "tags": []
   },
   "outputs": [],
   "source": [
    "str = 'PYTHON'"
   ]
  },
  {
   "cell_type": "code",
   "execution_count": 81,
   "id": "e2a68480-a53a-4e43-9e7a-ff60d7971f2e",
   "metadata": {
    "tags": []
   },
   "outputs": [
    {
     "name": "stdout",
     "output_type": "stream",
     "text": [
      "P\n",
      "N\n"
     ]
    },
    {
     "ename": "IndexError",
     "evalue": "string index out of range",
     "output_type": "error",
     "traceback": [
      "\u001b[0;31m---------------------------------------------------------------------------\u001b[0m",
      "\u001b[0;31mIndexError\u001b[0m                                Traceback (most recent call last)",
      "Cell \u001b[0;32mIn[81], line 3\u001b[0m\n\u001b[1;32m      1\u001b[0m \u001b[38;5;28mprint\u001b[39m(\u001b[38;5;28mstr\u001b[39m[\u001b[38;5;241m0\u001b[39m])\n\u001b[1;32m      2\u001b[0m \u001b[38;5;28mprint\u001b[39m(\u001b[38;5;28mstr\u001b[39m[\u001b[38;5;241m5\u001b[39m])\n\u001b[0;32m----> 3\u001b[0m \u001b[38;5;28mprint\u001b[39m(\u001b[38;5;28mstr\u001b[39m[\u001b[38;5;241m6\u001b[39m])\n\u001b[1;32m      4\u001b[0m \u001b[38;5;28mprint\u001b[39m(\u001b[38;5;28mstr\u001b[39m[\u001b[38;5;241m8\u001b[39m])\n",
      "\u001b[0;31mIndexError\u001b[0m: string index out of range"
     ]
    }
   ],
   "source": [
    "print(str[0])\n",
    "print(str[5])\n",
    "print(str[6])\n",
    "print(str[8])\n"
   ]
  },
  {
   "cell_type": "code",
   "execution_count": null,
   "id": "d021bda3-f6cb-4ab2-8f9f-36f9f426b095",
   "metadata": {},
   "outputs": [],
   "source": []
  },
  {
   "cell_type": "code",
   "execution_count": 82,
   "id": "61f95d58-eed2-48c1-8e74-621155ffa296",
   "metadata": {
    "tags": []
   },
   "outputs": [
    {
     "name": "stdout",
     "output_type": "stream",
     "text": [
      "N\n",
      "Y\n"
     ]
    },
    {
     "ename": "IndexError",
     "evalue": "string index out of range",
     "output_type": "error",
     "traceback": [
      "\u001b[0;31m---------------------------------------------------------------------------\u001b[0m",
      "\u001b[0;31mIndexError\u001b[0m                                Traceback (most recent call last)",
      "Cell \u001b[0;32mIn[82], line 3\u001b[0m\n\u001b[1;32m      1\u001b[0m \u001b[38;5;28mprint\u001b[39m(\u001b[38;5;28mstr\u001b[39m[\u001b[38;5;241m-\u001b[39m\u001b[38;5;241m1\u001b[39m])\n\u001b[1;32m      2\u001b[0m \u001b[38;5;28mprint\u001b[39m(\u001b[38;5;28mstr\u001b[39m[\u001b[38;5;241m-\u001b[39m\u001b[38;5;241m5\u001b[39m])\n\u001b[0;32m----> 3\u001b[0m \u001b[38;5;28mprint\u001b[39m(\u001b[38;5;28mstr\u001b[39m[\u001b[38;5;241m-\u001b[39m\u001b[38;5;241m8\u001b[39m])\n",
      "\u001b[0;31mIndexError\u001b[0m: string index out of range"
     ]
    }
   ],
   "source": [
    "print(str[-1])\n",
    "print(str[-5])\n",
    "print(str[-8])"
   ]
  },
  {
   "cell_type": "code",
   "execution_count": null,
   "id": "fc65bb94-4a8d-4074-9323-0dcf2c0fce13",
   "metadata": {},
   "outputs": [],
   "source": []
  },
  {
   "cell_type": "code",
   "execution_count": 87,
   "id": "9c721b1d-a4f8-435c-8596-bf01f9eb756e",
   "metadata": {
    "tags": []
   },
   "outputs": [],
   "source": [
    "firstNum = 5\n",
    "secondNum = 10.5\n",
    "charC = 'c'\n",
    "sumNum = firstNum + secondNum"
   ]
  },
  {
   "cell_type": "code",
   "execution_count": 84,
   "id": "f3620767-8230-41c5-bf9b-1cfb4a549182",
   "metadata": {
    "tags": []
   },
   "outputs": [
    {
     "name": "stdout",
     "output_type": "stream",
     "text": [
      "15.5\n"
     ]
    }
   ],
   "source": [
    "print(sumNum)"
   ]
  },
  {
   "cell_type": "code",
   "execution_count": 85,
   "id": "c870e195-1318-4e0b-8e36-9ca4dadf26b0",
   "metadata": {
    "tags": []
   },
   "outputs": [
    {
     "data": {
      "text/plain": [
       "float"
      ]
     },
     "execution_count": 85,
     "metadata": {},
     "output_type": "execute_result"
    }
   ],
   "source": [
    "type(sumNum)"
   ]
  },
  {
   "cell_type": "code",
   "execution_count": null,
   "id": "cf9d42cd-6c91-482e-bf8e-241c76aca445",
   "metadata": {},
   "outputs": [],
   "source": []
  },
  {
   "cell_type": "code",
   "execution_count": null,
   "id": "81ee4e03-e162-48ac-84be-1d45c3ae7916",
   "metadata": {},
   "outputs": [],
   "source": []
  },
  {
   "cell_type": "code",
   "execution_count": 88,
   "id": "23146296-ab81-42cc-a98d-f7b326acd0f1",
   "metadata": {
    "tags": []
   },
   "outputs": [
    {
     "ename": "TypeError",
     "evalue": "unsupported operand type(s) for +: 'int' and 'str'",
     "output_type": "error",
     "traceback": [
      "\u001b[0;31m---------------------------------------------------------------------------\u001b[0m",
      "\u001b[0;31mTypeError\u001b[0m                                 Traceback (most recent call last)",
      "Cell \u001b[0;32mIn[88], line 1\u001b[0m\n\u001b[0;32m----> 1\u001b[0m sumNumChar \u001b[38;5;241m=\u001b[39m firstNum \u001b[38;5;241m+\u001b[39m charC\n",
      "\u001b[0;31mTypeError\u001b[0m: unsupported operand type(s) for +: 'int' and 'str'"
     ]
    }
   ],
   "source": [
    "sumNumChar = firstNum + charC"
   ]
  },
  {
   "cell_type": "code",
   "execution_count": null,
   "id": "b455bcde-ad09-4747-bb53-51a976cd3e20",
   "metadata": {},
   "outputs": [],
   "source": []
  },
  {
   "cell_type": "code",
   "execution_count": null,
   "id": "7432452c-9189-4d21-8a5d-631c5a4bf2b4",
   "metadata": {},
   "outputs": [],
   "source": [
    "## Take 2 number as input from user and write code to subtract those numbers"
   ]
  },
  {
   "cell_type": "code",
   "execution_count": 91,
   "id": "f97a1782-d465-4372-9a41-7c98e4212e34",
   "metadata": {
    "tags": []
   },
   "outputs": [
    {
     "name": "stdin",
     "output_type": "stream",
     "text": [
      "Number1 5\n",
      "Number2 6\n"
     ]
    },
    {
     "ename": "TypeError",
     "evalue": "unsupported operand type(s) for -: 'str' and 'str'",
     "output_type": "error",
     "traceback": [
      "\u001b[0;31m---------------------------------------------------------------------------\u001b[0m",
      "\u001b[0;31mTypeError\u001b[0m                                 Traceback (most recent call last)",
      "Cell \u001b[0;32mIn[91], line 3\u001b[0m\n\u001b[1;32m      1\u001b[0m num1 \u001b[38;5;241m=\u001b[39m (\u001b[38;5;28minput\u001b[39m(\u001b[38;5;124m\"\u001b[39m\u001b[38;5;124mNumber1\u001b[39m\u001b[38;5;124m\"\u001b[39m))\n\u001b[1;32m      2\u001b[0m num2 \u001b[38;5;241m=\u001b[39m (\u001b[38;5;28minput\u001b[39m(\u001b[38;5;124m\"\u001b[39m\u001b[38;5;124mNumber2\u001b[39m\u001b[38;5;124m\"\u001b[39m))\n\u001b[0;32m----> 3\u001b[0m ans \u001b[38;5;241m=\u001b[39m num1\u001b[38;5;241m-\u001b[39mnum2\n\u001b[1;32m      4\u001b[0m \u001b[38;5;28mprint\u001b[39m(ans)\n",
      "\u001b[0;31mTypeError\u001b[0m: unsupported operand type(s) for -: 'str' and 'str'"
     ]
    }
   ],
   "source": [
    "num1 = (input(\"Number1\"))\n",
    "num2 = (input(\"Number2\"))\n",
    "ans = num1-num2\n",
    "print(ans)"
   ]
  },
  {
   "cell_type": "code",
   "execution_count": null,
   "id": "612b3af7-d365-44dc-b63a-591c1991750f",
   "metadata": {},
   "outputs": [],
   "source": []
  },
  {
   "cell_type": "code",
   "execution_count": 94,
   "id": "ef0a3ab4-0b4e-4706-917d-bd4db5a4515f",
   "metadata": {
    "tags": []
   },
   "outputs": [],
   "source": [
    "FloatToNum = int(2.5)"
   ]
  },
  {
   "cell_type": "code",
   "execution_count": 93,
   "id": "50712bc5-015f-4c6c-ae88-47539fac7d0f",
   "metadata": {
    "tags": []
   },
   "outputs": [
    {
     "data": {
      "text/plain": [
       "2"
      ]
     },
     "execution_count": 93,
     "metadata": {},
     "output_type": "execute_result"
    }
   ],
   "source": [
    "FloatToNum"
   ]
  },
  {
   "cell_type": "code",
   "execution_count": 96,
   "id": "004e05a1-54c3-4fba-92ad-2b0e78b96440",
   "metadata": {
    "tags": []
   },
   "outputs": [
    {
     "data": {
      "text/plain": [
       "2"
      ]
     },
     "execution_count": 96,
     "metadata": {},
     "output_type": "execute_result"
    }
   ],
   "source": [
    "FloatToNum = int(2.8)\n",
    "FloatToNum"
   ]
  },
  {
   "cell_type": "code",
   "execution_count": null,
   "id": "41397268-b364-4acb-afca-54012a15f378",
   "metadata": {},
   "outputs": [],
   "source": []
  },
  {
   "cell_type": "code",
   "execution_count": 99,
   "id": "f934bf08-523f-4cc5-a37a-712985a35b34",
   "metadata": {
    "tags": []
   },
   "outputs": [],
   "source": []
  },
  {
   "cell_type": "code",
   "execution_count": 100,
   "id": "3655e43b-a987-4b60-8c6c-236edccac84b",
   "metadata": {
    "tags": []
   },
   "outputs": [
    {
     "ename": "SyntaxError",
     "evalue": "invalid syntax (654945916.py, line 1)",
     "output_type": "error",
     "traceback": [
      "\u001b[0;36m  Cell \u001b[0;32mIn[100], line 1\u001b[0;36m\u001b[0m\n\u001b[0;31m    (int)charC\u001b[0m\n\u001b[0m         ^\u001b[0m\n\u001b[0;31mSyntaxError\u001b[0m\u001b[0;31m:\u001b[0m invalid syntax\n"
     ]
    }
   ],
   "source": [
    "int('c')"
   ]
  },
  {
   "cell_type": "code",
   "execution_count": null,
   "id": "33c68322-ca1a-4450-bf37-ed86be988121",
   "metadata": {},
   "outputs": [],
   "source": []
  },
  {
   "cell_type": "code",
   "execution_count": null,
   "id": "8d5b11d5-097b-4bd1-baa7-cfcdecbe4409",
   "metadata": {},
   "outputs": [],
   "source": []
  },
  {
   "cell_type": "code",
   "execution_count": 101,
   "id": "adfd3758-b02e-41b9-986b-497b95a5767c",
   "metadata": {
    "tags": []
   },
   "outputs": [
    {
     "data": {
      "text/plain": [
       "4.0"
      ]
     },
     "execution_count": 101,
     "metadata": {},
     "output_type": "execute_result"
    }
   ],
   "source": [
    "float(4)"
   ]
  },
  {
   "cell_type": "code",
   "execution_count": 102,
   "id": "835b3878-77b4-46b9-85f2-6d550e96f5bb",
   "metadata": {
    "tags": []
   },
   "outputs": [
    {
     "ename": "TypeError",
     "evalue": "float() argument must be a string or a real number, not 'complex'",
     "output_type": "error",
     "traceback": [
      "\u001b[0;31m---------------------------------------------------------------------------\u001b[0m",
      "\u001b[0;31mTypeError\u001b[0m                                 Traceback (most recent call last)",
      "Cell \u001b[0;32mIn[102], line 1\u001b[0m\n\u001b[0;32m----> 1\u001b[0m \u001b[38;5;28mfloat\u001b[39m(\u001b[38;5;241m5\u001b[39m\u001b[38;5;241m+\u001b[39m\u001b[38;5;241m0\u001b[39mj)\n",
      "\u001b[0;31mTypeError\u001b[0m: float() argument must be a string or a real number, not 'complex'"
     ]
    }
   ],
   "source": [
    "float(5+0j)"
   ]
  },
  {
   "cell_type": "code",
   "execution_count": null,
   "id": "668a04b8-37d4-4ec6-85c6-2f13975a1bc5",
   "metadata": {},
   "outputs": [],
   "source": []
  },
  {
   "cell_type": "code",
   "execution_count": 103,
   "id": "acda1014-3564-4d0c-a7ba-222a22c3b567",
   "metadata": {
    "tags": []
   },
   "outputs": [
    {
     "data": {
      "text/plain": [
       "(5+0j)"
      ]
     },
     "execution_count": 103,
     "metadata": {},
     "output_type": "execute_result"
    }
   ],
   "source": [
    "complex(5)"
   ]
  },
  {
   "cell_type": "code",
   "execution_count": 106,
   "id": "77c77968-b788-4469-89f1-67742a168b7c",
   "metadata": {
    "tags": []
   },
   "outputs": [
    {
     "data": {
      "text/plain": [
       "True"
      ]
     },
     "execution_count": 106,
     "metadata": {},
     "output_type": "execute_result"
    }
   ],
   "source": [
    "bool(-1)"
   ]
  },
  {
   "cell_type": "code",
   "execution_count": 107,
   "id": "1727c796-0bc5-4c55-9d10-be06c79a795a",
   "metadata": {
    "tags": []
   },
   "outputs": [
    {
     "name": "stdin",
     "output_type": "stream",
     "text": [
      " 5\n"
     ]
    },
    {
     "data": {
      "text/plain": [
       "'5'"
      ]
     },
     "execution_count": 107,
     "metadata": {},
     "output_type": "execute_result"
    }
   ],
   "source": [
    "input()"
   ]
  },
  {
   "cell_type": "code",
   "execution_count": 110,
   "id": "d05441cc-6f53-4b83-a915-52a24074be4f",
   "metadata": {
    "tags": []
   },
   "outputs": [
    {
     "data": {
      "text/plain": [
       "False"
      ]
     },
     "execution_count": 110,
     "metadata": {},
     "output_type": "execute_result"
    }
   ],
   "source": [
    "bool(None)"
   ]
  },
  {
   "cell_type": "code",
   "execution_count": null,
   "id": "71bbadf6-efae-41d4-8d38-fdf16b893dbb",
   "metadata": {},
   "outputs": [],
   "source": []
  },
  {
   "cell_type": "code",
   "execution_count": 112,
   "id": "e2ae18f8-6649-439e-9b08-ce40465cf800",
   "metadata": {
    "tags": []
   },
   "outputs": [
    {
     "data": {
      "text/plain": [
       "10.8"
      ]
     },
     "execution_count": 112,
     "metadata": {},
     "output_type": "execute_result"
    }
   ],
   "source": [
    "5.4 * 2"
   ]
  },
  {
   "cell_type": "code",
   "execution_count": null,
   "id": "e497ff24-69a5-4117-8663-00a4457a966a",
   "metadata": {},
   "outputs": [],
   "source": []
  },
  {
   "cell_type": "code",
   "execution_count": 114,
   "id": "fe139cb7-71b2-4d0e-a255-1f497171a1f9",
   "metadata": {
    "tags": []
   },
   "outputs": [
    {
     "name": "stdout",
     "output_type": "stream",
     "text": [
      "hi\n"
     ]
    },
    {
     "data": {
      "text/plain": [
       "NoneType"
      ]
     },
     "execution_count": 114,
     "metadata": {},
     "output_type": "execute_result"
    }
   ],
   "source": [
    "type(print(\"hi\"))"
   ]
  },
  {
   "cell_type": "code",
   "execution_count": 119,
   "id": "e790f9ee-39c6-4823-a32c-3e9b297aae13",
   "metadata": {
    "tags": []
   },
   "outputs": [
    {
     "data": {
      "text/plain": [
       "'5555'"
      ]
     },
     "execution_count": 119,
     "metadata": {},
     "output_type": "execute_result"
    }
   ],
   "source": [
    "'5' * 4"
   ]
  },
  {
   "cell_type": "code",
   "execution_count": null,
   "id": "70daa063-cf67-4dc5-b50b-56851d2a676d",
   "metadata": {},
   "outputs": [],
   "source": []
  },
  {
   "cell_type": "code",
   "execution_count": null,
   "id": "39799c45-651a-4727-a8c0-e9cccaf6373d",
   "metadata": {},
   "outputs": [],
   "source": []
  },
  {
   "cell_type": "code",
   "execution_count": null,
   "id": "8b09b00e-5b59-4680-98db-db14575804ee",
   "metadata": {},
   "outputs": [],
   "source": []
  }
 ],
 "metadata": {
  "kernelspec": {
   "display_name": "Python 3 (ipykernel)",
   "language": "python",
   "name": "python3"
  },
  "language_info": {
   "codemirror_mode": {
    "name": "ipython",
    "version": 3
   },
   "file_extension": ".py",
   "mimetype": "text/x-python",
   "name": "python",
   "nbconvert_exporter": "python",
   "pygments_lexer": "ipython3",
   "version": "3.11.7"
  }
 },
 "nbformat": 4,
 "nbformat_minor": 5
}
