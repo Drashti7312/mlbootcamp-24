{
 "cells": [
  {
   "cell_type": "markdown",
   "id": "884e75fa-9a17-48d3-902e-144e8833da97",
   "metadata": {
    "tags": []
   },
   "source": [
    "# String Concatenation"
   ]
  },
  {
   "cell_type": "code",
   "execution_count": 2,
   "id": "db528fe6-b49c-4395-980e-3668b2b289d7",
   "metadata": {
    "tags": []
   },
   "outputs": [
    {
     "name": "stdout",
     "output_type": "stream",
     "text": [
      "HelloWorld\n"
     ]
    }
   ],
   "source": [
    "print ( \"Hello\" + \"World\")"
   ]
  },
  {
   "cell_type": "markdown",
   "id": "0324cf29-a028-4410-b0b3-dbd50e8ec9f8",
   "metadata": {},
   "source": [
    "# + is acting like a concatenator"
   ]
  },
  {
   "cell_type": "code",
   "execution_count": 3,
   "id": "ce3fdbe7-0633-438b-8694-b6570f2fb56c",
   "metadata": {
    "tags": []
   },
   "outputs": [
    {
     "data": {
      "text/plain": [
       "'stringstring 2  1'"
      ]
     },
     "execution_count": 3,
     "metadata": {},
     "output_type": "execute_result"
    }
   ],
   "source": [
    "\"string\" + \"string 2 \" + \" \" + \"1\""
   ]
  },
  {
   "cell_type": "code",
   "execution_count": 4,
   "id": "27db86e2-6720-4fae-9c56-086bded9bd90",
   "metadata": {
    "tags": []
   },
   "outputs": [
    {
     "name": "stdout",
     "output_type": "stream",
     "text": [
      "GoodNight\n"
     ]
    }
   ],
   "source": [
    "print ( \"Good\" + \"Night\")"
   ]
  },
  {
   "cell_type": "code",
   "execution_count": 5,
   "id": "7f59e900-ca85-453d-8768-57c577a22d44",
   "metadata": {
    "tags": []
   },
   "outputs": [
    {
     "name": "stdout",
     "output_type": "stream",
     "text": [
      "yesyesyes\n"
     ]
    }
   ],
   "source": [
    "print( \"yes\" * 3)"
   ]
  },
  {
   "cell_type": "markdown",
   "id": "e96dd1d4-e506-4404-909b-9d37be54b8e2",
   "metadata": {},
   "source": [
    "# * acts like a multiplier which copies your strings"
   ]
  },
  {
   "cell_type": "code",
   "execution_count": 6,
   "id": "bf17d7c0-a6c0-4141-badd-ea8adfe15733",
   "metadata": {
    "tags": []
   },
   "outputs": [
    {
     "ename": "TypeError",
     "evalue": "unsupported operand type(s) for /: 'str' and 'int'",
     "output_type": "error",
     "traceback": [
      "\u001b[0;31m---------------------------------------------------------------------------\u001b[0m",
      "\u001b[0;31mTypeError\u001b[0m                                 Traceback (most recent call last)",
      "Cell \u001b[0;32mIn[6], line 1\u001b[0m\n\u001b[0;32m----> 1\u001b[0m \u001b[38;5;28mprint\u001b[39m( \u001b[38;5;124m\"\u001b[39m\u001b[38;5;124myes\u001b[39m\u001b[38;5;124m\"\u001b[39m \u001b[38;5;241m/\u001b[39m \u001b[38;5;241m3\u001b[39m)\n",
      "\u001b[0;31mTypeError\u001b[0m: unsupported operand type(s) for /: 'str' and 'int'"
     ]
    }
   ],
   "source": [
    "print( \"yes\" / 3)"
   ]
  },
  {
   "cell_type": "code",
   "execution_count": 7,
   "id": "7eee5e53-35bd-4815-9c00-2a6a7554b84c",
   "metadata": {
    "tags": []
   },
   "outputs": [
    {
     "ename": "TypeError",
     "evalue": "unsupported operand type(s) for -: 'str' and 'int'",
     "output_type": "error",
     "traceback": [
      "\u001b[0;31m---------------------------------------------------------------------------\u001b[0m",
      "\u001b[0;31mTypeError\u001b[0m                                 Traceback (most recent call last)",
      "Cell \u001b[0;32mIn[7], line 1\u001b[0m\n\u001b[0;32m----> 1\u001b[0m \u001b[38;5;28mprint\u001b[39m( \u001b[38;5;124m\"\u001b[39m\u001b[38;5;124myes\u001b[39m\u001b[38;5;124m\"\u001b[39m \u001b[38;5;241m-\u001b[39m \u001b[38;5;241m3\u001b[39m)\n",
      "\u001b[0;31mTypeError\u001b[0m: unsupported operand type(s) for -: 'str' and 'int'"
     ]
    }
   ],
   "source": [
    "print( \"yes\" - 3)"
   ]
  },
  {
   "cell_type": "code",
   "execution_count": 9,
   "id": "5ab2003f-4b4b-49b6-8710-a65dd37abc26",
   "metadata": {
    "tags": []
   },
   "outputs": [],
   "source": [
    "url = \"www.\" \n",
    "com = \".com\""
   ]
  },
  {
   "cell_type": "code",
   "execution_count": 10,
   "id": "2bbb0a33-aedd-4920-a5e8-bf8034c9af74",
   "metadata": {
    "tags": []
   },
   "outputs": [
    {
     "name": "stdin",
     "output_type": "stream",
     "text": [
      "Enter website you wanna visit google\n"
     ]
    }
   ],
   "source": [
    "website = input(\"Enter website you wanna visit\")"
   ]
  },
  {
   "cell_type": "code",
   "execution_count": 11,
   "id": "aef06c5c-e8b1-4609-a187-360cef884749",
   "metadata": {
    "tags": []
   },
   "outputs": [
    {
     "name": "stdout",
     "output_type": "stream",
     "text": [
      "www.google.com\n"
     ]
    }
   ],
   "source": [
    "print(url + website+com)"
   ]
  }
 ],
 "metadata": {
  "kernelspec": {
   "display_name": "Python 3 (ipykernel)",
   "language": "python",
   "name": "python3"
  },
  "language_info": {
   "codemirror_mode": {
    "name": "ipython",
    "version": 3
   },
   "file_extension": ".py",
   "mimetype": "text/x-python",
   "name": "python",
   "nbconvert_exporter": "python",
   "pygments_lexer": "ipython3",
   "version": "3.11.5"
  }
 },
 "nbformat": 4,
 "nbformat_minor": 5
}
