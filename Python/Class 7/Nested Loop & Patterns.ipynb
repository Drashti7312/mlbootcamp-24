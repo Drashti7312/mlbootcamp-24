{
 "cells": [
  {
   "cell_type": "markdown",
   "id": "9017bfa6-0d17-41d1-8065-42e30ac62f7a",
   "metadata": {},
   "source": [
    "# For Loop with Else Statement"
   ]
  },
  {
   "cell_type": "code",
   "execution_count": 29,
   "id": "d3f9f4dc-452c-4e39-baf3-dc40746235e9",
   "metadata": {
    "tags": []
   },
   "outputs": [
    {
     "name": "stdout",
     "output_type": "stream",
     "text": [
      "0\n",
      "1\n",
      "2\n",
      "3\n",
      "Loop Complete\n"
     ]
    }
   ],
   "source": [
    "for i in range(0,4):\n",
    "    print (i)\n",
    "else :\n",
    "    print(\"Loop Complete\")"
   ]
  },
  {
   "cell_type": "code",
   "execution_count": 28,
   "id": "2cde7460-e73d-4563-aad6-30b5ad552940",
   "metadata": {
    "tags": []
   },
   "outputs": [
    {
     "name": "stdout",
     "output_type": "stream",
     "text": [
      "0\n",
      "1\n",
      "2\n",
      "3\n",
      "Loop Complete\n"
     ]
    }
   ],
   "source": [
    "for i in range(0,4):\n",
    "    print (i)\n",
    "\n",
    "print(\"Loop Complete\")"
   ]
  },
  {
   "cell_type": "code",
   "execution_count": null,
   "id": "dc046ddd-0e7a-4ff9-b15d-6c9865c3bf97",
   "metadata": {},
   "outputs": [],
   "source": []
  },
  {
   "cell_type": "code",
   "execution_count": null,
   "id": "491f1e95-3519-4007-b49a-32fc48133624",
   "metadata": {},
   "outputs": [],
   "source": []
  },
  {
   "cell_type": "code",
   "execution_count": 13,
   "id": "5cb7efb1-0cfe-4932-a666-7170ba3cabc3",
   "metadata": {
    "tags": []
   },
   "outputs": [
    {
     "name": "stdout",
     "output_type": "stream",
     "text": [
      "0\n",
      "1\n",
      "2\n",
      "3\n",
      "I am out\n"
     ]
    }
   ],
   "source": [
    "\n",
    "for i in range(0,4):\n",
    "    print (i)\n",
    "else :\n",
    "    print(\"I am out\")"
   ]
  },
  {
   "cell_type": "code",
   "execution_count": null,
   "id": "d8bfcb5d-345e-4eaf-9ec8-096a3023bc95",
   "metadata": {},
   "outputs": [],
   "source": []
  },
  {
   "cell_type": "code",
   "execution_count": null,
   "id": "6c5b030d-75ab-45fe-b5a8-5dfe02bd8b56",
   "metadata": {},
   "outputs": [],
   "source": []
  },
  {
   "cell_type": "code",
   "execution_count": null,
   "id": "51f02995-a812-4e02-a179-8faa54707156",
   "metadata": {},
   "outputs": [],
   "source": []
  },
  {
   "cell_type": "code",
   "execution_count": 23,
   "id": "c5a34342-b08f-4195-ab73-011a23ef0b43",
   "metadata": {
    "tags": []
   },
   "outputs": [
    {
     "name": "stdout",
     "output_type": "stream",
     "text": [
      "value of i is : 0\n",
      "value of i is : 1\n",
      "value of i is : 2\n",
      " I got here as i ==2\n",
      " i am here now : 200\n"
     ]
    }
   ],
   "source": [
    "val = 100;\n",
    "\n",
    "for i in range(0,4):\n",
    "    print(\"value of i is : \"+ str(i))\n",
    "    if(i==2):\n",
    "        print(\" I got here as i ==2\")\n",
    "        val =200\n",
    "        break\n",
    "else:\n",
    "    val = 300\n",
    "    print(\"Loop Complete\")\n",
    "    \n",
    "\n",
    "print(\" i am here now : \" + str(val))\n",
    "    "
   ]
  },
  {
   "cell_type": "code",
   "execution_count": null,
   "id": "c5dfddae-19b4-46b0-bb8a-4d3df18b21d9",
   "metadata": {},
   "outputs": [],
   "source": []
  },
  {
   "cell_type": "code",
   "execution_count": null,
   "id": "64297786-bc8c-4000-8596-35d8dc2bd1bc",
   "metadata": {},
   "outputs": [],
   "source": []
  },
  {
   "cell_type": "code",
   "execution_count": null,
   "id": "84e6f9a2-a126-4dd6-9e10-7947f41c299d",
   "metadata": {},
   "outputs": [],
   "source": []
  },
  {
   "cell_type": "code",
   "execution_count": 24,
   "id": "dfedf73c-9895-4584-a80c-da3f755c1e96",
   "metadata": {
    "tags": []
   },
   "outputs": [
    {
     "name": "stdout",
     "output_type": "stream",
     "text": [
      "Hello World\n",
      "Hello World\n",
      "Loop Complete \n"
     ]
    }
   ],
   "source": [
    "for i in range(1,5,2):\n",
    "    print (\"Hello World\")\n",
    "else:\n",
    "    print(\"Loop Complete \")"
   ]
  },
  {
   "cell_type": "code",
   "execution_count": 19,
   "id": "0ea8ed7c-6b73-4bad-9c09-cb591f2cba6f",
   "metadata": {
    "tags": []
   },
   "outputs": [
    {
     "name": "stdout",
     "output_type": "stream",
     "text": [
      "m\n",
      "a\n",
      "y\n",
      "a\n",
      "n\n",
      "k\n"
     ]
    }
   ],
   "source": [
    "for char in \"mayank\":\n",
    "    print(char)"
   ]
  },
  {
   "cell_type": "code",
   "execution_count": null,
   "id": "e48e35b4-ec77-4070-8366-936434606852",
   "metadata": {},
   "outputs": [],
   "source": []
  },
  {
   "cell_type": "code",
   "execution_count": null,
   "id": "c62007d1-ddbf-4075-bfef-d232d8d851ea",
   "metadata": {},
   "outputs": [],
   "source": []
  },
  {
   "cell_type": "code",
   "execution_count": null,
   "id": "9b640b46-c2e9-4e6f-9b7b-b3d64739d445",
   "metadata": {},
   "outputs": [],
   "source": []
  },
  {
   "cell_type": "code",
   "execution_count": 26,
   "id": "5da65935-e358-4772-914b-15679730b0d5",
   "metadata": {
    "tags": []
   },
   "outputs": [
    {
     "name": "stdout",
     "output_type": "stream",
     "text": [
      "value of i is : 0\n",
      "value of i is : 1\n",
      " I got here as i ==2\n",
      "value of i is : 3\n",
      "Loop Complete\n",
      " i am here now : 300\n"
     ]
    }
   ],
   "source": [
    "val = 100;\n",
    "\n",
    "for i in range(0,4):\n",
    "    # print(\"value of i is : \"+ str(i))\n",
    "    if(i==2):\n",
    "        print(\" I got here as i ==2\")\n",
    "        val =200\n",
    "        # break\n",
    "        continue\n",
    "    else :\n",
    "        print(\"I am in the else\")\n",
    "    print(\"value of i is : \"+ str(i))\n",
    "else:\n",
    "    val = 300\n",
    "    print(\"Loop Complete\")\n",
    "    \n",
    "\n",
    "print(\" i am here now : \" + str(val))\n",
    "    "
   ]
  },
  {
   "cell_type": "code",
   "execution_count": null,
   "id": "da89c537-66e3-43bc-a114-37b384f76bc9",
   "metadata": {},
   "outputs": [],
   "source": []
  },
  {
   "cell_type": "code",
   "execution_count": null,
   "id": "aaa34fa2-e11c-45ce-8b42-1fa159cd785b",
   "metadata": {},
   "outputs": [],
   "source": [
    "\n",
    "\n",
    "\n",
    "if ( a >b):\n",
    "    print(\"yo1\")\n",
    "    print(\"yo1\")\n",
    "    print(\"yo1\")\n",
    "    print(\"yo1\")\n",
    "    print(\"yo1\")\n",
    "    else:  #1\n",
    "else: #2\n",
    "    \n",
    "    \n",
    "    \n",
    "for i in range(1,5):\n",
    "    print(\"yo1\")\n",
    "    print(\"yo1\")\n",
    "    print(\"yo1\")\n",
    "    print(\"yo1\")\n",
    "    print(\"yo1\")\n",
    "    else:\n",
    "else:"
   ]
  },
  {
   "cell_type": "code",
   "execution_count": null,
   "id": "c5eb6d56-83bb-4c59-8500-58bd65069b7f",
   "metadata": {},
   "outputs": [],
   "source": []
  },
  {
   "cell_type": "code",
   "execution_count": null,
   "id": "3b810c36-c604-4789-b14d-8f01dbe7d9e7",
   "metadata": {},
   "outputs": [],
   "source": []
  },
  {
   "cell_type": "code",
   "execution_count": 27,
   "id": "b07e3640-38a4-49ad-9507-f8e2a2c40b28",
   "metadata": {
    "tags": []
   },
   "outputs": [
    {
     "name": "stdout",
     "output_type": "stream",
     "text": [
      "I am in the else\n",
      "value of i is : 0\n",
      "I am in the else\n",
      "value of i is : 1\n",
      " I got here as i ==2\n",
      "I am in the else\n",
      "value of i is : 3\n",
      "Loop Complete\n",
      " i am here now : 300\n"
     ]
    }
   ],
   "source": [
    "val = 100;\n",
    "\n",
    "for i in range(0,4):\n",
    "    # print(\"value of i is : \"+ str(i))\n",
    "    if(i==2):\n",
    "        print(\" I got here as i ==2\")\n",
    "        val =200\n",
    "        # break\n",
    "        continue\n",
    "    else :\n",
    "        print(\"I am in the else\")\n",
    "    print(\"value of i is : \"+ str(i))\n",
    "else:\n",
    "    val = 300\n",
    "    print(\"Loop Complete\")\n",
    "    \n",
    "\n",
    "print(\" i am here now : \" + str(val))\n",
    "    "
   ]
  },
  {
   "cell_type": "code",
   "execution_count": null,
   "id": "82451e78-34a5-4e67-9dc4-da9d37bd5f32",
   "metadata": {},
   "outputs": [],
   "source": []
  },
  {
   "cell_type": "code",
   "execution_count": null,
   "id": "f906a70c-e9aa-40a8-90c0-e2b5649189ab",
   "metadata": {},
   "outputs": [],
   "source": []
  },
  {
   "cell_type": "markdown",
   "id": "236daf8c-183f-4304-bd9f-d1824c2403ee",
   "metadata": {},
   "source": [
    "# Nested Loops"
   ]
  },
  {
   "cell_type": "code",
   "execution_count": 39,
   "id": "f5667541-3cb4-4a2f-bca1-c3eb2512fd81",
   "metadata": {
    "tags": []
   },
   "outputs": [
    {
     "name": "stdout",
     "output_type": "stream",
     "text": [
      "i is 0  j is 0\n",
      "i is 0  j is 1\n",
      "i is 0  j is 2\n",
      "i is 1  j is 0\n",
      "i is 1  j is 1\n",
      "i is 1  j is 2\n",
      "i is 2  j is 0\n",
      "i is 2  j is 1\n",
      "i is 2  j is 2\n"
     ]
    }
   ],
   "source": [
    "i = 0\n",
    "\n",
    "\n",
    "while i<3:\n",
    "    \n",
    "    j = 0\n",
    "    while j<3:\n",
    "        print(\"i is \" + str(i),end = \" \")\n",
    "        print(\" j is \" + str(j))\n",
    "        j = j+1\n",
    "    # print(\"j is \" + str(j))\n",
    "    i = i+1\n"
   ]
  },
  {
   "cell_type": "code",
   "execution_count": 40,
   "id": "ffe01634-ec89-43b4-8b33-e9b45da5b776",
   "metadata": {
    "tags": []
   },
   "outputs": [
    {
     "name": "stdout",
     "output_type": "stream",
     "text": [
      "i is 0  j is 0\n",
      "i is 0  j is 1\n",
      "i is 0  j is 2\n",
      "i is 1  j is 0\n",
      "i is 1  j is 1\n",
      "i is 1  j is 2\n",
      "i is 2  j is 0\n",
      "i is 2  j is 1\n",
      "i is 2  j is 2\n"
     ]
    }
   ],
   "source": [
    "\n",
    "for i in range(0,3):\n",
    "    for j in range(0,3):\n",
    "        print(\"i is \" + str(i),end = \" \")\n",
    "        print(\" j is \" + str(j))"
   ]
  },
  {
   "cell_type": "code",
   "execution_count": null,
   "id": "a4456ca9-f099-4cf7-9b83-61a327ae79a8",
   "metadata": {},
   "outputs": [],
   "source": []
  },
  {
   "cell_type": "code",
   "execution_count": null,
   "id": "1b45a797-847c-487d-b01a-2c4aceadce9e",
   "metadata": {},
   "outputs": [],
   "source": [
    "\"\"\"\n",
    "***\n",
    "***\n",
    "***\n",
    "\"\"\""
   ]
  },
  {
   "cell_type": "code",
   "execution_count": 47,
   "id": "fdaa7a70-d4a9-4bcd-a56a-f8c301eb58c5",
   "metadata": {
    "tags": []
   },
   "outputs": [
    {
     "name": "stdout",
     "output_type": "stream",
     "text": [
      "***\n",
      "***\n",
      "***\n",
      "Loop complete\n"
     ]
    }
   ],
   "source": [
    "\n",
    "for i in range(0,3):\n",
    "    for j in range(0,3):\n",
    "        print (\"*\",end=\"\")\n",
    "    print()\n",
    "\n",
    "    \n",
    "print(\"Loop complete\")"
   ]
  },
  {
   "cell_type": "code",
   "execution_count": 48,
   "id": "700410d6-e9bd-46ad-93bd-13e5a17ada5b",
   "metadata": {
    "tags": []
   },
   "outputs": [
    {
     "name": "stdout",
     "output_type": "stream",
     "text": [
      "***\n",
      "***\n",
      "***\n"
     ]
    }
   ],
   "source": [
    "for i in range(0,3):\n",
    "    print(\"***\")"
   ]
  },
  {
   "cell_type": "code",
   "execution_count": null,
   "id": "df49ec7b-5604-49ec-8570-38d9ea41d356",
   "metadata": {},
   "outputs": [],
   "source": [
    "\"\"\"\n",
    "\n",
    "*\n",
    "**\n",
    "***\n",
    "****\n",
    "\n",
    "\"\"\""
   ]
  },
  {
   "cell_type": "code",
   "execution_count": 50,
   "id": "b3dd7606-6bdf-4753-bd54-8b82aa5e540d",
   "metadata": {
    "tags": []
   },
   "outputs": [
    {
     "name": "stdout",
     "output_type": "stream",
     "text": [
      "*\n",
      "**\n",
      "***\n",
      "****\n"
     ]
    }
   ],
   "source": [
    "for i in range(4):\n",
    "    print(\"*\" * (i+1))"
   ]
  },
  {
   "cell_type": "code",
   "execution_count": null,
   "id": "e0bee45f-a4a6-49aa-9afd-cd4ec477ff06",
   "metadata": {},
   "outputs": [],
   "source": [
    "\"\"\"\n",
    "\n",
    "\n",
    "****\n",
    "***\n",
    "**\n",
    "*\n",
    "\n",
    "\"\"\""
   ]
  },
  {
   "cell_type": "code",
   "execution_count": 2,
   "id": "262e1a8d-0093-448f-9a86-eebf37e5d0df",
   "metadata": {
    "tags": []
   },
   "outputs": [
    {
     "name": "stdout",
     "output_type": "stream",
     "text": [
      "****\n",
      "***\n",
      "**\n",
      "*\n"
     ]
    }
   ],
   "source": [
    "for i in range(4):\n",
    "    j =0\n",
    "    while j<4-i:\n",
    "        print(\"*\",end='')\n",
    "        j=j+1\n",
    "    print()"
   ]
  },
  {
   "cell_type": "code",
   "execution_count": 52,
   "id": "d5c43e97-1f1d-4233-a26c-9434c931555d",
   "metadata": {
    "tags": []
   },
   "outputs": [
    {
     "name": "stdout",
     "output_type": "stream",
     "text": [
      "****\n",
      "***\n",
      "**\n",
      "*\n"
     ]
    }
   ],
   "source": [
    "for i in range(4,0,-1):\n",
    "    print(\"*\" * (i))"
   ]
  },
  {
   "cell_type": "code",
   "execution_count": 57,
   "id": "55c650b5-ef5b-472a-b57a-6b830922d8cb",
   "metadata": {
    "tags": []
   },
   "outputs": [
    {
     "ename": "SyntaxError",
     "evalue": "invalid syntax. Maybe you meant '==' or ':=' instead of '='? (1897127168.py, line 1)",
     "output_type": "error",
     "traceback": [
      "\u001b[0;36m  Cell \u001b[0;32mIn[57], line 1\u001b[0;36m\u001b[0m\n\u001b[0;31m    for (i=0, i<4, i++):\u001b[0m\n\u001b[0m         ^\u001b[0m\n\u001b[0;31mSyntaxError\u001b[0m\u001b[0;31m:\u001b[0m invalid syntax. Maybe you meant '==' or ':=' instead of '='?\n"
     ]
    }
   ],
   "source": []
  },
  {
   "cell_type": "code",
   "execution_count": null,
   "id": "826bedd2-4ead-4743-aca3-5a398835b562",
   "metadata": {},
   "outputs": [],
   "source": [
    "\"\"\"\n",
    "1 \n",
    "2 1 \n",
    "3 2 1 \n",
    "4 3 2 1 \n",
    "5 4 3 2 1\n",
    "\"\"\""
   ]
  },
  {
   "cell_type": "code",
   "execution_count": 6,
   "id": "8153c92a-c551-4a57-b031-3f51ae59423e",
   "metadata": {
    "tags": []
   },
   "outputs": [
    {
     "name": "stdin",
     "output_type": "stream",
     "text": [
      " 5\n"
     ]
    },
    {
     "name": "stdout",
     "output_type": "stream",
     "text": [
      "\n",
      "1 \n",
      "2 1 \n",
      "3 2 1 \n",
      "4 3 2 1 \n",
      "5 4 3 2 1 \n"
     ]
    }
   ],
   "source": [
    "a = int(input())\n",
    "for i in range(a+1):\n",
    "    for j in range(i):\n",
    "        print(i-j,end=\" \")\n",
    "    print()"
   ]
  },
  {
   "cell_type": "code",
   "execution_count": 7,
   "id": "2dcbd69e-3fa1-48ec-926e-03a6e187d760",
   "metadata": {
    "tags": []
   },
   "outputs": [
    {
     "name": "stdout",
     "output_type": "stream",
     "text": [
      "1 \n",
      "2 1 \n",
      "3 2 1 \n",
      "4 3 2 1 \n",
      "5 4 3 2 1 \n"
     ]
    }
   ],
   "source": [
    "for i in range(1,6):\n",
    "    for j in range(i,0,-1):\n",
    "        print(j,end=\" \")\n",
    "    print()"
   ]
  },
  {
   "cell_type": "code",
   "execution_count": null,
   "id": "31ec5df9-219c-40d1-960f-dba0d8c57b68",
   "metadata": {},
   "outputs": [],
   "source": [
    "\"\"\"\n",
    "1 \n",
    "\n",
    "1 2 1 \n",
    "\n",
    "1 2 3 2 1 \n",
    "\n",
    "1 2 3 4 3 2 1 \n",
    "\n",
    "1 2 3 4 5 4 3 2 1\n",
    "\n",
    "\"\"\""
   ]
  },
  {
   "cell_type": "code",
   "execution_count": 8,
   "id": "4e22a29e-e0e0-4ea7-a7ad-33ec3a89f7e9",
   "metadata": {
    "tags": []
   },
   "outputs": [
    {
     "name": "stdout",
     "output_type": "stream",
     "text": [
      "1 \n",
      "1 2 1 \n",
      "1 2 3 2 1 \n",
      "1 2 3 4 3 2 1 \n",
      "1 2 3 4 5 4 3 2 1 \n"
     ]
    }
   ],
   "source": [
    "def print_pattern(n):\n",
    "    for i in range(1, n + 1):\n",
    "        for j in range(1, i + 1):\n",
    "            print(j, end=\" \")\n",
    "        for j in range(i - 1, 0, -1):\n",
    "            print(j, end=\" \")\n",
    "        print()\n",
    "print_pattern(5)"
   ]
  }
 ],
 "metadata": {
  "kernelspec": {
   "display_name": "Python 3 (ipykernel)",
   "language": "python",
   "name": "python3"
  },
  "language_info": {
   "codemirror_mode": {
    "name": "ipython",
    "version": 3
   },
   "file_extension": ".py",
   "mimetype": "text/x-python",
   "name": "python",
   "nbconvert_exporter": "python",
   "pygments_lexer": "ipython3",
   "version": "3.11.5"
  }
 },
 "nbformat": 4,
 "nbformat_minor": 5
}
