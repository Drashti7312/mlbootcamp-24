{
 "cells": [
  {
   "cell_type": "markdown",
   "id": "9cb21737-b36c-40a7-a11d-d918129cae07",
   "metadata": {
    "tags": []
   },
   "source": [
    "# List In Python"
   ]
  },
  {
   "cell_type": "code",
   "execution_count": 1,
   "id": "5e3a393f-5976-422d-95a6-57397e63a762",
   "metadata": {
    "tags": []
   },
   "outputs": [],
   "source": [
    "mylist1 = []"
   ]
  },
  {
   "cell_type": "code",
   "execution_count": 2,
   "id": "418e89ff-f5f1-4b29-a563-5cd72495193c",
   "metadata": {
    "tags": []
   },
   "outputs": [
    {
     "data": {
      "text/plain": [
       "list"
      ]
     },
     "execution_count": 2,
     "metadata": {},
     "output_type": "execute_result"
    }
   ],
   "source": [
    "type(mylist1)"
   ]
  },
  {
   "cell_type": "code",
   "execution_count": 3,
   "id": "6ca367a0-b5c4-4c31-bf89-7ea4f55d3482",
   "metadata": {
    "tags": []
   },
   "outputs": [],
   "source": [
    "mylist2 = [1,2,3,4,5] # homogeneous "
   ]
  },
  {
   "cell_type": "code",
   "execution_count": 4,
   "id": "9b6fb622-c9e2-401b-9075-549c275325a1",
   "metadata": {
    "tags": []
   },
   "outputs": [
    {
     "data": {
      "text/plain": [
       "list"
      ]
     },
     "execution_count": 4,
     "metadata": {},
     "output_type": "execute_result"
    }
   ],
   "source": [
    "type(mylist2)"
   ]
  },
  {
   "cell_type": "code",
   "execution_count": 1,
   "id": "1cbbf818-2542-4935-b545-c1cee7fa2aa8",
   "metadata": {
    "tags": []
   },
   "outputs": [],
   "source": [
    "mylist3 = [1,\"mayank\",2.4,True,2+5j] # heterogenous List"
   ]
  },
  {
   "cell_type": "code",
   "execution_count": null,
   "id": "913737ad-008f-4476-b4d8-c5e39c99753b",
   "metadata": {},
   "outputs": [],
   "source": []
  },
  {
   "cell_type": "code",
   "execution_count": 6,
   "id": "37d4e423-c95d-4041-8e95-c5ef929e3e61",
   "metadata": {
    "tags": []
   },
   "outputs": [
    {
     "ename": "SyntaxError",
     "evalue": "invalid decimal literal (1653754309.py, line 1)",
     "output_type": "error",
     "traceback": [
      "\u001b[0;36m  Cell \u001b[0;32mIn[6], line 1\u001b[0;36m\u001b[0m\n\u001b[0;31m    2+5i\u001b[0m\n\u001b[0m      ^\u001b[0m\n\u001b[0;31mSyntaxError\u001b[0m\u001b[0;31m:\u001b[0m invalid decimal literal\n"
     ]
    }
   ],
   "source": [
    "2+5i"
   ]
  },
  {
   "cell_type": "code",
   "execution_count": null,
   "id": "f5bc65ba-3ae2-49a4-864a-8bdb5ace7fd3",
   "metadata": {
    "tags": []
   },
   "outputs": [],
   "source": [
    "2+5j"
   ]
  },
  {
   "cell_type": "code",
   "execution_count": null,
   "id": "becee008-2bef-4c9f-8214-739ebe2efd89",
   "metadata": {
    "tags": []
   },
   "outputs": [],
   "source": [
    "mylist3 = [1,\"mayank\",2.4,True,2+5j] "
   ]
  },
  {
   "cell_type": "code",
   "execution_count": null,
   "id": "8d663cde-6e78-4acb-9d05-4153fc2cd791",
   "metadata": {
    "tags": []
   },
   "outputs": [],
   "source": [
    "len(mylist3) "
   ]
  },
  {
   "cell_type": "code",
   "execution_count": null,
   "id": "a3971721-ec93-4282-8fb9-5e748618410f",
   "metadata": {
    "tags": []
   },
   "outputs": [],
   "source": [
    "print(mylist3)"
   ]
  },
  {
   "cell_type": "code",
   "execution_count": null,
   "id": "0fa5ff51-7269-41b9-829d-a942edb7c6cd",
   "metadata": {
    "tags": []
   },
   "outputs": [],
   "source": [
    "def myLenFunc(l):\n",
    "    length = 0\n",
    "    for i in l:\n",
    "        length+=1\n",
    "    print(length)"
   ]
  },
  {
   "cell_type": "code",
   "execution_count": null,
   "id": "a885e446-0cae-4d81-94bd-7fbf39ca4343",
   "metadata": {
    "tags": []
   },
   "outputs": [],
   "source": [
    "myLenFunc(mylist3)"
   ]
  },
  {
   "cell_type": "code",
   "execution_count": null,
   "id": "732bc8de-45b5-4830-9322-7137c10ad5c8",
   "metadata": {
    "tags": []
   },
   "outputs": [],
   "source": [
    "int(mylist3)"
   ]
  },
  {
   "cell_type": "code",
   "execution_count": null,
   "id": "b8e5936e-4ba0-4650-945c-5640007ce508",
   "metadata": {
    "tags": []
   },
   "outputs": [],
   "source": [
    "mylist3"
   ]
  },
  {
   "cell_type": "code",
   "execution_count": null,
   "id": "dc0332c5-323f-4f28-a86f-14d65afd3533",
   "metadata": {
    "tags": []
   },
   "outputs": [],
   "source": [
    "mylist3[0]"
   ]
  },
  {
   "cell_type": "markdown",
   "id": "3915c983-6543-49aa-a291-b09ef22b9a85",
   "metadata": {
    "tags": []
   },
   "source": [
    "# List elements are changable or can be modified"
   ]
  },
  {
   "cell_type": "code",
   "execution_count": null,
   "id": "599972e6-c778-4855-b7a4-7602f3483a9f",
   "metadata": {
    "tags": []
   },
   "outputs": [],
   "source": [
    "\n",
    "mylist3[2]"
   ]
  },
  {
   "cell_type": "code",
   "execution_count": null,
   "id": "878789b4-1cc7-46c8-a3f3-9c4669370955",
   "metadata": {
    "tags": []
   },
   "outputs": [],
   "source": [
    "mylist3[0] = 10000"
   ]
  },
  {
   "cell_type": "code",
   "execution_count": null,
   "id": "f3cb9c74-36bd-4172-a125-4a24172d47bd",
   "metadata": {
    "tags": []
   },
   "outputs": [],
   "source": [
    "mylist3"
   ]
  },
  {
   "cell_type": "code",
   "execution_count": null,
   "id": "0c63fc6c-d25d-4117-856f-6cd0dd9c3d76",
   "metadata": {},
   "outputs": [],
   "source": []
  },
  {
   "cell_type": "code",
   "execution_count": null,
   "id": "7eb67d12-f667-4a91-be14-da33d0f665e5",
   "metadata": {
    "tags": []
   },
   "outputs": [],
   "source": [
    "myNewList = mylist3[0:2]"
   ]
  },
  {
   "cell_type": "code",
   "execution_count": null,
   "id": "4a53eb6d-933e-4158-9787-9784134b2738",
   "metadata": {
    "tags": []
   },
   "outputs": [],
   "source": [
    "myNewList"
   ]
  },
  {
   "cell_type": "code",
   "execution_count": null,
   "id": "3fe7072d-6635-4ff9-aeb0-bec2452465e0",
   "metadata": {
    "tags": []
   },
   "outputs": [],
   "source": [
    "myNewList2 = mylist3[0:5:2]"
   ]
  },
  {
   "cell_type": "code",
   "execution_count": null,
   "id": "17fd97ed-83b1-479f-a0da-6dd1758ca8a5",
   "metadata": {
    "tags": []
   },
   "outputs": [],
   "source": [
    "myNewList2"
   ]
  },
  {
   "cell_type": "code",
   "execution_count": null,
   "id": "2f41f4a0-1c1a-4011-b99a-e7f756d5a958",
   "metadata": {},
   "outputs": [],
   "source": []
  },
  {
   "cell_type": "code",
   "execution_count": null,
   "id": "5e5698a2-ff77-4f56-8608-7dd8afbf1683",
   "metadata": {
    "tags": []
   },
   "outputs": [],
   "source": [
    "for i in mylist3:\n",
    "    print (i)"
   ]
  },
  {
   "cell_type": "code",
   "execution_count": null,
   "id": "f643917f-bcc9-4c00-af63-a728e2a2bcc7",
   "metadata": {
    "tags": []
   },
   "outputs": [],
   "source": [
    "for i in range(len(mylist3)):\n",
    "    print (mylist3[i])"
   ]
  },
  {
   "cell_type": "code",
   "execution_count": null,
   "id": "3436e582-2e5f-4cda-98ef-ed94dd3c9039",
   "metadata": {},
   "outputs": [],
   "source": []
  },
  {
   "cell_type": "code",
   "execution_count": null,
   "id": "c16bcd95-88c4-451b-b9ef-b3136c0a17a1",
   "metadata": {
    "tags": []
   },
   "outputs": [],
   "source": [
    "print(mylist3[i] for i in mylist3)"
   ]
  },
  {
   "cell_type": "code",
   "execution_count": null,
   "id": "5a38804b-dd2d-4770-a354-247014a5dbd9",
   "metadata": {},
   "outputs": [],
   "source": []
  },
  {
   "cell_type": "code",
   "execution_count": null,
   "id": "adcdc8ef-4ecb-42d1-b086-3c9e9b41e941",
   "metadata": {},
   "outputs": [],
   "source": []
  },
  {
   "cell_type": "code",
   "execution_count": null,
   "id": "550be203-8602-45c2-966e-ea9c9a77a9bb",
   "metadata": {},
   "outputs": [],
   "source": []
  },
  {
   "cell_type": "code",
   "execution_count": null,
   "id": "96f28e46-0d1d-4aef-9a34-21edcf5efb9d",
   "metadata": {},
   "outputs": [],
   "source": []
  },
  {
   "cell_type": "markdown",
   "id": "fa8d8869-f262-4568-bf7a-47898a53f966",
   "metadata": {},
   "source": [
    "# List Function"
   ]
  },
  {
   "cell_type": "code",
   "execution_count": 2,
   "id": "095c9e73-1e0b-4fd6-9726-edd38bc29abc",
   "metadata": {},
   "outputs": [
    {
     "data": {
      "text/plain": [
       "False"
      ]
     },
     "execution_count": 2,
     "metadata": {},
     "output_type": "execute_result"
    }
   ],
   "source": [
    "int()\n",
    "float()\n",
    "str()\n",
    "complex()\n",
    "bool()"
   ]
  },
  {
   "cell_type": "code",
   "execution_count": 4,
   "id": "c746afbf-f5c5-4de7-b199-21c1ab429c06",
   "metadata": {
    "tags": []
   },
   "outputs": [],
   "source": [
    "li = list()"
   ]
  },
  {
   "cell_type": "code",
   "execution_count": 5,
   "id": "6f9eee82-61d5-4dd0-9d08-750639c5a352",
   "metadata": {
    "tags": []
   },
   "outputs": [
    {
     "data": {
      "text/plain": [
       "[]"
      ]
     },
     "execution_count": 5,
     "metadata": {},
     "output_type": "execute_result"
    }
   ],
   "source": [
    "li"
   ]
  },
  {
   "cell_type": "code",
   "execution_count": 7,
   "id": "ccedcdfc-45d3-4b4e-b377-0693cb917857",
   "metadata": {
    "tags": []
   },
   "outputs": [],
   "source": [
    "li2 = list(\"mayank\")"
   ]
  },
  {
   "cell_type": "code",
   "execution_count": 8,
   "id": "64327ff2-e928-46a5-8301-1fd88c0cf01c",
   "metadata": {
    "tags": []
   },
   "outputs": [
    {
     "data": {
      "text/plain": [
       "['m', 'a', 'y', 'a', 'n', 'k']"
      ]
     },
     "execution_count": 8,
     "metadata": {},
     "output_type": "execute_result"
    }
   ],
   "source": [
    "li2"
   ]
  },
  {
   "cell_type": "code",
   "execution_count": 9,
   "id": "6c35e472-1791-49de-bf2f-27d55f3612ad",
   "metadata": {
    "tags": []
   },
   "outputs": [
    {
     "ename": "TypeError",
     "evalue": "'int' object is not iterable",
     "output_type": "error",
     "traceback": [
      "\u001b[0;31m---------------------------------------------------------------------------\u001b[0m",
      "\u001b[0;31mTypeError\u001b[0m                                 Traceback (most recent call last)",
      "Cell \u001b[0;32mIn[9], line 1\u001b[0m\n\u001b[0;32m----> 1\u001b[0m li3\u001b[38;5;241m=\u001b[39m \u001b[38;5;28mlist\u001b[39m(\u001b[38;5;241m100\u001b[39m)\n",
      "\u001b[0;31mTypeError\u001b[0m: 'int' object is not iterable"
     ]
    }
   ],
   "source": [
    "li3= list(100)"
   ]
  },
  {
   "cell_type": "code",
   "execution_count": 11,
   "id": "7f7078f1-2145-4cc4-884a-f27b0b44e106",
   "metadata": {
    "tags": []
   },
   "outputs": [
    {
     "ename": "TypeError",
     "evalue": "'int' object is not iterable",
     "output_type": "error",
     "traceback": [
      "\u001b[0;31m---------------------------------------------------------------------------\u001b[0m",
      "\u001b[0;31mTypeError\u001b[0m                                 Traceback (most recent call last)",
      "Cell \u001b[0;32mIn[11], line 1\u001b[0m\n\u001b[0;32m----> 1\u001b[0m \u001b[38;5;28;01mfor\u001b[39;00m i \u001b[38;5;129;01min\u001b[39;00m \u001b[38;5;241m100\u001b[39m:\n\u001b[1;32m      2\u001b[0m     \u001b[38;5;28mprint\u001b[39m (i)\n",
      "\u001b[0;31mTypeError\u001b[0m: 'int' object is not iterable"
     ]
    }
   ],
   "source": [
    "for i in 100:\n",
    "    print (i) # wrong"
   ]
  },
  {
   "cell_type": "code",
   "execution_count": 12,
   "id": "17ef182d-967f-4337-9d3e-07f7c14e639e",
   "metadata": {
    "tags": []
   },
   "outputs": [
    {
     "name": "stdout",
     "output_type": "stream",
     "text": [
      "m\n",
      "a\n",
      "y\n",
      "a\n",
      "n\n",
      "k\n"
     ]
    }
   ],
   "source": [
    "for i in \"mayank\":\n",
    "    print(i)"
   ]
  },
  {
   "cell_type": "code",
   "execution_count": 13,
   "id": "3e2a7d58-f9f6-49e8-bdfd-9e6fb6a60003",
   "metadata": {
    "tags": []
   },
   "outputs": [
    {
     "ename": "TypeError",
     "evalue": "'int' object is not iterable",
     "output_type": "error",
     "traceback": [
      "\u001b[0;31m---------------------------------------------------------------------------\u001b[0m",
      "\u001b[0;31mTypeError\u001b[0m                                 Traceback (most recent call last)",
      "Cell \u001b[0;32mIn[13], line 1\u001b[0m\n\u001b[0;32m----> 1\u001b[0m \u001b[38;5;28;01mfor\u001b[39;00m i \u001b[38;5;129;01min\u001b[39;00m \u001b[38;5;241m1\u001b[39m:\n\u001b[1;32m      2\u001b[0m     \u001b[38;5;28mprint\u001b[39m (i)\n",
      "\u001b[0;31mTypeError\u001b[0m: 'int' object is not iterable"
     ]
    }
   ],
   "source": [
    "for i in 1:\n",
    "    print (i) # wrong"
   ]
  },
  {
   "cell_type": "code",
   "execution_count": null,
   "id": "b1dde241-c8f3-4f1c-8d4d-3708e3b4e7f4",
   "metadata": {},
   "outputs": [],
   "source": []
  },
  {
   "cell_type": "code",
   "execution_count": 14,
   "id": "efb0ded6-fc99-46ad-ad6e-17ac0e3d2659",
   "metadata": {
    "tags": []
   },
   "outputs": [
    {
     "ename": "TypeError",
     "evalue": "'int' object is not iterable",
     "output_type": "error",
     "traceback": [
      "\u001b[0;31m---------------------------------------------------------------------------\u001b[0m",
      "\u001b[0;31mTypeError\u001b[0m                                 Traceback (most recent call last)",
      "Cell \u001b[0;32mIn[14], line 1\u001b[0m\n\u001b[0;32m----> 1\u001b[0m li3\u001b[38;5;241m=\u001b[39m \u001b[38;5;28mlist\u001b[39m(\u001b[38;5;241m5\u001b[39m)\n",
      "\u001b[0;31mTypeError\u001b[0m: 'int' object is not iterable"
     ]
    }
   ],
   "source": [
    "li3= list(5)"
   ]
  },
  {
   "cell_type": "code",
   "execution_count": 16,
   "id": "1880e3ec-2320-4b20-8ab0-50e9145eddce",
   "metadata": {
    "tags": []
   },
   "outputs": [],
   "source": [
    "def mysum(a,b):\n",
    "    print(a+b)"
   ]
  },
  {
   "cell_type": "code",
   "execution_count": 17,
   "id": "dd112882-a159-4144-9a7b-5552501dcc40",
   "metadata": {
    "tags": []
   },
   "outputs": [
    {
     "name": "stdout",
     "output_type": "stream",
     "text": [
      "15\n"
     ]
    }
   ],
   "source": [
    "mysum(5,10)"
   ]
  },
  {
   "cell_type": "code",
   "execution_count": 18,
   "id": "dcbed966-3b26-4497-baa1-5e4333a7d019",
   "metadata": {
    "tags": []
   },
   "outputs": [
    {
     "ename": "TypeError",
     "evalue": "mysum() takes 2 positional arguments but 3 were given",
     "output_type": "error",
     "traceback": [
      "\u001b[0;31m---------------------------------------------------------------------------\u001b[0m",
      "\u001b[0;31mTypeError\u001b[0m                                 Traceback (most recent call last)",
      "Cell \u001b[0;32mIn[18], line 1\u001b[0m\n\u001b[0;32m----> 1\u001b[0m mysum(\u001b[38;5;241m5\u001b[39m,\u001b[38;5;241m10\u001b[39m,\u001b[38;5;241m100\u001b[39m)\n",
      "\u001b[0;31mTypeError\u001b[0m: mysum() takes 2 positional arguments but 3 were given"
     ]
    }
   ],
   "source": [
    "mysum(5,10,100)"
   ]
  },
  {
   "cell_type": "code",
   "execution_count": 19,
   "id": "7d39b2e1-cb05-4b1f-a200-eadc4bfe06bd",
   "metadata": {
    "tags": []
   },
   "outputs": [],
   "source": [
    "li4 = list((10,20,30))"
   ]
  },
  {
   "cell_type": "code",
   "execution_count": 21,
   "id": "a2dee2a7-9cb5-4e4f-b632-ccb6f371731d",
   "metadata": {
    "tags": []
   },
   "outputs": [
    {
     "data": {
      "text/plain": [
       "[10, 20, 30]"
      ]
     },
     "execution_count": 21,
     "metadata": {},
     "output_type": "execute_result"
    }
   ],
   "source": [
    "li4"
   ]
  },
  {
   "cell_type": "code",
   "execution_count": 23,
   "id": "d29ed303-2d99-457d-bfab-0757b0e50b59",
   "metadata": {
    "tags": []
   },
   "outputs": [],
   "source": [
    "li5 = list((10,))  # for a single element"
   ]
  },
  {
   "cell_type": "code",
   "execution_count": 24,
   "id": "057ec7a1-e95a-4b44-b05b-6e4d803a1ae7",
   "metadata": {
    "tags": []
   },
   "outputs": [
    {
     "data": {
      "text/plain": [
       "[10]"
      ]
     },
     "execution_count": 24,
     "metadata": {},
     "output_type": "execute_result"
    }
   ],
   "source": [
    "li5"
   ]
  },
  {
   "cell_type": "code",
   "execution_count": null,
   "id": "1aeb834f-3a4e-4833-807d-44721c0f33b4",
   "metadata": {},
   "outputs": [],
   "source": []
  },
  {
   "cell_type": "code",
   "execution_count": 26,
   "id": "a23cc43b-2553-408a-97f4-431c78986b00",
   "metadata": {
    "tags": []
   },
   "outputs": [],
   "source": [
    "li6 = list('m')"
   ]
  },
  {
   "cell_type": "code",
   "execution_count": 27,
   "id": "807a63b2-e51c-4a25-bd0c-9b53c70c3573",
   "metadata": {
    "tags": []
   },
   "outputs": [
    {
     "ename": "TypeError",
     "evalue": "'int' object is not iterable",
     "output_type": "error",
     "traceback": [
      "\u001b[0;31m---------------------------------------------------------------------------\u001b[0m",
      "\u001b[0;31mTypeError\u001b[0m                                 Traceback (most recent call last)",
      "Cell \u001b[0;32mIn[27], line 1\u001b[0m\n\u001b[0;32m----> 1\u001b[0m li7 \u001b[38;5;241m=\u001b[39m \u001b[38;5;28mlist\u001b[39m(\u001b[38;5;241m100\u001b[39m)\n",
      "\u001b[0;31mTypeError\u001b[0m: 'int' object is not iterable"
     ]
    }
   ],
   "source": [
    "li7 = list(100)"
   ]
  },
  {
   "cell_type": "code",
   "execution_count": 33,
   "id": "156d373b-7469-4ce6-a3ba-e7a100a97068",
   "metadata": {
    "tags": []
   },
   "outputs": [],
   "source": [
    "li8 = [1,2,3,\"mayank\",5,8]"
   ]
  },
  {
   "cell_type": "code",
   "execution_count": 34,
   "id": "05046798-1872-43a8-aaa6-6171f3d6b362",
   "metadata": {
    "tags": []
   },
   "outputs": [
    {
     "data": {
      "text/plain": [
       "[1, 2, 3, 'mayank', 5, 8]"
      ]
     },
     "execution_count": 34,
     "metadata": {},
     "output_type": "execute_result"
    }
   ],
   "source": [
    "li8"
   ]
  },
  {
   "cell_type": "code",
   "execution_count": 35,
   "id": "8b0a012f-fae8-4005-a91e-d41303ff686a",
   "metadata": {
    "tags": []
   },
   "outputs": [
    {
     "data": {
      "text/plain": [
       "3"
      ]
     },
     "execution_count": 35,
     "metadata": {},
     "output_type": "execute_result"
    }
   ],
   "source": [
    "li8[2]"
   ]
  },
  {
   "cell_type": "code",
   "execution_count": 36,
   "id": "148aa955-38b3-4c66-a607-d1726ca5b643",
   "metadata": {
    "tags": []
   },
   "outputs": [
    {
     "data": {
      "text/plain": [
       "'mayank'"
      ]
     },
     "execution_count": 36,
     "metadata": {},
     "output_type": "execute_result"
    }
   ],
   "source": [
    "li8[3]"
   ]
  },
  {
   "cell_type": "code",
   "execution_count": 37,
   "id": "8d75676f-1107-4d2a-9c2d-344015188030",
   "metadata": {
    "tags": []
   },
   "outputs": [
    {
     "data": {
      "text/plain": [
       "int"
      ]
     },
     "execution_count": 37,
     "metadata": {},
     "output_type": "execute_result"
    }
   ],
   "source": [
    "type(li8[2])"
   ]
  },
  {
   "cell_type": "code",
   "execution_count": 38,
   "id": "d6e8c621-6f7a-42ca-80f5-60aedb73a4b1",
   "metadata": {
    "tags": []
   },
   "outputs": [
    {
     "data": {
      "text/plain": [
       "str"
      ]
     },
     "execution_count": 38,
     "metadata": {},
     "output_type": "execute_result"
    }
   ],
   "source": [
    "type(li8[3])"
   ]
  },
  {
   "cell_type": "code",
   "execution_count": 39,
   "id": "7225483e-f00b-409e-865d-109e0e0dc24c",
   "metadata": {
    "tags": []
   },
   "outputs": [],
   "source": [
    "myStr = 'Mayank'"
   ]
  },
  {
   "cell_type": "code",
   "execution_count": 41,
   "id": "64cc0609-510a-4a18-898f-7c2766859c57",
   "metadata": {
    "tags": []
   },
   "outputs": [
    {
     "data": {
      "text/plain": [
       "'y'"
      ]
     },
     "execution_count": 41,
     "metadata": {},
     "output_type": "execute_result"
    }
   ],
   "source": [
    "myStr[2]"
   ]
  },
  {
   "cell_type": "code",
   "execution_count": 42,
   "id": "dfd753ef-0ab9-452e-a580-119c9ad22195",
   "metadata": {
    "tags": []
   },
   "outputs": [
    {
     "data": {
      "text/plain": [
       "'y'"
      ]
     },
     "execution_count": 42,
     "metadata": {},
     "output_type": "execute_result"
    }
   ],
   "source": [
    "li8[3][2]"
   ]
  },
  {
   "cell_type": "code",
   "execution_count": null,
   "id": "43747f5a-1b7f-4028-a62a-19a95cd5bf49",
   "metadata": {},
   "outputs": [],
   "source": []
  },
  {
   "cell_type": "code",
   "execution_count": null,
   "id": "8f91379e-72e5-47c4-9db6-92189566a0da",
   "metadata": {},
   "outputs": [],
   "source": []
  },
  {
   "cell_type": "code",
   "execution_count": 31,
   "id": "50ed450d-b2c2-43de-aad9-071f45d26287",
   "metadata": {
    "tags": []
   },
   "outputs": [
    {
     "data": {
      "text/plain": [
       "'y'"
      ]
     },
     "execution_count": 31,
     "metadata": {},
     "output_type": "execute_result"
    }
   ],
   "source": [
    "li8[3][2]"
   ]
  },
  {
   "cell_type": "code",
   "execution_count": 32,
   "id": "f34af771-0774-44b0-ac2d-d0225a340384",
   "metadata": {
    "tags": []
   },
   "outputs": [
    {
     "data": {
      "text/plain": [
       "str"
      ]
     },
     "execution_count": 32,
     "metadata": {},
     "output_type": "execute_result"
    }
   ],
   "source": [
    "type(li8[3])"
   ]
  },
  {
   "cell_type": "code",
   "execution_count": null,
   "id": "6b9adcb8-3160-42dc-a6fc-bda01446a705",
   "metadata": {},
   "outputs": [],
   "source": []
  },
  {
   "cell_type": "code",
   "execution_count": 43,
   "id": "6c1df390-fbef-48e6-bf98-7563f703e588",
   "metadata": {
    "tags": []
   },
   "outputs": [],
   "source": [
    "li9 = [1,2,3,\"mayank\",5,8,[\"first\",\"second\"]]"
   ]
  },
  {
   "cell_type": "code",
   "execution_count": 45,
   "id": "2b136505-21b6-4fb8-954d-ff20db6e12f6",
   "metadata": {
    "tags": []
   },
   "outputs": [
    {
     "data": {
      "text/plain": [
       "list"
      ]
     },
     "execution_count": 45,
     "metadata": {},
     "output_type": "execute_result"
    }
   ],
   "source": [
    "type(li9[-1])"
   ]
  },
  {
   "cell_type": "code",
   "execution_count": 47,
   "id": "59d032bd-3e5e-44fe-a323-561ec02f8890",
   "metadata": {
    "tags": []
   },
   "outputs": [
    {
     "data": {
      "text/plain": [
       "'first'"
      ]
     },
     "execution_count": 47,
     "metadata": {},
     "output_type": "execute_result"
    }
   ],
   "source": [
    "li9[-1][0]"
   ]
  },
  {
   "cell_type": "code",
   "execution_count": 48,
   "id": "4d59372e-e8f7-4b80-91f9-e5ec3a00ec51",
   "metadata": {
    "tags": []
   },
   "outputs": [
    {
     "data": {
      "text/plain": [
       "'r'"
      ]
     },
     "execution_count": 48,
     "metadata": {},
     "output_type": "execute_result"
    }
   ],
   "source": [
    "li9[-1][0][2]"
   ]
  },
  {
   "cell_type": "markdown",
   "id": "51721ccf-5ae4-4686-a595-1744a204f6d4",
   "metadata": {
    "tags": []
   },
   "source": [
    "# Membership in List"
   ]
  },
  {
   "cell_type": "code",
   "execution_count": 50,
   "id": "3bd5cf7f-7a44-4ea4-b966-9aa4c88ebdd7",
   "metadata": {
    "tags": []
   },
   "outputs": [
    {
     "data": {
      "text/plain": [
       "[1, 2, 3, 'mayank', 5, 8, ['first', 'second']]"
      ]
     },
     "execution_count": 50,
     "metadata": {},
     "output_type": "execute_result"
    }
   ],
   "source": [
    "li9"
   ]
  },
  {
   "cell_type": "code",
   "execution_count": 51,
   "id": "4360ab15-1aa7-4036-9942-af120d6b3017",
   "metadata": {
    "tags": []
   },
   "outputs": [
    {
     "data": {
      "text/plain": [
       "True"
      ]
     },
     "execution_count": 51,
     "metadata": {},
     "output_type": "execute_result"
    }
   ],
   "source": [
    "2 in li9"
   ]
  },
  {
   "cell_type": "code",
   "execution_count": 52,
   "id": "ba35c8a0-2b1e-4756-9ac4-3d5a54755bd9",
   "metadata": {
    "tags": []
   },
   "outputs": [
    {
     "data": {
      "text/plain": [
       "True"
      ]
     },
     "execution_count": 52,
     "metadata": {},
     "output_type": "execute_result"
    }
   ],
   "source": [
    "'mayank' in li9"
   ]
  },
  {
   "cell_type": "code",
   "execution_count": 53,
   "id": "0e278c18-d6a1-49ad-9307-9ffd57590e79",
   "metadata": {
    "tags": []
   },
   "outputs": [
    {
     "data": {
      "text/plain": [
       "False"
      ]
     },
     "execution_count": 53,
     "metadata": {},
     "output_type": "execute_result"
    }
   ],
   "source": [
    "'Mayank' in li9"
   ]
  },
  {
   "cell_type": "code",
   "execution_count": 55,
   "id": "03688646-f32b-4ab2-940e-04b80d820060",
   "metadata": {
    "tags": []
   },
   "outputs": [
    {
     "data": {
      "text/plain": [
       "False"
      ]
     },
     "execution_count": 55,
     "metadata": {},
     "output_type": "execute_result"
    }
   ],
   "source": [
    "'first' in li9"
   ]
  },
  {
   "cell_type": "code",
   "execution_count": 56,
   "id": "a650c2c8-d603-42b6-b024-7151f08783fd",
   "metadata": {
    "tags": []
   },
   "outputs": [
    {
     "data": {
      "text/plain": [
       "True"
      ]
     },
     "execution_count": 56,
     "metadata": {},
     "output_type": "execute_result"
    }
   ],
   "source": [
    "['first','second'] in li9"
   ]
  },
  {
   "cell_type": "code",
   "execution_count": 57,
   "id": "7f08e13f-04ac-4340-8fee-05b7cddbfaca",
   "metadata": {
    "tags": []
   },
   "outputs": [
    {
     "data": {
      "text/plain": [
       "True"
      ]
     },
     "execution_count": 57,
     "metadata": {},
     "output_type": "execute_result"
    }
   ],
   "source": [
    "'123' not in li9"
   ]
  },
  {
   "cell_type": "code",
   "execution_count": 62,
   "id": "64d7cd82-7f48-455a-9d8c-afb40ef6b0c7",
   "metadata": {
    "tags": []
   },
   "outputs": [],
   "source": [
    "reviews = [\"good food\", \"bad food\" , \"great service\", \"bad service\"]"
   ]
  },
  {
   "cell_type": "code",
   "execution_count": 64,
   "id": "5f76988d-4f74-4b96-a33d-38f655ba4206",
   "metadata": {
    "tags": []
   },
   "outputs": [],
   "source": [
    "service_reviews = []\n",
    "\n",
    "for item in reviews:\n",
    "    if 'service' in item:\n",
    "        service_reviews.append(item)"
   ]
  },
  {
   "cell_type": "code",
   "execution_count": 65,
   "id": "414ce02d-b977-4e45-8ee0-78b8ab5f81e1",
   "metadata": {
    "tags": []
   },
   "outputs": [
    {
     "data": {
      "text/plain": [
       "['great service', 'bad service']"
      ]
     },
     "execution_count": 65,
     "metadata": {},
     "output_type": "execute_result"
    }
   ],
   "source": [
    "service_reviews"
   ]
  },
  {
   "cell_type": "code",
   "execution_count": 75,
   "id": "09916efa-e3eb-4206-aa63-dcdae9d24d90",
   "metadata": {
    "tags": []
   },
   "outputs": [],
   "source": [
    "email = [\"abc@gmail.com\",\"abc@gmail.com\",\"abc@gmail.com\",\"abc@gmail.com\",\"abc@yahoo.com\",\"abc@yahoo.com\"]"
   ]
  },
  {
   "cell_type": "code",
   "execution_count": 76,
   "id": "8dff4109-17ca-4f92-973c-de992ab42876",
   "metadata": {
    "tags": []
   },
   "outputs": [],
   "source": [
    "gmail_accounts = []\n",
    "\n",
    "for item in email:\n",
    "    if 'gmail' in item:\n",
    "        gmail_accounts.append(item)"
   ]
  },
  {
   "cell_type": "code",
   "execution_count": 77,
   "id": "4fa6869b-5dcc-49de-8e91-5f74b90fdda2",
   "metadata": {
    "tags": []
   },
   "outputs": [
    {
     "data": {
      "text/plain": [
       "['abc@gmail.com', 'abc@gmail.com', 'abc@gmail.com', 'abc@gmail.com']"
      ]
     },
     "execution_count": 77,
     "metadata": {},
     "output_type": "execute_result"
    }
   ],
   "source": [
    "gmail_accounts"
   ]
  },
  {
   "cell_type": "code",
   "execution_count": null,
   "id": "57e671cc-eacb-40b5-9688-893d1c446694",
   "metadata": {},
   "outputs": [],
   "source": []
  },
  {
   "cell_type": "code",
   "execution_count": null,
   "id": "1e654d3c-2d4a-44a3-87f6-43af6706307f",
   "metadata": {},
   "outputs": [],
   "source": []
  },
  {
   "cell_type": "code",
   "execution_count": null,
   "id": "c02ed185-161e-4fb7-a51c-9ce7037ddc4c",
   "metadata": {},
   "outputs": [],
   "source": [
    "# why list('m') is working and list(123) not working?"
   ]
  },
  {
   "cell_type": "code",
   "execution_count": null,
   "id": "e9d3f426-a50e-4e20-9d1e-8edd3b9fcede",
   "metadata": {},
   "outputs": [],
   "source": [
    "list()"
   ]
  },
  {
   "cell_type": "code",
   "execution_count": 66,
   "id": "7cc843fa-0d3b-47c0-83b8-eb12803c79a7",
   "metadata": {
    "tags": []
   },
   "outputs": [
    {
     "ename": "TypeError",
     "evalue": "'int' object is not iterable",
     "output_type": "error",
     "traceback": [
      "\u001b[0;31m---------------------------------------------------------------------------\u001b[0m",
      "\u001b[0;31mTypeError\u001b[0m                                 Traceback (most recent call last)",
      "Cell \u001b[0;32mIn[66], line 1\u001b[0m\n\u001b[0;32m----> 1\u001b[0m \u001b[38;5;28mlist\u001b[39m(\u001b[38;5;241m123\u001b[39m)\n",
      "\u001b[0;31mTypeError\u001b[0m: 'int' object is not iterable"
     ]
    }
   ],
   "source": [
    "list(123)"
   ]
  },
  {
   "cell_type": "code",
   "execution_count": 67,
   "id": "d3cebf8b-7fff-4754-a77f-9e31a9378f1c",
   "metadata": {
    "tags": []
   },
   "outputs": [
    {
     "data": {
      "text/plain": [
       "['m']"
      ]
     },
     "execution_count": 67,
     "metadata": {},
     "output_type": "execute_result"
    }
   ],
   "source": [
    "list('m') "
   ]
  },
  {
   "cell_type": "code",
   "execution_count": null,
   "id": "d419cb28-eced-4aac-9394-8aa4c7b71a30",
   "metadata": {},
   "outputs": [],
   "source": []
  },
  {
   "cell_type": "code",
   "execution_count": null,
   "id": "e4274485-2959-4d29-b6d4-86e0e9e1b4d2",
   "metadata": {},
   "outputs": [],
   "source": []
  },
  {
   "cell_type": "code",
   "execution_count": null,
   "id": "653afa76-6d83-4e5d-9322-749e94a78219",
   "metadata": {},
   "outputs": [],
   "source": []
  },
  {
   "cell_type": "markdown",
   "id": "a609c920-e6c3-4172-8474-2d4574e85055",
   "metadata": {},
   "source": [
    "# Methods Vs Function"
   ]
  },
  {
   "cell_type": "code",
   "execution_count": 78,
   "id": "5f2e83ce-6405-4266-83e6-6af7e59c6840",
   "metadata": {
    "tags": []
   },
   "outputs": [
    {
     "data": {
      "text/plain": [
       "6"
      ]
     },
     "execution_count": 78,
     "metadata": {},
     "output_type": "execute_result"
    }
   ],
   "source": [
    "len(email) # Function"
   ]
  },
  {
   "cell_type": "code",
   "execution_count": 79,
   "id": "c3a43ef6-8a29-47dc-97dc-b37f8344aa90",
   "metadata": {
    "tags": []
   },
   "outputs": [
    {
     "data": {
      "text/plain": [
       "list"
      ]
     },
     "execution_count": 79,
     "metadata": {},
     "output_type": "execute_result"
    }
   ],
   "source": [
    "type(email)"
   ]
  },
  {
   "cell_type": "code",
   "execution_count": null,
   "id": "d1edb8da-63d7-49eb-9bf3-2b019019f1bb",
   "metadata": {},
   "outputs": [],
   "source": [
    "email.append() # method"
   ]
  },
  {
   "cell_type": "markdown",
   "id": "4b035f7e-0990-4ad6-ac74-98e0d912c862",
   "metadata": {
    "tags": []
   },
   "source": [
    "# Functions\n",
    "\n",
    "1. Len()\n",
    "2. Max()\n",
    "3. Min()\n",
    "4. Sum()\n",
    "5. sorted()\n",
    "6. any()\n",
    "7. all()\n",
    "8. list()"
   ]
  },
  {
   "cell_type": "code",
   "execution_count": 137,
   "id": "a9a22ef3-7510-41bb-9ec6-c5a55c466442",
   "metadata": {
    "tags": []
   },
   "outputs": [],
   "source": [
    "newList = [1, 2531, 5310, 21, 513]"
   ]
  },
  {
   "cell_type": "code",
   "execution_count": 81,
   "id": "40566092-d537-4c7f-82f2-0f740518dc35",
   "metadata": {
    "tags": []
   },
   "outputs": [],
   "source": [
    "newList2 = [1,'mayank','python',True,513]"
   ]
  },
  {
   "cell_type": "code",
   "execution_count": 82,
   "id": "38b6609b-dbd3-4b6a-a6ec-338146a48af8",
   "metadata": {
    "tags": []
   },
   "outputs": [
    {
     "data": {
      "text/plain": [
       "5"
      ]
     },
     "execution_count": 82,
     "metadata": {},
     "output_type": "execute_result"
    }
   ],
   "source": [
    "len(newList)"
   ]
  },
  {
   "cell_type": "code",
   "execution_count": 83,
   "id": "a130f9ca-41b7-420d-98b7-78ccc9756b91",
   "metadata": {
    "tags": []
   },
   "outputs": [
    {
     "data": {
      "text/plain": [
       "5310"
      ]
     },
     "execution_count": 83,
     "metadata": {},
     "output_type": "execute_result"
    }
   ],
   "source": [
    "max(newList)"
   ]
  },
  {
   "cell_type": "code",
   "execution_count": 84,
   "id": "f07e7899-07b1-4aed-9f96-84c37ef47ab8",
   "metadata": {
    "tags": []
   },
   "outputs": [
    {
     "ename": "TypeError",
     "evalue": "'>' not supported between instances of 'str' and 'int'",
     "output_type": "error",
     "traceback": [
      "\u001b[0;31m---------------------------------------------------------------------------\u001b[0m",
      "\u001b[0;31mTypeError\u001b[0m                                 Traceback (most recent call last)",
      "Cell \u001b[0;32mIn[84], line 1\u001b[0m\n\u001b[0;32m----> 1\u001b[0m \u001b[38;5;28mmax\u001b[39m(newList2)\n",
      "\u001b[0;31mTypeError\u001b[0m: '>' not supported between instances of 'str' and 'int'"
     ]
    }
   ],
   "source": [
    "max(newList2)"
   ]
  },
  {
   "cell_type": "code",
   "execution_count": 85,
   "id": "28766408-6171-473d-a08d-636c44a738b2",
   "metadata": {
    "tags": []
   },
   "outputs": [],
   "source": [
    "newList3 = [1,2,'3',4,'5']"
   ]
  },
  {
   "cell_type": "code",
   "execution_count": 87,
   "id": "6e0363a7-0491-4662-a0ad-ccf1ab89ef66",
   "metadata": {
    "tags": []
   },
   "outputs": [
    {
     "ename": "TypeError",
     "evalue": "'>' not supported between instances of 'str' and 'int'",
     "output_type": "error",
     "traceback": [
      "\u001b[0;31m---------------------------------------------------------------------------\u001b[0m",
      "\u001b[0;31mTypeError\u001b[0m                                 Traceback (most recent call last)",
      "Cell \u001b[0;32mIn[87], line 1\u001b[0m\n\u001b[0;32m----> 1\u001b[0m \u001b[38;5;28mmax\u001b[39m(newList3)\n",
      "\u001b[0;31mTypeError\u001b[0m: '>' not supported between instances of 'str' and 'int'"
     ]
    }
   ],
   "source": [
    "max(newList3)"
   ]
  },
  {
   "cell_type": "code",
   "execution_count": 94,
   "id": "c57ee4d4-692c-413d-b59a-d51f4e987f0d",
   "metadata": {
    "tags": []
   },
   "outputs": [],
   "source": [
    "mymax = 0\n",
    "for item in newList3:\n",
    "    if(mymax < int(item)):\n",
    "        mymax = int(item)"
   ]
  },
  {
   "cell_type": "code",
   "execution_count": 95,
   "id": "657df9be-6481-4009-9238-92cbca653ced",
   "metadata": {
    "tags": []
   },
   "outputs": [
    {
     "data": {
      "text/plain": [
       "5"
      ]
     },
     "execution_count": 95,
     "metadata": {},
     "output_type": "execute_result"
    }
   ],
   "source": [
    "mymax"
   ]
  },
  {
   "cell_type": "code",
   "execution_count": 91,
   "id": "4a308c39-17d4-44fa-8b02-d161522c7b23",
   "metadata": {
    "tags": []
   },
   "outputs": [],
   "source": [
    "mystringList = ['a','b','c']"
   ]
  },
  {
   "cell_type": "code",
   "execution_count": 92,
   "id": "a2bf60dc-07f8-4d4e-9a28-958a44fa7e93",
   "metadata": {
    "tags": []
   },
   "outputs": [
    {
     "data": {
      "text/plain": [
       "'c'"
      ]
     },
     "execution_count": 92,
     "metadata": {},
     "output_type": "execute_result"
    }
   ],
   "source": [
    "max(mystringList)"
   ]
  },
  {
   "cell_type": "code",
   "execution_count": 96,
   "id": "f44d6d2e-04bb-442e-a934-50cb6d245da0",
   "metadata": {
    "tags": []
   },
   "outputs": [
    {
     "data": {
      "text/plain": [
       "1"
      ]
     },
     "execution_count": 96,
     "metadata": {},
     "output_type": "execute_result"
    }
   ],
   "source": [
    "min(newList)"
   ]
  },
  {
   "cell_type": "code",
   "execution_count": 97,
   "id": "1dd3cd89-e91a-46a0-ab6e-68de56fb7883",
   "metadata": {
    "tags": []
   },
   "outputs": [
    {
     "ename": "TypeError",
     "evalue": "'<' not supported between instances of 'str' and 'int'",
     "output_type": "error",
     "traceback": [
      "\u001b[0;31m---------------------------------------------------------------------------\u001b[0m",
      "\u001b[0;31mTypeError\u001b[0m                                 Traceback (most recent call last)",
      "Cell \u001b[0;32mIn[97], line 1\u001b[0m\n\u001b[0;32m----> 1\u001b[0m \u001b[38;5;28mmin\u001b[39m(newList2)\n",
      "\u001b[0;31mTypeError\u001b[0m: '<' not supported between instances of 'str' and 'int'"
     ]
    }
   ],
   "source": [
    "min(newList2)"
   ]
  },
  {
   "cell_type": "code",
   "execution_count": 98,
   "id": "b6dcd1fc-7ca7-4cfc-82c5-f36f119f9478",
   "metadata": {
    "tags": []
   },
   "outputs": [
    {
     "data": {
      "text/plain": [
       "'a'"
      ]
     },
     "execution_count": 98,
     "metadata": {},
     "output_type": "execute_result"
    }
   ],
   "source": [
    "min(mystringList)"
   ]
  },
  {
   "cell_type": "code",
   "execution_count": 138,
   "id": "acf0c0d4-94c7-4cfc-9c29-153581581e5a",
   "metadata": {
    "tags": []
   },
   "outputs": [
    {
     "name": "stdout",
     "output_type": "stream",
     "text": [
      "[1, 2531, 5310, 21, 513]\n",
      "[1, 'mayank', 'python', True, 513]\n",
      "['a', 'b', 'c']\n"
     ]
    }
   ],
   "source": [
    "print(newList)\n",
    "print(newList2)\n",
    "print(mystringList)"
   ]
  },
  {
   "cell_type": "code",
   "execution_count": 105,
   "id": "e697f86b-133c-4151-ad06-16583c86453b",
   "metadata": {
    "tags": []
   },
   "outputs": [
    {
     "name": "stdout",
     "output_type": "stream",
     "text": [
      "8376\n"
     ]
    },
    {
     "ename": "TypeError",
     "evalue": "unsupported operand type(s) for +: 'int' and 'str'",
     "output_type": "error",
     "traceback": [
      "\u001b[0;31m---------------------------------------------------------------------------\u001b[0m",
      "\u001b[0;31mTypeError\u001b[0m                                 Traceback (most recent call last)",
      "Cell \u001b[0;32mIn[105], line 2\u001b[0m\n\u001b[1;32m      1\u001b[0m \u001b[38;5;28mprint\u001b[39m(\u001b[38;5;28msum\u001b[39m(newList))\n\u001b[0;32m----> 2\u001b[0m \u001b[38;5;28mprint\u001b[39m(\u001b[38;5;28msum\u001b[39m(newList2))\u001b[38;5;66;03m#\u001b[39;00m\n\u001b[1;32m      3\u001b[0m \u001b[38;5;28mprint\u001b[39m(\u001b[38;5;28msum\u001b[39m(mystringList))\n",
      "\u001b[0;31mTypeError\u001b[0m: unsupported operand type(s) for +: 'int' and 'str'"
     ]
    }
   ],
   "source": [
    "print(sum(newList))\n",
    "#print(sum(newList2))"
   ]
  },
  {
   "cell_type": "code",
   "execution_count": 139,
   "id": "d2cd4bf1-c442-4630-af49-22feda4158df",
   "metadata": {
    "tags": []
   },
   "outputs": [
    {
     "ename": "TypeError",
     "evalue": "can only concatenate str (not \"int\") to str",
     "output_type": "error",
     "traceback": [
      "\u001b[0;31m---------------------------------------------------------------------------\u001b[0m",
      "\u001b[0;31mTypeError\u001b[0m                                 Traceback (most recent call last)",
      "Cell \u001b[0;32mIn[139], line 1\u001b[0m\n\u001b[0;32m----> 1\u001b[0m \u001b[38;5;124m'\u001b[39m\u001b[38;5;124mmayank\u001b[39m\u001b[38;5;124m'\u001b[39m \u001b[38;5;241m+\u001b[39m \u001b[38;5;241m1\u001b[39m\n",
      "\u001b[0;31mTypeError\u001b[0m: can only concatenate str (not \"int\") to str"
     ]
    }
   ],
   "source": [
    "'5'+ '1'"
   ]
  },
  {
   "cell_type": "code",
   "execution_count": 140,
   "id": "93959e0a-fb0d-4ae1-adb5-c04257f5af5b",
   "metadata": {
    "tags": []
   },
   "outputs": [
    {
     "data": {
      "text/plain": [
       "['a', 'b', 'c']"
      ]
     },
     "execution_count": 140,
     "metadata": {},
     "output_type": "execute_result"
    }
   ],
   "source": [
    "mystringList"
   ]
  },
  {
   "cell_type": "code",
   "execution_count": 141,
   "id": "8939dea4-ce25-46ce-868e-80707dce175a",
   "metadata": {
    "tags": []
   },
   "outputs": [
    {
     "ename": "TypeError",
     "evalue": "unsupported operand type(s) for +: 'int' and 'str'",
     "output_type": "error",
     "traceback": [
      "\u001b[0;31m---------------------------------------------------------------------------\u001b[0m",
      "\u001b[0;31mTypeError\u001b[0m                                 Traceback (most recent call last)",
      "Cell \u001b[0;32mIn[141], line 1\u001b[0m\n\u001b[0;32m----> 1\u001b[0m \u001b[38;5;28mprint\u001b[39m(\u001b[38;5;28msum\u001b[39m(mystringList))\n",
      "\u001b[0;31mTypeError\u001b[0m: unsupported operand type(s) for +: 'int' and 'str'"
     ]
    }
   ],
   "source": [
    "print(sum(mystringList))"
   ]
  },
  {
   "cell_type": "code",
   "execution_count": null,
   "id": "e925867f-2732-447f-b3a2-4c0dd7366b61",
   "metadata": {},
   "outputs": [],
   "source": [
    "# sum of 'a' & 'b'\n"
   ]
  },
  {
   "cell_type": "code",
   "execution_count": null,
   "id": "e4a15441-9d30-4e82-9081-2ed272a9d8a0",
   "metadata": {},
   "outputs": [],
   "source": []
  },
  {
   "cell_type": "code",
   "execution_count": null,
   "id": "1c70d50e-1819-486c-b70d-bf69a9aee197",
   "metadata": {},
   "outputs": [],
   "source": []
  },
  {
   "cell_type": "code",
   "execution_count": 108,
   "id": "c81fec86-3aad-4355-a408-5bae5680da7b",
   "metadata": {
    "tags": []
   },
   "outputs": [
    {
     "name": "stdout",
     "output_type": "stream",
     "text": [
      "[1, 2531, 5310, 21, 513]\n",
      "[1, 'mayank', 'python', True, 513]\n",
      "['a', 'b', 'c']\n"
     ]
    }
   ],
   "source": [
    "print(newList)\n",
    "print(newList2)\n",
    "print(mystringList)"
   ]
  },
  {
   "cell_type": "code",
   "execution_count": 109,
   "id": "35da9cc3-92b6-48e6-baa1-5e8f2e100b52",
   "metadata": {
    "tags": []
   },
   "outputs": [
    {
     "data": {
      "text/plain": [
       "[1, 21, 513, 2531, 5310]"
      ]
     },
     "execution_count": 109,
     "metadata": {},
     "output_type": "execute_result"
    }
   ],
   "source": [
    "# Sorted\n",
    "sorted(newList)"
   ]
  },
  {
   "cell_type": "code",
   "execution_count": 110,
   "id": "5ebbf3c4-aa99-4db6-a4ef-46a605e6d1e2",
   "metadata": {
    "tags": []
   },
   "outputs": [
    {
     "ename": "TypeError",
     "evalue": "'<' not supported between instances of 'str' and 'int'",
     "output_type": "error",
     "traceback": [
      "\u001b[0;31m---------------------------------------------------------------------------\u001b[0m",
      "\u001b[0;31mTypeError\u001b[0m                                 Traceback (most recent call last)",
      "Cell \u001b[0;32mIn[110], line 1\u001b[0m\n\u001b[0;32m----> 1\u001b[0m \u001b[38;5;28msorted\u001b[39m(newList2)\n",
      "\u001b[0;31mTypeError\u001b[0m: '<' not supported between instances of 'str' and 'int'"
     ]
    }
   ],
   "source": [
    "sorted(newList2)"
   ]
  },
  {
   "cell_type": "code",
   "execution_count": 112,
   "id": "70b17ae3-b9bb-4e31-b14e-ab4121556015",
   "metadata": {
    "tags": []
   },
   "outputs": [
    {
     "data": {
      "text/plain": [
       "['a', 'b', 'c']"
      ]
     },
     "execution_count": 112,
     "metadata": {},
     "output_type": "execute_result"
    }
   ],
   "source": [
    "sorted(mystringList)"
   ]
  },
  {
   "cell_type": "code",
   "execution_count": 114,
   "id": "30eff6c1-5499-4bd7-a5b8-eeb0216df357",
   "metadata": {
    "tags": []
   },
   "outputs": [
    {
     "data": {
      "text/plain": [
       "[5310, 2531, 513, 21, 1]"
      ]
     },
     "execution_count": 114,
     "metadata": {},
     "output_type": "execute_result"
    }
   ],
   "source": [
    "# Sorted\n",
    "sorted(newList,reverse=True)"
   ]
  },
  {
   "cell_type": "code",
   "execution_count": 116,
   "id": "a6576c1e-f689-4e81-894c-2cd117f4f20e",
   "metadata": {
    "tags": []
   },
   "outputs": [
    {
     "data": {
      "text/plain": [
       "['c', 'b', 'a']"
      ]
     },
     "execution_count": 116,
     "metadata": {},
     "output_type": "execute_result"
    }
   ],
   "source": [
    "sorted(mystringList,reverse=True)"
   ]
  },
  {
   "cell_type": "code",
   "execution_count": null,
   "id": "bc33b361-6c9d-4c3b-bcce-2f7bd8728d05",
   "metadata": {},
   "outputs": [],
   "source": [
    "4 2 5 \n",
    "\n",
    "ascending = 2 4 5\n",
    "descending = 5 4 2 "
   ]
  },
  {
   "cell_type": "code",
   "execution_count": 117,
   "id": "0d90dd7e-7e4d-4b53-8a95-a62ce167b507",
   "metadata": {
    "tags": []
   },
   "outputs": [
    {
     "name": "stdout",
     "output_type": "stream",
     "text": [
      "[1, 2531, 5310, 21, 513]\n",
      "[1, 'mayank', 'python', True, 513]\n",
      "['a', 'b', 'c']\n"
     ]
    }
   ],
   "source": [
    "print(newList)\n",
    "print(newList2)\n",
    "print(mystringList)"
   ]
  },
  {
   "cell_type": "code",
   "execution_count": 118,
   "id": "9cce382b-6c77-4b28-848d-8e7fc0625b7e",
   "metadata": {
    "tags": []
   },
   "outputs": [
    {
     "data": {
      "text/plain": [
       "True"
      ]
     },
     "execution_count": 118,
     "metadata": {},
     "output_type": "execute_result"
    }
   ],
   "source": [
    "any(newList)"
   ]
  },
  {
   "cell_type": "code",
   "execution_count": 121,
   "id": "924b3e95-7cf3-4e0c-82ce-a55638f8cf8a",
   "metadata": {
    "tags": []
   },
   "outputs": [],
   "source": [
    "listtoexplainany = [0,0,0,False]"
   ]
  },
  {
   "cell_type": "code",
   "execution_count": null,
   "id": "3f404a71-2719-4465-9b62-0b90d6235316",
   "metadata": {},
   "outputs": [],
   "source": []
  },
  {
   "cell_type": "code",
   "execution_count": 122,
   "id": "5d3876b2-e250-46a8-a99e-a58a35eb3653",
   "metadata": {
    "tags": []
   },
   "outputs": [
    {
     "data": {
      "text/plain": [
       "False"
      ]
     },
     "execution_count": 122,
     "metadata": {},
     "output_type": "execute_result"
    }
   ],
   "source": [
    "any(listtoexplainany)\n",
    "\n",
    "\n",
    "# Return True if bool(x) is True for any x in the iterable."
   ]
  },
  {
   "cell_type": "code",
   "execution_count": 123,
   "id": "8d005d16-36fb-4b61-8120-c0ddb170f741",
   "metadata": {
    "tags": []
   },
   "outputs": [],
   "source": [
    "listtoexplainany = [0,0,0,1]"
   ]
  },
  {
   "cell_type": "code",
   "execution_count": 124,
   "id": "4ff775b4-e12a-4f30-a5fd-0f4ceaba4377",
   "metadata": {
    "tags": []
   },
   "outputs": [
    {
     "data": {
      "text/plain": [
       "True"
      ]
     },
     "execution_count": 124,
     "metadata": {},
     "output_type": "execute_result"
    }
   ],
   "source": [
    "any(listtoexplainany)"
   ]
  },
  {
   "cell_type": "code",
   "execution_count": 125,
   "id": "64df8895-1a3b-4c3f-b060-bee03ff060f0",
   "metadata": {
    "tags": []
   },
   "outputs": [
    {
     "data": {
      "text/plain": [
       "False"
      ]
     },
     "execution_count": 125,
     "metadata": {},
     "output_type": "execute_result"
    }
   ],
   "source": [
    "all(listtoexplainany)"
   ]
  },
  {
   "cell_type": "code",
   "execution_count": null,
   "id": "37f90b0e-317a-43aa-984a-57a411eaf09d",
   "metadata": {},
   "outputs": [],
   "source": []
  },
  {
   "cell_type": "code",
   "execution_count": null,
   "id": "df56a32b-f4e6-40be-8ba1-09a7a3a45acc",
   "metadata": {},
   "outputs": [],
   "source": []
  },
  {
   "cell_type": "code",
   "execution_count": null,
   "id": "2825668a-2c63-4850-a982-45bb3a212aa0",
   "metadata": {},
   "outputs": [],
   "source": []
  },
  {
   "cell_type": "code",
   "execution_count": 126,
   "id": "eb6839bd-b2eb-43f4-aa54-a475b7432ac7",
   "metadata": {
    "tags": []
   },
   "outputs": [],
   "source": [
    "list1 = [True,True,True,False]"
   ]
  },
  {
   "cell_type": "code",
   "execution_count": 127,
   "id": "07c44920-db3e-4c8b-b8c7-77a1085492ab",
   "metadata": {
    "tags": []
   },
   "outputs": [
    {
     "data": {
      "text/plain": [
       "True"
      ]
     },
     "execution_count": 127,
     "metadata": {},
     "output_type": "execute_result"
    }
   ],
   "source": [
    "any(list1)"
   ]
  },
  {
   "cell_type": "code",
   "execution_count": 128,
   "id": "f2557382-8a7d-4e3e-8b5b-230cc4b223d7",
   "metadata": {
    "tags": []
   },
   "outputs": [
    {
     "data": {
      "text/plain": [
       "False"
      ]
     },
     "execution_count": 128,
     "metadata": {},
     "output_type": "execute_result"
    }
   ],
   "source": [
    "all(list1)\n"
   ]
  },
  {
   "cell_type": "code",
   "execution_count": 129,
   "id": "8f2bfede-c2b1-4fa6-886b-26ae95b0b051",
   "metadata": {
    "tags": []
   },
   "outputs": [],
   "source": [
    "list2 = [-1,0,False]"
   ]
  },
  {
   "cell_type": "code",
   "execution_count": 130,
   "id": "c56a4d12-1361-401f-94fd-ac867724cf42",
   "metadata": {
    "tags": []
   },
   "outputs": [
    {
     "data": {
      "text/plain": [
       "True"
      ]
     },
     "execution_count": 130,
     "metadata": {},
     "output_type": "execute_result"
    }
   ],
   "source": [
    "any(list2)"
   ]
  },
  {
   "cell_type": "code",
   "execution_count": 131,
   "id": "60c15e9d-9f9f-4569-aacb-9c5272141e11",
   "metadata": {
    "tags": []
   },
   "outputs": [
    {
     "data": {
      "text/plain": [
       "False"
      ]
     },
     "execution_count": 131,
     "metadata": {},
     "output_type": "execute_result"
    }
   ],
   "source": [
    "all(list2)"
   ]
  },
  {
   "cell_type": "code",
   "execution_count": 132,
   "id": "2750d822-25bf-4fcd-82d8-8c547ae4ffd1",
   "metadata": {
    "tags": []
   },
   "outputs": [
    {
     "name": "stdout",
     "output_type": "stream",
     "text": [
      "[1, 2531, 5310, 21, 513]\n",
      "[1, 'mayank', 'python', True, 513]\n",
      "['a', 'b', 'c']\n"
     ]
    }
   ],
   "source": [
    "print(newList)\n",
    "print(newList2)\n",
    "print(mystringList)"
   ]
  },
  {
   "cell_type": "code",
   "execution_count": 133,
   "id": "72218934-f0c0-48c1-9cef-75952653f2b7",
   "metadata": {
    "tags": []
   },
   "outputs": [
    {
     "name": "stdout",
     "output_type": "stream",
     "text": [
      "True\n",
      "True\n",
      "True\n"
     ]
    }
   ],
   "source": [
    "print(any(newList))\n",
    "print(any(newList2))\n",
    "print(any(mystringList))"
   ]
  },
  {
   "cell_type": "code",
   "execution_count": null,
   "id": "5f0ed19f-0285-455b-8690-3a5d4fda4e00",
   "metadata": {},
   "outputs": [],
   "source": []
  },
  {
   "cell_type": "code",
   "execution_count": null,
   "id": "a7fbce88-ee01-4cf7-afa9-3b37a065e721",
   "metadata": {},
   "outputs": [],
   "source": []
  },
  {
   "cell_type": "code",
   "execution_count": null,
   "id": "826cc707-d6bc-4ba0-b546-2f7a327bcf0c",
   "metadata": {},
   "outputs": [],
   "source": [
    "0 , 0.0 , None, 0+0j , [] False"
   ]
  },
  {
   "cell_type": "code",
   "execution_count": 135,
   "id": "1e92baa6-f8f7-49d1-bf0c-57bc902821ee",
   "metadata": {
    "tags": []
   },
   "outputs": [],
   "source": [
    "# suppose neither 1 and true nor 0 and false are present then?\n"
   ]
  },
  {
   "cell_type": "code",
   "execution_count": 136,
   "id": "5ba6df32-0b07-4d11-85be-52fcbf5ba54d",
   "metadata": {
    "tags": []
   },
   "outputs": [
    {
     "data": {
      "text/plain": [
       "True"
      ]
     },
     "execution_count": 136,
     "metadata": {},
     "output_type": "execute_result"
    }
   ],
   "source": [
    "bool(-1)"
   ]
  },
  {
   "cell_type": "code",
   "execution_count": null,
   "id": "43f38ee1-42ff-41c6-b473-709991cbed1a",
   "metadata": {},
   "outputs": [],
   "source": []
  },
  {
   "cell_type": "code",
   "execution_count": null,
   "id": "37b73136-dfbc-4322-afea-6226c5bf1161",
   "metadata": {},
   "outputs": [],
   "source": [
    "# It is actually sorting the characters in a string.\n",
    "# a = 'mayank'\n",
    "# sorted(a) => ['a','a','k','m','n','y']\n",
    "sorted()"
   ]
  },
  {
   "cell_type": "code",
   "execution_count": null,
   "id": "6b77ce79-70e7-467e-9244-abd058d5b97e",
   "metadata": {},
   "outputs": [],
   "source": [
    "# List Concatenation"
   ]
  },
  {
   "cell_type": "code",
   "execution_count": 143,
   "id": "948971b1-2035-4078-b2c3-febbd166aef5",
   "metadata": {
    "tags": []
   },
   "outputs": [],
   "source": [
    "l1 = ['a','b','c']"
   ]
  },
  {
   "cell_type": "code",
   "execution_count": 144,
   "id": "b7af3a6e-32ad-4493-a634-26f9c7c31578",
   "metadata": {
    "tags": []
   },
   "outputs": [],
   "source": [
    "l2 = ['d','e','f'] "
   ]
  },
  {
   "cell_type": "code",
   "execution_count": 145,
   "id": "81fffed0-54fb-4cb9-8b67-584137d9a693",
   "metadata": {
    "tags": []
   },
   "outputs": [
    {
     "data": {
      "text/plain": [
       "['a', 'b', 'c', 'd', 'e', 'f']"
      ]
     },
     "execution_count": 145,
     "metadata": {},
     "output_type": "execute_result"
    }
   ],
   "source": [
    "l1+l2"
   ]
  },
  {
   "cell_type": "code",
   "execution_count": 146,
   "id": "d36ae904-3b66-48c1-afaa-bec64405a5b4",
   "metadata": {
    "tags": []
   },
   "outputs": [
    {
     "data": {
      "text/plain": [
       "['a', 'b', 'c', 'a', 'b', 'c', 'a', 'b', 'c']"
      ]
     },
     "execution_count": 146,
     "metadata": {},
     "output_type": "execute_result"
    }
   ],
   "source": [
    "l1 * 3"
   ]
  },
  {
   "cell_type": "code",
   "execution_count": 147,
   "id": "a7a21715-44d1-4c22-94f1-b74b8f88b716",
   "metadata": {
    "tags": []
   },
   "outputs": [
    {
     "ename": "TypeError",
     "evalue": "can only concatenate list (not \"int\") to list",
     "output_type": "error",
     "traceback": [
      "\u001b[0;31m---------------------------------------------------------------------------\u001b[0m",
      "\u001b[0;31mTypeError\u001b[0m                                 Traceback (most recent call last)",
      "Cell \u001b[0;32mIn[147], line 1\u001b[0m\n\u001b[0;32m----> 1\u001b[0m l1 \u001b[38;5;241m+\u001b[39m\u001b[38;5;241m3\u001b[39m\n",
      "\u001b[0;31mTypeError\u001b[0m: can only concatenate list (not \"int\") to list"
     ]
    }
   ],
   "source": [
    "l1 +3"
   ]
  },
  {
   "cell_type": "code",
   "execution_count": 148,
   "id": "07b2b17a-22de-45c2-9f3c-ec0cf86adbfd",
   "metadata": {
    "tags": []
   },
   "outputs": [
    {
     "ename": "TypeError",
     "evalue": "unsupported operand type(s) for -: 'list' and 'int'",
     "output_type": "error",
     "traceback": [
      "\u001b[0;31m---------------------------------------------------------------------------\u001b[0m",
      "\u001b[0;31mTypeError\u001b[0m                                 Traceback (most recent call last)",
      "Cell \u001b[0;32mIn[148], line 1\u001b[0m\n\u001b[0;32m----> 1\u001b[0m l1\u001b[38;5;241m-\u001b[39m\u001b[38;5;241m3\u001b[39m\n",
      "\u001b[0;31mTypeError\u001b[0m: unsupported operand type(s) for -: 'list' and 'int'"
     ]
    }
   ],
   "source": [
    "l1-3"
   ]
  },
  {
   "cell_type": "code",
   "execution_count": 149,
   "id": "bf65e48f-3b84-4765-8148-aae47dde30fd",
   "metadata": {
    "tags": []
   },
   "outputs": [
    {
     "ename": "TypeError",
     "evalue": "unsupported operand type(s) for /: 'list' and 'int'",
     "output_type": "error",
     "traceback": [
      "\u001b[0;31m---------------------------------------------------------------------------\u001b[0m",
      "\u001b[0;31mTypeError\u001b[0m                                 Traceback (most recent call last)",
      "Cell \u001b[0;32mIn[149], line 1\u001b[0m\n\u001b[0;32m----> 1\u001b[0m l1\u001b[38;5;241m/\u001b[39m\u001b[38;5;241m3\u001b[39m\n",
      "\u001b[0;31mTypeError\u001b[0m: unsupported operand type(s) for /: 'list' and 'int'"
     ]
    }
   ],
   "source": [
    "l1/3"
   ]
  },
  {
   "cell_type": "code",
   "execution_count": 150,
   "id": "9ff935ed-6e86-4a57-9a82-3d60ed1b67b5",
   "metadata": {
    "tags": []
   },
   "outputs": [
    {
     "ename": "TypeError",
     "evalue": "can't multiply sequence by non-int of type 'list'",
     "output_type": "error",
     "traceback": [
      "\u001b[0;31m---------------------------------------------------------------------------\u001b[0m",
      "\u001b[0;31mTypeError\u001b[0m                                 Traceback (most recent call last)",
      "Cell \u001b[0;32mIn[150], line 1\u001b[0m\n\u001b[0;32m----> 1\u001b[0m l1\u001b[38;5;241m*\u001b[39ml2\n",
      "\u001b[0;31mTypeError\u001b[0m: can't multiply sequence by non-int of type 'list'"
     ]
    }
   ],
   "source": [
    "l1*l2"
   ]
  },
  {
   "cell_type": "code",
   "execution_count": 151,
   "id": "31816e6b-0315-4606-a914-f644bbe87cb8",
   "metadata": {
    "tags": []
   },
   "outputs": [
    {
     "ename": "TypeError",
     "evalue": "unsupported operand type(s) for -: 'list' and 'list'",
     "output_type": "error",
     "traceback": [
      "\u001b[0;31m---------------------------------------------------------------------------\u001b[0m",
      "\u001b[0;31mTypeError\u001b[0m                                 Traceback (most recent call last)",
      "Cell \u001b[0;32mIn[151], line 1\u001b[0m\n\u001b[0;32m----> 1\u001b[0m l1\u001b[38;5;241m-\u001b[39ml2\n",
      "\u001b[0;31mTypeError\u001b[0m: unsupported operand type(s) for -: 'list' and 'list'"
     ]
    }
   ],
   "source": [
    "l1-l2"
   ]
  },
  {
   "cell_type": "code",
   "execution_count": 152,
   "id": "d9d77615-211c-46c8-b31e-145a29eb851c",
   "metadata": {
    "tags": []
   },
   "outputs": [
    {
     "ename": "TypeError",
     "evalue": "unsupported operand type(s) for /: 'list' and 'list'",
     "output_type": "error",
     "traceback": [
      "\u001b[0;31m---------------------------------------------------------------------------\u001b[0m",
      "\u001b[0;31mTypeError\u001b[0m                                 Traceback (most recent call last)",
      "Cell \u001b[0;32mIn[152], line 1\u001b[0m\n\u001b[0;32m----> 1\u001b[0m l1\u001b[38;5;241m/\u001b[39ml2\n",
      "\u001b[0;31mTypeError\u001b[0m: unsupported operand type(s) for /: 'list' and 'list'"
     ]
    }
   ],
   "source": [
    "l1/l2"
   ]
  },
  {
   "cell_type": "code",
   "execution_count": 153,
   "id": "6c169728-08a1-44ac-bbbd-966749798df4",
   "metadata": {
    "tags": []
   },
   "outputs": [
    {
     "data": {
      "text/plain": [
       "['a', 'b', 'c', 'd', 'e', 'f']"
      ]
     },
     "execution_count": 153,
     "metadata": {},
     "output_type": "execute_result"
    }
   ],
   "source": [
    "l1+l2"
   ]
  },
  {
   "cell_type": "code",
   "execution_count": null,
   "id": "3de8042d-c5ae-463a-9482-44bb362c0d93",
   "metadata": {},
   "outputs": [],
   "source": []
  },
  {
   "cell_type": "code",
   "execution_count": null,
   "id": "bf0d8c81-8975-4e45-9048-c656971893e2",
   "metadata": {},
   "outputs": [],
   "source": []
  },
  {
   "cell_type": "markdown",
   "id": "7532f5f9-ae6e-468b-9975-3d785de67ab8",
   "metadata": {},
   "source": [
    "# List methods"
   ]
  },
  {
   "cell_type": "code",
   "execution_count": null,
   "id": "dacd69ef-e4ad-4523-bf32-4fe4864d8dd4",
   "metadata": {},
   "outputs": [],
   "source": [
    "1. Append()\n",
    "2. extend()\n",
    "3. Insert()\n",
    "4. index()\n",
    "5. count()\n",
    "6. Remove()\n",
    "7. pop()\n",
    "8. clear()\n",
    "9. reverse()\n",
    "10. sort()\n",
    "11. Copy()"
   ]
  },
  {
   "cell_type": "code",
   "execution_count": 154,
   "id": "8975f32f-4274-45cd-894e-11273e5d108c",
   "metadata": {
    "tags": []
   },
   "outputs": [
    {
     "data": {
      "text/plain": [
       "['a', 'b', 'c']"
      ]
     },
     "execution_count": 154,
     "metadata": {},
     "output_type": "execute_result"
    }
   ],
   "source": [
    "l1."
   ]
  },
  {
   "cell_type": "markdown",
   "id": "50e13140-485c-4720-ba5d-f6efb5c36b4f",
   "metadata": {
    "tags": []
   },
   "source": [
    "# append"
   ]
  },
  {
   "cell_type": "code",
   "execution_count": 155,
   "id": "bcaa673d-18e7-41f9-bc56-5105ec8f109f",
   "metadata": {
    "tags": []
   },
   "outputs": [],
   "source": [
    "l1.append('d')"
   ]
  },
  {
   "cell_type": "code",
   "execution_count": 156,
   "id": "098fbe4c-1e77-4269-abb5-d2339b5e7048",
   "metadata": {
    "tags": []
   },
   "outputs": [
    {
     "data": {
      "text/plain": [
       "['a', 'b', 'c', 'd']"
      ]
     },
     "execution_count": 156,
     "metadata": {},
     "output_type": "execute_result"
    }
   ],
   "source": [
    "l1"
   ]
  },
  {
   "cell_type": "markdown",
   "id": "fb83d99e-7fe8-46fc-afb8-787a309f0938",
   "metadata": {},
   "source": [
    "# extend"
   ]
  },
  {
   "cell_type": "code",
   "execution_count": 159,
   "id": "ceafcf5c-1e4b-4e6f-9f57-f3efb33c28a4",
   "metadata": {
    "tags": []
   },
   "outputs": [],
   "source": [
    "l1.extend(l2)"
   ]
  },
  {
   "cell_type": "code",
   "execution_count": 160,
   "id": "a805330a-3bd1-4d10-8a5a-8d7e131be537",
   "metadata": {
    "tags": []
   },
   "outputs": [
    {
     "data": {
      "text/plain": [
       "['a', 'b', 'c', 'd', 'd', 'e', 'f']"
      ]
     },
     "execution_count": 160,
     "metadata": {},
     "output_type": "execute_result"
    }
   ],
   "source": [
    "l1"
   ]
  },
  {
   "cell_type": "code",
   "execution_count": 161,
   "id": "e8283f45-40da-48f2-a75a-c1f2b6407bdd",
   "metadata": {
    "tags": []
   },
   "outputs": [],
   "source": [
    "l2.extend('may')"
   ]
  },
  {
   "cell_type": "code",
   "execution_count": 162,
   "id": "4e578ddf-51ca-4d8a-b57d-b5d5cedd19c5",
   "metadata": {
    "tags": []
   },
   "outputs": [
    {
     "data": {
      "text/plain": [
       "['d', 'e', 'f', 'm', 'a', 'y']"
      ]
     },
     "execution_count": 162,
     "metadata": {},
     "output_type": "execute_result"
    }
   ],
   "source": [
    "l2"
   ]
  },
  {
   "cell_type": "code",
   "execution_count": 163,
   "id": "d164ba42-3584-4eb7-8c0b-07e18d364d33",
   "metadata": {
    "tags": []
   },
   "outputs": [],
   "source": [
    "l2.extend([1,2,3])"
   ]
  },
  {
   "cell_type": "code",
   "execution_count": 165,
   "id": "407227d5-8710-4b6a-89b7-84fc0bcf5dea",
   "metadata": {
    "tags": []
   },
   "outputs": [
    {
     "data": {
      "text/plain": [
       "['d', 'e', 'f', 'm', 'a', 'y', 1, 2, 3]"
      ]
     },
     "execution_count": 165,
     "metadata": {},
     "output_type": "execute_result"
    }
   ],
   "source": [
    "l2"
   ]
  },
  {
   "cell_type": "code",
   "execution_count": 167,
   "id": "9e012984-6456-45e1-9297-e1fbe2f7d295",
   "metadata": {
    "tags": []
   },
   "outputs": [
    {
     "ename": "TypeError",
     "evalue": "can only concatenate list (not \"str\") to list",
     "output_type": "error",
     "traceback": [
      "\u001b[0;31m---------------------------------------------------------------------------\u001b[0m",
      "\u001b[0;31mTypeError\u001b[0m                                 Traceback (most recent call last)",
      "Cell \u001b[0;32mIn[167], line 1\u001b[0m\n\u001b[0;32m----> 1\u001b[0m l2 \u001b[38;5;241m+\u001b[39m \u001b[38;5;124m'\u001b[39m\u001b[38;5;124mmay\u001b[39m\u001b[38;5;124m'\u001b[39m\n",
      "\u001b[0;31mTypeError\u001b[0m: can only concatenate list (not \"str\") to list"
     ]
    }
   ],
   "source": [
    "l2 + 'may'"
   ]
  },
  {
   "cell_type": "code",
   "execution_count": 170,
   "id": "86dd868d-788c-47ce-968a-2bab87afa2f7",
   "metadata": {
    "tags": []
   },
   "outputs": [],
   "source": [
    "l3 = list('9999999999')"
   ]
  },
  {
   "cell_type": "code",
   "execution_count": 198,
   "id": "b8b65e75-0a04-48d0-85b6-17f8c6033ec5",
   "metadata": {
    "tags": []
   },
   "outputs": [],
   "source": [
    "l3.extend(l1)"
   ]
  },
  {
   "cell_type": "code",
   "execution_count": 172,
   "id": "3aedbca2-13bb-4733-9009-d3a4ffb5fd91",
   "metadata": {
    "tags": []
   },
   "outputs": [
    {
     "data": {
      "text/plain": [
       "['9', '9', '9', '9', '9', '9', '9', '9', '9', '9', '0', '0', '0']"
      ]
     },
     "execution_count": 172,
     "metadata": {},
     "output_type": "execute_result"
    }
   ],
   "source": [
    "l3"
   ]
  },
  {
   "cell_type": "markdown",
   "id": "8aaa6be9-1ec2-4516-8afa-9316d0fa41c9",
   "metadata": {},
   "source": [
    "# Insert"
   ]
  },
  {
   "cell_type": "code",
   "execution_count": 185,
   "id": "cd95c3d7-361c-4580-adf5-c67dd3bd87b5",
   "metadata": {
    "tags": []
   },
   "outputs": [],
   "source": [
    "l1 = ['a','b','c']"
   ]
  },
  {
   "cell_type": "code",
   "execution_count": 186,
   "id": "aff57b41-9d7e-4403-a369-10be6051a7e7",
   "metadata": {
    "tags": []
   },
   "outputs": [],
   "source": [
    "l1.insert(2,'d')"
   ]
  },
  {
   "cell_type": "code",
   "execution_count": 187,
   "id": "889e78bc-9966-4e3c-89d3-4ca81c3eb201",
   "metadata": {
    "tags": []
   },
   "outputs": [
    {
     "data": {
      "text/plain": [
       "['a', 'b', 'd', 'c']"
      ]
     },
     "execution_count": 187,
     "metadata": {},
     "output_type": "execute_result"
    }
   ],
   "source": [
    "l1"
   ]
  },
  {
   "cell_type": "code",
   "execution_count": 188,
   "id": "4366e30c-9873-499c-8f49-7f1f1862f0a3",
   "metadata": {
    "tags": []
   },
   "outputs": [],
   "source": [
    "l1.insert(1,'e')"
   ]
  },
  {
   "cell_type": "code",
   "execution_count": 189,
   "id": "8a680d73-f3a9-4869-a13e-5fcad1f4be45",
   "metadata": {
    "tags": []
   },
   "outputs": [
    {
     "data": {
      "text/plain": [
       "['a', 'e', 'b', 'd', 'c']"
      ]
     },
     "execution_count": 189,
     "metadata": {},
     "output_type": "execute_result"
    }
   ],
   "source": [
    "l1"
   ]
  },
  {
   "cell_type": "code",
   "execution_count": 190,
   "id": "f6a16c81-7919-4f41-a1e5-232230c6c6a2",
   "metadata": {
    "tags": []
   },
   "outputs": [],
   "source": [
    "# if we are giving beyond index, it adds to the end.\n",
    "l1.insert(100,'f')"
   ]
  },
  {
   "cell_type": "code",
   "execution_count": 191,
   "id": "22b90f69-edd6-4748-b642-035cbefbc7b5",
   "metadata": {
    "tags": []
   },
   "outputs": [
    {
     "data": {
      "text/plain": [
       "['a', 'e', 'b', 'd', 'c', 'f']"
      ]
     },
     "execution_count": 191,
     "metadata": {},
     "output_type": "execute_result"
    }
   ],
   "source": [
    "l1"
   ]
  },
  {
   "cell_type": "code",
   "execution_count": 192,
   "id": "746a49da-5cf2-437d-a23b-b410578d25f8",
   "metadata": {
    "tags": []
   },
   "outputs": [],
   "source": [
    "l1.insert(99,'abc')"
   ]
  },
  {
   "cell_type": "code",
   "execution_count": 193,
   "id": "4bb7894b-d806-4203-bc16-3bd93e6a9d1f",
   "metadata": {
    "tags": []
   },
   "outputs": [
    {
     "data": {
      "text/plain": [
       "['a', 'e', 'b', 'd', 'c', 'f', 'abc']"
      ]
     },
     "execution_count": 193,
     "metadata": {},
     "output_type": "execute_result"
    }
   ],
   "source": [
    "l1"
   ]
  },
  {
   "cell_type": "code",
   "execution_count": 194,
   "id": "ad15966a-9847-4335-ad0a-d29f63743396",
   "metadata": {
    "tags": []
   },
   "outputs": [],
   "source": [
    "l1.insert(3,'def')"
   ]
  },
  {
   "cell_type": "markdown",
   "id": "3b79a868-359c-4b00-9219-e605eedcbddc",
   "metadata": {},
   "source": [
    "# index"
   ]
  },
  {
   "cell_type": "code",
   "execution_count": 195,
   "id": "24fca4c6-93c7-42f2-bfe5-01487297d1fc",
   "metadata": {
    "tags": []
   },
   "outputs": [
    {
     "data": {
      "text/plain": [
       "['a', 'e', 'b', 'def', 'd', 'c', 'f', 'abc']"
      ]
     },
     "execution_count": 195,
     "metadata": {},
     "output_type": "execute_result"
    }
   ],
   "source": [
    "l1"
   ]
  },
  {
   "cell_type": "code",
   "execution_count": 199,
   "id": "839fb156-989e-45aa-a179-c5ffb77a4780",
   "metadata": {
    "tags": []
   },
   "outputs": [],
   "source": [
    "l4 = [1,2,3,2,1,6]"
   ]
  },
  {
   "cell_type": "code",
   "execution_count": 200,
   "id": "40fb0b47-2968-48e1-970f-80ef0490b492",
   "metadata": {
    "tags": []
   },
   "outputs": [
    {
     "data": {
      "text/plain": [
       "1"
      ]
     },
     "execution_count": 200,
     "metadata": {},
     "output_type": "execute_result"
    }
   ],
   "source": [
    "l4.index(2)\n"
   ]
  },
  {
   "cell_type": "markdown",
   "id": "6d9e3621-1587-480d-945d-302fab564bc8",
   "metadata": {
    "tags": []
   },
   "source": [
    "append - add the object value  at the end\n",
    "extend - will place the iterable value at the end, will throw error if a non iterable value passed. \n",
    "insert - will place the value in the index defined. \n",
    "       - even if the index passed while inserting is out of range python does not throw error but will add the value at the end."
   ]
  },
  {
   "cell_type": "markdown",
   "id": "3dbd86ad-4114-48b9-89d6-79d6991189f8",
   "metadata": {
    "tags": []
   },
   "source": [
    "# Count"
   ]
  },
  {
   "cell_type": "code",
   "execution_count": 205,
   "id": "f7c4e593-aeee-46c9-b261-5cf5ab869ac0",
   "metadata": {
    "tags": []
   },
   "outputs": [
    {
     "data": {
      "text/plain": [
       "2"
      ]
     },
     "execution_count": 205,
     "metadata": {},
     "output_type": "execute_result"
    }
   ],
   "source": [
    "l4.count(1)"
   ]
  },
  {
   "cell_type": "code",
   "execution_count": 206,
   "id": "d17cfb1e-8b54-4d05-a568-1e66534f15b3",
   "metadata": {
    "tags": []
   },
   "outputs": [
    {
     "data": {
      "text/plain": [
       "0"
      ]
     },
     "execution_count": 206,
     "metadata": {},
     "output_type": "execute_result"
    }
   ],
   "source": [
    "l4.count(5)"
   ]
  },
  {
   "cell_type": "markdown",
   "id": "41065d31-f9f7-4477-9c47-4f46572088e9",
   "metadata": {},
   "source": [
    "# Remove"
   ]
  },
  {
   "cell_type": "code",
   "execution_count": 207,
   "id": "839c8aec-3266-4b12-88dd-51128daabac7",
   "metadata": {
    "tags": []
   },
   "outputs": [
    {
     "data": {
      "text/plain": [
       "[2, 3, 2, 1, 6]"
      ]
     },
     "execution_count": 207,
     "metadata": {},
     "output_type": "execute_result"
    }
   ],
   "source": [
    "l4.remove(1) # 23216 or 2326\n",
    "l4"
   ]
  },
  {
   "cell_type": "code",
   "execution_count": 211,
   "id": "1d40b64b-4300-49b2-9e6f-4cdfb0791eca",
   "metadata": {
    "tags": []
   },
   "outputs": [
    {
     "ename": "ValueError",
     "evalue": "list.remove(x): x not in list",
     "output_type": "error",
     "traceback": [
      "\u001b[0;31m---------------------------------------------------------------------------\u001b[0m",
      "\u001b[0;31mValueError\u001b[0m                                Traceback (most recent call last)",
      "Cell \u001b[0;32mIn[211], line 1\u001b[0m\n\u001b[0;32m----> 1\u001b[0m l4\u001b[38;5;241m.\u001b[39mremove(\u001b[38;5;241m5\u001b[39m)\n",
      "\u001b[0;31mValueError\u001b[0m: list.remove(x): x not in list"
     ]
    }
   ],
   "source": [
    "l4.remove(5)"
   ]
  },
  {
   "cell_type": "markdown",
   "id": "2c85d01e-d149-4ed7-a126-6f387724c491",
   "metadata": {},
   "source": [
    "### WAP to remove all occurence of 1 from the below list, don't create new list \n",
    "\n",
    "# givenList = [1,4,6,2,1,2,1,5,1,54,1,6]"
   ]
  },
  {
   "cell_type": "code",
   "execution_count": 224,
   "id": "0d2fe679-0707-4e36-8b1d-7891911880c7",
   "metadata": {
    "tags": []
   },
   "outputs": [],
   "source": [
    "givenList = [1,4,6,2,1,2,1,5,1,54,1,6]"
   ]
  },
  {
   "cell_type": "code",
   "execution_count": 219,
   "id": "e5c998dc-1877-44a7-b1fe-eb81e3737190",
   "metadata": {
    "tags": []
   },
   "outputs": [
    {
     "data": {
      "text/plain": [
       "[4, 6, 2, 2, 5, 54, 6]"
      ]
     },
     "execution_count": 219,
     "metadata": {},
     "output_type": "execute_result"
    }
   ],
   "source": [
    "c1 = givenList.count(1)\n",
    "for i in range(c1):\n",
    "    givenList.remove(1)\n",
    "givenList"
   ]
  },
  {
   "cell_type": "code",
   "execution_count": 221,
   "id": "3c779dd9-8fc8-4e40-a74c-b5390a3862be",
   "metadata": {
    "tags": []
   },
   "outputs": [
    {
     "name": "stdin",
     "output_type": "stream",
     "text": [
      " 1 4 6 1 1 13 1 5 1 125\n"
     ]
    },
    {
     "name": "stdout",
     "output_type": "stream",
     "text": [
      "[4, 6, 13, 5, 1, 125]\n"
     ]
    }
   ],
   "source": [
    "l = list(map(int,input().split()))\n",
    "for i in l:\n",
    "    if i == 1:\n",
    "        l.remove(i)\n",
    "print(l)"
   ]
  },
  {
   "cell_type": "code",
   "execution_count": 214,
   "id": "b509eb8c-ddc5-4d20-b3bd-c984c482738c",
   "metadata": {
    "tags": []
   },
   "outputs": [
    {
     "name": "stdout",
     "output_type": "stream",
     "text": [
      "[4, 6, 2, 2, 5, 54, 6]\n"
     ]
    }
   ],
   "source": [
    "\n",
    "for i in givenList:\n",
    "    if i == 1:\n",
    "        givenList.remove(i)\n",
    "print(givenList)"
   ]
  },
  {
   "cell_type": "code",
   "execution_count": 216,
   "id": "d25274fe-c78c-4cd3-aa9b-fcd83a9a6012",
   "metadata": {
    "tags": []
   },
   "outputs": [],
   "source": [
    "while givenList.count(1) !=0:\n",
    "    givenList.remove(1)"
   ]
  },
  {
   "cell_type": "code",
   "execution_count": 217,
   "id": "a09b7d25-5e5b-4be5-a9e8-3a2c53de0aa1",
   "metadata": {
    "tags": []
   },
   "outputs": [
    {
     "data": {
      "text/plain": [
       "[4, 6, 2, 2, 5, 54, 6]"
      ]
     },
     "execution_count": 217,
     "metadata": {},
     "output_type": "execute_result"
    }
   ],
   "source": [
    "givenList"
   ]
  },
  {
   "cell_type": "code",
   "execution_count": null,
   "id": "730e94bd-87de-4607-9e6d-3f740a9e88dc",
   "metadata": {},
   "outputs": [],
   "source": []
  },
  {
   "cell_type": "code",
   "execution_count": 225,
   "id": "87b59b35-d8f0-47d3-88ff-868af0a9d460",
   "metadata": {
    "tags": []
   },
   "outputs": [],
   "source": [
    "while 1 in givenList:\n",
    "    givenList.remove(1)"
   ]
  },
  {
   "cell_type": "code",
   "execution_count": 226,
   "id": "a235e5d5-8de4-4a07-8dd1-3ece5c0afb14",
   "metadata": {
    "tags": []
   },
   "outputs": [
    {
     "data": {
      "text/plain": [
       "[4, 6, 2, 2, 5, 54, 6]"
      ]
     },
     "execution_count": 226,
     "metadata": {},
     "output_type": "execute_result"
    }
   ],
   "source": [
    "givenList"
   ]
  },
  {
   "cell_type": "code",
   "execution_count": null,
   "id": "4f9169f8-69e3-458f-bfb7-347a71af1e41",
   "metadata": {},
   "outputs": [],
   "source": []
  },
  {
   "cell_type": "code",
   "execution_count": 227,
   "id": "3c906e8f-a713-4c5b-aff5-291e0105172f",
   "metadata": {
    "tags": []
   },
   "outputs": [
    {
     "data": {
      "text/plain": [
       "[4, 6, 2, 2, 5, 54, 6]"
      ]
     },
     "execution_count": 227,
     "metadata": {},
     "output_type": "execute_result"
    }
   ],
   "source": [
    "givenList"
   ]
  },
  {
   "cell_type": "code",
   "execution_count": 228,
   "id": "b016ecfc-05b3-4ab5-8fa6-61dabd83a45e",
   "metadata": {
    "tags": []
   },
   "outputs": [],
   "source": [
    "givenList.remove(2)"
   ]
  },
  {
   "cell_type": "code",
   "execution_count": 229,
   "id": "670eb010-d5b6-4a68-a2d6-b5047e3e4c6e",
   "metadata": {
    "tags": []
   },
   "outputs": [
    {
     "data": {
      "text/plain": [
       "[4, 6, 2, 5, 54, 6]"
      ]
     },
     "execution_count": 229,
     "metadata": {},
     "output_type": "execute_result"
    }
   ],
   "source": [
    "givenList"
   ]
  },
  {
   "cell_type": "markdown",
   "id": "1a7bae3d-94f6-4d0e-95d6-fad960356e15",
   "metadata": {},
   "source": [
    "# pop"
   ]
  },
  {
   "cell_type": "code",
   "execution_count": 231,
   "id": "c6f22b72-e8ed-4714-9895-c70f0aff2019",
   "metadata": {
    "tags": []
   },
   "outputs": [
    {
     "data": {
      "text/plain": [
       "[4, 6, 5, 54, 6]"
      ]
     },
     "execution_count": 231,
     "metadata": {},
     "output_type": "execute_result"
    }
   ],
   "source": [
    "givenList"
   ]
  },
  {
   "cell_type": "code",
   "execution_count": 232,
   "id": "2894a729-488f-488a-ae79-51708aff4d22",
   "metadata": {
    "tags": []
   },
   "outputs": [
    {
     "data": {
      "text/plain": [
       "5"
      ]
     },
     "execution_count": 232,
     "metadata": {},
     "output_type": "execute_result"
    }
   ],
   "source": [
    "givenList[2]"
   ]
  },
  {
   "cell_type": "code",
   "execution_count": 234,
   "id": "6fbd62b7-87e6-4a48-b2d4-cb99accec7c4",
   "metadata": {
    "tags": []
   },
   "outputs": [
    {
     "data": {
      "text/plain": [
       "6"
      ]
     },
     "execution_count": 234,
     "metadata": {},
     "output_type": "execute_result"
    }
   ],
   "source": [
    "# Remove and return item at index (default last)\n",
    "givenList.pop()"
   ]
  },
  {
   "cell_type": "code",
   "execution_count": 235,
   "id": "65c0107e-96fa-495f-a06c-0c6e13db2d35",
   "metadata": {
    "tags": []
   },
   "outputs": [
    {
     "data": {
      "text/plain": [
       "[4, 6, 5, 54]"
      ]
     },
     "execution_count": 235,
     "metadata": {},
     "output_type": "execute_result"
    }
   ],
   "source": [
    "givenList"
   ]
  },
  {
   "cell_type": "code",
   "execution_count": 236,
   "id": "5b886674-786d-4ded-afa9-9b2678df5b49",
   "metadata": {
    "tags": []
   },
   "outputs": [
    {
     "data": {
      "text/plain": [
       "4"
      ]
     },
     "execution_count": 236,
     "metadata": {},
     "output_type": "execute_result"
    }
   ],
   "source": [
    "givenList.pop(0)"
   ]
  },
  {
   "cell_type": "code",
   "execution_count": 237,
   "id": "5eb7b249-99a7-40f7-94be-cc7677c2a431",
   "metadata": {
    "tags": []
   },
   "outputs": [
    {
     "data": {
      "text/plain": [
       "[6, 5, 54]"
      ]
     },
     "execution_count": 237,
     "metadata": {},
     "output_type": "execute_result"
    }
   ],
   "source": [
    "givenList"
   ]
  },
  {
   "cell_type": "code",
   "execution_count": 238,
   "id": "effb909b-923e-4451-ba07-7943ab272664",
   "metadata": {
    "tags": []
   },
   "outputs": [
    {
     "data": {
      "text/plain": [
       "6"
      ]
     },
     "execution_count": 238,
     "metadata": {},
     "output_type": "execute_result"
    }
   ],
   "source": [
    "givenList.pop()\n",
    "givenList.pop()\n",
    "givenList.pop()"
   ]
  },
  {
   "cell_type": "code",
   "execution_count": 239,
   "id": "8a9d7150-235e-426a-9f2c-b2772f14c835",
   "metadata": {
    "tags": []
   },
   "outputs": [
    {
     "data": {
      "text/plain": [
       "[]"
      ]
     },
     "execution_count": 239,
     "metadata": {},
     "output_type": "execute_result"
    }
   ],
   "source": [
    "givenList"
   ]
  },
  {
   "cell_type": "code",
   "execution_count": 241,
   "id": "bd9063cf-16ab-42e0-9d2b-a351e775f9e0",
   "metadata": {
    "tags": []
   },
   "outputs": [
    {
     "data": {
      "text/plain": [
       "6"
      ]
     },
     "execution_count": 241,
     "metadata": {},
     "output_type": "execute_result"
    }
   ],
   "source": [
    "givenList.pop()"
   ]
  },
  {
   "cell_type": "code",
   "execution_count": 240,
   "id": "d6b9fbf1-d271-4831-90be-0ca532f43b6d",
   "metadata": {
    "tags": []
   },
   "outputs": [],
   "source": [
    "givenList = [1,2,3,4,5,6]"
   ]
  },
  {
   "cell_type": "code",
   "execution_count": 242,
   "id": "6b266349-944d-4fab-b4f9-2e522ea9b3bd",
   "metadata": {
    "tags": []
   },
   "outputs": [
    {
     "name": "stdout",
     "output_type": "stream",
     "text": [
      "5\n",
      "4\n",
      "3\n",
      "2\n",
      "1\n"
     ]
    }
   ],
   "source": [
    "while len(givenList)!=0:\n",
    "    print(givenList.pop())"
   ]
  },
  {
   "cell_type": "code",
   "execution_count": 244,
   "id": "8d4b710f-f438-433b-a46c-eb637bba167d",
   "metadata": {
    "tags": []
   },
   "outputs": [
    {
     "data": {
      "text/plain": [
       "[]"
      ]
     },
     "execution_count": 244,
     "metadata": {},
     "output_type": "execute_result"
    }
   ],
   "source": [
    "givenList"
   ]
  },
  {
   "cell_type": "code",
   "execution_count": 245,
   "id": "02ac5e6b-18e6-487e-a6e6-d2bebda92ff3",
   "metadata": {
    "tags": []
   },
   "outputs": [
    {
     "ename": "IndexError",
     "evalue": "pop from empty list",
     "output_type": "error",
     "traceback": [
      "\u001b[0;31m---------------------------------------------------------------------------\u001b[0m",
      "\u001b[0;31mIndexError\u001b[0m                                Traceback (most recent call last)",
      "Cell \u001b[0;32mIn[245], line 1\u001b[0m\n\u001b[0;32m----> 1\u001b[0m givenList\u001b[38;5;241m.\u001b[39mpop()\n",
      "\u001b[0;31mIndexError\u001b[0m: pop from empty list"
     ]
    }
   ],
   "source": [
    "givenList.pop()"
   ]
  },
  {
   "cell_type": "code",
   "execution_count": null,
   "id": "f3b5d4c0-e414-418c-b4d9-85765227f7e6",
   "metadata": {},
   "outputs": [],
   "source": []
  },
  {
   "cell_type": "code",
   "execution_count": 246,
   "id": "1866e4cf-3b32-49fd-8a2b-e654c2f55a43",
   "metadata": {
    "tags": []
   },
   "outputs": [],
   "source": [
    "givenList = [1,2,3,4,5,6]\n"
   ]
  },
  {
   "cell_type": "code",
   "execution_count": 247,
   "id": "01ed0408-0385-401b-9fea-5d459c288e7c",
   "metadata": {
    "tags": []
   },
   "outputs": [],
   "source": [
    "givenList.remove(1)"
   ]
  },
  {
   "cell_type": "code",
   "execution_count": 248,
   "id": "21733c6b-4026-4432-a66e-a2680e7d84a0",
   "metadata": {
    "tags": []
   },
   "outputs": [
    {
     "data": {
      "text/plain": [
       "[2, 3, 4, 5, 6]"
      ]
     },
     "execution_count": 248,
     "metadata": {},
     "output_type": "execute_result"
    }
   ],
   "source": [
    "givenList"
   ]
  },
  {
   "cell_type": "code",
   "execution_count": 249,
   "id": "fd98428c-d20d-4f0b-9c93-fa7f1b8f1800",
   "metadata": {
    "tags": []
   },
   "outputs": [
    {
     "data": {
      "text/plain": [
       "3"
      ]
     },
     "execution_count": 249,
     "metadata": {},
     "output_type": "execute_result"
    }
   ],
   "source": [
    "givenList.pop(1)"
   ]
  },
  {
   "cell_type": "code",
   "execution_count": 250,
   "id": "e1ba77e5-e8cc-4eff-b4a3-f5f6613bfa3c",
   "metadata": {
    "tags": []
   },
   "outputs": [
    {
     "data": {
      "text/plain": [
       "[2, 4, 5, 6]"
      ]
     },
     "execution_count": 250,
     "metadata": {},
     "output_type": "execute_result"
    }
   ],
   "source": [
    "givenList"
   ]
  },
  {
   "cell_type": "markdown",
   "id": "18814320-5701-4e1f-9b73-f5c80387c022",
   "metadata": {},
   "source": [
    "# remove work on value and pop on index"
   ]
  },
  {
   "cell_type": "code",
   "execution_count": null,
   "id": "1516822a-ab1c-4e84-9c3b-5694573aa4f7",
   "metadata": {},
   "outputs": [],
   "source": []
  },
  {
   "cell_type": "markdown",
   "id": "13730316-9ea1-4b43-b80a-270368ef8188",
   "metadata": {},
   "source": [
    "# Clear"
   ]
  },
  {
   "cell_type": "code",
   "execution_count": 253,
   "id": "36f337d9-4aa9-47c7-85d9-d5bd14b2c33f",
   "metadata": {
    "tags": []
   },
   "outputs": [],
   "source": [
    "givenList = [1,2,3,4,5,6]\n"
   ]
  },
  {
   "cell_type": "code",
   "execution_count": 254,
   "id": "c3093382-ac7a-4f1e-9b64-5efc58212052",
   "metadata": {
    "tags": []
   },
   "outputs": [],
   "source": [
    "givenList.clear()"
   ]
  },
  {
   "cell_type": "code",
   "execution_count": 255,
   "id": "84e6c19c-b7b8-47b1-b3fd-4c5a0a6ded4e",
   "metadata": {
    "tags": []
   },
   "outputs": [
    {
     "data": {
      "text/plain": [
       "[]"
      ]
     },
     "execution_count": 255,
     "metadata": {},
     "output_type": "execute_result"
    }
   ],
   "source": [
    "givenList"
   ]
  },
  {
   "cell_type": "code",
   "execution_count": 256,
   "id": "e5951ee7-df22-4ba6-8f2c-94df7f3e0055",
   "metadata": {
    "tags": []
   },
   "outputs": [],
   "source": [
    "del(givenList)"
   ]
  },
  {
   "cell_type": "code",
   "execution_count": 257,
   "id": "fee6afb8-b1fa-419e-a542-90db9b7f379c",
   "metadata": {
    "tags": []
   },
   "outputs": [
    {
     "ename": "NameError",
     "evalue": "name 'givenList' is not defined",
     "output_type": "error",
     "traceback": [
      "\u001b[0;31m---------------------------------------------------------------------------\u001b[0m",
      "\u001b[0;31mNameError\u001b[0m                                 Traceback (most recent call last)",
      "Cell \u001b[0;32mIn[257], line 1\u001b[0m\n\u001b[0;32m----> 1\u001b[0m givenList\n",
      "\u001b[0;31mNameError\u001b[0m: name 'givenList' is not defined"
     ]
    }
   ],
   "source": [
    "givenList"
   ]
  },
  {
   "cell_type": "markdown",
   "id": "fd7f762d-843a-4d78-8cdd-0a5149eba2f3",
   "metadata": {},
   "source": [
    "# delete the bag itself , clear empties the bag"
   ]
  },
  {
   "cell_type": "code",
   "execution_count": null,
   "id": "23731bbd-f06a-4dc3-8b96-67105612789a",
   "metadata": {},
   "outputs": [],
   "source": []
  },
  {
   "cell_type": "markdown",
   "id": "db4a22a1-dcab-4ec7-9d52-c590dd5413e1",
   "metadata": {
    "tags": []
   },
   "source": [
    "# reverse"
   ]
  },
  {
   "cell_type": "code",
   "execution_count": 263,
   "id": "8aeb3ad6-c6b1-48c4-95b9-8a2ef25474dc",
   "metadata": {
    "tags": []
   },
   "outputs": [],
   "source": [
    "givenList = [1,20,34,42,555,62]\n"
   ]
  },
  {
   "cell_type": "code",
   "execution_count": 264,
   "id": "ef1851bf-a9ae-4550-9a50-394cd76c1eba",
   "metadata": {
    "tags": []
   },
   "outputs": [],
   "source": [
    "givenList.reverse()"
   ]
  },
  {
   "cell_type": "code",
   "execution_count": 265,
   "id": "735c0aeb-e837-479b-8300-c6e040ed7ee9",
   "metadata": {
    "tags": []
   },
   "outputs": [
    {
     "data": {
      "text/plain": [
       "[62, 555, 42, 34, 20, 1]"
      ]
     },
     "execution_count": 265,
     "metadata": {},
     "output_type": "execute_result"
    }
   ],
   "source": [
    "givenList"
   ]
  },
  {
   "cell_type": "code",
   "execution_count": 266,
   "id": "ad485839-54b7-48ff-aa68-ff999c62cd5f",
   "metadata": {
    "tags": []
   },
   "outputs": [
    {
     "data": {
      "text/plain": [
       "[1, 20, 34, 42, 555, 62]"
      ]
     },
     "execution_count": 266,
     "metadata": {},
     "output_type": "execute_result"
    }
   ],
   "source": [
    "givenList[::-1] # Equivalent to reverse"
   ]
  },
  {
   "cell_type": "code",
   "execution_count": null,
   "id": "7abe83d4-bc42-4612-8887-fdb6daa9bed3",
   "metadata": {},
   "outputs": [],
   "source": []
  },
  {
   "cell_type": "markdown",
   "id": "25ac57bc-329a-4f72-80bf-7897f3dfe294",
   "metadata": {},
   "source": [
    "# sort"
   ]
  },
  {
   "cell_type": "code",
   "execution_count": null,
   "id": "1250900b-0876-49ae-8667-c01bb06fa20f",
   "metadata": {},
   "outputs": [],
   "source": []
  },
  {
   "cell_type": "code",
   "execution_count": 267,
   "id": "333664d9-7d1a-45d6-91ac-4fb183ccd2c7",
   "metadata": {
    "tags": []
   },
   "outputs": [
    {
     "data": {
      "text/plain": [
       "[62, 555, 42, 34, 20, 1]"
      ]
     },
     "execution_count": 267,
     "metadata": {},
     "output_type": "execute_result"
    }
   ],
   "source": [
    "givenList"
   ]
  },
  {
   "cell_type": "code",
   "execution_count": 268,
   "id": "3dd5d1df-1249-47ce-af99-9e5db23867e6",
   "metadata": {
    "tags": []
   },
   "outputs": [],
   "source": [
    "givenList.sort()"
   ]
  },
  {
   "cell_type": "code",
   "execution_count": 269,
   "id": "7ed69770-f91f-4f46-9566-e089164f1bb6",
   "metadata": {
    "tags": []
   },
   "outputs": [
    {
     "data": {
      "text/plain": [
       "[1, 20, 34, 42, 62, 555]"
      ]
     },
     "execution_count": 269,
     "metadata": {},
     "output_type": "execute_result"
    }
   ],
   "source": [
    "givenList"
   ]
  },
  {
   "cell_type": "code",
   "execution_count": 270,
   "id": "05d78764-60af-4d35-af1f-ac102bb2954a",
   "metadata": {
    "tags": []
   },
   "outputs": [],
   "source": [
    "givenList = [1,20,34,42,555,62]\n"
   ]
  },
  {
   "cell_type": "code",
   "execution_count": 272,
   "id": "5a132a7e-6cbd-4924-a07d-c90c1fe27c06",
   "metadata": {
    "tags": []
   },
   "outputs": [
    {
     "data": {
      "text/plain": [
       "[555, 62, 42, 34, 20, 1]"
      ]
     },
     "execution_count": 272,
     "metadata": {},
     "output_type": "execute_result"
    }
   ],
   "source": [
    "givenList"
   ]
  },
  {
   "cell_type": "code",
   "execution_count": null,
   "id": "a301d7f0-fd8e-4e5a-ba1d-b4f5b0fdd087",
   "metadata": {},
   "outputs": [],
   "source": []
  },
  {
   "cell_type": "markdown",
   "id": "54ead9a4-66b4-4307-9440-3fe8546090e0",
   "metadata": {},
   "source": [
    "# Copy"
   ]
  },
  {
   "cell_type": "code",
   "execution_count": 273,
   "id": "bf041c48-917e-49cc-b308-8b99e4e74f58",
   "metadata": {
    "tags": []
   },
   "outputs": [],
   "source": [
    "givenList = [1,20,34,42,555,62]\n"
   ]
  },
  {
   "cell_type": "code",
   "execution_count": 274,
   "id": "c8be1839-4630-4798-af6c-76dd7b7ca700",
   "metadata": {
    "tags": []
   },
   "outputs": [],
   "source": [
    "newGivenList = givenList.copy()"
   ]
  },
  {
   "cell_type": "code",
   "execution_count": 275,
   "id": "ecac567c-df17-4622-b727-49f63cf516d6",
   "metadata": {
    "tags": []
   },
   "outputs": [
    {
     "data": {
      "text/plain": [
       "[1, 20, 34, 42, 555, 62]"
      ]
     },
     "execution_count": 275,
     "metadata": {},
     "output_type": "execute_result"
    }
   ],
   "source": [
    "newGivenList\n"
   ]
  },
  {
   "cell_type": "code",
   "execution_count": 276,
   "id": "b3602cbc-59be-47d2-90b2-da9a6fa1c1c8",
   "metadata": {
    "tags": []
   },
   "outputs": [
    {
     "data": {
      "text/plain": [
       "4387216960"
      ]
     },
     "execution_count": 276,
     "metadata": {},
     "output_type": "execute_result"
    }
   ],
   "source": [
    "id(givenList)"
   ]
  },
  {
   "cell_type": "code",
   "execution_count": 277,
   "id": "70740167-6ff3-4563-a9a5-d83f09479246",
   "metadata": {
    "tags": []
   },
   "outputs": [
    {
     "data": {
      "text/plain": [
       "4387090560"
      ]
     },
     "execution_count": 277,
     "metadata": {},
     "output_type": "execute_result"
    }
   ],
   "source": [
    "id(newGivenList)"
   ]
  },
  {
   "cell_type": "markdown",
   "id": "be9f5fd8-5bf5-461a-ac09-37cba3caee9b",
   "metadata": {},
   "source": [
    "# Shallow Copy"
   ]
  },
  {
   "cell_type": "code",
   "execution_count": 278,
   "id": "b03e0ec9-aea0-43ab-8af1-e47f4cf04772",
   "metadata": {
    "tags": []
   },
   "outputs": [],
   "source": [
    "givenList = [1,20,34,42,555,62]\n"
   ]
  },
  {
   "cell_type": "code",
   "execution_count": 279,
   "id": "6d17387d-9fc8-46bf-ad6b-67396f5be2d8",
   "metadata": {
    "tags": []
   },
   "outputs": [],
   "source": [
    "shallowGivenList = givenList"
   ]
  },
  {
   "cell_type": "code",
   "execution_count": 280,
   "id": "b7675259-603b-43ae-9363-569756a2f69b",
   "metadata": {
    "tags": []
   },
   "outputs": [
    {
     "data": {
      "text/plain": [
       "[1, 20, 34, 42, 555, 62]"
      ]
     },
     "execution_count": 280,
     "metadata": {},
     "output_type": "execute_result"
    }
   ],
   "source": [
    "shallowGivenList"
   ]
  },
  {
   "cell_type": "code",
   "execution_count": 281,
   "id": "406153c3-1534-4bc6-aec0-7a3398e32537",
   "metadata": {
    "tags": []
   },
   "outputs": [
    {
     "data": {
      "text/plain": [
       "62"
      ]
     },
     "execution_count": 281,
     "metadata": {},
     "output_type": "execute_result"
    }
   ],
   "source": [
    "shallowGivenList.pop()"
   ]
  },
  {
   "cell_type": "code",
   "execution_count": 282,
   "id": "af40be7b-02c4-4765-abd6-5ff81ea653ec",
   "metadata": {
    "tags": []
   },
   "outputs": [
    {
     "data": {
      "text/plain": [
       "[1, 20, 34, 42, 555]"
      ]
     },
     "execution_count": 282,
     "metadata": {},
     "output_type": "execute_result"
    }
   ],
   "source": [
    "givenList"
   ]
  },
  {
   "cell_type": "code",
   "execution_count": 284,
   "id": "72f4f7c2-7a1a-4488-8974-1c6289f02d40",
   "metadata": {
    "tags": []
   },
   "outputs": [
    {
     "data": {
      "text/plain": [
       "4387139776"
      ]
     },
     "execution_count": 284,
     "metadata": {},
     "output_type": "execute_result"
    }
   ],
   "source": [
    "id(givenList)"
   ]
  },
  {
   "cell_type": "code",
   "execution_count": 285,
   "id": "bf5fe408-f782-41ca-9566-1911d0d4f88e",
   "metadata": {
    "tags": []
   },
   "outputs": [
    {
     "data": {
      "text/plain": [
       "4387139776"
      ]
     },
     "execution_count": 285,
     "metadata": {},
     "output_type": "execute_result"
    }
   ],
   "source": [
    "id(shallowGivenList)"
   ]
  },
  {
   "cell_type": "code",
   "execution_count": 283,
   "id": "e7f6dfff-a8f1-44f6-8fc8-3baece2f5c2e",
   "metadata": {
    "tags": []
   },
   "outputs": [],
   "source": [
    "# Homework : Deep Copy vs Shallow Copy"
   ]
  },
  {
   "cell_type": "code",
   "execution_count": null,
   "id": "eae9b5f7-12f4-4df6-967f-641cb7154985",
   "metadata": {},
   "outputs": [],
   "source": []
  },
  {
   "cell_type": "code",
   "execution_count": null,
   "id": "39dcd415-6ccf-441f-abd5-4a305ffc8949",
   "metadata": {},
   "outputs": [],
   "source": []
  },
  {
   "cell_type": "code",
   "execution_count": null,
   "id": "3371bc68-4e90-4c10-be9f-a0fec951d551",
   "metadata": {},
   "outputs": [],
   "source": []
  },
  {
   "cell_type": "code",
   "execution_count": 287,
   "id": "aeffa394-e5bd-4329-be98-f8b3d156fb1f",
   "metadata": {
    "tags": []
   },
   "outputs": [],
   "source": [
    "l1 = [1,2,4,6,2,1,5,2,1]"
   ]
  },
  {
   "cell_type": "code",
   "execution_count": 288,
   "id": "bef0400d-61b1-419c-bc4a-111fd966f815",
   "metadata": {
    "tags": []
   },
   "outputs": [
    {
     "data": {
      "text/plain": [
       "0"
      ]
     },
     "execution_count": 288,
     "metadata": {},
     "output_type": "execute_result"
    }
   ],
   "source": [
    "l1.index(1)"
   ]
  },
  {
   "cell_type": "code",
   "execution_count": 293,
   "id": "588c0a28-f3f9-4e5c-b179-a02ad71d636b",
   "metadata": {
    "tags": []
   },
   "outputs": [
    {
     "data": {
      "text/plain": [
       "8"
      ]
     },
     "execution_count": 293,
     "metadata": {},
     "output_type": "execute_result"
    }
   ],
   "source": [
    "l1.index(1,8)"
   ]
  },
  {
   "cell_type": "code",
   "execution_count": null,
   "id": "c139d5bb-a604-4267-aa8b-49b58564758b",
   "metadata": {},
   "outputs": [],
   "source": [
    "sorted"
   ]
  }
 ],
 "metadata": {
  "kernelspec": {
   "display_name": "Python 3 (ipykernel)",
   "language": "python",
   "name": "python3"
  },
  "language_info": {
   "codemirror_mode": {
    "name": "ipython",
    "version": 3
   },
   "file_extension": ".py",
   "mimetype": "text/x-python",
   "name": "python",
   "nbconvert_exporter": "python",
   "pygments_lexer": "ipython3",
   "version": "3.11.5"
  }
 },
 "nbformat": 4,
 "nbformat_minor": 5
}
