{
 "cells": [
  {
   "cell_type": "markdown",
   "id": "2cce6d2c-d9e1-4133-8a87-1fe4b6cd5731",
   "metadata": {},
   "source": [
    " # set Methods"
   ]
  },
  {
   "cell_type": "markdown",
   "id": "a10ce750-c4e4-41b0-b6c9-eb6c9538c71e",
   "metadata": {},
   "source": [
    "1. add()\n",
    "2. clear()\n",
    "3. copy()\n",
    "4. pop()\n",
    "5. remove()\n",
    "6. difference()\n",
    "7. Update()"
   ]
  },
  {
   "cell_type": "code",
   "execution_count": 1,
   "id": "c96ee5d5-11e2-41c4-9f9f-796091de12e9",
   "metadata": {
    "tags": []
   },
   "outputs": [],
   "source": [
    "s1 = {1,2,3}"
   ]
  },
  {
   "cell_type": "markdown",
   "id": "1c435b39-90d2-4c28-a180-f84dc2846851",
   "metadata": {},
   "source": [
    "# add"
   ]
  },
  {
   "cell_type": "code",
   "execution_count": 2,
   "id": "15356944-f05a-4dff-a719-83a4fa4d1f3d",
   "metadata": {
    "tags": []
   },
   "outputs": [],
   "source": [
    "s1.add(4)"
   ]
  },
  {
   "cell_type": "code",
   "execution_count": 3,
   "id": "8fd19add-855a-43cb-a0cf-bf9e6f752738",
   "metadata": {
    "tags": []
   },
   "outputs": [
    {
     "data": {
      "text/plain": [
       "{1, 2, 3, 4}"
      ]
     },
     "execution_count": 3,
     "metadata": {},
     "output_type": "execute_result"
    }
   ],
   "source": [
    "s1"
   ]
  },
  {
   "cell_type": "code",
   "execution_count": null,
   "id": "0f009670-c661-43f3-aa88-99cbf18f3286",
   "metadata": {},
   "outputs": [],
   "source": []
  },
  {
   "cell_type": "markdown",
   "id": "47f7565d-fdf9-4929-be3a-5d2495a80da4",
   "metadata": {},
   "source": [
    "# copy()"
   ]
  },
  {
   "cell_type": "code",
   "execution_count": 4,
   "id": "9907f998-5b8b-4da9-bb04-a2f36b471b92",
   "metadata": {
    "tags": []
   },
   "outputs": [],
   "source": [
    "s2 = s1.copy()"
   ]
  },
  {
   "cell_type": "code",
   "execution_count": 5,
   "id": "d6d1f380-e74a-4832-81ba-4b83456f58b4",
   "metadata": {
    "tags": []
   },
   "outputs": [
    {
     "data": {
      "text/plain": [
       "{1, 2, 3, 4}"
      ]
     },
     "execution_count": 5,
     "metadata": {},
     "output_type": "execute_result"
    }
   ],
   "source": [
    "s2"
   ]
  },
  {
   "cell_type": "code",
   "execution_count": 6,
   "id": "9e5b2e6b-a2d0-4a8f-99a9-d401d15511f9",
   "metadata": {
    "tags": []
   },
   "outputs": [
    {
     "data": {
      "text/plain": [
       "{1, 2, 3, 4}"
      ]
     },
     "execution_count": 6,
     "metadata": {},
     "output_type": "execute_result"
    }
   ],
   "source": [
    "s1"
   ]
  },
  {
   "cell_type": "code",
   "execution_count": 7,
   "id": "89d5eff3-8e74-40e0-9cce-b5d07a13a913",
   "metadata": {
    "tags": []
   },
   "outputs": [],
   "source": [
    "s1.add(5)"
   ]
  },
  {
   "cell_type": "code",
   "execution_count": 8,
   "id": "960cb66d-820e-4adb-bd5a-3ddd0ebaad3c",
   "metadata": {
    "tags": []
   },
   "outputs": [
    {
     "data": {
      "text/plain": [
       "{1, 2, 3, 4, 5}"
      ]
     },
     "execution_count": 8,
     "metadata": {},
     "output_type": "execute_result"
    }
   ],
   "source": [
    "s1"
   ]
  },
  {
   "cell_type": "code",
   "execution_count": 9,
   "id": "7ebacfee-156c-4da1-b827-d2a2d1c893a9",
   "metadata": {
    "tags": []
   },
   "outputs": [
    {
     "data": {
      "text/plain": [
       "{1, 2, 3, 4}"
      ]
     },
     "execution_count": 9,
     "metadata": {},
     "output_type": "execute_result"
    }
   ],
   "source": [
    "s2"
   ]
  },
  {
   "cell_type": "code",
   "execution_count": 10,
   "id": "7bd418e9-ec70-4e50-a4d2-deb0d74a8cf2",
   "metadata": {
    "tags": []
   },
   "outputs": [],
   "source": [
    "s2.add(6)"
   ]
  },
  {
   "cell_type": "code",
   "execution_count": 11,
   "id": "aef4496b-0ec0-4701-bf95-894eb986da8b",
   "metadata": {
    "tags": []
   },
   "outputs": [
    {
     "data": {
      "text/plain": [
       "{1, 2, 3, 4, 6}"
      ]
     },
     "execution_count": 11,
     "metadata": {},
     "output_type": "execute_result"
    }
   ],
   "source": [
    "s2"
   ]
  },
  {
   "cell_type": "code",
   "execution_count": 12,
   "id": "effcb769-74da-4013-ba8a-235ba6233976",
   "metadata": {
    "tags": []
   },
   "outputs": [
    {
     "data": {
      "text/plain": [
       "{1, 2, 3, 4, 5}"
      ]
     },
     "execution_count": 12,
     "metadata": {},
     "output_type": "execute_result"
    }
   ],
   "source": [
    "s1"
   ]
  },
  {
   "cell_type": "code",
   "execution_count": 13,
   "id": "2e46ce15-09b9-4a93-820b-d741271f73a3",
   "metadata": {
    "tags": []
   },
   "outputs": [
    {
     "name": "stdout",
     "output_type": "stream",
     "text": [
      "4314227928\n",
      "4314227960\n",
      "4314227992\n",
      "4314228024\n",
      "4314228056\n"
     ]
    }
   ],
   "source": [
    "for i in s1:\n",
    "    print(id(i))"
   ]
  },
  {
   "cell_type": "code",
   "execution_count": 14,
   "id": "9fd8e130-ad17-4ed1-b2f0-640bf889a153",
   "metadata": {
    "tags": []
   },
   "outputs": [
    {
     "name": "stdout",
     "output_type": "stream",
     "text": [
      "4314227928\n",
      "4314227960\n",
      "4314227992\n",
      "4314228024\n",
      "4314228088\n"
     ]
    }
   ],
   "source": [
    "for j in s2:\n",
    "    print(id(j))"
   ]
  },
  {
   "cell_type": "code",
   "execution_count": 15,
   "id": "940c3c16-cd9b-4540-b478-b6fb75b36184",
   "metadata": {
    "tags": []
   },
   "outputs": [
    {
     "data": {
      "text/plain": [
       "4369548896"
      ]
     },
     "execution_count": 15,
     "metadata": {},
     "output_type": "execute_result"
    }
   ],
   "source": [
    "id(s1)"
   ]
  },
  {
   "cell_type": "code",
   "execution_count": 16,
   "id": "2570bce7-d24a-4495-a556-2675d042f367",
   "metadata": {
    "tags": []
   },
   "outputs": [
    {
     "data": {
      "text/plain": [
       "4369549120"
      ]
     },
     "execution_count": 16,
     "metadata": {},
     "output_type": "execute_result"
    }
   ],
   "source": [
    "id(s2)"
   ]
  },
  {
   "cell_type": "code",
   "execution_count": 19,
   "id": "131b54d0-3ce5-42cd-ac84-d48d114496b5",
   "metadata": {
    "tags": []
   },
   "outputs": [
    {
     "ename": "TypeError",
     "evalue": "unhashable type: 'list'",
     "output_type": "error",
     "traceback": [
      "\u001b[0;31m---------------------------------------------------------------------------\u001b[0m",
      "\u001b[0;31mTypeError\u001b[0m                                 Traceback (most recent call last)",
      "Cell \u001b[0;32mIn[19], line 2\u001b[0m\n\u001b[1;32m      1\u001b[0m l1 \u001b[38;5;241m=\u001b[39m \u001b[38;5;28mlist\u001b[39m((\u001b[38;5;241m1\u001b[39m,\u001b[38;5;241m2\u001b[39m,\u001b[38;5;241m3\u001b[39m))\n\u001b[0;32m----> 2\u001b[0m s3 \u001b[38;5;241m=\u001b[39m {l1}\n",
      "\u001b[0;31mTypeError\u001b[0m: unhashable type: 'list'"
     ]
    }
   ],
   "source": []
  },
  {
   "cell_type": "code",
   "execution_count": null,
   "id": "763f9d79-3514-402e-821b-951e0a88eea7",
   "metadata": {},
   "outputs": [],
   "source": []
  },
  {
   "cell_type": "markdown",
   "id": "31a0a1a3-032a-4378-b0ad-90fef481468d",
   "metadata": {
    "tags": []
   },
   "source": [
    "# clear()"
   ]
  },
  {
   "cell_type": "code",
   "execution_count": 22,
   "id": "36141330-3d15-4245-aea1-9ac0fa80cc08",
   "metadata": {
    "tags": []
   },
   "outputs": [],
   "source": [
    "s1.clear()"
   ]
  },
  {
   "cell_type": "code",
   "execution_count": 23,
   "id": "2dae8681-dca8-432d-8aad-7e0b7697a2fb",
   "metadata": {
    "tags": []
   },
   "outputs": [
    {
     "data": {
      "text/plain": [
       "set()"
      ]
     },
     "execution_count": 23,
     "metadata": {},
     "output_type": "execute_result"
    }
   ],
   "source": [
    "s1"
   ]
  },
  {
   "cell_type": "code",
   "execution_count": null,
   "id": "e666c177-e7d4-4cb3-ab29-a4af93586cb1",
   "metadata": {},
   "outputs": [],
   "source": [
    "# del(s1)"
   ]
  },
  {
   "cell_type": "code",
   "execution_count": null,
   "id": "d62b933e-8a1e-4d72-a021-90cd9fad8c39",
   "metadata": {},
   "outputs": [],
   "source": []
  },
  {
   "cell_type": "markdown",
   "id": "2e7e444a-c06c-4165-8263-22fe818dac19",
   "metadata": {},
   "source": [
    "# pop()"
   ]
  },
  {
   "cell_type": "code",
   "execution_count": 30,
   "id": "d3d8aeaf-1013-4316-a1fb-d5dab552d1b3",
   "metadata": {
    "tags": []
   },
   "outputs": [],
   "source": [
    "s1 = {1,2,3}"
   ]
  },
  {
   "cell_type": "code",
   "execution_count": 28,
   "id": "bc1e815f-8c1b-457e-bd0f-b935a8bee3fd",
   "metadata": {
    "tags": []
   },
   "outputs": [
    {
     "data": {
      "text/plain": [
       "3"
      ]
     },
     "execution_count": 28,
     "metadata": {},
     "output_type": "execute_result"
    }
   ],
   "source": [
    "\n",
    "'''\n",
    "Docstring:\n",
    "Remove and return an arbitrary set element.\n",
    "Raises KeyError if the set is empty.\n",
    "\n",
    "Set don't have a sequence\n",
    "''' \n",
    "\n",
    "s1.pop()"
   ]
  },
  {
   "cell_type": "code",
   "execution_count": 35,
   "id": "7dd19f94-839e-4039-8052-2938eae42660",
   "metadata": {
    "tags": []
   },
   "outputs": [
    {
     "name": "stdout",
     "output_type": "stream",
     "text": [
      "1\n",
      "2\n"
     ]
    }
   ],
   "source": [
    "while (len(s1) !=0):\n",
    "    ele = s1.pop()\n",
    "    print(ele)"
   ]
  },
  {
   "cell_type": "code",
   "execution_count": 37,
   "id": "6c36a891-bf61-4dc1-81b0-6939314928cc",
   "metadata": {
    "tags": []
   },
   "outputs": [
    {
     "data": {
      "text/plain": [
       "0"
      ]
     },
     "execution_count": 37,
     "metadata": {},
     "output_type": "execute_result"
    }
   ],
   "source": [
    "len(s1)"
   ]
  },
  {
   "cell_type": "markdown",
   "id": "a06b78d8-4eb5-496b-b654-e34e26793c0f",
   "metadata": {},
   "source": [
    "# remove"
   ]
  },
  {
   "cell_type": "code",
   "execution_count": 31,
   "id": "ca6ef919-472e-423b-9f8e-2a07d06b60f3",
   "metadata": {
    "tags": []
   },
   "outputs": [
    {
     "data": {
      "text/plain": [
       "{1, 2, 3}"
      ]
     },
     "execution_count": 31,
     "metadata": {},
     "output_type": "execute_result"
    }
   ],
   "source": [
    "s1"
   ]
  },
  {
   "cell_type": "code",
   "execution_count": 32,
   "id": "29a47495-a852-4064-aad2-e2de9295f9a3",
   "metadata": {
    "tags": []
   },
   "outputs": [
    {
     "ename": "KeyError",
     "evalue": "12",
     "output_type": "error",
     "traceback": [
      "\u001b[0;31m---------------------------------------------------------------------------\u001b[0m",
      "\u001b[0;31mKeyError\u001b[0m                                  Traceback (most recent call last)",
      "Cell \u001b[0;32mIn[32], line 1\u001b[0m\n\u001b[0;32m----> 1\u001b[0m s1\u001b[38;5;241m.\u001b[39mremove(\u001b[38;5;241m12\u001b[39m)\n",
      "\u001b[0;31mKeyError\u001b[0m: 12"
     ]
    }
   ],
   "source": [
    "s1.remove(12)"
   ]
  },
  {
   "cell_type": "code",
   "execution_count": 33,
   "id": "ca1201a7-afbf-400a-89ae-72808ce98a89",
   "metadata": {
    "tags": []
   },
   "outputs": [],
   "source": [
    "s1.remove(3)"
   ]
  },
  {
   "cell_type": "code",
   "execution_count": 34,
   "id": "45c40560-2afa-436f-9d11-e6e83b01db06",
   "metadata": {
    "tags": []
   },
   "outputs": [
    {
     "data": {
      "text/plain": [
       "{1, 2}"
      ]
     },
     "execution_count": 34,
     "metadata": {},
     "output_type": "execute_result"
    }
   ],
   "source": [
    "s1"
   ]
  },
  {
   "cell_type": "code",
   "execution_count": null,
   "id": "08d7cb1b-d1ad-45f2-833d-0acf5d91ca79",
   "metadata": {},
   "outputs": [],
   "source": []
  },
  {
   "cell_type": "markdown",
   "id": "72cdbcde-e332-429d-a117-64127bb8898d",
   "metadata": {},
   "source": [
    "# difference"
   ]
  },
  {
   "cell_type": "code",
   "execution_count": 38,
   "id": "e1e615a7-ddf3-4577-9307-91405878f14a",
   "metadata": {
    "tags": []
   },
   "outputs": [],
   "source": [
    "s1 = {1,2,3}"
   ]
  },
  {
   "cell_type": "code",
   "execution_count": 39,
   "id": "28cf38df-d6e0-4436-91d1-4a1a980eaa3f",
   "metadata": {
    "tags": []
   },
   "outputs": [],
   "source": [
    "s2 = {2,3,4}"
   ]
  },
  {
   "cell_type": "code",
   "execution_count": 41,
   "id": "920c8c0a-102e-4f40-a05b-2abd285db3d9",
   "metadata": {
    "tags": []
   },
   "outputs": [
    {
     "data": {
      "text/plain": [
       "{1}"
      ]
     },
     "execution_count": 41,
     "metadata": {},
     "output_type": "execute_result"
    }
   ],
   "source": [
    "'''\n",
    "Return the difference of two or more sets as a new set.\n",
    "\n",
    "(i.e. all elements that are in this set but not the others.)\n",
    "'''\n",
    "\n",
    "\n",
    "s1.difference(s2)"
   ]
  },
  {
   "cell_type": "code",
   "execution_count": 42,
   "id": "adac71d3-eb9e-442b-b8b0-2e323f9202b0",
   "metadata": {
    "tags": []
   },
   "outputs": [],
   "source": [
    "s1.difference_update(s2)"
   ]
  },
  {
   "cell_type": "code",
   "execution_count": 43,
   "id": "639fab74-94c7-42d6-af3b-dbe05e788baf",
   "metadata": {
    "tags": []
   },
   "outputs": [
    {
     "data": {
      "text/plain": [
       "{1}"
      ]
     },
     "execution_count": 43,
     "metadata": {},
     "output_type": "execute_result"
    }
   ],
   "source": [
    "s1"
   ]
  },
  {
   "cell_type": "code",
   "execution_count": 44,
   "id": "1b091f77-8156-47ec-af28-9124b4db6fe0",
   "metadata": {
    "tags": []
   },
   "outputs": [],
   "source": [
    "s3 = {8,9,10}"
   ]
  },
  {
   "cell_type": "code",
   "execution_count": 45,
   "id": "4e663052-a56c-46e5-a522-4703c26c702d",
   "metadata": {
    "tags": []
   },
   "outputs": [],
   "source": [
    "s4 = {11,12,8,9}"
   ]
  },
  {
   "cell_type": "code",
   "execution_count": 46,
   "id": "8d994588-53a3-4ba0-b15c-8ea11b7cd883",
   "metadata": {
    "tags": []
   },
   "outputs": [],
   "source": [
    "s3.update(s4)"
   ]
  },
  {
   "cell_type": "code",
   "execution_count": 47,
   "id": "0c44b27c-087e-4ada-b70c-ea6c42e93d31",
   "metadata": {
    "tags": []
   },
   "outputs": [
    {
     "data": {
      "text/plain": [
       "{8, 9, 10, 11, 12}"
      ]
     },
     "execution_count": 47,
     "metadata": {},
     "output_type": "execute_result"
    }
   ],
   "source": [
    "s3"
   ]
  }
 ],
 "metadata": {
  "kernelspec": {
   "display_name": "Python 3 (ipykernel)",
   "language": "python",
   "name": "python3"
  },
  "language_info": {
   "codemirror_mode": {
    "name": "ipython",
    "version": 3
   },
   "file_extension": ".py",
   "mimetype": "text/x-python",
   "name": "python",
   "nbconvert_exporter": "python",
   "pygments_lexer": "ipython3",
   "version": "3.11.5"
  }
 },
 "nbformat": 4,
 "nbformat_minor": 5
}
