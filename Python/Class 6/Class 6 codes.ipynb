{
 "cells": [
  {
   "cell_type": "code",
   "execution_count": 5,
   "id": "69f0f51b-d338-406b-93da-629fcbdd6fc9",
   "metadata": {
    "tags": []
   },
   "outputs": [
    {
     "name": "stdout",
     "output_type": "stream",
     "text": [
      "hello\n"
     ]
    }
   ],
   "source": [
    "if True or 1.0/0 :\n",
    "    print(\"hello\")"
   ]
  },
  {
   "cell_type": "code",
   "execution_count": null,
   "id": "67ebc665-1e02-424b-9a17-295e6b05ae4e",
   "metadata": {},
   "outputs": [],
   "source": []
  },
  {
   "cell_type": "markdown",
   "id": "e1832837-4f14-4e08-8b73-1cfc613dcfeb",
   "metadata": {},
   "source": [
    "# Loops"
   ]
  },
  {
   "cell_type": "code",
   "execution_count": 6,
   "id": "ee7eff84-5804-48a7-836a-032fb703b266",
   "metadata": {
    "tags": []
   },
   "outputs": [
    {
     "name": "stdout",
     "output_type": "stream",
     "text": [
      "hello\n",
      "hello\n"
     ]
    }
   ],
   "source": [
    "print(\"hello\")\n",
    "print(\"hello\")"
   ]
  },
  {
   "cell_type": "code",
   "execution_count": 8,
   "id": "7fd0c96f-8edc-4340-b5ed-f4bc1edfc266",
   "metadata": {
    "tags": []
   },
   "outputs": [],
   "source": [
    "print(\"1\")\n",
    "print(\"2\")\n",
    "print(\"3\")\n",
    "print(\"4\")"
   ]
  },
  {
   "cell_type": "code",
   "execution_count": null,
   "id": "863c1390-f0e5-40a4-ba4b-24d6b1e09edb",
   "metadata": {},
   "outputs": [],
   "source": []
  },
  {
   "cell_type": "code",
   "execution_count": 14,
   "id": "1d8e013d-6048-43b6-9a91-5015abdece80",
   "metadata": {
    "tags": []
   },
   "outputs": [],
   "source": [
    "start = 0\n",
    "end = 4"
   ]
  },
  {
   "cell_type": "code",
   "execution_count": 15,
   "id": "50e768a2-fe79-48d5-a228-f77602d7163a",
   "metadata": {
    "tags": []
   },
   "outputs": [
    {
     "name": "stdout",
     "output_type": "stream",
     "text": [
      "0\n",
      "4\n",
      "1\n",
      "4\n",
      "2\n",
      "4\n",
      "3\n",
      "4\n"
     ]
    }
   ],
   "source": [
    "while start< end:\n",
    "    print(start)\n",
    "    print(end)\n",
    "    start = start+1"
   ]
  },
  {
   "cell_type": "code",
   "execution_count": 24,
   "id": "30d89d38-19f0-4f91-bb13-1f1112027f32",
   "metadata": {
    "tags": []
   },
   "outputs": [],
   "source": [
    "start = 0\n",
    "end = 4"
   ]
  },
  {
   "cell_type": "code",
   "execution_count": 25,
   "id": "39f1563c-9cb6-4a0e-903a-ad2c2acf3985",
   "metadata": {
    "tags": []
   },
   "outputs": [
    {
     "name": "stdout",
     "output_type": "stream",
     "text": [
      "Inside Loop\n",
      "Inside Loop\n",
      "Inside Loop\n",
      "Inside Loop\n",
      "Inside Loop\n"
     ]
    }
   ],
   "source": [
    "while start<= end:\n",
    "    #print(\"start value is \" + str(start))\n",
    "    #print(\"end value is \" + str(end))\n",
    "    print(\"Inside Loop\")\n",
    "    start = start+1"
   ]
  },
  {
   "cell_type": "code",
   "execution_count": 23,
   "id": "2186dcda-4ef2-49b4-8669-14a0296290f0",
   "metadata": {
    "tags": []
   },
   "outputs": [
    {
     "data": {
      "text/plain": [
       "(5, 4)"
      ]
     },
     "execution_count": 23,
     "metadata": {},
     "output_type": "execute_result"
    }
   ],
   "source": [
    "start ,end"
   ]
  },
  {
   "cell_type": "code",
   "execution_count": 41,
   "id": "7d2e7453-a0d8-4087-afd1-aaff560896f7",
   "metadata": {
    "tags": []
   },
   "outputs": [
    {
     "name": "stdout",
     "output_type": "stream",
     "text": [
      "0\n",
      "start: 1\n"
     ]
    }
   ],
   "source": [
    "start =0\n",
    "end =1\n",
    "while start< end:\n",
    "\n",
    "    print(start)\n",
    "   # print(end)\n",
    "    start = start+1\n",
    "    print(\"start: \" + str(start))"
   ]
  },
  {
   "cell_type": "code",
   "execution_count": 21,
   "id": "bfe488d6-b3d1-488a-ab9b-2d41b16cd904",
   "metadata": {
    "tags": []
   },
   "outputs": [
    {
     "data": {
      "text/plain": [
       "True"
      ]
     },
     "execution_count": 21,
     "metadata": {},
     "output_type": "execute_result"
    }
   ],
   "source": [
    "4 <= 4"
   ]
  },
  {
   "cell_type": "code",
   "execution_count": null,
   "id": "ca66ef24-1971-4e2e-b9c3-7bb4fdabe0b4",
   "metadata": {},
   "outputs": [],
   "source": []
  },
  {
   "cell_type": "code",
   "execution_count": 31,
   "id": "4ef01969-81a2-4057-b7e0-630f66835ddb",
   "metadata": {
    "tags": []
   },
   "outputs": [
    {
     "name": "stdout",
     "output_type": "stream",
     "text": [
      "1\n",
      "I am out\n"
     ]
    }
   ],
   "source": [
    "start = 1\n",
    "end = 2\n",
    "while start < end and True :\n",
    "    print(start)\n",
    "    start = start+1\n",
    "print(\"I am out\")"
   ]
  },
  {
   "cell_type": "code",
   "execution_count": null,
   "id": "c8437ed7-6b45-47ee-9727-762b36f942c3",
   "metadata": {},
   "outputs": [],
   "source": []
  },
  {
   "cell_type": "code",
   "execution_count": 34,
   "id": "a5624c35-0c7f-4ea3-82b9-8fc42b8cf5df",
   "metadata": {
    "tags": []
   },
   "outputs": [
    {
     "name": "stdout",
     "output_type": "stream",
     "text": [
      "1\n",
      "I am out\n"
     ]
    }
   ],
   "source": [
    "start = 1\n",
    "end = 2\n",
    "\n",
    "while start < end and True :\n",
    "    print(start)\n",
    "    start = start+1\n",
    "else:\n",
    "    print(\"I am out\")"
   ]
  },
  {
   "cell_type": "code",
   "execution_count": null,
   "id": "9b8635ae-ec97-439a-92d5-8a1b9366ffd5",
   "metadata": {},
   "outputs": [],
   "source": []
  },
  {
   "cell_type": "code",
   "execution_count": 33,
   "id": "032748eb-ec09-46d6-bdbb-8cbd11bb9abf",
   "metadata": {
    "tags": []
   },
   "outputs": [
    {
     "name": "stdout",
     "output_type": "stream",
     "text": [
      "I am out\n"
     ]
    }
   ],
   "source": [
    "start = 3\n",
    "end = 2\n",
    "\n",
    "\n",
    "while start < end:\n",
    "    print(start)\n",
    "    start = start+1\n",
    "else:\n",
    "    print(\"I am out\")"
   ]
  },
  {
   "cell_type": "code",
   "execution_count": null,
   "id": "3a2ab653-b1d5-4bbe-aeea-daf9c943b78d",
   "metadata": {},
   "outputs": [],
   "source": []
  },
  {
   "cell_type": "code",
   "execution_count": null,
   "id": "d6bb8fab-0408-478b-b264-fdf13addf698",
   "metadata": {},
   "outputs": [],
   "source": []
  },
  {
   "cell_type": "code",
   "execution_count": 35,
   "id": "1a73cb94-076b-4a2c-8884-94ebeb25b355",
   "metadata": {
    "tags": []
   },
   "outputs": [
    {
     "name": "stdout",
     "output_type": "stream",
     "text": [
      "-50.0\n",
      "-100.0\n"
     ]
    },
    {
     "ename": "ZeroDivisionError",
     "evalue": "division by zero",
     "output_type": "error",
     "traceback": [
      "\u001b[0;31m---------------------------------------------------------------------------\u001b[0m",
      "\u001b[0;31mZeroDivisionError\u001b[0m                         Traceback (most recent call last)",
      "Cell \u001b[0;32mIn[35], line 6\u001b[0m\n\u001b[1;32m      2\u001b[0m end \u001b[38;5;241m=\u001b[39m \u001b[38;5;241m2\u001b[39m\n\u001b[1;32m      5\u001b[0m \u001b[38;5;28;01mwhile\u001b[39;00m start \u001b[38;5;241m<\u001b[39m end :\n\u001b[0;32m----> 6\u001b[0m     \u001b[38;5;28mprint\u001b[39m ( \u001b[38;5;241m100\u001b[39m\u001b[38;5;241m/\u001b[39mstart)\n\u001b[1;32m      7\u001b[0m     start \u001b[38;5;241m=\u001b[39m start\u001b[38;5;241m+\u001b[39m\u001b[38;5;241m1\u001b[39m\n\u001b[1;32m      8\u001b[0m \u001b[38;5;28;01melse\u001b[39;00m:\n",
      "\u001b[0;31mZeroDivisionError\u001b[0m: division by zero"
     ]
    }
   ],
   "source": [
    "start = -2\n",
    "end = 2\n",
    "\n",
    "\n",
    "while start < end :\n",
    "    print ( 100/start)\n",
    "    start = start+1\n",
    "else:\n",
    "    print(\"I am out\")\n",
    "    \n",
    "\n",
    "    "
   ]
  },
  {
   "cell_type": "code",
   "execution_count": null,
   "id": "1dd11155-bca0-423b-b1be-7111e771f09c",
   "metadata": {},
   "outputs": [],
   "source": []
  },
  {
   "cell_type": "code",
   "execution_count": 37,
   "id": "06628868-ee29-4278-ae60-0831337eb491",
   "metadata": {
    "tags": []
   },
   "outputs": [
    {
     "name": "stdout",
     "output_type": "stream",
     "text": [
      "I am out\n"
     ]
    }
   ],
   "source": [
    "start = -2\n",
    "end = 2\n",
    "\n",
    "start =2\n",
    "while start < end :\n",
    "  print( 100/start)\n",
    "  start = start+1\n",
    "else:\n",
    "  print(\"I am out\")\n",
    "   \n",
    "\n",
    "# AI will not take our job hopefully\n",
    "   \n"
   ]
  },
  {
   "cell_type": "code",
   "execution_count": null,
   "id": "8539dd40-aaeb-4d52-8e10-1c0f9d42efa0",
   "metadata": {},
   "outputs": [],
   "source": []
  },
  {
   "cell_type": "code",
   "execution_count": 38,
   "id": "234751f5-47de-4186-9f96-9c170650b440",
   "metadata": {
    "tags": []
   },
   "outputs": [
    {
     "name": "stdout",
     "output_type": "stream",
     "text": [
      "-50.0\n",
      "-100.0\n"
     ]
    },
    {
     "data": {
      "text/plain": [
       "(0, 2)"
      ]
     },
     "execution_count": 38,
     "metadata": {},
     "output_type": "execute_result"
    }
   ],
   "source": [
    "start = -2\n",
    "end = 2\n",
    "\n",
    "\n",
    "while start < end :\n",
    "    if(start ==0):\n",
    "        break\n",
    "    print ( 100/start)\n",
    "    start = start+1\n",
    "else:\n",
    "    print(\"I am out\")\n",
    "    \n",
    "\n",
    "    \n",
    "\n",
    "start,end\n",
    "    "
   ]
  },
  {
   "cell_type": "code",
   "execution_count": null,
   "id": "c89342dc-fea1-44d7-b6ce-27f19deb24ae",
   "metadata": {},
   "outputs": [],
   "source": []
  },
  {
   "cell_type": "code",
   "execution_count": 40,
   "id": "8fcac4b9-c7fe-4aad-8999-75a26905d272",
   "metadata": {
    "tags": []
   },
   "outputs": [
    {
     "name": "stdout",
     "output_type": "stream",
     "text": [
      "-50.0\n",
      "-100.0\n"
     ]
    },
    {
     "data": {
      "text/plain": [
       "(5, 2)"
      ]
     },
     "execution_count": 40,
     "metadata": {},
     "output_type": "execute_result"
    }
   ],
   "source": [
    "start = -2\n",
    "end = 2\n",
    "\n",
    "\n",
    "while start < end :\n",
    "    if(start ==0):\n",
    "        start = 5\n",
    "        break\n",
    "    print ( 100/start)\n",
    "    start = start+1\n",
    "else:\n",
    "    print(\"I am out\")\n",
    "    \n",
    "\n",
    "    \n",
    "\n",
    "start,end\n",
    "    "
   ]
  },
  {
   "cell_type": "code",
   "execution_count": null,
   "id": "ccf320a6-d8d8-4d36-8ebe-f346fd908c70",
   "metadata": {},
   "outputs": [],
   "source": []
  },
  {
   "cell_type": "code",
   "execution_count": 5,
   "id": "24b544fb-1d78-4505-b380-19ccf4f51809",
   "metadata": {
    "tags": []
   },
   "outputs": [
    {
     "name": "stdout",
     "output_type": "stream",
     "text": [
      "-50.0\n",
      "-100.0\n",
      "100.0\n",
      "50.0\n",
      "I am out\n"
     ]
    }
   ],
   "source": [
    "start = -2\n",
    "end = 2\n",
    "\n",
    "\n",
    "while start <= end :\n",
    "    if(start ==0):\n",
    "        #print(\"Start is 0 here\")\n",
    "        #break\n",
    "        start = start + 1\n",
    "        continue\n",
    "    print ( 100/start)\n",
    "    start = start+1\n",
    "else:\n",
    "    print(\"I am out\")\n"
   ]
  },
  {
   "cell_type": "code",
   "execution_count": null,
   "id": "e881f7f0-0436-4807-a5a3-5b44fe0daebf",
   "metadata": {},
   "outputs": [],
   "source": []
  },
  {
   "cell_type": "markdown",
   "id": "1cdc1b70-f3bb-49c6-b365-c7ca03858b87",
   "metadata": {},
   "source": [
    "# For Loop"
   ]
  },
  {
   "cell_type": "code",
   "execution_count": 30,
   "id": "499a312e-9997-45ae-b90d-9efac9ba9fd3",
   "metadata": {
    "tags": []
   },
   "outputs": [],
   "source": [
    "start = 0\n",
    "li = list((10,20,30,40,50))"
   ]
  },
  {
   "cell_type": "code",
   "execution_count": 28,
   "id": "30e1ca1e-dc75-42ce-8738-42c40cc9eaf2",
   "metadata": {
    "tags": []
   },
   "outputs": [
    {
     "name": "stdout",
     "output_type": "stream",
     "text": [
      "1\n",
      "2\n",
      "3\n",
      "4\n",
      "5\n"
     ]
    }
   ],
   "source": [
    "for element in li:\n",
    "    print (element)\n",
    "   # element ++"
   ]
  },
  {
   "cell_type": "code",
   "execution_count": 29,
   "id": "e25c42f3-65f8-4a7b-af65-47ca2fbfa18f",
   "metadata": {
    "tags": []
   },
   "outputs": [
    {
     "name": "stdout",
     "output_type": "stream",
     "text": [
      "1\n",
      "2\n",
      "3\n",
      "4\n",
      "5\n"
     ]
    }
   ],
   "source": [
    "for i in li:\n",
    "    print (i)"
   ]
  },
  {
   "cell_type": "code",
   "execution_count": 34,
   "id": "2f6cfdc6-6512-4964-a0a6-a6ab6dac80cb",
   "metadata": {
    "tags": []
   },
   "outputs": [
    {
     "name": "stdout",
     "output_type": "stream",
     "text": [
      "10\n",
      "0\n",
      "20\n",
      "1\n",
      "30\n",
      "2\n",
      "40\n",
      "3\n",
      "50\n",
      "4\n"
     ]
    }
   ],
   "source": [
    "for pos in ((0,1,2,3,4)):\n",
    "    print ( li[pos])\n",
    "    print(pos)\n",
    "    "
   ]
  },
  {
   "cell_type": "code",
   "execution_count": 27,
   "id": "f14ae0da-1e77-4f0a-aff4-cff2691bc4d4",
   "metadata": {
    "tags": []
   },
   "outputs": [
    {
     "name": "stdout",
     "output_type": "stream",
     "text": [
      "m  a  y  a  n  k  let us<> go to next line\n",
      "0 m  1 a  2 y  3 a  4 n  5 k  "
     ]
    }
   ],
   "source": [
    "str1 = \"mayank\"\n",
    "\n",
    "for char in str1:\n",
    "    print(char,sep = \"\" , end =\"  \")\n",
    "    \n",
    "print(\"let us\" , \" go to next line\" , sep = \"<>\")\n",
    "\n",
    "for i in range(len(str1)):\n",
    "    print(i, end = \" \")\n",
    "    print(str1[i],sep = \"<>\" , end =\"  \")"
   ]
  },
  {
   "cell_type": "code",
   "execution_count": 36,
   "id": "9b7a22d3-ff60-40b0-8fe6-19fa0215d997",
   "metadata": {
    "tags": []
   },
   "outputs": [
    {
     "data": {
      "text/plain": [
       "['abc@gmail.com', 'def@gmail.com', 'ghi@gmail.com']"
      ]
     },
     "execution_count": 36,
     "metadata": {},
     "output_type": "execute_result"
    }
   ],
   "source": [
    "emailList = list((\"abc@gmail.com\",\"def@gmail.com\",\"ghi@gmail.com\"))\n",
    "emailList"
   ]
  },
  {
   "cell_type": "code",
   "execution_count": 39,
   "id": "f6b4838a-3ef4-4186-8c66-7d3ce8242544",
   "metadata": {
    "tags": []
   },
   "outputs": [
    {
     "name": "stdout",
     "output_type": "stream",
     "text": [
      "\n",
      "abc\n",
      "def\n",
      "ghi"
     ]
    }
   ],
   "source": [
    "for currentEmail in emailList:\n",
    "    print()\n",
    "    for char in currentEmail:\n",
    "        if(char=='@'):\n",
    "            break\n",
    "        print(char,end=\"\")\n",
    "    "
   ]
  },
  {
   "cell_type": "code",
   "execution_count": null,
   "id": "c3c87086-31cd-4832-ad76-04716d5ba3a6",
   "metadata": {},
   "outputs": [],
   "source": []
  },
  {
   "cell_type": "code",
   "execution_count": null,
   "id": "bc11f1d8-e1c5-409f-8fd6-7ad95c1b2b36",
   "metadata": {},
   "outputs": [],
   "source": []
  },
  {
   "cell_type": "markdown",
   "id": "7cd768db-9882-4c40-9deb-b651eb1ec01b",
   "metadata": {},
   "source": [
    "# WAP to take a string from user and output its character in different line but don't print vowel"
   ]
  },
  {
   "cell_type": "code",
   "execution_count": null,
   "id": "c37448df-4930-4989-8b75-403b960a391b",
   "metadata": {},
   "outputs": [],
   "source": []
  },
  {
   "cell_type": "code",
   "execution_count": 40,
   "id": "df91b535-79d3-4f33-8c68-6e7cb4e3c47d",
   "metadata": {
    "tags": []
   },
   "outputs": [
    {
     "name": "stdin",
     "output_type": "stream",
     "text": [
      "Please enter your name:  MAyank\n"
     ]
    },
    {
     "name": "stdout",
     "output_type": "stream",
     "text": [
      "Mynk\n"
     ]
    }
   ],
   "source": [
    "# abhishek's answer\n",
    "\n",
    "inp = input(\"Please enter your name: \")\n",
    "vowels = ['a', 'e', 'i', 'o', 'u', 'A', 'E', 'I', 'O', 'U']\n",
    "result = \"\"\n",
    "for i in range(len(inp)):\n",
    "    if inp[i] not in vowels:\n",
    "        result = result + inp[i]\n",
    "print(result)"
   ]
  },
  {
   "cell_type": "code",
   "execution_count": 43,
   "id": "2dc4c649-cc5f-4655-a33e-37a6847d16e8",
   "metadata": {
    "tags": []
   },
   "outputs": [
    {
     "name": "stdin",
     "output_type": "stream",
     "text": [
      "Enter a string : mAyank\n"
     ]
    },
    {
     "name": "stdout",
     "output_type": "stream",
     "text": [
      "m\n",
      "y\n",
      "n\n",
      "k\n"
     ]
    }
   ],
   "source": [
    "\n",
    "string = input(\"Enter a string :\")\n",
    "for char in string:\n",
    "    if char not in 'aeiou' and char not in 'AEIOU':\n",
    "        print(char)"
   ]
  },
  {
   "cell_type": "code",
   "execution_count": null,
   "id": "bde06aa7-c462-4d76-ab57-adbeea07be28",
   "metadata": {},
   "outputs": [],
   "source": []
  },
  {
   "cell_type": "code",
   "execution_count": 42,
   "id": "b4d6f633-c32a-4638-ac22-423a0d52a49a",
   "metadata": {
    "tags": []
   },
   "outputs": [
    {
     "name": "stdin",
     "output_type": "stream",
     "text": [
      "Enter String here mAyAnk\n"
     ]
    },
    {
     "name": "stdout",
     "output_type": "stream",
     "text": [
      "m\n",
      "A\n",
      "y\n",
      "A\n",
      "n\n",
      "k\n"
     ]
    }
   ],
   "source": [
    "string = input(\"Enter String here\")\n",
    "vowels = [\"a\",\"e\",\"i\",\"o\",\"u\" , ]\n",
    "for i in string:\n",
    "    if i in vowels:\n",
    "        continue\n",
    "    print(i)"
   ]
  },
  {
   "cell_type": "code",
   "execution_count": 50,
   "id": "cc9e223b-d7ed-40cb-9ebf-9c8f42ca1e71",
   "metadata": {
    "tags": []
   },
   "outputs": [
    {
     "name": "stdin",
     "output_type": "stream",
     "text": [
      "enter the string  maYankA\n"
     ]
    },
    {
     "name": "stdout",
     "output_type": "stream",
     "text": [
      "m\n",
      "Y\n",
      "n\n",
      "k\n"
     ]
    }
   ],
   "source": [
    "\n",
    "s = input(\"enter the string \")\n",
    "for i in s:\n",
    "    if i.upper() not in \"AEIOU\":\n",
    "        print(i)"
   ]
  },
  {
   "cell_type": "code",
   "execution_count": null,
   "id": "2a0e3913-3ff1-4ec1-aef4-ed4fd0fb6af4",
   "metadata": {},
   "outputs": [],
   "source": []
  },
  {
   "cell_type": "code",
   "execution_count": 45,
   "id": "0072536c-b961-4d5c-a780-16e05f4a2a75",
   "metadata": {
    "tags": []
   },
   "outputs": [],
   "source": [
    "str1 = \"mayank\"\n"
   ]
  },
  {
   "cell_type": "code",
   "execution_count": 47,
   "id": "e9c4f438-b5a7-430f-b0d2-8a3ac138593d",
   "metadata": {
    "tags": []
   },
   "outputs": [],
   "source": [
    " uppstring = str1.upper()"
   ]
  },
  {
   "cell_type": "code",
   "execution_count": 48,
   "id": "ac11c7ac-5701-4b63-91fc-b11ed62ff4e9",
   "metadata": {
    "tags": []
   },
   "outputs": [
    {
     "data": {
      "text/plain": [
       "'MAYANK'"
      ]
     },
     "execution_count": 48,
     "metadata": {},
     "output_type": "execute_result"
    }
   ],
   "source": [
    "uppstring\n"
   ]
  },
  {
   "cell_type": "code",
   "execution_count": 49,
   "id": "738a26d6-8142-4eba-b5cb-4cd287d421aa",
   "metadata": {
    "tags": []
   },
   "outputs": [
    {
     "data": {
      "text/plain": [
       "'mayank'"
      ]
     },
     "execution_count": 49,
     "metadata": {},
     "output_type": "execute_result"
    }
   ],
   "source": [
    "uppstring.lower()"
   ]
  },
  {
   "cell_type": "code",
   "execution_count": null,
   "id": "40e817ac-af68-4ad6-9d74-967bd6cc8e1e",
   "metadata": {},
   "outputs": [],
   "source": []
  },
  {
   "cell_type": "code",
   "execution_count": 53,
   "id": "76f24324-eb78-442f-8acc-86116fe7d8bc",
   "metadata": {
    "tags": []
   },
   "outputs": [
    {
     "data": {
      "text/plain": [
       "[0, 1, 2]"
      ]
     },
     "execution_count": 53,
     "metadata": {},
     "output_type": "execute_result"
    }
   ],
   "source": [
    "list(range(3))"
   ]
  },
  {
   "cell_type": "code",
   "execution_count": 54,
   "id": "602c2e44-6103-415d-9b5e-781886e0454e",
   "metadata": {
    "tags": []
   },
   "outputs": [
    {
     "data": {
      "text/plain": [
       "[0, 1]"
      ]
     },
     "execution_count": 54,
     "metadata": {},
     "output_type": "execute_result"
    }
   ],
   "source": [
    "list(range(0,2))"
   ]
  },
  {
   "cell_type": "code",
   "execution_count": 55,
   "id": "52878bc9-2dcb-4256-82f7-b673ed4d9559",
   "metadata": {
    "tags": []
   },
   "outputs": [
    {
     "data": {
      "text/plain": [
       "[-1, 0, 1]"
      ]
     },
     "execution_count": 55,
     "metadata": {},
     "output_type": "execute_result"
    }
   ],
   "source": [
    "list(range(-1,2))"
   ]
  },
  {
   "cell_type": "code",
   "execution_count": 56,
   "id": "f63f4b1b-e5bf-42ca-9e5b-6db4db5a9233",
   "metadata": {
    "tags": []
   },
   "outputs": [
    {
     "data": {
      "text/plain": [
       "[]"
      ]
     },
     "execution_count": 56,
     "metadata": {},
     "output_type": "execute_result"
    }
   ],
   "source": [
    "list(range(5,2))"
   ]
  },
  {
   "cell_type": "code",
   "execution_count": 57,
   "id": "bc0083fb-4878-49bf-adeb-ccff93b27206",
   "metadata": {
    "tags": []
   },
   "outputs": [
    {
     "data": {
      "text/plain": [
       "[5, 4, 3]"
      ]
     },
     "execution_count": 57,
     "metadata": {},
     "output_type": "execute_result"
    }
   ],
   "source": [
    "list(range(5,2,-1))"
   ]
  },
  {
   "cell_type": "code",
   "execution_count": 59,
   "id": "aec86145-f96e-4d65-95aa-19fca611ee7f",
   "metadata": {
    "tags": []
   },
   "outputs": [
    {
     "data": {
      "text/plain": [
       "range(0, 10)"
      ]
     },
     "execution_count": 59,
     "metadata": {},
     "output_type": "execute_result"
    }
   ],
   "source": [
    "range(0,10)"
   ]
  },
  {
   "cell_type": "code",
   "execution_count": 61,
   "id": "2dc91d79-c2d5-4f54-af1e-c58d1d9acabd",
   "metadata": {
    "tags": []
   },
   "outputs": [
    {
     "name": "stdout",
     "output_type": "stream",
     "text": [
      "1\n",
      "3\n",
      "5\n",
      "7\n",
      "9\n"
     ]
    }
   ],
   "source": [
    "for i in range(0,10):\n",
    "    print (i)"
   ]
  },
  {
   "cell_type": "code",
   "execution_count": 62,
   "id": "ca7960f5-1d20-4e23-adbc-54890198fbb8",
   "metadata": {
    "tags": []
   },
   "outputs": [
    {
     "name": "stdout",
     "output_type": "stream",
     "text": [
      "0\n",
      "2\n",
      "4\n",
      "6\n",
      "8\n"
     ]
    }
   ],
   "source": [
    "#even numbers\n",
    "\n",
    "for i in range(0,10,2):\n",
    "    print (i)"
   ]
  },
  {
   "cell_type": "code",
   "execution_count": 63,
   "id": "ee15933c-0189-4ed9-a858-a1583952c98e",
   "metadata": {
    "tags": []
   },
   "outputs": [
    {
     "name": "stdout",
     "output_type": "stream",
     "text": [
      "1\n",
      "3\n",
      "5\n",
      "7\n",
      "9\n"
     ]
    }
   ],
   "source": [
    "# odd numbers\n",
    "\n",
    "for i in range(1,10,2):\n",
    "    print (i)"
   ]
  },
  {
   "cell_type": "code",
   "execution_count": 72,
   "id": "09e17fd0-30b8-4c43-aadf-7720460b6c81",
   "metadata": {
    "tags": []
   },
   "outputs": [
    {
     "data": {
      "text/plain": [
       "'myn'"
      ]
     },
     "execution_count": 72,
     "metadata": {},
     "output_type": "execute_result"
    }
   ],
   "source": [
    "str1=list((\"m\",\"a\",\"y\",\"a\",\"n\",\"k\"))\n",
    "\n",
    "str1[0:6:2]\n",
    "\n",
    "\n",
    "name = \"mayank\"\n",
    "\n",
    "name[0:6:2]"
   ]
  },
  {
   "cell_type": "code",
   "execution_count": null,
   "id": "6cafe706-12c8-46ef-a282-43f007863378",
   "metadata": {},
   "outputs": [],
   "source": []
  },
  {
   "cell_type": "code",
   "execution_count": 82,
   "id": "532a83f8-d2fe-48f8-84a5-40183cafb6da",
   "metadata": {
    "tags": []
   },
   "outputs": [
    {
     "data": {
      "text/plain": [
       "[]"
      ]
     },
     "execution_count": 82,
     "metadata": {},
     "output_type": "execute_result"
    }
   ],
   "source": [
    "list(range(10,1,100))"
   ]
  },
  {
   "cell_type": "code",
   "execution_count": 85,
   "id": "ed04fca6-fc37-46dd-a3ce-5830d3cb4329",
   "metadata": {
    "tags": []
   },
   "outputs": [
    {
     "data": {
      "text/plain": [
       "6"
      ]
     },
     "execution_count": 85,
     "metadata": {},
     "output_type": "execute_result"
    }
   ],
   "source": [
    "\n",
    "name = \"mayank\"\n",
    "len(name)"
   ]
  },
  {
   "cell_type": "code",
   "execution_count": 105,
   "id": "c3622c4e-dbcd-4bc1-80c7-a171c0eea6f2",
   "metadata": {
    "tags": []
   },
   "outputs": [
    {
     "data": {
      "text/plain": [
       "'mayank'"
      ]
     },
     "execution_count": 105,
     "metadata": {},
     "output_type": "execute_result"
    }
   ],
   "source": [
    "name = \"mayank\"\n",
    "name"
   ]
  },
  {
   "cell_type": "code",
   "execution_count": 106,
   "id": "aa8afe4b-f2c3-4dd0-afa7-527f21e9eb3f",
   "metadata": {
    "tags": []
   },
   "outputs": [
    {
     "data": {
      "text/plain": [
       "6"
      ]
     },
     "execution_count": 106,
     "metadata": {},
     "output_type": "execute_result"
    }
   ],
   "source": [
    "len(name)"
   ]
  },
  {
   "cell_type": "code",
   "execution_count": 107,
   "id": "41979997-5e19-472e-a02a-dbef56e5cf69",
   "metadata": {
    "tags": []
   },
   "outputs": [
    {
     "data": {
      "text/plain": [
       "range(0, 6)"
      ]
     },
     "execution_count": 107,
     "metadata": {},
     "output_type": "execute_result"
    }
   ],
   "source": [
    "range(6)"
   ]
  },
  {
   "cell_type": "code",
   "execution_count": 109,
   "id": "87f70292-a412-44ac-9fd2-fd9a624f36ce",
   "metadata": {
    "tags": []
   },
   "outputs": [
    {
     "name": "stdout",
     "output_type": "stream",
     "text": [
      "m\n",
      "a\n",
      "y\n",
      "a\n",
      "n\n",
      "k\n"
     ]
    }
   ],
   "source": [
    "\n",
    "name = \"mayank\"\n",
    "\n",
    "\n",
    "\n",
    "for i in range(len(name)):\n",
    "    print (name[i])"
   ]
  },
  {
   "cell_type": "code",
   "execution_count": 87,
   "id": "ba6f5335-d6e9-42f9-b83c-961c01963950",
   "metadata": {
    "tags": []
   },
   "outputs": [
    {
     "data": {
      "text/plain": [
       "[-2, -1, 0, 1]"
      ]
     },
     "execution_count": 87,
     "metadata": {},
     "output_type": "execute_result"
    }
   ],
   "source": [
    "list(range(-2,2))"
   ]
  },
  {
   "cell_type": "code",
   "execution_count": 88,
   "id": "9c664f21-b812-4515-8ea0-18dbfef789ee",
   "metadata": {
    "tags": []
   },
   "outputs": [
    {
     "ename": "TypeError",
     "evalue": "'float' object cannot be interpreted as an integer",
     "output_type": "error",
     "traceback": [
      "\u001b[0;31m---------------------------------------------------------------------------\u001b[0m",
      "\u001b[0;31mTypeError\u001b[0m                                 Traceback (most recent call last)",
      "Cell \u001b[0;32mIn[88], line 1\u001b[0m\n\u001b[0;32m----> 1\u001b[0m \u001b[38;5;28mlist\u001b[39m(\u001b[38;5;28mrange\u001b[39m(\u001b[38;5;241m1.5\u001b[39m,\u001b[38;5;241m5.5\u001b[39m))\n",
      "\u001b[0;31mTypeError\u001b[0m: 'float' object cannot be interpreted as an integer"
     ]
    }
   ],
   "source": [
    "list(range(1.5,5.5))"
   ]
  },
  {
   "cell_type": "code",
   "execution_count": 89,
   "id": "1f950942-d078-4ae7-92e1-110acfd3d635",
   "metadata": {
    "tags": []
   },
   "outputs": [
    {
     "ename": "ValueError",
     "evalue": "range() arg 3 must not be zero",
     "output_type": "error",
     "traceback": [
      "\u001b[0;31m---------------------------------------------------------------------------\u001b[0m",
      "\u001b[0;31mValueError\u001b[0m                                Traceback (most recent call last)",
      "Cell \u001b[0;32mIn[89], line 1\u001b[0m\n\u001b[0;32m----> 1\u001b[0m \u001b[38;5;28mlist\u001b[39m(\u001b[38;5;28mrange\u001b[39m(\u001b[38;5;241m1\u001b[39m,\u001b[38;5;241m5\u001b[39m,\u001b[38;5;241m0\u001b[39m))\n",
      "\u001b[0;31mValueError\u001b[0m: range() arg 3 must not be zero"
     ]
    }
   ],
   "source": [
    "list(range(1,5,0))"
   ]
  },
  {
   "cell_type": "code",
   "execution_count": 90,
   "id": "88e8ac37-c5a1-47e4-82d3-74cfbcc1a716",
   "metadata": {
    "tags": []
   },
   "outputs": [
    {
     "name": "stdout",
     "output_type": "stream",
     "text": [
      "5\n",
      "6\n",
      "7\n",
      "8\n",
      "9\n",
      "10\n",
      "11\n",
      "12\n",
      "13\n",
      "14\n"
     ]
    }
   ],
   "source": [
    "for i in range ( 5,15):\n",
    "    print (i)"
   ]
  },
  {
   "cell_type": "markdown",
   "id": "fe78ac52-7f86-4ad9-bb30-3a2cf1161471",
   "metadata": {},
   "source": [
    "# WAP to get a number and find its factorial\n"
   ]
  },
  {
   "cell_type": "code",
   "execution_count": 92,
   "id": "3c6f99a7-8413-4f99-8aae-49ab75371a9c",
   "metadata": {
    "tags": []
   },
   "outputs": [
    {
     "name": "stdin",
     "output_type": "stream",
     "text": [
      "Enter no 8\n"
     ]
    },
    {
     "name": "stdout",
     "output_type": "stream",
     "text": [
      "40320\n"
     ]
    }
   ],
   "source": [
    "#factorial\n",
    "no = int(input(\"Enter no\"))\n",
    "fact = 1\n",
    "for i in range(2, no + 1):\n",
    "    fact *= i\n",
    "print(fact)"
   ]
  },
  {
   "cell_type": "code",
   "execution_count": 104,
   "id": "a23c42c2-f39f-4776-9158-e2b7e516be58",
   "metadata": {
    "tags": []
   },
   "outputs": [
    {
     "name": "stdin",
     "output_type": "stream",
     "text": [
      "enter a Number 5\n"
     ]
    },
    {
     "data": {
      "text/plain": [
       "120"
      ]
     },
     "execution_count": 104,
     "metadata": {},
     "output_type": "execute_result"
    }
   ],
   "source": [
    "##### \n",
    "def Factorial(a):\n",
    "    if (a<=1):\n",
    "        return 1\n",
    "    else:\n",
    "        return a*Factorial(a-1)\n",
    "\n",
    "inp= int(input(\"enter a Number\"))\n",
    "Factorial(inp)"
   ]
  },
  {
   "cell_type": "code",
   "execution_count": 103,
   "id": "83b3d145-fe49-4f75-808a-3827e3b3c970",
   "metadata": {
    "tags": []
   },
   "outputs": [
    {
     "name": "stdin",
     "output_type": "stream",
     "text": [
      "Enter a number to calculate factorial 8\n"
     ]
    },
    {
     "name": "stdout",
     "output_type": "stream",
     "text": [
      "8\n",
      "40320\n"
     ]
    }
   ],
   "source": [
    "number = int(input(\"Enter a number to calculate factorial\"))\n",
    "fact = 1\n",
    "print(number)\n",
    "for i in range(number,1,-1):\n",
    "    #print(i)\n",
    "    fact = fact*i\n",
    "\n",
    "print(fact)"
   ]
  },
  {
   "cell_type": "code",
   "execution_count": null,
   "id": "50fb9b25-d531-4fd2-be90-8d4c366260e8",
   "metadata": {},
   "outputs": [],
   "source": []
  },
  {
   "cell_type": "code",
   "execution_count": null,
   "id": "484fa916-694d-4232-9825-9849b071a214",
   "metadata": {},
   "outputs": [],
   "source": []
  },
  {
   "cell_type": "code",
   "execution_count": 113,
   "id": "9eee6184-1fa8-4d56-8783-4145e9be96c2",
   "metadata": {
    "tags": []
   },
   "outputs": [
    {
     "name": "stdin",
     "output_type": "stream",
     "text": [
      "Enter a number 8\n"
     ]
    },
    {
     "name": "stdout",
     "output_type": "stream",
     "text": [
      "Fact: 5040\n"
     ]
    }
   ],
   "source": [
    "num = int(input(\"Enter a number\"))\n",
    "fact =1\n",
    "for i in range(1,num):\n",
    "    fact = fact * i\n",
    "    \n",
    "print(\"Fact:\", fact)"
   ]
  },
  {
   "cell_type": "code",
   "execution_count": null,
   "id": "6cd1a97c-5dc9-44ba-b8af-6db6a6769165",
   "metadata": {},
   "outputs": [],
   "source": []
  },
  {
   "cell_type": "markdown",
   "id": "59db7916-10d0-42e5-b2eb-22697b57db1c",
   "metadata": {},
   "source": [
    "# 3 steps in recursion\n",
    "\n",
    "# 1. base Step or stop condition\n",
    "# 2. Small output or recursion work\n",
    "# 3. Your work.\n"
   ]
  },
  {
   "cell_type": "code",
   "execution_count": null,
   "id": "c3570948-042e-4191-a4dc-a976884df82f",
   "metadata": {},
   "outputs": [],
   "source": [
    "# 5!  I ask recursion for 4! \n",
    "# 5 * 4!\n",
    "\n",
    "\n",
    "def factorial(n):\n",
    "    if(n<=1) return 1    # 1. base condition\n",
    "    \n",
    "    so = factorial(n-1) # 2 Recursion work or small output\n",
    "    \n",
    "    ans = n * so        # 3. My Work\n",
    "    \n",
    "    return ans"
   ]
  },
  {
   "cell_type": "code",
   "execution_count": 118,
   "id": "e42628a7-c314-4fbc-89ad-f1b4a7d3396e",
   "metadata": {
    "tags": []
   },
   "outputs": [],
   "source": [
    "def fibonacci(n):\n",
    "    if(n<=1):\n",
    "        return 1\n",
    "    if(n==2):\n",
    "        return 2\n",
    "    \n",
    "    # base condition ^ \n",
    "    \n",
    "    so1 = fibonacci (n-1)\n",
    "    so2 = fibonacci (n-2)   # recursion work or small output\n",
    "    \n",
    "    ans = so1+ so2  # my work\n",
    "    \n",
    "    return ans \n",
    "    "
   ]
  },
  {
   "cell_type": "code",
   "execution_count": 121,
   "id": "b476245b-75c7-4ed4-9d4b-76b6930537ef",
   "metadata": {
    "tags": []
   },
   "outputs": [
    {
     "data": {
      "text/plain": [
       "3"
      ]
     },
     "execution_count": 121,
     "metadata": {},
     "output_type": "execute_result"
    }
   ],
   "source": [
    "fibonacci(3)"
   ]
  }
 ],
 "metadata": {
  "kernelspec": {
   "display_name": "Python 3 (ipykernel)",
   "language": "python",
   "name": "python3"
  },
  "language_info": {
   "codemirror_mode": {
    "name": "ipython",
    "version": 3
   },
   "file_extension": ".py",
   "mimetype": "text/x-python",
   "name": "python",
   "nbconvert_exporter": "python",
   "pygments_lexer": "ipython3",
   "version": "3.11.5"
  }
 },
 "nbformat": 4,
 "nbformat_minor": 5
}
