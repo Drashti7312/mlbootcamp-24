{
 "cells": [
  {
   "cell_type": "markdown",
   "id": "9cb21737-b36c-40a7-a11d-d918129cae07",
   "metadata": {
    "tags": []
   },
   "source": [
    "# List In Python"
   ]
  },
  {
   "cell_type": "code",
   "execution_count": 1,
   "id": "5e3a393f-5976-422d-95a6-57397e63a762",
   "metadata": {
    "tags": []
   },
   "outputs": [],
   "source": [
    "mylist1 = []"
   ]
  },
  {
   "cell_type": "code",
   "execution_count": 2,
   "id": "418e89ff-f5f1-4b29-a563-5cd72495193c",
   "metadata": {
    "tags": []
   },
   "outputs": [
    {
     "data": {
      "text/plain": [
       "list"
      ]
     },
     "execution_count": 2,
     "metadata": {},
     "output_type": "execute_result"
    }
   ],
   "source": [
    "type(mylist1)"
   ]
  },
  {
   "cell_type": "code",
   "execution_count": 3,
   "id": "6ca367a0-b5c4-4c31-bf89-7ea4f55d3482",
   "metadata": {
    "tags": []
   },
   "outputs": [],
   "source": [
    "mylist2 = [1,2,3,4,5]"
   ]
  },
  {
   "cell_type": "code",
   "execution_count": 4,
   "id": "9b6fb622-c9e2-401b-9075-549c275325a1",
   "metadata": {
    "tags": []
   },
   "outputs": [
    {
     "data": {
      "text/plain": [
       "list"
      ]
     },
     "execution_count": 4,
     "metadata": {},
     "output_type": "execute_result"
    }
   ],
   "source": [
    "type(mylist2)"
   ]
  },
  {
   "cell_type": "code",
   "execution_count": 5,
   "id": "1cbbf818-2542-4935-b545-c1cee7fa2aa8",
   "metadata": {
    "tags": []
   },
   "outputs": [],
   "source": [
    "mylist3 = [1,\"mayank\",2.4,True,2+5j]"
   ]
  },
  {
   "cell_type": "code",
   "execution_count": null,
   "id": "913737ad-008f-4476-b4d8-c5e39c99753b",
   "metadata": {},
   "outputs": [],
   "source": []
  },
  {
   "cell_type": "code",
   "execution_count": 6,
   "id": "37d4e423-c95d-4041-8e95-c5ef929e3e61",
   "metadata": {
    "tags": []
   },
   "outputs": [
    {
     "ename": "SyntaxError",
     "evalue": "invalid decimal literal (1653754309.py, line 1)",
     "output_type": "error",
     "traceback": [
      "\u001b[0;36m  Cell \u001b[0;32mIn[6], line 1\u001b[0;36m\u001b[0m\n\u001b[0;31m    2+5i\u001b[0m\n\u001b[0m      ^\u001b[0m\n\u001b[0;31mSyntaxError\u001b[0m\u001b[0;31m:\u001b[0m invalid decimal literal\n"
     ]
    }
   ],
   "source": [
    "2+5i"
   ]
  },
  {
   "cell_type": "code",
   "execution_count": null,
   "id": "f5bc65ba-3ae2-49a4-864a-8bdb5ace7fd3",
   "metadata": {
    "tags": []
   },
   "outputs": [],
   "source": [
    "2+5j"
   ]
  },
  {
   "cell_type": "code",
   "execution_count": null,
   "id": "becee008-2bef-4c9f-8214-739ebe2efd89",
   "metadata": {
    "tags": []
   },
   "outputs": [],
   "source": [
    "mylist3 = [1,\"mayank\",2.4,True,2+5j] "
   ]
  },
  {
   "cell_type": "code",
   "execution_count": null,
   "id": "8d663cde-6e78-4acb-9d05-4153fc2cd791",
   "metadata": {
    "tags": []
   },
   "outputs": [],
   "source": [
    "len(mylist3) "
   ]
  },
  {
   "cell_type": "code",
   "execution_count": null,
   "id": "a3971721-ec93-4282-8fb9-5e748618410f",
   "metadata": {
    "tags": []
   },
   "outputs": [],
   "source": [
    "print(mylist3)"
   ]
  },
  {
   "cell_type": "code",
   "execution_count": null,
   "id": "0fa5ff51-7269-41b9-829d-a942edb7c6cd",
   "metadata": {
    "tags": []
   },
   "outputs": [],
   "source": [
    "def myLenFunc(l):\n",
    "    length = 0\n",
    "    for i in l:\n",
    "        length+=1\n",
    "    print(length)"
   ]
  },
  {
   "cell_type": "code",
   "execution_count": null,
   "id": "a885e446-0cae-4d81-94bd-7fbf39ca4343",
   "metadata": {
    "tags": []
   },
   "outputs": [],
   "source": [
    "myLenFunc(mylist3)"
   ]
  },
  {
   "cell_type": "code",
   "execution_count": null,
   "id": "732bc8de-45b5-4830-9322-7137c10ad5c8",
   "metadata": {
    "tags": []
   },
   "outputs": [],
   "source": [
    "int(mylist3)"
   ]
  },
  {
   "cell_type": "code",
   "execution_count": null,
   "id": "b8e5936e-4ba0-4650-945c-5640007ce508",
   "metadata": {
    "tags": []
   },
   "outputs": [],
   "source": [
    "mylist3"
   ]
  },
  {
   "cell_type": "code",
   "execution_count": null,
   "id": "dc0332c5-323f-4f28-a86f-14d65afd3533",
   "metadata": {
    "tags": []
   },
   "outputs": [],
   "source": [
    "mylist3[0]"
   ]
  },
  {
   "cell_type": "markdown",
   "id": "3915c983-6543-49aa-a291-b09ef22b9a85",
   "metadata": {
    "tags": []
   },
   "source": [
    "# List elements are changable or can be modified"
   ]
  },
  {
   "cell_type": "code",
   "execution_count": null,
   "id": "599972e6-c778-4855-b7a4-7602f3483a9f",
   "metadata": {
    "tags": []
   },
   "outputs": [],
   "source": [
    "\n",
    "mylist3[2]"
   ]
  },
  {
   "cell_type": "code",
   "execution_count": null,
   "id": "878789b4-1cc7-46c8-a3f3-9c4669370955",
   "metadata": {
    "tags": []
   },
   "outputs": [],
   "source": [
    "mylist3[0] = 10000"
   ]
  },
  {
   "cell_type": "code",
   "execution_count": null,
   "id": "f3cb9c74-36bd-4172-a125-4a24172d47bd",
   "metadata": {
    "tags": []
   },
   "outputs": [],
   "source": [
    "mylist3"
   ]
  },
  {
   "cell_type": "code",
   "execution_count": null,
   "id": "0c63fc6c-d25d-4117-856f-6cd0dd9c3d76",
   "metadata": {},
   "outputs": [],
   "source": []
  },
  {
   "cell_type": "code",
   "execution_count": null,
   "id": "7eb67d12-f667-4a91-be14-da33d0f665e5",
   "metadata": {
    "tags": []
   },
   "outputs": [],
   "source": [
    "myNewList = mylist3[0:2]"
   ]
  },
  {
   "cell_type": "code",
   "execution_count": null,
   "id": "4a53eb6d-933e-4158-9787-9784134b2738",
   "metadata": {
    "tags": []
   },
   "outputs": [],
   "source": [
    "myNewList"
   ]
  },
  {
   "cell_type": "code",
   "execution_count": null,
   "id": "3fe7072d-6635-4ff9-aeb0-bec2452465e0",
   "metadata": {
    "tags": []
   },
   "outputs": [],
   "source": [
    "myNewList2 = mylist3[0:5:2]"
   ]
  },
  {
   "cell_type": "code",
   "execution_count": null,
   "id": "17fd97ed-83b1-479f-a0da-6dd1758ca8a5",
   "metadata": {
    "tags": []
   },
   "outputs": [],
   "source": [
    "myNewList2"
   ]
  },
  {
   "cell_type": "code",
   "execution_count": null,
   "id": "2f41f4a0-1c1a-4011-b99a-e7f756d5a958",
   "metadata": {},
   "outputs": [],
   "source": []
  },
  {
   "cell_type": "code",
   "execution_count": null,
   "id": "5e5698a2-ff77-4f56-8608-7dd8afbf1683",
   "metadata": {
    "tags": []
   },
   "outputs": [],
   "source": [
    "for i in mylist3:\n",
    "    print (i)"
   ]
  },
  {
   "cell_type": "code",
   "execution_count": null,
   "id": "f643917f-bcc9-4c00-af63-a728e2a2bcc7",
   "metadata": {
    "tags": []
   },
   "outputs": [],
   "source": [
    "for i in range(len(mylist3)):\n",
    "    print (mylist3[i])"
   ]
  },
  {
   "cell_type": "code",
   "execution_count": null,
   "id": "3436e582-2e5f-4cda-98ef-ed94dd3c9039",
   "metadata": {},
   "outputs": [],
   "source": []
  },
  {
   "cell_type": "code",
   "execution_count": null,
   "id": "c16bcd95-88c4-451b-b9ef-b3136c0a17a1",
   "metadata": {
    "tags": []
   },
   "outputs": [],
   "source": [
    "print(mylist3[i] for i in mylist3)"
   ]
  },
  {
   "cell_type": "code",
   "execution_count": null,
   "id": "5a38804b-dd2d-4770-a354-247014a5dbd9",
   "metadata": {},
   "outputs": [],
   "source": []
  },
  {
   "cell_type": "code",
   "execution_count": null,
   "id": "095c9e73-1e0b-4fd6-9726-edd38bc29abc",
   "metadata": {},
   "outputs": [],
   "source": []
  }
 ],
 "metadata": {
  "kernelspec": {
   "display_name": "Python 3 (ipykernel)",
   "language": "python",
   "name": "python3"
  },
  "language_info": {
   "codemirror_mode": {
    "name": "ipython",
    "version": 3
   },
   "file_extension": ".py",
   "mimetype": "text/x-python",
   "name": "python",
   "nbconvert_exporter": "python",
   "pygments_lexer": "ipython3",
   "version": "3.11.5"
  }
 },
 "nbformat": 4,
 "nbformat_minor": 5
}
