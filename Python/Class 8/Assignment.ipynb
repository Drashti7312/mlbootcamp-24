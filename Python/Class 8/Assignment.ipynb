{
 "cells": [
  {
   "cell_type": "markdown",
   "metadata": {},
   "source": [
    "# Name: Drashti Parmar"
   ]
  },
  {
   "cell_type": "markdown",
   "metadata": {},
   "source": [
    "## Basic Practice Question"
   ]
  },
  {
   "cell_type": "markdown",
   "metadata": {},
   "source": [
    "Que - 1: WAP to accept two numbers from the user and display their sum"
   ]
  },
  {
   "cell_type": "code",
   "execution_count": 1,
   "metadata": {
    "tags": []
   },
   "outputs": [
    {
     "name": "stdin",
     "output_type": "stream",
     "text": [
      "Enter First Number 1\n",
      "Enter Second Number 2\n"
     ]
    },
    {
     "name": "stdout",
     "output_type": "stream",
     "text": [
      "The Sum of num1 and num2 is 3\n"
     ]
    }
   ],
   "source": [
    "num1 = int(input(\"Enter First Number\"))\n",
    "num2 = int(input(\"Enter Second Number\"))\n",
    "sum = num1+num2\n",
    "print(\"The Sum of num1 and num2 is\", sum)"
   ]
  },
  {
   "cell_type": "markdown",
   "metadata": {},
   "source": [
    "Que - 2 :WAP to accept radius of a Circle from the user and calculate area and circumference"
   ]
  },
  {
   "cell_type": "code",
   "execution_count": 3,
   "metadata": {
    "tags": []
   },
   "outputs": [
    {
     "name": "stdin",
     "output_type": "stream",
     "text": [
      "Enter radius 3.21\n"
     ]
    },
    {
     "name": "stdout",
     "output_type": "stream",
     "text": [
      "Circumference of the circle is 20.16902483604647\n",
      "Area of circle is 32.37128486185459\n"
     ]
    }
   ],
   "source": [
    "import math\n",
    "\n",
    "radius = float(input(\"Enter radius\"))\n",
    "circumference = 2*math.pi*radius\n",
    "area = math.pi*(radius**2)\n",
    "print(\"Circumference of the circle is\",circumference)\n",
    "print(\"Area of circle is\", area)"
   ]
  },
  {
   "cell_type": "markdown",
   "metadata": {},
   "source": [
    "Que -3: WAP to accept roll number , grade and percentage as input from the user and display it back"
   ]
  },
  {
   "cell_type": "code",
   "execution_count": 4,
   "metadata": {
    "tags": []
   },
   "outputs": [
    {
     "name": "stdin",
     "output_type": "stream",
     "text": [
      "Enter your Roll Number here 4\n",
      "Enter your Grade here 3\n",
      "Enter your percentage here 5\n"
     ]
    },
    {
     "name": "stdout",
     "output_type": "stream",
     "text": [
      "Your Roll No is 4\n",
      "Your Grade is 3\n",
      "Your Percentage is 5\n"
     ]
    }
   ],
   "source": [
    "roll_no = input(\"Enter your Roll Number here\")\n",
    "grade = input(\"Enter your Grade here\")\n",
    "percentage = input(\"Enter your percentage here\")\n",
    "print(\"Your Roll No is\", roll_no)\n",
    "print(\"Your Grade is\", grade)\n",
    "print(\"Your Percentage is\", percentage)"
   ]
  },
  {
   "cell_type": "markdown",
   "metadata": {},
   "source": [
    "Que - 4: Write a program that asks the user to enter his/her name and age. Print out a message , displaying the user’s name along with the year in which they will turn 100 years old."
   ]
  },
  {
   "cell_type": "code",
   "execution_count": 5,
   "metadata": {
    "tags": []
   },
   "outputs": [
    {
     "name": "stdin",
     "output_type": "stream",
     "text": [
      "Please Enter Your Name mayank\n",
      "Please Enter Your Age 10\n"
     ]
    },
    {
     "name": "stdout",
     "output_type": "stream",
     "text": [
      "Hello mayank! You will be 100 years old in 2114 year\n"
     ]
    }
   ],
   "source": [
    "name = input(\"Please Enter Your Name\")\n",
    "age = int(input(\"Please Enter Your Age\"))\n",
    "birth_year = 2024-age\n",
    "print(f\"Hello {name}! You will be 100 years old in {birth_year+100} year\")"
   ]
  },
  {
   "cell_type": "markdown",
   "metadata": {},
   "source": [
    "Que - 5: Write a program that asks the user to input 2 integers and adds them. Accept both the numbers in a single line only"
   ]
  },
  {
   "cell_type": "code",
   "execution_count": 6,
   "metadata": {
    "tags": []
   },
   "outputs": [
    {
     "name": "stdin",
     "output_type": "stream",
     "text": [
      "Enter two numbers here separated by space 1 2\n"
     ]
    },
    {
     "name": "stdout",
     "output_type": "stream",
     "text": [
      "The Sum of two number is 3\n"
     ]
    }
   ],
   "source": [
    "num1, num2 = input(\"Enter two numbers here separated by space\" \"\").split()\n",
    "sum = int(num1)+int(num2)\n",
    "print(\"The Sum of two number is\", sum)"
   ]
  },
  {
   "cell_type": "markdown",
   "metadata": {},
   "source": [
    "Que - 6: Write a Python program which accepts the user's first and last name and print them in reverse order with a space between them.\n"
   ]
  },
  {
   "cell_type": "code",
   "execution_count": 13,
   "metadata": {},
   "outputs": [
    {
     "name": "stdout",
     "output_type": "stream",
     "text": [
      "Parmar Drashti\n"
     ]
    }
   ],
   "source": [
    "firstname = input(\"Enter Your First Name\")\n",
    "lastname = input(\"Enter Your Last Name\")\n",
    "print(f\"{lastname} {firstname}\")"
   ]
  },
  {
   "cell_type": "markdown",
   "metadata": {},
   "source": [
    "## Question on loops and conidtionals"
   ]
  },
  {
   "cell_type": "markdown",
   "metadata": {},
   "source": [
    "Que - 1: WAP to accept an integer from the user and check whether it is an even or odd "
   ]
  },
  {
   "cell_type": "code",
   "execution_count": 7,
   "metadata": {
    "tags": []
   },
   "outputs": [
    {
     "name": "stdin",
     "output_type": "stream",
     "text": [
      "Enter the number 5\n"
     ]
    },
    {
     "name": "stdout",
     "output_type": "stream",
     "text": [
      "5 is odd number\n"
     ]
    }
   ],
   "source": [
    "num = int(input(\"Enter the number\"))\n",
    "if num%2==0:\n",
    "    print(f\"{num} is even number\")\n",
    "else:\n",
    "    print(f\"{num} is odd number\")"
   ]
  },
  {
   "cell_type": "markdown",
   "metadata": {},
   "source": [
    "Que - 2: WAP to accept a character from the user and check whether it is a capital letter or small letter. Assume user will input only alphabets"
   ]
  },
  {
   "cell_type": "code",
   "execution_count": 9,
   "metadata": {
    "tags": []
   },
   "outputs": [
    {
     "name": "stdin",
     "output_type": "stream",
     "text": [
      "Enter Character a\n"
     ]
    },
    {
     "name": "stdout",
     "output_type": "stream",
     "text": [
      "The character a is in Lower Case\n"
     ]
    }
   ],
   "source": [
    "char = input(\"Enter Character\")\n",
    "if char.isupper():\n",
    "    print(f\"The character {char} is in Upper Case\")\n",
    "else:\n",
    "    print(f\"The character {char} is in Lower Case\")"
   ]
  },
  {
   "cell_type": "markdown",
   "metadata": {},
   "source": [
    "Que - 3: WAP to accept a character from the user and check whether it is a capital letter or small letter or a digit or some special symbol"
   ]
  },
  {
   "cell_type": "code",
   "execution_count": 10,
   "metadata": {
    "tags": []
   },
   "outputs": [
    {
     "name": "stdin",
     "output_type": "stream",
     "text": [
      "Enter Character 4\n"
     ]
    },
    {
     "name": "stdout",
     "output_type": "stream",
     "text": [
      "The character 4 is a digit\n"
     ]
    }
   ],
   "source": [
    "char = input(\"Enter Character\")\n",
    "if char.isupper():\n",
    "    print(f\"The character {char} is a capital letter\")\n",
    "elif char.islower():\n",
    "    print(f\"The character {char} is a small letter\")\n",
    "elif char.isdigit():\n",
    "    print(f\"The character {char} is a digit\")\n",
    "else:\n",
    "    print(f\"The character {char} is a special character\")"
   ]
  },
  {
   "cell_type": "markdown",
   "metadata": {},
   "source": [
    "Que - 4: WAP to accept a year from the user and check\n",
    "whether it is a leap year or not.\n",
    "An year is a leap year if:\n",
    "It is exactly divisible by 4 and at the same time\n",
    "not\n",
    "divisible by 100\n",
    "OR\n",
    "It is divisible by 400\n",
    "For example:\n",
    "2017 is not a leap year\n",
    "2012 is a leap year\n",
    "1900 is a not leap year\n",
    "2000 is a leap year"
   ]
  },
  {
   "cell_type": "code",
   "execution_count": 12,
   "metadata": {
    "tags": []
   },
   "outputs": [
    {
     "name": "stdin",
     "output_type": "stream",
     "text": [
      "Enter year 2021\n"
     ]
    },
    {
     "name": "stdout",
     "output_type": "stream",
     "text": [
      "The 2021 year is not a leap year\n"
     ]
    }
   ],
   "source": [
    "year = int(input(\"Enter year\"))\n",
    "if year%4==0 and year%100!=0 or year%400==0:\n",
    "    print(f\"The {year} year is leap year\")\n",
    "else:\n",
    "    print(f\"The {year} year is not a leap year\")"
   ]
  },
  {
   "cell_type": "markdown",
   "metadata": {},
   "source": [
    "Que - 5: You have to develop a number guessing game.\n",
    "Following are the steps needed:\n",
    "● At first , the program will generate a random integer\n",
    "secretly between 1 to 50.\n",
    "● Now it will ask the user to guess that number .\n",
    "● If the user guessed it correctly then the program\n",
    "prints “Congratulations! You guessed it right” .\n",
    "● But if the number guessed by the user is larger than\n",
    "the secret number then program should print\n",
    "“Number too large” and , if the number guessed by\n",
    "the user is smaller than the secret number then the\n",
    "program should print “Number too small”\n",
    "● This should continue until the user guesses the\n",
    "number correctly or quits .\n",
    "● If the user wants to quit in between he will have to\n",
    "type 0 or negative number"
   ]
  },
  {
   "cell_type": "code",
   "execution_count": 14,
   "metadata": {
    "tags": []
   },
   "outputs": [
    {
     "name": "stdin",
     "output_type": "stream",
     "text": [
      "Enter Your Guess between 1 to 50 -5\n"
     ]
    },
    {
     "name": "stdout",
     "output_type": "stream",
     "text": [
      "You are Quiting Guessing Game\n"
     ]
    }
   ],
   "source": [
    "import random\n",
    "random_number = random.randint(1,50) \n",
    "flag = True\n",
    "while flag:\n",
    "    num = int(input(\"Enter Your Guess between 1 to 50\"))\n",
    "    if num>random_number:\n",
    "        print(f\"The number {num} that you have guessed is Larger than Actual Number\")\n",
    "    elif num<=0:\n",
    "        print(\"You are Quiting Guessing Game\")\n",
    "        flag=False\n",
    "    elif num<random_number:\n",
    "        print(f\"The number {num} that you have guessed is Smaller than Actual Number\")\n",
    "    else:\n",
    "        flag=False\n",
    "        print(\"Congratulation You Guessed Correctly. You are the Winnner\")"
   ]
  },
  {
   "cell_type": "code",
   "execution_count": 16,
   "metadata": {
    "tags": []
   },
   "outputs": [
    {
     "name": "stdin",
     "output_type": "stream",
     "text": [
      "enter any number 50\n"
     ]
    }
   ],
   "source": [
    "a=int(input(\"enter any number\"))\n",
    "if a in range(1,50):\n",
    "    print(\"Congratulations! You guessed it right\")\n",
    "if a>50:\n",
    "    print(\"Number too large\")\n",
    "elif a<1 and ~(a==0):\n",
    "    print(\"Number too small\")\n",
    "elif a<0 and a==0:\n",
    "    print(\"0 or negative number\")"
   ]
  },
  {
   "cell_type": "markdown",
   "metadata": {},
   "source": [
    "Que - 6: Write a program to continuously accept integers from the user until the user types 0 and as soon as 0 is entered\n",
    "display sum of all the nos entered before 0\n"
   ]
  },
  {
   "cell_type": "code",
   "execution_count": 54,
   "metadata": {},
   "outputs": [
    {
     "name": "stdout",
     "output_type": "stream",
     "text": [
      "The Total Sum is 15\n"
     ]
    }
   ],
   "source": [
    "flag = True\n",
    "sum = 0\n",
    "while flag:\n",
    "    num = int(input(\"Enter the Number\"))\n",
    "    if num==0:\n",
    "        flag = False\n",
    "    else:\n",
    "        sum += num\n",
    "else:\n",
    "    print(\"The Total Sum is\", sum)"
   ]
  },
  {
   "cell_type": "markdown",
   "metadata": {},
   "source": [
    "Note: Modify the previous code so that if the user inputs a\n",
    "negative integer , your program should ignore it ."
   ]
  },
  {
   "cell_type": "code",
   "execution_count": 58,
   "metadata": {},
   "outputs": [
    {
     "name": "stdout",
     "output_type": "stream",
     "text": [
      "The Total Sum is 15\n"
     ]
    }
   ],
   "source": [
    "flag = True\n",
    "sum = 0\n",
    "while flag:\n",
    "    num = int(input(\"Enter the Number\"))\n",
    "    if num==0:\n",
    "        flag = False\n",
    "    if num<0:\n",
    "        continue\n",
    "    else:\n",
    "        sum += num\n",
    "else:\n",
    "    print(\"The Total Sum is\", sum)"
   ]
  },
  {
   "cell_type": "markdown",
   "metadata": {},
   "source": [
    "Que - 7: Write a program using a for loop to accept a string from the user\n",
    "and display it vertically but don’t display the vowels in it"
   ]
  },
  {
   "cell_type": "code",
   "execution_count": 59,
   "metadata": {},
   "outputs": [
    {
     "name": "stdout",
     "output_type": "stream",
     "text": [
      "p\n",
      "y\n",
      "t\n",
      "h\n",
      "n\n"
     ]
    }
   ],
   "source": [
    "string = input(\"Enter String\")\n",
    "for i in string:\n",
    "    if i in \"AEIOUaeiou\":\n",
    "        continue\n",
    "    print(i)"
   ]
  },
  {
   "cell_type": "markdown",
   "metadata": {},
   "source": [
    "Que - 8: Write a program to accept an integer from the user and display the\n",
    "sum of all the numbers from 1 to that number."
   ]
  },
  {
   "cell_type": "code",
   "execution_count": 17,
   "metadata": {
    "tags": []
   },
   "outputs": [
    {
     "name": "stdin",
     "output_type": "stream",
     "text": [
      "Enter the Number 6\n"
     ]
    },
    {
     "name": "stdout",
     "output_type": "stream",
     "text": [
      "The Sum of all numbers is 21\n"
     ]
    }
   ],
   "source": [
    "num = int(input(\"Enter the Number\"))\n",
    "sum = 0\n",
    "for i in range(num+1):\n",
    "    sum += i\n",
    "print(\"The Sum of all numbers is\", sum)"
   ]
  },
  {
   "cell_type": "markdown",
   "metadata": {},
   "source": [
    "Que - 9: Write a program to accept an integer from the user and calculate\n",
    "its factorial"
   ]
  },
  {
   "cell_type": "code",
   "execution_count": 18,
   "metadata": {
    "tags": []
   },
   "outputs": [
    {
     "name": "stdin",
     "output_type": "stream",
     "text": [
      "Enter Number 6\n"
     ]
    },
    {
     "name": "stdout",
     "output_type": "stream",
     "text": [
      "The factorial of the number 6 is 720\n"
     ]
    }
   ],
   "source": [
    "num = int(input(\"Enter Number\"))\n",
    "factorial = 1\n",
    "if num==1 or num==0:\n",
    "    factorial = 1\n",
    "else:\n",
    "    for i in range(2, num+1):\n",
    "        factorial *= i\n",
    "print(f\"The factorial of the number {num} is {factorial}\")"
   ]
  },
  {
   "cell_type": "markdown",
   "metadata": {},
   "source": [
    "Que - 10: Write a program to print the following pattern \n",
    "\n"
   ]
  },
  {
   "cell_type": "code",
   "execution_count": 63,
   "metadata": {},
   "outputs": [],
   "source": [
    "# ***\n",
    "# ***\n",
    "# ***"
   ]
  },
  {
   "cell_type": "code",
   "execution_count": 19,
   "metadata": {
    "tags": []
   },
   "outputs": [
    {
     "name": "stdout",
     "output_type": "stream",
     "text": [
      "***\n",
      "***\n",
      "***\n"
     ]
    }
   ],
   "source": [
    "num=3\n",
    "for i in range(num):\n",
    "    print(\"*\"*num)"
   ]
  },
  {
   "cell_type": "markdown",
   "metadata": {},
   "source": [
    "Que - 11: Write a program to print the following pattern"
   ]
  },
  {
   "cell_type": "code",
   "execution_count": 67,
   "metadata": {},
   "outputs": [],
   "source": [
    "# *\n",
    "# **\n",
    "# ***\n",
    "# ****"
   ]
  },
  {
   "cell_type": "code",
   "execution_count": 70,
   "metadata": {},
   "outputs": [
    {
     "name": "stdout",
     "output_type": "stream",
     "text": [
      "*\n",
      "**\n",
      "***\n",
      "****\n"
     ]
    }
   ],
   "source": [
    "num = 4 \n",
    "for i in range(1,num+1):\n",
    "    print(\"*\"*i)"
   ]
  },
  {
   "cell_type": "markdown",
   "metadata": {},
   "source": [
    "Que - 12: Write a program to print the following pattern"
   ]
  },
  {
   "cell_type": "code",
   "execution_count": 71,
   "metadata": {},
   "outputs": [],
   "source": [
    "# ****\n",
    "# ***\n",
    "# **\n",
    "# *"
   ]
  },
  {
   "cell_type": "code",
   "execution_count": 73,
   "metadata": {},
   "outputs": [
    {
     "name": "stdout",
     "output_type": "stream",
     "text": [
      "****\n",
      "***\n",
      "**\n",
      "*\n"
     ]
    }
   ],
   "source": [
    "num = 4\n",
    "for i in range(num):\n",
    "    print(\"*\"*(num-i))"
   ]
  },
  {
   "cell_type": "markdown",
   "metadata": {},
   "source": [
    "Que - 13: Write a program to accept an integer from the user and\n",
    "display all the numbers from 1 to that number. Repeat the\n",
    "process until the user enters 0 "
   ]
  },
  {
   "cell_type": "code",
   "execution_count": 20,
   "metadata": {
    "tags": []
   },
   "outputs": [
    {
     "name": "stdin",
     "output_type": "stream",
     "text": [
      "Enter number 5\n"
     ]
    },
    {
     "name": "stdout",
     "output_type": "stream",
     "text": [
      "****************************************************************************************************\n",
      "1\n",
      "2\n",
      "3\n",
      "4\n",
      "5\n"
     ]
    },
    {
     "name": "stdin",
     "output_type": "stream",
     "text": [
      "Enter number 10\n"
     ]
    },
    {
     "name": "stdout",
     "output_type": "stream",
     "text": [
      "****************************************************************************************************\n",
      "1\n",
      "2\n",
      "3\n",
      "4\n",
      "5\n",
      "6\n",
      "7\n",
      "8\n",
      "9\n",
      "10\n"
     ]
    },
    {
     "name": "stdin",
     "output_type": "stream",
     "text": [
      "Enter number 0\n"
     ]
    }
   ],
   "source": [
    "flag = True\n",
    "while flag:\n",
    "    num = int(input(\"Enter number\"))\n",
    "    if num==0:\n",
    "        flag=False\n",
    "    else:\n",
    "        print(\"*\"*100)\n",
    "        for i in range(1,num+1):\n",
    "            print(i) "
   ]
  },
  {
   "cell_type": "markdown",
   "metadata": {},
   "source": [
    "Que - 14: Write a program to print the following pattern"
   ]
  },
  {
   "cell_type": "code",
   "execution_count": 78,
   "metadata": {},
   "outputs": [],
   "source": [
    "# 1   // 1st Row \n",
    "# 1 2 1 // 2nd row \n",
    "# 1 2 3 2 1\n",
    "# 1 2 3 4 3 2 1\n",
    "# 1 2 3 4 5 4 3 2 1"
   ]
  },
  {
   "cell_type": "code",
   "execution_count": 21,
   "metadata": {
    "tags": []
   },
   "outputs": [
    {
     "name": "stdout",
     "output_type": "stream",
     "text": [
      "1 \n",
      "1 2 1 \n",
      "1 2 3 2 1 \n",
      "1 2 3 4 3 2 1 \n",
      "1 2 3 4 5 4 3 2 1 \n"
     ]
    }
   ],
   "source": [
    "num = 5\n",
    "for i in range(1, num+1):\n",
    "    for j in range(1, i+1):\n",
    "        print(j, end=\" \")\n",
    "    for k in range(i-1, 0, -1):\n",
    "        print(k, end=\" \")\n",
    "    print()"
   ]
  },
  {
   "cell_type": "code",
   "execution_count": null,
   "metadata": {},
   "outputs": [],
   "source": []
  },
  {
   "cell_type": "code",
   "execution_count": null,
   "metadata": {},
   "outputs": [],
   "source": []
  },
  {
   "cell_type": "code",
   "execution_count": null,
   "metadata": {},
   "outputs": [],
   "source": []
  },
  {
   "cell_type": "code",
   "execution_count": null,
   "metadata": {},
   "outputs": [],
   "source": []
  },
  {
   "cell_type": "code",
   "execution_count": 22,
   "metadata": {
    "tags": []
   },
   "outputs": [],
   "source": [
    "# 1   // 1st Row \n",
    "# 1 2 1 // 2nd row \n",
    "# 1 2 3 2 1\n",
    "# 1 2 3 4 3 2 1\n",
    "# 1 2 3 4 5 4 3 2 1"
   ]
  },
  {
   "cell_type": "code",
   "execution_count": 23,
   "metadata": {
    "tags": []
   },
   "outputs": [],
   "source": [
    "n =  5"
   ]
  },
  {
   "cell_type": "code",
   "execution_count": 27,
   "metadata": {
    "tags": []
   },
   "outputs": [
    {
     "name": "stdout",
     "output_type": "stream",
     "text": [
      "1\n",
      "121\n",
      "12321\n",
      "1234321\n",
      "123454321\n"
     ]
    }
   ],
   "source": [
    "for row in range(1,n+1):\n",
    "    rowNum = row\n",
    "    for j in range(1,row):\n",
    "        print(j,sep=\" \",end=\"\")\n",
    "    for k in range(row,0,-1):\n",
    "        print(k,sep=\" \",end=\"\")\n",
    "    print()\n",
    "        "
   ]
  },
  {
   "cell_type": "code",
   "execution_count": null,
   "metadata": {},
   "outputs": [],
   "source": []
  },
  {
   "cell_type": "code",
   "execution_count": null,
   "metadata": {},
   "outputs": [],
   "source": []
  },
  {
   "cell_type": "code",
   "execution_count": null,
   "metadata": {},
   "outputs": [],
   "source": []
  },
  {
   "cell_type": "code",
   "execution_count": null,
   "metadata": {},
   "outputs": [],
   "source": []
  },
  {
   "cell_type": "code",
   "execution_count": null,
   "metadata": {},
   "outputs": [],
   "source": []
  },
  {
   "cell_type": "code",
   "execution_count": 1,
   "metadata": {
    "tags": []
   },
   "outputs": [
    {
     "ename": "NameError",
     "evalue": "name 'random' is not defined",
     "output_type": "error",
     "traceback": [
      "\u001b[0;31m---------------------------------------------------------------------------\u001b[0m",
      "\u001b[0;31mNameError\u001b[0m                                 Traceback (most recent call last)",
      "Cell \u001b[0;32mIn[1], line 3\u001b[0m\n\u001b[1;32m      1\u001b[0m \u001b[38;5;66;03m##### import random\u001b[39;00m\n\u001b[0;32m----> 3\u001b[0m randNum \u001b[38;5;241m=\u001b[39m random\u001b[38;5;241m.\u001b[39mrandint(\u001b[38;5;241m1\u001b[39m,\u001b[38;5;241m50\u001b[39m)\n\u001b[1;32m      5\u001b[0m \u001b[38;5;28mprint\u001b[39m(\u001b[38;5;124m\"\u001b[39m\u001b[38;5;124mWelcome to the number guessing game\u001b[39m\u001b[38;5;124m\"\u001b[39m)\n\u001b[1;32m      6\u001b[0m \u001b[38;5;28mprint\u001b[39m(\u001b[38;5;124m\"\u001b[39m\u001b[38;5;124mYou will get 5 chances to guess the correct number.\u001b[39m\u001b[38;5;124m\"\u001b[39m)\n",
      "\u001b[0;31mNameError\u001b[0m: name 'random' is not defined"
     ]
    }
   ],
   "source": [
    "##### import random\n",
    "\n",
    "randNum = random.randint(1,50)\n",
    "\n",
    "print(\"Welcome to the number guessing game\")\n",
    "print(\"You will get 5 chances to guess the correct number.\")\n",
    "print(\"Small hints will be provided for you to guess the correct number\")\n",
    "print(\"In case you wise to quit the game in between please enter 0 or any negative number as input\")\n",
    "print(\"*\" * 100)\n",
    "\n",
    "inp = int(input(\"Please enter a number of your choice between 0 to 50: \"))\n",
    "\n",
    "while inp > 0:\n",
    "    #inp = int(input(\"Please enter a number of your choice between 0 to 50: \"))\n",
    "    if inp == randNum:\n",
    "        print(\"Congrats! You've guessed the correct number.\")\n",
    "        break\n",
    "    elif inp < randNum:\n",
    "        print(\"The number you've chosen is lower than the number chosen by computer. Please try again!\")\n",
    "        print(\"*\" * 100)\n",
    "    elif inp > randNum:\n",
    "        print(\"The number you've chosen is greater than the number chosen by computer. Please try again\")\n",
    "        print(\"*\" * 100)\n",
    "    int(input(\"Please enter a number of your choice between 0 to 50: \"))"
   ]
  },
  {
   "cell_type": "code",
   "execution_count": null,
   "metadata": {},
   "outputs": [],
   "source": []
  },
  {
   "cell_type": "markdown",
   "metadata": {},
   "source": [
    "\"\"\"\n",
    "I tried to make another variation of this guessing game with limited number of tries (5 in this case), but I'm unable to fit in the loop breaking condition\n",
    "where counter exceeds 5 tries or user forcefully breaks the loop by entering 0 or negative number within the elif/else condition\n",
    "As you can see the lsat lines of code, it's working out by using another if statement (weird jugaad if you may...).\n",
    "Can you guide me how to correct this?\n",
    "\n",
    "\"\"\"\n"
   ]
  },
  {
   "cell_type": "code",
   "execution_count": 5,
   "metadata": {
    "tags": []
   },
   "outputs": [
    {
     "name": "stdout",
     "output_type": "stream",
     "text": [
      "Welcome to the number guessing game\n",
      "You will get 5 chances to guess the correct number.\n",
      "Small hints will be provided for you to guess the correct number\n",
      "In case you wise to quit the game in between please enter 0 or any negative number as input\n",
      "****************************************************************************************************\n"
     ]
    },
    {
     "name": "stdin",
     "output_type": "stream",
     "text": [
      "Please enter a number of your choice between 0 to 50:  2\n"
     ]
    },
    {
     "name": "stdout",
     "output_type": "stream",
     "text": [
      "The number you've chosen is lower than the number chosen by computer. Please try again!\n",
      "****************************************************************************************************\n",
      "count1\n"
     ]
    },
    {
     "name": "stdin",
     "output_type": "stream",
     "text": [
      "Please enter a number of your choice between 0 to 50:  25\n"
     ]
    },
    {
     "name": "stdout",
     "output_type": "stream",
     "text": [
      "The number you've chosen is lower than the number chosen by computer. Please try again!\n",
      "****************************************************************************************************\n",
      "count2\n"
     ]
    },
    {
     "name": "stdin",
     "output_type": "stream",
     "text": [
      "Please enter a number of your choice between 0 to 50:  25\n"
     ]
    },
    {
     "name": "stdout",
     "output_type": "stream",
     "text": [
      "The number you've chosen is lower than the number chosen by computer. Please try again!\n",
      "****************************************************************************************************\n",
      "count3\n"
     ]
    },
    {
     "name": "stdin",
     "output_type": "stream",
     "text": [
      "Please enter a number of your choice between 0 to 50:  25\n"
     ]
    },
    {
     "name": "stdout",
     "output_type": "stream",
     "text": [
      "The number you've chosen is lower than the number chosen by computer. Please try again!\n",
      "****************************************************************************************************\n",
      "count4\n"
     ]
    },
    {
     "name": "stdin",
     "output_type": "stream",
     "text": [
      "Please enter a number of your choice between 0 to 50:  25\n"
     ]
    },
    {
     "name": "stdout",
     "output_type": "stream",
     "text": [
      "The number you've chosen is lower than the number chosen by computer. Please try again!\n",
      "****************************************************************************************************\n",
      "count5\n"
     ]
    }
   ],
   "source": [
    "\"\"\"\n",
    "I tried to make another variation of this guessing game with limited number of tries (5 in this case), but I'm unable to fit in the loop breaking condition\n",
    "where counter exceeds 5 tries or user forcefully breaks the loop by entering 0 or negative number within the elif/else condition\n",
    "As you can see the lsat lines of code, it's working out by using another if statement (weird jugaad if you may...).\n",
    "Can you guide me how to correct this?\n",
    "\n",
    "\"\"\"\n",
    "\n",
    "import random\n",
    "\n",
    "randNum = random.randint(1,50)\n",
    "counter = 0\n",
    "print(\"Welcome to the number guessing game\")\n",
    "print(\"You will get 5 chances to guess the correct number.\")\n",
    "print(\"Small hints will be provided for you to guess the correct number\")\n",
    "print(\"In case you wise to quit the game in between please enter 0 or any negative number as input\")\n",
    "print(\"*\" * 100)\n",
    "\n",
    "while counter < 5:\n",
    "    \n",
    "    inp = int(input(\"Please enter a number of your choice between 0 to 50: \"))\n",
    "    counter = counter + 1\n",
    "    if inp == randNum:\n",
    "        print(\"Congrats! You've guessed the correct number.\")\n",
    "        break\n",
    "    elif inp < randNum and inp > 0:\n",
    "        print(\"The number you've chosen is lower than the number chosen by computer. Please try again!\")\n",
    "        print(\"*\" * 100)\n",
    "    elif inp > randNum:\n",
    "        print(\"The number you've chosen is greater than the number chosen by computer. Please try again\")\n",
    "        print(\"*\" * 100)\n",
    "    elif  inp <= 0:\n",
    "        print(\"Unfortunately you were unable to guess the correct number which was: {}. Try again another time!\". format(randNum))\n",
    "        break\n",
    "        \n",
    "    print(\"count\" + str(counter))\n",
    "    "
   ]
  }
 ],
 "metadata": {
  "kernelspec": {
   "display_name": "Python 3 (ipykernel)",
   "language": "python",
   "name": "python3"
  },
  "language_info": {
   "codemirror_mode": {
    "name": "ipython",
    "version": 3
   },
   "file_extension": ".py",
   "mimetype": "text/x-python",
   "name": "python",
   "nbconvert_exporter": "python",
   "pygments_lexer": "ipython3",
   "version": "3.11.5"
  }
 },
 "nbformat": 4,
 "nbformat_minor": 4
}
