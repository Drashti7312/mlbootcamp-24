{
 "cells": [
  {
   "cell_type": "code",
   "execution_count": 4,
   "id": "bdd7bd72-98c4-4f14-898d-d7684b3c8b30",
   "metadata": {
    "tags": []
   },
   "outputs": [],
   "source": [
    "a = 10\n",
    "m= \"mayank\""
   ]
  },
  {
   "cell_type": "code",
   "execution_count": 2,
   "id": "a5a6ede1-99ae-44ee-9edf-fba785fb2d20",
   "metadata": {
    "tags": []
   },
   "outputs": [
    {
     "name": "stdout",
     "output_type": "stream",
     "text": [
      " 10 is value of a\n"
     ]
    }
   ],
   "source": [
    "print( \" %d is value of a\" %a)"
   ]
  },
  {
   "cell_type": "code",
   "execution_count": 3,
   "id": "4b272b03-d648-4244-b1a6-3cf4d540857f",
   "metadata": {
    "tags": []
   },
   "outputs": [
    {
     "name": "stdout",
     "output_type": "stream",
     "text": [
      " 10 is value of a\n"
     ]
    }
   ],
   "source": [
    "print( \" %d is value of a\" %(a))"
   ]
  },
  {
   "cell_type": "code",
   "execution_count": 11,
   "id": "57152e9a-2134-40ca-a6e2-ce2e4d0c9525",
   "metadata": {
    "tags": []
   },
   "outputs": [
    {
     "name": "stdout",
     "output_type": "stream",
     "text": [
      "name is mayank and age is 10\n"
     ]
    }
   ],
   "source": [
    "print(\"name is %s and age is %d\" %(m,a))"
   ]
  },
  {
   "cell_type": "code",
   "execution_count": 6,
   "id": "879b707f-322f-4df3-95d8-6e055eda0f6a",
   "metadata": {
    "tags": []
   },
   "outputs": [
    {
     "ename": "TypeError",
     "evalue": "%d format: a real number is required, not str",
     "output_type": "error",
     "traceback": [
      "\u001b[0;31m---------------------------------------------------------------------------\u001b[0m",
      "\u001b[0;31mTypeError\u001b[0m                                 Traceback (most recent call last)",
      "Cell \u001b[0;32mIn[6], line 1\u001b[0m\n\u001b[0;32m----> 1\u001b[0m \u001b[38;5;28mprint\u001b[39m(\u001b[38;5;124m\"\u001b[39m\u001b[38;5;124mname is \u001b[39m\u001b[38;5;132;01m%d\u001b[39;00m\u001b[38;5;124m and age is \u001b[39m\u001b[38;5;132;01m%d\u001b[39;00m\u001b[38;5;124m\"\u001b[39m \u001b[38;5;241m%\u001b[39m(m,a))\n",
      "\u001b[0;31mTypeError\u001b[0m: %d format: a real number is required, not str"
     ]
    }
   ],
   "source": [
    "print(\"name is %d and age is %d\" %(m,a))"
   ]
  },
  {
   "cell_type": "code",
   "execution_count": 9,
   "id": "9d311515-6cb9-4b09-9adb-dccfd08f6162",
   "metadata": {
    "tags": []
   },
   "outputs": [
    {
     "name": "stdout",
     "output_type": "stream",
     "text": [
      "name is %d and age is %d mayank 10\n"
     ]
    }
   ],
   "source": [
    "print(\"name is %d and age is %d\" ,m,a) # syntax not right"
   ]
  },
  {
   "cell_type": "code",
   "execution_count": 13,
   "id": "0b43b102-0b86-4658-ad37-5f773e11b881",
   "metadata": {
    "tags": []
   },
   "outputs": [
    {
     "ename": "TypeError",
     "evalue": "not enough arguments for format string",
     "output_type": "error",
     "traceback": [
      "\u001b[0;31m---------------------------------------------------------------------------\u001b[0m",
      "\u001b[0;31mTypeError\u001b[0m                                 Traceback (most recent call last)",
      "Cell \u001b[0;32mIn[13], line 1\u001b[0m\n\u001b[0;32m----> 1\u001b[0m \u001b[38;5;28mprint\u001b[39m(\u001b[38;5;124m\"\u001b[39m\u001b[38;5;124mname is \u001b[39m\u001b[38;5;132;01m%d\u001b[39;00m\u001b[38;5;124m and age is \u001b[39m\u001b[38;5;132;01m%d\u001b[39;00m\u001b[38;5;124m\"\u001b[39m \u001b[38;5;241m%\u001b[39ma)\n",
      "\u001b[0;31mTypeError\u001b[0m: not enough arguments for format string"
     ]
    }
   ],
   "source": [
    "print(\"name is %d and age is %d\" %a)"
   ]
  },
  {
   "cell_type": "code",
   "execution_count": 14,
   "id": "f158c9bd-5858-4492-b70a-c5913459087f",
   "metadata": {
    "tags": []
   },
   "outputs": [
    {
     "name": "stdout",
     "output_type": "stream",
     "text": [
      "name is and age is 10\n"
     ]
    }
   ],
   "source": [
    "print(\"name is and age is %i\" %a)"
   ]
  },
  {
   "cell_type": "code",
   "execution_count": null,
   "id": "ae78744b-b9ea-46a3-9957-aed3bfe43b59",
   "metadata": {},
   "outputs": [],
   "source": []
  },
  {
   "cell_type": "code",
   "execution_count": 15,
   "id": "daef2796-e881-4aa9-8e08-dccbe4e38932",
   "metadata": {
    "tags": []
   },
   "outputs": [
    {
     "name": "stdout",
     "output_type": "stream",
     "text": [
      "name is and age is 10.000000\n"
     ]
    }
   ],
   "source": [
    "print(\"name is and age is %f\" %a) ## gonna convert to float "
   ]
  },
  {
   "cell_type": "code",
   "execution_count": 16,
   "id": "f50adc41-5c64-4be8-88d9-9255e506c1bc",
   "metadata": {
    "tags": []
   },
   "outputs": [
    {
     "name": "stdout",
     "output_type": "stream",
     "text": [
      "age1 is 10 and age is 10\n"
     ]
    }
   ],
   "source": [
    "print(\"age1 is %d and age is %i\" %(10.0,a)) ## gonna convert to float "
   ]
  },
  {
   "cell_type": "code",
   "execution_count": 17,
   "id": "d4ff15c0-51aa-4101-a0bf-b2202cf3ba60",
   "metadata": {
    "tags": []
   },
   "outputs": [
    {
     "ename": "TypeError",
     "evalue": "not enough arguments for format string",
     "output_type": "error",
     "traceback": [
      "\u001b[0;31m---------------------------------------------------------------------------\u001b[0m",
      "\u001b[0;31mTypeError\u001b[0m                                 Traceback (most recent call last)",
      "Cell \u001b[0;32mIn[17], line 1\u001b[0m\n\u001b[0;32m----> 1\u001b[0m \u001b[38;5;28mprint\u001b[39m(\u001b[38;5;124m\"\u001b[39m\u001b[38;5;124mage1 is \u001b[39m\u001b[38;5;132;01m%d\u001b[39;00m\u001b[38;5;124m and age is \u001b[39m\u001b[38;5;132;01m%i\u001b[39;00m\u001b[38;5;124m\"\u001b[39m \u001b[38;5;241m%\u001b[39m(\u001b[38;5;241m10.0\u001b[39m))\n",
      "\u001b[0;31mTypeError\u001b[0m: not enough arguments for format string"
     ]
    }
   ],
   "source": [
    "print(\"age1 is %d and age is %i\" %(10.0)) ## gonna convert to float "
   ]
  },
  {
   "cell_type": "code",
   "execution_count": 19,
   "id": "3e5617e3-fda9-4545-9499-499c130a54bb",
   "metadata": {
    "tags": []
   },
   "outputs": [
    {
     "name": "stdout",
     "output_type": "stream",
     "text": [
      "age1 is 10.0 and age is 10\n"
     ]
    }
   ],
   "source": [
    "print(\"age1 is %s and age is %s\" %(10.0,a)) ## gonna convert to string automatically "
   ]
  },
  {
   "cell_type": "code",
   "execution_count": 20,
   "id": "e46631cb-96a6-4c4e-9d1a-845826862cb8",
   "metadata": {
    "tags": []
   },
   "outputs": [
    {
     "name": "stdout",
     "output_type": "stream",
     "text": [
      " number is 10.65\n"
     ]
    }
   ],
   "source": [
    "dec = 10.65365\n",
    "\n",
    "print(\" number is %.2f\" %dec)"
   ]
  },
  {
   "cell_type": "code",
   "execution_count": null,
   "id": "e265cfde-fa29-4c2c-b5b1-1ad98d15bde1",
   "metadata": {},
   "outputs": [],
   "source": []
  },
  {
   "cell_type": "code",
   "execution_count": 21,
   "id": "72fd6600-d4ec-4394-926d-38d5e10a99c0",
   "metadata": {
    "tags": []
   },
   "outputs": [
    {
     "name": "stdout",
     "output_type": "stream",
     "text": [
      "name is mayank and age is 10\n"
     ]
    }
   ],
   "source": [
    "# print(\"name is %s and age is %d\" %(m,a))"
   ]
  },
  {
   "cell_type": "code",
   "execution_count": 22,
   "id": "bb24753e-d834-48c7-9e27-d19bcdfa1240",
   "metadata": {
    "tags": []
   },
   "outputs": [
    {
     "name": "stdout",
     "output_type": "stream",
     "text": [
      "name is mayank and age is 10\n"
     ]
    }
   ],
   "source": [
    "print(\"name is {0} and age is {1}\".format(m,a)) "
   ]
  },
  {
   "cell_type": "code",
   "execution_count": 23,
   "id": "1ef548ac-0cfe-4c5c-8976-109646aaebe1",
   "metadata": {
    "tags": []
   },
   "outputs": [
    {
     "name": "stdout",
     "output_type": "stream",
     "text": [
      "name is mayank and age is mayank\n"
     ]
    }
   ],
   "source": [
    "print(\"name is {0} and age is {0}\".format(m,a)) "
   ]
  },
  {
   "cell_type": "code",
   "execution_count": 34,
   "id": "3c8be847-3811-4077-be85-a36aa3d1a410",
   "metadata": {
    "tags": []
   },
   "outputs": [
    {
     "ename": "ValueError",
     "evalue": "cannot switch from automatic field numbering to manual field specification",
     "output_type": "error",
     "traceback": [
      "\u001b[0;31m---------------------------------------------------------------------------\u001b[0m",
      "\u001b[0;31mValueError\u001b[0m                                Traceback (most recent call last)",
      "Cell \u001b[0;32mIn[34], line 1\u001b[0m\n\u001b[0;32m----> 1\u001b[0m \u001b[38;5;28mprint\u001b[39m(\u001b[38;5;124m\"\u001b[39m\u001b[38;5;124mname is \u001b[39m\u001b[38;5;132;01m{}\u001b[39;00m\u001b[38;5;124m and age is \u001b[39m\u001b[38;5;132;01m{1}\u001b[39;00m\u001b[38;5;124m\"\u001b[39m\u001b[38;5;241m.\u001b[39mformat(m,a))\n",
      "\u001b[0;31mValueError\u001b[0m: cannot switch from automatic field numbering to manual field specification"
     ]
    }
   ],
   "source": [
    "print(\"name is {} and age is {1}\".format(m,a)) "
   ]
  },
  {
   "cell_type": "code",
   "execution_count": 25,
   "id": "fe4f83b9-af5e-4625-a511-13eb19e9bff9",
   "metadata": {
    "tags": []
   },
   "outputs": [
    {
     "name": "stdout",
     "output_type": "stream",
     "text": [
      "name is 2 and age is 10\n"
     ]
    }
   ],
   "source": [
    "print(\"name is {3} and age is {1}\".format(m,a,1,2,3)) "
   ]
  },
  {
   "cell_type": "markdown",
   "id": "db7fd654-7efe-4537-b3d1-dce8e82e59e9",
   "metadata": {},
   "source": [
    "# we can go away with indexing in format list and specify exact names for placeholder and there value"
   ]
  },
  {
   "cell_type": "code",
   "execution_count": 27,
   "id": "3073173a-5102-4f67-81a2-c2ddb6188dfe",
   "metadata": {
    "tags": []
   },
   "outputs": [
    {
     "data": {
      "text/plain": [
       "('mayank', 10)"
      ]
     },
     "execution_count": 27,
     "metadata": {},
     "output_type": "execute_result"
    }
   ],
   "source": [
    "m,a"
   ]
  },
  {
   "cell_type": "code",
   "execution_count": 29,
   "id": "6d821b91-6036-4adc-9893-351aab41d9e3",
   "metadata": {
    "tags": []
   },
   "outputs": [
    {
     "name": "stdout",
     "output_type": "stream",
     "text": [
      "name is mayank and age is 10\n"
     ]
    }
   ],
   "source": [
    "print(\"name is {name} and age is {age}\".format(name= m, age = a)) "
   ]
  },
  {
   "cell_type": "code",
   "execution_count": 31,
   "id": "ba60f221-bc22-4487-b3e7-5451ea5f5d47",
   "metadata": {
    "tags": []
   },
   "outputs": [
    {
     "name": "stdout",
     "output_type": "stream",
     "text": [
      "name is mayank and age is 10\n"
     ]
    }
   ],
   "source": [
    "# Order can be changed now.\n",
    "print(\"name is {name} and age is {age}\".format( age = a,name= m)) "
   ]
  },
  {
   "cell_type": "code",
   "execution_count": 32,
   "id": "cd0cb4c1-bfb6-44a7-ae7b-0d0ab0caac1e",
   "metadata": {
    "tags": []
   },
   "outputs": [
    {
     "name": "stdout",
     "output_type": "stream",
     "text": [
      "name is 10 and age is mayank\n"
     ]
    }
   ],
   "source": [
    "# everything should be empty and then it will take the order\n",
    "\n",
    "print(\"name is {} and age is {}\".format(  a, m))  "
   ]
  },
  {
   "cell_type": "code",
   "execution_count": 35,
   "id": "f4846249-45ef-4a00-9fcc-17679c9540e4",
   "metadata": {
    "tags": []
   },
   "outputs": [
    {
     "ename": "ValueError",
     "evalue": "cannot switch from automatic field numbering to manual field specification",
     "output_type": "error",
     "traceback": [
      "\u001b[0;31m---------------------------------------------------------------------------\u001b[0m",
      "\u001b[0;31mValueError\u001b[0m                                Traceback (most recent call last)",
      "Cell \u001b[0;32mIn[35], line 3\u001b[0m\n\u001b[1;32m      1\u001b[0m \u001b[38;5;66;03m# everything should be empty and then it will take the order\u001b[39;00m\n\u001b[0;32m----> 3\u001b[0m \u001b[38;5;28mprint\u001b[39m(\u001b[38;5;124m\"\u001b[39m\u001b[38;5;124mname is \u001b[39m\u001b[38;5;132;01m{}\u001b[39;00m\u001b[38;5;124m and age is \u001b[39m\u001b[38;5;132;01m{1}\u001b[39;00m\u001b[38;5;124m\"\u001b[39m\u001b[38;5;241m.\u001b[39mformat(  a, m))\n",
      "\u001b[0;31mValueError\u001b[0m: cannot switch from automatic field numbering to manual field specification"
     ]
    }
   ],
   "source": [
    "# everything should be empty and then it will take the order\n",
    "\n",
    "print(\"name is {} and age is {1}\".format(  a, m))  "
   ]
  },
  {
   "cell_type": "code",
   "execution_count": 36,
   "id": "f97bfb4f-3308-4046-8c97-5fc677079a70",
   "metadata": {
    "tags": []
   },
   "outputs": [
    {
     "ename": "SyntaxError",
     "evalue": "positional argument follows keyword argument (2995373345.py, line 3)",
     "output_type": "error",
     "traceback": [
      "\u001b[0;36m  Cell \u001b[0;32mIn[36], line 3\u001b[0;36m\u001b[0m\n\u001b[0;31m    print(\"name is {} and age is {age}\".format( age= a, m))\u001b[0m\n\u001b[0m                                                         ^\u001b[0m\n\u001b[0;31mSyntaxError\u001b[0m\u001b[0;31m:\u001b[0m positional argument follows keyword argument\n"
     ]
    }
   ],
   "source": [
    "# everything should be empty and then it will take the order\n",
    "\n",
    "print(\"name is {} and age is {age}\".format( age= a, m))  "
   ]
  },
  {
   "cell_type": "code",
   "execution_count": 37,
   "id": "0ff4a41b-cd18-464f-944b-a91a3760c121",
   "metadata": {
    "tags": []
   },
   "outputs": [
    {
     "name": "stdout",
     "output_type": "stream",
     "text": [
      "name is 10 and age is mayank\n"
     ]
    }
   ],
   "source": [
    "# everything should be empty and then it will take the order\n",
    "\n",
    "print(\"name is {} and age is {}\".format(  a, m))  "
   ]
  }
 ],
 "metadata": {
  "kernelspec": {
   "display_name": "Python 3 (ipykernel)",
   "language": "python",
   "name": "python3"
  },
  "language_info": {
   "codemirror_mode": {
    "name": "ipython",
    "version": 3
   },
   "file_extension": ".py",
   "mimetype": "text/x-python",
   "name": "python",
   "nbconvert_exporter": "python",
   "pygments_lexer": "ipython3",
   "version": "3.11.7"
  }
 },
 "nbformat": 4,
 "nbformat_minor": 5
}
