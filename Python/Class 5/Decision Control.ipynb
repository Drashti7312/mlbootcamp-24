{
 "cells": [
  {
   "cell_type": "markdown",
   "id": "8af8b9fe-e4ba-4754-a30c-fe5c65fe30b0",
   "metadata": {},
   "source": [
    "# Decision Flow"
   ]
  },
  {
   "cell_type": "code",
   "execution_count": 5,
   "id": "6c58ac90-7770-4516-a1cf-2942923e1dbc",
   "metadata": {
    "tags": []
   },
   "outputs": [],
   "source": [
    "def power(x):\n",
    "    print(x**2)"
   ]
  },
  {
   "cell_type": "code",
   "execution_count": 8,
   "id": "7f6f1f2b-4fd4-483e-badd-41b24b4794b5",
   "metadata": {
    "tags": []
   },
   "outputs": [
    {
     "name": "stdin",
     "output_type": "stream",
     "text": [
      "enter a number 1\n"
     ]
    }
   ],
   "source": [
    "val = int(input(\"enter a number\"))"
   ]
  },
  {
   "cell_type": "code",
   "execution_count": null,
   "id": "95e94be6-ffc8-4751-8fe1-741fd5222bbd",
   "metadata": {},
   "outputs": [],
   "source": []
  },
  {
   "cell_type": "code",
   "execution_count": null,
   "id": "0b75bd88-bf22-4082-bab3-ddf47ac2af8d",
   "metadata": {},
   "outputs": [],
   "source": [
    "power(2) ## always executed"
   ]
  },
  {
   "cell_type": "code",
   "execution_count": null,
   "id": "722d7a33-198b-4a72-869e-f9ffe85975d8",
   "metadata": {},
   "outputs": [],
   "source": [
    "# power(3) # not writing, not getting executed."
   ]
  },
  {
   "cell_type": "code",
   "execution_count": null,
   "id": "e2abfc4f-72f1-45dd-a646-957da1a3f4d4",
   "metadata": {},
   "outputs": [],
   "source": []
  },
  {
   "cell_type": "code",
   "execution_count": 12,
   "id": "1aec787b-4035-4793-94d0-982d277a4e4f",
   "metadata": {
    "tags": []
   },
   "outputs": [
    {
     "name": "stdout",
     "output_type": "stream",
     "text": [
      "49\n"
     ]
    }
   ],
   "source": [
    "ans =power(7)"
   ]
  },
  {
   "cell_type": "code",
   "execution_count": 15,
   "id": "bf588c0d-d156-499b-9820-11a85cc5e940",
   "metadata": {
    "tags": []
   },
   "outputs": [
    {
     "name": "stdin",
     "output_type": "stream",
     "text": [
      "enter a number 4\n"
     ]
    }
   ],
   "source": [
    "val = int(input(\"enter a number\"))"
   ]
  },
  {
   "cell_type": "code",
   "execution_count": null,
   "id": "208d7b05-bac2-415f-8457-41f98380e3c8",
   "metadata": {},
   "outputs": [],
   "source": []
  },
  {
   "cell_type": "code",
   "execution_count": 16,
   "id": "7c473f89-c1a7-4248-9c8f-10ce77f3d419",
   "metadata": {
    "tags": []
   },
   "outputs": [
    {
     "name": "stdout",
     "output_type": "stream",
     "text": [
      "25\n"
     ]
    }
   ],
   "source": [
    "ans = 0\n",
    "\n",
    "if val %2 ==0:\n",
    "    ans = power(5)\n",
    "else:\n",
    "    ans = power(10)\n",
    "\n",
    "ans"
   ]
  },
  {
   "cell_type": "code",
   "execution_count": null,
   "id": "704375b1-eb13-4ca6-a24e-c89be4ca5546",
   "metadata": {},
   "outputs": [],
   "source": []
  },
  {
   "cell_type": "code",
   "execution_count": null,
   "id": "d53cd47e-a70b-48e1-9e51-cd568452ffef",
   "metadata": {},
   "outputs": [],
   "source": []
  },
  {
   "cell_type": "markdown",
   "id": "b13b6948-d5af-408b-9497-a74b7ed5cc1b",
   "metadata": {},
   "source": [
    "# if statement"
   ]
  },
  {
   "cell_type": "code",
   "execution_count": 17,
   "id": "f81cf8fb-48b9-411e-be60-2b175d12baac",
   "metadata": {
    "tags": []
   },
   "outputs": [
    {
     "name": "stdout",
     "output_type": "stream",
     "text": [
      "Hello\n"
     ]
    }
   ],
   "source": [
    "if True:\n",
    "    print(\"Hello\")"
   ]
  },
  {
   "cell_type": "code",
   "execution_count": 18,
   "id": "90ac408d-81fe-4551-bf29-ab21cb84ee81",
   "metadata": {
    "tags": []
   },
   "outputs": [],
   "source": [
    "if False:\n",
    "    print(\"Hello\")"
   ]
  },
  {
   "cell_type": "code",
   "execution_count": 2,
   "id": "1b078ee3-1225-4176-9503-e2aa72ae729c",
   "metadata": {
    "tags": []
   },
   "outputs": [
    {
     "name": "stdout",
     "output_type": "stream",
     "text": [
      "Yo\n",
      "True False\n"
     ]
    }
   ],
   "source": [
    "if -1:\n",
    "    print(\"Yo\")\n",
    "    \n",
    "print(True,False)"
   ]
  },
  {
   "cell_type": "code",
   "execution_count": 22,
   "id": "d7569f17-8542-41fb-946d-e5de42997111",
   "metadata": {
    "tags": []
   },
   "outputs": [],
   "source": [
    "if 0 and None and 0.0 :\n",
    "    print(\"Yo\")"
   ]
  },
  {
   "cell_type": "code",
   "execution_count": 23,
   "id": "a09605da-6981-4120-9b9b-fba86bd45d7f",
   "metadata": {
    "tags": []
   },
   "outputs": [
    {
     "name": "stdout",
     "output_type": "stream",
     "text": [
      "Yo\n"
     ]
    }
   ],
   "source": [
    "if 1 or 0:\n",
    "    print(\"Yo\")"
   ]
  },
  {
   "cell_type": "code",
   "execution_count": 26,
   "id": "31bf27d6-7c17-433f-8ee5-8e506d594ec2",
   "metadata": {
    "tags": []
   },
   "outputs": [],
   "source": [
    "m = 5\n",
    "n= \"mayank\""
   ]
  },
  {
   "cell_type": "code",
   "execution_count": 28,
   "id": "bcc0c9b5-b04e-4e65-9032-facf2e840155",
   "metadata": {
    "tags": []
   },
   "outputs": [
    {
     "data": {
      "text/plain": [
       "5"
      ]
     },
     "execution_count": 28,
     "metadata": {},
     "output_type": "execute_result"
    }
   ],
   "source": [
    "m\n"
   ]
  },
  {
   "cell_type": "code",
   "execution_count": 31,
   "id": "1a9bcf8b-9d1f-4913-9076-646ba2bbb423",
   "metadata": {
    "tags": []
   },
   "outputs": [
    {
     "name": "stdout",
     "output_type": "stream",
     "text": [
      "i got a integer\n"
     ]
    }
   ],
   "source": [
    "if type(m) == int:\n",
    "    print(\"i got a integer\")"
   ]
  },
  {
   "cell_type": "code",
   "execution_count": 33,
   "id": "f477d089-43c2-4883-9e68-cacc07b4eeb3",
   "metadata": {
    "tags": []
   },
   "outputs": [
    {
     "name": "stdin",
     "output_type": "stream",
     "text": [
      "Enter a number 5\n"
     ]
    }
   ],
   "source": [
    "inp = input(\"Enter a number\")"
   ]
  },
  {
   "cell_type": "code",
   "execution_count": 35,
   "id": "99f6253f-cc15-4374-b18b-3ff2f3795b7f",
   "metadata": {
    "tags": []
   },
   "outputs": [
    {
     "data": {
      "text/plain": [
       "'5'"
      ]
     },
     "execution_count": 35,
     "metadata": {},
     "output_type": "execute_result"
    }
   ],
   "source": [
    "inp"
   ]
  },
  {
   "cell_type": "code",
   "execution_count": 36,
   "id": "b32ba47c-e358-43e9-9d43-ff01b714da39",
   "metadata": {
    "tags": []
   },
   "outputs": [
    {
     "data": {
      "text/plain": [
       "str"
      ]
     },
     "execution_count": 36,
     "metadata": {},
     "output_type": "execute_result"
    }
   ],
   "source": [
    "type(inp)"
   ]
  },
  {
   "cell_type": "code",
   "execution_count": 34,
   "id": "8a77e11e-01a1-4454-a89f-6e90613c5813",
   "metadata": {
    "tags": []
   },
   "outputs": [],
   "source": [
    "if type(inp) == int:\n",
    "    print (\"500\")"
   ]
  },
  {
   "cell_type": "code",
   "execution_count": 37,
   "id": "cada3cd6-0a3c-4c28-8719-2c0da123e2b5",
   "metadata": {
    "tags": []
   },
   "outputs": [
    {
     "name": "stdin",
     "output_type": "stream",
     "text": [
      "Enter a number 6\n"
     ]
    }
   ],
   "source": [
    "inp = int(input(\"Enter a number\"))"
   ]
  },
  {
   "cell_type": "code",
   "execution_count": 38,
   "id": "0a4f9780-3b47-4fec-b08f-c4c76c57f425",
   "metadata": {
    "tags": []
   },
   "outputs": [
    {
     "name": "stdout",
     "output_type": "stream",
     "text": [
      "500\n"
     ]
    }
   ],
   "source": [
    "if type(inp) == int:\n",
    "    print (\"500\")"
   ]
  },
  {
   "cell_type": "code",
   "execution_count": 39,
   "id": "8ce26208-5660-43fc-89c6-9d30895436e5",
   "metadata": {
    "tags": []
   },
   "outputs": [],
   "source": [
    " # WAP to check if input number from user is even"
   ]
  },
  {
   "cell_type": "code",
   "execution_count": 46,
   "id": "65e6345c-de0d-4be3-8023-573d222b63fa",
   "metadata": {
    "tags": []
   },
   "outputs": [
    {
     "name": "stdin",
     "output_type": "stream",
     "text": [
      " 4\n"
     ]
    }
   ],
   "source": [
    "num = int(input())"
   ]
  },
  {
   "cell_type": "code",
   "execution_count": 45,
   "id": "20c54c15-6316-4874-a741-29bfe9241946",
   "metadata": {
    "tags": []
   },
   "outputs": [
    {
     "name": "stdout",
     "output_type": "stream",
     "text": [
      "Odd\n"
     ]
    }
   ],
   "source": [
    "if num %2 ==0:\n",
    "    print(\"Even\")\n",
    "    \n",
    "if num %2 !=0:\n",
    "    print(\"Odd\")"
   ]
  },
  {
   "cell_type": "code",
   "execution_count": 47,
   "id": "7decf250-11d6-454b-a880-8622d675234f",
   "metadata": {
    "tags": []
   },
   "outputs": [
    {
     "name": "stdout",
     "output_type": "stream",
     "text": [
      "here\n",
      "Even\n",
      "here\n"
     ]
    }
   ],
   "source": [
    "if num %2 ==0:\n",
    "    print(\"here\")\n",
    "    print(\"Even\")\n",
    "\n",
    "print(\"here\")\n",
    "if num %2 !=0:\n",
    "    print(\"Odd\")"
   ]
  },
  {
   "cell_type": "code",
   "execution_count": null,
   "id": "95614298-3669-4156-ab4d-3e5a38c5295f",
   "metadata": {},
   "outputs": [],
   "source": []
  },
  {
   "cell_type": "code",
   "execution_count": 48,
   "id": "4301a268-f102-4639-955f-11e137009888",
   "metadata": {
    "tags": []
   },
   "outputs": [
    {
     "name": "stdin",
     "output_type": "stream",
     "text": [
      " 4\n"
     ]
    }
   ],
   "source": [
    "num = int(input())"
   ]
  },
  {
   "cell_type": "code",
   "execution_count": 52,
   "id": "360b526d-97d0-4cef-8704-b42f235a0ab0",
   "metadata": {
    "tags": []
   },
   "outputs": [
    {
     "name": "stdout",
     "output_type": "stream",
     "text": [
      "Even\n",
      "Odd\n"
     ]
    }
   ],
   "source": []
  },
  {
   "cell_type": "code",
   "execution_count": 51,
   "id": "879da427-0c57-494f-8319-4e78d3748de3",
   "metadata": {
    "tags": []
   },
   "outputs": [
    {
     "ename": "IndentationError",
     "evalue": "unexpected indent (2083519846.py, line 4)",
     "output_type": "error",
     "traceback": [
      "\u001b[0;36m  Cell \u001b[0;32mIn[51], line 4\u001b[0;36m\u001b[0m\n\u001b[0;31m    print(\"here\")\u001b[0m\n\u001b[0m    ^\u001b[0m\n\u001b[0;31mIndentationError\u001b[0m\u001b[0;31m:\u001b[0m unexpected indent\n"
     ]
    }
   ],
   "source": [
    "if num %2==0:\n",
    "    print(\"here\")\n",
    "print(\"Even\")\n",
    "    print(\"here\")\n",
    "else:\n",
    "    print(\"here\")\n",
    "    print(\"Odd\")"
   ]
  },
  {
   "cell_type": "code",
   "execution_count": null,
   "id": "f15515d0-e81b-480b-9db8-965f69c7a561",
   "metadata": {},
   "outputs": [],
   "source": []
  },
  {
   "cell_type": "code",
   "execution_count": null,
   "id": "63b8f1b2-1c41-4b32-ae32-e93524493c1c",
   "metadata": {},
   "outputs": [],
   "source": []
  },
  {
   "cell_type": "markdown",
   "id": "daa03cfa-5707-445c-a0ba-c137f746c435",
   "metadata": {},
   "source": [
    "# if elif else"
   ]
  },
  {
   "cell_type": "code",
   "execution_count": 58,
   "id": "14f47157-c956-4f1a-b6cf-9785a5382a17",
   "metadata": {
    "tags": []
   },
   "outputs": [
    {
     "name": "stdin",
     "output_type": "stream",
     "text": [
      " ga'\n"
     ]
    }
   ],
   "source": [
    "stringInput = input()"
   ]
  },
  {
   "cell_type": "code",
   "execution_count": 59,
   "id": "46f7fd60-b7e9-4fed-8867-f72ea7c96c33",
   "metadata": {
    "tags": []
   },
   "outputs": [
    {
     "name": "stdout",
     "output_type": "stream",
     "text": [
      "no fruit\n"
     ]
    }
   ],
   "source": [
    "if stringInput == \"apple\":\n",
    "    print(\"apple\")\n",
    "elif stringInput == \"orange\":\n",
    "    print(\"orange\")\n",
    "elif stringInput == \"banana\":\n",
    "    print(\"banana\")\n",
    "else:\n",
    "    print(\"no fruit\")"
   ]
  },
  {
   "cell_type": "code",
   "execution_count": null,
   "id": "c50d3903-f86d-402e-ae0e-02b347dc64ca",
   "metadata": {},
   "outputs": [],
   "source": []
  },
  {
   "cell_type": "markdown",
   "id": "a4b22794-b60a-48c0-bf60-6379d83ed678",
   "metadata": {},
   "source": [
    "# Nested if else"
   ]
  },
  {
   "cell_type": "code",
   "execution_count": null,
   "id": "dfd5e7ab-7937-409f-a285-cdb48e4b9a47",
   "metadata": {},
   "outputs": [],
   "source": []
  },
  {
   "cell_type": "code",
   "execution_count": null,
   "id": "c173be32-31e9-45bf-bca2-4c0f865ddd71",
   "metadata": {},
   "outputs": [],
   "source": [
    "# Previous Function\n",
    "def out2(stringInput,num):\n",
    "    if stringInput  == \"apple\":\n",
    "        if num == 2:\n",
    "            print(\"100\")\n",
    "        elif num == 3:\n",
    "            print (\"200\")\n",
    "    elif stringInput == \"orange\":\n",
    "        if num == 5:\n",
    "            print(\"500\")\n",
    "        elif num == 8:\n",
    "            print (\"600\")"
   ]
  },
  {
   "cell_type": "code",
   "execution_count": 72,
   "id": "34987d49-9e63-402a-8bac-9879338a22ed",
   "metadata": {
    "tags": []
   },
   "outputs": [],
   "source": [
    "def out(stringInput,num):\n",
    "    if stringInput  == \"apple\" :\n",
    "        if num == 2:\n",
    "            print(\"100\")\n",
    "        elif num == 3:\n",
    "            print (\"200\")\n",
    "    elif stringInput == \"orange\":\n",
    "        if num == 5:\n",
    "            print(\"500\")\n",
    "        elif num == 8:\n",
    "            print (\"600\")\n",
    "        else:\n",
    "            print(\"1000\")\n",
    "    else:\n",
    "        print(\"2000\")\n",
    "\n",
    "        "
   ]
  },
  {
   "cell_type": "code",
   "execution_count": 74,
   "id": "288bb0d1-bcc0-47d6-aada-e116268c3eee",
   "metadata": {
    "tags": []
   },
   "outputs": [
    {
     "name": "stdout",
     "output_type": "stream",
     "text": [
      "2000\n"
     ]
    }
   ],
   "source": [
    "out(\"dragonfruit\",9)"
   ]
  },
  {
   "cell_type": "code",
   "execution_count": 68,
   "id": "47afd665-8fd5-4530-959e-95af551a3bfb",
   "metadata": {
    "tags": []
   },
   "outputs": [
    {
     "name": "stdout",
     "output_type": "stream",
     "text": [
      "600\n"
     ]
    }
   ],
   "source": [
    "out2(\"orange\",8)"
   ]
  },
  {
   "cell_type": "code",
   "execution_count": 65,
   "id": "3a6108fc-9165-4df8-a435-b3fa5878131d",
   "metadata": {
    "tags": []
   },
   "outputs": [],
   "source": [
    "out2(\"orange\",\"5\")"
   ]
  },
  {
   "cell_type": "code",
   "execution_count": 62,
   "id": "70bd6e67-ad42-4b8a-a270-5e44cef7e441",
   "metadata": {
    "tags": []
   },
   "outputs": [
    {
     "name": "stdout",
     "output_type": "stream",
     "text": [
      "Everything OK\n"
     ]
    }
   ],
   "source": [
    "out2(\"apple\",2)"
   ]
  },
  {
   "cell_type": "code",
   "execution_count": 63,
   "id": "4c30b4ed-5146-4d9c-b521-df30cb8c2df5",
   "metadata": {
    "tags": []
   },
   "outputs": [
    {
     "name": "stdout",
     "output_type": "stream",
     "text": [
      "Still ok\n"
     ]
    }
   ],
   "source": [
    "out2(\"apple\",3)"
   ]
  },
  {
   "cell_type": "code",
   "execution_count": 64,
   "id": "1d6a9cc2-65d4-4025-9472-7b6573a58d13",
   "metadata": {
    "tags": []
   },
   "outputs": [],
   "source": [
    "out2(\"apple\",6)"
   ]
  },
  {
   "cell_type": "code",
   "execution_count": null,
   "id": "94e00283-e57f-43ea-85e0-d9c784175fce",
   "metadata": {},
   "outputs": [],
   "source": [
    "out2(\"orange\",\"5\")"
   ]
  },
  {
   "cell_type": "markdown",
   "id": "47e656af-7fdc-4f23-8e78-d0a5f0665651",
   "metadata": {},
   "source": [
    "# WAP = Write a program"
   ]
  },
  {
   "cell_type": "markdown",
   "id": "6540df65-ffa6-459b-843d-3f3fed297cf2",
   "metadata": {},
   "source": [
    "# WAP to accept 3 integers from the user and without using any logical operator and cascading of relational operators ( means combining of different operators i.e. you cannot say like this a >b>c or a>b and a>c) , find out the greatest number amongst them"
   ]
  },
  {
   "cell_type": "code",
   "execution_count": null,
   "id": "b6fa601a-5d51-4327-aa2d-2dca56886cc9",
   "metadata": {},
   "outputs": [],
   "source": []
  },
  {
   "cell_type": "code",
   "execution_count": null,
   "id": "8012cbbc-a5b1-4272-af4a-6f127abadb39",
   "metadata": {},
   "outputs": [],
   "source": []
  },
  {
   "cell_type": "code",
   "execution_count": null,
   "id": "65c633e6-669d-4f1a-a7f1-33ad076adf64",
   "metadata": {},
   "outputs": [],
   "source": []
  },
  {
   "cell_type": "markdown",
   "id": "b19f8812-d8af-46c0-a490-a6ad8baa89ca",
   "metadata": {
    "tags": []
   },
   "source": [
    "# WAP to accept an year from the user and check whether it is a leap year or not"
   ]
  }
 ],
 "metadata": {
  "kernelspec": {
   "display_name": "Python 3 (ipykernel)",
   "language": "python",
   "name": "python3"
  },
  "language_info": {
   "codemirror_mode": {
    "name": "ipython",
    "version": 3
   },
   "file_extension": ".py",
   "mimetype": "text/x-python",
   "name": "python",
   "nbconvert_exporter": "python",
   "pygments_lexer": "ipython3",
   "version": "3.11.5"
  }
 },
 "nbformat": 4,
 "nbformat_minor": 5
}
