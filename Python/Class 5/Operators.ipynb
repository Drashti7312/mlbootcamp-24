{
 "cells": [
  {
   "cell_type": "code",
   "execution_count": 1,
   "id": "17358579-2f51-49ff-8378-9533b3035975",
   "metadata": {
    "tags": []
   },
   "outputs": [
    {
     "data": {
      "text/plain": [
       "''"
      ]
     },
     "execution_count": 1,
     "metadata": {},
     "output_type": "execute_result"
    }
   ],
   "source": [
    "P=\"PYTHON\"\n",
    "P[2:2]"
   ]
  },
  {
   "cell_type": "markdown",
   "id": "7fd73d10-1c15-4990-bc18-1fcda7f7460f",
   "metadata": {},
   "source": [
    "# Assignment Operators"
   ]
  },
  {
   "cell_type": "code",
   "execution_count": 2,
   "id": "25f6f177-c945-494e-b4ff-053e038d347d",
   "metadata": {
    "tags": []
   },
   "outputs": [],
   "source": [
    "a = 10"
   ]
  },
  {
   "cell_type": "code",
   "execution_count": null,
   "id": "c972ca59-7123-4a95-8120-d35ca7501d18",
   "metadata": {},
   "outputs": [],
   "source": [
    "print(a)"
   ]
  },
  {
   "cell_type": "code",
   "execution_count": 5,
   "id": "69122e06-1e32-4d4c-b1fa-f22ea138f3e0",
   "metadata": {
    "tags": []
   },
   "outputs": [
    {
     "name": "stdout",
     "output_type": "stream",
     "text": [
      "10 20\n"
     ]
    }
   ],
   "source": [
    "a, b = 10 ,20\n",
    "print(a,b)"
   ]
  },
  {
   "cell_type": "code",
   "execution_count": 6,
   "id": "e093ea79-e888-4dd5-89de-5686e15db2cf",
   "metadata": {
    "tags": []
   },
   "outputs": [
    {
     "name": "stdout",
     "output_type": "stream",
     "text": [
      "40 40 40\n"
     ]
    }
   ],
   "source": [
    "a = b= c = 40\n",
    "print(a,b,c)"
   ]
  },
  {
   "cell_type": "code",
   "execution_count": 7,
   "id": "56433e9f-4f63-4d30-a752-c5e136758ea6",
   "metadata": {
    "tags": []
   },
   "outputs": [
    {
     "ename": "TypeError",
     "evalue": "cannot unpack non-iterable int object",
     "output_type": "error",
     "traceback": [
      "\u001b[0;31m---------------------------------------------------------------------------\u001b[0m",
      "\u001b[0;31mTypeError\u001b[0m                                 Traceback (most recent call last)",
      "Cell \u001b[0;32mIn[7], line 1\u001b[0m\n\u001b[0;32m----> 1\u001b[0m a,b \u001b[38;5;241m=\u001b[39m \u001b[38;5;241m10\u001b[39m\n",
      "\u001b[0;31mTypeError\u001b[0m: cannot unpack non-iterable int object"
     ]
    }
   ],
   "source": [
    "a,b = 10\n",
    "\n"
   ]
  },
  {
   "cell_type": "code",
   "execution_count": 9,
   "id": "040318af-638c-442e-9bfb-514d176a721c",
   "metadata": {
    "tags": []
   },
   "outputs": [],
   "source": [
    "a,b = 10,10"
   ]
  },
  {
   "cell_type": "code",
   "execution_count": 10,
   "id": "ee614897-6cd0-43ff-83f3-5f4d6187e194",
   "metadata": {
    "tags": []
   },
   "outputs": [],
   "source": [
    "a=b=10"
   ]
  },
  {
   "cell_type": "code",
   "execution_count": 11,
   "id": "2f8910a5-62c7-4089-86d2-8cf6c0115ca8",
   "metadata": {
    "tags": []
   },
   "outputs": [
    {
     "ename": "ValueError",
     "evalue": "too many values to unpack (expected 3)",
     "output_type": "error",
     "traceback": [
      "\u001b[0;31m---------------------------------------------------------------------------\u001b[0m",
      "\u001b[0;31mValueError\u001b[0m                                Traceback (most recent call last)",
      "Cell \u001b[0;32mIn[11], line 1\u001b[0m\n\u001b[0;32m----> 1\u001b[0m a,b,c \u001b[38;5;241m=\u001b[39m \u001b[38;5;241m10\u001b[39m,\u001b[38;5;241m20\u001b[39m,\u001b[38;5;241m30\u001b[39m,\u001b[38;5;241m40\u001b[39m\n",
      "\u001b[0;31mValueError\u001b[0m: too many values to unpack (expected 3)"
     ]
    }
   ],
   "source": [
    "a,b,c = 10,20,30,40"
   ]
  },
  {
   "cell_type": "code",
   "execution_count": null,
   "id": "6fa22a63-e41b-419c-9304-5ec9a11f3bdb",
   "metadata": {},
   "outputs": [],
   "source": []
  },
  {
   "cell_type": "markdown",
   "id": "4ec46df8-a950-4879-8b02-8a80c716a4ed",
   "metadata": {},
   "source": [
    "# Compound  Assignment Operators"
   ]
  },
  {
   "cell_type": "code",
   "execution_count": 12,
   "id": "ec01a6de-16f6-43c8-a97f-0ec6d4191f47",
   "metadata": {
    "tags": []
   },
   "outputs": [
    {
     "data": {
      "text/plain": [
       "15"
      ]
     },
     "execution_count": 12,
     "metadata": {},
     "output_type": "execute_result"
    }
   ],
   "source": [
    "x = 10\n",
    "x= x + 5\n",
    "x"
   ]
  },
  {
   "cell_type": "code",
   "execution_count": 22,
   "id": "136dff5b-9879-4428-b260-6000d825c668",
   "metadata": {
    "tags": []
   },
   "outputs": [
    {
     "data": {
      "text/plain": [
       "15"
      ]
     },
     "execution_count": 22,
     "metadata": {},
     "output_type": "execute_result"
    }
   ],
   "source": [
    "x = 10\n",
    "x+=5\n",
    "x"
   ]
  },
  {
   "cell_type": "code",
   "execution_count": 23,
   "id": "0f61144a-7bd2-4785-ae56-7665a61452d8",
   "metadata": {
    "tags": []
   },
   "outputs": [
    {
     "data": {
      "text/plain": [
       "150"
      ]
     },
     "execution_count": 23,
     "metadata": {},
     "output_type": "execute_result"
    }
   ],
   "source": [
    "x *= 10\n",
    "x"
   ]
  },
  {
   "cell_type": "code",
   "execution_count": 24,
   "id": "43bdcb7f-d001-4c48-84cd-1dd447c67550",
   "metadata": {
    "tags": []
   },
   "outputs": [
    {
     "data": {
      "text/plain": [
       "15.0"
      ]
     },
     "execution_count": 24,
     "metadata": {},
     "output_type": "execute_result"
    }
   ],
   "source": [
    "x /=10\n",
    "x"
   ]
  },
  {
   "cell_type": "code",
   "execution_count": 36,
   "id": "2470e295-ddba-4745-a3d8-bde917a013be",
   "metadata": {
    "tags": []
   },
   "outputs": [
    {
     "data": {
      "text/plain": [
       "10000"
      ]
     },
     "execution_count": 36,
     "metadata": {},
     "output_type": "execute_result"
    }
   ],
   "source": [
    "x**=2\n",
    "x"
   ]
  },
  {
   "cell_type": "code",
   "execution_count": 30,
   "id": "9c381d1e-2007-443b-a622-857a8369bc22",
   "metadata": {
    "tags": []
   },
   "outputs": [
    {
     "data": {
      "text/plain": [
       "1.0"
      ]
     },
     "execution_count": 30,
     "metadata": {},
     "output_type": "execute_result"
    }
   ],
   "source": [
    "x = x//9\n",
    "x"
   ]
  },
  {
   "cell_type": "code",
   "execution_count": 27,
   "id": "dedb5d0b-f4dc-4dac-9df3-13254eafcfbb",
   "metadata": {
    "tags": []
   },
   "outputs": [
    {
     "data": {
      "text/plain": [
       "9.0"
      ]
     },
     "execution_count": 27,
     "metadata": {},
     "output_type": "execute_result"
    }
   ],
   "source": [
    "x //= 5\n",
    "x"
   ]
  },
  {
   "cell_type": "code",
   "execution_count": null,
   "id": "942aa584-1bfb-4a1c-9025-783d1fbd3c12",
   "metadata": {},
   "outputs": [],
   "source": []
  },
  {
   "cell_type": "code",
   "execution_count": null,
   "id": "ef5d0983-c5c8-4d53-972b-90b940ffa186",
   "metadata": {},
   "outputs": [],
   "source": [
    "x = 15 \n",
    "x = x**2   # equal to x**=2\n"
   ]
  },
  {
   "cell_type": "code",
   "execution_count": null,
   "id": "c77c1d11-296e-4362-bb87-d824f57e4a29",
   "metadata": {},
   "outputs": [],
   "source": [
    "x = x//5  #  eqaul to x//=5"
   ]
  },
  {
   "cell_type": "code",
   "execution_count": null,
   "id": "466d8077-2a36-4611-abba-922c43df84a5",
   "metadata": {},
   "outputs": [],
   "source": []
  },
  {
   "cell_type": "code",
   "execution_count": null,
   "id": "e5950407-57f9-474c-90ed-65953f967a1b",
   "metadata": {},
   "outputs": [],
   "source": []
  },
  {
   "cell_type": "code",
   "execution_count": 33,
   "id": "e41c14a4-d366-4c9b-bfbb-b4d09aba876f",
   "metadata": {
    "tags": []
   },
   "outputs": [],
   "source": [
    "y=100"
   ]
  },
  {
   "cell_type": "code",
   "execution_count": 34,
   "id": "68766fc5-f35d-41f2-bd9f-1c3a2d6677d8",
   "metadata": {
    "tags": []
   },
   "outputs": [
    {
     "data": {
      "text/plain": [
       "10"
      ]
     },
     "execution_count": 34,
     "metadata": {},
     "output_type": "execute_result"
    }
   ],
   "source": [
    "y = y // 10 \n",
    "y"
   ]
  },
  {
   "cell_type": "code",
   "execution_count": 35,
   "id": "bae2a130-797a-4208-a9ec-17791ba8ca25",
   "metadata": {
    "tags": []
   },
   "outputs": [
    {
     "data": {
      "text/plain": [
       "10"
      ]
     },
     "execution_count": 35,
     "metadata": {},
     "output_type": "execute_result"
    }
   ],
   "source": [
    "y = 100\n",
    "\n",
    "y //=10\n",
    "y"
   ]
  },
  {
   "cell_type": "code",
   "execution_count": 37,
   "id": "f0aba60c-28dd-4285-82a3-2507a12c64e0",
   "metadata": {
    "tags": []
   },
   "outputs": [
    {
     "data": {
      "text/plain": [
       "4"
      ]
     },
     "execution_count": 37,
     "metadata": {},
     "output_type": "execute_result"
    }
   ],
   "source": [
    "z = 9\n",
    "\n",
    "z//2"
   ]
  },
  {
   "cell_type": "code",
   "execution_count": null,
   "id": "1903e099-bae1-4906-a646-90006fdc9cdf",
   "metadata": {},
   "outputs": [],
   "source": []
  },
  {
   "cell_type": "code",
   "execution_count": 42,
   "id": "483ee25b-3869-4485-98ed-c706919b3bd0",
   "metadata": {
    "tags": []
   },
   "outputs": [
    {
     "ename": "SyntaxError",
     "evalue": "invalid syntax (2223401972.py, line 3)",
     "output_type": "error",
     "traceback": [
      "\u001b[0;36m  Cell \u001b[0;32mIn[42], line 3\u001b[0;36m\u001b[0m\n\u001b[0;31m    c++\u001b[0m\n\u001b[0m       ^\u001b[0m\n\u001b[0;31mSyntaxError\u001b[0m\u001b[0;31m:\u001b[0m invalid syntax\n"
     ]
    }
   ],
   "source": [
    "c = 10\n",
    "\n",
    "c++"
   ]
  },
  {
   "cell_type": "code",
   "execution_count": 44,
   "id": "3f02f23c-eff7-46eb-bffe-b9ce9e5d07c5",
   "metadata": {
    "tags": []
   },
   "outputs": [
    {
     "data": {
      "text/plain": [
       "11"
      ]
     },
     "execution_count": 44,
     "metadata": {},
     "output_type": "execute_result"
    }
   ],
   "source": [
    "c = 10\n",
    "c+=1\n",
    "c"
   ]
  },
  {
   "cell_type": "code",
   "execution_count": 45,
   "id": "7c36bf44-c3d5-4b34-abb6-a30f2cd9d6bf",
   "metadata": {
    "tags": []
   },
   "outputs": [],
   "source": [
    "c+=c"
   ]
  },
  {
   "cell_type": "code",
   "execution_count": 46,
   "id": "43ca026f-2f85-4cdd-a11a-2f99452f1f0d",
   "metadata": {
    "tags": []
   },
   "outputs": [
    {
     "data": {
      "text/plain": [
       "22"
      ]
     },
     "execution_count": 46,
     "metadata": {},
     "output_type": "execute_result"
    }
   ],
   "source": [
    "c"
   ]
  },
  {
   "cell_type": "code",
   "execution_count": 48,
   "id": "77948262-23db-488a-ab71-e21de559afd5",
   "metadata": {
    "tags": []
   },
   "outputs": [],
   "source": [
    "m = 10"
   ]
  },
  {
   "cell_type": "code",
   "execution_count": 49,
   "id": "ac2ed056-6566-4e42-bb49-8e9e957c4be3",
   "metadata": {
    "tags": []
   },
   "outputs": [
    {
     "data": {
      "text/plain": [
       "10"
      ]
     },
     "execution_count": 49,
     "metadata": {},
     "output_type": "execute_result"
    }
   ],
   "source": [
    "++m"
   ]
  },
  {
   "cell_type": "code",
   "execution_count": 52,
   "id": "63a87743-e87e-4f0a-b04c-869b4ccc8942",
   "metadata": {
    "tags": []
   },
   "outputs": [
    {
     "data": {
      "text/plain": [
       "15"
      ]
     },
     "execution_count": 52,
     "metadata": {},
     "output_type": "execute_result"
    }
   ],
   "source": [
    "m++5"
   ]
  },
  {
   "cell_type": "code",
   "execution_count": 53,
   "id": "e459594f-7c77-4781-88ca-d4be7714a3f1",
   "metadata": {
    "tags": []
   },
   "outputs": [
    {
     "data": {
      "text/plain": [
       "10"
      ]
     },
     "execution_count": 53,
     "metadata": {},
     "output_type": "execute_result"
    }
   ],
   "source": [
    "m"
   ]
  },
  {
   "cell_type": "code",
   "execution_count": 50,
   "id": "302e6438-e303-4f9d-a28e-87aebfb1db74",
   "metadata": {
    "tags": []
   },
   "outputs": [],
   "source": [
    "n = -10"
   ]
  },
  {
   "cell_type": "code",
   "execution_count": 51,
   "id": "0f5213c3-cf5d-4ade-8acf-c579c6fa61f5",
   "metadata": {
    "tags": []
   },
   "outputs": [
    {
     "data": {
      "text/plain": [
       "10"
      ]
     },
     "execution_count": 51,
     "metadata": {},
     "output_type": "execute_result"
    }
   ],
   "source": [
    "-n"
   ]
  },
  {
   "cell_type": "code",
   "execution_count": null,
   "id": "84f61691-1243-4d39-951a-270a3f39d673",
   "metadata": {},
   "outputs": [],
   "source": []
  },
  {
   "cell_type": "code",
   "execution_count": 54,
   "id": "514978ca-7caa-441e-a2cf-abc076de69f7",
   "metadata": {
    "tags": []
   },
   "outputs": [
    {
     "data": {
      "text/plain": [
       "10"
      ]
     },
     "execution_count": 54,
     "metadata": {},
     "output_type": "execute_result"
    }
   ],
   "source": [
    "\n",
    "j = 10\n",
    "\n",
    "--j"
   ]
  },
  {
   "cell_type": "code",
   "execution_count": 55,
   "id": "15f7fab7-7496-4188-b4f4-80b56ba2173e",
   "metadata": {
    "tags": []
   },
   "outputs": [
    {
     "data": {
      "text/plain": [
       "10"
      ]
     },
     "execution_count": 55,
     "metadata": {},
     "output_type": "execute_result"
    }
   ],
   "source": [
    "j"
   ]
  },
  {
   "cell_type": "code",
   "execution_count": 56,
   "id": "ddf99e1e-f7ac-4830-a5ed-ef127b4f3981",
   "metadata": {
    "tags": []
   },
   "outputs": [
    {
     "data": {
      "text/plain": [
       "-10"
      ]
     },
     "execution_count": 56,
     "metadata": {},
     "output_type": "execute_result"
    }
   ],
   "source": [
    "---j"
   ]
  },
  {
   "cell_type": "code",
   "execution_count": 57,
   "id": "1905d5c7-5d6b-4322-9895-7407e58834ec",
   "metadata": {
    "tags": []
   },
   "outputs": [
    {
     "ename": "SyntaxError",
     "evalue": "invalid syntax (3082500953.py, line 1)",
     "output_type": "error",
     "traceback": [
      "\u001b[0;36m  Cell \u001b[0;32mIn[57], line 1\u001b[0;36m\u001b[0m\n\u001b[0;31m    j--\u001b[0m\n\u001b[0m       ^\u001b[0m\n\u001b[0;31mSyntaxError\u001b[0m\u001b[0;31m:\u001b[0m invalid syntax\n"
     ]
    }
   ],
   "source": [
    "j--"
   ]
  },
  {
   "cell_type": "code",
   "execution_count": 65,
   "id": "e137b223-d4d7-4b5b-b958-520ee0700db1",
   "metadata": {
    "tags": []
   },
   "outputs": [
    {
     "data": {
      "text/plain": [
       "10"
      ]
     },
     "execution_count": 65,
     "metadata": {},
     "output_type": "execute_result"
    }
   ],
   "source": [
    "j\n"
   ]
  },
  {
   "cell_type": "code",
   "execution_count": 66,
   "id": "8063376b-ebef-4e6d-befb-2e902570cfac",
   "metadata": {
    "tags": []
   },
   "outputs": [
    {
     "data": {
      "text/plain": [
       "5"
      ]
     },
     "execution_count": 66,
     "metadata": {},
     "output_type": "execute_result"
    }
   ],
   "source": [
    "j+-5"
   ]
  },
  {
   "cell_type": "code",
   "execution_count": 67,
   "id": "cf00b031-41e3-4274-a3ea-458cc9b49424",
   "metadata": {
    "tags": []
   },
   "outputs": [
    {
     "data": {
      "text/plain": [
       "10"
      ]
     },
     "execution_count": 67,
     "metadata": {},
     "output_type": "execute_result"
    }
   ],
   "source": [
    "j"
   ]
  },
  {
   "cell_type": "code",
   "execution_count": null,
   "id": "87ebcab1-fc40-497b-91f7-0b9973fde6b0",
   "metadata": {},
   "outputs": [],
   "source": [
    "# Have restarted kernel "
   ]
  },
  {
   "cell_type": "markdown",
   "id": "a28cb0f5-472d-492e-80f9-390b26de28c5",
   "metadata": {
    "tags": []
   },
   "source": [
    "# Identity Operators"
   ]
  },
  {
   "cell_type": "code",
   "execution_count": 1,
   "id": "2cadc0e8-820f-4881-af24-40b949d4b50c",
   "metadata": {
    "tags": []
   },
   "outputs": [
    {
     "data": {
      "text/plain": [
       "4339607032"
      ]
     },
     "execution_count": 1,
     "metadata": {},
     "output_type": "execute_result"
    }
   ],
   "source": [
    "a = 10 \n",
    "id(a)"
   ]
  },
  {
   "cell_type": "code",
   "execution_count": 2,
   "id": "64bad8d7-2f75-441d-a2a9-cfbfea69abb1",
   "metadata": {
    "tags": []
   },
   "outputs": [
    {
     "data": {
      "text/plain": [
       "4400508976"
      ]
     },
     "execution_count": 2,
     "metadata": {},
     "output_type": "execute_result"
    }
   ],
   "source": [
    "m = \"mayank\"\n",
    "id(m)"
   ]
  },
  {
   "cell_type": "code",
   "execution_count": 8,
   "id": "1ead4410-2a68-4178-824f-c02641df0b90",
   "metadata": {
    "tags": []
   },
   "outputs": [
    {
     "data": {
      "text/plain": [
       "4339606776"
      ]
     },
     "execution_count": 8,
     "metadata": {},
     "output_type": "execute_result"
    }
   ],
   "source": [
    "b =2 \n",
    "id(b)"
   ]
  },
  {
   "cell_type": "code",
   "execution_count": 9,
   "id": "bde5bdb3-3912-406f-8029-b61103e0c018",
   "metadata": {
    "tags": []
   },
   "outputs": [
    {
     "data": {
      "text/plain": [
       "4339606776"
      ]
     },
     "execution_count": 9,
     "metadata": {},
     "output_type": "execute_result"
    }
   ],
   "source": [
    "c =2\n",
    "id(c)"
   ]
  },
  {
   "cell_type": "code",
   "execution_count": 11,
   "id": "bcb81421-c8fb-4bc1-9f7d-cd09dd4dc431",
   "metadata": {
    "tags": []
   },
   "outputs": [
    {
     "data": {
      "text/plain": [
       "True"
      ]
     },
     "execution_count": 11,
     "metadata": {},
     "output_type": "execute_result"
    }
   ],
   "source": [
    "ans = b is c\n",
    "ans"
   ]
  },
  {
   "cell_type": "code",
   "execution_count": null,
   "id": "3db07633-66a7-43f0-9f57-8a53e63ec169",
   "metadata": {},
   "outputs": [],
   "source": []
  },
  {
   "cell_type": "code",
   "execution_count": null,
   "id": "4e4c0adc-2700-499e-ae96-e8df49e17031",
   "metadata": {},
   "outputs": [],
   "source": []
  },
  {
   "cell_type": "code",
   "execution_count": 5,
   "id": "e2a7915b-35ba-4aab-b5fb-997fe30bc138",
   "metadata": {
    "tags": []
   },
   "outputs": [
    {
     "data": {
      "text/plain": [
       "True"
      ]
     },
     "execution_count": 5,
     "metadata": {},
     "output_type": "execute_result"
    }
   ],
   "source": [
    "id(b) == id(c)"
   ]
  },
  {
   "cell_type": "code",
   "execution_count": 12,
   "id": "361bbe94-70d8-4f97-8460-81656549ab9b",
   "metadata": {
    "tags": []
   },
   "outputs": [
    {
     "data": {
      "text/plain": [
       "4339606808"
      ]
     },
     "execution_count": 12,
     "metadata": {},
     "output_type": "execute_result"
    }
   ],
   "source": [
    "c =3 \n",
    "id(c)"
   ]
  },
  {
   "cell_type": "code",
   "execution_count": 13,
   "id": "f9601d6b-124a-42ba-b0b0-4d0fdcc690a0",
   "metadata": {
    "tags": []
   },
   "outputs": [],
   "source": [
    "ans = b is c"
   ]
  },
  {
   "cell_type": "code",
   "execution_count": 7,
   "id": "ace734d9-6812-44b8-bfd2-07bb232a9c1b",
   "metadata": {
    "tags": []
   },
   "outputs": [
    {
     "data": {
      "text/plain": [
       "False"
      ]
     },
     "execution_count": 7,
     "metadata": {},
     "output_type": "execute_result"
    }
   ],
   "source": [
    "id(b) == id(c)"
   ]
  },
  {
   "cell_type": "code",
   "execution_count": 20,
   "id": "18ff4c31-56a6-4bb1-9798-9057ad816e02",
   "metadata": {
    "tags": []
   },
   "outputs": [],
   "source": [
    "a,b = [1e10,1e10]"
   ]
  },
  {
   "cell_type": "code",
   "execution_count": 21,
   "id": "ab4de7af-b847-446a-98dd-e4852afb8408",
   "metadata": {
    "tags": []
   },
   "outputs": [
    {
     "data": {
      "text/plain": [
       "4400039120"
      ]
     },
     "execution_count": 21,
     "metadata": {},
     "output_type": "execute_result"
    }
   ],
   "source": [
    "id(a)"
   ]
  },
  {
   "cell_type": "code",
   "execution_count": 22,
   "id": "d6d1c159-131b-4b13-8d68-6ab3f41527d5",
   "metadata": {
    "tags": []
   },
   "outputs": [
    {
     "data": {
      "text/plain": [
       "4400039120"
      ]
     },
     "execution_count": 22,
     "metadata": {},
     "output_type": "execute_result"
    }
   ],
   "source": [
    "id(b)"
   ]
  },
  {
   "cell_type": "code",
   "execution_count": 24,
   "id": "73e4aa6b-5496-42a9-aabc-e7b0ba6766fb",
   "metadata": {
    "tags": []
   },
   "outputs": [
    {
     "data": {
      "text/plain": [
       "False"
      ]
     },
     "execution_count": 24,
     "metadata": {},
     "output_type": "execute_result"
    }
   ],
   "source": [
    "a ,b =2,3 \n",
    "a is b"
   ]
  },
  {
   "cell_type": "code",
   "execution_count": 25,
   "id": "077d5401-cfe5-4de0-ae32-f410d4f71541",
   "metadata": {
    "tags": []
   },
   "outputs": [
    {
     "data": {
      "text/plain": [
       "True"
      ]
     },
     "execution_count": 25,
     "metadata": {},
     "output_type": "execute_result"
    }
   ],
   "source": [
    "m=2\n",
    "n=2 \n",
    "m is n"
   ]
  },
  {
   "cell_type": "code",
   "execution_count": 27,
   "id": "6b0e9eb7-d8e5-42a3-bfd5-06d936c028c7",
   "metadata": {
    "tags": []
   },
   "outputs": [
    {
     "data": {
      "text/plain": [
       "4339606776"
      ]
     },
     "execution_count": 27,
     "metadata": {},
     "output_type": "execute_result"
    }
   ],
   "source": [
    "id(m)"
   ]
  },
  {
   "cell_type": "code",
   "execution_count": 28,
   "id": "5ad9f57c-6cb4-4be6-9113-b579b68cdc9c",
   "metadata": {
    "tags": []
   },
   "outputs": [
    {
     "data": {
      "text/plain": [
       "4339606776"
      ]
     },
     "execution_count": 28,
     "metadata": {},
     "output_type": "execute_result"
    }
   ],
   "source": [
    "id(n)"
   ]
  },
  {
   "cell_type": "code",
   "execution_count": 29,
   "id": "c5694799-e5b4-416b-ac4e-6f893f1fa410",
   "metadata": {
    "tags": []
   },
   "outputs": [],
   "source": [
    "n = 6"
   ]
  },
  {
   "cell_type": "code",
   "execution_count": 30,
   "id": "4bfa7f2e-1b97-4c14-a163-449688f09a59",
   "metadata": {
    "tags": []
   },
   "outputs": [
    {
     "data": {
      "text/plain": [
       "4339606904"
      ]
     },
     "execution_count": 30,
     "metadata": {},
     "output_type": "execute_result"
    }
   ],
   "source": [
    "id(n)"
   ]
  },
  {
   "cell_type": "code",
   "execution_count": 26,
   "id": "0c567970-835e-4c3b-b5cb-002ac10b90c1",
   "metadata": {
    "tags": []
   },
   "outputs": [
    {
     "data": {
      "text/plain": [
       "False"
      ]
     },
     "execution_count": 26,
     "metadata": {},
     "output_type": "execute_result"
    }
   ],
   "source": [
    "x = 2\n",
    "\n",
    "type(x) is float"
   ]
  },
  {
   "cell_type": "code",
   "execution_count": 31,
   "id": "dd75ea3c-88de-4e90-961d-e28fd203d505",
   "metadata": {
    "tags": []
   },
   "outputs": [
    {
     "data": {
      "text/plain": [
       "True"
      ]
     },
     "execution_count": 31,
     "metadata": {},
     "output_type": "execute_result"
    }
   ],
   "source": [
    "s1 = 'BLR'\n",
    "s2 = 'blr'\n",
    "\n",
    "s1 is not s2"
   ]
  },
  {
   "cell_type": "code",
   "execution_count": 32,
   "id": "17d138e5-e83e-48ac-921a-097199384c5a",
   "metadata": {
    "tags": []
   },
   "outputs": [
    {
     "data": {
      "text/plain": [
       "False"
      ]
     },
     "execution_count": 32,
     "metadata": {},
     "output_type": "execute_result"
    }
   ],
   "source": [
    "s3 = 'BLR'\n",
    "\n",
    "s1 is not s3"
   ]
  },
  {
   "cell_type": "code",
   "execution_count": 33,
   "id": "26c5c52d-96bb-44fe-85d2-e0a89496ad2d",
   "metadata": {
    "tags": []
   },
   "outputs": [
    {
     "data": {
      "text/plain": [
       "True"
      ]
     },
     "execution_count": 33,
     "metadata": {},
     "output_type": "execute_result"
    }
   ],
   "source": [
    "type(s1) is str"
   ]
  },
  {
   "cell_type": "code",
   "execution_count": 34,
   "id": "a83eb92e-4b95-4864-b3fa-764b1c13ceae",
   "metadata": {
    "tags": []
   },
   "outputs": [
    {
     "data": {
      "text/plain": [
       "False"
      ]
     },
     "execution_count": 34,
     "metadata": {},
     "output_type": "execute_result"
    }
   ],
   "source": [
    "s4 = 'BL R'\n",
    "\n",
    "s1 is s4"
   ]
  },
  {
   "cell_type": "code",
   "execution_count": 1,
   "id": "3b6e0248-35a4-4711-9ea5-58b8051b3ccc",
   "metadata": {
    "tags": []
   },
   "outputs": [],
   "source": [
    "# kerner restarted\n"
   ]
  },
  {
   "cell_type": "markdown",
   "id": "b013f6b0-2b1e-442e-bc98-bb9e81397106",
   "metadata": {},
   "source": [
    "# Membership Operators\n",
    "\n",
    "# in and not in"
   ]
  },
  {
   "cell_type": "code",
   "execution_count": 2,
   "id": "00f3eda6-bfd7-4fab-a488-e7cf43ec1c86",
   "metadata": {
    "tags": []
   },
   "outputs": [],
   "source": [
    "m = \"mayank\"\n",
    "\n",
    "a = \"a\""
   ]
  },
  {
   "cell_type": "code",
   "execution_count": 3,
   "id": "404df1c6-8bdd-4d43-acc4-ad33472544f4",
   "metadata": {
    "tags": []
   },
   "outputs": [
    {
     "data": {
      "text/plain": [
       "True"
      ]
     },
     "execution_count": 3,
     "metadata": {},
     "output_type": "execute_result"
    }
   ],
   "source": [
    "a in m"
   ]
  },
  {
   "cell_type": "code",
   "execution_count": 4,
   "id": "b51f7443-4725-4414-abe6-dc21e89e3426",
   "metadata": {
    "tags": []
   },
   "outputs": [
    {
     "data": {
      "text/plain": [
       "False"
      ]
     },
     "execution_count": 4,
     "metadata": {},
     "output_type": "execute_result"
    }
   ],
   "source": [
    "\"i\" in m"
   ]
  },
  {
   "cell_type": "code",
   "execution_count": 5,
   "id": "e7b84534-5431-49b6-aab4-3f0e37ddc255",
   "metadata": {
    "tags": []
   },
   "outputs": [
    {
     "data": {
      "text/plain": [
       "True"
      ]
     },
     "execution_count": 5,
     "metadata": {},
     "output_type": "execute_result"
    }
   ],
   "source": [
    "\"\" in m"
   ]
  },
  {
   "cell_type": "code",
   "execution_count": 6,
   "id": "53e71b08-6544-4850-b679-3d21359e6b4b",
   "metadata": {
    "tags": []
   },
   "outputs": [
    {
     "data": {
      "text/plain": [
       "False"
      ]
     },
     "execution_count": 6,
     "metadata": {},
     "output_type": "execute_result"
    }
   ],
   "source": [
    "\" \" in m"
   ]
  },
  {
   "cell_type": "code",
   "execution_count": 7,
   "id": "6b0bc33e-2e3a-42fd-9324-20f0d14951de",
   "metadata": {
    "tags": []
   },
   "outputs": [
    {
     "data": {
      "text/plain": [
       "True"
      ]
     },
     "execution_count": 7,
     "metadata": {},
     "output_type": "execute_result"
    }
   ],
   "source": [
    "\"ay\" in m"
   ]
  },
  {
   "cell_type": "code",
   "execution_count": 8,
   "id": "dc5c52f2-71dd-40f8-962e-ff5e580d909b",
   "metadata": {
    "tags": []
   },
   "outputs": [],
   "source": [
    "primes = [2,3,5,7,11]"
   ]
  },
  {
   "cell_type": "code",
   "execution_count": 9,
   "id": "d69d6cfc-b52e-4f64-a901-46109c446162",
   "metadata": {
    "tags": []
   },
   "outputs": [
    {
     "data": {
      "text/plain": [
       "True"
      ]
     },
     "execution_count": 9,
     "metadata": {},
     "output_type": "execute_result"
    }
   ],
   "source": [
    "3 in primes"
   ]
  },
  {
   "cell_type": "code",
   "execution_count": 12,
   "id": "551f9d9a-1522-41bf-b951-f4d647f11c5a",
   "metadata": {
    "tags": []
   },
   "outputs": [
    {
     "data": {
      "text/plain": [
       "False"
      ]
     },
     "execution_count": 12,
     "metadata": {},
     "output_type": "execute_result"
    }
   ],
   "source": [
    "0  in primes"
   ]
  },
  {
   "cell_type": "code",
   "execution_count": 14,
   "id": "7abe36d6-c564-43c9-98a6-d3c110d03980",
   "metadata": {
    "tags": []
   },
   "outputs": [
    {
     "data": {
      "text/plain": [
       "False"
      ]
     },
     "execution_count": 14,
     "metadata": {},
     "output_type": "execute_result"
    }
   ],
   "source": [
    "[2,3] in primes"
   ]
  },
  {
   "cell_type": "code",
   "execution_count": 17,
   "id": "92a6e99b-6944-448f-8c8a-24788d4f9f3f",
   "metadata": {
    "tags": []
   },
   "outputs": [],
   "source": [
    "a = 2 \n",
    "b=3\n",
    "c=4\n",
    "d=5\n",
    "e=6\n",
    "\n",
    "a=b+c\n",
    "d=a+e\n"
   ]
  },
  {
   "cell_type": "code",
   "execution_count": 18,
   "id": "26ff1cca-63ea-4a7b-9494-3a9d4e1a270c",
   "metadata": {
    "tags": []
   },
   "outputs": [
    {
     "data": {
      "text/plain": [
       "3"
      ]
     },
     "execution_count": 18,
     "metadata": {},
     "output_type": "execute_result"
    }
   ],
   "source": [
    "b\n"
   ]
  },
  {
   "cell_type": "code",
   "execution_count": 19,
   "id": "793ebcf1-da88-40df-84b6-006f257e6305",
   "metadata": {
    "tags": []
   },
   "outputs": [
    {
     "data": {
      "text/plain": [
       "13"
      ]
     },
     "execution_count": 19,
     "metadata": {},
     "output_type": "execute_result"
    }
   ],
   "source": [
    "d"
   ]
  },
  {
   "cell_type": "code",
   "execution_count": 20,
   "id": "e3dbad8b-aaa8-47b4-b8f9-0d2d9590e024",
   "metadata": {
    "tags": []
   },
   "outputs": [
    {
     "ename": "TypeError",
     "evalue": "argument of type 'int' is not iterable",
     "output_type": "error",
     "traceback": [
      "\u001b[0;31m---------------------------------------------------------------------------\u001b[0m",
      "\u001b[0;31mTypeError\u001b[0m                                 Traceback (most recent call last)",
      "Cell \u001b[0;32mIn[20], line 1\u001b[0m\n\u001b[0;32m----> 1\u001b[0m b \u001b[38;5;129;01min\u001b[39;00m d\n",
      "\u001b[0;31mTypeError\u001b[0m: argument of type 'int' is not iterable"
     ]
    }
   ],
   "source": [
    "b in d"
   ]
  },
  {
   "cell_type": "code",
   "execution_count": null,
   "id": "d9204328-b69d-4eaa-a3fe-8781d40eae23",
   "metadata": {},
   "outputs": [],
   "source": []
  },
  {
   "cell_type": "code",
   "execution_count": null,
   "id": "c8d87c7d-9f5e-4ef8-b5d8-b1098237151e",
   "metadata": {},
   "outputs": [],
   "source": []
  },
  {
   "cell_type": "code",
   "execution_count": 21,
   "id": "6b2171b4-0b6a-4aa0-995a-d3af643a5172",
   "metadata": {
    "tags": []
   },
   "outputs": [],
   "source": [
    "m = [2,6,7,9,[2,6]]\n",
    " # [2,6] in m, why this is give false even subset within list\n",
    "    \n",
    "    ## bag in bag analogy for intuition"
   ]
  },
  {
   "cell_type": "code",
   "execution_count": 22,
   "id": "04ebf330-df6b-4024-a854-f6f8a5184a13",
   "metadata": {
    "tags": []
   },
   "outputs": [
    {
     "data": {
      "text/plain": [
       "True"
      ]
     },
     "execution_count": 22,
     "metadata": {},
     "output_type": "execute_result"
    }
   ],
   "source": [
    "[2,6] in m"
   ]
  },
  {
   "cell_type": "code",
   "execution_count": 23,
   "id": "7528f4cf-6b46-43f9-b21a-32e22681d490",
   "metadata": {
    "tags": []
   },
   "outputs": [
    {
     "data": {
      "text/plain": [
       "1.0"
      ]
     },
     "execution_count": 23,
     "metadata": {},
     "output_type": "execute_result"
    }
   ],
   "source": [
    "ans = 25/(2+3)**2\n",
    "ans"
   ]
  },
  {
   "cell_type": "code",
   "execution_count": 24,
   "id": "49539bc0-2269-41ce-b7a8-63eeb1d97c13",
   "metadata": {
    "tags": []
   },
   "outputs": [
    {
     "data": {
      "text/plain": [
       "512"
      ]
     },
     "execution_count": 24,
     "metadata": {},
     "output_type": "execute_result"
    }
   ],
   "source": [
    "2 ** 3 ** 2"
   ]
  },
  {
   "cell_type": "code",
   "execution_count": null,
   "id": "7ad6e80c-a2eb-469a-bc5d-3cd052d228b4",
   "metadata": {},
   "outputs": [],
   "source": []
  },
  {
   "cell_type": "code",
   "execution_count": null,
   "id": "93c803f3-57c0-4790-897d-d8a3c379ec9d",
   "metadata": {},
   "outputs": [],
   "source": []
  },
  {
   "cell_type": "code",
   "execution_count": null,
   "id": "72555928-c9b7-44e5-956f-575532cfa3d3",
   "metadata": {},
   "outputs": [],
   "source": []
  },
  {
   "cell_type": "code",
   "execution_count": null,
   "id": "3241366f-a450-4317-99b0-7103f4eb59e2",
   "metadata": {},
   "outputs": [],
   "source": []
  }
 ],
 "metadata": {
  "kernelspec": {
   "display_name": "Python 3 (ipykernel)",
   "language": "python",
   "name": "python3"
  },
  "language_info": {
   "codemirror_mode": {
    "name": "ipython",
    "version": 3
   },
   "file_extension": ".py",
   "mimetype": "text/x-python",
   "name": "python",
   "nbconvert_exporter": "python",
   "pygments_lexer": "ipython3",
   "version": "3.11.7"
  }
 },
 "nbformat": 4,
 "nbformat_minor": 5
}
